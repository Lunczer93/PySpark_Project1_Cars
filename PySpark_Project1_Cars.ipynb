{
 "cells": [
  {
   "cell_type": "markdown",
   "id": "bc409204",
   "metadata": {},
   "source": [
    "# Starting Spark Session"
   ]
  },
  {
   "cell_type": "code",
   "execution_count": 52,
   "id": "232b9ea2",
   "metadata": {},
   "outputs": [],
   "source": [
    "from pyspark.sql import SparkSession\n",
    "from pyspark.sql.functions import isnan, when, count, col\n",
    "from pyspark.sql.types import IntegerType,BooleanType,DateType\n"
   ]
  },
  {
   "cell_type": "markdown",
   "id": "4bea6681",
   "metadata": {},
   "source": [
    "# Creating a Spark Session called Cars"
   ]
  },
  {
   "cell_type": "code",
   "execution_count": 2,
   "id": "274fc1ff",
   "metadata": {},
   "outputs": [],
   "source": [
    "spark = SparkSession.builder.appName('Cars').getOrCreate()"
   ]
  },
  {
   "cell_type": "code",
   "execution_count": 3,
   "id": "7870a30a",
   "metadata": {},
   "outputs": [
    {
     "data": {
      "text/html": [
       "\n",
       "            <div>\n",
       "                <p><b>SparkSession - in-memory</b></p>\n",
       "                \n",
       "        <div>\n",
       "            <p><b>SparkContext</b></p>\n",
       "\n",
       "            <p><a href=\"http://192.168.0.10:4040\">Spark UI</a></p>\n",
       "\n",
       "            <dl>\n",
       "              <dt>Version</dt>\n",
       "                <dd><code>v3.3.2</code></dd>\n",
       "              <dt>Master</dt>\n",
       "                <dd><code>local[*]</code></dd>\n",
       "              <dt>AppName</dt>\n",
       "                <dd><code>Cars</code></dd>\n",
       "            </dl>\n",
       "        </div>\n",
       "        \n",
       "            </div>\n",
       "        "
      ],
      "text/plain": [
       "<pyspark.sql.session.SparkSession at 0x1c5df6236a0>"
      ]
     },
     "execution_count": 3,
     "metadata": {},
     "output_type": "execute_result"
    }
   ],
   "source": [
    "spark"
   ]
  },
  {
   "cell_type": "markdown",
   "id": "9bac865e",
   "metadata": {},
   "source": [
    "# Reading a file of CSV format into Spark DataFrame"
   ]
  },
  {
   "cell_type": "code",
   "execution_count": 4,
   "id": "cba98e69",
   "metadata": {},
   "outputs": [],
   "source": [
    "pathArgCars = r'D:\\My commercial projects\\PySpark\\Project 1 PySpark\\Car Prices\\argentina_cars.csv'\n",
    "pathNigCars = r'D:\\My commercial projects\\PySpark\\Project 1 PySpark\\Car Prices\\nigerian_cars.csv'\n",
    "pathPolCars = r'D:\\My commercial projects\\PySpark\\Project 1 PySpark\\Car Prices\\poland_cars.csv'\n",
    "pathUsaCars = r'D:\\My commercial projects\\PySpark\\Project 1 PySpark\\Car Prices\\usa_cars.csv'"
   ]
  },
  {
   "cell_type": "code",
   "execution_count": 5,
   "id": "77944045",
   "metadata": {},
   "outputs": [],
   "source": [
    "df_pyspark_arg =spark.read.csv(pathArgCars,header=True,inferSchema=True)\n",
    "df_pyspark_nig =  spark.read.csv(pathNigCars,header=True,inferSchema=True)\n",
    "df_pyspark_pol = spark.read.csv(pathPolCars,header=True,inferSchema=True)\n",
    "df_pyspark_usa = spark.read.csv(pathUsaCars,header=True,inferSchema=True)"
   ]
  },
  {
   "cell_type": "code",
   "execution_count": 6,
   "id": "5cb26d87",
   "metadata": {},
   "outputs": [
    {
     "name": "stdout",
     "output_type": "stream",
     "text": [
      "+--------+-------------+-------------+----+-----------+---------+----+----------+-------------+---------+----------+--------+\n",
      "|   money|        brand|        model|year|      color|fuel_type|door|      gear|        motor|body_type|kilometres|currency|\n",
      "+--------+-------------+-------------+----+-----------+---------+----+----------+-------------+---------+----------+--------+\n",
      "|10350000|       Toyota|Corolla Cross|2022|   Plateado|    Nafta| 5.0|Automática|         null|      SUV|       500|   pesos|\n",
      "|10850000|         Jeep|      Compass|2022|     Blanco|    Nafta| 5.0|Automática|          2.4|      SUV|       500|   pesos|\n",
      "|   35500|         Jeep|      Compass|2022|Gris oscuro|    Nafta| 5.0|Automática|          2.4|      SUV|       500| dólares|\n",
      "|   19000|      Citroën|    C4 Cactus|2022|Gris oscuro|    Nafta| 5.0|Automática|         null|      SUV|       550| dólares|\n",
      "| 5800000|       Toyota|      Corolla|2019|       Gris|    Nafta| 4.0|    Manual|          1.8|    Sedán|      9000|   pesos|\n",
      "|   34500|         Jeep|      Compass|2022|      Negro|    Nafta| 5.0|Automática|          1.3|      SUV|     10500| dólares|\n",
      "|   25000|          Kia|      Sorento|2014|      Negro|   Diésel| 5.0|Automática|          2.2|      SUV|    156000| dólares|\n",
      "|   12300|Mercedes-Benz|      Clase C|2008|   Plateado|    Nafta| 4.0|Automática|          1.8|    Sedán|    174000| dólares|\n",
      "|   35500|          BMW|          220|2016|     Blanco|    Nafta| 2.0|Automática|        TURBO|    Coupé|     66000| dólares|\n",
      "| 6800000|   Volkswagen|      T-Cross|2019|    Naranja|    Nafta| 5.0|Automática|1.6 MSI Nafta|      SUV|     35000|   pesos|\n",
      "|   38500|Mercedes-Benz|      Clase A|2017|   Plateado|    Nafta| 5.0|Automática|            3|Hatchback|     55394| dólares|\n",
      "|   20500|Mercedes-Benz|      Clase A|2013|     Blanco|    Nafta| 5.0|    Manual|          1.6|Hatchback|    162080| dólares|\n",
      "| 3500000|      Renault|      Sandero|2022|   Plateado|    Nafta| 5.0|    Manual|         null|    Sedán|    111111|   pesos|\n",
      "| 5990000|   Volkswagen|         Polo|2022|     Blanco|    Nafta| 5.0|    Manual|          1.6|Hatchback|    111111|   pesos|\n",
      "|   41900|          BMW|      Serie 1|2020|      Negro|    Nafta| 5.0|Automática|         null|Hatchback|     34800| dólares|\n",
      "| 2100000|         Ford|     Ecosport|2011|      Beige|    Nafta| 4.0|    Manual|          1.6|      SUV|    101000|   pesos|\n",
      "|   38500|    Chevrolet|  Trailblazer|2019|       Gris|   Diésel| 5.0|Automática|         null|      SUV|     73000| dólares|\n",
      "| 2940000|       Toyota|        Etios|2015|     Blanco|    Nafta| 5.0|    Manual|          1.5|Hatchback|     83000|   pesos|\n",
      "| 2050000|      Renault|         Clio|2014|       Gris|    Nafta| 5.0|    Manual|          1.2|Hatchback|     99000|   pesos|\n",
      "| 4120000|       Toyota|         RAV4|2011|       Gris|    Nafta| 5.0|Automática|          2.4|      SUV|    180000|   pesos|\n",
      "+--------+-------------+-------------+----+-----------+---------+----+----------+-------------+---------+----------+--------+\n",
      "only showing top 20 rows\n",
      "\n"
     ]
    }
   ],
   "source": [
    "df_pyspark_arg.show()"
   ]
  },
  {
   "cell_type": "code",
   "execution_count": 7,
   "id": "6aeecc31",
   "metadata": {},
   "outputs": [
    {
     "name": "stdout",
     "output_type": "stream",
     "text": [
      "+---+-------------+-------------------+-------------+-------+-----------+------+------------+----------+-----+\n",
      "|_c0|         Make|Year of manufacture|    Condition|Mileage|Engine Size|  Fuel|Transmission|     Price|Build|\n",
      "+---+-------------+-------------------+-------------+-------+-----------+------+------------+----------+-----+\n",
      "|  0|       Toyota|               2007|Nigerian Used| 166418|       2400|Petrol|   Automatic| 3,120,000| null|\n",
      "|  1|        Lexus|               null|         null| 138024|       null|  null|   Automatic| 5,834,000| null|\n",
      "|  2|Mercedes-Benz|               2008|Nigerian Used| 376807|       3000|Petrol|   Automatic| 3,640,000| null|\n",
      "|  3|        Lexus|               null|         null| 213362|       null|  null|   Automatic| 3,594,000| null|\n",
      "|  4|Mercedes-Benz|               null|         null| 106199|       null|  null|   Automatic| 8,410,000| null|\n",
      "|  5|Mercedes-Benz|               null|         null|  87660|       null|  null|   Automatic| 5,554,000| null|\n",
      "|  6|        Lexus|               null|         null| 191411|       null|  null|   Automatic| 3,706,000| null|\n",
      "|  7|        Lexus|               null|         null|  59092|       null|  null|   Automatic| 8,410,000| null|\n",
      "|  8|Mercedes-Benz|               null|         null|  89423|       null|  null|   Automatic| 6,506,000| null|\n",
      "|  9|        Lexus|               null|         null| 184827|       null|  null|   Automatic| 4,000,000| null|\n",
      "| 10|        Lexus|               null|         null|  42433|       null|  null|   Automatic| 8,970,000| null|\n",
      "| 11|        Lexus|               null|         null| 116138|       null|  null|   Automatic| 3,034,000| null|\n",
      "| 12|        Lexus|               null|         null| 167583|       null|  null|   Automatic| 3,818,000| null|\n",
      "| 13|        Lexus|               null|         null| 240934|       null|  null|   Automatic| 3,930,000| null|\n",
      "| 14|         Fiat|               null|         null|    114|       null|  null|   Automatic| 8,500,000| null|\n",
      "| 15|         Fiat|               null|         null|     54|       null|  null|      Manual|12,500,000| null|\n",
      "| 16|        Lexus|               null|         null|  79740|       null|  null|   Automatic| 5,274,000| null|\n",
      "| 17|Mercedes-Benz|               null|         null| 338145|       null|  null|   Automatic| 8,060,000| null|\n",
      "| 18|        Lexus|               null|         null| 174545|       null|  null|   Automatic| 6,506,000| null|\n",
      "| 19|   Land Rover|               null|         null|  63296|       null|  null|   Automatic| 6,910,000| null|\n",
      "+---+-------------+-------------------+-------------+-------+-----------+------+------------+----------+-----+\n",
      "only showing top 20 rows\n",
      "\n"
     ]
    }
   ],
   "source": [
    "df_pyspark_nig.show()"
   ]
  },
  {
   "cell_type": "code",
   "execution_count": 8,
   "id": "43cacdbc",
   "metadata": {},
   "outputs": [
    {
     "name": "stdout",
     "output_type": "stream",
     "text": [
      "+---+----+-----+---------------+----+-------+----------+------+---------------+-------------------+-----+\n",
      "|_c0|mark|model|generation_name|year|mileage|vol_engine|  fuel|           city|           province|price|\n",
      "+---+----+-----+---------------+----+-------+----------+------+---------------+-------------------+-----+\n",
      "|  0|opel|combo|     gen-d-2011|2015| 139568|      1248|Diesel|          Janki|        Mazowieckie|35900|\n",
      "|  1|opel|combo|     gen-d-2011|2018|  31991|      1499|Diesel|       Katowice|            Śląskie|78501|\n",
      "|  2|opel|combo|     gen-d-2011|2015| 278437|      1598|Diesel|          Brzeg|           Opolskie|27000|\n",
      "|  3|opel|combo|     gen-d-2011|2016|  47600|      1248|Diesel|      Korfantów|           Opolskie|30800|\n",
      "|  4|opel|combo|     gen-d-2011|2014| 103000|      1400|   CNG|Tarnowskie Góry|            Śląskie|35900|\n",
      "|  5|opel|combo|     gen-d-2011|2017| 121203|      1598|Diesel|       Warszawa|        Mazowieckie|51900|\n",
      "|  6|opel|combo|     gen-d-2011|2017| 119965|      1248|Diesel|        Wrocław|       Dolnośląskie|44700|\n",
      "|  7|opel|combo|     gen-d-2011|2016| 201658|      1248|Diesel|         Lublin|          Lubelskie|29000|\n",
      "|  8|opel|combo|     gen-d-2011|2014| 178666|      1598|Diesel|         Złotów|      Wielkopolskie|28900|\n",
      "|  9|opel|combo|     gen-d-2011|2015| 113000|      1248|Diesel|       Strzyżew|        Mazowieckie|34900|\n",
      "| 10|opel|combo|     gen-d-2011|2012| 237000|      1598|Diesel|         Elbląg|Warmińsko-mazurskie|24800|\n",
      "| 11|opel|combo|     gen-d-2011|2017| 137000|      1248|Diesel|       Warszawa|        Mazowieckie|39900|\n",
      "| 12|opel|combo|     gen-d-2011|2016| 154000|      1248|Diesel|      Sosnowiec|            Śląskie|35900|\n",
      "| 13|opel|combo|     gen-d-2011|2017|  59339|      1248|Diesel|        Wrocław|       Dolnośląskie|55300|\n",
      "| 14|opel|combo|     gen-d-2011|2016| 137445|      1598|Diesel|          Opole|           Opolskie|34700|\n",
      "| 15|opel|combo|     gen-d-2011|2016| 141859|      1248|Diesel|       Katowice|            Śląskie|39900|\n",
      "| 16|opel|combo|     gen-d-2011|2012| 195000|      1598|Diesel|          Radom|        Mazowieckie|25900|\n",
      "| 17|opel|combo|     gen-d-2011|2015| 180000|      1598|Diesel|       Chmieleń|       Dolnośląskie|32900|\n",
      "| 18|opel|combo|     gen-d-2011|2018| 107515|      1499|Diesel|      Piaseczno|        Mazowieckie|62000|\n",
      "| 19|opel|combo|     gen-d-2011|2017| 149000|      1598|Diesel|  Góra Kalwaria|        Mazowieckie|39852|\n",
      "+---+----+-----+---------------+----+-------+----------+------+---------------+-------------------+-----+\n",
      "only showing top 20 rows\n",
      "\n"
     ]
    }
   ],
   "source": [
    "df_pyspark_pol.show()"
   ]
  },
  {
   "cell_type": "code",
   "execution_count": 9,
   "id": "f79c9e76",
   "metadata": {},
   "outputs": [
    {
     "name": "stdout",
     "output_type": "stream",
     "text": [
      "+----+-----+-----+-----+-----+------------+-----+-----+---------+--------+-----+--------+------+-----+------------+--------+\n",
      "|year| make|model| trim| body|transmission|  vin|state|condition|odometer|color|interior|seller|  mmr|sellingprice|saledate|\n",
      "+----+-----+-----+-----+-----+------------+-----+-----+---------+--------+-----+--------+------+-----+------------+--------+\n",
      "|2015|  Kia|So...|   LX|  SUV|       au...|5x...|   ca|        5|   16...|white|   black| ki...|20500|       21500|   Tu...|\n",
      "|2015|  Kia|So...|   LX|  SUV|       au...|5x...|   ca|        5|   93...|white|   beige| ki...|20800|       21500|   Tu...|\n",
      "|2014|  BMW|3 ...|32...|Sedan|       au...|wb...|   ca|      4.5|   13...| gray|   black| fi...|31900|       30000|   Th...|\n",
      "|2015|Volvo|  S60|   T5|Sedan|       au...|yv...|   ca|      4.1|   14...|white|   black| vo...|27500|       27750|   Th...|\n",
      "|2014|  BMW|6 ...| 650i|Sedan|       au...|wb...|   ca|      4.3|   26...| gray|   black| fi...|66000|       67000|   Th...|\n",
      "|2015|Ni...|Al...|2.5 S|Sedan|       au...|1n...|   ca|        1|   55...| gray|   black| en...|15350|       10900|   Tu...|\n",
      "|2014|  BMW|   M5| Base|Sedan|       au...|wb...|   ca|      3.4|   14...|black|   black| th...|69000|       65000|   We...|\n",
      "|2014|Ch...|Cruze|  1LT|Sedan|       au...|1g...|   ca|        2|   28...|black|   black| en...|11900|        9800|   Tu...|\n",
      "|2014| Audi|   A4|2....|Sedan|       au...|wa...|   ca|      4.2|   95...|white|   black| au...|32100|       32250|   Th...|\n",
      "|2014|Ch...|Ca...|   LT|Co...|       au...|2g...|   ca|        3|   48...|  red|   black| d/...|26300|       17500|   Tu...|\n",
      "|2014| Audi|   A6|3....|Sedan|       au...|wa...|   ca|      4.8|   14...|black|   black| de...|47300|       49750|   Tu...|\n",
      "|2015|  Kia|Op...|   LX|Sedan|       au...|5x...|   ca|      4.8|   20...|  red|     tan| ki...|15150|       17700|   Tu...|\n",
      "|2015| Ford|Fu...|   SE|Sedan|       au...|3f...|   ca|        2|   55...|white|   beige| en...|15350|       12000|   Tu...|\n",
      "|2015|  Kia|So...|   LX|  SUV|       au...|5x...|   ca|        5|   14...|si...|   black| ki...|20600|       21500|   Tu...|\n",
      "|2014|Ch...|Cruze|  2LT|Sedan|       au...|1g...|   ca|     null|   15...| blue|   black| av...|13900|       10600|   Tu...|\n",
      "|2015|Ni...|Al...|2.5 S|Sedan|       au...|1n...|   ca|        2|   11...|black|   black| en...|14750|       14100|   Tu...|\n",
      "|2015|Hy...|So...|   SE|Sedan|        null|5n...|   ca|     null|   83...|  red|       —| av...|15200|        4200|   Tu...|\n",
      "|2014| Audi|   Q5|2....|  SUV|       au...|wa...|   ca|      4.9|   79...|white|   black| au...|37100|       40000|   Th...|\n",
      "|2014|Ch...|Ca...|   LS|Coupe|       au...|2g...|   ca|      1.7|   13...|black|   black| we...|17750|       17000|   Tu...|\n",
      "|2014|  BMW|6 ...| 650i|Co...|       au...|wb...|   ca|      3.4|   88...|black|   black| th...|68000|       67200|   We...|\n",
      "+----+-----+-----+-----+-----+------------+-----+-----+---------+--------+-----+--------+------+-----+------------+--------+\n",
      "only showing top 20 rows\n",
      "\n"
     ]
    }
   ],
   "source": [
    "df_pyspark_usa.show(20,5)"
   ]
  },
  {
   "cell_type": "code",
   "execution_count": 10,
   "id": "24d85536",
   "metadata": {},
   "outputs": [
    {
     "name": "stdout",
     "output_type": "stream",
     "text": [
      "+----+----+-------+----+----+------------+-----------------+-----+---------+--------+-----+--------+-----------------------+-----+------------+---------------------------------------+\n",
      "|year|make|model  |trim|body|transmission|vin              |state|condition|odometer|color|interior|seller                 |mmr  |sellingprice|saledate                               |\n",
      "+----+----+-------+----+----+------------+-----------------+-----+---------+--------+-----+--------+-----------------------+-----+------------+---------------------------------------+\n",
      "|2015|Kia |Sorento|LX  |SUV |automatic   |5xyktca69fg566472|ca   |5        |16639.0 |white|black   |kia motors america, inc|20500|21500       |Tue Dec 16 2014 12:30:00 GMT-0800 (PST)|\n",
      "|2015|Kia |Sorento|LX  |SUV |automatic   |5xyktca69fg561319|ca   |5        |9393.0  |white|beige   |kia motors america, inc|20800|21500       |Tue Dec 16 2014 12:30:00 GMT-0800 (PST)|\n",
      "+----+----+-------+----+----+------------+-----------------+-----+---------+--------+-----+--------+-----------------------+-----+------------+---------------------------------------+\n",
      "only showing top 2 rows\n",
      "\n"
     ]
    }
   ],
   "source": [
    "df_pyspark_usa.show(2,truncate=False)"
   ]
  },
  {
   "cell_type": "markdown",
   "id": "6c42384f",
   "metadata": {},
   "source": [
    "# Exploratory Data, Data Cleaning, Data Wrangling"
   ]
  },
  {
   "cell_type": "markdown",
   "id": "44346ba8",
   "metadata": {},
   "source": [
    "## df_pyspark_arg"
   ]
  },
  {
   "cell_type": "code",
   "execution_count": 11,
   "id": "8b676d46",
   "metadata": {},
   "outputs": [
    {
     "name": "stdout",
     "output_type": "stream",
     "text": [
      "+--------+-------------+-------------+----+-----------+---------+----+----------+-------------+---------+----------+--------+\n",
      "|money   |brand        |model        |year|color      |fuel_type|door|gear      |motor        |body_type|kilometres|currency|\n",
      "+--------+-------------+-------------+----+-----------+---------+----+----------+-------------+---------+----------+--------+\n",
      "|10350000|Toyota       |Corolla Cross|2022|Plateado   |Nafta    |5.0 |Automática|null         |SUV      |500       |pesos   |\n",
      "|10850000|Jeep         |Compass      |2022|Blanco     |Nafta    |5.0 |Automática|2.4          |SUV      |500       |pesos   |\n",
      "|35500   |Jeep         |Compass      |2022|Gris oscuro|Nafta    |5.0 |Automática|2.4          |SUV      |500       |dólares |\n",
      "|19000   |Citroën      |C4 Cactus    |2022|Gris oscuro|Nafta    |5.0 |Automática|null         |SUV      |550       |dólares |\n",
      "|5800000 |Toyota       |Corolla      |2019|Gris       |Nafta    |4.0 |Manual    |1.8          |Sedán    |9000      |pesos   |\n",
      "|34500   |Jeep         |Compass      |2022|Negro      |Nafta    |5.0 |Automática|1.3          |SUV      |10500     |dólares |\n",
      "|25000   |Kia          |Sorento      |2014|Negro      |Diésel   |5.0 |Automática|2.2          |SUV      |156000    |dólares |\n",
      "|12300   |Mercedes-Benz|Clase C      |2008|Plateado   |Nafta    |4.0 |Automática|1.8          |Sedán    |174000    |dólares |\n",
      "|35500   |BMW          |220          |2016|Blanco     |Nafta    |2.0 |Automática|TURBO        |Coupé    |66000     |dólares |\n",
      "|6800000 |Volkswagen   |T-Cross      |2019|Naranja    |Nafta    |5.0 |Automática|1.6 MSI Nafta|SUV      |35000     |pesos   |\n",
      "|38500   |Mercedes-Benz|Clase A      |2017|Plateado   |Nafta    |5.0 |Automática|3            |Hatchback|55394     |dólares |\n",
      "|20500   |Mercedes-Benz|Clase A      |2013|Blanco     |Nafta    |5.0 |Manual    |1.6          |Hatchback|162080    |dólares |\n",
      "|3500000 |Renault      |Sandero      |2022|Plateado   |Nafta    |5.0 |Manual    |null         |Sedán    |111111    |pesos   |\n",
      "|5990000 |Volkswagen   |Polo         |2022|Blanco     |Nafta    |5.0 |Manual    |1.6          |Hatchback|111111    |pesos   |\n",
      "|41900   |BMW          |Serie 1      |2020|Negro      |Nafta    |5.0 |Automática|null         |Hatchback|34800     |dólares |\n",
      "|2100000 |Ford         |Ecosport     |2011|Beige      |Nafta    |4.0 |Manual    |1.6          |SUV      |101000    |pesos   |\n",
      "|38500   |Chevrolet    |Trailblazer  |2019|Gris       |Diésel   |5.0 |Automática|null         |SUV      |73000     |dólares |\n",
      "|2940000 |Toyota       |Etios        |2015|Blanco     |Nafta    |5.0 |Manual    |1.5          |Hatchback|83000     |pesos   |\n",
      "|2050000 |Renault      |Clio         |2014|Gris       |Nafta    |5.0 |Manual    |1.2          |Hatchback|99000     |pesos   |\n",
      "|4120000 |Toyota       |RAV4         |2011|Gris       |Nafta    |5.0 |Automática|2.4          |SUV      |180000    |pesos   |\n",
      "+--------+-------------+-------------+----+-----------+---------+----+----------+-------------+---------+----------+--------+\n",
      "only showing top 20 rows\n",
      "\n"
     ]
    }
   ],
   "source": [
    "df_pyspark_arg.show(20,truncate=False)"
   ]
  },
  {
   "cell_type": "code",
   "execution_count": 12,
   "id": "d84f3a2a",
   "metadata": {},
   "outputs": [
    {
     "name": "stdout",
     "output_type": "stream",
     "text": [
      "root\n",
      " |-- money: integer (nullable = true)\n",
      " |-- brand: string (nullable = true)\n",
      " |-- model: string (nullable = true)\n",
      " |-- year: integer (nullable = true)\n",
      " |-- color: string (nullable = true)\n",
      " |-- fuel_type: string (nullable = true)\n",
      " |-- door: double (nullable = true)\n",
      " |-- gear: string (nullable = true)\n",
      " |-- motor: string (nullable = true)\n",
      " |-- body_type: string (nullable = true)\n",
      " |-- kilometres: integer (nullable = true)\n",
      " |-- currency: string (nullable = true)\n",
      "\n"
     ]
    }
   ],
   "source": [
    "df_pyspark_arg.printSchema()"
   ]
  },
  {
   "cell_type": "markdown",
   "id": "d42eb90a",
   "metadata": {},
   "source": [
    "### Dealing with null values"
   ]
  },
  {
   "cell_type": "markdown",
   "id": "5c7f7044",
   "metadata": {},
   "source": [
    "#### Using two methods:"
   ]
  },
  {
   "cell_type": "code",
   "execution_count": 13,
   "id": "48b0a9a2",
   "metadata": {},
   "outputs": [
    {
     "name": "stdout",
     "output_type": "stream",
     "text": [
      "+-----+-----+-----+----+-----+---------+----+----+-----+---------+----------+--------+\n",
      "|money|brand|model|year|color|fuel_type|door|gear|motor|body_type|kilometres|currency|\n",
      "+-----+-----+-----+----+-----+---------+----+----+-----+---------+----------+--------+\n",
      "|    0|    0|    0|   0|   11|        0|   0|   1|   11|        1|         0|       0|\n",
      "+-----+-----+-----+----+-----+---------+----+----+-----+---------+----------+--------+\n",
      "\n"
     ]
    }
   ],
   "source": [
    "df_pyspark_arg.select([count(when(isnan(c) | col(c).isNull(), c)).alias(c) for c in df_pyspark_arg.columns]).show()\n"
   ]
  },
  {
   "cell_type": "code",
   "execution_count": 14,
   "id": "b7c30ae3",
   "metadata": {},
   "outputs": [
    {
     "data": {
      "text/plain": [
       "{'money': 0,\n",
       " 'brand': 0,\n",
       " 'model': 0,\n",
       " 'year': 0,\n",
       " 'color': 11,\n",
       " 'fuel_type': 0,\n",
       " 'door': 0,\n",
       " 'gear': 1,\n",
       " 'motor': 11,\n",
       " 'body_type': 1,\n",
       " 'kilometres': 0,\n",
       " 'currency': 0}"
      ]
     },
     "execution_count": 14,
     "metadata": {},
     "output_type": "execute_result"
    }
   ],
   "source": [
    "Dict_Null = {col:df_pyspark_arg.filter(df_pyspark_arg[col].isNull()).count() for col in df_pyspark_arg.columns}\n",
    "Dict_Null"
   ]
  },
  {
   "cell_type": "markdown",
   "id": "ba77a578",
   "metadata": {},
   "source": [
    "#### Looking for null values in columns:"
   ]
  },
  {
   "cell_type": "code",
   "execution_count": 15,
   "id": "d7a50c88",
   "metadata": {},
   "outputs": [
    {
     "name": "stdout",
     "output_type": "stream",
     "text": [
      "+-------+----------+-----------+----+-----+---------+----+----------+-----+-----------+----------+--------+\n",
      "|  money|     brand|      model|year|color|fuel_type|door|      gear|motor|  body_type|kilometres|currency|\n",
      "+-------+----------+-----------+----+-----+---------+----+----------+-----+-----------+----------+--------+\n",
      "|  16000|       BMW|         X5|2000| null|    Nafta| 5.0|    Manual|  4.4|        SUV|    132000| dólares|\n",
      "|6300000|    Toyota|    Corolla|2018| null|    Nafta| 4.0|Automática|  1.8|      Sedán|     16500|   pesos|\n",
      "|2890000|   Peugeot|        408|2013| null|    Nafta| 4.0|    Manual|  2.0|      Sedán|    129400|   pesos|\n",
      "|3050000|   Renault|      Logan|2016| null|    Nafta| 4.0|    Manual|  1.6|      Sedán|     37300|   pesos|\n",
      "|1690000| Chevrolet|      Celta|2013| null|    Nafta| 3.0|    Manual|  1.4|  Hatchback|    109000|   pesos|\n",
      "|7500000|Volkswagen|     Sharan|2014| null|    Nafta| 5.0|Automática|  2.0|Monovolumen|     66000|   pesos|\n",
      "|2750000|   Citroën|        DS3|2012| null|    Nafta| 3.0|    Manual|  1.6|  Hatchback|     95000|   pesos|\n",
      "|8700000|   Citroën|      Jumpy|2022| null|   Diésel| 3.0|    Manual|  1.6|     Furgón|      1000|   pesos|\n",
      "|2990000|Volkswagen|Suran Cross|2014| null|    Nafta| 5.0|    Manual|  1.6|Monovolumen|    120000|   pesos|\n",
      "|1698000|      Ford|         Ka|2011| null|    Nafta| 3.0|    Manual|  1.6|  Hatchback|     97000|   pesos|\n",
      "|1950000|   Peugeot|        504|1996| null|   Diésel| 4.0|    Manual|  2.3|      Sedán|     99000|   pesos|\n",
      "+-------+----------+-----------+----+-----+---------+----+----------+-----+-----------+----------+--------+\n",
      "\n"
     ]
    }
   ],
   "source": [
    "df_pyspark_arg.filter(df_pyspark_arg.color.isNull()).show()"
   ]
  },
  {
   "cell_type": "code",
   "execution_count": 16,
   "id": "0c267952",
   "metadata": {},
   "outputs": [
    {
     "name": "stdout",
     "output_type": "stream",
     "text": [
      "+-----+------+-----+----+-----+---------+----+----+------------+---------+----------+--------+\n",
      "|money| brand|model|year|color|fuel_type|door|gear|       motor|body_type|kilometres|currency|\n",
      "+-----+------+-----+----+-----+---------+----+----+------------+---------+----------+--------+\n",
      "|60000|Toyota|Hilux|2022|Negro|   Diésel| 4.0|null|2.8tdi 223cv|  Pick-Up|      4000| dólares|\n",
      "+-----+------+-----+----+-----+---------+----+----+------------+---------+----------+--------+\n",
      "\n"
     ]
    }
   ],
   "source": [
    "df_pyspark_arg.filter(df_pyspark_arg.gear.isNull()).show()"
   ]
  },
  {
   "cell_type": "code",
   "execution_count": 17,
   "id": "c0f9cc9a",
   "metadata": {},
   "outputs": [
    {
     "name": "stdout",
     "output_type": "stream",
     "text": [
      "+--------+---------+-------------+----+-----------+---------+----+----------+-----+---------+----------+--------+\n",
      "|   money|    brand|        model|year|      color|fuel_type|door|      gear|motor|body_type|kilometres|currency|\n",
      "+--------+---------+-------------+----+-----------+---------+----+----------+-----+---------+----------+--------+\n",
      "|10350000|   Toyota|Corolla Cross|2022|   Plateado|    Nafta| 5.0|Automática| null|      SUV|       500|   pesos|\n",
      "|   19000|  Citroën|    C4 Cactus|2022|Gris oscuro|    Nafta| 5.0|Automática| null|      SUV|       550| dólares|\n",
      "| 3500000|  Renault|      Sandero|2022|   Plateado|    Nafta| 5.0|    Manual| null|    Sedán|    111111|   pesos|\n",
      "|   41900|      BMW|      Serie 1|2020|      Negro|    Nafta| 5.0|Automática| null|Hatchback|     34800| dólares|\n",
      "|   38500|Chevrolet|  Trailblazer|2019|       Gris|   Diésel| 5.0|Automática| null|      SUV|     73000| dólares|\n",
      "| 2800000|     Fiat|        Bravo|2013|      Negro|    Nafta| 5.0|    Manual| null|Hatchback|    124000|   pesos|\n",
      "|10200000|   Toyota|        Hilux|2022|      Negro|   Diésel| 4.0|    Manual| null|  Pick-Up|     21000|   pesos|\n",
      "| 3150000|     Ford|       Fiesta|2016|       Rojo|    Nafta| 5.0|    Manual| null|Hatchback|     68000|   pesos|\n",
      "|   23500|  Hyundai|      Genesis|2012|       Gris|    Nafta| 2.0|    Manual| null|    Coupé|    104270| dólares|\n",
      "|   79900|  Porsche|     Panamera|2010|     Blanco|    Nafta| 4.0|Automática| null|    Sedán|     59141| dólares|\n",
      "| 1760000|     Fiat|          Uno|2010|       Rojo|    Nafta| 5.0|    Manual| null|     null|    128000|   pesos|\n",
      "+--------+---------+-------------+----+-----------+---------+----+----------+-----+---------+----------+--------+\n",
      "\n"
     ]
    }
   ],
   "source": [
    "df_pyspark_arg.filter(df_pyspark_arg.motor.isNull()).show()"
   ]
  },
  {
   "cell_type": "code",
   "execution_count": 18,
   "id": "9141a792",
   "metadata": {},
   "outputs": [
    {
     "name": "stdout",
     "output_type": "stream",
     "text": [
      "+-------+-----+-----+----+-----+---------+----+------+-----+---------+----------+--------+\n",
      "|  money|brand|model|year|color|fuel_type|door|  gear|motor|body_type|kilometres|currency|\n",
      "+-------+-----+-----+----+-----+---------+----+------+-----+---------+----------+--------+\n",
      "|1760000| Fiat|  Uno|2010| Rojo|    Nafta| 5.0|Manual| null|     null|    128000|   pesos|\n",
      "+-------+-----+-----+----+-----+---------+----+------+-----+---------+----------+--------+\n",
      "\n"
     ]
    }
   ],
   "source": [
    "df_pyspark_arg.filter(df_pyspark_arg.body_type.isNull()).show()"
   ]
  },
  {
   "cell_type": "markdown",
   "id": "a4afc1f7",
   "metadata": {},
   "source": [
    "#### Replacing  null values in columns:"
   ]
  },
  {
   "cell_type": "code",
   "execution_count": 19,
   "id": "bdbf749f",
   "metadata": {},
   "outputs": [],
   "source": [
    "df_pyspark_arg = df_pyspark_arg.na.fill(value='Not available', subset=['color','gear','motor','body_type'])"
   ]
  },
  {
   "cell_type": "markdown",
   "id": "afeb7cb4",
   "metadata": {},
   "source": [
    "#### Verifying if there are still null values"
   ]
  },
  {
   "cell_type": "code",
   "execution_count": 20,
   "id": "094ed7ca",
   "metadata": {},
   "outputs": [
    {
     "data": {
      "text/plain": [
       "{'money': 0,\n",
       " 'brand': 0,\n",
       " 'model': 0,\n",
       " 'year': 0,\n",
       " 'color': 0,\n",
       " 'fuel_type': 0,\n",
       " 'door': 0,\n",
       " 'gear': 0,\n",
       " 'motor': 0,\n",
       " 'body_type': 0,\n",
       " 'kilometres': 0,\n",
       " 'currency': 0}"
      ]
     },
     "execution_count": 20,
     "metadata": {},
     "output_type": "execute_result"
    }
   ],
   "source": [
    "Dict_Null = {col:df_pyspark_arg.filter(df_pyspark_arg[col].isNull()).count() for col in df_pyspark_arg.columns}\n",
    "Dict_Null"
   ]
  },
  {
   "cell_type": "markdown",
   "id": "54757b14",
   "metadata": {},
   "source": [
    "### Dealing with duplicate values"
   ]
  },
  {
   "cell_type": "code",
   "execution_count": 21,
   "id": "3cf073ff",
   "metadata": {},
   "outputs": [
    {
     "name": "stdout",
     "output_type": "stream",
     "text": [
      "Count  of rows in dataframe: 510\n"
     ]
    }
   ],
   "source": [
    "print(\"Count  of rows in dataframe: \" + str(df_pyspark_arg.count()))"
   ]
  },
  {
   "cell_type": "code",
   "execution_count": 22,
   "id": "30182dff",
   "metadata": {},
   "outputs": [
    {
     "name": "stdout",
     "output_type": "stream",
     "text": [
      "Distinct Count of rows in dataframe: 510\n"
     ]
    }
   ],
   "source": [
    "print(\"Distinct Count of rows in dataframe: \" + str(df_pyspark_arg.distinct().count()))"
   ]
  },
  {
   "cell_type": "markdown",
   "id": "786f2eb6",
   "metadata": {},
   "source": [
    "### Chaning the name of objects to english language"
   ]
  },
  {
   "cell_type": "code",
   "execution_count": 23,
   "id": "564a8ef5",
   "metadata": {},
   "outputs": [
    {
     "name": "stdout",
     "output_type": "stream",
     "text": [
      "+--------+-------------+-------------+----+-----------+---------+----+----------+-------------+---------+----------+--------+\n",
      "|   money|        brand|        model|year|      color|fuel_type|door|      gear|        motor|body_type|kilometres|currency|\n",
      "+--------+-------------+-------------+----+-----------+---------+----+----------+-------------+---------+----------+--------+\n",
      "|10350000|       Toyota|Corolla Cross|2022|   Plateado|    Nafta| 5.0|Automática|Not available|      SUV|       500|   pesos|\n",
      "|10850000|         Jeep|      Compass|2022|     Blanco|    Nafta| 5.0|Automática|          2.4|      SUV|       500|   pesos|\n",
      "|   35500|         Jeep|      Compass|2022|Gris oscuro|    Nafta| 5.0|Automática|          2.4|      SUV|       500| dólares|\n",
      "|   19000|      Citroën|    C4 Cactus|2022|Gris oscuro|    Nafta| 5.0|Automática|Not available|      SUV|       550| dólares|\n",
      "| 5800000|       Toyota|      Corolla|2019|       Gris|    Nafta| 4.0|    Manual|          1.8|    Sedán|      9000|   pesos|\n",
      "|   34500|         Jeep|      Compass|2022|      Negro|    Nafta| 5.0|Automática|          1.3|      SUV|     10500| dólares|\n",
      "|   25000|          Kia|      Sorento|2014|      Negro|   Diésel| 5.0|Automática|          2.2|      SUV|    156000| dólares|\n",
      "|   12300|Mercedes-Benz|      Clase C|2008|   Plateado|    Nafta| 4.0|Automática|          1.8|    Sedán|    174000| dólares|\n",
      "|   35500|          BMW|          220|2016|     Blanco|    Nafta| 2.0|Automática|        TURBO|    Coupé|     66000| dólares|\n",
      "| 6800000|   Volkswagen|      T-Cross|2019|    Naranja|    Nafta| 5.0|Automática|1.6 MSI Nafta|      SUV|     35000|   pesos|\n",
      "|   38500|Mercedes-Benz|      Clase A|2017|   Plateado|    Nafta| 5.0|Automática|            3|Hatchback|     55394| dólares|\n",
      "|   20500|Mercedes-Benz|      Clase A|2013|     Blanco|    Nafta| 5.0|    Manual|          1.6|Hatchback|    162080| dólares|\n",
      "| 3500000|      Renault|      Sandero|2022|   Plateado|    Nafta| 5.0|    Manual|Not available|    Sedán|    111111|   pesos|\n",
      "| 5990000|   Volkswagen|         Polo|2022|     Blanco|    Nafta| 5.0|    Manual|          1.6|Hatchback|    111111|   pesos|\n",
      "|   41900|          BMW|      Serie 1|2020|      Negro|    Nafta| 5.0|Automática|Not available|Hatchback|     34800| dólares|\n",
      "| 2100000|         Ford|     Ecosport|2011|      Beige|    Nafta| 4.0|    Manual|          1.6|      SUV|    101000|   pesos|\n",
      "|   38500|    Chevrolet|  Trailblazer|2019|       Gris|   Diésel| 5.0|Automática|Not available|      SUV|     73000| dólares|\n",
      "| 2940000|       Toyota|        Etios|2015|     Blanco|    Nafta| 5.0|    Manual|          1.5|Hatchback|     83000|   pesos|\n",
      "| 2050000|      Renault|         Clio|2014|       Gris|    Nafta| 5.0|    Manual|          1.2|Hatchback|     99000|   pesos|\n",
      "| 4120000|       Toyota|         RAV4|2011|       Gris|    Nafta| 5.0|Automática|          2.4|      SUV|    180000|   pesos|\n",
      "+--------+-------------+-------------+----+-----------+---------+----+----------+-------------+---------+----------+--------+\n",
      "only showing top 20 rows\n",
      "\n"
     ]
    }
   ],
   "source": [
    "df_pyspark_arg.show()"
   ]
  },
  {
   "cell_type": "markdown",
   "id": "44f5629e",
   "metadata": {},
   "source": [
    "#### Select unique values from column:"
   ]
  },
  {
   "cell_type": "code",
   "execution_count": 24,
   "id": "434b7c02",
   "metadata": {},
   "outputs": [
    {
     "name": "stdout",
     "output_type": "stream",
     "text": [
      "+-------------+\n",
      "|color        |\n",
      "+-------------+\n",
      "|Naranja      |\n",
      "|Not available|\n",
      "|Violeta      |\n",
      "|Celeste      |\n",
      "|Beige        |\n",
      "|Blanco       |\n",
      "|Negro        |\n",
      "|Azul         |\n",
      "|Plateado     |\n",
      "|Gris         |\n",
      "|Rojo         |\n",
      "|Gris oscuro  |\n",
      "|Marrón       |\n",
      "|Verde        |\n",
      "|Dorado       |\n",
      "+-------------+\n",
      "\n",
      "[Row(color='Naranja'), Row(color='Not available'), Row(color='Violeta'), Row(color='Celeste'), Row(color='Beige'), Row(color='Blanco'), Row(color='Negro'), Row(color='Azul'), Row(color='Plateado'), Row(color='Gris'), Row(color='Rojo'), Row(color='Gris oscuro'), Row(color='Marrón'), Row(color='Verde'), Row(color='Dorado')]\n"
     ]
    }
   ],
   "source": [
    "SelectUniqueValues = df_pyspark_arg.dropDuplicates([\"color\"]).select(\"color\")\n",
    "SelectUniqueValues.show(truncate=False)\n",
    "\n",
    "print(SelectUniqueValues.dropDuplicates([\"color\"]).select(\"color\").collect())"
   ]
  },
  {
   "cell_type": "code",
   "execution_count": 25,
   "id": "9262f278",
   "metadata": {},
   "outputs": [
    {
     "name": "stdout",
     "output_type": "stream",
     "text": [
      "+--------+-------------+-------------+----+---------+---------+----+----------+-------------+---------+----------+--------+\n",
      "|   money|        brand|        model|year|    Color|fuel_type|door|      gear|        motor|body_type|kilometres|currency|\n",
      "+--------+-------------+-------------+----+---------+---------+----+----------+-------------+---------+----------+--------+\n",
      "|10350000|       Toyota|Corolla Cross|2022|   Silver|    Nafta| 5.0|Automática|Not available|      SUV|       500|   pesos|\n",
      "|10850000|         Jeep|      Compass|2022|    White|    Nafta| 5.0|Automática|          2.4|      SUV|       500|   pesos|\n",
      "|   35500|         Jeep|      Compass|2022|Dark gray|    Nafta| 5.0|Automática|          2.4|      SUV|       500| dólares|\n",
      "|   19000|      Citroën|    C4 Cactus|2022|Dark gray|    Nafta| 5.0|Automática|Not available|      SUV|       550| dólares|\n",
      "| 5800000|       Toyota|      Corolla|2019|     Gray|    Nafta| 4.0|    Manual|          1.8|    Sedán|      9000|   pesos|\n",
      "|   34500|         Jeep|      Compass|2022|    Black|    Nafta| 5.0|Automática|          1.3|      SUV|     10500| dólares|\n",
      "|   25000|          Kia|      Sorento|2014|    Black|   Diésel| 5.0|Automática|          2.2|      SUV|    156000| dólares|\n",
      "|   12300|Mercedes-Benz|      Clase C|2008|   Silver|    Nafta| 4.0|Automática|          1.8|    Sedán|    174000| dólares|\n",
      "|   35500|          BMW|          220|2016|    White|    Nafta| 2.0|Automática|        TURBO|    Coupé|     66000| dólares|\n",
      "| 6800000|   Volkswagen|      T-Cross|2019|   Orange|    Nafta| 5.0|Automática|1.6 MSI Nafta|      SUV|     35000|   pesos|\n",
      "|   38500|Mercedes-Benz|      Clase A|2017|   Silver|    Nafta| 5.0|Automática|            3|Hatchback|     55394| dólares|\n",
      "|   20500|Mercedes-Benz|      Clase A|2013|    White|    Nafta| 5.0|    Manual|          1.6|Hatchback|    162080| dólares|\n",
      "| 3500000|      Renault|      Sandero|2022|   Silver|    Nafta| 5.0|    Manual|Not available|    Sedán|    111111|   pesos|\n",
      "| 5990000|   Volkswagen|         Polo|2022|    White|    Nafta| 5.0|    Manual|          1.6|Hatchback|    111111|   pesos|\n",
      "|   41900|          BMW|      Serie 1|2020|    Black|    Nafta| 5.0|Automática|Not available|Hatchback|     34800| dólares|\n",
      "| 2100000|         Ford|     Ecosport|2011|    Beige|    Nafta| 4.0|    Manual|          1.6|      SUV|    101000|   pesos|\n",
      "|   38500|    Chevrolet|  Trailblazer|2019|     Gray|   Diésel| 5.0|Automática|Not available|      SUV|     73000| dólares|\n",
      "| 2940000|       Toyota|        Etios|2015|    White|    Nafta| 5.0|    Manual|          1.5|Hatchback|     83000|   pesos|\n",
      "| 2050000|      Renault|         Clio|2014|     Gray|    Nafta| 5.0|    Manual|          1.2|Hatchback|     99000|   pesos|\n",
      "| 4120000|       Toyota|         RAV4|2011|     Gray|    Nafta| 5.0|Automática|          2.4|      SUV|    180000|   pesos|\n",
      "+--------+-------------+-------------+----+---------+---------+----+----------+-------------+---------+----------+--------+\n",
      "only showing top 20 rows\n",
      "\n"
     ]
    }
   ],
   "source": [
    "df_pyspark_arg = df_pyspark_arg.withColumn(\"Color\",\n",
    "              when(df_pyspark_arg.color == 'Naranja', 'Orange')\\\n",
    "              .when(df_pyspark_arg.color == 'Violeta', 'Violet')\\\n",
    "              .when(df_pyspark_arg.color == 'Celeste', 'Celestial')\\\n",
    "              .when(df_pyspark_arg.color == 'Beige', 'Beige')\\\n",
    "              .when(df_pyspark_arg.color == 'Blanco', 'White')\\\n",
    "              .when(df_pyspark_arg.color == 'Negro', 'Black')\\\n",
    "              .when(df_pyspark_arg.color == 'Azul', 'Blue')\\\n",
    "              .when(df_pyspark_arg.color == 'Plateado', 'Silver')\\\n",
    "              .when(df_pyspark_arg.color == 'Gris', 'Gray')\\\n",
    "              .when(df_pyspark_arg.color == 'Rojo', 'Red')\\\n",
    "              .when(df_pyspark_arg.color == 'Gris oscuro', 'Dark gray')\\\n",
    "              .when(df_pyspark_arg.color == 'Marrón', 'Brown')\\\n",
    "              .when(df_pyspark_arg.color == 'Verde', 'Green')\\\n",
    "              .when(df_pyspark_arg.color == 'Dorado', 'Golden')\\\n",
    "              .otherwise('Not available'))\n",
    "\n",
    "df_pyspark_arg.show()"
   ]
  },
  {
   "cell_type": "code",
   "execution_count": 26,
   "id": "3b2bb88d",
   "metadata": {},
   "outputs": [
    {
     "name": "stdout",
     "output_type": "stream",
     "text": [
      "+-------------+\n",
      "|fuel_type    |\n",
      "+-------------+\n",
      "|Nafta        |\n",
      "|Nafta/GNC    |\n",
      "|Diésel       |\n",
      "|Híbrido/Nafta|\n",
      "+-------------+\n",
      "\n",
      "[Row(fuel_type='Nafta'), Row(fuel_type='Nafta/GNC'), Row(fuel_type='Diésel'), Row(fuel_type='Híbrido/Nafta')]\n"
     ]
    }
   ],
   "source": [
    "SelectUniqueValues = df_pyspark_arg.dropDuplicates([\"fuel_type\"]).select(\"fuel_type\")\n",
    "SelectUniqueValues.show(truncate=False)\n",
    "\n",
    "print(SelectUniqueValues.dropDuplicates([\"fuel_type\"]).select(\"fuel_type\").collect())"
   ]
  },
  {
   "cell_type": "code",
   "execution_count": 27,
   "id": "675cd85b",
   "metadata": {},
   "outputs": [
    {
     "name": "stdout",
     "output_type": "stream",
     "text": [
      "+--------+-------------+-------------+----+---------+---------+----+----------+-------------+---------+----------+--------+\n",
      "|   money|        brand|        model|year|    Color|Fuel_type|door|      gear|        motor|body_type|kilometres|currency|\n",
      "+--------+-------------+-------------+----+---------+---------+----+----------+-------------+---------+----------+--------+\n",
      "|10350000|       Toyota|Corolla Cross|2022|   Silver|  Naphtha| 5.0|Automática|Not available|      SUV|       500|   pesos|\n",
      "|10850000|         Jeep|      Compass|2022|    White|  Naphtha| 5.0|Automática|          2.4|      SUV|       500|   pesos|\n",
      "|   35500|         Jeep|      Compass|2022|Dark gray|  Naphtha| 5.0|Automática|          2.4|      SUV|       500| dólares|\n",
      "|   19000|      Citroën|    C4 Cactus|2022|Dark gray|  Naphtha| 5.0|Automática|Not available|      SUV|       550| dólares|\n",
      "| 5800000|       Toyota|      Corolla|2019|     Gray|  Naphtha| 4.0|    Manual|          1.8|    Sedán|      9000|   pesos|\n",
      "|   34500|         Jeep|      Compass|2022|    Black|  Naphtha| 5.0|Automática|          1.3|      SUV|     10500| dólares|\n",
      "|   25000|          Kia|      Sorento|2014|    Black|   Diesel| 5.0|Automática|          2.2|      SUV|    156000| dólares|\n",
      "|   12300|Mercedes-Benz|      Clase C|2008|   Silver|  Naphtha| 4.0|Automática|          1.8|    Sedán|    174000| dólares|\n",
      "|   35500|          BMW|          220|2016|    White|  Naphtha| 2.0|Automática|        TURBO|    Coupé|     66000| dólares|\n",
      "| 6800000|   Volkswagen|      T-Cross|2019|   Orange|  Naphtha| 5.0|Automática|1.6 MSI Nafta|      SUV|     35000|   pesos|\n",
      "|   38500|Mercedes-Benz|      Clase A|2017|   Silver|  Naphtha| 5.0|Automática|            3|Hatchback|     55394| dólares|\n",
      "|   20500|Mercedes-Benz|      Clase A|2013|    White|  Naphtha| 5.0|    Manual|          1.6|Hatchback|    162080| dólares|\n",
      "| 3500000|      Renault|      Sandero|2022|   Silver|  Naphtha| 5.0|    Manual|Not available|    Sedán|    111111|   pesos|\n",
      "| 5990000|   Volkswagen|         Polo|2022|    White|  Naphtha| 5.0|    Manual|          1.6|Hatchback|    111111|   pesos|\n",
      "|   41900|          BMW|      Serie 1|2020|    Black|  Naphtha| 5.0|Automática|Not available|Hatchback|     34800| dólares|\n",
      "| 2100000|         Ford|     Ecosport|2011|    Beige|  Naphtha| 4.0|    Manual|          1.6|      SUV|    101000|   pesos|\n",
      "|   38500|    Chevrolet|  Trailblazer|2019|     Gray|   Diesel| 5.0|Automática|Not available|      SUV|     73000| dólares|\n",
      "| 2940000|       Toyota|        Etios|2015|    White|  Naphtha| 5.0|    Manual|          1.5|Hatchback|     83000|   pesos|\n",
      "| 2050000|      Renault|         Clio|2014|     Gray|  Naphtha| 5.0|    Manual|          1.2|Hatchback|     99000|   pesos|\n",
      "| 4120000|       Toyota|         RAV4|2011|     Gray|  Naphtha| 5.0|Automática|          2.4|      SUV|    180000|   pesos|\n",
      "+--------+-------------+-------------+----+---------+---------+----+----------+-------------+---------+----------+--------+\n",
      "only showing top 20 rows\n",
      "\n"
     ]
    }
   ],
   "source": [
    "df_pyspark_arg = df_pyspark_arg.withColumn(\"Fuel_type\",\n",
    "              when(df_pyspark_arg.fuel_type  == 'Nafta', 'Naphtha')\\\n",
    "              .when(df_pyspark_arg.fuel_type  == 'Nafta/GNC', 'Naphtha/CNG')\\\n",
    "              .when(df_pyspark_arg.fuel_type  == 'Diésel', 'Diesel')\\\n",
    "              .when(df_pyspark_arg.fuel_type  == 'Híbrido/Nafta', 'Hybrid/Naphtha')\\\n",
    "              .otherwise('Not available'))\n",
    "\n",
    "df_pyspark_arg.show()"
   ]
  },
  {
   "cell_type": "code",
   "execution_count": 28,
   "id": "37c5e8fd",
   "metadata": {},
   "outputs": [
    {
     "name": "stdout",
     "output_type": "stream",
     "text": [
      "+-------------+\n",
      "|gear         |\n",
      "+-------------+\n",
      "|Not available|\n",
      "|Manual       |\n",
      "|Automática   |\n",
      "+-------------+\n",
      "\n",
      "[Row(gear='Not available'), Row(gear='Manual'), Row(gear='Automática')]\n"
     ]
    }
   ],
   "source": [
    "SelectUniqueValues = df_pyspark_arg.dropDuplicates([\"gear\"]).select(\"gear\")\n",
    "SelectUniqueValues.show(truncate=False)\n",
    "\n",
    "print(SelectUniqueValues.dropDuplicates([\"gear\"]).select(\"gear\").collect())"
   ]
  },
  {
   "cell_type": "code",
   "execution_count": 29,
   "id": "369508ae",
   "metadata": {},
   "outputs": [
    {
     "name": "stdout",
     "output_type": "stream",
     "text": [
      "+--------+-------------+-------------+----+---------+---------+----+---------+-------------+---------+----------+--------+\n",
      "|   money|        brand|        model|year|    Color|Fuel_type|door|     gear|        motor|body_type|kilometres|currency|\n",
      "+--------+-------------+-------------+----+---------+---------+----+---------+-------------+---------+----------+--------+\n",
      "|10350000|       Toyota|Corolla Cross|2022|   Silver|  Naphtha| 5.0|Automatic|Not available|      SUV|       500|   pesos|\n",
      "|10850000|         Jeep|      Compass|2022|    White|  Naphtha| 5.0|Automatic|          2.4|      SUV|       500|   pesos|\n",
      "|   35500|         Jeep|      Compass|2022|Dark gray|  Naphtha| 5.0|Automatic|          2.4|      SUV|       500| dólares|\n",
      "|   19000|      Citroën|    C4 Cactus|2022|Dark gray|  Naphtha| 5.0|Automatic|Not available|      SUV|       550| dólares|\n",
      "| 5800000|       Toyota|      Corolla|2019|     Gray|  Naphtha| 4.0|   Manual|          1.8|    Sedán|      9000|   pesos|\n",
      "|   34500|         Jeep|      Compass|2022|    Black|  Naphtha| 5.0|Automatic|          1.3|      SUV|     10500| dólares|\n",
      "|   25000|          Kia|      Sorento|2014|    Black|   Diesel| 5.0|Automatic|          2.2|      SUV|    156000| dólares|\n",
      "|   12300|Mercedes-Benz|      Clase C|2008|   Silver|  Naphtha| 4.0|Automatic|          1.8|    Sedán|    174000| dólares|\n",
      "|   35500|          BMW|          220|2016|    White|  Naphtha| 2.0|Automatic|        TURBO|    Coupé|     66000| dólares|\n",
      "| 6800000|   Volkswagen|      T-Cross|2019|   Orange|  Naphtha| 5.0|Automatic|1.6 MSI Nafta|      SUV|     35000|   pesos|\n",
      "|   38500|Mercedes-Benz|      Clase A|2017|   Silver|  Naphtha| 5.0|Automatic|            3|Hatchback|     55394| dólares|\n",
      "|   20500|Mercedes-Benz|      Clase A|2013|    White|  Naphtha| 5.0|   Manual|          1.6|Hatchback|    162080| dólares|\n",
      "| 3500000|      Renault|      Sandero|2022|   Silver|  Naphtha| 5.0|   Manual|Not available|    Sedán|    111111|   pesos|\n",
      "| 5990000|   Volkswagen|         Polo|2022|    White|  Naphtha| 5.0|   Manual|          1.6|Hatchback|    111111|   pesos|\n",
      "|   41900|          BMW|      Serie 1|2020|    Black|  Naphtha| 5.0|Automatic|Not available|Hatchback|     34800| dólares|\n",
      "| 2100000|         Ford|     Ecosport|2011|    Beige|  Naphtha| 4.0|   Manual|          1.6|      SUV|    101000|   pesos|\n",
      "|   38500|    Chevrolet|  Trailblazer|2019|     Gray|   Diesel| 5.0|Automatic|Not available|      SUV|     73000| dólares|\n",
      "| 2940000|       Toyota|        Etios|2015|    White|  Naphtha| 5.0|   Manual|          1.5|Hatchback|     83000|   pesos|\n",
      "| 2050000|      Renault|         Clio|2014|     Gray|  Naphtha| 5.0|   Manual|          1.2|Hatchback|     99000|   pesos|\n",
      "| 4120000|       Toyota|         RAV4|2011|     Gray|  Naphtha| 5.0|Automatic|          2.4|      SUV|    180000|   pesos|\n",
      "+--------+-------------+-------------+----+---------+---------+----+---------+-------------+---------+----------+--------+\n",
      "only showing top 20 rows\n",
      "\n"
     ]
    }
   ],
   "source": [
    "df_pyspark_arg = df_pyspark_arg.withColumn(\"gear\",\n",
    "              when(df_pyspark_arg.gear  == 'Manual', 'Manual')\\\n",
    "              .when(df_pyspark_arg.gear  == 'Automática', 'Automatic')\\\n",
    "              .otherwise('Not available'))\n",
    "\n",
    "df_pyspark_arg.show()"
   ]
  },
  {
   "cell_type": "code",
   "execution_count": 30,
   "id": "c9016895",
   "metadata": {},
   "outputs": [
    {
     "name": "stdout",
     "output_type": "stream",
     "text": [
      "+--------+\n",
      "|currency|\n",
      "+--------+\n",
      "|dólares |\n",
      "|pesos   |\n",
      "+--------+\n",
      "\n",
      "[Row(currency='dólares'), Row(currency='pesos')]\n"
     ]
    }
   ],
   "source": [
    "SelectUniqueValues = df_pyspark_arg.dropDuplicates([\"currency\"]).select(\"currency\")\n",
    "SelectUniqueValues.show(truncate=False)\n",
    "\n",
    "print(SelectUniqueValues.dropDuplicates([\"currency\"]).select(\"currency\").collect())\n"
   ]
  },
  {
   "cell_type": "code",
   "execution_count": 31,
   "id": "122873d8",
   "metadata": {},
   "outputs": [
    {
     "name": "stdout",
     "output_type": "stream",
     "text": [
      "+--------+-------------+-------------+----+---------+---------+----+---------+-------------+---------+----------+--------+\n",
      "|   money|        brand|        model|year|    Color|Fuel_type|door|     gear|        motor|body_type|kilometres|currency|\n",
      "+--------+-------------+-------------+----+---------+---------+----+---------+-------------+---------+----------+--------+\n",
      "|10350000|       Toyota|Corolla Cross|2022|   Silver|  Naphtha| 5.0|Automatic|Not available|      SUV|       500|   Pesos|\n",
      "|10850000|         Jeep|      Compass|2022|    White|  Naphtha| 5.0|Automatic|          2.4|      SUV|       500|   Pesos|\n",
      "|   35500|         Jeep|      Compass|2022|Dark gray|  Naphtha| 5.0|Automatic|          2.4|      SUV|       500| Dollars|\n",
      "|   19000|      Citroën|    C4 Cactus|2022|Dark gray|  Naphtha| 5.0|Automatic|Not available|      SUV|       550| Dollars|\n",
      "| 5800000|       Toyota|      Corolla|2019|     Gray|  Naphtha| 4.0|   Manual|          1.8|    Sedán|      9000|   Pesos|\n",
      "|   34500|         Jeep|      Compass|2022|    Black|  Naphtha| 5.0|Automatic|          1.3|      SUV|     10500| Dollars|\n",
      "|   25000|          Kia|      Sorento|2014|    Black|   Diesel| 5.0|Automatic|          2.2|      SUV|    156000| Dollars|\n",
      "|   12300|Mercedes-Benz|      Clase C|2008|   Silver|  Naphtha| 4.0|Automatic|          1.8|    Sedán|    174000| Dollars|\n",
      "|   35500|          BMW|          220|2016|    White|  Naphtha| 2.0|Automatic|        TURBO|    Coupé|     66000| Dollars|\n",
      "| 6800000|   Volkswagen|      T-Cross|2019|   Orange|  Naphtha| 5.0|Automatic|1.6 MSI Nafta|      SUV|     35000|   Pesos|\n",
      "|   38500|Mercedes-Benz|      Clase A|2017|   Silver|  Naphtha| 5.0|Automatic|            3|Hatchback|     55394| Dollars|\n",
      "|   20500|Mercedes-Benz|      Clase A|2013|    White|  Naphtha| 5.0|   Manual|          1.6|Hatchback|    162080| Dollars|\n",
      "| 3500000|      Renault|      Sandero|2022|   Silver|  Naphtha| 5.0|   Manual|Not available|    Sedán|    111111|   Pesos|\n",
      "| 5990000|   Volkswagen|         Polo|2022|    White|  Naphtha| 5.0|   Manual|          1.6|Hatchback|    111111|   Pesos|\n",
      "|   41900|          BMW|      Serie 1|2020|    Black|  Naphtha| 5.0|Automatic|Not available|Hatchback|     34800| Dollars|\n",
      "| 2100000|         Ford|     Ecosport|2011|    Beige|  Naphtha| 4.0|   Manual|          1.6|      SUV|    101000|   Pesos|\n",
      "|   38500|    Chevrolet|  Trailblazer|2019|     Gray|   Diesel| 5.0|Automatic|Not available|      SUV|     73000| Dollars|\n",
      "| 2940000|       Toyota|        Etios|2015|    White|  Naphtha| 5.0|   Manual|          1.5|Hatchback|     83000|   Pesos|\n",
      "| 2050000|      Renault|         Clio|2014|     Gray|  Naphtha| 5.0|   Manual|          1.2|Hatchback|     99000|   Pesos|\n",
      "| 4120000|       Toyota|         RAV4|2011|     Gray|  Naphtha| 5.0|Automatic|          2.4|      SUV|    180000|   Pesos|\n",
      "+--------+-------------+-------------+----+---------+---------+----+---------+-------------+---------+----------+--------+\n",
      "only showing top 20 rows\n",
      "\n"
     ]
    }
   ],
   "source": [
    "df_pyspark_arg = df_pyspark_arg.withColumn(\"currency\",\n",
    "              when(df_pyspark_arg.currency  == 'dólares', 'Dollars')\\\n",
    "              .when(df_pyspark_arg.currency  == 'pesos', 'Pesos')\\\n",
    "              .otherwise('Not available'))\n",
    "\n",
    "df_pyspark_arg.show()"
   ]
  },
  {
   "cell_type": "code",
   "execution_count": 32,
   "id": "4d247b6b",
   "metadata": {},
   "outputs": [
    {
     "name": "stdout",
     "output_type": "stream",
     "text": [
      "+--------+-------------+-------------+----+---------+---------+----+---------+-------------+---------+----------+--------+\n",
      "|   money|        brand|        model|year|    Color|Fuel_type|door|     gear|        motor|body_type|kilometres|currency|\n",
      "+--------+-------------+-------------+----+---------+---------+----+---------+-------------+---------+----------+--------+\n",
      "|10350000|       Toyota|Corolla Cross|2022|   Silver|  Naphtha| 5.0|Automatic|Not available|      SUV|       500|   Pesos|\n",
      "|10850000|         Jeep|      Compass|2022|    White|  Naphtha| 5.0|Automatic|          2.4|      SUV|       500|   Pesos|\n",
      "|   35500|         Jeep|      Compass|2022|Dark gray|  Naphtha| 5.0|Automatic|          2.4|      SUV|       500| Dollars|\n",
      "|   19000|      Citroën|    C4 Cactus|2022|Dark gray|  Naphtha| 5.0|Automatic|Not available|      SUV|       550| Dollars|\n",
      "| 5800000|       Toyota|      Corolla|2019|     Gray|  Naphtha| 4.0|   Manual|          1.8|    Sedán|      9000|   Pesos|\n",
      "|   34500|         Jeep|      Compass|2022|    Black|  Naphtha| 5.0|Automatic|          1.3|      SUV|     10500| Dollars|\n",
      "|   25000|          Kia|      Sorento|2014|    Black|   Diesel| 5.0|Automatic|          2.2|      SUV|    156000| Dollars|\n",
      "|   12300|Mercedes-Benz|      Clase C|2008|   Silver|  Naphtha| 4.0|Automatic|          1.8|    Sedán|    174000| Dollars|\n",
      "|   35500|          BMW|          220|2016|    White|  Naphtha| 2.0|Automatic|        TURBO|    Coupé|     66000| Dollars|\n",
      "| 6800000|   Volkswagen|      T-Cross|2019|   Orange|  Naphtha| 5.0|Automatic|1.6 MSI Nafta|      SUV|     35000|   Pesos|\n",
      "|   38500|Mercedes-Benz|      Clase A|2017|   Silver|  Naphtha| 5.0|Automatic|            3|Hatchback|     55394| Dollars|\n",
      "|   20500|Mercedes-Benz|      Clase A|2013|    White|  Naphtha| 5.0|   Manual|          1.6|Hatchback|    162080| Dollars|\n",
      "| 3500000|      Renault|      Sandero|2022|   Silver|  Naphtha| 5.0|   Manual|Not available|    Sedán|    111111|   Pesos|\n",
      "| 5990000|   Volkswagen|         Polo|2022|    White|  Naphtha| 5.0|   Manual|          1.6|Hatchback|    111111|   Pesos|\n",
      "|   41900|          BMW|      Serie 1|2020|    Black|  Naphtha| 5.0|Automatic|Not available|Hatchback|     34800| Dollars|\n",
      "| 2100000|         Ford|     Ecosport|2011|    Beige|  Naphtha| 4.0|   Manual|          1.6|      SUV|    101000|   Pesos|\n",
      "|   38500|    Chevrolet|  Trailblazer|2019|     Gray|   Diesel| 5.0|Automatic|Not available|      SUV|     73000| Dollars|\n",
      "| 2940000|       Toyota|        Etios|2015|    White|  Naphtha| 5.0|   Manual|          1.5|Hatchback|     83000|   Pesos|\n",
      "| 2050000|      Renault|         Clio|2014|     Gray|  Naphtha| 5.0|   Manual|          1.2|Hatchback|     99000|   Pesos|\n",
      "| 4120000|       Toyota|         RAV4|2011|     Gray|  Naphtha| 5.0|Automatic|          2.4|      SUV|    180000|   Pesos|\n",
      "+--------+-------------+-------------+----+---------+---------+----+---------+-------------+---------+----------+--------+\n",
      "only showing top 20 rows\n",
      "\n"
     ]
    }
   ],
   "source": [
    "df_pyspark_arg.show()"
   ]
  },
  {
   "cell_type": "markdown",
   "id": "805f0f8f",
   "metadata": {},
   "source": [
    "#### Changing pesos money to USD currency"
   ]
  },
  {
   "cell_type": "code",
   "execution_count": 42,
   "id": "45081778",
   "metadata": {
    "scrolled": true
   },
   "outputs": [],
   "source": [
    "df_pyspark_arg = df_pyspark_arg.withColumn(\"Money USD\",\n",
    "              when(df_pyspark_arg.currency  == 'Pesos',  df_pyspark_arg.money * 0.054 )\\\n",
    "              .otherwise(df_pyspark_arg.money))\n",
    "\n"
   ]
  },
  {
   "cell_type": "code",
   "execution_count": 45,
   "id": "7dfb694f",
   "metadata": {},
   "outputs": [
    {
     "name": "stdout",
     "output_type": "stream",
     "text": [
      "+--------+----------+----------+----+---------+---------+----+---------+----------+---------+----------+--------+---------+\n",
      "|   money|     brand|     model|year|    Color|Fuel_type|door|     gear|     motor|body_type|kilometres|currency|Money USD|\n",
      "+--------+----------+----------+----+---------+---------+----+---------+----------+---------+----------+--------+---------+\n",
      "|10350000|    Toyota|Corolla...|2022|   Silver|  Naphtha| 5.0|Automatic|Not ava...|      SUV|       500|   Pesos| 558900.0|\n",
      "|10850000|      Jeep|   Compass|2022|    White|  Naphtha| 5.0|Automatic|       2.4|      SUV|       500|   Pesos| 585900.0|\n",
      "|   35500|      Jeep|   Compass|2022|Dark gray|  Naphtha| 5.0|Automatic|       2.4|      SUV|       500| Dollars|  35500.0|\n",
      "|   19000|   Citroën| C4 Cactus|2022|Dark gray|  Naphtha| 5.0|Automatic|Not ava...|      SUV|       550| Dollars|  19000.0|\n",
      "| 5800000|    Toyota|   Corolla|2019|     Gray|  Naphtha| 4.0|   Manual|       1.8|    Sedán|      9000|   Pesos| 313200.0|\n",
      "|   34500|      Jeep|   Compass|2022|    Black|  Naphtha| 5.0|Automatic|       1.3|      SUV|     10500| Dollars|  34500.0|\n",
      "|   25000|       Kia|   Sorento|2014|    Black|   Diesel| 5.0|Automatic|       2.2|      SUV|    156000| Dollars|  25000.0|\n",
      "|   12300|Mercede...|   Clase C|2008|   Silver|  Naphtha| 4.0|Automatic|       1.8|    Sedán|    174000| Dollars|  12300.0|\n",
      "|   35500|       BMW|       220|2016|    White|  Naphtha| 2.0|Automatic|     TURBO|    Coupé|     66000| Dollars|  35500.0|\n",
      "| 6800000|Volkswagen|   T-Cross|2019|   Orange|  Naphtha| 5.0|Automatic|1.6 MSI...|      SUV|     35000|   Pesos| 367200.0|\n",
      "|   38500|Mercede...|   Clase A|2017|   Silver|  Naphtha| 5.0|Automatic|         3|Hatchback|     55394| Dollars|  38500.0|\n",
      "|   20500|Mercede...|   Clase A|2013|    White|  Naphtha| 5.0|   Manual|       1.6|Hatchback|    162080| Dollars|  20500.0|\n",
      "| 3500000|   Renault|   Sandero|2022|   Silver|  Naphtha| 5.0|   Manual|Not ava...|    Sedán|    111111|   Pesos| 189000.0|\n",
      "| 5990000|Volkswagen|      Polo|2022|    White|  Naphtha| 5.0|   Manual|       1.6|Hatchback|    111111|   Pesos| 323460.0|\n",
      "|   41900|       BMW|   Serie 1|2020|    Black|  Naphtha| 5.0|Automatic|Not ava...|Hatchback|     34800| Dollars|  41900.0|\n",
      "| 2100000|      Ford|  Ecosport|2011|    Beige|  Naphtha| 4.0|   Manual|       1.6|      SUV|    101000|   Pesos| 113400.0|\n",
      "|   38500| Chevrolet|Trailbl...|2019|     Gray|   Diesel| 5.0|Automatic|Not ava...|      SUV|     73000| Dollars|  38500.0|\n",
      "| 2940000|    Toyota|     Etios|2015|    White|  Naphtha| 5.0|   Manual|       1.5|Hatchback|     83000|   Pesos| 158760.0|\n",
      "| 2050000|   Renault|      Clio|2014|     Gray|  Naphtha| 5.0|   Manual|       1.2|Hatchback|     99000|   Pesos| 110700.0|\n",
      "| 4120000|    Toyota|      RAV4|2011|     Gray|  Naphtha| 5.0|Automatic|       2.4|      SUV|    180000|   Pesos| 222480.0|\n",
      "| 4100000|    Toyota|     Etios|2018|     Gray|  Naphtha| 5.0|   Manual|       1.5|    Sedán|     80000|   Pesos| 221400.0|\n",
      "|   15000|      Mini|    Cooper|2013|      Red|  Naphtha| 5.0|   Manual|       1.6|Hatchback|    105000| Dollars|  15000.0|\n",
      "| 5099000|      Jeep|  Renegade|2018|      Red|  Naphtha| 5.0|   Manual|       1.8|      SUV|     78000|   Pesos| 275346.0|\n",
      "| 8300000|    Toyota|     Hilux|2017|      Red|   Diesel| 4.0|   Manual|       2.8|  Pick-Up|    170000|   Pesos| 448200.0|\n",
      "| 2800000|      Fiat|     Bravo|2013|    Black|  Naphtha| 5.0|   Manual|Not ava...|Hatchback|    124000|   Pesos| 151200.0|\n",
      "+--------+----------+----------+----+---------+---------+----+---------+----------+---------+----------+--------+---------+\n",
      "only showing top 25 rows\n",
      "\n"
     ]
    }
   ],
   "source": [
    "df_pyspark_arg.show(25,10)"
   ]
  },
  {
   "cell_type": "markdown",
   "id": "b78aab57",
   "metadata": {},
   "source": [
    "### Renaming columns in dataframe"
   ]
  },
  {
   "cell_type": "code",
   "execution_count": 46,
   "id": "0e714ca2",
   "metadata": {},
   "outputs": [
    {
     "data": {
      "text/plain": [
       "['money',\n",
       " 'brand',\n",
       " 'model',\n",
       " 'year',\n",
       " 'Color',\n",
       " 'Fuel_type',\n",
       " 'door',\n",
       " 'gear',\n",
       " 'motor',\n",
       " 'body_type',\n",
       " 'kilometres',\n",
       " 'currency',\n",
       " 'Money USD']"
      ]
     },
     "execution_count": 46,
     "metadata": {},
     "output_type": "execute_result"
    }
   ],
   "source": [
    "df_pyspark_arg.columns"
   ]
  },
  {
   "cell_type": "code",
   "execution_count": 49,
   "id": "70d0fe36",
   "metadata": {},
   "outputs": [],
   "source": [
    "df_pyspark_arg =df_pyspark_arg.withColumnRenamed('money', 'Money') \\\n",
    "              .withColumnRenamed('brand', 'Brand') \\\n",
    "              .withColumnRenamed('model','Model') \\\n",
    "              .withColumnRenamed('year', 'Year') \\\n",
    "              .withColumnRenamed('Fuel_type','FuelType') \\\n",
    "              .withColumnRenamed('door','Door') \\\n",
    "              .withColumnRenamed('gear','Gear') \\\n",
    "              .withColumnRenamed('motor','Motor') \\\n",
    "              .withColumnRenamed('body_type','BodyType') \\\n",
    "              .withColumnRenamed('kilometres','Kilometres') \\\n",
    "              .withColumnRenamed('currency','Currency')\n",
    "    \n",
    "            "
   ]
  },
  {
   "cell_type": "code",
   "execution_count": 50,
   "id": "996eae55",
   "metadata": {},
   "outputs": [
    {
     "name": "stdout",
     "output_type": "stream",
     "text": [
      "+--------+----------+----------+----+---------+--------+----+---------+----------+---------+----------+--------+---------+\n",
      "|   Money|     Brand|     Model|Year|    Color|FuelType|Door|     Gear|     Motor| BodyType|Kilometres|Currency|Money USD|\n",
      "+--------+----------+----------+----+---------+--------+----+---------+----------+---------+----------+--------+---------+\n",
      "|10350000|    Toyota|Corolla...|2022|   Silver| Naphtha| 5.0|Automatic|Not ava...|      SUV|       500|   Pesos| 558900.0|\n",
      "|10850000|      Jeep|   Compass|2022|    White| Naphtha| 5.0|Automatic|       2.4|      SUV|       500|   Pesos| 585900.0|\n",
      "|   35500|      Jeep|   Compass|2022|Dark gray| Naphtha| 5.0|Automatic|       2.4|      SUV|       500| Dollars|  35500.0|\n",
      "|   19000|   Citroën| C4 Cactus|2022|Dark gray| Naphtha| 5.0|Automatic|Not ava...|      SUV|       550| Dollars|  19000.0|\n",
      "| 5800000|    Toyota|   Corolla|2019|     Gray| Naphtha| 4.0|   Manual|       1.8|    Sedán|      9000|   Pesos| 313200.0|\n",
      "|   34500|      Jeep|   Compass|2022|    Black| Naphtha| 5.0|Automatic|       1.3|      SUV|     10500| Dollars|  34500.0|\n",
      "|   25000|       Kia|   Sorento|2014|    Black|  Diesel| 5.0|Automatic|       2.2|      SUV|    156000| Dollars|  25000.0|\n",
      "|   12300|Mercede...|   Clase C|2008|   Silver| Naphtha| 4.0|Automatic|       1.8|    Sedán|    174000| Dollars|  12300.0|\n",
      "|   35500|       BMW|       220|2016|    White| Naphtha| 2.0|Automatic|     TURBO|    Coupé|     66000| Dollars|  35500.0|\n",
      "| 6800000|Volkswagen|   T-Cross|2019|   Orange| Naphtha| 5.0|Automatic|1.6 MSI...|      SUV|     35000|   Pesos| 367200.0|\n",
      "|   38500|Mercede...|   Clase A|2017|   Silver| Naphtha| 5.0|Automatic|         3|Hatchback|     55394| Dollars|  38500.0|\n",
      "|   20500|Mercede...|   Clase A|2013|    White| Naphtha| 5.0|   Manual|       1.6|Hatchback|    162080| Dollars|  20500.0|\n",
      "| 3500000|   Renault|   Sandero|2022|   Silver| Naphtha| 5.0|   Manual|Not ava...|    Sedán|    111111|   Pesos| 189000.0|\n",
      "| 5990000|Volkswagen|      Polo|2022|    White| Naphtha| 5.0|   Manual|       1.6|Hatchback|    111111|   Pesos| 323460.0|\n",
      "|   41900|       BMW|   Serie 1|2020|    Black| Naphtha| 5.0|Automatic|Not ava...|Hatchback|     34800| Dollars|  41900.0|\n",
      "| 2100000|      Ford|  Ecosport|2011|    Beige| Naphtha| 4.0|   Manual|       1.6|      SUV|    101000|   Pesos| 113400.0|\n",
      "|   38500| Chevrolet|Trailbl...|2019|     Gray|  Diesel| 5.0|Automatic|Not ava...|      SUV|     73000| Dollars|  38500.0|\n",
      "| 2940000|    Toyota|     Etios|2015|    White| Naphtha| 5.0|   Manual|       1.5|Hatchback|     83000|   Pesos| 158760.0|\n",
      "| 2050000|   Renault|      Clio|2014|     Gray| Naphtha| 5.0|   Manual|       1.2|Hatchback|     99000|   Pesos| 110700.0|\n",
      "| 4120000|    Toyota|      RAV4|2011|     Gray| Naphtha| 5.0|Automatic|       2.4|      SUV|    180000|   Pesos| 222480.0|\n",
      "| 4100000|    Toyota|     Etios|2018|     Gray| Naphtha| 5.0|   Manual|       1.5|    Sedán|     80000|   Pesos| 221400.0|\n",
      "|   15000|      Mini|    Cooper|2013|      Red| Naphtha| 5.0|   Manual|       1.6|Hatchback|    105000| Dollars|  15000.0|\n",
      "| 5099000|      Jeep|  Renegade|2018|      Red| Naphtha| 5.0|   Manual|       1.8|      SUV|     78000|   Pesos| 275346.0|\n",
      "| 8300000|    Toyota|     Hilux|2017|      Red|  Diesel| 4.0|   Manual|       2.8|  Pick-Up|    170000|   Pesos| 448200.0|\n",
      "| 2800000|      Fiat|     Bravo|2013|    Black| Naphtha| 5.0|   Manual|Not ava...|Hatchback|    124000|   Pesos| 151200.0|\n",
      "+--------+----------+----------+----+---------+--------+----+---------+----------+---------+----------+--------+---------+\n",
      "only showing top 25 rows\n",
      "\n"
     ]
    }
   ],
   "source": [
    "df_pyspark_arg.show(25,10)"
   ]
  },
  {
   "cell_type": "markdown",
   "id": "1ad66071",
   "metadata": {},
   "source": [
    "##### Changing datatype "
   ]
  },
  {
   "cell_type": "code",
   "execution_count": 61,
   "id": "174e281c",
   "metadata": {},
   "outputs": [],
   "source": [
    "df_pyspark_arg = df_pyspark_arg.withColumn('Door',df_pyspark_arg.Door.cast('int'))\n",
    "df_pyspark_arg = df_pyspark_arg.withColumn('Money USD',df_pyspark_arg['Money USD'].cast('int'))"
   ]
  },
  {
   "cell_type": "markdown",
   "id": "d72c330e",
   "metadata": {},
   "source": [
    "### Basic information after cleaning"
   ]
  },
  {
   "cell_type": "code",
   "execution_count": 74,
   "id": "e2782f3d",
   "metadata": {},
   "outputs": [
    {
     "name": "stdout",
     "output_type": "stream",
     "text": [
      "root\n",
      " |-- Money: integer (nullable = true)\n",
      " |-- Brand: string (nullable = true)\n",
      " |-- Model: string (nullable = true)\n",
      " |-- Year: integer (nullable = true)\n",
      " |-- Color: string (nullable = false)\n",
      " |-- FuelType: string (nullable = false)\n",
      " |-- Door: integer (nullable = true)\n",
      " |-- Gear: string (nullable = false)\n",
      " |-- Motor: string (nullable = false)\n",
      " |-- BodyType: string (nullable = false)\n",
      " |-- Kilometres: integer (nullable = true)\n",
      " |-- Currency: string (nullable = false)\n",
      " |-- Money USD: integer (nullable = true)\n",
      "\n"
     ]
    }
   ],
   "source": [
    "df_pyspark_arg.printSchema()"
   ]
  },
  {
   "cell_type": "code",
   "execution_count": 77,
   "id": "8f0aca82",
   "metadata": {},
   "outputs": [
    {
     "name": "stdout",
     "output_type": "stream",
     "text": [
      "+--------+----------+----------+----+---------+--------+----+---------+----------+---------+----------+--------+---------+\n",
      "|   Money|     Brand|     Model|Year|    Color|FuelType|Door|     Gear|     Motor| BodyType|Kilometres|Currency|Money USD|\n",
      "+--------+----------+----------+----+---------+--------+----+---------+----------+---------+----------+--------+---------+\n",
      "|10350000|    Toyota|Corolla...|2022|   Silver| Naphtha|   5|Automatic|Not ava...|      SUV|       500|   Pesos|   558900|\n",
      "|10850000|      Jeep|   Compass|2022|    White| Naphtha|   5|Automatic|       2.4|      SUV|       500|   Pesos|   585900|\n",
      "|   35500|      Jeep|   Compass|2022|Dark gray| Naphtha|   5|Automatic|       2.4|      SUV|       500| Dollars|    35500|\n",
      "|   19000|   Citroën| C4 Cactus|2022|Dark gray| Naphtha|   5|Automatic|Not ava...|      SUV|       550| Dollars|    19000|\n",
      "| 5800000|    Toyota|   Corolla|2019|     Gray| Naphtha|   4|   Manual|       1.8|    Sedán|      9000|   Pesos|   313200|\n",
      "|   34500|      Jeep|   Compass|2022|    Black| Naphtha|   5|Automatic|       1.3|      SUV|     10500| Dollars|    34500|\n",
      "|   25000|       Kia|   Sorento|2014|    Black|  Diesel|   5|Automatic|       2.2|      SUV|    156000| Dollars|    25000|\n",
      "|   12300|Mercede...|   Clase C|2008|   Silver| Naphtha|   4|Automatic|       1.8|    Sedán|    174000| Dollars|    12300|\n",
      "|   35500|       BMW|       220|2016|    White| Naphtha|   2|Automatic|     TURBO|    Coupé|     66000| Dollars|    35500|\n",
      "| 6800000|Volkswagen|   T-Cross|2019|   Orange| Naphtha|   5|Automatic|1.6 MSI...|      SUV|     35000|   Pesos|   367200|\n",
      "|   38500|Mercede...|   Clase A|2017|   Silver| Naphtha|   5|Automatic|         3|Hatchback|     55394| Dollars|    38500|\n",
      "|   20500|Mercede...|   Clase A|2013|    White| Naphtha|   5|   Manual|       1.6|Hatchback|    162080| Dollars|    20500|\n",
      "| 3500000|   Renault|   Sandero|2022|   Silver| Naphtha|   5|   Manual|Not ava...|    Sedán|    111111|   Pesos|   189000|\n",
      "| 5990000|Volkswagen|      Polo|2022|    White| Naphtha|   5|   Manual|       1.6|Hatchback|    111111|   Pesos|   323460|\n",
      "|   41900|       BMW|   Serie 1|2020|    Black| Naphtha|   5|Automatic|Not ava...|Hatchback|     34800| Dollars|    41900|\n",
      "| 2100000|      Ford|  Ecosport|2011|    Beige| Naphtha|   4|   Manual|       1.6|      SUV|    101000|   Pesos|   113400|\n",
      "|   38500| Chevrolet|Trailbl...|2019|     Gray|  Diesel|   5|Automatic|Not ava...|      SUV|     73000| Dollars|    38500|\n",
      "| 2940000|    Toyota|     Etios|2015|    White| Naphtha|   5|   Manual|       1.5|Hatchback|     83000|   Pesos|   158760|\n",
      "| 2050000|   Renault|      Clio|2014|     Gray| Naphtha|   5|   Manual|       1.2|Hatchback|     99000|   Pesos|   110700|\n",
      "| 4120000|    Toyota|      RAV4|2011|     Gray| Naphtha|   5|Automatic|       2.4|      SUV|    180000|   Pesos|   222480|\n",
      "| 4100000|    Toyota|     Etios|2018|     Gray| Naphtha|   5|   Manual|       1.5|    Sedán|     80000|   Pesos|   221400|\n",
      "|   15000|      Mini|    Cooper|2013|      Red| Naphtha|   5|   Manual|       1.6|Hatchback|    105000| Dollars|    15000|\n",
      "| 5099000|      Jeep|  Renegade|2018|      Red| Naphtha|   5|   Manual|       1.8|      SUV|     78000|   Pesos|   275346|\n",
      "| 8300000|    Toyota|     Hilux|2017|      Red|  Diesel|   4|   Manual|       2.8|  Pick-Up|    170000|   Pesos|   448200|\n",
      "| 2800000|      Fiat|     Bravo|2013|    Black| Naphtha|   5|   Manual|Not ava...|Hatchback|    124000|   Pesos|   151200|\n",
      "+--------+----------+----------+----+---------+--------+----+---------+----------+---------+----------+--------+---------+\n",
      "only showing top 25 rows\n",
      "\n"
     ]
    }
   ],
   "source": [
    "df_pyspark_arg.show(25,10)"
   ]
  },
  {
   "cell_type": "markdown",
   "id": "d2368d2d",
   "metadata": {},
   "source": [
    "## df_pyspark_nig"
   ]
  },
  {
   "cell_type": "code",
   "execution_count": 78,
   "id": "c89692ab",
   "metadata": {},
   "outputs": [
    {
     "name": "stdout",
     "output_type": "stream",
     "text": [
      "+---+-------------+-------------------+-------------+-------+-----------+------+------------+----------+-----+\n",
      "|_c0|         Make|Year of manufacture|    Condition|Mileage|Engine Size|  Fuel|Transmission|     Price|Build|\n",
      "+---+-------------+-------------------+-------------+-------+-----------+------+------------+----------+-----+\n",
      "|  0|       Toyota|               2007|Nigerian Used| 166418|       2400|Petrol|   Automatic| 3,120,000| null|\n",
      "|  1|        Lexus|               null|         null| 138024|       null|  null|   Automatic| 5,834,000| null|\n",
      "|  2|Mercedes-Benz|               2008|Nigerian Used| 376807|       3000|Petrol|   Automatic| 3,640,000| null|\n",
      "|  3|        Lexus|               null|         null| 213362|       null|  null|   Automatic| 3,594,000| null|\n",
      "|  4|Mercedes-Benz|               null|         null| 106199|       null|  null|   Automatic| 8,410,000| null|\n",
      "|  5|Mercedes-Benz|               null|         null|  87660|       null|  null|   Automatic| 5,554,000| null|\n",
      "|  6|        Lexus|               null|         null| 191411|       null|  null|   Automatic| 3,706,000| null|\n",
      "|  7|        Lexus|               null|         null|  59092|       null|  null|   Automatic| 8,410,000| null|\n",
      "|  8|Mercedes-Benz|               null|         null|  89423|       null|  null|   Automatic| 6,506,000| null|\n",
      "|  9|        Lexus|               null|         null| 184827|       null|  null|   Automatic| 4,000,000| null|\n",
      "| 10|        Lexus|               null|         null|  42433|       null|  null|   Automatic| 8,970,000| null|\n",
      "| 11|        Lexus|               null|         null| 116138|       null|  null|   Automatic| 3,034,000| null|\n",
      "| 12|        Lexus|               null|         null| 167583|       null|  null|   Automatic| 3,818,000| null|\n",
      "| 13|        Lexus|               null|         null| 240934|       null|  null|   Automatic| 3,930,000| null|\n",
      "| 14|         Fiat|               null|         null|    114|       null|  null|   Automatic| 8,500,000| null|\n",
      "| 15|         Fiat|               null|         null|     54|       null|  null|      Manual|12,500,000| null|\n",
      "| 16|        Lexus|               null|         null|  79740|       null|  null|   Automatic| 5,274,000| null|\n",
      "| 17|Mercedes-Benz|               null|         null| 338145|       null|  null|   Automatic| 8,060,000| null|\n",
      "| 18|        Lexus|               null|         null| 174545|       null|  null|   Automatic| 6,506,000| null|\n",
      "| 19|   Land Rover|               null|         null|  63296|       null|  null|   Automatic| 6,910,000| null|\n",
      "+---+-------------+-------------------+-------------+-------+-----------+------+------------+----------+-----+\n",
      "only showing top 20 rows\n",
      "\n"
     ]
    }
   ],
   "source": [
    "df_pyspark_nig.show()"
   ]
  },
  {
   "cell_type": "code",
   "execution_count": null,
   "id": "1ace51e3",
   "metadata": {},
   "outputs": [],
   "source": []
  },
  {
   "cell_type": "code",
   "execution_count": null,
   "id": "f0801fec",
   "metadata": {},
   "outputs": [],
   "source": []
  },
  {
   "cell_type": "code",
   "execution_count": null,
   "id": "6fca05d5",
   "metadata": {},
   "outputs": [],
   "source": []
  },
  {
   "cell_type": "markdown",
   "id": "2865de24",
   "metadata": {},
   "source": [
    "## df_pyspark_pol"
   ]
  },
  {
   "cell_type": "code",
   "execution_count": 79,
   "id": "677e7d23",
   "metadata": {},
   "outputs": [
    {
     "name": "stdout",
     "output_type": "stream",
     "text": [
      "+---+----+-----+---------------+----+-------+----------+------+---------------+-------------------+-----+\n",
      "|_c0|mark|model|generation_name|year|mileage|vol_engine|  fuel|           city|           province|price|\n",
      "+---+----+-----+---------------+----+-------+----------+------+---------------+-------------------+-----+\n",
      "|  0|opel|combo|     gen-d-2011|2015| 139568|      1248|Diesel|          Janki|        Mazowieckie|35900|\n",
      "|  1|opel|combo|     gen-d-2011|2018|  31991|      1499|Diesel|       Katowice|            Śląskie|78501|\n",
      "|  2|opel|combo|     gen-d-2011|2015| 278437|      1598|Diesel|          Brzeg|           Opolskie|27000|\n",
      "|  3|opel|combo|     gen-d-2011|2016|  47600|      1248|Diesel|      Korfantów|           Opolskie|30800|\n",
      "|  4|opel|combo|     gen-d-2011|2014| 103000|      1400|   CNG|Tarnowskie Góry|            Śląskie|35900|\n",
      "|  5|opel|combo|     gen-d-2011|2017| 121203|      1598|Diesel|       Warszawa|        Mazowieckie|51900|\n",
      "|  6|opel|combo|     gen-d-2011|2017| 119965|      1248|Diesel|        Wrocław|       Dolnośląskie|44700|\n",
      "|  7|opel|combo|     gen-d-2011|2016| 201658|      1248|Diesel|         Lublin|          Lubelskie|29000|\n",
      "|  8|opel|combo|     gen-d-2011|2014| 178666|      1598|Diesel|         Złotów|      Wielkopolskie|28900|\n",
      "|  9|opel|combo|     gen-d-2011|2015| 113000|      1248|Diesel|       Strzyżew|        Mazowieckie|34900|\n",
      "| 10|opel|combo|     gen-d-2011|2012| 237000|      1598|Diesel|         Elbląg|Warmińsko-mazurskie|24800|\n",
      "| 11|opel|combo|     gen-d-2011|2017| 137000|      1248|Diesel|       Warszawa|        Mazowieckie|39900|\n",
      "| 12|opel|combo|     gen-d-2011|2016| 154000|      1248|Diesel|      Sosnowiec|            Śląskie|35900|\n",
      "| 13|opel|combo|     gen-d-2011|2017|  59339|      1248|Diesel|        Wrocław|       Dolnośląskie|55300|\n",
      "| 14|opel|combo|     gen-d-2011|2016| 137445|      1598|Diesel|          Opole|           Opolskie|34700|\n",
      "| 15|opel|combo|     gen-d-2011|2016| 141859|      1248|Diesel|       Katowice|            Śląskie|39900|\n",
      "| 16|opel|combo|     gen-d-2011|2012| 195000|      1598|Diesel|          Radom|        Mazowieckie|25900|\n",
      "| 17|opel|combo|     gen-d-2011|2015| 180000|      1598|Diesel|       Chmieleń|       Dolnośląskie|32900|\n",
      "| 18|opel|combo|     gen-d-2011|2018| 107515|      1499|Diesel|      Piaseczno|        Mazowieckie|62000|\n",
      "| 19|opel|combo|     gen-d-2011|2017| 149000|      1598|Diesel|  Góra Kalwaria|        Mazowieckie|39852|\n",
      "+---+----+-----+---------------+----+-------+----------+------+---------------+-------------------+-----+\n",
      "only showing top 20 rows\n",
      "\n"
     ]
    }
   ],
   "source": [
    "df_pyspark_pol.show()"
   ]
  },
  {
   "cell_type": "code",
   "execution_count": null,
   "id": "d8b9e20b",
   "metadata": {},
   "outputs": [],
   "source": []
  },
  {
   "cell_type": "code",
   "execution_count": null,
   "id": "3e669019",
   "metadata": {},
   "outputs": [],
   "source": []
  },
  {
   "cell_type": "markdown",
   "id": "8e894f9d",
   "metadata": {},
   "source": [
    "## df_pyspark_usa"
   ]
  },
  {
   "cell_type": "code",
   "execution_count": 85,
   "id": "a36deccb",
   "metadata": {},
   "outputs": [
    {
     "name": "stdout",
     "output_type": "stream",
     "text": [
      "+----+-----+-----+-----+-----+------------+-----+-----+---------+--------+-----+--------+------+-----+------------+--------+\n",
      "|year| make|model| trim| body|transmission|  vin|state|condition|odometer|color|interior|seller|  mmr|sellingprice|saledate|\n",
      "+----+-----+-----+-----+-----+------------+-----+-----+---------+--------+-----+--------+------+-----+------------+--------+\n",
      "|2015|  Kia|So...|   LX|  SUV|       au...|5x...|   ca|        5|   16...|white|   black| ki...|20500|       21500|   Tu...|\n",
      "|2015|  Kia|So...|   LX|  SUV|       au...|5x...|   ca|        5|   93...|white|   beige| ki...|20800|       21500|   Tu...|\n",
      "|2014|  BMW|3 ...|32...|Sedan|       au...|wb...|   ca|      4.5|   13...| gray|   black| fi...|31900|       30000|   Th...|\n",
      "|2015|Volvo|  S60|   T5|Sedan|       au...|yv...|   ca|      4.1|   14...|white|   black| vo...|27500|       27750|   Th...|\n",
      "|2014|  BMW|6 ...| 650i|Sedan|       au...|wb...|   ca|      4.3|   26...| gray|   black| fi...|66000|       67000|   Th...|\n",
      "|2015|Ni...|Al...|2.5 S|Sedan|       au...|1n...|   ca|        1|   55...| gray|   black| en...|15350|       10900|   Tu...|\n",
      "|2014|  BMW|   M5| Base|Sedan|       au...|wb...|   ca|      3.4|   14...|black|   black| th...|69000|       65000|   We...|\n",
      "|2014|Ch...|Cruze|  1LT|Sedan|       au...|1g...|   ca|        2|   28...|black|   black| en...|11900|        9800|   Tu...|\n",
      "|2014| Audi|   A4|2....|Sedan|       au...|wa...|   ca|      4.2|   95...|white|   black| au...|32100|       32250|   Th...|\n",
      "|2014|Ch...|Ca...|   LT|Co...|       au...|2g...|   ca|        3|   48...|  red|   black| d/...|26300|       17500|   Tu...|\n",
      "|2014| Audi|   A6|3....|Sedan|       au...|wa...|   ca|      4.8|   14...|black|   black| de...|47300|       49750|   Tu...|\n",
      "|2015|  Kia|Op...|   LX|Sedan|       au...|5x...|   ca|      4.8|   20...|  red|     tan| ki...|15150|       17700|   Tu...|\n",
      "|2015| Ford|Fu...|   SE|Sedan|       au...|3f...|   ca|        2|   55...|white|   beige| en...|15350|       12000|   Tu...|\n",
      "|2015|  Kia|So...|   LX|  SUV|       au...|5x...|   ca|        5|   14...|si...|   black| ki...|20600|       21500|   Tu...|\n",
      "|2014|Ch...|Cruze|  2LT|Sedan|       au...|1g...|   ca|     null|   15...| blue|   black| av...|13900|       10600|   Tu...|\n",
      "|2015|Ni...|Al...|2.5 S|Sedan|       au...|1n...|   ca|        2|   11...|black|   black| en...|14750|       14100|   Tu...|\n",
      "|2015|Hy...|So...|   SE|Sedan|        null|5n...|   ca|     null|   83...|  red|       —| av...|15200|        4200|   Tu...|\n",
      "|2014| Audi|   Q5|2....|  SUV|       au...|wa...|   ca|      4.9|   79...|white|   black| au...|37100|       40000|   Th...|\n",
      "|2014|Ch...|Ca...|   LS|Coupe|       au...|2g...|   ca|      1.7|   13...|black|   black| we...|17750|       17000|   Tu...|\n",
      "|2014|  BMW|6 ...| 650i|Co...|       au...|wb...|   ca|      3.4|   88...|black|   black| th...|68000|       67200|   We...|\n",
      "+----+-----+-----+-----+-----+------------+-----+-----+---------+--------+-----+--------+------+-----+------------+--------+\n",
      "only showing top 20 rows\n",
      "\n"
     ]
    }
   ],
   "source": [
    "df_pyspark_usa.show(20,5)"
   ]
  },
  {
   "cell_type": "code",
   "execution_count": null,
   "id": "57b6ef23",
   "metadata": {},
   "outputs": [],
   "source": []
  },
  {
   "cell_type": "code",
   "execution_count": null,
   "id": "19e5841f",
   "metadata": {},
   "outputs": [],
   "source": []
  },
  {
   "cell_type": "code",
   "execution_count": null,
   "id": "c2d5e6f3",
   "metadata": {},
   "outputs": [],
   "source": []
  },
  {
   "cell_type": "code",
   "execution_count": null,
   "id": "9f06e448",
   "metadata": {},
   "outputs": [],
   "source": []
  },
  {
   "cell_type": "code",
   "execution_count": null,
   "id": "90f511e6",
   "metadata": {},
   "outputs": [],
   "source": []
  },
  {
   "cell_type": "code",
   "execution_count": 33,
   "id": "21962c24",
   "metadata": {},
   "outputs": [],
   "source": [
    "# adding to state countries and more information to usa by join etc\n",
    "# adding the country of the production of brand (by join and so on)\n",
    "# using all functions and transformation (advanced) from my links\n",
    "# using case when or other functions to translate into english!\n",
    "# using apply map operation"
   ]
  }
 ],
 "metadata": {
  "kernelspec": {
   "display_name": "Python 3 (ipykernel)",
   "language": "python",
   "name": "python3"
  },
  "language_info": {
   "codemirror_mode": {
    "name": "ipython",
    "version": 3
   },
   "file_extension": ".py",
   "mimetype": "text/x-python",
   "name": "python",
   "nbconvert_exporter": "python",
   "pygments_lexer": "ipython3",
   "version": "3.9.12"
  }
 },
 "nbformat": 4,
 "nbformat_minor": 5
}
