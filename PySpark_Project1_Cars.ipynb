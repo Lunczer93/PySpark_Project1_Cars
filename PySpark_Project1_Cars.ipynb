{
 "cells": [
  {
   "cell_type": "markdown",
   "id": "bc409204",
   "metadata": {},
   "source": [
    "# Starting Spark Session"
   ]
  },
  {
   "cell_type": "code",
   "execution_count": 1,
   "id": "232b9ea2",
   "metadata": {},
   "outputs": [],
   "source": [
    "from pyspark.sql import SparkSession,functions, Window\n",
    "from pyspark.sql.functions import *\n",
    "from pyspark.sql.types import IntegerType,BooleanType,DateType, LongType,  DoubleType\n"
   ]
  },
  {
   "cell_type": "markdown",
   "id": "4bea6681",
   "metadata": {},
   "source": [
    "# Creating a Spark Session called Cars"
   ]
  },
  {
   "cell_type": "code",
   "execution_count": 2,
   "id": "274fc1ff",
   "metadata": {},
   "outputs": [],
   "source": [
    "spark = SparkSession.builder.appName('Cars').getOrCreate()"
   ]
  },
  {
   "cell_type": "code",
   "execution_count": 3,
   "id": "7870a30a",
   "metadata": {},
   "outputs": [
    {
     "data": {
      "text/html": [
       "\n",
       "            <div>\n",
       "                <p><b>SparkSession - in-memory</b></p>\n",
       "                \n",
       "        <div>\n",
       "            <p><b>SparkContext</b></p>\n",
       "\n",
       "            <p><a href=\"http://DESKTOP-BAEJB87:4040\">Spark UI</a></p>\n",
       "\n",
       "            <dl>\n",
       "              <dt>Version</dt>\n",
       "                <dd><code>v3.3.2</code></dd>\n",
       "              <dt>Master</dt>\n",
       "                <dd><code>local[*]</code></dd>\n",
       "              <dt>AppName</dt>\n",
       "                <dd><code>Cars</code></dd>\n",
       "            </dl>\n",
       "        </div>\n",
       "        \n",
       "            </div>\n",
       "        "
      ],
      "text/plain": [
       "<pyspark.sql.session.SparkSession at 0x1bd9aec16d0>"
      ]
     },
     "execution_count": 3,
     "metadata": {},
     "output_type": "execute_result"
    }
   ],
   "source": [
    "spark"
   ]
  },
  {
   "cell_type": "markdown",
   "id": "9bac865e",
   "metadata": {},
   "source": [
    "# Reading a file of CSV format into Spark DataFrame"
   ]
  },
  {
   "cell_type": "code",
   "execution_count": 4,
   "id": "cba98e69",
   "metadata": {},
   "outputs": [],
   "source": [
    "pathArgCars = r'D:\\My commercial projects\\PySpark\\Project 1 PySpark\\Car Prices\\argentina_cars.csv'\n",
    "pathNigCars = r'D:\\My commercial projects\\PySpark\\Project 1 PySpark\\Car Prices\\nigerian_cars.csv'\n",
    "pathPolCars = r'D:\\My commercial projects\\PySpark\\Project 1 PySpark\\Car Prices\\poland_cars.csv'\n",
    "pathUsaCars = r'D:\\My commercial projects\\PySpark\\Project 1 PySpark\\Car Prices\\usa_cars.csv'"
   ]
  },
  {
   "cell_type": "code",
   "execution_count": 5,
   "id": "77944045",
   "metadata": {},
   "outputs": [],
   "source": [
    "df_pyspark_arg =spark.read.csv(pathArgCars,header=True,inferSchema=True)\n",
    "df_pyspark_nig =  spark.read.csv(pathNigCars,header=True,inferSchema=True)\n",
    "df_pyspark_pol = spark.read.csv(pathPolCars,header=True,inferSchema=True)\n",
    "df_pyspark_usa = spark.read.csv(pathUsaCars,header=True,inferSchema=True)"
   ]
  },
  {
   "cell_type": "code",
   "execution_count": 6,
   "id": "5cb26d87",
   "metadata": {},
   "outputs": [
    {
     "name": "stdout",
     "output_type": "stream",
     "text": [
      "+--------+-------------+-------------+----+-----------+---------+----+----------+-------------+---------+----------+--------+\n",
      "|   money|        brand|        model|year|      color|fuel_type|door|      gear|        motor|body_type|kilometres|currency|\n",
      "+--------+-------------+-------------+----+-----------+---------+----+----------+-------------+---------+----------+--------+\n",
      "|10350000|       Toyota|Corolla Cross|2022|   Plateado|    Nafta| 5.0|Automática|         null|      SUV|       500|   pesos|\n",
      "|10850000|         Jeep|      Compass|2022|     Blanco|    Nafta| 5.0|Automática|          2.4|      SUV|       500|   pesos|\n",
      "|   35500|         Jeep|      Compass|2022|Gris oscuro|    Nafta| 5.0|Automática|          2.4|      SUV|       500| dólares|\n",
      "|   19000|      Citroën|    C4 Cactus|2022|Gris oscuro|    Nafta| 5.0|Automática|         null|      SUV|       550| dólares|\n",
      "| 5800000|       Toyota|      Corolla|2019|       Gris|    Nafta| 4.0|    Manual|          1.8|    Sedán|      9000|   pesos|\n",
      "|   34500|         Jeep|      Compass|2022|      Negro|    Nafta| 5.0|Automática|          1.3|      SUV|     10500| dólares|\n",
      "|   25000|          Kia|      Sorento|2014|      Negro|   Diésel| 5.0|Automática|          2.2|      SUV|    156000| dólares|\n",
      "|   12300|Mercedes-Benz|      Clase C|2008|   Plateado|    Nafta| 4.0|Automática|          1.8|    Sedán|    174000| dólares|\n",
      "|   35500|          BMW|          220|2016|     Blanco|    Nafta| 2.0|Automática|        TURBO|    Coupé|     66000| dólares|\n",
      "| 6800000|   Volkswagen|      T-Cross|2019|    Naranja|    Nafta| 5.0|Automática|1.6 MSI Nafta|      SUV|     35000|   pesos|\n",
      "|   38500|Mercedes-Benz|      Clase A|2017|   Plateado|    Nafta| 5.0|Automática|            3|Hatchback|     55394| dólares|\n",
      "|   20500|Mercedes-Benz|      Clase A|2013|     Blanco|    Nafta| 5.0|    Manual|          1.6|Hatchback|    162080| dólares|\n",
      "| 3500000|      Renault|      Sandero|2022|   Plateado|    Nafta| 5.0|    Manual|         null|    Sedán|    111111|   pesos|\n",
      "| 5990000|   Volkswagen|         Polo|2022|     Blanco|    Nafta| 5.0|    Manual|          1.6|Hatchback|    111111|   pesos|\n",
      "|   41900|          BMW|      Serie 1|2020|      Negro|    Nafta| 5.0|Automática|         null|Hatchback|     34800| dólares|\n",
      "| 2100000|         Ford|     Ecosport|2011|      Beige|    Nafta| 4.0|    Manual|          1.6|      SUV|    101000|   pesos|\n",
      "|   38500|    Chevrolet|  Trailblazer|2019|       Gris|   Diésel| 5.0|Automática|         null|      SUV|     73000| dólares|\n",
      "| 2940000|       Toyota|        Etios|2015|     Blanco|    Nafta| 5.0|    Manual|          1.5|Hatchback|     83000|   pesos|\n",
      "| 2050000|      Renault|         Clio|2014|       Gris|    Nafta| 5.0|    Manual|          1.2|Hatchback|     99000|   pesos|\n",
      "| 4120000|       Toyota|         RAV4|2011|       Gris|    Nafta| 5.0|Automática|          2.4|      SUV|    180000|   pesos|\n",
      "+--------+-------------+-------------+----+-----------+---------+----+----------+-------------+---------+----------+--------+\n",
      "only showing top 20 rows\n",
      "\n"
     ]
    }
   ],
   "source": [
    "df_pyspark_arg.show()"
   ]
  },
  {
   "cell_type": "code",
   "execution_count": 7,
   "id": "6aeecc31",
   "metadata": {},
   "outputs": [
    {
     "name": "stdout",
     "output_type": "stream",
     "text": [
      "+---+-------------+-------------------+-------------+-------+-----------+------+------------+----------+-----+\n",
      "|_c0|         Make|Year of manufacture|    Condition|Mileage|Engine Size|  Fuel|Transmission|     Price|Build|\n",
      "+---+-------------+-------------------+-------------+-------+-----------+------+------------+----------+-----+\n",
      "|  0|       Toyota|               2007|Nigerian Used| 166418|       2400|Petrol|   Automatic| 3,120,000| null|\n",
      "|  1|        Lexus|               null|         null| 138024|       null|  null|   Automatic| 5,834,000| null|\n",
      "|  2|Mercedes-Benz|               2008|Nigerian Used| 376807|       3000|Petrol|   Automatic| 3,640,000| null|\n",
      "|  3|        Lexus|               null|         null| 213362|       null|  null|   Automatic| 3,594,000| null|\n",
      "|  4|Mercedes-Benz|               null|         null| 106199|       null|  null|   Automatic| 8,410,000| null|\n",
      "|  5|Mercedes-Benz|               null|         null|  87660|       null|  null|   Automatic| 5,554,000| null|\n",
      "|  6|        Lexus|               null|         null| 191411|       null|  null|   Automatic| 3,706,000| null|\n",
      "|  7|        Lexus|               null|         null|  59092|       null|  null|   Automatic| 8,410,000| null|\n",
      "|  8|Mercedes-Benz|               null|         null|  89423|       null|  null|   Automatic| 6,506,000| null|\n",
      "|  9|        Lexus|               null|         null| 184827|       null|  null|   Automatic| 4,000,000| null|\n",
      "| 10|        Lexus|               null|         null|  42433|       null|  null|   Automatic| 8,970,000| null|\n",
      "| 11|        Lexus|               null|         null| 116138|       null|  null|   Automatic| 3,034,000| null|\n",
      "| 12|        Lexus|               null|         null| 167583|       null|  null|   Automatic| 3,818,000| null|\n",
      "| 13|        Lexus|               null|         null| 240934|       null|  null|   Automatic| 3,930,000| null|\n",
      "| 14|         Fiat|               null|         null|    114|       null|  null|   Automatic| 8,500,000| null|\n",
      "| 15|         Fiat|               null|         null|     54|       null|  null|      Manual|12,500,000| null|\n",
      "| 16|        Lexus|               null|         null|  79740|       null|  null|   Automatic| 5,274,000| null|\n",
      "| 17|Mercedes-Benz|               null|         null| 338145|       null|  null|   Automatic| 8,060,000| null|\n",
      "| 18|        Lexus|               null|         null| 174545|       null|  null|   Automatic| 6,506,000| null|\n",
      "| 19|   Land Rover|               null|         null|  63296|       null|  null|   Automatic| 6,910,000| null|\n",
      "+---+-------------+-------------------+-------------+-------+-----------+------+------------+----------+-----+\n",
      "only showing top 20 rows\n",
      "\n"
     ]
    }
   ],
   "source": [
    "df_pyspark_nig.show()"
   ]
  },
  {
   "cell_type": "code",
   "execution_count": 8,
   "id": "43cacdbc",
   "metadata": {},
   "outputs": [
    {
     "name": "stdout",
     "output_type": "stream",
     "text": [
      "+---+----+-----+---------------+----+-------+----------+------+---------------+-------------------+-----+\n",
      "|_c0|mark|model|generation_name|year|mileage|vol_engine|  fuel|           city|           province|price|\n",
      "+---+----+-----+---------------+----+-------+----------+------+---------------+-------------------+-----+\n",
      "|  0|opel|combo|     gen-d-2011|2015| 139568|      1248|Diesel|          Janki|        Mazowieckie|35900|\n",
      "|  1|opel|combo|     gen-d-2011|2018|  31991|      1499|Diesel|       Katowice|            Śląskie|78501|\n",
      "|  2|opel|combo|     gen-d-2011|2015| 278437|      1598|Diesel|          Brzeg|           Opolskie|27000|\n",
      "|  3|opel|combo|     gen-d-2011|2016|  47600|      1248|Diesel|      Korfantów|           Opolskie|30800|\n",
      "|  4|opel|combo|     gen-d-2011|2014| 103000|      1400|   CNG|Tarnowskie Góry|            Śląskie|35900|\n",
      "|  5|opel|combo|     gen-d-2011|2017| 121203|      1598|Diesel|       Warszawa|        Mazowieckie|51900|\n",
      "|  6|opel|combo|     gen-d-2011|2017| 119965|      1248|Diesel|        Wrocław|       Dolnośląskie|44700|\n",
      "|  7|opel|combo|     gen-d-2011|2016| 201658|      1248|Diesel|         Lublin|          Lubelskie|29000|\n",
      "|  8|opel|combo|     gen-d-2011|2014| 178666|      1598|Diesel|         Złotów|      Wielkopolskie|28900|\n",
      "|  9|opel|combo|     gen-d-2011|2015| 113000|      1248|Diesel|       Strzyżew|        Mazowieckie|34900|\n",
      "| 10|opel|combo|     gen-d-2011|2012| 237000|      1598|Diesel|         Elbląg|Warmińsko-mazurskie|24800|\n",
      "| 11|opel|combo|     gen-d-2011|2017| 137000|      1248|Diesel|       Warszawa|        Mazowieckie|39900|\n",
      "| 12|opel|combo|     gen-d-2011|2016| 154000|      1248|Diesel|      Sosnowiec|            Śląskie|35900|\n",
      "| 13|opel|combo|     gen-d-2011|2017|  59339|      1248|Diesel|        Wrocław|       Dolnośląskie|55300|\n",
      "| 14|opel|combo|     gen-d-2011|2016| 137445|      1598|Diesel|          Opole|           Opolskie|34700|\n",
      "| 15|opel|combo|     gen-d-2011|2016| 141859|      1248|Diesel|       Katowice|            Śląskie|39900|\n",
      "| 16|opel|combo|     gen-d-2011|2012| 195000|      1598|Diesel|          Radom|        Mazowieckie|25900|\n",
      "| 17|opel|combo|     gen-d-2011|2015| 180000|      1598|Diesel|       Chmieleń|       Dolnośląskie|32900|\n",
      "| 18|opel|combo|     gen-d-2011|2018| 107515|      1499|Diesel|      Piaseczno|        Mazowieckie|62000|\n",
      "| 19|opel|combo|     gen-d-2011|2017| 149000|      1598|Diesel|  Góra Kalwaria|        Mazowieckie|39852|\n",
      "+---+----+-----+---------------+----+-------+----------+------+---------------+-------------------+-----+\n",
      "only showing top 20 rows\n",
      "\n"
     ]
    }
   ],
   "source": [
    "df_pyspark_pol.show()"
   ]
  },
  {
   "cell_type": "code",
   "execution_count": 9,
   "id": "f79c9e76",
   "metadata": {},
   "outputs": [
    {
     "name": "stdout",
     "output_type": "stream",
     "text": [
      "+----+-----+-----+-----+-----+------------+-----+-----+---------+--------+-----+--------+------+-----+------------+--------+\n",
      "|year| make|model| trim| body|transmission|  vin|state|condition|odometer|color|interior|seller|  mmr|sellingprice|saledate|\n",
      "+----+-----+-----+-----+-----+------------+-----+-----+---------+--------+-----+--------+------+-----+------------+--------+\n",
      "|2015|  Kia|So...|   LX|  SUV|       au...|5x...|   ca|        5|   16...|white|   black| ki...|20500|       21500|   Tu...|\n",
      "|2015|  Kia|So...|   LX|  SUV|       au...|5x...|   ca|        5|   93...|white|   beige| ki...|20800|       21500|   Tu...|\n",
      "|2014|  BMW|3 ...|32...|Sedan|       au...|wb...|   ca|      4.5|   13...| gray|   black| fi...|31900|       30000|   Th...|\n",
      "|2015|Volvo|  S60|   T5|Sedan|       au...|yv...|   ca|      4.1|   14...|white|   black| vo...|27500|       27750|   Th...|\n",
      "|2014|  BMW|6 ...| 650i|Sedan|       au...|wb...|   ca|      4.3|   26...| gray|   black| fi...|66000|       67000|   Th...|\n",
      "|2015|Ni...|Al...|2.5 S|Sedan|       au...|1n...|   ca|        1|   55...| gray|   black| en...|15350|       10900|   Tu...|\n",
      "|2014|  BMW|   M5| Base|Sedan|       au...|wb...|   ca|      3.4|   14...|black|   black| th...|69000|       65000|   We...|\n",
      "|2014|Ch...|Cruze|  1LT|Sedan|       au...|1g...|   ca|        2|   28...|black|   black| en...|11900|        9800|   Tu...|\n",
      "|2014| Audi|   A4|2....|Sedan|       au...|wa...|   ca|      4.2|   95...|white|   black| au...|32100|       32250|   Th...|\n",
      "|2014|Ch...|Ca...|   LT|Co...|       au...|2g...|   ca|        3|   48...|  red|   black| d/...|26300|       17500|   Tu...|\n",
      "|2014| Audi|   A6|3....|Sedan|       au...|wa...|   ca|      4.8|   14...|black|   black| de...|47300|       49750|   Tu...|\n",
      "|2015|  Kia|Op...|   LX|Sedan|       au...|5x...|   ca|      4.8|   20...|  red|     tan| ki...|15150|       17700|   Tu...|\n",
      "|2015| Ford|Fu...|   SE|Sedan|       au...|3f...|   ca|        2|   55...|white|   beige| en...|15350|       12000|   Tu...|\n",
      "|2015|  Kia|So...|   LX|  SUV|       au...|5x...|   ca|        5|   14...|si...|   black| ki...|20600|       21500|   Tu...|\n",
      "|2014|Ch...|Cruze|  2LT|Sedan|       au...|1g...|   ca|     null|   15...| blue|   black| av...|13900|       10600|   Tu...|\n",
      "|2015|Ni...|Al...|2.5 S|Sedan|       au...|1n...|   ca|        2|   11...|black|   black| en...|14750|       14100|   Tu...|\n",
      "|2015|Hy...|So...|   SE|Sedan|        null|5n...|   ca|     null|   83...|  red|       —| av...|15200|        4200|   Tu...|\n",
      "|2014| Audi|   Q5|2....|  SUV|       au...|wa...|   ca|      4.9|   79...|white|   black| au...|37100|       40000|   Th...|\n",
      "|2014|Ch...|Ca...|   LS|Coupe|       au...|2g...|   ca|      1.7|   13...|black|   black| we...|17750|       17000|   Tu...|\n",
      "|2014|  BMW|6 ...| 650i|Co...|       au...|wb...|   ca|      3.4|   88...|black|   black| th...|68000|       67200|   We...|\n",
      "+----+-----+-----+-----+-----+------------+-----+-----+---------+--------+-----+--------+------+-----+------------+--------+\n",
      "only showing top 20 rows\n",
      "\n"
     ]
    }
   ],
   "source": [
    "df_pyspark_usa.show(20,5)"
   ]
  },
  {
   "cell_type": "code",
   "execution_count": 10,
   "id": "24d85536",
   "metadata": {},
   "outputs": [
    {
     "name": "stdout",
     "output_type": "stream",
     "text": [
      "+----+----+-------+----+----+------------+-----------------+-----+---------+--------+-----+--------+-----------------------+-----+------------+---------------------------------------+\n",
      "|year|make|model  |trim|body|transmission|vin              |state|condition|odometer|color|interior|seller                 |mmr  |sellingprice|saledate                               |\n",
      "+----+----+-------+----+----+------------+-----------------+-----+---------+--------+-----+--------+-----------------------+-----+------------+---------------------------------------+\n",
      "|2015|Kia |Sorento|LX  |SUV |automatic   |5xyktca69fg566472|ca   |5        |16639.0 |white|black   |kia motors america, inc|20500|21500       |Tue Dec 16 2014 12:30:00 GMT-0800 (PST)|\n",
      "|2015|Kia |Sorento|LX  |SUV |automatic   |5xyktca69fg561319|ca   |5        |9393.0  |white|beige   |kia motors america, inc|20800|21500       |Tue Dec 16 2014 12:30:00 GMT-0800 (PST)|\n",
      "+----+----+-------+----+----+------------+-----------------+-----+---------+--------+-----+--------+-----------------------+-----+------------+---------------------------------------+\n",
      "only showing top 2 rows\n",
      "\n"
     ]
    }
   ],
   "source": [
    "df_pyspark_usa.show(2,truncate=False)"
   ]
  },
  {
   "cell_type": "markdown",
   "id": "6c42384f",
   "metadata": {},
   "source": [
    "# Exploratory Data, Data Cleaning, Data Wrangling"
   ]
  },
  {
   "cell_type": "markdown",
   "id": "44346ba8",
   "metadata": {},
   "source": [
    "## df_pyspark_arg"
   ]
  },
  {
   "cell_type": "code",
   "execution_count": 11,
   "id": "8b676d46",
   "metadata": {},
   "outputs": [
    {
     "name": "stdout",
     "output_type": "stream",
     "text": [
      "+--------+-------------+-------------+----+-----------+---------+----+----------+-------------+---------+----------+--------+\n",
      "|money   |brand        |model        |year|color      |fuel_type|door|gear      |motor        |body_type|kilometres|currency|\n",
      "+--------+-------------+-------------+----+-----------+---------+----+----------+-------------+---------+----------+--------+\n",
      "|10350000|Toyota       |Corolla Cross|2022|Plateado   |Nafta    |5.0 |Automática|null         |SUV      |500       |pesos   |\n",
      "|10850000|Jeep         |Compass      |2022|Blanco     |Nafta    |5.0 |Automática|2.4          |SUV      |500       |pesos   |\n",
      "|35500   |Jeep         |Compass      |2022|Gris oscuro|Nafta    |5.0 |Automática|2.4          |SUV      |500       |dólares |\n",
      "|19000   |Citroën      |C4 Cactus    |2022|Gris oscuro|Nafta    |5.0 |Automática|null         |SUV      |550       |dólares |\n",
      "|5800000 |Toyota       |Corolla      |2019|Gris       |Nafta    |4.0 |Manual    |1.8          |Sedán    |9000      |pesos   |\n",
      "|34500   |Jeep         |Compass      |2022|Negro      |Nafta    |5.0 |Automática|1.3          |SUV      |10500     |dólares |\n",
      "|25000   |Kia          |Sorento      |2014|Negro      |Diésel   |5.0 |Automática|2.2          |SUV      |156000    |dólares |\n",
      "|12300   |Mercedes-Benz|Clase C      |2008|Plateado   |Nafta    |4.0 |Automática|1.8          |Sedán    |174000    |dólares |\n",
      "|35500   |BMW          |220          |2016|Blanco     |Nafta    |2.0 |Automática|TURBO        |Coupé    |66000     |dólares |\n",
      "|6800000 |Volkswagen   |T-Cross      |2019|Naranja    |Nafta    |5.0 |Automática|1.6 MSI Nafta|SUV      |35000     |pesos   |\n",
      "|38500   |Mercedes-Benz|Clase A      |2017|Plateado   |Nafta    |5.0 |Automática|3            |Hatchback|55394     |dólares |\n",
      "|20500   |Mercedes-Benz|Clase A      |2013|Blanco     |Nafta    |5.0 |Manual    |1.6          |Hatchback|162080    |dólares |\n",
      "|3500000 |Renault      |Sandero      |2022|Plateado   |Nafta    |5.0 |Manual    |null         |Sedán    |111111    |pesos   |\n",
      "|5990000 |Volkswagen   |Polo         |2022|Blanco     |Nafta    |5.0 |Manual    |1.6          |Hatchback|111111    |pesos   |\n",
      "|41900   |BMW          |Serie 1      |2020|Negro      |Nafta    |5.0 |Automática|null         |Hatchback|34800     |dólares |\n",
      "|2100000 |Ford         |Ecosport     |2011|Beige      |Nafta    |4.0 |Manual    |1.6          |SUV      |101000    |pesos   |\n",
      "|38500   |Chevrolet    |Trailblazer  |2019|Gris       |Diésel   |5.0 |Automática|null         |SUV      |73000     |dólares |\n",
      "|2940000 |Toyota       |Etios        |2015|Blanco     |Nafta    |5.0 |Manual    |1.5          |Hatchback|83000     |pesos   |\n",
      "|2050000 |Renault      |Clio         |2014|Gris       |Nafta    |5.0 |Manual    |1.2          |Hatchback|99000     |pesos   |\n",
      "|4120000 |Toyota       |RAV4         |2011|Gris       |Nafta    |5.0 |Automática|2.4          |SUV      |180000    |pesos   |\n",
      "+--------+-------------+-------------+----+-----------+---------+----+----------+-------------+---------+----------+--------+\n",
      "only showing top 20 rows\n",
      "\n"
     ]
    }
   ],
   "source": [
    "df_pyspark_arg.show(20,truncate=False)"
   ]
  },
  {
   "cell_type": "code",
   "execution_count": 12,
   "id": "d84f3a2a",
   "metadata": {},
   "outputs": [
    {
     "name": "stdout",
     "output_type": "stream",
     "text": [
      "root\n",
      " |-- money: integer (nullable = true)\n",
      " |-- brand: string (nullable = true)\n",
      " |-- model: string (nullable = true)\n",
      " |-- year: integer (nullable = true)\n",
      " |-- color: string (nullable = true)\n",
      " |-- fuel_type: string (nullable = true)\n",
      " |-- door: double (nullable = true)\n",
      " |-- gear: string (nullable = true)\n",
      " |-- motor: string (nullable = true)\n",
      " |-- body_type: string (nullable = true)\n",
      " |-- kilometres: integer (nullable = true)\n",
      " |-- currency: string (nullable = true)\n",
      "\n"
     ]
    }
   ],
   "source": [
    "df_pyspark_arg.printSchema()"
   ]
  },
  {
   "cell_type": "markdown",
   "id": "d42eb90a",
   "metadata": {},
   "source": [
    "### Dealing with null values"
   ]
  },
  {
   "cell_type": "markdown",
   "id": "5c7f7044",
   "metadata": {},
   "source": [
    "#### Using two methods:"
   ]
  },
  {
   "cell_type": "code",
   "execution_count": 13,
   "id": "48b0a9a2",
   "metadata": {},
   "outputs": [
    {
     "name": "stdout",
     "output_type": "stream",
     "text": [
      "+-----+-----+-----+----+-----+---------+----+----+-----+---------+----------+--------+\n",
      "|money|brand|model|year|color|fuel_type|door|gear|motor|body_type|kilometres|currency|\n",
      "+-----+-----+-----+----+-----+---------+----+----+-----+---------+----------+--------+\n",
      "|    0|    0|    0|   0|   11|        0|   0|   1|   11|        1|         0|       0|\n",
      "+-----+-----+-----+----+-----+---------+----+----+-----+---------+----------+--------+\n",
      "\n"
     ]
    }
   ],
   "source": [
    "df_pyspark_arg.select([count(when(isnan(c) | col(c).isNull(), c)).alias(c) for c in df_pyspark_arg.columns]).show()\n"
   ]
  },
  {
   "cell_type": "code",
   "execution_count": 14,
   "id": "b7c30ae3",
   "metadata": {},
   "outputs": [
    {
     "data": {
      "text/plain": [
       "{'money': 0,\n",
       " 'brand': 0,\n",
       " 'model': 0,\n",
       " 'year': 0,\n",
       " 'color': 11,\n",
       " 'fuel_type': 0,\n",
       " 'door': 0,\n",
       " 'gear': 1,\n",
       " 'motor': 11,\n",
       " 'body_type': 1,\n",
       " 'kilometres': 0,\n",
       " 'currency': 0}"
      ]
     },
     "execution_count": 14,
     "metadata": {},
     "output_type": "execute_result"
    }
   ],
   "source": [
    "Dict_Null = {col:df_pyspark_arg.filter(df_pyspark_arg[col].isNull()).count() for col in df_pyspark_arg.columns}\n",
    "Dict_Null"
   ]
  },
  {
   "cell_type": "markdown",
   "id": "ba77a578",
   "metadata": {},
   "source": [
    "#### Looking for null values in columns:"
   ]
  },
  {
   "cell_type": "code",
   "execution_count": 15,
   "id": "d7a50c88",
   "metadata": {},
   "outputs": [
    {
     "name": "stdout",
     "output_type": "stream",
     "text": [
      "+-------+----------+-----------+----+-----+---------+----+----------+-----+-----------+----------+--------+\n",
      "|  money|     brand|      model|year|color|fuel_type|door|      gear|motor|  body_type|kilometres|currency|\n",
      "+-------+----------+-----------+----+-----+---------+----+----------+-----+-----------+----------+--------+\n",
      "|  16000|       BMW|         X5|2000| null|    Nafta| 5.0|    Manual|  4.4|        SUV|    132000| dólares|\n",
      "|6300000|    Toyota|    Corolla|2018| null|    Nafta| 4.0|Automática|  1.8|      Sedán|     16500|   pesos|\n",
      "|2890000|   Peugeot|        408|2013| null|    Nafta| 4.0|    Manual|  2.0|      Sedán|    129400|   pesos|\n",
      "|3050000|   Renault|      Logan|2016| null|    Nafta| 4.0|    Manual|  1.6|      Sedán|     37300|   pesos|\n",
      "|1690000| Chevrolet|      Celta|2013| null|    Nafta| 3.0|    Manual|  1.4|  Hatchback|    109000|   pesos|\n",
      "|7500000|Volkswagen|     Sharan|2014| null|    Nafta| 5.0|Automática|  2.0|Monovolumen|     66000|   pesos|\n",
      "|2750000|   Citroën|        DS3|2012| null|    Nafta| 3.0|    Manual|  1.6|  Hatchback|     95000|   pesos|\n",
      "|8700000|   Citroën|      Jumpy|2022| null|   Diésel| 3.0|    Manual|  1.6|     Furgón|      1000|   pesos|\n",
      "|2990000|Volkswagen|Suran Cross|2014| null|    Nafta| 5.0|    Manual|  1.6|Monovolumen|    120000|   pesos|\n",
      "|1698000|      Ford|         Ka|2011| null|    Nafta| 3.0|    Manual|  1.6|  Hatchback|     97000|   pesos|\n",
      "|1950000|   Peugeot|        504|1996| null|   Diésel| 4.0|    Manual|  2.3|      Sedán|     99000|   pesos|\n",
      "+-------+----------+-----------+----+-----+---------+----+----------+-----+-----------+----------+--------+\n",
      "\n"
     ]
    }
   ],
   "source": [
    "df_pyspark_arg.filter(df_pyspark_arg.color.isNull()).show()"
   ]
  },
  {
   "cell_type": "code",
   "execution_count": 16,
   "id": "0c267952",
   "metadata": {},
   "outputs": [
    {
     "name": "stdout",
     "output_type": "stream",
     "text": [
      "+-----+------+-----+----+-----+---------+----+----+------------+---------+----------+--------+\n",
      "|money| brand|model|year|color|fuel_type|door|gear|       motor|body_type|kilometres|currency|\n",
      "+-----+------+-----+----+-----+---------+----+----+------------+---------+----------+--------+\n",
      "|60000|Toyota|Hilux|2022|Negro|   Diésel| 4.0|null|2.8tdi 223cv|  Pick-Up|      4000| dólares|\n",
      "+-----+------+-----+----+-----+---------+----+----+------------+---------+----------+--------+\n",
      "\n"
     ]
    }
   ],
   "source": [
    "df_pyspark_arg.filter(df_pyspark_arg.gear.isNull()).show()"
   ]
  },
  {
   "cell_type": "code",
   "execution_count": 17,
   "id": "c0f9cc9a",
   "metadata": {},
   "outputs": [
    {
     "name": "stdout",
     "output_type": "stream",
     "text": [
      "+--------+---------+-------------+----+-----------+---------+----+----------+-----+---------+----------+--------+\n",
      "|   money|    brand|        model|year|      color|fuel_type|door|      gear|motor|body_type|kilometres|currency|\n",
      "+--------+---------+-------------+----+-----------+---------+----+----------+-----+---------+----------+--------+\n",
      "|10350000|   Toyota|Corolla Cross|2022|   Plateado|    Nafta| 5.0|Automática| null|      SUV|       500|   pesos|\n",
      "|   19000|  Citroën|    C4 Cactus|2022|Gris oscuro|    Nafta| 5.0|Automática| null|      SUV|       550| dólares|\n",
      "| 3500000|  Renault|      Sandero|2022|   Plateado|    Nafta| 5.0|    Manual| null|    Sedán|    111111|   pesos|\n",
      "|   41900|      BMW|      Serie 1|2020|      Negro|    Nafta| 5.0|Automática| null|Hatchback|     34800| dólares|\n",
      "|   38500|Chevrolet|  Trailblazer|2019|       Gris|   Diésel| 5.0|Automática| null|      SUV|     73000| dólares|\n",
      "| 2800000|     Fiat|        Bravo|2013|      Negro|    Nafta| 5.0|    Manual| null|Hatchback|    124000|   pesos|\n",
      "|10200000|   Toyota|        Hilux|2022|      Negro|   Diésel| 4.0|    Manual| null|  Pick-Up|     21000|   pesos|\n",
      "| 3150000|     Ford|       Fiesta|2016|       Rojo|    Nafta| 5.0|    Manual| null|Hatchback|     68000|   pesos|\n",
      "|   23500|  Hyundai|      Genesis|2012|       Gris|    Nafta| 2.0|    Manual| null|    Coupé|    104270| dólares|\n",
      "|   79900|  Porsche|     Panamera|2010|     Blanco|    Nafta| 4.0|Automática| null|    Sedán|     59141| dólares|\n",
      "| 1760000|     Fiat|          Uno|2010|       Rojo|    Nafta| 5.0|    Manual| null|     null|    128000|   pesos|\n",
      "+--------+---------+-------------+----+-----------+---------+----+----------+-----+---------+----------+--------+\n",
      "\n"
     ]
    }
   ],
   "source": [
    "df_pyspark_arg.filter(df_pyspark_arg.motor.isNull()).show()"
   ]
  },
  {
   "cell_type": "code",
   "execution_count": 18,
   "id": "9141a792",
   "metadata": {},
   "outputs": [
    {
     "name": "stdout",
     "output_type": "stream",
     "text": [
      "+-------+-----+-----+----+-----+---------+----+------+-----+---------+----------+--------+\n",
      "|  money|brand|model|year|color|fuel_type|door|  gear|motor|body_type|kilometres|currency|\n",
      "+-------+-----+-----+----+-----+---------+----+------+-----+---------+----------+--------+\n",
      "|1760000| Fiat|  Uno|2010| Rojo|    Nafta| 5.0|Manual| null|     null|    128000|   pesos|\n",
      "+-------+-----+-----+----+-----+---------+----+------+-----+---------+----------+--------+\n",
      "\n"
     ]
    }
   ],
   "source": [
    "df_pyspark_arg.filter(df_pyspark_arg.body_type.isNull()).show()"
   ]
  },
  {
   "cell_type": "markdown",
   "id": "a4afc1f7",
   "metadata": {},
   "source": [
    "#### Replacing  null values in columns:"
   ]
  },
  {
   "cell_type": "code",
   "execution_count": 19,
   "id": "bdbf749f",
   "metadata": {},
   "outputs": [],
   "source": [
    "df_pyspark_arg = df_pyspark_arg.na.fill(value='Not available', subset=['color','gear','motor','body_type'])"
   ]
  },
  {
   "cell_type": "markdown",
   "id": "afeb7cb4",
   "metadata": {},
   "source": [
    "#### Verifying if there are still null values"
   ]
  },
  {
   "cell_type": "code",
   "execution_count": 20,
   "id": "094ed7ca",
   "metadata": {},
   "outputs": [
    {
     "data": {
      "text/plain": [
       "{'money': 0,\n",
       " 'brand': 0,\n",
       " 'model': 0,\n",
       " 'year': 0,\n",
       " 'color': 0,\n",
       " 'fuel_type': 0,\n",
       " 'door': 0,\n",
       " 'gear': 0,\n",
       " 'motor': 0,\n",
       " 'body_type': 0,\n",
       " 'kilometres': 0,\n",
       " 'currency': 0}"
      ]
     },
     "execution_count": 20,
     "metadata": {},
     "output_type": "execute_result"
    }
   ],
   "source": [
    "Dict_Null = {col:df_pyspark_arg.filter(df_pyspark_arg[col].isNull()).count() for col in df_pyspark_arg.columns}\n",
    "Dict_Null"
   ]
  },
  {
   "cell_type": "markdown",
   "id": "54757b14",
   "metadata": {},
   "source": [
    "### Dealing with duplicate values"
   ]
  },
  {
   "cell_type": "code",
   "execution_count": 21,
   "id": "3cf073ff",
   "metadata": {},
   "outputs": [
    {
     "name": "stdout",
     "output_type": "stream",
     "text": [
      "Count  of rows in dataframe: 510\n"
     ]
    }
   ],
   "source": [
    "print(\"Count  of rows in dataframe: \" + str(df_pyspark_arg.count()))"
   ]
  },
  {
   "cell_type": "code",
   "execution_count": 22,
   "id": "30182dff",
   "metadata": {},
   "outputs": [
    {
     "name": "stdout",
     "output_type": "stream",
     "text": [
      "Distinct Count of rows in dataframe: 510\n"
     ]
    }
   ],
   "source": [
    "print(\"Distinct Count of rows in dataframe: \" + str(df_pyspark_arg.distinct().count()))"
   ]
  },
  {
   "cell_type": "markdown",
   "id": "786f2eb6",
   "metadata": {},
   "source": [
    "### Chaning the name of objects to english language"
   ]
  },
  {
   "cell_type": "code",
   "execution_count": 23,
   "id": "564a8ef5",
   "metadata": {},
   "outputs": [
    {
     "name": "stdout",
     "output_type": "stream",
     "text": [
      "+--------+-------------+-------------+----+-----------+---------+----+----------+-------------+---------+----------+--------+\n",
      "|   money|        brand|        model|year|      color|fuel_type|door|      gear|        motor|body_type|kilometres|currency|\n",
      "+--------+-------------+-------------+----+-----------+---------+----+----------+-------------+---------+----------+--------+\n",
      "|10350000|       Toyota|Corolla Cross|2022|   Plateado|    Nafta| 5.0|Automática|Not available|      SUV|       500|   pesos|\n",
      "|10850000|         Jeep|      Compass|2022|     Blanco|    Nafta| 5.0|Automática|          2.4|      SUV|       500|   pesos|\n",
      "|   35500|         Jeep|      Compass|2022|Gris oscuro|    Nafta| 5.0|Automática|          2.4|      SUV|       500| dólares|\n",
      "|   19000|      Citroën|    C4 Cactus|2022|Gris oscuro|    Nafta| 5.0|Automática|Not available|      SUV|       550| dólares|\n",
      "| 5800000|       Toyota|      Corolla|2019|       Gris|    Nafta| 4.0|    Manual|          1.8|    Sedán|      9000|   pesos|\n",
      "|   34500|         Jeep|      Compass|2022|      Negro|    Nafta| 5.0|Automática|          1.3|      SUV|     10500| dólares|\n",
      "|   25000|          Kia|      Sorento|2014|      Negro|   Diésel| 5.0|Automática|          2.2|      SUV|    156000| dólares|\n",
      "|   12300|Mercedes-Benz|      Clase C|2008|   Plateado|    Nafta| 4.0|Automática|          1.8|    Sedán|    174000| dólares|\n",
      "|   35500|          BMW|          220|2016|     Blanco|    Nafta| 2.0|Automática|        TURBO|    Coupé|     66000| dólares|\n",
      "| 6800000|   Volkswagen|      T-Cross|2019|    Naranja|    Nafta| 5.0|Automática|1.6 MSI Nafta|      SUV|     35000|   pesos|\n",
      "|   38500|Mercedes-Benz|      Clase A|2017|   Plateado|    Nafta| 5.0|Automática|            3|Hatchback|     55394| dólares|\n",
      "|   20500|Mercedes-Benz|      Clase A|2013|     Blanco|    Nafta| 5.0|    Manual|          1.6|Hatchback|    162080| dólares|\n",
      "| 3500000|      Renault|      Sandero|2022|   Plateado|    Nafta| 5.0|    Manual|Not available|    Sedán|    111111|   pesos|\n",
      "| 5990000|   Volkswagen|         Polo|2022|     Blanco|    Nafta| 5.0|    Manual|          1.6|Hatchback|    111111|   pesos|\n",
      "|   41900|          BMW|      Serie 1|2020|      Negro|    Nafta| 5.0|Automática|Not available|Hatchback|     34800| dólares|\n",
      "| 2100000|         Ford|     Ecosport|2011|      Beige|    Nafta| 4.0|    Manual|          1.6|      SUV|    101000|   pesos|\n",
      "|   38500|    Chevrolet|  Trailblazer|2019|       Gris|   Diésel| 5.0|Automática|Not available|      SUV|     73000| dólares|\n",
      "| 2940000|       Toyota|        Etios|2015|     Blanco|    Nafta| 5.0|    Manual|          1.5|Hatchback|     83000|   pesos|\n",
      "| 2050000|      Renault|         Clio|2014|       Gris|    Nafta| 5.0|    Manual|          1.2|Hatchback|     99000|   pesos|\n",
      "| 4120000|       Toyota|         RAV4|2011|       Gris|    Nafta| 5.0|Automática|          2.4|      SUV|    180000|   pesos|\n",
      "+--------+-------------+-------------+----+-----------+---------+----+----------+-------------+---------+----------+--------+\n",
      "only showing top 20 rows\n",
      "\n"
     ]
    }
   ],
   "source": [
    "df_pyspark_arg.show()"
   ]
  },
  {
   "cell_type": "markdown",
   "id": "44f5629e",
   "metadata": {},
   "source": [
    "#### Select unique values from column:"
   ]
  },
  {
   "cell_type": "code",
   "execution_count": 24,
   "id": "434b7c02",
   "metadata": {},
   "outputs": [
    {
     "name": "stdout",
     "output_type": "stream",
     "text": [
      "+-------------+\n",
      "|color        |\n",
      "+-------------+\n",
      "|Naranja      |\n",
      "|Not available|\n",
      "|Violeta      |\n",
      "|Celeste      |\n",
      "|Beige        |\n",
      "|Blanco       |\n",
      "|Negro        |\n",
      "|Azul         |\n",
      "|Plateado     |\n",
      "|Gris         |\n",
      "|Rojo         |\n",
      "|Gris oscuro  |\n",
      "|Marrón       |\n",
      "|Verde        |\n",
      "|Dorado       |\n",
      "+-------------+\n",
      "\n",
      "[Row(color='Naranja'), Row(color='Not available'), Row(color='Violeta'), Row(color='Celeste'), Row(color='Beige'), Row(color='Blanco'), Row(color='Negro'), Row(color='Azul'), Row(color='Plateado'), Row(color='Gris'), Row(color='Rojo'), Row(color='Gris oscuro'), Row(color='Marrón'), Row(color='Verde'), Row(color='Dorado')]\n"
     ]
    }
   ],
   "source": [
    "SelectUniqueValues = df_pyspark_arg.dropDuplicates([\"color\"]).select(\"color\")\n",
    "SelectUniqueValues.show(truncate=False)\n",
    "\n",
    "print(SelectUniqueValues.dropDuplicates([\"color\"]).select(\"color\").collect())"
   ]
  },
  {
   "cell_type": "code",
   "execution_count": 25,
   "id": "9262f278",
   "metadata": {},
   "outputs": [
    {
     "name": "stdout",
     "output_type": "stream",
     "text": [
      "+--------+-------------+-------------+----+---------+---------+----+----------+-------------+---------+----------+--------+\n",
      "|   money|        brand|        model|year|    Color|fuel_type|door|      gear|        motor|body_type|kilometres|currency|\n",
      "+--------+-------------+-------------+----+---------+---------+----+----------+-------------+---------+----------+--------+\n",
      "|10350000|       Toyota|Corolla Cross|2022|   Silver|    Nafta| 5.0|Automática|Not available|      SUV|       500|   pesos|\n",
      "|10850000|         Jeep|      Compass|2022|    White|    Nafta| 5.0|Automática|          2.4|      SUV|       500|   pesos|\n",
      "|   35500|         Jeep|      Compass|2022|Dark gray|    Nafta| 5.0|Automática|          2.4|      SUV|       500| dólares|\n",
      "|   19000|      Citroën|    C4 Cactus|2022|Dark gray|    Nafta| 5.0|Automática|Not available|      SUV|       550| dólares|\n",
      "| 5800000|       Toyota|      Corolla|2019|     Gray|    Nafta| 4.0|    Manual|          1.8|    Sedán|      9000|   pesos|\n",
      "|   34500|         Jeep|      Compass|2022|    Black|    Nafta| 5.0|Automática|          1.3|      SUV|     10500| dólares|\n",
      "|   25000|          Kia|      Sorento|2014|    Black|   Diésel| 5.0|Automática|          2.2|      SUV|    156000| dólares|\n",
      "|   12300|Mercedes-Benz|      Clase C|2008|   Silver|    Nafta| 4.0|Automática|          1.8|    Sedán|    174000| dólares|\n",
      "|   35500|          BMW|          220|2016|    White|    Nafta| 2.0|Automática|        TURBO|    Coupé|     66000| dólares|\n",
      "| 6800000|   Volkswagen|      T-Cross|2019|   Orange|    Nafta| 5.0|Automática|1.6 MSI Nafta|      SUV|     35000|   pesos|\n",
      "|   38500|Mercedes-Benz|      Clase A|2017|   Silver|    Nafta| 5.0|Automática|            3|Hatchback|     55394| dólares|\n",
      "|   20500|Mercedes-Benz|      Clase A|2013|    White|    Nafta| 5.0|    Manual|          1.6|Hatchback|    162080| dólares|\n",
      "| 3500000|      Renault|      Sandero|2022|   Silver|    Nafta| 5.0|    Manual|Not available|    Sedán|    111111|   pesos|\n",
      "| 5990000|   Volkswagen|         Polo|2022|    White|    Nafta| 5.0|    Manual|          1.6|Hatchback|    111111|   pesos|\n",
      "|   41900|          BMW|      Serie 1|2020|    Black|    Nafta| 5.0|Automática|Not available|Hatchback|     34800| dólares|\n",
      "| 2100000|         Ford|     Ecosport|2011|    Beige|    Nafta| 4.0|    Manual|          1.6|      SUV|    101000|   pesos|\n",
      "|   38500|    Chevrolet|  Trailblazer|2019|     Gray|   Diésel| 5.0|Automática|Not available|      SUV|     73000| dólares|\n",
      "| 2940000|       Toyota|        Etios|2015|    White|    Nafta| 5.0|    Manual|          1.5|Hatchback|     83000|   pesos|\n",
      "| 2050000|      Renault|         Clio|2014|     Gray|    Nafta| 5.0|    Manual|          1.2|Hatchback|     99000|   pesos|\n",
      "| 4120000|       Toyota|         RAV4|2011|     Gray|    Nafta| 5.0|Automática|          2.4|      SUV|    180000|   pesos|\n",
      "+--------+-------------+-------------+----+---------+---------+----+----------+-------------+---------+----------+--------+\n",
      "only showing top 20 rows\n",
      "\n"
     ]
    }
   ],
   "source": [
    "df_pyspark_arg = df_pyspark_arg.withColumn(\"Color\",\n",
    "              when(df_pyspark_arg.color == 'Naranja', 'Orange')\\\n",
    "              .when(df_pyspark_arg.color == 'Violeta', 'Violet')\\\n",
    "              .when(df_pyspark_arg.color == 'Celeste', 'Celestial')\\\n",
    "              .when(df_pyspark_arg.color == 'Beige', 'Beige')\\\n",
    "              .when(df_pyspark_arg.color == 'Blanco', 'White')\\\n",
    "              .when(df_pyspark_arg.color == 'Negro', 'Black')\\\n",
    "              .when(df_pyspark_arg.color == 'Azul', 'Blue')\\\n",
    "              .when(df_pyspark_arg.color == 'Plateado', 'Silver')\\\n",
    "              .when(df_pyspark_arg.color == 'Gris', 'Gray')\\\n",
    "              .when(df_pyspark_arg.color == 'Rojo', 'Red')\\\n",
    "              .when(df_pyspark_arg.color == 'Gris oscuro', 'Dark gray')\\\n",
    "              .when(df_pyspark_arg.color == 'Marrón', 'Brown')\\\n",
    "              .when(df_pyspark_arg.color == 'Verde', 'Green')\\\n",
    "              .when(df_pyspark_arg.color == 'Dorado', 'Golden')\\\n",
    "              .otherwise('Not available'))\n",
    "\n",
    "df_pyspark_arg.show()"
   ]
  },
  {
   "cell_type": "code",
   "execution_count": 26,
   "id": "3b2bb88d",
   "metadata": {},
   "outputs": [
    {
     "name": "stdout",
     "output_type": "stream",
     "text": [
      "+-------------+\n",
      "|fuel_type    |\n",
      "+-------------+\n",
      "|Nafta        |\n",
      "|Nafta/GNC    |\n",
      "|Diésel       |\n",
      "|Híbrido/Nafta|\n",
      "+-------------+\n",
      "\n",
      "[Row(fuel_type='Nafta'), Row(fuel_type='Nafta/GNC'), Row(fuel_type='Diésel'), Row(fuel_type='Híbrido/Nafta')]\n"
     ]
    }
   ],
   "source": [
    "SelectUniqueValues = df_pyspark_arg.dropDuplicates([\"fuel_type\"]).select(\"fuel_type\")\n",
    "SelectUniqueValues.show(truncate=False)\n",
    "\n",
    "print(SelectUniqueValues.dropDuplicates([\"fuel_type\"]).select(\"fuel_type\").collect())"
   ]
  },
  {
   "cell_type": "code",
   "execution_count": 27,
   "id": "675cd85b",
   "metadata": {},
   "outputs": [
    {
     "name": "stdout",
     "output_type": "stream",
     "text": [
      "+--------+-------------+-------------+----+---------+---------+----+----------+-------------+---------+----------+--------+\n",
      "|   money|        brand|        model|year|    Color|Fuel_type|door|      gear|        motor|body_type|kilometres|currency|\n",
      "+--------+-------------+-------------+----+---------+---------+----+----------+-------------+---------+----------+--------+\n",
      "|10350000|       Toyota|Corolla Cross|2022|   Silver|  Naphtha| 5.0|Automática|Not available|      SUV|       500|   pesos|\n",
      "|10850000|         Jeep|      Compass|2022|    White|  Naphtha| 5.0|Automática|          2.4|      SUV|       500|   pesos|\n",
      "|   35500|         Jeep|      Compass|2022|Dark gray|  Naphtha| 5.0|Automática|          2.4|      SUV|       500| dólares|\n",
      "|   19000|      Citroën|    C4 Cactus|2022|Dark gray|  Naphtha| 5.0|Automática|Not available|      SUV|       550| dólares|\n",
      "| 5800000|       Toyota|      Corolla|2019|     Gray|  Naphtha| 4.0|    Manual|          1.8|    Sedán|      9000|   pesos|\n",
      "|   34500|         Jeep|      Compass|2022|    Black|  Naphtha| 5.0|Automática|          1.3|      SUV|     10500| dólares|\n",
      "|   25000|          Kia|      Sorento|2014|    Black|   Diesel| 5.0|Automática|          2.2|      SUV|    156000| dólares|\n",
      "|   12300|Mercedes-Benz|      Clase C|2008|   Silver|  Naphtha| 4.0|Automática|          1.8|    Sedán|    174000| dólares|\n",
      "|   35500|          BMW|          220|2016|    White|  Naphtha| 2.0|Automática|        TURBO|    Coupé|     66000| dólares|\n",
      "| 6800000|   Volkswagen|      T-Cross|2019|   Orange|  Naphtha| 5.0|Automática|1.6 MSI Nafta|      SUV|     35000|   pesos|\n",
      "|   38500|Mercedes-Benz|      Clase A|2017|   Silver|  Naphtha| 5.0|Automática|            3|Hatchback|     55394| dólares|\n",
      "|   20500|Mercedes-Benz|      Clase A|2013|    White|  Naphtha| 5.0|    Manual|          1.6|Hatchback|    162080| dólares|\n",
      "| 3500000|      Renault|      Sandero|2022|   Silver|  Naphtha| 5.0|    Manual|Not available|    Sedán|    111111|   pesos|\n",
      "| 5990000|   Volkswagen|         Polo|2022|    White|  Naphtha| 5.0|    Manual|          1.6|Hatchback|    111111|   pesos|\n",
      "|   41900|          BMW|      Serie 1|2020|    Black|  Naphtha| 5.0|Automática|Not available|Hatchback|     34800| dólares|\n",
      "| 2100000|         Ford|     Ecosport|2011|    Beige|  Naphtha| 4.0|    Manual|          1.6|      SUV|    101000|   pesos|\n",
      "|   38500|    Chevrolet|  Trailblazer|2019|     Gray|   Diesel| 5.0|Automática|Not available|      SUV|     73000| dólares|\n",
      "| 2940000|       Toyota|        Etios|2015|    White|  Naphtha| 5.0|    Manual|          1.5|Hatchback|     83000|   pesos|\n",
      "| 2050000|      Renault|         Clio|2014|     Gray|  Naphtha| 5.0|    Manual|          1.2|Hatchback|     99000|   pesos|\n",
      "| 4120000|       Toyota|         RAV4|2011|     Gray|  Naphtha| 5.0|Automática|          2.4|      SUV|    180000|   pesos|\n",
      "+--------+-------------+-------------+----+---------+---------+----+----------+-------------+---------+----------+--------+\n",
      "only showing top 20 rows\n",
      "\n"
     ]
    }
   ],
   "source": [
    "df_pyspark_arg = df_pyspark_arg.withColumn(\"Fuel_type\",\n",
    "              when(df_pyspark_arg.fuel_type  == 'Nafta', 'Naphtha')\\\n",
    "              .when(df_pyspark_arg.fuel_type  == 'Nafta/GNC', 'Naphtha/CNG')\\\n",
    "              .when(df_pyspark_arg.fuel_type  == 'Diésel', 'Diesel')\\\n",
    "              .when(df_pyspark_arg.fuel_type  == 'Híbrido/Nafta', 'Hybrid/Naphtha')\\\n",
    "              .otherwise('Not available'))\n",
    "\n",
    "df_pyspark_arg.show()"
   ]
  },
  {
   "cell_type": "code",
   "execution_count": 28,
   "id": "37c5e8fd",
   "metadata": {},
   "outputs": [
    {
     "name": "stdout",
     "output_type": "stream",
     "text": [
      "+-------------+\n",
      "|gear         |\n",
      "+-------------+\n",
      "|Not available|\n",
      "|Manual       |\n",
      "|Automática   |\n",
      "+-------------+\n",
      "\n",
      "[Row(gear='Not available'), Row(gear='Manual'), Row(gear='Automática')]\n"
     ]
    }
   ],
   "source": [
    "SelectUniqueValues = df_pyspark_arg.dropDuplicates([\"gear\"]).select(\"gear\")\n",
    "SelectUniqueValues.show(truncate=False)\n",
    "\n",
    "print(SelectUniqueValues.dropDuplicates([\"gear\"]).select(\"gear\").collect())"
   ]
  },
  {
   "cell_type": "code",
   "execution_count": 29,
   "id": "369508ae",
   "metadata": {},
   "outputs": [
    {
     "name": "stdout",
     "output_type": "stream",
     "text": [
      "+--------+-------------+-------------+----+---------+---------+----+---------+-------------+---------+----------+--------+\n",
      "|   money|        brand|        model|year|    Color|Fuel_type|door|     gear|        motor|body_type|kilometres|currency|\n",
      "+--------+-------------+-------------+----+---------+---------+----+---------+-------------+---------+----------+--------+\n",
      "|10350000|       Toyota|Corolla Cross|2022|   Silver|  Naphtha| 5.0|Automatic|Not available|      SUV|       500|   pesos|\n",
      "|10850000|         Jeep|      Compass|2022|    White|  Naphtha| 5.0|Automatic|          2.4|      SUV|       500|   pesos|\n",
      "|   35500|         Jeep|      Compass|2022|Dark gray|  Naphtha| 5.0|Automatic|          2.4|      SUV|       500| dólares|\n",
      "|   19000|      Citroën|    C4 Cactus|2022|Dark gray|  Naphtha| 5.0|Automatic|Not available|      SUV|       550| dólares|\n",
      "| 5800000|       Toyota|      Corolla|2019|     Gray|  Naphtha| 4.0|   Manual|          1.8|    Sedán|      9000|   pesos|\n",
      "|   34500|         Jeep|      Compass|2022|    Black|  Naphtha| 5.0|Automatic|          1.3|      SUV|     10500| dólares|\n",
      "|   25000|          Kia|      Sorento|2014|    Black|   Diesel| 5.0|Automatic|          2.2|      SUV|    156000| dólares|\n",
      "|   12300|Mercedes-Benz|      Clase C|2008|   Silver|  Naphtha| 4.0|Automatic|          1.8|    Sedán|    174000| dólares|\n",
      "|   35500|          BMW|          220|2016|    White|  Naphtha| 2.0|Automatic|        TURBO|    Coupé|     66000| dólares|\n",
      "| 6800000|   Volkswagen|      T-Cross|2019|   Orange|  Naphtha| 5.0|Automatic|1.6 MSI Nafta|      SUV|     35000|   pesos|\n",
      "|   38500|Mercedes-Benz|      Clase A|2017|   Silver|  Naphtha| 5.0|Automatic|            3|Hatchback|     55394| dólares|\n",
      "|   20500|Mercedes-Benz|      Clase A|2013|    White|  Naphtha| 5.0|   Manual|          1.6|Hatchback|    162080| dólares|\n",
      "| 3500000|      Renault|      Sandero|2022|   Silver|  Naphtha| 5.0|   Manual|Not available|    Sedán|    111111|   pesos|\n",
      "| 5990000|   Volkswagen|         Polo|2022|    White|  Naphtha| 5.0|   Manual|          1.6|Hatchback|    111111|   pesos|\n",
      "|   41900|          BMW|      Serie 1|2020|    Black|  Naphtha| 5.0|Automatic|Not available|Hatchback|     34800| dólares|\n",
      "| 2100000|         Ford|     Ecosport|2011|    Beige|  Naphtha| 4.0|   Manual|          1.6|      SUV|    101000|   pesos|\n",
      "|   38500|    Chevrolet|  Trailblazer|2019|     Gray|   Diesel| 5.0|Automatic|Not available|      SUV|     73000| dólares|\n",
      "| 2940000|       Toyota|        Etios|2015|    White|  Naphtha| 5.0|   Manual|          1.5|Hatchback|     83000|   pesos|\n",
      "| 2050000|      Renault|         Clio|2014|     Gray|  Naphtha| 5.0|   Manual|          1.2|Hatchback|     99000|   pesos|\n",
      "| 4120000|       Toyota|         RAV4|2011|     Gray|  Naphtha| 5.0|Automatic|          2.4|      SUV|    180000|   pesos|\n",
      "+--------+-------------+-------------+----+---------+---------+----+---------+-------------+---------+----------+--------+\n",
      "only showing top 20 rows\n",
      "\n"
     ]
    }
   ],
   "source": [
    "df_pyspark_arg = df_pyspark_arg.withColumn(\"gear\",\n",
    "              when(df_pyspark_arg.gear  == 'Manual', 'Manual')\\\n",
    "              .when(df_pyspark_arg.gear  == 'Automática', 'Automatic')\\\n",
    "              .otherwise('Not available'))\n",
    "\n",
    "df_pyspark_arg.show()"
   ]
  },
  {
   "cell_type": "code",
   "execution_count": 30,
   "id": "c9016895",
   "metadata": {},
   "outputs": [
    {
     "name": "stdout",
     "output_type": "stream",
     "text": [
      "+--------+\n",
      "|currency|\n",
      "+--------+\n",
      "|dólares |\n",
      "|pesos   |\n",
      "+--------+\n",
      "\n",
      "[Row(currency='dólares'), Row(currency='pesos')]\n"
     ]
    }
   ],
   "source": [
    "SelectUniqueValues = df_pyspark_arg.dropDuplicates([\"currency\"]).select(\"currency\")\n",
    "SelectUniqueValues.show(truncate=False)\n",
    "\n",
    "print(SelectUniqueValues.dropDuplicates([\"currency\"]).select(\"currency\").collect())\n"
   ]
  },
  {
   "cell_type": "code",
   "execution_count": 31,
   "id": "122873d8",
   "metadata": {},
   "outputs": [
    {
     "name": "stdout",
     "output_type": "stream",
     "text": [
      "+--------+-------------+-------------+----+---------+---------+----+---------+-------------+---------+----------+--------+\n",
      "|   money|        brand|        model|year|    Color|Fuel_type|door|     gear|        motor|body_type|kilometres|currency|\n",
      "+--------+-------------+-------------+----+---------+---------+----+---------+-------------+---------+----------+--------+\n",
      "|10350000|       Toyota|Corolla Cross|2022|   Silver|  Naphtha| 5.0|Automatic|Not available|      SUV|       500|   Pesos|\n",
      "|10850000|         Jeep|      Compass|2022|    White|  Naphtha| 5.0|Automatic|          2.4|      SUV|       500|   Pesos|\n",
      "|   35500|         Jeep|      Compass|2022|Dark gray|  Naphtha| 5.0|Automatic|          2.4|      SUV|       500| Dollars|\n",
      "|   19000|      Citroën|    C4 Cactus|2022|Dark gray|  Naphtha| 5.0|Automatic|Not available|      SUV|       550| Dollars|\n",
      "| 5800000|       Toyota|      Corolla|2019|     Gray|  Naphtha| 4.0|   Manual|          1.8|    Sedán|      9000|   Pesos|\n",
      "|   34500|         Jeep|      Compass|2022|    Black|  Naphtha| 5.0|Automatic|          1.3|      SUV|     10500| Dollars|\n",
      "|   25000|          Kia|      Sorento|2014|    Black|   Diesel| 5.0|Automatic|          2.2|      SUV|    156000| Dollars|\n",
      "|   12300|Mercedes-Benz|      Clase C|2008|   Silver|  Naphtha| 4.0|Automatic|          1.8|    Sedán|    174000| Dollars|\n",
      "|   35500|          BMW|          220|2016|    White|  Naphtha| 2.0|Automatic|        TURBO|    Coupé|     66000| Dollars|\n",
      "| 6800000|   Volkswagen|      T-Cross|2019|   Orange|  Naphtha| 5.0|Automatic|1.6 MSI Nafta|      SUV|     35000|   Pesos|\n",
      "|   38500|Mercedes-Benz|      Clase A|2017|   Silver|  Naphtha| 5.0|Automatic|            3|Hatchback|     55394| Dollars|\n",
      "|   20500|Mercedes-Benz|      Clase A|2013|    White|  Naphtha| 5.0|   Manual|          1.6|Hatchback|    162080| Dollars|\n",
      "| 3500000|      Renault|      Sandero|2022|   Silver|  Naphtha| 5.0|   Manual|Not available|    Sedán|    111111|   Pesos|\n",
      "| 5990000|   Volkswagen|         Polo|2022|    White|  Naphtha| 5.0|   Manual|          1.6|Hatchback|    111111|   Pesos|\n",
      "|   41900|          BMW|      Serie 1|2020|    Black|  Naphtha| 5.0|Automatic|Not available|Hatchback|     34800| Dollars|\n",
      "| 2100000|         Ford|     Ecosport|2011|    Beige|  Naphtha| 4.0|   Manual|          1.6|      SUV|    101000|   Pesos|\n",
      "|   38500|    Chevrolet|  Trailblazer|2019|     Gray|   Diesel| 5.0|Automatic|Not available|      SUV|     73000| Dollars|\n",
      "| 2940000|       Toyota|        Etios|2015|    White|  Naphtha| 5.0|   Manual|          1.5|Hatchback|     83000|   Pesos|\n",
      "| 2050000|      Renault|         Clio|2014|     Gray|  Naphtha| 5.0|   Manual|          1.2|Hatchback|     99000|   Pesos|\n",
      "| 4120000|       Toyota|         RAV4|2011|     Gray|  Naphtha| 5.0|Automatic|          2.4|      SUV|    180000|   Pesos|\n",
      "+--------+-------------+-------------+----+---------+---------+----+---------+-------------+---------+----------+--------+\n",
      "only showing top 20 rows\n",
      "\n"
     ]
    }
   ],
   "source": [
    "df_pyspark_arg = df_pyspark_arg.withColumn(\"currency\",\n",
    "              when(df_pyspark_arg.currency  == 'dólares', 'Dollars')\\\n",
    "              .when(df_pyspark_arg.currency  == 'pesos', 'Pesos')\\\n",
    "              .otherwise('Not available'))\n",
    "\n",
    "df_pyspark_arg.show()"
   ]
  },
  {
   "cell_type": "code",
   "execution_count": 32,
   "id": "4d247b6b",
   "metadata": {},
   "outputs": [
    {
     "name": "stdout",
     "output_type": "stream",
     "text": [
      "+--------+-------------+-------------+----+---------+---------+----+---------+-------------+---------+----------+--------+\n",
      "|   money|        brand|        model|year|    Color|Fuel_type|door|     gear|        motor|body_type|kilometres|currency|\n",
      "+--------+-------------+-------------+----+---------+---------+----+---------+-------------+---------+----------+--------+\n",
      "|10350000|       Toyota|Corolla Cross|2022|   Silver|  Naphtha| 5.0|Automatic|Not available|      SUV|       500|   Pesos|\n",
      "|10850000|         Jeep|      Compass|2022|    White|  Naphtha| 5.0|Automatic|          2.4|      SUV|       500|   Pesos|\n",
      "|   35500|         Jeep|      Compass|2022|Dark gray|  Naphtha| 5.0|Automatic|          2.4|      SUV|       500| Dollars|\n",
      "|   19000|      Citroën|    C4 Cactus|2022|Dark gray|  Naphtha| 5.0|Automatic|Not available|      SUV|       550| Dollars|\n",
      "| 5800000|       Toyota|      Corolla|2019|     Gray|  Naphtha| 4.0|   Manual|          1.8|    Sedán|      9000|   Pesos|\n",
      "|   34500|         Jeep|      Compass|2022|    Black|  Naphtha| 5.0|Automatic|          1.3|      SUV|     10500| Dollars|\n",
      "|   25000|          Kia|      Sorento|2014|    Black|   Diesel| 5.0|Automatic|          2.2|      SUV|    156000| Dollars|\n",
      "|   12300|Mercedes-Benz|      Clase C|2008|   Silver|  Naphtha| 4.0|Automatic|          1.8|    Sedán|    174000| Dollars|\n",
      "|   35500|          BMW|          220|2016|    White|  Naphtha| 2.0|Automatic|        TURBO|    Coupé|     66000| Dollars|\n",
      "| 6800000|   Volkswagen|      T-Cross|2019|   Orange|  Naphtha| 5.0|Automatic|1.6 MSI Nafta|      SUV|     35000|   Pesos|\n",
      "|   38500|Mercedes-Benz|      Clase A|2017|   Silver|  Naphtha| 5.0|Automatic|            3|Hatchback|     55394| Dollars|\n",
      "|   20500|Mercedes-Benz|      Clase A|2013|    White|  Naphtha| 5.0|   Manual|          1.6|Hatchback|    162080| Dollars|\n",
      "| 3500000|      Renault|      Sandero|2022|   Silver|  Naphtha| 5.0|   Manual|Not available|    Sedán|    111111|   Pesos|\n",
      "| 5990000|   Volkswagen|         Polo|2022|    White|  Naphtha| 5.0|   Manual|          1.6|Hatchback|    111111|   Pesos|\n",
      "|   41900|          BMW|      Serie 1|2020|    Black|  Naphtha| 5.0|Automatic|Not available|Hatchback|     34800| Dollars|\n",
      "| 2100000|         Ford|     Ecosport|2011|    Beige|  Naphtha| 4.0|   Manual|          1.6|      SUV|    101000|   Pesos|\n",
      "|   38500|    Chevrolet|  Trailblazer|2019|     Gray|   Diesel| 5.0|Automatic|Not available|      SUV|     73000| Dollars|\n",
      "| 2940000|       Toyota|        Etios|2015|    White|  Naphtha| 5.0|   Manual|          1.5|Hatchback|     83000|   Pesos|\n",
      "| 2050000|      Renault|         Clio|2014|     Gray|  Naphtha| 5.0|   Manual|          1.2|Hatchback|     99000|   Pesos|\n",
      "| 4120000|       Toyota|         RAV4|2011|     Gray|  Naphtha| 5.0|Automatic|          2.4|      SUV|    180000|   Pesos|\n",
      "+--------+-------------+-------------+----+---------+---------+----+---------+-------------+---------+----------+--------+\n",
      "only showing top 20 rows\n",
      "\n"
     ]
    }
   ],
   "source": [
    "df_pyspark_arg.show()"
   ]
  },
  {
   "cell_type": "markdown",
   "id": "805f0f8f",
   "metadata": {},
   "source": [
    "#### Changing pesos money to USD currency"
   ]
  },
  {
   "cell_type": "code",
   "execution_count": 33,
   "id": "45081778",
   "metadata": {
    "scrolled": true
   },
   "outputs": [],
   "source": [
    "df_pyspark_arg = df_pyspark_arg.withColumn(\"Money USD\",\n",
    "              when(df_pyspark_arg.currency  == 'Pesos',  df_pyspark_arg.money * 0.054 )\\\n",
    "              .otherwise(df_pyspark_arg.money))\n",
    "\n",
    "\n"
   ]
  },
  {
   "cell_type": "code",
   "execution_count": 34,
   "id": "7dfb694f",
   "metadata": {},
   "outputs": [
    {
     "name": "stdout",
     "output_type": "stream",
     "text": [
      "+--------+----------+----------+----+---------+---------+----+---------+----------+---------+----------+--------+---------+\n",
      "|   money|     brand|     model|year|    Color|Fuel_type|door|     gear|     motor|body_type|kilometres|currency|Money USD|\n",
      "+--------+----------+----------+----+---------+---------+----+---------+----------+---------+----------+--------+---------+\n",
      "|10350000|    Toyota|Corolla...|2022|   Silver|  Naphtha| 5.0|Automatic|Not ava...|      SUV|       500|   Pesos| 558900.0|\n",
      "|10850000|      Jeep|   Compass|2022|    White|  Naphtha| 5.0|Automatic|       2.4|      SUV|       500|   Pesos| 585900.0|\n",
      "|   35500|      Jeep|   Compass|2022|Dark gray|  Naphtha| 5.0|Automatic|       2.4|      SUV|       500| Dollars|  35500.0|\n",
      "|   19000|   Citroën| C4 Cactus|2022|Dark gray|  Naphtha| 5.0|Automatic|Not ava...|      SUV|       550| Dollars|  19000.0|\n",
      "| 5800000|    Toyota|   Corolla|2019|     Gray|  Naphtha| 4.0|   Manual|       1.8|    Sedán|      9000|   Pesos| 313200.0|\n",
      "|   34500|      Jeep|   Compass|2022|    Black|  Naphtha| 5.0|Automatic|       1.3|      SUV|     10500| Dollars|  34500.0|\n",
      "|   25000|       Kia|   Sorento|2014|    Black|   Diesel| 5.0|Automatic|       2.2|      SUV|    156000| Dollars|  25000.0|\n",
      "|   12300|Mercede...|   Clase C|2008|   Silver|  Naphtha| 4.0|Automatic|       1.8|    Sedán|    174000| Dollars|  12300.0|\n",
      "|   35500|       BMW|       220|2016|    White|  Naphtha| 2.0|Automatic|     TURBO|    Coupé|     66000| Dollars|  35500.0|\n",
      "| 6800000|Volkswagen|   T-Cross|2019|   Orange|  Naphtha| 5.0|Automatic|1.6 MSI...|      SUV|     35000|   Pesos| 367200.0|\n",
      "|   38500|Mercede...|   Clase A|2017|   Silver|  Naphtha| 5.0|Automatic|         3|Hatchback|     55394| Dollars|  38500.0|\n",
      "|   20500|Mercede...|   Clase A|2013|    White|  Naphtha| 5.0|   Manual|       1.6|Hatchback|    162080| Dollars|  20500.0|\n",
      "| 3500000|   Renault|   Sandero|2022|   Silver|  Naphtha| 5.0|   Manual|Not ava...|    Sedán|    111111|   Pesos| 189000.0|\n",
      "| 5990000|Volkswagen|      Polo|2022|    White|  Naphtha| 5.0|   Manual|       1.6|Hatchback|    111111|   Pesos| 323460.0|\n",
      "|   41900|       BMW|   Serie 1|2020|    Black|  Naphtha| 5.0|Automatic|Not ava...|Hatchback|     34800| Dollars|  41900.0|\n",
      "| 2100000|      Ford|  Ecosport|2011|    Beige|  Naphtha| 4.0|   Manual|       1.6|      SUV|    101000|   Pesos| 113400.0|\n",
      "|   38500| Chevrolet|Trailbl...|2019|     Gray|   Diesel| 5.0|Automatic|Not ava...|      SUV|     73000| Dollars|  38500.0|\n",
      "| 2940000|    Toyota|     Etios|2015|    White|  Naphtha| 5.0|   Manual|       1.5|Hatchback|     83000|   Pesos| 158760.0|\n",
      "| 2050000|   Renault|      Clio|2014|     Gray|  Naphtha| 5.0|   Manual|       1.2|Hatchback|     99000|   Pesos| 110700.0|\n",
      "| 4120000|    Toyota|      RAV4|2011|     Gray|  Naphtha| 5.0|Automatic|       2.4|      SUV|    180000|   Pesos| 222480.0|\n",
      "| 4100000|    Toyota|     Etios|2018|     Gray|  Naphtha| 5.0|   Manual|       1.5|    Sedán|     80000|   Pesos| 221400.0|\n",
      "|   15000|      Mini|    Cooper|2013|      Red|  Naphtha| 5.0|   Manual|       1.6|Hatchback|    105000| Dollars|  15000.0|\n",
      "| 5099000|      Jeep|  Renegade|2018|      Red|  Naphtha| 5.0|   Manual|       1.8|      SUV|     78000|   Pesos| 275346.0|\n",
      "| 8300000|    Toyota|     Hilux|2017|      Red|   Diesel| 4.0|   Manual|       2.8|  Pick-Up|    170000|   Pesos| 448200.0|\n",
      "| 2800000|      Fiat|     Bravo|2013|    Black|  Naphtha| 5.0|   Manual|Not ava...|Hatchback|    124000|   Pesos| 151200.0|\n",
      "+--------+----------+----------+----+---------+---------+----+---------+----------+---------+----------+--------+---------+\n",
      "only showing top 25 rows\n",
      "\n"
     ]
    }
   ],
   "source": [
    "df_pyspark_arg.show(25,10)"
   ]
  },
  {
   "cell_type": "markdown",
   "id": "b78aab57",
   "metadata": {},
   "source": [
    "### Renaming columns in dataframe"
   ]
  },
  {
   "cell_type": "code",
   "execution_count": 35,
   "id": "0e714ca2",
   "metadata": {},
   "outputs": [
    {
     "data": {
      "text/plain": [
       "['money',\n",
       " 'brand',\n",
       " 'model',\n",
       " 'year',\n",
       " 'Color',\n",
       " 'Fuel_type',\n",
       " 'door',\n",
       " 'gear',\n",
       " 'motor',\n",
       " 'body_type',\n",
       " 'kilometres',\n",
       " 'currency',\n",
       " 'Money USD']"
      ]
     },
     "execution_count": 35,
     "metadata": {},
     "output_type": "execute_result"
    }
   ],
   "source": [
    "df_pyspark_arg.columns"
   ]
  },
  {
   "cell_type": "code",
   "execution_count": 36,
   "id": "70d0fe36",
   "metadata": {},
   "outputs": [],
   "source": [
    "df_pyspark_arg =df_pyspark_arg.withColumnRenamed('money', 'Money') \\\n",
    "              .withColumnRenamed('brand', 'Brand') \\\n",
    "              .withColumnRenamed('model','Model') \\\n",
    "              .withColumnRenamed('year', 'Year') \\\n",
    "              .withColumnRenamed('Fuel_type','FuelType') \\\n",
    "              .withColumnRenamed('door','Door') \\\n",
    "              .withColumnRenamed('gear','Gear') \\\n",
    "              .withColumnRenamed('motor','Motor') \\\n",
    "              .withColumnRenamed('body_type','BodyType') \\\n",
    "              .withColumnRenamed('kilometres','Kilometres') \\\n",
    "              .withColumnRenamed('currency','Currency')\n",
    "    \n",
    "            "
   ]
  },
  {
   "cell_type": "code",
   "execution_count": 37,
   "id": "996eae55",
   "metadata": {},
   "outputs": [
    {
     "name": "stdout",
     "output_type": "stream",
     "text": [
      "+--------+----------+----------+----+---------+--------+----+---------+----------+---------+----------+--------+---------+\n",
      "|   Money|     Brand|     Model|Year|    Color|FuelType|Door|     Gear|     Motor| BodyType|Kilometres|Currency|Money USD|\n",
      "+--------+----------+----------+----+---------+--------+----+---------+----------+---------+----------+--------+---------+\n",
      "|10350000|    Toyota|Corolla...|2022|   Silver| Naphtha| 5.0|Automatic|Not ava...|      SUV|       500|   Pesos| 558900.0|\n",
      "|10850000|      Jeep|   Compass|2022|    White| Naphtha| 5.0|Automatic|       2.4|      SUV|       500|   Pesos| 585900.0|\n",
      "|   35500|      Jeep|   Compass|2022|Dark gray| Naphtha| 5.0|Automatic|       2.4|      SUV|       500| Dollars|  35500.0|\n",
      "|   19000|   Citroën| C4 Cactus|2022|Dark gray| Naphtha| 5.0|Automatic|Not ava...|      SUV|       550| Dollars|  19000.0|\n",
      "| 5800000|    Toyota|   Corolla|2019|     Gray| Naphtha| 4.0|   Manual|       1.8|    Sedán|      9000|   Pesos| 313200.0|\n",
      "|   34500|      Jeep|   Compass|2022|    Black| Naphtha| 5.0|Automatic|       1.3|      SUV|     10500| Dollars|  34500.0|\n",
      "|   25000|       Kia|   Sorento|2014|    Black|  Diesel| 5.0|Automatic|       2.2|      SUV|    156000| Dollars|  25000.0|\n",
      "|   12300|Mercede...|   Clase C|2008|   Silver| Naphtha| 4.0|Automatic|       1.8|    Sedán|    174000| Dollars|  12300.0|\n",
      "|   35500|       BMW|       220|2016|    White| Naphtha| 2.0|Automatic|     TURBO|    Coupé|     66000| Dollars|  35500.0|\n",
      "| 6800000|Volkswagen|   T-Cross|2019|   Orange| Naphtha| 5.0|Automatic|1.6 MSI...|      SUV|     35000|   Pesos| 367200.0|\n",
      "|   38500|Mercede...|   Clase A|2017|   Silver| Naphtha| 5.0|Automatic|         3|Hatchback|     55394| Dollars|  38500.0|\n",
      "|   20500|Mercede...|   Clase A|2013|    White| Naphtha| 5.0|   Manual|       1.6|Hatchback|    162080| Dollars|  20500.0|\n",
      "| 3500000|   Renault|   Sandero|2022|   Silver| Naphtha| 5.0|   Manual|Not ava...|    Sedán|    111111|   Pesos| 189000.0|\n",
      "| 5990000|Volkswagen|      Polo|2022|    White| Naphtha| 5.0|   Manual|       1.6|Hatchback|    111111|   Pesos| 323460.0|\n",
      "|   41900|       BMW|   Serie 1|2020|    Black| Naphtha| 5.0|Automatic|Not ava...|Hatchback|     34800| Dollars|  41900.0|\n",
      "| 2100000|      Ford|  Ecosport|2011|    Beige| Naphtha| 4.0|   Manual|       1.6|      SUV|    101000|   Pesos| 113400.0|\n",
      "|   38500| Chevrolet|Trailbl...|2019|     Gray|  Diesel| 5.0|Automatic|Not ava...|      SUV|     73000| Dollars|  38500.0|\n",
      "| 2940000|    Toyota|     Etios|2015|    White| Naphtha| 5.0|   Manual|       1.5|Hatchback|     83000|   Pesos| 158760.0|\n",
      "| 2050000|   Renault|      Clio|2014|     Gray| Naphtha| 5.0|   Manual|       1.2|Hatchback|     99000|   Pesos| 110700.0|\n",
      "| 4120000|    Toyota|      RAV4|2011|     Gray| Naphtha| 5.0|Automatic|       2.4|      SUV|    180000|   Pesos| 222480.0|\n",
      "| 4100000|    Toyota|     Etios|2018|     Gray| Naphtha| 5.0|   Manual|       1.5|    Sedán|     80000|   Pesos| 221400.0|\n",
      "|   15000|      Mini|    Cooper|2013|      Red| Naphtha| 5.0|   Manual|       1.6|Hatchback|    105000| Dollars|  15000.0|\n",
      "| 5099000|      Jeep|  Renegade|2018|      Red| Naphtha| 5.0|   Manual|       1.8|      SUV|     78000|   Pesos| 275346.0|\n",
      "| 8300000|    Toyota|     Hilux|2017|      Red|  Diesel| 4.0|   Manual|       2.8|  Pick-Up|    170000|   Pesos| 448200.0|\n",
      "| 2800000|      Fiat|     Bravo|2013|    Black| Naphtha| 5.0|   Manual|Not ava...|Hatchback|    124000|   Pesos| 151200.0|\n",
      "+--------+----------+----------+----+---------+--------+----+---------+----------+---------+----------+--------+---------+\n",
      "only showing top 25 rows\n",
      "\n"
     ]
    }
   ],
   "source": [
    "df_pyspark_arg.show(25,10)"
   ]
  },
  {
   "cell_type": "markdown",
   "id": "1ad66071",
   "metadata": {},
   "source": [
    "##### Changing datatype "
   ]
  },
  {
   "cell_type": "code",
   "execution_count": 38,
   "id": "174e281c",
   "metadata": {},
   "outputs": [],
   "source": [
    "df_pyspark_arg = df_pyspark_arg.withColumn('Door',df_pyspark_arg.Door.cast('int'))\n",
    "df_pyspark_arg = df_pyspark_arg.withColumn('Money USD',df_pyspark_arg['Money USD'].cast('int'))"
   ]
  },
  {
   "cell_type": "markdown",
   "id": "36e9d17a",
   "metadata": {},
   "source": [
    "##### Reordening the sequence of columns"
   ]
  },
  {
   "cell_type": "code",
   "execution_count": 39,
   "id": "fcab3cda",
   "metadata": {},
   "outputs": [
    {
     "data": {
      "text/plain": [
       "['Money',\n",
       " 'Brand',\n",
       " 'Model',\n",
       " 'Year',\n",
       " 'Color',\n",
       " 'FuelType',\n",
       " 'Door',\n",
       " 'Gear',\n",
       " 'Motor',\n",
       " 'BodyType',\n",
       " 'Kilometres',\n",
       " 'Currency',\n",
       " 'Money USD']"
      ]
     },
     "execution_count": 39,
     "metadata": {},
     "output_type": "execute_result"
    }
   ],
   "source": [
    "df_pyspark_arg.columns"
   ]
  },
  {
   "cell_type": "code",
   "execution_count": 40,
   "id": "261949aa",
   "metadata": {},
   "outputs": [],
   "source": [
    "df_pyspark_arg = df_pyspark_arg.select('Brand',\n",
    " 'Model',\n",
    " 'Year',\n",
    " 'Color',\n",
    " 'FuelType',\n",
    " 'Door',\n",
    " 'Gear',\n",
    " 'Motor',\n",
    " 'BodyType',\n",
    " 'Kilometres',\n",
    " 'Currency',\n",
    "  'Money',\n",
    " 'Money USD')"
   ]
  },
  {
   "cell_type": "markdown",
   "id": "d72c330e",
   "metadata": {},
   "source": [
    "### Basic information after cleaning"
   ]
  },
  {
   "cell_type": "code",
   "execution_count": 41,
   "id": "e2782f3d",
   "metadata": {},
   "outputs": [
    {
     "name": "stdout",
     "output_type": "stream",
     "text": [
      "root\n",
      " |-- Brand: string (nullable = true)\n",
      " |-- Model: string (nullable = true)\n",
      " |-- Year: integer (nullable = true)\n",
      " |-- Color: string (nullable = false)\n",
      " |-- FuelType: string (nullable = false)\n",
      " |-- Door: integer (nullable = true)\n",
      " |-- Gear: string (nullable = false)\n",
      " |-- Motor: string (nullable = false)\n",
      " |-- BodyType: string (nullable = false)\n",
      " |-- Kilometres: integer (nullable = true)\n",
      " |-- Currency: string (nullable = false)\n",
      " |-- Money: integer (nullable = true)\n",
      " |-- Money USD: integer (nullable = true)\n",
      "\n"
     ]
    }
   ],
   "source": [
    "df_pyspark_arg.printSchema()"
   ]
  },
  {
   "cell_type": "code",
   "execution_count": 42,
   "id": "8f0aca82",
   "metadata": {},
   "outputs": [
    {
     "name": "stdout",
     "output_type": "stream",
     "text": [
      "+----------+----------+----+---------+--------+----+---------+----------+---------+----------+--------+--------+---------+\n",
      "|     Brand|     Model|Year|    Color|FuelType|Door|     Gear|     Motor| BodyType|Kilometres|Currency|   Money|Money USD|\n",
      "+----------+----------+----+---------+--------+----+---------+----------+---------+----------+--------+--------+---------+\n",
      "|    Toyota|Corolla...|2022|   Silver| Naphtha|   5|Automatic|Not ava...|      SUV|       500|   Pesos|10350000|   558900|\n",
      "|      Jeep|   Compass|2022|    White| Naphtha|   5|Automatic|       2.4|      SUV|       500|   Pesos|10850000|   585900|\n",
      "|      Jeep|   Compass|2022|Dark gray| Naphtha|   5|Automatic|       2.4|      SUV|       500| Dollars|   35500|    35500|\n",
      "|   Citroën| C4 Cactus|2022|Dark gray| Naphtha|   5|Automatic|Not ava...|      SUV|       550| Dollars|   19000|    19000|\n",
      "|    Toyota|   Corolla|2019|     Gray| Naphtha|   4|   Manual|       1.8|    Sedán|      9000|   Pesos| 5800000|   313200|\n",
      "|      Jeep|   Compass|2022|    Black| Naphtha|   5|Automatic|       1.3|      SUV|     10500| Dollars|   34500|    34500|\n",
      "|       Kia|   Sorento|2014|    Black|  Diesel|   5|Automatic|       2.2|      SUV|    156000| Dollars|   25000|    25000|\n",
      "|Mercede...|   Clase C|2008|   Silver| Naphtha|   4|Automatic|       1.8|    Sedán|    174000| Dollars|   12300|    12300|\n",
      "|       BMW|       220|2016|    White| Naphtha|   2|Automatic|     TURBO|    Coupé|     66000| Dollars|   35500|    35500|\n",
      "|Volkswagen|   T-Cross|2019|   Orange| Naphtha|   5|Automatic|1.6 MSI...|      SUV|     35000|   Pesos| 6800000|   367200|\n",
      "|Mercede...|   Clase A|2017|   Silver| Naphtha|   5|Automatic|         3|Hatchback|     55394| Dollars|   38500|    38500|\n",
      "|Mercede...|   Clase A|2013|    White| Naphtha|   5|   Manual|       1.6|Hatchback|    162080| Dollars|   20500|    20500|\n",
      "|   Renault|   Sandero|2022|   Silver| Naphtha|   5|   Manual|Not ava...|    Sedán|    111111|   Pesos| 3500000|   189000|\n",
      "|Volkswagen|      Polo|2022|    White| Naphtha|   5|   Manual|       1.6|Hatchback|    111111|   Pesos| 5990000|   323460|\n",
      "|       BMW|   Serie 1|2020|    Black| Naphtha|   5|Automatic|Not ava...|Hatchback|     34800| Dollars|   41900|    41900|\n",
      "|      Ford|  Ecosport|2011|    Beige| Naphtha|   4|   Manual|       1.6|      SUV|    101000|   Pesos| 2100000|   113400|\n",
      "| Chevrolet|Trailbl...|2019|     Gray|  Diesel|   5|Automatic|Not ava...|      SUV|     73000| Dollars|   38500|    38500|\n",
      "|    Toyota|     Etios|2015|    White| Naphtha|   5|   Manual|       1.5|Hatchback|     83000|   Pesos| 2940000|   158760|\n",
      "|   Renault|      Clio|2014|     Gray| Naphtha|   5|   Manual|       1.2|Hatchback|     99000|   Pesos| 2050000|   110700|\n",
      "|    Toyota|      RAV4|2011|     Gray| Naphtha|   5|Automatic|       2.4|      SUV|    180000|   Pesos| 4120000|   222480|\n",
      "|    Toyota|     Etios|2018|     Gray| Naphtha|   5|   Manual|       1.5|    Sedán|     80000|   Pesos| 4100000|   221400|\n",
      "|      Mini|    Cooper|2013|      Red| Naphtha|   5|   Manual|       1.6|Hatchback|    105000| Dollars|   15000|    15000|\n",
      "|      Jeep|  Renegade|2018|      Red| Naphtha|   5|   Manual|       1.8|      SUV|     78000|   Pesos| 5099000|   275346|\n",
      "|    Toyota|     Hilux|2017|      Red|  Diesel|   4|   Manual|       2.8|  Pick-Up|    170000|   Pesos| 8300000|   448200|\n",
      "|      Fiat|     Bravo|2013|    Black| Naphtha|   5|   Manual|Not ava...|Hatchback|    124000|   Pesos| 2800000|   151200|\n",
      "+----------+----------+----+---------+--------+----+---------+----------+---------+----------+--------+--------+---------+\n",
      "only showing top 25 rows\n",
      "\n"
     ]
    }
   ],
   "source": [
    "df_pyspark_arg.show(25,10)"
   ]
  },
  {
   "cell_type": "markdown",
   "id": "d2368d2d",
   "metadata": {},
   "source": [
    "## df_pyspark_nig"
   ]
  },
  {
   "cell_type": "code",
   "execution_count": 43,
   "id": "c89692ab",
   "metadata": {
    "scrolled": true
   },
   "outputs": [
    {
     "name": "stdout",
     "output_type": "stream",
     "text": [
      "+---+-------------+-------------------+-------------+-------+-----------+------+------------+----------+-----+\n",
      "|_c0|         Make|Year of manufacture|    Condition|Mileage|Engine Size|  Fuel|Transmission|     Price|Build|\n",
      "+---+-------------+-------------------+-------------+-------+-----------+------+------------+----------+-----+\n",
      "|  0|       Toyota|               2007|Nigerian Used| 166418|       2400|Petrol|   Automatic| 3,120,000| null|\n",
      "|  1|        Lexus|               null|         null| 138024|       null|  null|   Automatic| 5,834,000| null|\n",
      "|  2|Mercedes-Benz|               2008|Nigerian Used| 376807|       3000|Petrol|   Automatic| 3,640,000| null|\n",
      "|  3|        Lexus|               null|         null| 213362|       null|  null|   Automatic| 3,594,000| null|\n",
      "|  4|Mercedes-Benz|               null|         null| 106199|       null|  null|   Automatic| 8,410,000| null|\n",
      "|  5|Mercedes-Benz|               null|         null|  87660|       null|  null|   Automatic| 5,554,000| null|\n",
      "|  6|        Lexus|               null|         null| 191411|       null|  null|   Automatic| 3,706,000| null|\n",
      "|  7|        Lexus|               null|         null|  59092|       null|  null|   Automatic| 8,410,000| null|\n",
      "|  8|Mercedes-Benz|               null|         null|  89423|       null|  null|   Automatic| 6,506,000| null|\n",
      "|  9|        Lexus|               null|         null| 184827|       null|  null|   Automatic| 4,000,000| null|\n",
      "| 10|        Lexus|               null|         null|  42433|       null|  null|   Automatic| 8,970,000| null|\n",
      "| 11|        Lexus|               null|         null| 116138|       null|  null|   Automatic| 3,034,000| null|\n",
      "| 12|        Lexus|               null|         null| 167583|       null|  null|   Automatic| 3,818,000| null|\n",
      "| 13|        Lexus|               null|         null| 240934|       null|  null|   Automatic| 3,930,000| null|\n",
      "| 14|         Fiat|               null|         null|    114|       null|  null|   Automatic| 8,500,000| null|\n",
      "| 15|         Fiat|               null|         null|     54|       null|  null|      Manual|12,500,000| null|\n",
      "| 16|        Lexus|               null|         null|  79740|       null|  null|   Automatic| 5,274,000| null|\n",
      "| 17|Mercedes-Benz|               null|         null| 338145|       null|  null|   Automatic| 8,060,000| null|\n",
      "| 18|        Lexus|               null|         null| 174545|       null|  null|   Automatic| 6,506,000| null|\n",
      "| 19|   Land Rover|               null|         null|  63296|       null|  null|   Automatic| 6,910,000| null|\n",
      "+---+-------------+-------------------+-------------+-------+-----------+------+------------+----------+-----+\n",
      "only showing top 20 rows\n",
      "\n"
     ]
    }
   ],
   "source": [
    "df_pyspark_nig.show()"
   ]
  },
  {
   "cell_type": "markdown",
   "id": "fafc1e27",
   "metadata": {},
   "source": [
    "#### Dropping one column from dataframe"
   ]
  },
  {
   "cell_type": "code",
   "execution_count": 44,
   "id": "d04f5991",
   "metadata": {},
   "outputs": [
    {
     "data": {
      "text/plain": [
       "['_c0',\n",
       " 'Make',\n",
       " 'Year of manufacture',\n",
       " 'Condition',\n",
       " 'Mileage',\n",
       " 'Engine Size',\n",
       " 'Fuel',\n",
       " 'Transmission',\n",
       " 'Price',\n",
       " 'Build']"
      ]
     },
     "execution_count": 44,
     "metadata": {},
     "output_type": "execute_result"
    }
   ],
   "source": [
    "df_pyspark_nig.columns"
   ]
  },
  {
   "cell_type": "code",
   "execution_count": 45,
   "id": "f9a4798e",
   "metadata": {},
   "outputs": [],
   "source": [
    "df_pyspark_nig = df_pyspark_nig.drop('_c0')"
   ]
  },
  {
   "cell_type": "code",
   "execution_count": 46,
   "id": "e71db70d",
   "metadata": {
    "scrolled": true
   },
   "outputs": [
    {
     "name": "stdout",
     "output_type": "stream",
     "text": [
      "+-------------+-------------------+-------------+-------+-----------+------+------------+----------+-----+\n",
      "|         Make|Year of manufacture|    Condition|Mileage|Engine Size|  Fuel|Transmission|     Price|Build|\n",
      "+-------------+-------------------+-------------+-------+-----------+------+------------+----------+-----+\n",
      "|       Toyota|               2007|Nigerian Used| 166418|       2400|Petrol|   Automatic| 3,120,000| null|\n",
      "|        Lexus|               null|         null| 138024|       null|  null|   Automatic| 5,834,000| null|\n",
      "|Mercedes-Benz|               2008|Nigerian Used| 376807|       3000|Petrol|   Automatic| 3,640,000| null|\n",
      "|        Lexus|               null|         null| 213362|       null|  null|   Automatic| 3,594,000| null|\n",
      "|Mercedes-Benz|               null|         null| 106199|       null|  null|   Automatic| 8,410,000| null|\n",
      "|Mercedes-Benz|               null|         null|  87660|       null|  null|   Automatic| 5,554,000| null|\n",
      "|        Lexus|               null|         null| 191411|       null|  null|   Automatic| 3,706,000| null|\n",
      "|        Lexus|               null|         null|  59092|       null|  null|   Automatic| 8,410,000| null|\n",
      "|Mercedes-Benz|               null|         null|  89423|       null|  null|   Automatic| 6,506,000| null|\n",
      "|        Lexus|               null|         null| 184827|       null|  null|   Automatic| 4,000,000| null|\n",
      "|        Lexus|               null|         null|  42433|       null|  null|   Automatic| 8,970,000| null|\n",
      "|        Lexus|               null|         null| 116138|       null|  null|   Automatic| 3,034,000| null|\n",
      "|        Lexus|               null|         null| 167583|       null|  null|   Automatic| 3,818,000| null|\n",
      "|        Lexus|               null|         null| 240934|       null|  null|   Automatic| 3,930,000| null|\n",
      "|         Fiat|               null|         null|    114|       null|  null|   Automatic| 8,500,000| null|\n",
      "|         Fiat|               null|         null|     54|       null|  null|      Manual|12,500,000| null|\n",
      "|        Lexus|               null|         null|  79740|       null|  null|   Automatic| 5,274,000| null|\n",
      "|Mercedes-Benz|               null|         null| 338145|       null|  null|   Automatic| 8,060,000| null|\n",
      "|        Lexus|               null|         null| 174545|       null|  null|   Automatic| 6,506,000| null|\n",
      "|   Land Rover|               null|         null|  63296|       null|  null|   Automatic| 6,910,000| null|\n",
      "+-------------+-------------------+-------------+-------+-----------+------+------------+----------+-----+\n",
      "only showing top 20 rows\n",
      "\n"
     ]
    }
   ],
   "source": [
    "df_pyspark_nig.show()"
   ]
  },
  {
   "cell_type": "markdown",
   "id": "caa096b2",
   "metadata": {},
   "source": [
    "### Looking for null values in columns:"
   ]
  },
  {
   "cell_type": "code",
   "execution_count": 47,
   "id": "5a68452b",
   "metadata": {
    "scrolled": true
   },
   "outputs": [
    {
     "name": "stdout",
     "output_type": "stream",
     "text": [
      "+----+-------------------+---------+-------+-----------+----+------------+-----+-----+\n",
      "|Make|Year of manufacture|Condition|Mileage|Engine Size|Fuel|Transmission|Price|Build|\n",
      "+----+-------------------+---------+-------+-----------+----+------------+-----+-----+\n",
      "|   0|                478|      479|     71|        511| 488|          20|    0| 2968|\n",
      "+----+-------------------+---------+-------+-----------+----+------------+-----+-----+\n",
      "\n"
     ]
    }
   ],
   "source": [
    "df_pyspark_nig.select([count(when(isnan(c) | col(c).isNull(), c)).alias(c) for c in df_pyspark_nig.columns]).show()"
   ]
  },
  {
   "cell_type": "markdown",
   "id": "f67b1d75",
   "metadata": {},
   "source": [
    "#### Exploring null values in columns:"
   ]
  },
  {
   "cell_type": "code",
   "execution_count": 48,
   "id": "f7375ae2",
   "metadata": {},
   "outputs": [
    {
     "name": "stdout",
     "output_type": "stream",
     "text": [
      "+-------------+-------------------+---------+-------+-----------+----+------------+----------+-----+\n",
      "|         Make|Year of manufacture|Condition|Mileage|Engine Size|Fuel|Transmission|     Price|Build|\n",
      "+-------------+-------------------+---------+-------+-----------+----+------------+----------+-----+\n",
      "|        Lexus|               null|     null| 138024|       null|null|   Automatic| 5,834,000| null|\n",
      "|        Lexus|               null|     null| 213362|       null|null|   Automatic| 3,594,000| null|\n",
      "|Mercedes-Benz|               null|     null| 106199|       null|null|   Automatic| 8,410,000| null|\n",
      "|Mercedes-Benz|               null|     null|  87660|       null|null|   Automatic| 5,554,000| null|\n",
      "|        Lexus|               null|     null| 191411|       null|null|   Automatic| 3,706,000| null|\n",
      "|        Lexus|               null|     null|  59092|       null|null|   Automatic| 8,410,000| null|\n",
      "|Mercedes-Benz|               null|     null|  89423|       null|null|   Automatic| 6,506,000| null|\n",
      "|        Lexus|               null|     null| 184827|       null|null|   Automatic| 4,000,000| null|\n",
      "|        Lexus|               null|     null|  42433|       null|null|   Automatic| 8,970,000| null|\n",
      "|        Lexus|               null|     null| 116138|       null|null|   Automatic| 3,034,000| null|\n",
      "|        Lexus|               null|     null| 167583|       null|null|   Automatic| 3,818,000| null|\n",
      "|        Lexus|               null|     null| 240934|       null|null|   Automatic| 3,930,000| null|\n",
      "|         Fiat|               null|     null|    114|       null|null|   Automatic| 8,500,000| null|\n",
      "|         Fiat|               null|     null|     54|       null|null|      Manual|12,500,000| null|\n",
      "|        Lexus|               null|     null|  79740|       null|null|   Automatic| 5,274,000| null|\n",
      "|Mercedes-Benz|               null|     null| 338145|       null|null|   Automatic| 8,060,000| null|\n",
      "|        Lexus|               null|     null| 174545|       null|null|   Automatic| 6,506,000| null|\n",
      "|   Land Rover|               null|     null|  63296|       null|null|   Automatic| 6,910,000| null|\n",
      "|Mercedes-Benz|               null|     null|  93469|       null|null|   Automatic| 6,910,000| null|\n",
      "|Mercedes-Benz|               null|     null|  63085|       null|null|   Automatic|15,690,000| null|\n",
      "+-------------+-------------------+---------+-------+-----------+----+------------+----------+-----+\n",
      "only showing top 20 rows\n",
      "\n"
     ]
    }
   ],
   "source": [
    "df_pyspark_nig.filter(col(\"Year of manufacture\").isNull()).show()"
   ]
  },
  {
   "cell_type": "code",
   "execution_count": 49,
   "id": "e698d031",
   "metadata": {
    "scrolled": true
   },
   "outputs": [
    {
     "name": "stdout",
     "output_type": "stream",
     "text": [
      "+-------------+-------------------+-------------+-------+-----------+------+------------+----------+-----+\n",
      "|         Make|Year of manufacture|    Condition|Mileage|Engine Size|  Fuel|Transmission|     Price|Build|\n",
      "+-------------+-------------------+-------------+-------+-----------+------+------------+----------+-----+\n",
      "|       Toyota|               2007|Nigerian Used| 166418|       2400|Petrol|   Automatic| 3,120,000| null|\n",
      "|        Lexus|               null|         null| 138024|       null|  null|   Automatic| 5,834,000| null|\n",
      "|Mercedes-Benz|               2008|Nigerian Used| 376807|       3000|Petrol|   Automatic| 3,640,000| null|\n",
      "|        Lexus|               null|         null| 213362|       null|  null|   Automatic| 3,594,000| null|\n",
      "|Mercedes-Benz|               null|         null| 106199|       null|  null|   Automatic| 8,410,000| null|\n",
      "|Mercedes-Benz|               null|         null|  87660|       null|  null|   Automatic| 5,554,000| null|\n",
      "|        Lexus|               null|         null| 191411|       null|  null|   Automatic| 3,706,000| null|\n",
      "|        Lexus|               null|         null|  59092|       null|  null|   Automatic| 8,410,000| null|\n",
      "|Mercedes-Benz|               null|         null|  89423|       null|  null|   Automatic| 6,506,000| null|\n",
      "|        Lexus|               null|         null| 184827|       null|  null|   Automatic| 4,000,000| null|\n",
      "|        Lexus|               null|         null|  42433|       null|  null|   Automatic| 8,970,000| null|\n",
      "|        Lexus|               null|         null| 116138|       null|  null|   Automatic| 3,034,000| null|\n",
      "|        Lexus|               null|         null| 167583|       null|  null|   Automatic| 3,818,000| null|\n",
      "|        Lexus|               null|         null| 240934|       null|  null|   Automatic| 3,930,000| null|\n",
      "|         Fiat|               null|         null|    114|       null|  null|   Automatic| 8,500,000| null|\n",
      "|         Fiat|               null|         null|     54|       null|  null|      Manual|12,500,000| null|\n",
      "|        Lexus|               null|         null|  79740|       null|  null|   Automatic| 5,274,000| null|\n",
      "|Mercedes-Benz|               null|         null| 338145|       null|  null|   Automatic| 8,060,000| null|\n",
      "|        Lexus|               null|         null| 174545|       null|  null|   Automatic| 6,506,000| null|\n",
      "|   Land Rover|               null|         null|  63296|       null|  null|   Automatic| 6,910,000| null|\n",
      "+-------------+-------------------+-------------+-------+-----------+------+------------+----------+-----+\n",
      "only showing top 20 rows\n",
      "\n"
     ]
    }
   ],
   "source": [
    "df_pyspark_nig.filter(col(\"Build\").isNull()).show()"
   ]
  },
  {
   "cell_type": "code",
   "execution_count": 50,
   "id": "e8ea47ba",
   "metadata": {},
   "outputs": [
    {
     "name": "stdout",
     "output_type": "stream",
     "text": [
      "+-------------+-------------------+-------------+-------+-----------+------+------------+----------+-----+\n",
      "|         Make|Year of manufacture|    Condition|Mileage|Engine Size|  Fuel|Transmission|     Price|Build|\n",
      "+-------------+-------------------+-------------+-------+-----------+------+------------+----------+-----+\n",
      "|        Lexus|               2011|Nigerian Used| 105546|       4600|Petrol|   Automatic|14,040,000|  SUV|\n",
      "|       Toyota|               2014|Nigerian Used| 216924|       2500|Petrol|   Automatic| 9,360,000|  SUV|\n",
      "|       Toyota|               2014|Nigerian Used| 216924|       2500|Petrol|   Automatic| 9,360,000|  SUV|\n",
      "|        Lexus|               2016|Nigerian Used| 107355|       5700|Petrol|   Automatic|42,000,000|  SUV|\n",
      "|Mercedes-Benz|               2007| Foreign Used| 209466|       4700|Petrol|   Automatic| 4,515,000|  SUV|\n",
      "|        Lexus|               2010| Foreign Used| 135819|       3500|Petrol|   Automatic| 8,610,000|  SUV|\n",
      "|Mercedes-Benz|               2015|Nigerian Used| 120785|       4500|Petrol|   Automatic|18,720,000|  SUV|\n",
      "|        Lexus|               2006|Nigerian Used| 156704|       3300|Petrol|   Automatic| 3,640,000|  SUV|\n",
      "|        Lexus|               2008|Nigerian Used| 162262|       4700|Petrol|   Automatic| 4,725,000|  SUV|\n",
      "|   Land Rover|               2011|Nigerian Used| 132352|       5000|Petrol|   Automatic| 5,250,000|  SUV|\n",
      "|       Toyota|               2010| Foreign Used| 170599|       3500|Petrol|   Automatic| 6,825,000|  SUV|\n",
      "|        Lexus|               2015| Foreign Used| 228013|       3500|Petrol|   Automatic|15,600,000|  SUV|\n",
      "|       Toyota|               2015| Foreign Used|  79277|       4000|Petrol|   Automatic|17,680,000|  SUV|\n",
      "|        Lexus|               2015|Nigerian Used|  88745|       3500|Petrol|   Automatic| 9,450,000|  SUV|\n",
      "|       Toyota|               2010| Foreign Used| 158017|       3500|Petrol|   Automatic| 6,825,000|  SUV|\n",
      "|        Lexus|               2004| Foreign Used| 250650|       3500|Petrol|   Automatic| 6,032,000|  SUV|\n",
      "|Mercedes-Benz|               2006|Nigerian Used| 243975|       3500|Petrol|   Automatic| 3,360,000|  SUV|\n",
      "|   Land Rover|               2018| Foreign Used|  30092|       3000|Diesel|   Automatic|36,750,000|  SUV|\n",
      "|Mercedes-Benz|               2012| Foreign Used| 173337|       3500|Petrol|   Automatic|11,025,000|  SUV|\n",
      "|        Lexus|               2005| Foreign Used|  95873|       3300|Petrol|   Automatic| 5,200,000|  SUV|\n",
      "+-------------+-------------------+-------------+-------+-----------+------+------------+----------+-----+\n",
      "only showing top 20 rows\n",
      "\n"
     ]
    }
   ],
   "source": [
    "df_pyspark_nig.filter(col(\"Build\").isNotNull()).show()"
   ]
  },
  {
   "cell_type": "markdown",
   "id": "4f6af1b6",
   "metadata": {},
   "source": [
    "#### Dropping null values"
   ]
  },
  {
   "cell_type": "code",
   "execution_count": 51,
   "id": "aeb404d5",
   "metadata": {},
   "outputs": [],
   "source": [
    "df_pyspark_nig = df_pyspark_nig.na.drop()"
   ]
  },
  {
   "cell_type": "code",
   "execution_count": 52,
   "id": "0e5865a0",
   "metadata": {},
   "outputs": [
    {
     "name": "stdout",
     "output_type": "stream",
     "text": [
      "+-------------+-------------------+-------------+-------+-----------+------+------------+----------+-----+\n",
      "|         Make|Year of manufacture|    Condition|Mileage|Engine Size|  Fuel|Transmission|     Price|Build|\n",
      "+-------------+-------------------+-------------+-------+-----------+------+------------+----------+-----+\n",
      "|        Lexus|               2011|Nigerian Used| 105546|       4600|Petrol|   Automatic|14,040,000|  SUV|\n",
      "|       Toyota|               2014|Nigerian Used| 216924|       2500|Petrol|   Automatic| 9,360,000|  SUV|\n",
      "|       Toyota|               2014|Nigerian Used| 216924|       2500|Petrol|   Automatic| 9,360,000|  SUV|\n",
      "|        Lexus|               2016|Nigerian Used| 107355|       5700|Petrol|   Automatic|42,000,000|  SUV|\n",
      "|Mercedes-Benz|               2007| Foreign Used| 209466|       4700|Petrol|   Automatic| 4,515,000|  SUV|\n",
      "|        Lexus|               2010| Foreign Used| 135819|       3500|Petrol|   Automatic| 8,610,000|  SUV|\n",
      "|Mercedes-Benz|               2015|Nigerian Used| 120785|       4500|Petrol|   Automatic|18,720,000|  SUV|\n",
      "|        Lexus|               2006|Nigerian Used| 156704|       3300|Petrol|   Automatic| 3,640,000|  SUV|\n",
      "|        Lexus|               2008|Nigerian Used| 162262|       4700|Petrol|   Automatic| 4,725,000|  SUV|\n",
      "|   Land Rover|               2011|Nigerian Used| 132352|       5000|Petrol|   Automatic| 5,250,000|  SUV|\n",
      "|       Toyota|               2010| Foreign Used| 170599|       3500|Petrol|   Automatic| 6,825,000|  SUV|\n",
      "|        Lexus|               2015| Foreign Used| 228013|       3500|Petrol|   Automatic|15,600,000|  SUV|\n",
      "|       Toyota|               2015| Foreign Used|  79277|       4000|Petrol|   Automatic|17,680,000|  SUV|\n",
      "|        Lexus|               2015|Nigerian Used|  88745|       3500|Petrol|   Automatic| 9,450,000|  SUV|\n",
      "|       Toyota|               2010| Foreign Used| 158017|       3500|Petrol|   Automatic| 6,825,000|  SUV|\n",
      "|        Lexus|               2004| Foreign Used| 250650|       3500|Petrol|   Automatic| 6,032,000|  SUV|\n",
      "|Mercedes-Benz|               2006|Nigerian Used| 243975|       3500|Petrol|   Automatic| 3,360,000|  SUV|\n",
      "|   Land Rover|               2018| Foreign Used|  30092|       3000|Diesel|   Automatic|36,750,000|  SUV|\n",
      "|Mercedes-Benz|               2012| Foreign Used| 173337|       3500|Petrol|   Automatic|11,025,000|  SUV|\n",
      "|        Lexus|               2005| Foreign Used|  95873|       3300|Petrol|   Automatic| 5,200,000|  SUV|\n",
      "+-------------+-------------------+-------------+-------+-----------+------+------------+----------+-----+\n",
      "only showing top 20 rows\n",
      "\n"
     ]
    }
   ],
   "source": [
    "df_pyspark_nig.show()"
   ]
  },
  {
   "cell_type": "markdown",
   "id": "cfca5547",
   "metadata": {},
   "source": [
    "#### Verifying if all drop values are dropped"
   ]
  },
  {
   "cell_type": "code",
   "execution_count": 53,
   "id": "55c4ee9f",
   "metadata": {},
   "outputs": [
    {
     "name": "stdout",
     "output_type": "stream",
     "text": [
      "+----+-------------------+---------+-------+-----------+----+------------+-----+-----+\n",
      "|Make|Year of manufacture|Condition|Mileage|Engine Size|Fuel|Transmission|Price|Build|\n",
      "+----+-------------------+---------+-------+-----------+----+------------+-----+-----+\n",
      "|   0|                  0|        0|      0|          0|   0|           0|    0|    0|\n",
      "+----+-------------------+---------+-------+-----------+----+------------+-----+-----+\n",
      "\n"
     ]
    }
   ],
   "source": [
    "df_pyspark_nig.select([count(when(isnan(c) | col(c).isNull(), c)).alias(c) for c in df_pyspark_nig.columns]).show()"
   ]
  },
  {
   "cell_type": "markdown",
   "id": "da3d7989",
   "metadata": {},
   "source": [
    "### Dealing with duplicates"
   ]
  },
  {
   "cell_type": "code",
   "execution_count": 54,
   "id": "f0801fec",
   "metadata": {},
   "outputs": [
    {
     "name": "stdout",
     "output_type": "stream",
     "text": [
      "Count  of rows in dataframe: 1101\n"
     ]
    }
   ],
   "source": [
    "print(\"Count  of rows in dataframe: \" + str(df_pyspark_nig.count()))"
   ]
  },
  {
   "cell_type": "code",
   "execution_count": 55,
   "id": "6fca05d5",
   "metadata": {},
   "outputs": [
    {
     "name": "stdout",
     "output_type": "stream",
     "text": [
      "Distinct Count of rows in dataframe: 851\n"
     ]
    }
   ],
   "source": [
    "print(\"Distinct Count of rows in dataframe: \" + str(df_pyspark_nig.distinct().count()))"
   ]
  },
  {
   "cell_type": "markdown",
   "id": "2b1afb6e",
   "metadata": {},
   "source": [
    "#### Removing duplicate values"
   ]
  },
  {
   "cell_type": "code",
   "execution_count": 56,
   "id": "f1314142",
   "metadata": {},
   "outputs": [
    {
     "name": "stdout",
     "output_type": "stream",
     "text": [
      "Distinct count: 851\n"
     ]
    }
   ],
   "source": [
    "df_pyspark_nig = df_pyspark_nig.dropDuplicates()\n",
    "print(\"Distinct count: \"+str(df_pyspark_nig.count()))"
   ]
  },
  {
   "cell_type": "markdown",
   "id": "d72cd2f7",
   "metadata": {},
   "source": [
    "### Changing the name of columns"
   ]
  },
  {
   "cell_type": "code",
   "execution_count": 57,
   "id": "dda983cc",
   "metadata": {},
   "outputs": [
    {
     "name": "stdout",
     "output_type": "stream",
     "text": [
      "+-------------+-------------------+-------------+-------+-----------+------+------------+----------+-----+\n",
      "|         Make|Year of manufacture|    Condition|Mileage|Engine Size|  Fuel|Transmission|     Price|Build|\n",
      "+-------------+-------------------+-------------+-------+-----------+------+------------+----------+-----+\n",
      "|Mercedes-Benz|               2013| Foreign Used| 104536|       3500|Petrol|   Automatic|14,352,000|  SUV|\n",
      "|        Honda|               2011| Foreign Used|   3621|       3500|Petrol|   Automatic| 6,240,000|  SUV|\n",
      "|       Toyota|               2007|Nigerian Used| 223493|       3500|Hybrid|   Automatic| 2,100,000|  SUV|\n",
      "|       Toyota|               2003|Nigerian Used| 367531|       4000|Petrol|   Automatic| 2,137,500|  SUV|\n",
      "|        Lexus|               2007| Foreign Used| 104138|       3500|Petrol|   Automatic| 5,928,000|  SUV|\n",
      "|      Lincoln|               2019|Nigerian Used|  35976|       2000|Petrol|   Automatic|17,850,000|  SUV|\n",
      "|   Land Rover|               2008|Nigerian Used| 178780|       4700|Petrol|   Automatic| 3,150,000|  SUV|\n",
      "|        Lexus|               2007|Nigerian Used| 220726|       3500|Petrol|   Automatic| 4,680,000|  SUV|\n",
      "|        Mazda|               2010|Nigerian Used| 322717|       2500|Petrol|   Automatic| 2,100,000|  SUV|\n",
      "|        Lexus|               2008| Foreign Used| 149092|       3500|Petrol|   Automatic| 5,145,000|  SUV|\n",
      "|      Hyundai|               2010|Nigerian Used| 262797|       3800|Petrol|   Automatic| 2,677,500|  SUV|\n",
      "|       Toyota|               2001|Nigerian Used| 119510|       3000|Petrol|   Automatic| 1,352,000|  SUV|\n",
      "|Mercedes-Benz|               2007|Nigerian Used|   1966|         35|Petrol|   Automatic| 5,720,000|  SUV|\n",
      "|       Toyota|               2002| Foreign Used| 125606|       2000|Petrol|   Automatic| 3,255,000|  SUV|\n",
      "|          Kia|               2013|Nigerian Used| 134013|       3800|Petrol|   Automatic| 4,410,000|  SUV|\n",
      "|        Honda|               2003|Nigerian Used| 175567|       3500|Petrol|   Automatic| 1,612,000|  SUV|\n",
      "|       Nissan|               2009|Nigerian Used| 213292|       3500|Petrol|         CVT| 1,575,000|  SUV|\n",
      "|        Lexus|               2005|Nigerian Used| 196345|       3300|Petrol|   Automatic| 3,432,000|  SUV|\n",
      "|       Toyota|               2007|Nigerian Used| 213548|       3500|Petrol|   Automatic| 3,328,000|  SUV|\n",
      "|       Toyota|               2009|Nigerian Used|  94618|       3500|Petrol|   Automatic| 4,725,000|  SUV|\n",
      "+-------------+-------------------+-------------+-------+-----------+------+------------+----------+-----+\n",
      "only showing top 20 rows\n",
      "\n"
     ]
    }
   ],
   "source": [
    "df_pyspark_nig.show()"
   ]
  },
  {
   "cell_type": "code",
   "execution_count": 58,
   "id": "978539eb",
   "metadata": {},
   "outputs": [
    {
     "data": {
      "text/plain": [
       "['Make',\n",
       " 'Year of manufacture',\n",
       " 'Condition',\n",
       " 'Mileage',\n",
       " 'Engine Size',\n",
       " 'Fuel',\n",
       " 'Transmission',\n",
       " 'Price',\n",
       " 'Build']"
      ]
     },
     "execution_count": 58,
     "metadata": {},
     "output_type": "execute_result"
    }
   ],
   "source": [
    "df_pyspark_nig.columns"
   ]
  },
  {
   "cell_type": "code",
   "execution_count": 59,
   "id": "7e695653",
   "metadata": {},
   "outputs": [],
   "source": [
    "df_pyspark_nig = df_pyspark_nig.withColumnRenamed(\"Make\",\"Brand\") \\\n",
    "                .withColumnRenamed(\"Year of manufacture\",\"Year\") \\\n",
    "                .withColumnRenamed(\"Mileage\",\"Kilometres\") \\\n",
    "                 .withColumnRenamed(\"Transmission\",\"Gear\") \\\n",
    "                .withColumnRenamed(\"Build\",\"BodyType\") \\\n",
    "                .withColumnRenamed(\"Fuel\",\"FuelType\") \\\n",
    "                .withColumnRenamed(\"Engine Size\",\"EngineSize\") \\\n",
    "                .withColumnRenamed(\"Price\",\"Money\") "
   ]
  },
  {
   "cell_type": "markdown",
   "id": "c86b6cbe",
   "metadata": {},
   "source": [
    "### Converting str to int data type"
   ]
  },
  {
   "cell_type": "code",
   "execution_count": 60,
   "id": "960bc8c1",
   "metadata": {},
   "outputs": [],
   "source": [
    "df_pyspark_nig = df_pyspark_nig.withColumn(\"Money\", functions.regexp_replace('Money',r'[,]',\"\"))\n",
    "df_pyspark_nig = df_pyspark_nig.withColumn(\"Money\",col(\"Money\").cast(\"integer\"))\n"
   ]
  },
  {
   "cell_type": "code",
   "execution_count": 61,
   "id": "1c1b1b15",
   "metadata": {},
   "outputs": [
    {
     "name": "stdout",
     "output_type": "stream",
     "text": [
      "+-------------+----+-------------+----------+----------+--------+---------+--------+--------+\n",
      "|        Brand|Year|    Condition|Kilometres|EngineSize|FuelType|     Gear|   Money|BodyType|\n",
      "+-------------+----+-------------+----------+----------+--------+---------+--------+--------+\n",
      "|Mercedes-Benz|2013| Foreign Used|    104536|      3500|  Petrol|Automatic|14352000|     SUV|\n",
      "|        Honda|2011| Foreign Used|      3621|      3500|  Petrol|Automatic| 6240000|     SUV|\n",
      "|       Toyota|2007|Nigerian Used|    223493|      3500|  Hybrid|Automatic| 2100000|     SUV|\n",
      "|       Toyota|2003|Nigerian Used|    367531|      4000|  Petrol|Automatic| 2137500|     SUV|\n",
      "|        Lexus|2007| Foreign Used|    104138|      3500|  Petrol|Automatic| 5928000|     SUV|\n",
      "|      Lincoln|2019|Nigerian Used|     35976|      2000|  Petrol|Automatic|17850000|     SUV|\n",
      "|   Land Rover|2008|Nigerian Used|    178780|      4700|  Petrol|Automatic| 3150000|     SUV|\n",
      "|        Lexus|2007|Nigerian Used|    220726|      3500|  Petrol|Automatic| 4680000|     SUV|\n",
      "|        Mazda|2010|Nigerian Used|    322717|      2500|  Petrol|Automatic| 2100000|     SUV|\n",
      "|        Lexus|2008| Foreign Used|    149092|      3500|  Petrol|Automatic| 5145000|     SUV|\n",
      "|      Hyundai|2010|Nigerian Used|    262797|      3800|  Petrol|Automatic| 2677500|     SUV|\n",
      "|       Toyota|2001|Nigerian Used|    119510|      3000|  Petrol|Automatic| 1352000|     SUV|\n",
      "|Mercedes-Benz|2007|Nigerian Used|      1966|        35|  Petrol|Automatic| 5720000|     SUV|\n",
      "|       Toyota|2002| Foreign Used|    125606|      2000|  Petrol|Automatic| 3255000|     SUV|\n",
      "|          Kia|2013|Nigerian Used|    134013|      3800|  Petrol|Automatic| 4410000|     SUV|\n",
      "|        Honda|2003|Nigerian Used|    175567|      3500|  Petrol|Automatic| 1612000|     SUV|\n",
      "|       Nissan|2009|Nigerian Used|    213292|      3500|  Petrol|      CVT| 1575000|     SUV|\n",
      "|        Lexus|2005|Nigerian Used|    196345|      3300|  Petrol|Automatic| 3432000|     SUV|\n",
      "|       Toyota|2007|Nigerian Used|    213548|      3500|  Petrol|Automatic| 3328000|     SUV|\n",
      "|       Toyota|2009|Nigerian Used|     94618|      3500|  Petrol|Automatic| 4725000|     SUV|\n",
      "+-------------+----+-------------+----------+----------+--------+---------+--------+--------+\n",
      "only showing top 20 rows\n",
      "\n"
     ]
    }
   ],
   "source": [
    "df_pyspark_nig.show()"
   ]
  },
  {
   "cell_type": "markdown",
   "id": "2344fd6f",
   "metadata": {},
   "source": [
    "### Converting Money to Money USD"
   ]
  },
  {
   "cell_type": "code",
   "execution_count": 62,
   "id": "3bc554f8",
   "metadata": {},
   "outputs": [],
   "source": [
    "def MoneyUSD(df_pyspark_nig):\n",
    "    return df_pyspark_nig.withColumn(\"Money USD\", \\\n",
    "                                   df_pyspark_nig.Money * 0.0022 )\n",
    "df_pyspark_nig = df_pyspark_nig.transform(MoneyUSD)"
   ]
  },
  {
   "cell_type": "markdown",
   "id": "25da774e",
   "metadata": {},
   "source": [
    "### Basic information after cleaning"
   ]
  },
  {
   "cell_type": "code",
   "execution_count": 63,
   "id": "b75a4d21",
   "metadata": {},
   "outputs": [
    {
     "name": "stdout",
     "output_type": "stream",
     "text": [
      "root\n",
      " |-- Brand: string (nullable = true)\n",
      " |-- Year: integer (nullable = true)\n",
      " |-- Condition: string (nullable = true)\n",
      " |-- Kilometres: integer (nullable = true)\n",
      " |-- EngineSize: integer (nullable = true)\n",
      " |-- FuelType: string (nullable = true)\n",
      " |-- Gear: string (nullable = true)\n",
      " |-- Money: integer (nullable = true)\n",
      " |-- BodyType: string (nullable = true)\n",
      " |-- Money USD: double (nullable = true)\n",
      "\n"
     ]
    }
   ],
   "source": [
    "df_pyspark_nig.printSchema()"
   ]
  },
  {
   "cell_type": "code",
   "execution_count": 64,
   "id": "4275a82e",
   "metadata": {},
   "outputs": [
    {
     "name": "stdout",
     "output_type": "stream",
     "text": [
      "+-------------+----+-------------+----------+----------+--------+---------+--------+--------+-----------------+\n",
      "|        Brand|Year|    Condition|Kilometres|EngineSize|FuelType|     Gear|   Money|BodyType|        Money USD|\n",
      "+-------------+----+-------------+----------+----------+--------+---------+--------+--------+-----------------+\n",
      "|Mercedes-Benz|2013| Foreign Used|    104536|      3500|  Petrol|Automatic|14352000|     SUV|          31574.4|\n",
      "|        Honda|2011| Foreign Used|      3621|      3500|  Petrol|Automatic| 6240000|     SUV|          13728.0|\n",
      "|       Toyota|2007|Nigerian Used|    223493|      3500|  Hybrid|Automatic| 2100000|     SUV|           4620.0|\n",
      "|       Toyota|2003|Nigerian Used|    367531|      4000|  Petrol|Automatic| 2137500|     SUV|           4702.5|\n",
      "|        Lexus|2007| Foreign Used|    104138|      3500|  Petrol|Automatic| 5928000|     SUV|          13041.6|\n",
      "|      Lincoln|2019|Nigerian Used|     35976|      2000|  Petrol|Automatic|17850000|     SUV|          39270.0|\n",
      "|   Land Rover|2008|Nigerian Used|    178780|      4700|  Petrol|Automatic| 3150000|     SUV|           6930.0|\n",
      "|        Lexus|2007|Nigerian Used|    220726|      3500|  Petrol|Automatic| 4680000|     SUV|          10296.0|\n",
      "|        Mazda|2010|Nigerian Used|    322717|      2500|  Petrol|Automatic| 2100000|     SUV|           4620.0|\n",
      "|        Lexus|2008| Foreign Used|    149092|      3500|  Petrol|Automatic| 5145000|     SUV|          11319.0|\n",
      "|      Hyundai|2010|Nigerian Used|    262797|      3800|  Petrol|Automatic| 2677500|     SUV|           5890.5|\n",
      "|       Toyota|2001|Nigerian Used|    119510|      3000|  Petrol|Automatic| 1352000|     SUV|           2974.4|\n",
      "|Mercedes-Benz|2007|Nigerian Used|      1966|        35|  Petrol|Automatic| 5720000|     SUV|          12584.0|\n",
      "|       Toyota|2002| Foreign Used|    125606|      2000|  Petrol|Automatic| 3255000|     SUV|           7161.0|\n",
      "|          Kia|2013|Nigerian Used|    134013|      3800|  Petrol|Automatic| 4410000|     SUV|           9702.0|\n",
      "|        Honda|2003|Nigerian Used|    175567|      3500|  Petrol|Automatic| 1612000|     SUV|           3546.4|\n",
      "|       Nissan|2009|Nigerian Used|    213292|      3500|  Petrol|      CVT| 1575000|     SUV|           3465.0|\n",
      "|        Lexus|2005|Nigerian Used|    196345|      3300|  Petrol|Automatic| 3432000|     SUV|7550.400000000001|\n",
      "|       Toyota|2007|Nigerian Used|    213548|      3500|  Petrol|Automatic| 3328000|     SUV|           7321.6|\n",
      "|       Toyota|2009|Nigerian Used|     94618|      3500|  Petrol|Automatic| 4725000|     SUV|          10395.0|\n",
      "+-------------+----+-------------+----------+----------+--------+---------+--------+--------+-----------------+\n",
      "only showing top 20 rows\n",
      "\n"
     ]
    }
   ],
   "source": [
    "df_pyspark_nig.show()"
   ]
  },
  {
   "cell_type": "markdown",
   "id": "2865de24",
   "metadata": {},
   "source": [
    "## df_pyspark_pol"
   ]
  },
  {
   "cell_type": "code",
   "execution_count": 65,
   "id": "677e7d23",
   "metadata": {},
   "outputs": [
    {
     "name": "stdout",
     "output_type": "stream",
     "text": [
      "+---+----+-----+---------------+----+-------+----------+------+---------------+-------------------+-----+\n",
      "|_c0|mark|model|generation_name|year|mileage|vol_engine|  fuel|           city|           province|price|\n",
      "+---+----+-----+---------------+----+-------+----------+------+---------------+-------------------+-----+\n",
      "|  0|opel|combo|     gen-d-2011|2015| 139568|      1248|Diesel|          Janki|        Mazowieckie|35900|\n",
      "|  1|opel|combo|     gen-d-2011|2018|  31991|      1499|Diesel|       Katowice|            Śląskie|78501|\n",
      "|  2|opel|combo|     gen-d-2011|2015| 278437|      1598|Diesel|          Brzeg|           Opolskie|27000|\n",
      "|  3|opel|combo|     gen-d-2011|2016|  47600|      1248|Diesel|      Korfantów|           Opolskie|30800|\n",
      "|  4|opel|combo|     gen-d-2011|2014| 103000|      1400|   CNG|Tarnowskie Góry|            Śląskie|35900|\n",
      "|  5|opel|combo|     gen-d-2011|2017| 121203|      1598|Diesel|       Warszawa|        Mazowieckie|51900|\n",
      "|  6|opel|combo|     gen-d-2011|2017| 119965|      1248|Diesel|        Wrocław|       Dolnośląskie|44700|\n",
      "|  7|opel|combo|     gen-d-2011|2016| 201658|      1248|Diesel|         Lublin|          Lubelskie|29000|\n",
      "|  8|opel|combo|     gen-d-2011|2014| 178666|      1598|Diesel|         Złotów|      Wielkopolskie|28900|\n",
      "|  9|opel|combo|     gen-d-2011|2015| 113000|      1248|Diesel|       Strzyżew|        Mazowieckie|34900|\n",
      "| 10|opel|combo|     gen-d-2011|2012| 237000|      1598|Diesel|         Elbląg|Warmińsko-mazurskie|24800|\n",
      "| 11|opel|combo|     gen-d-2011|2017| 137000|      1248|Diesel|       Warszawa|        Mazowieckie|39900|\n",
      "| 12|opel|combo|     gen-d-2011|2016| 154000|      1248|Diesel|      Sosnowiec|            Śląskie|35900|\n",
      "| 13|opel|combo|     gen-d-2011|2017|  59339|      1248|Diesel|        Wrocław|       Dolnośląskie|55300|\n",
      "| 14|opel|combo|     gen-d-2011|2016| 137445|      1598|Diesel|          Opole|           Opolskie|34700|\n",
      "| 15|opel|combo|     gen-d-2011|2016| 141859|      1248|Diesel|       Katowice|            Śląskie|39900|\n",
      "| 16|opel|combo|     gen-d-2011|2012| 195000|      1598|Diesel|          Radom|        Mazowieckie|25900|\n",
      "| 17|opel|combo|     gen-d-2011|2015| 180000|      1598|Diesel|       Chmieleń|       Dolnośląskie|32900|\n",
      "| 18|opel|combo|     gen-d-2011|2018| 107515|      1499|Diesel|      Piaseczno|        Mazowieckie|62000|\n",
      "| 19|opel|combo|     gen-d-2011|2017| 149000|      1598|Diesel|  Góra Kalwaria|        Mazowieckie|39852|\n",
      "+---+----+-----+---------------+----+-------+----------+------+---------------+-------------------+-----+\n",
      "only showing top 20 rows\n",
      "\n"
     ]
    }
   ],
   "source": [
    "df_pyspark_pol.show()"
   ]
  },
  {
   "cell_type": "markdown",
   "id": "9e99010b",
   "metadata": {},
   "source": [
    "### Looking for null values in columns:"
   ]
  },
  {
   "cell_type": "code",
   "execution_count": 66,
   "id": "8d514af4",
   "metadata": {},
   "outputs": [
    {
     "name": "stdout",
     "output_type": "stream",
     "text": [
      "+---+----+-----+---------------+----+-------+----------+----+----+--------+-----+\n",
      "|_c0|mark|model|generation_name|year|mileage|vol_engine|fuel|city|province|price|\n",
      "+---+----+-----+---------------+----+-------+----------+----+----+--------+-----+\n",
      "|  0|   0|    0|          30085|   0|      0|         0|   0|   0|       0|    0|\n",
      "+---+----+-----+---------------+----+-------+----------+----+----+--------+-----+\n",
      "\n"
     ]
    }
   ],
   "source": [
    "df_pyspark_pol.select([count(when(isnan(c) | col(c).isNull(), c)).alias(c) for c in df_pyspark_pol.columns]).show()"
   ]
  },
  {
   "cell_type": "markdown",
   "id": "285dd1d3",
   "metadata": {},
   "source": [
    "#### Browsing null values "
   ]
  },
  {
   "cell_type": "code",
   "execution_count": 67,
   "id": "675e3d89",
   "metadata": {},
   "outputs": [
    {
     "name": "stdout",
     "output_type": "stream",
     "text": [
      "+---+----+-----+---------------+----+-------+----------+--------+--------------+-----------+-----+\n",
      "|_c0|mark|model|generation_name|year|mileage|vol_engine|    fuel|          city|   province|price|\n",
      "+---+----+-----+---------------+----+-------+----------+--------+--------------+-----------+-----+\n",
      "|189|opel| adam|           null|2013| 101514|      1398|Gasoline|      Warszawa|Mazowieckie|29900|\n",
      "|190|opel| adam|           null|2014|  98317|      1398|     LPG|         Janki|Mazowieckie|36900|\n",
      "|191|opel| adam|           null|2017|  96511|      1364|Gasoline|      Warszawa|Mazowieckie|48900|\n",
      "|192|opel| adam|           null|2013| 141399|      1398|Gasoline|      Warszawa|Mazowieckie|31300|\n",
      "|193|opel| adam|           null|2014|  60936|      1398|Gasoline|      Warszawa|Mazowieckie|40900|\n",
      "|194|opel| adam|           null|2015|  72279|       999|Gasoline|        Lublin|  Lubelskie|43500|\n",
      "|195|opel| adam|           null|2015|  91773|      1398|Gasoline|      Katowice|    Śląskie|35700|\n",
      "|196|opel| adam|           null|2018|  34000|      1398|Gasoline|      Złotniki|   Opolskie|43500|\n",
      "|197|opel| adam|           null|2014| 100053|      1398|Gasoline|       Leoncin|Mazowieckie|31500|\n",
      "|198|opel| adam|           null|2014| 109330|      1398|Gasoline|      Warszawa|Mazowieckie|32500|\n",
      "|199|opel| adam|           null|2014| 121311|      1398|Gasoline|      Warszawa|Mazowieckie|33500|\n",
      "|200|opel| adam|           null|2013|  91512|      1398|Gasoline|      Warszawa|Mazowieckie|32900|\n",
      "|201|opel| adam|           null|2018|   8049|      1398|Gasoline|      Warszawa|Mazowieckie|46600|\n",
      "|202|opel| adam|           null|2014|  81932|      1229|Gasoline|        Lublin|  Lubelskie|27900|\n",
      "|203|opel| adam|           null|2015|  95988|       999|Gasoline|      Katowice|    Śląskie|41500|\n",
      "|204|opel| adam|           null|2017|  91955|      1229|Gasoline|      Warszawa|Mazowieckie|36500|\n",
      "|205|opel| adam|           null|2015|  39007|      1398|Gasoline|      Warszawa|Mazowieckie|38900|\n",
      "|206|opel| adam|           null|2015| 106000|       999|Gasoline|          Łódź|    Łódzkie|38000|\n",
      "|207|opel| adam|           null|2015|  91000|      1229|Gasoline|Biała Podlaska|  Lubelskie|35300|\n",
      "|208|opel| adam|           null|2018|  37000|      1229|Gasoline|       Gliwice|    Śląskie|37900|\n",
      "+---+----+-----+---------------+----+-------+----------+--------+--------------+-----------+-----+\n",
      "only showing top 20 rows\n",
      "\n"
     ]
    }
   ],
   "source": [
    "df_pyspark_pol.filter(col(\"generation_name\").isNull()).show()"
   ]
  },
  {
   "cell_type": "code",
   "execution_count": 68,
   "id": "ff366526",
   "metadata": {},
   "outputs": [],
   "source": [
    "df_pyspark_pol = df_pyspark_pol.na.fill(\"Not Available\",[\"generation_name\"])"
   ]
  },
  {
   "cell_type": "markdown",
   "id": "404feeb1",
   "metadata": {},
   "source": [
    "#### Verifying if all null values are removed:"
   ]
  },
  {
   "cell_type": "code",
   "execution_count": 69,
   "id": "48ea5040",
   "metadata": {},
   "outputs": [
    {
     "name": "stdout",
     "output_type": "stream",
     "text": [
      "+---+----+-----+---------------+----+-------+----------+----+----+--------+-----+\n",
      "|_c0|mark|model|generation_name|year|mileage|vol_engine|fuel|city|province|price|\n",
      "+---+----+-----+---------------+----+-------+----------+----+----+--------+-----+\n",
      "|  0|   0|    0|              0|   0|      0|         0|   0|   0|       0|    0|\n",
      "+---+----+-----+---------------+----+-------+----------+----+----+--------+-----+\n",
      "\n"
     ]
    }
   ],
   "source": [
    "df_pyspark_pol.select([count(when(isnan(c) | col(c).isNull(), c)).alias(c) for c in df_pyspark_pol.columns]).show()"
   ]
  },
  {
   "cell_type": "markdown",
   "id": "0515558e",
   "metadata": {},
   "source": [
    "### Looking for duplicate values in columns:"
   ]
  },
  {
   "cell_type": "code",
   "execution_count": 70,
   "id": "28aa17cf",
   "metadata": {},
   "outputs": [
    {
     "name": "stdout",
     "output_type": "stream",
     "text": [
      "Distinct Count of rows in dataframe: 117927\n"
     ]
    }
   ],
   "source": [
    "print(\"Distinct Count of rows in dataframe: \" + str(df_pyspark_pol.distinct().count()))"
   ]
  },
  {
   "cell_type": "code",
   "execution_count": 71,
   "id": "2009574e",
   "metadata": {},
   "outputs": [
    {
     "name": "stdout",
     "output_type": "stream",
     "text": [
      "Count of rows in dataframe: 117927\n"
     ]
    }
   ],
   "source": [
    "print(\"Count of rows in dataframe: \" + str(df_pyspark_pol.count()))"
   ]
  },
  {
   "cell_type": "markdown",
   "id": "76fd5e01",
   "metadata": {},
   "source": [
    "### Changing the name of columns"
   ]
  },
  {
   "cell_type": "code",
   "execution_count": 72,
   "id": "44249c3d",
   "metadata": {},
   "outputs": [
    {
     "data": {
      "text/plain": [
       "['_c0',\n",
       " 'mark',\n",
       " 'model',\n",
       " 'generation_name',\n",
       " 'year',\n",
       " 'mileage',\n",
       " 'vol_engine',\n",
       " 'fuel',\n",
       " 'city',\n",
       " 'province',\n",
       " 'price']"
      ]
     },
     "execution_count": 72,
     "metadata": {},
     "output_type": "execute_result"
    }
   ],
   "source": [
    "df_pyspark_pol.columns"
   ]
  },
  {
   "cell_type": "code",
   "execution_count": 73,
   "id": "c69b47cb",
   "metadata": {},
   "outputs": [],
   "source": [
    "df_pyspark_pol = df_pyspark_pol.drop(\"_c0\")"
   ]
  },
  {
   "cell_type": "code",
   "execution_count": 74,
   "id": "1df7a34e",
   "metadata": {},
   "outputs": [],
   "source": [
    "df_pyspark_pol = df_pyspark_pol.withColumnRenamed(\"mark\",\"Brand\") \\\n",
    "                                .withColumnRenamed(\"model\",\"Model\") \\\n",
    "                                .withColumnRenamed(\"generation_name\",\"GenerationName\") \\\n",
    "                                .withColumnRenamed(\"vol_engine\",\"EngineSize\") \\\n",
    "                                .withColumnRenamed(\"fuel\",\"FuelType\") \\\n",
    "                                .withColumnRenamed(\"city\",\"City\") \\\n",
    "                               .withColumnRenamed(\"year\",\"Year\") \\\n",
    "                                .withColumnRenamed(\"mileage\",\"Kilometers\") \\\n",
    "                                 .withColumnRenamed(\"province\",\"Province\") \\\n",
    "                                .withColumnRenamed(\"price\",\"Money\")"
   ]
  },
  {
   "cell_type": "code",
   "execution_count": 75,
   "id": "ff4f32a4",
   "metadata": {},
   "outputs": [
    {
     "name": "stdout",
     "output_type": "stream",
     "text": [
      "+-----+-----+--------------+----+----------+----------+--------+---------------+-------------------+-----+\n",
      "|Brand|Model|GenerationName|Year|Kilometers|EngineSize|FuelType|           City|           Province|Money|\n",
      "+-----+-----+--------------+----+----------+----------+--------+---------------+-------------------+-----+\n",
      "| opel|combo|    gen-d-2011|2015|    139568|      1248|  Diesel|          Janki|        Mazowieckie|35900|\n",
      "| opel|combo|    gen-d-2011|2018|     31991|      1499|  Diesel|       Katowice|            Śląskie|78501|\n",
      "| opel|combo|    gen-d-2011|2015|    278437|      1598|  Diesel|          Brzeg|           Opolskie|27000|\n",
      "| opel|combo|    gen-d-2011|2016|     47600|      1248|  Diesel|      Korfantów|           Opolskie|30800|\n",
      "| opel|combo|    gen-d-2011|2014|    103000|      1400|     CNG|Tarnowskie Góry|            Śląskie|35900|\n",
      "| opel|combo|    gen-d-2011|2017|    121203|      1598|  Diesel|       Warszawa|        Mazowieckie|51900|\n",
      "| opel|combo|    gen-d-2011|2017|    119965|      1248|  Diesel|        Wrocław|       Dolnośląskie|44700|\n",
      "| opel|combo|    gen-d-2011|2016|    201658|      1248|  Diesel|         Lublin|          Lubelskie|29000|\n",
      "| opel|combo|    gen-d-2011|2014|    178666|      1598|  Diesel|         Złotów|      Wielkopolskie|28900|\n",
      "| opel|combo|    gen-d-2011|2015|    113000|      1248|  Diesel|       Strzyżew|        Mazowieckie|34900|\n",
      "| opel|combo|    gen-d-2011|2012|    237000|      1598|  Diesel|         Elbląg|Warmińsko-mazurskie|24800|\n",
      "| opel|combo|    gen-d-2011|2017|    137000|      1248|  Diesel|       Warszawa|        Mazowieckie|39900|\n",
      "| opel|combo|    gen-d-2011|2016|    154000|      1248|  Diesel|      Sosnowiec|            Śląskie|35900|\n",
      "| opel|combo|    gen-d-2011|2017|     59339|      1248|  Diesel|        Wrocław|       Dolnośląskie|55300|\n",
      "| opel|combo|    gen-d-2011|2016|    137445|      1598|  Diesel|          Opole|           Opolskie|34700|\n",
      "| opel|combo|    gen-d-2011|2016|    141859|      1248|  Diesel|       Katowice|            Śląskie|39900|\n",
      "| opel|combo|    gen-d-2011|2012|    195000|      1598|  Diesel|          Radom|        Mazowieckie|25900|\n",
      "| opel|combo|    gen-d-2011|2015|    180000|      1598|  Diesel|       Chmieleń|       Dolnośląskie|32900|\n",
      "| opel|combo|    gen-d-2011|2018|    107515|      1499|  Diesel|      Piaseczno|        Mazowieckie|62000|\n",
      "| opel|combo|    gen-d-2011|2017|    149000|      1598|  Diesel|  Góra Kalwaria|        Mazowieckie|39852|\n",
      "+-----+-----+--------------+----+----------+----------+--------+---------------+-------------------+-----+\n",
      "only showing top 20 rows\n",
      "\n"
     ]
    }
   ],
   "source": [
    "df_pyspark_pol.show()"
   ]
  },
  {
   "cell_type": "markdown",
   "id": "40a39f73",
   "metadata": {},
   "source": [
    "#### Capitalizing the first letter"
   ]
  },
  {
   "cell_type": "code",
   "execution_count": 76,
   "id": "b10454d8",
   "metadata": {},
   "outputs": [],
   "source": [
    "def to_capitalize_first_letter(df_pyspark_pol):\n",
    "    return df_pyspark_pol.withColumn(\"Brand\", initcap(col('Brand'))) \\\n",
    "                .withColumn(\"Model\", initcap(col('Model'))) \\\n",
    "                 .withColumn(\"GenerationName\", initcap(col('GenerationName')))\n"
   ]
  },
  {
   "cell_type": "code",
   "execution_count": 77,
   "id": "15e09863",
   "metadata": {},
   "outputs": [],
   "source": [
    "df_pyspark_pol = df_pyspark_pol.transform(to_capitalize_first_letter)"
   ]
  },
  {
   "cell_type": "code",
   "execution_count": 78,
   "id": "7c830fbe",
   "metadata": {},
   "outputs": [
    {
     "name": "stdout",
     "output_type": "stream",
     "text": [
      "+-----+-----+--------------+----+----------+----------+--------+---------------+-------------------+-----+\n",
      "|Brand|Model|GenerationName|Year|Kilometers|EngineSize|FuelType|           City|           Province|Money|\n",
      "+-----+-----+--------------+----+----------+----------+--------+---------------+-------------------+-----+\n",
      "| Opel|Combo|    Gen-d-2011|2015|    139568|      1248|  Diesel|          Janki|        Mazowieckie|35900|\n",
      "| Opel|Combo|    Gen-d-2011|2018|     31991|      1499|  Diesel|       Katowice|            Śląskie|78501|\n",
      "| Opel|Combo|    Gen-d-2011|2015|    278437|      1598|  Diesel|          Brzeg|           Opolskie|27000|\n",
      "| Opel|Combo|    Gen-d-2011|2016|     47600|      1248|  Diesel|      Korfantów|           Opolskie|30800|\n",
      "| Opel|Combo|    Gen-d-2011|2014|    103000|      1400|     CNG|Tarnowskie Góry|            Śląskie|35900|\n",
      "| Opel|Combo|    Gen-d-2011|2017|    121203|      1598|  Diesel|       Warszawa|        Mazowieckie|51900|\n",
      "| Opel|Combo|    Gen-d-2011|2017|    119965|      1248|  Diesel|        Wrocław|       Dolnośląskie|44700|\n",
      "| Opel|Combo|    Gen-d-2011|2016|    201658|      1248|  Diesel|         Lublin|          Lubelskie|29000|\n",
      "| Opel|Combo|    Gen-d-2011|2014|    178666|      1598|  Diesel|         Złotów|      Wielkopolskie|28900|\n",
      "| Opel|Combo|    Gen-d-2011|2015|    113000|      1248|  Diesel|       Strzyżew|        Mazowieckie|34900|\n",
      "| Opel|Combo|    Gen-d-2011|2012|    237000|      1598|  Diesel|         Elbląg|Warmińsko-mazurskie|24800|\n",
      "| Opel|Combo|    Gen-d-2011|2017|    137000|      1248|  Diesel|       Warszawa|        Mazowieckie|39900|\n",
      "| Opel|Combo|    Gen-d-2011|2016|    154000|      1248|  Diesel|      Sosnowiec|            Śląskie|35900|\n",
      "| Opel|Combo|    Gen-d-2011|2017|     59339|      1248|  Diesel|        Wrocław|       Dolnośląskie|55300|\n",
      "| Opel|Combo|    Gen-d-2011|2016|    137445|      1598|  Diesel|          Opole|           Opolskie|34700|\n",
      "| Opel|Combo|    Gen-d-2011|2016|    141859|      1248|  Diesel|       Katowice|            Śląskie|39900|\n",
      "| Opel|Combo|    Gen-d-2011|2012|    195000|      1598|  Diesel|          Radom|        Mazowieckie|25900|\n",
      "| Opel|Combo|    Gen-d-2011|2015|    180000|      1598|  Diesel|       Chmieleń|       Dolnośląskie|32900|\n",
      "| Opel|Combo|    Gen-d-2011|2018|    107515|      1499|  Diesel|      Piaseczno|        Mazowieckie|62000|\n",
      "| Opel|Combo|    Gen-d-2011|2017|    149000|      1598|  Diesel|  Góra Kalwaria|        Mazowieckie|39852|\n",
      "+-----+-----+--------------+----+----------+----------+--------+---------------+-------------------+-----+\n",
      "only showing top 20 rows\n",
      "\n"
     ]
    }
   ],
   "source": [
    "df_pyspark_pol.show()"
   ]
  },
  {
   "cell_type": "markdown",
   "id": "648fcae4",
   "metadata": {},
   "source": [
    "### Basic information after cleaning"
   ]
  },
  {
   "cell_type": "code",
   "execution_count": 79,
   "id": "dd685e3d",
   "metadata": {},
   "outputs": [
    {
     "name": "stdout",
     "output_type": "stream",
     "text": [
      "root\n",
      " |-- Brand: string (nullable = true)\n",
      " |-- Model: string (nullable = true)\n",
      " |-- GenerationName: string (nullable = false)\n",
      " |-- Year: integer (nullable = true)\n",
      " |-- Kilometers: integer (nullable = true)\n",
      " |-- EngineSize: integer (nullable = true)\n",
      " |-- FuelType: string (nullable = true)\n",
      " |-- City: string (nullable = true)\n",
      " |-- Province: string (nullable = true)\n",
      " |-- Money: integer (nullable = true)\n",
      "\n"
     ]
    }
   ],
   "source": [
    "df_pyspark_pol.printSchema()"
   ]
  },
  {
   "cell_type": "markdown",
   "id": "8e894f9d",
   "metadata": {},
   "source": [
    "## df_pyspark_usa"
   ]
  },
  {
   "cell_type": "code",
   "execution_count": 80,
   "id": "a36deccb",
   "metadata": {},
   "outputs": [
    {
     "name": "stdout",
     "output_type": "stream",
     "text": [
      "+----+---------+----------+----------+----------+------------+----------+-----+---------+--------+------+--------+----------+-----+------------+----------+\n",
      "|year|     make|     model|      trim|      body|transmission|       vin|state|condition|odometer| color|interior|    seller|  mmr|sellingprice|  saledate|\n",
      "+----+---------+----------+----------+----------+------------+----------+-----+---------+--------+------+--------+----------+-----+------------+----------+\n",
      "|2015|      Kia|   Sorento|        LX|       SUV|   automatic|5xyktca...|   ca|        5| 16639.0| white|   black|kia mot...|20500|       21500|Tue Dec...|\n",
      "|2015|      Kia|   Sorento|        LX|       SUV|   automatic|5xyktca...|   ca|        5|  9393.0| white|   beige|kia mot...|20800|       21500|Tue Dec...|\n",
      "|2014|      BMW|  3 Series|328i SULEV|     Sedan|   automatic|wba3c1c...|   ca|      4.5|  1331.0|  gray|   black|financi...|31900|       30000|Thu Jan...|\n",
      "|2015|    Volvo|       S60|        T5|     Sedan|   automatic|yv1612t...|   ca|      4.1| 14282.0| white|   black|volvo n...|27500|       27750|Thu Jan...|\n",
      "|2014|      BMW|6 Serie...|      650i|     Sedan|   automatic|wba6b2c...|   ca|      4.3|  2641.0|  gray|   black|financi...|66000|       67000|Thu Dec...|\n",
      "|2015|   Nissan|    Altima|     2.5 S|     Sedan|   automatic|1n4al3a...|   ca|        1|  5554.0|  gray|   black|enterpr...|15350|       10900|Tue Dec...|\n",
      "|2014|      BMW|        M5|      Base|     Sedan|   automatic|wbsfv9c...|   ca|      3.4| 14943.0| black|   black|the her...|69000|       65000|Wed Dec...|\n",
      "|2014|Chevrolet|     Cruze|       1LT|     Sedan|   automatic|1g1pc5s...|   ca|        2| 28617.0| black|   black|enterpr...|11900|        9800|Tue Dec...|\n",
      "|2014|     Audi|        A4|2.0T Pr...|     Sedan|   automatic|wauffaf...|   ca|      4.2|  9557.0| white|   black|audi mi...|32100|       32250|Thu Dec...|\n",
      "|2014|Chevrolet|    Camaro|        LT|Convert...|   automatic|2g1fb3d...|   ca|        3|  4809.0|   red|   black|d/m aut...|26300|       17500|Tue Jan...|\n",
      "|2014|     Audi|        A6|3.0T Pr...|     Sedan|   automatic|wauhgaf...|   ca|      4.8| 14414.0| black|   black|desert ...|47300|       49750|Tue Dec...|\n",
      "|2015|      Kia|    Optima|        LX|     Sedan|   automatic|5xxgm4a...|   ca|      4.8|  2034.0|   red|     tan|kia mot...|15150|       17700|Tue Dec...|\n",
      "|2015|     Ford|    Fusion|        SE|     Sedan|   automatic|3fa6p0h...|   ca|        2|  5559.0| white|   beige|enterpr...|15350|       12000|Tue Jan...|\n",
      "|2015|      Kia|   Sorento|        LX|       SUV|   automatic|5xyktca...|   ca|        5| 14634.0|silver|   black|kia mot...|20600|       21500|Tue Dec...|\n",
      "|2014|Chevrolet|     Cruze|       2LT|     Sedan|   automatic|1g1pe5s...|   ca|     null| 15686.0|  blue|   black|avis ra...|13900|       10600|Tue Dec...|\n",
      "|2015|   Nissan|    Altima|     2.5 S|     Sedan|   automatic|1n4al3a...|   ca|        2| 11398.0| black|   black|enterpr...|14750|       14100|Tue Dec...|\n",
      "|2015|  Hyundai|    Sonata|        SE|     Sedan|        null|5npe24a...|   ca|     null|  8311.0|   red|       —|  avis tra|15200|        4200|Tue Dec...|\n",
      "|2014|     Audi|        Q5|2.0T Pr...|       SUV|   automatic|wa1lfaf...|   ca|      4.9|  7983.0| white|   black|audi no...|37100|       40000|Thu Dec...|\n",
      "|2014|Chevrolet|    Camaro|        LS|     Coupe|   automatic|2g1fa1e...|   ca|      1.7| 13441.0| black|   black|wells f...|17750|       17000|Tue Dec...|\n",
      "|2014|      BMW|  6 Series|      650i|Convert...|   automatic|wbayp9c...|   ca|      3.4|  8819.0| black|   black|the her...|68000|       67200|Wed Dec...|\n",
      "+----+---------+----------+----------+----------+------------+----------+-----+---------+--------+------+--------+----------+-----+------------+----------+\n",
      "only showing top 20 rows\n",
      "\n"
     ]
    }
   ],
   "source": [
    "df_pyspark_usa.show(20,10)"
   ]
  },
  {
   "cell_type": "code",
   "execution_count": 81,
   "id": "94c8fb5f",
   "metadata": {},
   "outputs": [
    {
     "data": {
      "text/plain": [
       "['year',\n",
       " 'make',\n",
       " 'model',\n",
       " 'trim',\n",
       " 'body',\n",
       " 'transmission',\n",
       " 'vin',\n",
       " 'state',\n",
       " 'condition',\n",
       " 'odometer',\n",
       " 'color',\n",
       " 'interior',\n",
       " 'seller',\n",
       " 'mmr',\n",
       " 'sellingprice',\n",
       " 'saledate']"
      ]
     },
     "execution_count": 81,
     "metadata": {},
     "output_type": "execute_result"
    }
   ],
   "source": [
    "df_pyspark_usa.columns"
   ]
  },
  {
   "cell_type": "markdown",
   "id": "afda1a32",
   "metadata": {},
   "source": [
    "#### Dropping columns"
   ]
  },
  {
   "cell_type": "code",
   "execution_count": 82,
   "id": "9abe36f5",
   "metadata": {},
   "outputs": [],
   "source": [
    "cols ={\"model\",\"trim\",\"vin\",\"condition\",\"odometer\",\"interior\",\"seller\",\"mmr\",\"saledate\"}\n",
    "df_pyspark_usa = df_pyspark_usa.drop(*cols)"
   ]
  },
  {
   "cell_type": "markdown",
   "id": "43c80566",
   "metadata": {},
   "source": [
    "### Looking for null values in columns:"
   ]
  },
  {
   "cell_type": "code",
   "execution_count": 83,
   "id": "19e5841f",
   "metadata": {},
   "outputs": [
    {
     "name": "stdout",
     "output_type": "stream",
     "text": [
      "+----+-----+-----+------------+-----+-----+------------+\n",
      "|year| make| body|transmission|state|color|sellingprice|\n",
      "+----+-----+-----+------------+-----+-----+------------+\n",
      "|   0|10301|13195|       65353|    0|  749|           0|\n",
      "+----+-----+-----+------------+-----+-----+------------+\n",
      "\n"
     ]
    }
   ],
   "source": [
    "df_pyspark_usa.select([count(when(isnan(c) | col(c).isNull(), c)).alias(c) for c in df_pyspark_usa.columns]).show()"
   ]
  },
  {
   "cell_type": "markdown",
   "id": "1871b514",
   "metadata": {},
   "source": [
    "#### Browsing NULL values"
   ]
  },
  {
   "cell_type": "code",
   "execution_count": 84,
   "id": "143c12ab",
   "metadata": {},
   "outputs": [
    {
     "name": "stdout",
     "output_type": "stream",
     "text": [
      "+----+-------------+-----------+------------+-----+-----+------------+\n",
      "|year|         make|       body|transmission|state|color|sellingprice|\n",
      "+----+-------------+-----------+------------+-----+-----+------------+\n",
      "|2013|Mercedes-Benz|        SUV|        null|   ca| null|       34500|\n",
      "|2012|Mercedes-Benz|        SUV|        null|   ca| null|       18500|\n",
      "|2011|          BMW|      Sedan|   automatic|   ca| null|       42500|\n",
      "|2011|Mercedes-Benz|      Sedan|   automatic|   ca| null|       21500|\n",
      "|2011|Mercedes-Benz|      Sedan|   automatic|   ca| null|       30000|\n",
      "|2011|Mercedes-Benz|      Sedan|   automatic|   ca| null|       66000|\n",
      "|2010|       Subaru|        SUV|        null|   ca| null|       10000|\n",
      "|2007|          BMW|        SUV|        null|   ca| null|       10400|\n",
      "|2007|     Cadillac|        SUV|        null|   ca| null|       19500|\n",
      "|2007|       Nissan|      Sedan|   automatic|   ca| null|        3800|\n",
      "|2005|    Chevrolet|        SUV|        null|   ca| null|       27500|\n",
      "|2005|      Mercury|      Sedan|        null|   ca| null|        3300|\n",
      "|2003|          BMW|      Sedan|        null|   ca| null|        3700|\n",
      "|2002|       Toyota|  Hatchback|        null|   ca| null|        1600|\n",
      "|1996|       Jaguar|      Sedan|        null|   ca| null|        4250|\n",
      "|1993|       Saturn|      Sedan|        null|   ca| null|         300|\n",
      "|2013|          BMW|      Sedan|   automatic|   ca| null|       24250|\n",
      "|2012|Mercedes-Benz|Convertible|   automatic|   ca| null|       42750|\n",
      "|2004|       subaru|       null|   automatic|   ca| null|        5600|\n",
      "|2003|       Toyota|        SUV|   automatic|   ca| null|        4300|\n",
      "+----+-------------+-----------+------------+-----+-----+------------+\n",
      "only showing top 20 rows\n",
      "\n"
     ]
    }
   ],
   "source": [
    "df_pyspark_usa.filter(col(\"color\").isNull()).show()"
   ]
  },
  {
   "cell_type": "markdown",
   "id": "5b8ed5bd",
   "metadata": {},
   "source": [
    "#### Removing NULL values"
   ]
  },
  {
   "cell_type": "code",
   "execution_count": 85,
   "id": "67f062bd",
   "metadata": {},
   "outputs": [],
   "source": [
    "df_pyspark_usa = df_pyspark_usa.na.drop(subset=[\"make\"])"
   ]
  },
  {
   "cell_type": "markdown",
   "id": "57073096",
   "metadata": {},
   "source": [
    "#### Filling NULL values"
   ]
  },
  {
   "cell_type": "code",
   "execution_count": 86,
   "id": "b00fd7f2",
   "metadata": {},
   "outputs": [],
   "source": [
    "df_pyspark_usa = df_pyspark_usa.na.fill(\"Not Available\",[\"body\"]) \\\n",
    "                    .na.fill(\"Not Available\",[\"transmission\"]) \\\n",
    "                    .na.fill(\"Not Available\",[\"color\"]) "
   ]
  },
  {
   "cell_type": "code",
   "execution_count": 87,
   "id": "909bdded",
   "metadata": {},
   "outputs": [
    {
     "name": "stdout",
     "output_type": "stream",
     "text": [
      "+----+---------+-----------+-------------+-----+------+------------+\n",
      "|year|     make|       body| transmission|state| color|sellingprice|\n",
      "+----+---------+-----------+-------------+-----+------+------------+\n",
      "|2015|      Kia|        SUV|    automatic|   ca| white|       21500|\n",
      "|2015|      Kia|        SUV|    automatic|   ca| white|       21500|\n",
      "|2014|      BMW|      Sedan|    automatic|   ca|  gray|       30000|\n",
      "|2015|    Volvo|      Sedan|    automatic|   ca| white|       27750|\n",
      "|2014|      BMW|      Sedan|    automatic|   ca|  gray|       67000|\n",
      "|2015|   Nissan|      Sedan|    automatic|   ca|  gray|       10900|\n",
      "|2014|      BMW|      Sedan|    automatic|   ca| black|       65000|\n",
      "|2014|Chevrolet|      Sedan|    automatic|   ca| black|        9800|\n",
      "|2014|     Audi|      Sedan|    automatic|   ca| white|       32250|\n",
      "|2014|Chevrolet|Convertible|    automatic|   ca|   red|       17500|\n",
      "|2014|     Audi|      Sedan|    automatic|   ca| black|       49750|\n",
      "|2015|      Kia|      Sedan|    automatic|   ca|   red|       17700|\n",
      "|2015|     Ford|      Sedan|    automatic|   ca| white|       12000|\n",
      "|2015|      Kia|        SUV|    automatic|   ca|silver|       21500|\n",
      "|2014|Chevrolet|      Sedan|    automatic|   ca|  blue|       10600|\n",
      "|2015|   Nissan|      Sedan|    automatic|   ca| black|       14100|\n",
      "|2015|  Hyundai|      Sedan|Not Available|   ca|   red|        4200|\n",
      "|2014|     Audi|        SUV|    automatic|   ca| white|       40000|\n",
      "|2014|Chevrolet|      Coupe|    automatic|   ca| black|       17000|\n",
      "|2014|      BMW|Convertible|    automatic|   ca| black|       67200|\n",
      "+----+---------+-----------+-------------+-----+------+------------+\n",
      "only showing top 20 rows\n",
      "\n"
     ]
    }
   ],
   "source": [
    "df_pyspark_usa.show()"
   ]
  },
  {
   "cell_type": "markdown",
   "id": "5573e3b7",
   "metadata": {},
   "source": [
    "### Verifying if there are no null values"
   ]
  },
  {
   "cell_type": "code",
   "execution_count": 88,
   "id": "efd235dd",
   "metadata": {},
   "outputs": [
    {
     "name": "stdout",
     "output_type": "stream",
     "text": [
      "+----+----+----+------------+-----+-----+------------+\n",
      "|year|make|body|transmission|state|color|sellingprice|\n",
      "+----+----+----+------------+-----+-----+------------+\n",
      "|   0|   0|   0|           0|    0|    0|           0|\n",
      "+----+----+----+------------+-----+-----+------------+\n",
      "\n"
     ]
    }
   ],
   "source": [
    "df_pyspark_usa.select([count(when(isnan(c) | col(c).isNull(), c)).alias(c) for c in df_pyspark_usa.columns]).show()"
   ]
  },
  {
   "cell_type": "markdown",
   "id": "b75ee437",
   "metadata": {},
   "source": [
    "### Looking for duplicate values in columns:"
   ]
  },
  {
   "cell_type": "code",
   "execution_count": 89,
   "id": "94c0823f",
   "metadata": {},
   "outputs": [
    {
     "name": "stdout",
     "output_type": "stream",
     "text": [
      "Distinct Count of rows in dataframe: 496540\n"
     ]
    }
   ],
   "source": [
    "print(\"Distinct Count of rows in dataframe: \" + str(df_pyspark_usa.distinct().count()))"
   ]
  },
  {
   "cell_type": "code",
   "execution_count": 90,
   "id": "4637175b",
   "metadata": {},
   "outputs": [
    {
     "name": "stdout",
     "output_type": "stream",
     "text": [
      "Count of rows in dataframe: 548536\n"
     ]
    }
   ],
   "source": [
    "print(\"Count of rows in dataframe: \" + str(df_pyspark_usa.count()))"
   ]
  },
  {
   "cell_type": "markdown",
   "id": "2ef2ca74",
   "metadata": {},
   "source": [
    "#### Removing duplicate values"
   ]
  },
  {
   "cell_type": "code",
   "execution_count": 91,
   "id": "81f36fa1",
   "metadata": {},
   "outputs": [
    {
     "name": "stdout",
     "output_type": "stream",
     "text": [
      "Distinct count: 496540\n"
     ]
    }
   ],
   "source": [
    "df_pyspark_usa = df_pyspark_usa.dropDuplicates()\n",
    "print(\"Distinct count: \"+str(df_pyspark_usa.count()))\n"
   ]
  },
  {
   "cell_type": "markdown",
   "id": "f5536c60",
   "metadata": {},
   "source": [
    "### Changing the name of columns"
   ]
  },
  {
   "cell_type": "code",
   "execution_count": 92,
   "id": "af6701bf",
   "metadata": {},
   "outputs": [
    {
     "data": {
      "text/plain": [
       "['year', 'make', 'body', 'transmission', 'state', 'color', 'sellingprice']"
      ]
     },
     "execution_count": 92,
     "metadata": {},
     "output_type": "execute_result"
    }
   ],
   "source": [
    "df_pyspark_usa.columns\n"
   ]
  },
  {
   "cell_type": "code",
   "execution_count": 93,
   "id": "c5936a2f",
   "metadata": {},
   "outputs": [],
   "source": [
    "df_pyspark_usa = df_pyspark_usa.withColumnRenamed(\"year\",\"Year\") \\\n",
    "                .withColumnRenamed(\"make\",\"Model\") \\\n",
    "                .withColumnRenamed(\"body\",\"BodyType\") \\\n",
    "                 .withColumnRenamed(\"transmission\",\"Gear\") \\\n",
    "                .withColumnRenamed(\"state\",\"State\") \\\n",
    "                .withColumnRenamed(\"color\",\"Color\") \\\n",
    "                .withColumnRenamed(\"sellingprice\",\"Money\") \\\n",
    "                .withColumnRenamed(\"saledate\",\"SaleDate\")"
   ]
  },
  {
   "cell_type": "markdown",
   "id": "03cf394c",
   "metadata": {},
   "source": [
    "### Capitalizing the first letter of cell and the whole column"
   ]
  },
  {
   "cell_type": "code",
   "execution_count": 94,
   "id": "d89bd5a5",
   "metadata": {},
   "outputs": [],
   "source": [
    "def to_capitalize_first_letter_and_upper_column(df_pyspark_usa):\n",
    "    return df_pyspark_usa.withColumn(\"Gear\", initcap(col('Gear')))  \\\n",
    "                                .withColumn(\"State\", upper(col('State'))) \\\n",
    "                                 .withColumn(\"Color\", initcap(col('Color'))) \\\n",
    "                                .withColumn(\"Model\", initcap(col('Model'))) "
   ]
  },
  {
   "cell_type": "code",
   "execution_count": 95,
   "id": "f78655d9",
   "metadata": {},
   "outputs": [],
   "source": [
    "df_pyspark_usa = df_pyspark_usa.transform(to_capitalize_first_letter_and_upper_column)"
   ]
  },
  {
   "cell_type": "code",
   "execution_count": 96,
   "id": "9f06e448",
   "metadata": {
    "scrolled": false
   },
   "outputs": [
    {
     "name": "stdout",
     "output_type": "stream",
     "text": [
      "+----+-------------+---------+---------+-----+--------+-----+\n",
      "|Year|Model        |BodyType |Gear     |State|Color   |Money|\n",
      "+----+-------------+---------+---------+-----+--------+-----+\n",
      "|2013|Hyundai      |SUV      |Automatic|CA   |Gray    |19200|\n",
      "|2013|Hyundai      |Sedan    |Automatic|CA   |Gray    |8800 |\n",
      "|2013|Kia          |Sedan    |Automatic|CA   |Black   |22200|\n",
      "|2013|Mercedes-benz|Coupe    |Automatic|CA   |—       |23500|\n",
      "|2012|Acura        |SUV      |Automatic|CA   |White   |31000|\n",
      "|2012|Infiniti     |G Sedan  |Automatic|CA   |Black   |23500|\n",
      "|2012|Mini         |Hatchback|Automatic|CA   |Blue    |15000|\n",
      "|2011|Bmw          |Sedan    |Automatic|CA   |Black   |19000|\n",
      "|2012|Volvo        |Sedan    |Automatic|CA   |Silver  |22000|\n",
      "|2012|Volkswagen   |Wagon    |Automatic|CA   |White   |8100 |\n",
      "|2011|Toyota       |Sedan    |Automatic|CA   |Gold    |9250 |\n",
      "|2011|Ram          |Quad Cab |Automatic|CA   |Silver  |17800|\n",
      "|2010|Lincoln      |Wagon    |Automatic|CA   |Burgundy|12400|\n",
      "|2010|Kia          |Sedan    |Automatic|CA   |Silver  |6400 |\n",
      "|2006|Toyota       |SUV      |Automatic|CA   |Red     |4800 |\n",
      "|2014|Ford         |Sedan    |Automatic|CA   |Red     |11600|\n",
      "|2014|Ford         |SUV      |Automatic|CA   |White   |8000 |\n",
      "|2004|Chrysler     |Wagon    |Automatic|CA   |White   |400  |\n",
      "|2003|Mercedes-benz|Sedan    |Automatic|CA   |Silver  |3700 |\n",
      "|2002|Ford         |SUV      |Automatic|CA   |Red     |2000 |\n",
      "+----+-------------+---------+---------+-----+--------+-----+\n",
      "only showing top 20 rows\n",
      "\n"
     ]
    }
   ],
   "source": [
    "df_pyspark_usa.show(truncate=False)"
   ]
  },
  {
   "cell_type": "markdown",
   "id": "c05b281c",
   "metadata": {},
   "source": [
    "#### Make Mercedes unique and correct another models:"
   ]
  },
  {
   "cell_type": "code",
   "execution_count": 97,
   "id": "de207877",
   "metadata": {},
   "outputs": [
    {
     "name": "stdout",
     "output_type": "stream",
     "text": [
      "+-------------+\n",
      "|        Model|\n",
      "+-------------+\n",
      "|   Mercedes-b|\n",
      "|     Mercedes|\n",
      "|Mercedes-benz|\n",
      "+-------------+\n",
      "\n"
     ]
    }
   ],
   "source": [
    "df_pyspark_usa.filter(df_pyspark_usa['Model'].like(\"Mercedes%\")).select(\"Model\").distinct().show()"
   ]
  },
  {
   "cell_type": "code",
   "execution_count": 98,
   "id": "e833b678",
   "metadata": {},
   "outputs": [],
   "source": [
    "df_pyspark_usa = df_pyspark_usa.withColumn(\"Model\", \n",
    "                          when(df_pyspark_usa[\"Model\"] ==\"Mercedes-b\",\"Mercedes-Benz\")\n",
    "                         .when(df_pyspark_usa[\"Model\"] ==\"Mercedes\",\"Mercedes-Benz\")\n",
    "                         .when(df_pyspark_usa[\"Model\"] ==\"Mercedes-benz\",\"Mercedes-Benz\")\n",
    "                         .when(df_pyspark_usa[\"Model\"] ==\"Bmw\",\"BMW\")\n",
    "                         .when(df_pyspark_usa[\"Model\"] ==\"Rolls-royce\",\"Rolls-Royce\")\n",
    "                         .otherwise(df_pyspark_usa[\"Model\"]))"
   ]
  },
  {
   "cell_type": "code",
   "execution_count": 99,
   "id": "3520aa07",
   "metadata": {},
   "outputs": [
    {
     "name": "stdout",
     "output_type": "stream",
     "text": [
      "+-------------+\n",
      "|        Model|\n",
      "+-------------+\n",
      "|Mercedes-Benz|\n",
      "+-------------+\n",
      "\n"
     ]
    }
   ],
   "source": [
    "df_pyspark_usa.filter(df_pyspark_usa['Model'].like(\"Mercedes%\")).select(\"Model\").distinct().show()"
   ]
  },
  {
   "cell_type": "markdown",
   "id": "53e93f3c",
   "metadata": {},
   "source": [
    "### Adding a new dataframe by inner join"
   ]
  },
  {
   "cell_type": "code",
   "execution_count": 100,
   "id": "974a5580",
   "metadata": {},
   "outputs": [
    {
     "name": "stdout",
     "output_type": "stream",
     "text": [
      "+-----------+-----+------------+-----------------------------------------------------------+----+----+\n",
      "|State      |Abbrv|Capital     |Nickname                                                   |_c4 |_c5 |\n",
      "+-----------+-----+------------+-----------------------------------------------------------+----+----+\n",
      "|Alabama    |AL   |Montgomery  |Yellowhammer State, Heart of Dixie, Camellia State         |null|null|\n",
      "|Alaska     |AK   |Juneau      |The Last Frontier                                          |null|null|\n",
      "|Arizona    |AZ   |Phoenix     |Grand Canyon State, Copper State                           |null|null|\n",
      "|Arkansas   |AR   |Little Rock |The Natural State, Land of Opportunity, The Razorback State|null|null|\n",
      "|California |CA   |Sacramento  |Golden State                                               |null|null|\n",
      "|Colorado   |CO   |Denver      |Centennial State, Colorful Colorado                        |null|null|\n",
      "|Connecticut|CT   |Hartford    |Constitution State, Nutmeg State                           |null|null|\n",
      "|Delaware   |DE   |Dover       |First State, Diamond State, Blue Hen State, Small Wonder   |null|null|\n",
      "|Florida    |FL   |Tallahassee |Sunshine State                                             |null|null|\n",
      "|Georgia    |GA   |Atlanta     |Peach State, Empire of the South, Goober State             |null|null|\n",
      "|Hawaii     |HI   |Honolulu    |Aloha State, Pineapple State                               |null|null|\n",
      "|Idaho      |ID   |Boise       |Gem State, Spud State                                      |null|null|\n",
      "|Illinois   |IL   |Springfield |Prairie State, Land of Lincoln                             |null|null|\n",
      "|Indiana    |IN   |Indianapolis|Hoosier State                                              |null|null|\n",
      "|Iowa       |IA   |Des Moines  |Hawkeye State                                              |null|null|\n",
      "|Kansas     |KS   |Topeka      |Sunflower State, Salt of the Earth                         |null|null|\n",
      "|Kentucky   |KY   |Frankfort   |Bluegrass State                                            |null|null|\n",
      "|Louisiana  |LA   |Baton Rouge |Pelican State, Sugar State                                 |null|null|\n",
      "|Maine      |ME   |Augusta     |Pine Tree State                                            |null|null|\n",
      "|Maryland   |MD   |Annapolis   |Old Line State, Free State                                 |null|null|\n",
      "+-----------+-----+------------+-----------------------------------------------------------+----+----+\n",
      "only showing top 20 rows\n",
      "\n"
     ]
    }
   ],
   "source": [
    "pathUSStatesAbbrev = r'D:\\My commercial projects\\PySpark\\Project 1 PySpark\\Car Prices\\USStatesAbbrev.csv'\n",
    "\n",
    "df_USStatesAbbrev = spark.read.csv(pathUSStatesAbbrev,header=True,inferSchema=True)\n",
    "\n",
    "df_USStatesAbbrev.show(truncate=False)"
   ]
  },
  {
   "cell_type": "code",
   "execution_count": 101,
   "id": "1bfdcd7b",
   "metadata": {},
   "outputs": [
    {
     "data": {
      "text/plain": [
       "['State', 'Abbrv', 'Capital', 'Nickname', '_c4', '_c5']"
      ]
     },
     "execution_count": 101,
     "metadata": {},
     "output_type": "execute_result"
    }
   ],
   "source": [
    "df_USStatesAbbrev.columns"
   ]
  },
  {
   "cell_type": "code",
   "execution_count": 102,
   "id": "18d0c8a5",
   "metadata": {},
   "outputs": [],
   "source": [
    "cols = ( 'Nickname','_c4', '_c5')\n",
    "df_USStatesAbbrev = df_USStatesAbbrev.drop(*cols)"
   ]
  },
  {
   "cell_type": "code",
   "execution_count": 103,
   "id": "89b58c91",
   "metadata": {},
   "outputs": [
    {
     "name": "stdout",
     "output_type": "stream",
     "text": [
      "+-----------+-----+------------+\n",
      "|      State|Abbrv|     Capital|\n",
      "+-----------+-----+------------+\n",
      "|    Alabama|   AL|  Montgomery|\n",
      "|     Alaska|   AK|      Juneau|\n",
      "|    Arizona|   AZ|     Phoenix|\n",
      "|   Arkansas|   AR| Little Rock|\n",
      "| California|   CA|  Sacramento|\n",
      "|   Colorado|   CO|      Denver|\n",
      "|Connecticut|   CT|    Hartford|\n",
      "|   Delaware|   DE|       Dover|\n",
      "|    Florida|   FL| Tallahassee|\n",
      "|    Georgia|   GA|     Atlanta|\n",
      "|     Hawaii|   HI|    Honolulu|\n",
      "|      Idaho|   ID|       Boise|\n",
      "|   Illinois|   IL| Springfield|\n",
      "|    Indiana|   IN|Indianapolis|\n",
      "|       Iowa|   IA|  Des Moines|\n",
      "|     Kansas|   KS|      Topeka|\n",
      "|   Kentucky|   KY|   Frankfort|\n",
      "|  Louisiana|   LA| Baton Rouge|\n",
      "|      Maine|   ME|     Augusta|\n",
      "|   Maryland|   MD|   Annapolis|\n",
      "+-----------+-----+------------+\n",
      "only showing top 20 rows\n",
      "\n"
     ]
    }
   ],
   "source": [
    "df_USStatesAbbrev.show()"
   ]
  },
  {
   "cell_type": "code",
   "execution_count": 104,
   "id": "2955d71f",
   "metadata": {},
   "outputs": [
    {
     "name": "stdout",
     "output_type": "stream",
     "text": [
      "+----+-------------+---------+---------+-----+--------+-----+----------+-----+----------+\n",
      "|Year|Model        |BodyType |Gear     |State|Color   |Money|State     |Abbrv|Capital   |\n",
      "+----+-------------+---------+---------+-----+--------+-----+----------+-----+----------+\n",
      "|2013|Hyundai      |SUV      |Automatic|CA   |Gray    |19200|California|CA   |Sacramento|\n",
      "|2013|Hyundai      |Sedan    |Automatic|CA   |Gray    |8800 |California|CA   |Sacramento|\n",
      "|2013|Kia          |Sedan    |Automatic|CA   |Black   |22200|California|CA   |Sacramento|\n",
      "|2013|Mercedes-Benz|Coupe    |Automatic|CA   |—       |23500|California|CA   |Sacramento|\n",
      "|2012|Acura        |SUV      |Automatic|CA   |White   |31000|California|CA   |Sacramento|\n",
      "|2012|Infiniti     |G Sedan  |Automatic|CA   |Black   |23500|California|CA   |Sacramento|\n",
      "|2012|Mini         |Hatchback|Automatic|CA   |Blue    |15000|California|CA   |Sacramento|\n",
      "|2011|BMW          |Sedan    |Automatic|CA   |Black   |19000|California|CA   |Sacramento|\n",
      "|2012|Volvo        |Sedan    |Automatic|CA   |Silver  |22000|California|CA   |Sacramento|\n",
      "|2012|Volkswagen   |Wagon    |Automatic|CA   |White   |8100 |California|CA   |Sacramento|\n",
      "|2011|Toyota       |Sedan    |Automatic|CA   |Gold    |9250 |California|CA   |Sacramento|\n",
      "|2011|Ram          |Quad Cab |Automatic|CA   |Silver  |17800|California|CA   |Sacramento|\n",
      "|2010|Lincoln      |Wagon    |Automatic|CA   |Burgundy|12400|California|CA   |Sacramento|\n",
      "|2010|Kia          |Sedan    |Automatic|CA   |Silver  |6400 |California|CA   |Sacramento|\n",
      "|2006|Toyota       |SUV      |Automatic|CA   |Red     |4800 |California|CA   |Sacramento|\n",
      "|2014|Ford         |Sedan    |Automatic|CA   |Red     |11600|California|CA   |Sacramento|\n",
      "|2014|Ford         |SUV      |Automatic|CA   |White   |8000 |California|CA   |Sacramento|\n",
      "|2004|Chrysler     |Wagon    |Automatic|CA   |White   |400  |California|CA   |Sacramento|\n",
      "|2003|Mercedes-Benz|Sedan    |Automatic|CA   |Silver  |3700 |California|CA   |Sacramento|\n",
      "|2002|Ford         |SUV      |Automatic|CA   |Red     |2000 |California|CA   |Sacramento|\n",
      "+----+-------------+---------+---------+-----+--------+-----+----------+-----+----------+\n",
      "only showing top 20 rows\n",
      "\n"
     ]
    }
   ],
   "source": [
    "df_pyspark_usa.join(df_USStatesAbbrev,df_pyspark_usa['State'] == df_USStatesAbbrev[\"Abbrv\"],\"inner\").show(truncate=False)"
   ]
  },
  {
   "cell_type": "code",
   "execution_count": 105,
   "id": "51ace71e",
   "metadata": {},
   "outputs": [],
   "source": [
    "df_pyspark_usa = df_pyspark_usa.join(df_USStatesAbbrev,df_pyspark_usa['State'] == df_USStatesAbbrev[\"Abbrv\"],\"inner\").drop(df_pyspark_usa.State)"
   ]
  },
  {
   "cell_type": "markdown",
   "id": "c6eded0a",
   "metadata": {},
   "source": [
    "#### Browsing data after join"
   ]
  },
  {
   "cell_type": "code",
   "execution_count": 106,
   "id": "066b3125",
   "metadata": {
    "scrolled": true
   },
   "outputs": [
    {
     "name": "stdout",
     "output_type": "stream",
     "text": [
      "+----+----------+-------------+-------------+--------+-----+-------+-----+-------+\n",
      "|Year|Model     |BodyType     |Gear         |Color   |Money|State  |Abbrv|Capital|\n",
      "+----+----------+-------------+-------------+--------+-----+-------+-----+-------+\n",
      "|2006|Jeep      |SUV          |Not Available|White   |6000 |Arizona|AZ   |Phoenix|\n",
      "|2004|Chevrolet |Extended Cab |Not Available|White   |5700 |Arizona|AZ   |Phoenix|\n",
      "|2004|Chevrolet |Not Available|Automatic    |Black   |15100|Arizona|AZ   |Phoenix|\n",
      "|2001|Audi      |Sedan        |Automatic    |Beige   |600  |Arizona|AZ   |Phoenix|\n",
      "|2014|Toyota    |Sedan        |Automatic    |Blue    |15750|Arizona|AZ   |Phoenix|\n",
      "|2012|Nissan    |Crew Cab     |Automatic    |White   |17500|Arizona|AZ   |Phoenix|\n",
      "|2013|Ford      |Sedan        |Automatic    |Gray    |13100|Arizona|AZ   |Phoenix|\n",
      "|2011|Dodge     |Sedan        |Automatic    |Black   |7500 |Arizona|AZ   |Phoenix|\n",
      "|2011|Mazda     |SUV          |Not Available|Black   |11500|Arizona|AZ   |Phoenix|\n",
      "|2014|Dodge     |Minivan      |Automatic    |White   |16200|Arizona|AZ   |Phoenix|\n",
      "|2005|Ford      |SUV          |Automatic    |Gray    |3500 |Arizona|AZ   |Phoenix|\n",
      "|2003|Acura     |SUV          |Automatic    |Silver  |3000 |Arizona|AZ   |Phoenix|\n",
      "|2013|Nissan    |SUV          |Automatic    |Blue    |13400|Arizona|AZ   |Phoenix|\n",
      "|2007|Chrysler  |SUV          |Automatic    |Burgundy|4600 |Arizona|AZ   |Phoenix|\n",
      "|2012|Nissan    |Hatchback    |Automatic    |Silver  |8700 |Arizona|AZ   |Phoenix|\n",
      "|2011|Toyota    |Double Cab   |Automatic    |Red     |14000|Arizona|AZ   |Phoenix|\n",
      "|2009|Honda     |SUV          |Automatic    |Silver  |15000|Arizona|AZ   |Phoenix|\n",
      "|2009|Volkswagen|Sedan        |Manual       |Black   |6700 |Arizona|AZ   |Phoenix|\n",
      "|2004|Nissan    |Sedan        |Not Available|White   |1450 |Arizona|AZ   |Phoenix|\n",
      "|2013|Cadillac  |Sedan        |Automatic    |White   |17400|Arizona|AZ   |Phoenix|\n",
      "+----+----------+-------------+-------------+--------+-----+-------+-----+-------+\n",
      "only showing top 20 rows\n",
      "\n"
     ]
    }
   ],
   "source": [
    "df_pyspark_usa.filter(df_pyspark_usa['Capital'] == 'Phoenix').show(truncate=False)"
   ]
  },
  {
   "cell_type": "markdown",
   "id": "48dc3aee",
   "metadata": {},
   "source": [
    "### Basic information after cleaning"
   ]
  },
  {
   "cell_type": "code",
   "execution_count": 107,
   "id": "b2bdcadb",
   "metadata": {},
   "outputs": [
    {
     "name": "stdout",
     "output_type": "stream",
     "text": [
      "root\n",
      " |-- Year: integer (nullable = true)\n",
      " |-- Model: string (nullable = true)\n",
      " |-- BodyType: string (nullable = false)\n",
      " |-- Gear: string (nullable = false)\n",
      " |-- Color: string (nullable = false)\n",
      " |-- Money: integer (nullable = true)\n",
      " |-- State: string (nullable = true)\n",
      " |-- Abbrv: string (nullable = true)\n",
      " |-- Capital: string (nullable = true)\n",
      "\n"
     ]
    }
   ],
   "source": [
    "df_pyspark_usa.printSchema()"
   ]
  },
  {
   "cell_type": "code",
   "execution_count": 108,
   "id": "98a98a77",
   "metadata": {
    "scrolled": true
   },
   "outputs": [
    {
     "name": "stdout",
     "output_type": "stream",
     "text": [
      "+----+-------------+---------+---------+--------+-----+----------+-----+----------+\n",
      "|Year|        Model| BodyType|     Gear|   Color|Money|     State|Abbrv|   Capital|\n",
      "+----+-------------+---------+---------+--------+-----+----------+-----+----------+\n",
      "|2013|      Hyundai|      SUV|Automatic|    Gray|19200|California|   CA|Sacramento|\n",
      "|2013|      Hyundai|    Sedan|Automatic|    Gray| 8800|California|   CA|Sacramento|\n",
      "|2013|          Kia|    Sedan|Automatic|   Black|22200|California|   CA|Sacramento|\n",
      "|2013|Mercedes-Benz|    Coupe|Automatic|       —|23500|California|   CA|Sacramento|\n",
      "|2012|        Acura|      SUV|Automatic|   White|31000|California|   CA|Sacramento|\n",
      "|2012|     Infiniti|  G Sedan|Automatic|   Black|23500|California|   CA|Sacramento|\n",
      "|2012|         Mini|Hatchback|Automatic|    Blue|15000|California|   CA|Sacramento|\n",
      "|2011|          BMW|    Sedan|Automatic|   Black|19000|California|   CA|Sacramento|\n",
      "|2012|        Volvo|    Sedan|Automatic|  Silver|22000|California|   CA|Sacramento|\n",
      "|2012|   Volkswagen|    Wagon|Automatic|   White| 8100|California|   CA|Sacramento|\n",
      "|2011|       Toyota|    Sedan|Automatic|    Gold| 9250|California|   CA|Sacramento|\n",
      "|2011|          Ram| Quad Cab|Automatic|  Silver|17800|California|   CA|Sacramento|\n",
      "|2010|      Lincoln|    Wagon|Automatic|Burgundy|12400|California|   CA|Sacramento|\n",
      "|2010|          Kia|    Sedan|Automatic|  Silver| 6400|California|   CA|Sacramento|\n",
      "|2006|       Toyota|      SUV|Automatic|     Red| 4800|California|   CA|Sacramento|\n",
      "|2014|         Ford|    Sedan|Automatic|     Red|11600|California|   CA|Sacramento|\n",
      "|2014|         Ford|      SUV|Automatic|   White| 8000|California|   CA|Sacramento|\n",
      "|2004|     Chrysler|    Wagon|Automatic|   White|  400|California|   CA|Sacramento|\n",
      "|2003|Mercedes-Benz|    Sedan|Automatic|  Silver| 3700|California|   CA|Sacramento|\n",
      "|2002|         Ford|      SUV|Automatic|     Red| 2000|California|   CA|Sacramento|\n",
      "+----+-------------+---------+---------+--------+-----+----------+-----+----------+\n",
      "only showing top 20 rows\n",
      "\n"
     ]
    }
   ],
   "source": [
    "df_pyspark_usa.show()"
   ]
  },
  {
   "cell_type": "markdown",
   "id": "95dd1c95",
   "metadata": {},
   "source": [
    "# Analysis of data"
   ]
  },
  {
   "cell_type": "markdown",
   "id": "ae5d9f16",
   "metadata": {},
   "source": [
    "### df_pyspark_arg"
   ]
  },
  {
   "cell_type": "code",
   "execution_count": 109,
   "id": "45c0af1d",
   "metadata": {},
   "outputs": [
    {
     "name": "stdout",
     "output_type": "stream",
     "text": [
      "+----------+----------+----+---------+--------+----+---------+----------+---------+----------+--------+--------+---------+\n",
      "|     Brand|     Model|Year|    Color|FuelType|Door|     Gear|     Motor| BodyType|Kilometres|Currency|   Money|Money USD|\n",
      "+----------+----------+----+---------+--------+----+---------+----------+---------+----------+--------+--------+---------+\n",
      "|    Toyota|Corolla...|2022|   Silver| Naphtha|   5|Automatic|Not ava...|      SUV|       500|   Pesos|10350000|   558900|\n",
      "|      Jeep|   Compass|2022|    White| Naphtha|   5|Automatic|       2.4|      SUV|       500|   Pesos|10850000|   585900|\n",
      "|      Jeep|   Compass|2022|Dark gray| Naphtha|   5|Automatic|       2.4|      SUV|       500| Dollars|   35500|    35500|\n",
      "|   Citroën| C4 Cactus|2022|Dark gray| Naphtha|   5|Automatic|Not ava...|      SUV|       550| Dollars|   19000|    19000|\n",
      "|    Toyota|   Corolla|2019|     Gray| Naphtha|   4|   Manual|       1.8|    Sedán|      9000|   Pesos| 5800000|   313200|\n",
      "|      Jeep|   Compass|2022|    Black| Naphtha|   5|Automatic|       1.3|      SUV|     10500| Dollars|   34500|    34500|\n",
      "|       Kia|   Sorento|2014|    Black|  Diesel|   5|Automatic|       2.2|      SUV|    156000| Dollars|   25000|    25000|\n",
      "|Mercede...|   Clase C|2008|   Silver| Naphtha|   4|Automatic|       1.8|    Sedán|    174000| Dollars|   12300|    12300|\n",
      "|       BMW|       220|2016|    White| Naphtha|   2|Automatic|     TURBO|    Coupé|     66000| Dollars|   35500|    35500|\n",
      "|Volkswagen|   T-Cross|2019|   Orange| Naphtha|   5|Automatic|1.6 MSI...|      SUV|     35000|   Pesos| 6800000|   367200|\n",
      "|Mercede...|   Clase A|2017|   Silver| Naphtha|   5|Automatic|         3|Hatchback|     55394| Dollars|   38500|    38500|\n",
      "|Mercede...|   Clase A|2013|    White| Naphtha|   5|   Manual|       1.6|Hatchback|    162080| Dollars|   20500|    20500|\n",
      "|   Renault|   Sandero|2022|   Silver| Naphtha|   5|   Manual|Not ava...|    Sedán|    111111|   Pesos| 3500000|   189000|\n",
      "|Volkswagen|      Polo|2022|    White| Naphtha|   5|   Manual|       1.6|Hatchback|    111111|   Pesos| 5990000|   323460|\n",
      "|       BMW|   Serie 1|2020|    Black| Naphtha|   5|Automatic|Not ava...|Hatchback|     34800| Dollars|   41900|    41900|\n",
      "|      Ford|  Ecosport|2011|    Beige| Naphtha|   4|   Manual|       1.6|      SUV|    101000|   Pesos| 2100000|   113400|\n",
      "| Chevrolet|Trailbl...|2019|     Gray|  Diesel|   5|Automatic|Not ava...|      SUV|     73000| Dollars|   38500|    38500|\n",
      "|    Toyota|     Etios|2015|    White| Naphtha|   5|   Manual|       1.5|Hatchback|     83000|   Pesos| 2940000|   158760|\n",
      "|   Renault|      Clio|2014|     Gray| Naphtha|   5|   Manual|       1.2|Hatchback|     99000|   Pesos| 2050000|   110700|\n",
      "|    Toyota|      RAV4|2011|     Gray| Naphtha|   5|Automatic|       2.4|      SUV|    180000|   Pesos| 4120000|   222480|\n",
      "+----------+----------+----+---------+--------+----+---------+----------+---------+----------+--------+--------+---------+\n",
      "only showing top 20 rows\n",
      "\n"
     ]
    }
   ],
   "source": [
    "df_pyspark_arg.show(20,10)"
   ]
  },
  {
   "cell_type": "code",
   "execution_count": 110,
   "id": "60d44538",
   "metadata": {},
   "outputs": [],
   "source": [
    "df_pyspark_argSELECTCol = df_pyspark_arg.select(\"Brand\",\"Model\",\"Year\",\"Color\",\"Gear\",\"FuelType\",\"Kilometres\",\"Money USD\")"
   ]
  },
  {
   "cell_type": "code",
   "execution_count": 111,
   "id": "baec815d",
   "metadata": {},
   "outputs": [
    {
     "name": "stdout",
     "output_type": "stream",
     "text": [
      "+-------------+-------------+----+---------+---------+--------+----------+---------+\n",
      "|        Brand|        Model|Year|    Color|     Gear|FuelType|Kilometres|Money USD|\n",
      "+-------------+-------------+----+---------+---------+--------+----------+---------+\n",
      "|       Toyota|Corolla Cross|2022|   Silver|Automatic| Naphtha|       500|   558900|\n",
      "|         Jeep|      Compass|2022|    White|Automatic| Naphtha|       500|   585900|\n",
      "|         Jeep|      Compass|2022|Dark gray|Automatic| Naphtha|       500|    35500|\n",
      "|      Citroën|    C4 Cactus|2022|Dark gray|Automatic| Naphtha|       550|    19000|\n",
      "|       Toyota|      Corolla|2019|     Gray|   Manual| Naphtha|      9000|   313200|\n",
      "|         Jeep|      Compass|2022|    Black|Automatic| Naphtha|     10500|    34500|\n",
      "|          Kia|      Sorento|2014|    Black|Automatic|  Diesel|    156000|    25000|\n",
      "|Mercedes-Benz|      Clase C|2008|   Silver|Automatic| Naphtha|    174000|    12300|\n",
      "|          BMW|          220|2016|    White|Automatic| Naphtha|     66000|    35500|\n",
      "|   Volkswagen|      T-Cross|2019|   Orange|Automatic| Naphtha|     35000|   367200|\n",
      "|Mercedes-Benz|      Clase A|2017|   Silver|Automatic| Naphtha|     55394|    38500|\n",
      "|Mercedes-Benz|      Clase A|2013|    White|   Manual| Naphtha|    162080|    20500|\n",
      "|      Renault|      Sandero|2022|   Silver|   Manual| Naphtha|    111111|   189000|\n",
      "|   Volkswagen|         Polo|2022|    White|   Manual| Naphtha|    111111|   323460|\n",
      "|          BMW|      Serie 1|2020|    Black|Automatic| Naphtha|     34800|    41900|\n",
      "|         Ford|     Ecosport|2011|    Beige|   Manual| Naphtha|    101000|   113400|\n",
      "|    Chevrolet|  Trailblazer|2019|     Gray|Automatic|  Diesel|     73000|    38500|\n",
      "|       Toyota|        Etios|2015|    White|   Manual| Naphtha|     83000|   158760|\n",
      "|      Renault|         Clio|2014|     Gray|   Manual| Naphtha|     99000|   110700|\n",
      "|       Toyota|         RAV4|2011|     Gray|Automatic| Naphtha|    180000|   222480|\n",
      "+-------------+-------------+----+---------+---------+--------+----------+---------+\n",
      "only showing top 20 rows\n",
      "\n"
     ]
    }
   ],
   "source": [
    "df_pyspark_argSELECTCol.show()"
   ]
  },
  {
   "cell_type": "code",
   "execution_count": 112,
   "id": "d9f05957",
   "metadata": {},
   "outputs": [
    {
     "name": "stdout",
     "output_type": "stream",
     "text": [
      "+----------+---------------+----+-----+---------+--------------+----------+---------+\n",
      "|     Brand|          Model|Year|Color|     Gear|      FuelType|Kilometres|Money USD|\n",
      "+----------+---------------+----+-----+---------+--------------+----------+---------+\n",
      "|Volkswagen|         Amarok|2022|White|Automatic|        Diesel|       500|   772146|\n",
      "| Chevrolet|    Trailblazer|2021| Gray|Automatic|        Diesel|     23000|   753294|\n",
      "|    Toyota|  Corolla Cross|2022|Black|Automatic|Hybrid/Naphtha|      2000|   674460|\n",
      "|    Toyota|          Hilux|2019|White|Automatic|        Diesel|     64000|   674406|\n",
      "|    Toyota|          Hilux|2019| Gray|Automatic|        Diesel|     52000|   669600|\n",
      "|       RAM|           1500|2017| Gray|Automatic|       Naphtha|     79100|   647454|\n",
      "|    Toyota|          Hilux|2019| Gray|Automatic|        Diesel|     51700|   642600|\n",
      "|    Toyota|          Hilux|2019| Gray|Automatic|        Diesel|     51600|   642600|\n",
      "|Volkswagen|           Taos|2022| Gray|Automatic|       Naphtha|      1011|   642060|\n",
      "|      Ford|         Ranger|2021| Gray|Automatic|        Diesel|     61000|   639900|\n",
      "|      Ford|      Territory|2022|White|Automatic|       Naphtha|      1000|   615600|\n",
      "|    Toyota|  Corolla Cross|2022|  Red|Automatic|Hybrid/Naphtha|       510|   609660|\n",
      "|      Ford|      Territory|2022|Black|Automatic|       Naphtha|      1000|   609660|\n",
      "|    Toyota|          Hilux|2021| Gray|Automatic|        Diesel|     28000|   604800|\n",
      "|Volkswagen|           Golf|2019|White|Automatic|       Naphtha|     58000|   604530|\n",
      "|Volkswagen|Tiguan Allspace|2021| Gray|Automatic|       Naphtha|     48711|   588600|\n",
      "|Volkswagen|Tiguan Allspace|2021| Gray|Automatic|       Naphtha|     48500|   588600|\n",
      "|Volkswagen|Tiguan Allspace|2021| Gray|Automatic|       Naphtha|     48750|   588600|\n",
      "|Volkswagen|Tiguan Allspace|2021| Gray|Automatic|       Naphtha|     48700|   588600|\n",
      "|      Jeep|        Compass|2022|White|Automatic|       Naphtha|       500|   585900|\n",
      "+----------+---------------+----+-----+---------+--------------+----------+---------+\n",
      "only showing top 20 rows\n",
      "\n"
     ]
    }
   ],
   "source": [
    "df_pyspark_argSELECTCol.orderBy(desc(\"Money USD\")).show()"
   ]
  },
  {
   "cell_type": "code",
   "execution_count": 113,
   "id": "0d3dec3c",
   "metadata": {},
   "outputs": [
    {
     "name": "stdout",
     "output_type": "stream",
     "text": [
      "+----------+-------------+----+-----+---------+--------------+----------+---------+\n",
      "|     Brand|        Model|Year|Color|     Gear|      FuelType|Kilometres|Money USD|\n",
      "+----------+-------------+----+-----+---------+--------------+----------+---------+\n",
      "|Volkswagen|       Amarok|2022|White|Automatic|        Diesel|       500|   772146|\n",
      "| Chevrolet|  Trailblazer|2021| Gray|Automatic|        Diesel|     23000|   753294|\n",
      "|    Toyota|Corolla Cross|2022|Black|Automatic|Hybrid/Naphtha|      2000|   674460|\n",
      "|    Toyota|        Hilux|2019|White|Automatic|        Diesel|     64000|   674406|\n",
      "|    Toyota|        Hilux|2019| Gray|Automatic|        Diesel|     52000|   669600|\n",
      "|       RAM|         1500|2017| Gray|Automatic|       Naphtha|     79100|   647454|\n",
      "|    Toyota|        Hilux|2019| Gray|Automatic|        Diesel|     51700|   642600|\n",
      "|    Toyota|        Hilux|2019| Gray|Automatic|        Diesel|     51600|   642600|\n",
      "|Volkswagen|         Taos|2022| Gray|Automatic|       Naphtha|      1011|   642060|\n",
      "|      Ford|       Ranger|2021| Gray|Automatic|        Diesel|     61000|   639900|\n",
      "+----------+-------------+----+-----+---------+--------------+----------+---------+\n",
      "\n"
     ]
    }
   ],
   "source": [
    "df_pyspark_argSELECTCol.orderBy(desc(\"Money USD\")).limit(10).show()"
   ]
  },
  {
   "cell_type": "code",
   "execution_count": 114,
   "id": "8642fdea",
   "metadata": {},
   "outputs": [
    {
     "name": "stdout",
     "output_type": "stream",
     "text": [
      "+-------------+-------------+----+---------+---------+--------+----------+------+\n",
      "|        Brand|        Model|Year|    Color|     Gear|FuelType|Kilometres| Money|\n",
      "+-------------+-------------+----+---------+---------+--------+----------+------+\n",
      "|       Toyota|Corolla Cross|2022|   Silver|Automatic| Naphtha|       500|558900|\n",
      "|         Jeep|      Compass|2022|    White|Automatic| Naphtha|       500|585900|\n",
      "|         Jeep|      Compass|2022|Dark gray|Automatic| Naphtha|       500| 35500|\n",
      "|      Citroën|    C4 Cactus|2022|Dark gray|Automatic| Naphtha|       550| 19000|\n",
      "|       Toyota|      Corolla|2019|     Gray|   Manual| Naphtha|      9000|313200|\n",
      "|         Jeep|      Compass|2022|    Black|Automatic| Naphtha|     10500| 34500|\n",
      "|          Kia|      Sorento|2014|    Black|Automatic|  Diesel|    156000| 25000|\n",
      "|Mercedes-Benz|      Clase C|2008|   Silver|Automatic| Naphtha|    174000| 12300|\n",
      "|          BMW|          220|2016|    White|Automatic| Naphtha|     66000| 35500|\n",
      "|   Volkswagen|      T-Cross|2019|   Orange|Automatic| Naphtha|     35000|367200|\n",
      "|Mercedes-Benz|      Clase A|2017|   Silver|Automatic| Naphtha|     55394| 38500|\n",
      "|Mercedes-Benz|      Clase A|2013|    White|   Manual| Naphtha|    162080| 20500|\n",
      "|      Renault|      Sandero|2022|   Silver|   Manual| Naphtha|    111111|189000|\n",
      "|   Volkswagen|         Polo|2022|    White|   Manual| Naphtha|    111111|323460|\n",
      "|          BMW|      Serie 1|2020|    Black|Automatic| Naphtha|     34800| 41900|\n",
      "|         Ford|     Ecosport|2011|    Beige|   Manual| Naphtha|    101000|113400|\n",
      "|    Chevrolet|  Trailblazer|2019|     Gray|Automatic|  Diesel|     73000| 38500|\n",
      "|       Toyota|        Etios|2015|    White|   Manual| Naphtha|     83000|158760|\n",
      "|      Renault|         Clio|2014|     Gray|   Manual| Naphtha|     99000|110700|\n",
      "|       Toyota|         RAV4|2011|     Gray|Automatic| Naphtha|    180000|222480|\n",
      "+-------------+-------------+----+---------+---------+--------+----------+------+\n",
      "only showing top 20 rows\n",
      "\n"
     ]
    }
   ],
   "source": [
    "df_pyspark_argSELECTCol.withColumnRenamed(\"Money USD\",\"Money\").show()"
   ]
  },
  {
   "cell_type": "code",
   "execution_count": 115,
   "id": "23f3096f",
   "metadata": {},
   "outputs": [
    {
     "name": "stdout",
     "output_type": "stream",
     "text": [
      "+----------+---------------+----+------+---------+--------------+----------+---------+\n",
      "|     Brand|          Model|Year| Color|     Gear|      FuelType|Kilometres|Money USD|\n",
      "+----------+---------------+----+------+---------+--------------+----------+---------+\n",
      "|    Toyota|  Corolla Cross|2022|Silver|Automatic|       Naphtha|       500|   558900|\n",
      "|      Jeep|        Compass|2022| White|Automatic|       Naphtha|       500|   585900|\n",
      "|    Toyota|          Hilux|2022| Black|   Manual|        Diesel|     21000|   550800|\n",
      "| Chevrolet|        Equinox|2021|Silver|Automatic|       Naphtha|     23000|   507054|\n",
      "|    Toyota|  Corolla Cross|2022|   Red|Automatic|Hybrid/Naphtha|       510|   609660|\n",
      "|    Toyota|          Hilux|2019|  Gray|Automatic|        Diesel|     51700|   642600|\n",
      "|      Ford|         Ranger|2018|  Gray|Automatic|        Diesel|     70000|   513027|\n",
      "|    Toyota|          Hilux|2019|  Gray|Automatic|        Diesel|     52000|   669600|\n",
      "|Volkswagen|Tiguan Allspace|2021|  Gray|Automatic|       Naphtha|     48711|   588600|\n",
      "|Volkswagen|         Amarok|2019|  Blue|Automatic|        Diesel|     69000|   510300|\n",
      "|      Ford|      Territory|2021| White|Automatic|       Naphtha|     15000|   502200|\n",
      "|    Toyota|  Corolla Cross|2022| Black|Automatic|Hybrid/Naphtha|      2000|   674460|\n",
      "| Chevrolet|    Trailblazer|2021|  Gray|Automatic|        Diesel|     23000|   753294|\n",
      "|    Toyota|          Hilux|2019| White|Automatic|        Diesel|     64000|   674406|\n",
      "|   Peugeot|           3008|2020|  Gray|Automatic|       Naphtha|     45800|   567000|\n",
      "|    Toyota|          Hilux|2019|  Gray|Automatic|        Diesel|     51600|   642600|\n",
      "|Volkswagen|Tiguan Allspace|2021|  Gray|Automatic|       Naphtha|     48700|   588600|\n",
      "|      Ford|         Ranger|2021|  Gray|Automatic|        Diesel|     61000|   639900|\n",
      "|    Toyota|          Hilux|2021|  Gray|Automatic|        Diesel|     28000|   604800|\n",
      "|Volkswagen|           Taos|2022|  Gray|Automatic|       Naphtha|      1011|   642060|\n",
      "+----------+---------------+----+------+---------+--------------+----------+---------+\n",
      "only showing top 20 rows\n",
      "\n"
     ]
    }
   ],
   "source": [
    "df_pyspark_argSELECTCol.filter(df_pyspark_argSELECTCol['Money USD'] > 500000).show()"
   ]
  },
  {
   "cell_type": "code",
   "execution_count": 116,
   "id": "01a9992f",
   "metadata": {},
   "outputs": [
    {
     "name": "stdout",
     "output_type": "stream",
     "text": [
      "+----------+---------------+----+-----+---------+--------+----------+---------+\n",
      "|     Brand|          Model|Year|Color|     Gear|FuelType|Kilometres|Money USD|\n",
      "+----------+---------------+----+-----+---------+--------+----------+---------+\n",
      "|Volkswagen|Tiguan Allspace|2021| Gray|Automatic| Naphtha|     48711|   588600|\n",
      "|Volkswagen|         Amarok|2019| Blue|Automatic|  Diesel|     69000|   510300|\n",
      "|Volkswagen|Tiguan Allspace|2021| Gray|Automatic| Naphtha|     48700|   588600|\n",
      "|Volkswagen|           Taos|2022| Gray|Automatic| Naphtha|      1011|   642060|\n",
      "|Volkswagen|           Golf|2019|White|Automatic| Naphtha|     58000|   604530|\n",
      "|Volkswagen|         Amarok|2022|White|Automatic|  Diesel|       500|   772146|\n",
      "|Volkswagen|Tiguan Allspace|2021| Gray|Automatic| Naphtha|     48500|   588600|\n",
      "|Volkswagen|Tiguan Allspace|2021| Gray|Automatic| Naphtha|     48750|   588600|\n",
      "+----------+---------------+----+-----+---------+--------+----------+---------+\n",
      "\n"
     ]
    }
   ],
   "source": [
    "df_pyspark_argSELECTCol.filter((df_pyspark_argSELECTCol['Money USD'] > 500000) & \n",
    "                               (df_pyspark_argSELECTCol['Brand'] == 'Volkswagen')) .show()"
   ]
  },
  {
   "cell_type": "code",
   "execution_count": 117,
   "id": "b00aef2a",
   "metadata": {},
   "outputs": [
    {
     "name": "stdout",
     "output_type": "stream",
     "text": [
      "+---------+-------------+----+------+---------+--------------+----------+---------+\n",
      "|    Brand|        Model|Year| Color|     Gear|      FuelType|Kilometres|Money USD|\n",
      "+---------+-------------+----+------+---------+--------------+----------+---------+\n",
      "|   Toyota|Corolla Cross|2022|Silver|Automatic|       Naphtha|       500|   558900|\n",
      "|     Jeep|      Compass|2022| White|Automatic|       Naphtha|       500|   585900|\n",
      "|     Ford|     Ecosport|2011| Beige|   Manual|       Naphtha|    101000|   113400|\n",
      "|     Ford|     Ecosport|2019|  Gray|   Manual|       Naphtha|     61000|   243000|\n",
      "|     Ford|       Ranger|2021| White|   Manual|        Diesel|     55000|   405000|\n",
      "|   Toyota|        Hilux|2022| Black|   Manual|        Diesel|     21000|   550800|\n",
      "|     Ford|       Fiesta|2016|   Red|   Manual|       Naphtha|     68000|   170100|\n",
      "|Chevrolet|      Equinox|2021|Silver|Automatic|       Naphtha|     23000|   507054|\n",
      "|     Ford|         Kuga|2013| White|   Manual|       Naphtha|     85000|   202500|\n",
      "|   Toyota|Corolla Cross|2022|   Red|Automatic|Hybrid/Naphtha|       510|   609660|\n",
      "|     Ford|    Focus III|2017|  Blue|   Manual|       Naphtha|     46000|   202500|\n",
      "|     Ford|     Ecosport|2014| Black|   Manual|       Naphtha|     79000|   172254|\n",
      "|     Ford|           Ka|2019| White|   Manual|   Naphtha/CNG|     59000|   172254|\n",
      "|     Ford|    Focus III|2016|  Gray|   Manual|       Naphtha|     86000|   228798|\n",
      "|   Toyota|        Hilux|2019|  Gray|Automatic|        Diesel|     51700|   642600|\n",
      "|     Ford|     Focus II|2009|Golden|   Manual|       Naphtha|    133000|   113427|\n",
      "|     Ford|    Focus III|2018|  Gray|Automatic|       Naphtha|     55000|   285654|\n",
      "|     Ford|    Focus III|2014|Silver|   Manual|       Naphtha|     57000|   116100|\n",
      "|     Ford|       Ranger|2018|  Gray|Automatic|        Diesel|     70000|   513027|\n",
      "|   Toyota|        Hilux|2019|  Gray|Automatic|        Diesel|     52000|   669600|\n",
      "+---------+-------------+----+------+---------+--------------+----------+---------+\n",
      "only showing top 20 rows\n",
      "\n"
     ]
    }
   ],
   "source": [
    "df_pyspark_argSELECTCol.filter((df_pyspark_argSELECTCol['Money USD'] > 500000) |\n",
    "                              (df_pyspark_argSELECTCol['Brand'] == 'Ford')).show()"
   ]
  },
  {
   "cell_type": "code",
   "execution_count": 118,
   "id": "6a2b409f",
   "metadata": {},
   "outputs": [
    {
     "name": "stdout",
     "output_type": "stream",
     "text": [
      "+-------------+-----------------+----+------+---------+--------+----------+---------+\n",
      "|        Brand|            Model|Year| Color|     Gear|FuelType|Kilometres|Money USD|\n",
      "+-------------+-----------------+----+------+---------+--------+----------+---------+\n",
      "|Mercedes-Benz|          Clase C|2008|Silver|Automatic| Naphtha|    174000|    12300|\n",
      "|Mercedes-Benz|          Clase A|2017|Silver|Automatic| Naphtha|     55394|    38500|\n",
      "|Mercedes-Benz|          Clase A|2013| White|   Manual| Naphtha|    162080|    20500|\n",
      "|         Mini|           Cooper|2013|   Red|   Manual| Naphtha|    105000|    15000|\n",
      "|Mercedes-Benz|          Clase E|2014| White|Automatic| Naphtha|    129681|    32000|\n",
      "|Mercedes-Benz|          Clase E|2019|  Gray|Automatic| Naphtha|     18594|   185000|\n",
      "|Mercedes-Benz|          Clase A|2013| Black|   Manual| Naphtha|    115000|    17500|\n",
      "|   Mitsubishi|             L200|2016|  Gray|   Manual|  Diesel|    181800|   350460|\n",
      "|Mercedes-Benz|          Clase C|2008|Silver|Automatic| Naphtha|    250000|    10599|\n",
      "|Mercedes-Benz|        Clase GLA|2015| Black|Automatic| Naphtha|     86000|    34990|\n",
      "|Mercedes-Benz|          Clase C|2009|  Blue|Automatic| Naphtha|    105000|    14500|\n",
      "|Mercedes-Benz|        Clase GLA|2017|  Gray|Automatic| Naphtha|     60000|    43990|\n",
      "|Mercedes-Benz|         Sprinter|2018| White|   Manual|  Diesel|    242000|   499500|\n",
      "|Mercedes-Benz|          Clase A|2017|Silver|   Manual| Naphtha|     59000|    31000|\n",
      "|Mercedes-Benz|          Clase A|2017| White|Automatic| Naphtha|     12000|    46999|\n",
      "|         Mini|Cooper Countryman|2014|  Blue|Automatic| Naphtha|    119000|    19500|\n",
      "|Mercedes-Benz|         Sprinter|2015| White|   Manual|  Diesel|    179100|   355854|\n",
      "|   Mitsubishi|        Outlander|2012| Black|Automatic| Naphtha|    168000|    13499|\n",
      "+-------------+-----------------+----+------+---------+--------+----------+---------+\n",
      "\n"
     ]
    }
   ],
   "source": [
    "df_pyspark_argSELECTCol.filter(df_pyspark_argSELECTCol['Brand'].like(\"M%\")).show()"
   ]
  },
  {
   "cell_type": "code",
   "execution_count": 119,
   "id": "8e9ed993",
   "metadata": {},
   "outputs": [
    {
     "name": "stdout",
     "output_type": "stream",
     "text": [
      "+----------+-------------+----+-----+---------+--------------+----------+---------+\n",
      "|     Brand|        Model|Year|Color|     Gear|      FuelType|Kilometres|Money USD|\n",
      "+----------+-------------+----+-----+---------+--------------+----------+---------+\n",
      "|    Toyota|Corolla Cross|2022|  Red|Automatic|Hybrid/Naphtha|       510|   609660|\n",
      "|    Toyota|        Hilux|2019| Gray|Automatic|        Diesel|     51700|   642600|\n",
      "|    Toyota|        Hilux|2019| Gray|Automatic|        Diesel|     52000|   669600|\n",
      "|    Toyota|Corolla Cross|2022|Black|Automatic|Hybrid/Naphtha|      2000|   674460|\n",
      "|    Toyota|        Hilux|2019|White|Automatic|        Diesel|     64000|   674406|\n",
      "|    Toyota|        Hilux|2019| Gray|Automatic|        Diesel|     51600|   642600|\n",
      "|      Ford|       Ranger|2021| Gray|Automatic|        Diesel|     61000|   639900|\n",
      "|    Toyota|        Hilux|2021| Gray|Automatic|        Diesel|     28000|   604800|\n",
      "|Volkswagen|         Taos|2022| Gray|Automatic|       Naphtha|      1011|   642060|\n",
      "|Volkswagen|         Golf|2019|White|Automatic|       Naphtha|     58000|   604530|\n",
      "|      Ford|    Territory|2022|White|Automatic|       Naphtha|      1000|   615600|\n",
      "|       RAM|         1500|2017| Gray|Automatic|       Naphtha|     79100|   647454|\n",
      "|      Ford|    Territory|2022|Black|Automatic|       Naphtha|      1000|   609660|\n",
      "+----------+-------------+----+-----+---------+--------------+----------+---------+\n",
      "\n"
     ]
    }
   ],
   "source": [
    "df_pyspark_argSELECTCol.filter(df_pyspark_argSELECTCol['Money USD'].between(\"600000\",\"700000\")).show()"
   ]
  },
  {
   "cell_type": "code",
   "execution_count": 120,
   "id": "259f6896",
   "metadata": {},
   "outputs": [
    {
     "name": "stdout",
     "output_type": "stream",
     "text": [
      "+-------------+-----------+----+---------+---------+--------+----------+---------+\n",
      "|        Brand|      Model|Year|    Color|     Gear|FuelType|Kilometres|Money USD|\n",
      "+-------------+-----------+----+---------+---------+--------+----------+---------+\n",
      "|         Jeep|    Compass|2022|    White|Automatic| Naphtha|       500|   585900|\n",
      "|         Jeep|    Compass|2022|Dark gray|Automatic| Naphtha|       500|    35500|\n",
      "|      Citroën|  C4 Cactus|2022|Dark gray|Automatic| Naphtha|       550|    19000|\n",
      "|         Jeep|    Compass|2022|    Black|Automatic| Naphtha|     10500|    34500|\n",
      "|          Kia|    Sorento|2014|    Black|Automatic|  Diesel|    156000|    25000|\n",
      "|Mercedes-Benz|    Clase C|2008|   Silver|Automatic| Naphtha|    174000|    12300|\n",
      "|          BMW|        220|2016|    White|Automatic| Naphtha|     66000|    35500|\n",
      "|   Volkswagen|    T-Cross|2019|   Orange|Automatic| Naphtha|     35000|   367200|\n",
      "|Mercedes-Benz|    Clase A|2017|   Silver|Automatic| Naphtha|     55394|    38500|\n",
      "|Mercedes-Benz|    Clase A|2013|    White|   Manual| Naphtha|    162080|    20500|\n",
      "|      Renault|    Sandero|2022|   Silver|   Manual| Naphtha|    111111|   189000|\n",
      "|   Volkswagen|       Polo|2022|    White|   Manual| Naphtha|    111111|   323460|\n",
      "|          BMW|    Serie 1|2020|    Black|Automatic| Naphtha|     34800|    41900|\n",
      "|         Ford|   Ecosport|2011|    Beige|   Manual| Naphtha|    101000|   113400|\n",
      "|    Chevrolet|Trailblazer|2019|     Gray|Automatic|  Diesel|     73000|    38500|\n",
      "|      Renault|       Clio|2014|     Gray|   Manual| Naphtha|     99000|   110700|\n",
      "|         Mini|     Cooper|2013|      Red|   Manual| Naphtha|    105000|    15000|\n",
      "|         Jeep|   Renegade|2018|      Red|   Manual| Naphtha|     78000|   275346|\n",
      "|         Fiat|      Bravo|2013|    Black|   Manual| Naphtha|    124000|   151200|\n",
      "|         Ford|   Ecosport|2019|     Gray|   Manual| Naphtha|     61000|   243000|\n",
      "+-------------+-----------+----+---------+---------+--------+----------+---------+\n",
      "only showing top 20 rows\n",
      "\n"
     ]
    }
   ],
   "source": [
    "df_pyspark_argSELECTCol.filter(df_pyspark_argSELECTCol[\"Brand\"] != 'Toyota').select(\"*\").show()"
   ]
  },
  {
   "cell_type": "code",
   "execution_count": 121,
   "id": "5e201384",
   "metadata": {},
   "outputs": [
    {
     "name": "stdout",
     "output_type": "stream",
     "text": [
      "+-------------+---------+----+------+---------+--------+----------+---------+\n",
      "|        Brand|    Model|Year| Color|     Gear|FuelType|Kilometres|Money USD|\n",
      "+-------------+---------+----+------+---------+--------+----------+---------+\n",
      "|Mercedes-Benz|  Clase C|2008|Silver|Automatic| Naphtha|    174000|    12300|\n",
      "|          BMW|      220|2016| White|Automatic| Naphtha|     66000|    35500|\n",
      "|   Volkswagen|  T-Cross|2019|Orange|Automatic| Naphtha|     35000|   367200|\n",
      "|Mercedes-Benz|  Clase A|2017|Silver|Automatic| Naphtha|     55394|    38500|\n",
      "|Mercedes-Benz|  Clase A|2013| White|   Manual| Naphtha|    162080|    20500|\n",
      "|   Volkswagen|     Polo|2022| White|   Manual| Naphtha|    111111|   323460|\n",
      "|          BMW|  Serie 1|2020| Black|Automatic| Naphtha|     34800|    41900|\n",
      "|Mercedes-Benz|  Clase E|2014| White|Automatic| Naphtha|    129681|    32000|\n",
      "|Mercedes-Benz|  Clase E|2019|  Gray|Automatic| Naphtha|     18594|   185000|\n",
      "|   Volkswagen|      Up!|2015| White|Automatic| Naphtha|    110000|   135000|\n",
      "|   Volkswagen|    Vento|2018| White|   Manual| Naphtha|     44000|   458460|\n",
      "|   Volkswagen|    Nivus|2021| White|Automatic| Naphtha|     34000|   407700|\n",
      "|   Volkswagen|Gol Trend|2015|Silver|   Manual| Naphtha|     65500|   105840|\n",
      "|   Volkswagen|    Vento|2015|Silver|   Manual| Naphtha|     54500|   113400|\n",
      "|   Volkswagen|      Up!|2018| White|   Manual| Naphtha|     79000|    89100|\n",
      "|   Volkswagen|      Gol|2012| Black|   Manual| Naphtha|    102000|    83700|\n",
      "|   Volkswagen|    Vento|2017|  Gray|   Manual| Naphtha|     54000|   405000|\n",
      "|   Volkswagen|   Amarok|2016| Black|Automatic|  Diesel|    129000|   351000|\n",
      "|   Volkswagen|     Golf|2016|Silver|Automatic| Naphtha|    126000|    16000|\n",
      "|   Volkswagen|   Amarok|2016| Black|Automatic|  Diesel|    128900|   351000|\n",
      "+-------------+---------+----+------+---------+--------+----------+---------+\n",
      "only showing top 20 rows\n",
      "\n"
     ]
    }
   ],
   "source": [
    "Brands = ['BMW','Mercedes-Benz','Volkswagen']\n",
    "\n",
    "df_pyspark_argSELECTCol.filter(df_pyspark_argSELECTCol['Brand'].isin(Brands)).show()"
   ]
  },
  {
   "cell_type": "code",
   "execution_count": 122,
   "id": "1db6f729",
   "metadata": {
    "scrolled": true
   },
   "outputs": [
    {
     "name": "stdout",
     "output_type": "stream",
     "text": [
      "+-------------+-----------+----+---------+---------+--------+----------+---------+\n",
      "|        Brand|      Model|Year|    Color|     Gear|FuelType|Kilometres|Money USD|\n",
      "+-------------+-----------+----+---------+---------+--------+----------+---------+\n",
      "|      Citroën|  C4 Cactus|2022|Dark gray|Automatic| Naphtha|       550|    19000|\n",
      "|          Kia|    Sorento|2014|    Black|Automatic|  Diesel|    156000|    25000|\n",
      "|Mercedes-Benz|    Clase C|2008|   Silver|Automatic| Naphtha|    174000|    12300|\n",
      "|          BMW|        220|2016|    White|Automatic| Naphtha|     66000|    35500|\n",
      "|   Volkswagen|    T-Cross|2019|   Orange|Automatic| Naphtha|     35000|   367200|\n",
      "|Mercedes-Benz|    Clase A|2017|   Silver|Automatic| Naphtha|     55394|    38500|\n",
      "|Mercedes-Benz|    Clase A|2013|    White|   Manual| Naphtha|    162080|    20500|\n",
      "|      Renault|    Sandero|2022|   Silver|   Manual| Naphtha|    111111|   189000|\n",
      "|   Volkswagen|       Polo|2022|    White|   Manual| Naphtha|    111111|   323460|\n",
      "|          BMW|    Serie 1|2020|    Black|Automatic| Naphtha|     34800|    41900|\n",
      "|    Chevrolet|Trailblazer|2019|     Gray|Automatic|  Diesel|     73000|    38500|\n",
      "|      Renault|       Clio|2014|     Gray|   Manual| Naphtha|     99000|   110700|\n",
      "|         Mini|     Cooper|2013|      Red|   Manual| Naphtha|    105000|    15000|\n",
      "|         Fiat|      Bravo|2013|    Black|   Manual| Naphtha|    124000|   151200|\n",
      "|    Chevrolet|    Classic|2014|     Gray|   Manual| Naphtha|     38000|   129600|\n",
      "|      Renault|     Master|2013|    White|   Manual|  Diesel|    180000|   280800|\n",
      "|      Peugeot|        408|2013|Dark gray|   Manual| Naphtha|     95000|   132300|\n",
      "|        Honda|       CR-V|2013|    White|Automatic| Naphtha|    186700|   280800|\n",
      "|        Dodge|    Journey|2011|    White|Automatic| Naphtha|    110000|   132300|\n",
      "|         Fiat|      Siena|2017|     Gray|   Manual| Naphtha|     62000|   139590|\n",
      "+-------------+-----------+----+---------+---------+--------+----------+---------+\n",
      "only showing top 20 rows\n",
      "\n"
     ]
    }
   ],
   "source": [
    "df_pyspark_argSELECTCol.filter(~df_pyspark_argSELECTCol['Brand'].isin('Jeep','Toyota','Ford')).show()"
   ]
  },
  {
   "cell_type": "code",
   "execution_count": 123,
   "id": "f038ceb3",
   "metadata": {},
   "outputs": [
    {
     "name": "stdout",
     "output_type": "stream",
     "text": [
      "+-------------+-----+\n",
      "|        Brand|Count|\n",
      "+-------------+-----+\n",
      "|   Volkswagen|   88|\n",
      "|         Ford|   57|\n",
      "|    Chevrolet|   51|\n",
      "|      Peugeot|   49|\n",
      "|       Toyota|   47|\n",
      "|      Renault|   45|\n",
      "|      Citroën|   32|\n",
      "|         Fiat|   25|\n",
      "|         Jeep|   20|\n",
      "|        Honda|   18|\n",
      "|Mercedes-Benz|   14|\n",
      "|          BMW|   13|\n",
      "|      Hyundai|    9|\n",
      "|       Nissan|    8|\n",
      "|         Audi|    8|\n",
      "|          RAM|    6|\n",
      "|        Dodge|    4|\n",
      "|          Kia|    3|\n",
      "|   Mitsubishi|    2|\n",
      "|         Mini|    2|\n",
      "|        Volvo|    2|\n",
      "|           DS|    2|\n",
      "|         Baic|    1|\n",
      "|       Suzuki|    1|\n",
      "|        Chery|    1|\n",
      "|      Porsche|    1|\n",
      "|       Subaru|    1|\n",
      "+-------------+-----+\n",
      "\n"
     ]
    }
   ],
   "source": [
    "df_pyspark_argSELECTCol.groupBy(\"Brand\").agg(count(\"*\").alias(\"Count\")).select(\"Brand\",\"Count\").orderBy(desc(\"Count\")).show(50,50)\n"
   ]
  },
  {
   "cell_type": "code",
   "execution_count": 124,
   "id": "8cbabfa2",
   "metadata": {},
   "outputs": [
    {
     "name": "stdout",
     "output_type": "stream",
     "text": [
      "+-------------+-----+\n",
      "|        Color|Count|\n",
      "+-------------+-----+\n",
      "|         Gray|  158|\n",
      "|        White|  150|\n",
      "|        Black|   60|\n",
      "|       Silver|   53|\n",
      "|         Blue|   25|\n",
      "|          Red|   24|\n",
      "|Not available|   11|\n",
      "|       Golden|    8|\n",
      "|        Brown|    4|\n",
      "|       Violet|    4|\n",
      "|    Celestial|    4|\n",
      "|       Orange|    3|\n",
      "|    Dark gray|    3|\n",
      "|        Green|    2|\n",
      "|        Beige|    1|\n",
      "+-------------+-----+\n",
      "\n"
     ]
    }
   ],
   "source": [
    "df_pyspark_argSELECTCol.groupBy(\"Color\").agg(count(\"*\").alias(\"Count\")).select(\"Color\",\"Count\").orderBy(desc(\"Count\")).show(50,50)"
   ]
  },
  {
   "cell_type": "code",
   "execution_count": 125,
   "id": "81da5e3f",
   "metadata": {
    "scrolled": true
   },
   "outputs": [
    {
     "name": "stdout",
     "output_type": "stream",
     "text": [
      "+----+-----+\n",
      "|Year|Count|\n",
      "+----+-----+\n",
      "|2017|   74|\n",
      "|2018|   63|\n",
      "|2019|   57|\n",
      "|2016|   53|\n",
      "|2014|   43|\n",
      "|2013|   34|\n",
      "|2022|   33|\n",
      "|2015|   31|\n",
      "|2020|   26|\n",
      "|2021|   26|\n",
      "|2011|   22|\n",
      "|2012|   21|\n",
      "|2009|    8|\n",
      "|2008|    7|\n",
      "|2010|    7|\n",
      "|2007|    1|\n",
      "|1997|    1|\n",
      "|1996|    1|\n",
      "|2000|    1|\n",
      "|1995|    1|\n",
      "+----+-----+\n",
      "\n"
     ]
    }
   ],
   "source": [
    "df_pyspark_argSELECTCol.groupBy(\"Year\").agg(count(\"*\").alias(\"Count\")).select(\"Year\",\"Count\").orderBy(desc(\"Count\")).show(50,50)"
   ]
  },
  {
   "cell_type": "code",
   "execution_count": 126,
   "id": "d198978b",
   "metadata": {},
   "outputs": [
    {
     "name": "stdout",
     "output_type": "stream",
     "text": [
      "+--------------+-----+\n",
      "|      FuelType|Count|\n",
      "+--------------+-----+\n",
      "|       Naphtha|  416|\n",
      "|        Diesel|   72|\n",
      "|   Naphtha/CNG|   19|\n",
      "|Hybrid/Naphtha|    3|\n",
      "+--------------+-----+\n",
      "\n"
     ]
    }
   ],
   "source": [
    "df_pyspark_argSELECTCol.groupBy(\"FuelType\").agg(count(\"*\").alias(\"Count\"))\\\n",
    ".select(\"FuelType\",\"Count\").orderBy(desc(\"Count\")).show(50,50)"
   ]
  },
  {
   "cell_type": "code",
   "execution_count": 127,
   "id": "d978db3a",
   "metadata": {},
   "outputs": [
    {
     "name": "stdout",
     "output_type": "stream",
     "text": [
      "+-------------+-----+\n",
      "|         Gear|Count|\n",
      "+-------------+-----+\n",
      "|       Manual|  298|\n",
      "|    Automatic|  211|\n",
      "|Not available|    1|\n",
      "+-------------+-----+\n",
      "\n"
     ]
    }
   ],
   "source": [
    "df_pyspark_argSELECTCol.groupBy(\"Gear\").agg(count(\"*\").alias(\"Count\"))\\\n",
    ".select(\"Gear\",\"Count\").orderBy(desc(\"Count\")).show(50,50)"
   ]
  },
  {
   "cell_type": "code",
   "execution_count": 128,
   "id": "8a75d6a2",
   "metadata": {},
   "outputs": [
    {
     "name": "stdout",
     "output_type": "stream",
     "text": [
      "+-------------+------------------+--------------+--------------+----------------+\n",
      "|        Brand|    Avg Kilometres|Min Kilometres|Max Kilometres|Total Kilometres|\n",
      "+-------------+------------------+--------------+--------------+----------------+\n",
      "|   Volkswagen| 76420.89772727272|           500|        215000|         6725039|\n",
      "|      Peugeot| 79718.16326530612|           500|        161000|         3906190|\n",
      "|         Jeep|           47515.0|           500|        140000|          950300|\n",
      "|   Mitsubishi|          174900.0|        168000|        181800|          349800|\n",
      "|          Kia|122666.66666666667|         86000|        156000|          368000|\n",
      "|         Mini|          112000.0|        105000|        119000|          224000|\n",
      "|    Chevrolet|  71116.3137254902|          1400|        153000|         3626932|\n",
      "|          RAM|20466.666666666668|          4700|         79100|          122800|\n",
      "|        Volvo|          149000.0|        125000|        173000|          298000|\n",
      "|         Baic|           38800.0|         38800|         38800|           38800|\n",
      "|      Hyundai| 93018.88888888889|          8900|        137000|          837170|\n",
      "|        Honda| 95436.83333333333|         20000|        186700|         1717863|\n",
      "|         Audi|           66725.0|          3000|        153000|          533800|\n",
      "|Mercedes-Benz|          117703.5|         12000|        250000|         1647849|\n",
      "|      Renault| 71792.46666666666|         22000|        180000|         3230661|\n",
      "|          BMW|58769.230769230766|          2500|        132000|          764000|\n",
      "|       Suzuki|          190000.0|        190000|        190000|          190000|\n",
      "|        Chery|           71239.0|         71239|         71239|           71239|\n",
      "|      Porsche|           59141.0|         59141|         59141|           59141|\n",
      "|           DS|           15050.0|         15000|         15100|           30100|\n",
      "|      Citroën|         82378.125|           550|        220000|         2636100|\n",
      "|       Toyota| 59066.78723404255|           500|        180000|         2776139|\n",
      "|        Dodge|           67925.0|         41800|        110000|          271700|\n",
      "|       Nissan|          62760.25|         30000|         96000|          502082|\n",
      "|         Fiat|           79643.8|          2000|        190000|         1991095|\n",
      "|         Ford| 68241.21052631579|          1000|        335000|         3889749|\n",
      "|       Subaru|          204000.0|        204000|        204000|          204000|\n",
      "+-------------+------------------+--------------+--------------+----------------+\n",
      "\n"
     ]
    }
   ],
   "source": [
    "df_pyspark_argSELECTCol.groupBy(\"Brand\").agg(avg(\"Kilometres\").alias(\"Avg Kilometres\"),\n",
    "                                            min(\"Kilometres\").alias(\"Min Kilometres\"),\n",
    "                                            max(\"Kilometres\").alias(\"Max Kilometres\"),\n",
    "                                            sum(\"Kilometres\").alias(\"Total Kilometres\")).show(30,25)"
   ]
  },
  {
   "cell_type": "code",
   "execution_count": 129,
   "id": "df0fad93",
   "metadata": {},
   "outputs": [
    {
     "name": "stdout",
     "output_type": "stream",
     "text": [
      "+-------------+------------------+-------------+-------------+---------------+\n",
      "|        Brand|     Avg Money USD|Min Money USD|Max Money USD|Total Money USD|\n",
      "+-------------+------------------+-------------+-------------+---------------+\n",
      "|   Volkswagen|263707.82954545453|         8000|       772146|       23206289|\n",
      "|      Peugeot|191850.81632653062|        17900|       567000|        9400690|\n",
      "|         Jeep|          277666.3|        15990|       585900|        5553326|\n",
      "|   Mitsubishi|          181979.5|        13499|       350460|         363959|\n",
      "|          Kia|120786.66666666667|        13900|       323460|         362360|\n",
      "|         Mini|           17250.0|        15000|        19500|          34500|\n",
      "|    Chevrolet| 202559.9019607843|        38500|       753294|       10330555|\n",
      "|          RAM|170557.33333333334|        64900|       647454|        1023344|\n",
      "|        Volvo|            9450.0|         8900|        10000|          18900|\n",
      "|         Baic|          312120.0|       312120|       312120|         312120|\n",
      "|      Hyundai|252356.44444444444|        23500|       426060|        2271208|\n",
      "|        Honda|250437.88888888888|        16500|       415800|        4507882|\n",
      "|         Audi|         239082.75|        14900|       430000|        1912662|\n",
      "|Mercedes-Benz| 95945.14285714286|        10599|       499500|        1343232|\n",
      "|      Renault|185776.57777777777|        86130|       334260|        8359946|\n",
      "|          BMW| 82523.84615384616|        12500|       295920|        1072810|\n",
      "|       Suzuki|          102330.0|       102330|       102330|         102330|\n",
      "|        Chery|          178200.0|       178200|       178200|         178200|\n",
      "|      Porsche|           79900.0|        79900|        79900|          79900|\n",
      "|           DS|          559434.0|       559434|       559434|        1118868|\n",
      "+-------------+------------------+-------------+-------------+---------------+\n",
      "only showing top 20 rows\n",
      "\n"
     ]
    }
   ],
   "source": [
    "df_pyspark_argSELECTCol.groupBy(\"Brand\").agg(avg(\"Money USD\").alias(\"Avg Money USD\"),\n",
    "                                            min(\"Money USD\").alias(\"Min Money USD\"),\n",
    "                                            max(\"Money USD\").alias(\"Max Money USD\"),\n",
    "                                            sum(\"Money USD\").alias(\"Total Money USD\")).show()"
   ]
  },
  {
   "cell_type": "code",
   "execution_count": 130,
   "id": "cc47627c",
   "metadata": {},
   "outputs": [
    {
     "name": "stdout",
     "output_type": "stream",
     "text": [
      "+----------+------------------+\n",
      "|     Brand|             Money|\n",
      "+----------+------------------+\n",
      "|Volkswagen|263707.82954545453|\n",
      "|      Jeep|          277666.3|\n",
      "|      Baic|          312120.0|\n",
      "|   Hyundai|252356.44444444444|\n",
      "|     Honda|250437.88888888888|\n",
      "|        DS|          559434.0|\n",
      "|    Toyota| 297632.6808510638|\n",
      "|     Dodge|          398655.0|\n",
      "+----------+------------------+\n",
      "\n"
     ]
    }
   ],
   "source": [
    "df_pyspark_argSELECTCol.groupBy(\"Brand\").agg(avg(col(\"Money USD\")\n",
    "                                            .cast(\"double\"))\n",
    "                                            .alias(\"Money\")).filter(col(\"Money\") > 250000).select(\"Brand\",\"Money\").show()"
   ]
  },
  {
   "cell_type": "code",
   "execution_count": 131,
   "id": "e69c761e",
   "metadata": {},
   "outputs": [
    {
     "name": "stdout",
     "output_type": "stream",
     "text": [
      "+-------------+\n",
      "|        Brand|\n",
      "+-------------+\n",
      "|   Volkswagen|\n",
      "|      Peugeot|\n",
      "|         Jeep|\n",
      "|   Mitsubishi|\n",
      "|          Kia|\n",
      "|         Mini|\n",
      "|    Chevrolet|\n",
      "|          RAM|\n",
      "|        Volvo|\n",
      "|         Baic|\n",
      "|      Hyundai|\n",
      "|        Honda|\n",
      "|         Audi|\n",
      "|Mercedes-Benz|\n",
      "|      Renault|\n",
      "|          BMW|\n",
      "|       Suzuki|\n",
      "|        Chery|\n",
      "|      Porsche|\n",
      "|           DS|\n",
      "|      Citroën|\n",
      "|       Toyota|\n",
      "|        Dodge|\n",
      "|       Nissan|\n",
      "|         Fiat|\n",
      "|         Ford|\n",
      "|       Subaru|\n",
      "+-------------+\n",
      "\n"
     ]
    }
   ],
   "source": [
    "df_pyspark_argSELECTCol.select(\"Brand\").distinct().show(50,50)"
   ]
  },
  {
   "cell_type": "code",
   "execution_count": 132,
   "id": "53ae9fe9",
   "metadata": {},
   "outputs": [
    {
     "name": "stdout",
     "output_type": "stream",
     "text": [
      "+-------------+\n",
      "|        Brand|\n",
      "+-------------+\n",
      "|   Volkswagen|\n",
      "|      Peugeot|\n",
      "|         Jeep|\n",
      "|   Mitsubishi|\n",
      "|          Kia|\n",
      "|         Mini|\n",
      "|    Chevrolet|\n",
      "|          RAM|\n",
      "|        Volvo|\n",
      "|         Baic|\n",
      "|      Hyundai|\n",
      "|        Honda|\n",
      "|         Audi|\n",
      "|Mercedes-Benz|\n",
      "|      Renault|\n",
      "|          BMW|\n",
      "|       Suzuki|\n",
      "|        Chery|\n",
      "|      Porsche|\n",
      "|           DS|\n",
      "|      Citroën|\n",
      "|       Toyota|\n",
      "|        Dodge|\n",
      "|       Nissan|\n",
      "|         Fiat|\n",
      "|         Ford|\n",
      "|       Subaru|\n",
      "+-------------+\n",
      "\n"
     ]
    }
   ],
   "source": [
    "df_pyspark_argSELECTCol.select(\"Brand\").distinct().show(50,50)"
   ]
  },
  {
   "cell_type": "code",
   "execution_count": 133,
   "id": "356a436b",
   "metadata": {},
   "outputs": [
    {
     "name": "stdout",
     "output_type": "stream",
     "text": [
      "+-------------+\n",
      "|     BodyType|\n",
      "+-------------+\n",
      "|Not available|\n",
      "|    Hatchback|\n",
      "|        Sedán|\n",
      "|    Crossover|\n",
      "|       Furgón|\n",
      "|          SUV|\n",
      "|  Monovolumen|\n",
      "|      Pick-Up|\n",
      "|      Minivan|\n",
      "|        Rural|\n",
      "|        Coupé|\n",
      "+-------------+\n",
      "\n"
     ]
    }
   ],
   "source": [
    "df_pyspark_arg.select(\"BodyType\").distinct().show(50,50)"
   ]
  },
  {
   "cell_type": "code",
   "execution_count": 134,
   "id": "87dc1934",
   "metadata": {},
   "outputs": [
    {
     "name": "stdout",
     "output_type": "stream",
     "text": [
      "+--------------+\n",
      "|      FuelType|\n",
      "+--------------+\n",
      "|   Naphtha/CNG|\n",
      "|        Diesel|\n",
      "|Hybrid/Naphtha|\n",
      "|       Naphtha|\n",
      "+--------------+\n",
      "\n"
     ]
    }
   ],
   "source": [
    "df_pyspark_arg.select(\"FuelType\").distinct().show(50,50)"
   ]
  },
  {
   "cell_type": "code",
   "execution_count": 135,
   "id": "ec34a252",
   "metadata": {},
   "outputs": [
    {
     "name": "stdout",
     "output_type": "stream",
     "text": [
      "+-------------+\n",
      "|         Gear|\n",
      "+-------------+\n",
      "|Not available|\n",
      "|    Automatic|\n",
      "|       Manual|\n",
      "+-------------+\n",
      "\n"
     ]
    }
   ],
   "source": [
    "df_pyspark_arg.select(\"Gear\").distinct().show(50,50)\n"
   ]
  },
  {
   "cell_type": "code",
   "execution_count": 136,
   "id": "593992dd",
   "metadata": {},
   "outputs": [
    {
     "name": "stdout",
     "output_type": "stream",
     "text": [
      "+-------------+-------------+----+---------+---------+--------+----------+---------+----------+\n",
      "|        Brand|        Model|Year|    Color|     Gear|FuelType|Kilometres|Money USD|Money EURO|\n",
      "+-------------+-------------+----+---------+---------+--------+----------+---------+----------+\n",
      "|       Toyota|Corolla Cross|2022|   Silver|Automatic| Naphtha|       500|   558900|  514188.0|\n",
      "|         Jeep|      Compass|2022|    White|Automatic| Naphtha|       500|   585900|  539028.0|\n",
      "|         Jeep|      Compass|2022|Dark gray|Automatic| Naphtha|       500|    35500|   32660.0|\n",
      "|      Citroën|    C4 Cactus|2022|Dark gray|Automatic| Naphtha|       550|    19000|   17480.0|\n",
      "|       Toyota|      Corolla|2019|     Gray|   Manual| Naphtha|      9000|   313200|  288144.0|\n",
      "|         Jeep|      Compass|2022|    Black|Automatic| Naphtha|     10500|    34500|   31740.0|\n",
      "|          Kia|      Sorento|2014|    Black|Automatic|  Diesel|    156000|    25000|   23000.0|\n",
      "|Mercedes-Benz|      Clase C|2008|   Silver|Automatic| Naphtha|    174000|    12300|   11316.0|\n",
      "|          BMW|          220|2016|    White|Automatic| Naphtha|     66000|    35500|   32660.0|\n",
      "|   Volkswagen|      T-Cross|2019|   Orange|Automatic| Naphtha|     35000|   367200|  337824.0|\n",
      "|Mercedes-Benz|      Clase A|2017|   Silver|Automatic| Naphtha|     55394|    38500|   35420.0|\n",
      "|Mercedes-Benz|      Clase A|2013|    White|   Manual| Naphtha|    162080|    20500|   18860.0|\n",
      "|      Renault|      Sandero|2022|   Silver|   Manual| Naphtha|    111111|   189000|  173880.0|\n",
      "|   Volkswagen|         Polo|2022|    White|   Manual| Naphtha|    111111|   323460|  297583.2|\n",
      "|          BMW|      Serie 1|2020|    Black|Automatic| Naphtha|     34800|    41900|   38548.0|\n",
      "|         Ford|     Ecosport|2011|    Beige|   Manual| Naphtha|    101000|   113400|  104328.0|\n",
      "|    Chevrolet|  Trailblazer|2019|     Gray|Automatic|  Diesel|     73000|    38500|   35420.0|\n",
      "|       Toyota|        Etios|2015|    White|   Manual| Naphtha|     83000|   158760|  146059.2|\n",
      "|      Renault|         Clio|2014|     Gray|   Manual| Naphtha|     99000|   110700|  101844.0|\n",
      "|       Toyota|         RAV4|2011|     Gray|Automatic| Naphtha|    180000|   222480|  204681.6|\n",
      "+-------------+-------------+----+---------+---------+--------+----------+---------+----------+\n",
      "only showing top 20 rows\n",
      "\n"
     ]
    }
   ],
   "source": [
    "df_pyspark_argSELECTCol.withColumn(\"Money EURO\",df_pyspark_argSELECTCol['Money USD'] * 0.92).show()"
   ]
  },
  {
   "cell_type": "code",
   "execution_count": 137,
   "id": "923cc987",
   "metadata": {},
   "outputs": [
    {
     "name": "stdout",
     "output_type": "stream",
     "text": [
      "+-------------+----+-----+---------+\n",
      "|        Brand|left|right|substring|\n",
      "+-------------+----+-----+---------+\n",
      "|       Toyota|  To|   ta|       yo|\n",
      "|         Jeep|  Je|   ep|       ep|\n",
      "|         Jeep|  Je|   ep|       ep|\n",
      "|      Citroën|  Ci|   ën|       tr|\n",
      "|       Toyota|  To|   ta|       yo|\n",
      "|         Jeep|  Je|   ep|       ep|\n",
      "|          Kia|  Ki|   ia|        a|\n",
      "|Mercedes-Benz|  Me|   nz|       rc|\n",
      "|          BMW|  BM|   MW|        W|\n",
      "|   Volkswagen|  Vo|   en|       lk|\n",
      "|Mercedes-Benz|  Me|   nz|       rc|\n",
      "|Mercedes-Benz|  Me|   nz|       rc|\n",
      "|      Renault|  Re|   lt|       na|\n",
      "|   Volkswagen|  Vo|   en|       lk|\n",
      "|          BMW|  BM|   MW|        W|\n",
      "|         Ford|  Fo|   rd|       rd|\n",
      "|    Chevrolet|  Ch|   et|       ev|\n",
      "|       Toyota|  To|   ta|       yo|\n",
      "|      Renault|  Re|   lt|       na|\n",
      "|       Toyota|  To|   ta|       yo|\n",
      "+-------------+----+-----+---------+\n",
      "only showing top 20 rows\n",
      "\n"
     ]
    }
   ],
   "source": [
    "df_pyspark_argSELECTCol.select(df_pyspark_argSELECTCol[\"Brand\"],substring(df_pyspark_argSELECTCol[\"Brand\"],1,2).alias(\"left\"),\n",
    "                               substring(df_pyspark_argSELECTCol[\"Brand\"],-2,2).alias(\"right\"),\n",
    "                               substring(df_pyspark_argSELECTCol[\"Brand\"],3,2).alias(\"substring\")).show()"
   ]
  },
  {
   "cell_type": "code",
   "execution_count": 138,
   "id": "8106e0dd",
   "metadata": {
    "scrolled": true
   },
   "outputs": [
    {
     "name": "stdout",
     "output_type": "stream",
     "text": [
      "+---------------------------------+\n",
      "|Brand Model                      |\n",
      "+---------------------------------+\n",
      "|Brand Model Toyota Corolla Cross |\n",
      "|Brand Model Jeep Compass         |\n",
      "|Brand Model Jeep Compass         |\n",
      "|Brand Model Citroën C4 Cactus    |\n",
      "|Brand Model Toyota Corolla       |\n",
      "|Brand Model Jeep Compass         |\n",
      "|Brand Model Kia Sorento          |\n",
      "|Brand Model Mercedes-Benz Clase C|\n",
      "|Brand Model BMW 220              |\n",
      "|Brand Model Volkswagen T-Cross   |\n",
      "|Brand Model Mercedes-Benz Clase A|\n",
      "|Brand Model Mercedes-Benz Clase A|\n",
      "|Brand Model Renault Sandero      |\n",
      "|Brand Model Volkswagen Polo      |\n",
      "|Brand Model BMW Serie 1          |\n",
      "|Brand Model Ford Ecosport        |\n",
      "|Brand Model Chevrolet Trailblazer|\n",
      "|Brand Model Toyota Etios         |\n",
      "|Brand Model Renault Clio         |\n",
      "|Brand Model Toyota RAV4          |\n",
      "+---------------------------------+\n",
      "only showing top 20 rows\n",
      "\n"
     ]
    }
   ],
   "source": [
    "df_pyspark_arg.select(concat(lit(\"Brand Model \")\n",
    "                                      ,df_pyspark_arg[\"Brand\"], lit(\" \"),\n",
    "                                     df_pyspark_arg[\"Model\"]).alias(\"Brand Model\")).show(truncate=False)"
   ]
  },
  {
   "cell_type": "markdown",
   "id": "26a0681e",
   "metadata": {},
   "source": [
    "#### Money"
   ]
  },
  {
   "cell_type": "code",
   "execution_count": 139,
   "id": "64276175",
   "metadata": {},
   "outputs": [],
   "source": [
    "Min = df_pyspark_argSELECTCol.agg(min(\"Money USD\")).first()[0]\n"
   ]
  },
  {
   "cell_type": "code",
   "execution_count": 140,
   "id": "a8c0f480",
   "metadata": {},
   "outputs": [],
   "source": [
    "Max = df_pyspark_argSELECTCol.agg(max(\"Money USD\")).first()[0]"
   ]
  },
  {
   "cell_type": "code",
   "execution_count": 141,
   "id": "7257bbb8",
   "metadata": {},
   "outputs": [],
   "source": [
    "MinMoneyUSD = df_pyspark_argSELECTCol.filter(df_pyspark_argSELECTCol[\"Money USD\"] == Min )"
   ]
  },
  {
   "cell_type": "code",
   "execution_count": 142,
   "id": "bc054300",
   "metadata": {},
   "outputs": [],
   "source": [
    "MaxMoneyUSD = df_pyspark_argSELECTCol.filter(df_pyspark_argSELECTCol[\"Money USD\"] == Max )"
   ]
  },
  {
   "cell_type": "code",
   "execution_count": 143,
   "id": "c6744b56",
   "metadata": {},
   "outputs": [],
   "source": [
    "UnionMaxMinMoneyUSD =MaxMoneyUSD.union(MinMoneyUSD) "
   ]
  },
  {
   "cell_type": "code",
   "execution_count": 144,
   "id": "39c9950d",
   "metadata": {
    "scrolled": true
   },
   "outputs": [
    {
     "name": "stdout",
     "output_type": "stream",
     "text": [
      "+----------+---------+----+-----+---------+--------+----------+---------+\n",
      "|     Brand|    Model|Year|Color|     Gear|FuelType|Kilometres|Money USD|\n",
      "+----------+---------+----+-----+---------+--------+----------+---------+\n",
      "|Volkswagen|   Amarok|2022|White|Automatic|  Diesel|       500|   772146|\n",
      "|Volkswagen|Gol Trend|2013| Gray|   Manual| Naphtha|    130000|     8000|\n",
      "+----------+---------+----+-----+---------+--------+----------+---------+\n",
      "\n"
     ]
    }
   ],
   "source": [
    "UnionMaxMinMoneyUSD.show()"
   ]
  },
  {
   "cell_type": "markdown",
   "id": "aff8618b",
   "metadata": {},
   "source": [
    "#### Kilometres"
   ]
  },
  {
   "cell_type": "code",
   "execution_count": 145,
   "id": "576f33a0",
   "metadata": {},
   "outputs": [],
   "source": [
    "MinKM = df_pyspark_argSELECTCol.agg(min(\"Kilometres\")).first()[0]"
   ]
  },
  {
   "cell_type": "code",
   "execution_count": 146,
   "id": "1d29ea17",
   "metadata": {},
   "outputs": [],
   "source": [
    "MaxKM = df_pyspark_argSELECTCol.agg(max(\"Kilometres\")).first()[0]"
   ]
  },
  {
   "cell_type": "code",
   "execution_count": 147,
   "id": "d998d8d0",
   "metadata": {},
   "outputs": [],
   "source": [
    "MinKMDF = df_pyspark_argSELECTCol.filter(df_pyspark_argSELECTCol[\"Kilometres\"] == MinKM )"
   ]
  },
  {
   "cell_type": "code",
   "execution_count": 148,
   "id": "88107cab",
   "metadata": {},
   "outputs": [],
   "source": [
    "MaxKMDF = df_pyspark_argSELECTCol.filter(df_pyspark_argSELECTCol[\"Kilometres\"] == MaxKM )"
   ]
  },
  {
   "cell_type": "code",
   "execution_count": 149,
   "id": "022b4ce6",
   "metadata": {},
   "outputs": [],
   "source": [
    "UnionMaxMinKilometres =MaxKMDF.union(MinKMDF) "
   ]
  },
  {
   "cell_type": "code",
   "execution_count": 150,
   "id": "e9c52dff",
   "metadata": {},
   "outputs": [
    {
     "name": "stdout",
     "output_type": "stream",
     "text": [
      "+----------+-------------+----+---------+---------+--------+----------+---------+\n",
      "|     Brand|        Model|Year|    Color|     Gear|FuelType|Kilometres|Money USD|\n",
      "+----------+-------------+----+---------+---------+--------+----------+---------+\n",
      "|      Ford|        F-100|1997|     Gray|   Manual|  Diesel|    335000|    16300|\n",
      "|    Toyota|Corolla Cross|2022|   Silver|Automatic| Naphtha|       500|   558900|\n",
      "|      Jeep|      Compass|2022|    White|Automatic| Naphtha|       500|   585900|\n",
      "|      Jeep|      Compass|2022|Dark gray|Automatic| Naphtha|       500|    35500|\n",
      "|   Peugeot|          208|2022|    Black|   Manual| Naphtha|       500|   250020|\n",
      "|Volkswagen|       Amarok|2022|    White|Automatic|  Diesel|       500|   772146|\n",
      "+----------+-------------+----+---------+---------+--------+----------+---------+\n",
      "\n"
     ]
    }
   ],
   "source": [
    "UnionMaxMinKilometres.show()"
   ]
  },
  {
   "cell_type": "code",
   "execution_count": 151,
   "id": "436a9d1b",
   "metadata": {},
   "outputs": [
    {
     "name": "stdout",
     "output_type": "stream",
     "text": [
      "+----------+---------------+----+-----+---------+--------------+----------+---------+---+\n",
      "|     Brand|          Model|Year|Color|     Gear|      FuelType|Kilometres|Money USD| RN|\n",
      "+----------+---------------+----+-----+---------+--------------+----------+---------+---+\n",
      "|Volkswagen|         Amarok|2022|White|Automatic|        Diesel|       500|   772146|  1|\n",
      "| Chevrolet|    Trailblazer|2021| Gray|Automatic|        Diesel|     23000|   753294|  2|\n",
      "|    Toyota|  Corolla Cross|2022|Black|Automatic|Hybrid/Naphtha|      2000|   674460|  3|\n",
      "|    Toyota|          Hilux|2019|White|Automatic|        Diesel|     64000|   674406|  4|\n",
      "|    Toyota|          Hilux|2019| Gray|Automatic|        Diesel|     52000|   669600|  5|\n",
      "|       RAM|           1500|2017| Gray|Automatic|       Naphtha|     79100|   647454|  6|\n",
      "|    Toyota|          Hilux|2019| Gray|Automatic|        Diesel|     51700|   642600|  7|\n",
      "|    Toyota|          Hilux|2019| Gray|Automatic|        Diesel|     51600|   642600|  8|\n",
      "|Volkswagen|           Taos|2022| Gray|Automatic|       Naphtha|      1011|   642060|  9|\n",
      "|      Ford|         Ranger|2021| Gray|Automatic|        Diesel|     61000|   639900| 10|\n",
      "|      Ford|      Territory|2022|White|Automatic|       Naphtha|      1000|   615600| 11|\n",
      "|    Toyota|  Corolla Cross|2022|  Red|Automatic|Hybrid/Naphtha|       510|   609660| 12|\n",
      "|      Ford|      Territory|2022|Black|Automatic|       Naphtha|      1000|   609660| 13|\n",
      "|    Toyota|          Hilux|2021| Gray|Automatic|        Diesel|     28000|   604800| 14|\n",
      "|Volkswagen|           Golf|2019|White|Automatic|       Naphtha|     58000|   604530| 15|\n",
      "|Volkswagen|Tiguan Allspace|2021| Gray|Automatic|       Naphtha|     48500|   588600| 16|\n",
      "|Volkswagen|Tiguan Allspace|2021| Gray|Automatic|       Naphtha|     48700|   588600| 17|\n",
      "|Volkswagen|Tiguan Allspace|2021| Gray|Automatic|       Naphtha|     48711|   588600| 18|\n",
      "|Volkswagen|Tiguan Allspace|2021| Gray|Automatic|       Naphtha|     48750|   588600| 19|\n",
      "|      Jeep|        Compass|2022|White|Automatic|       Naphtha|       500|   585900| 20|\n",
      "+----------+---------------+----+-----+---------+--------------+----------+---------+---+\n",
      "only showing top 20 rows\n",
      "\n"
     ]
    }
   ],
   "source": [
    "windowSpec = Window.orderBy(col(\"Money USD\").desc())\n",
    "\n",
    "RowNumDf_pyspark_argSELECTCol = df_pyspark_argSELECTCol.withColumn(\"RN\", row_number().over(windowSpec))\n",
    "RowNumDf_pyspark_argSELECTCol.show()\n"
   ]
  },
  {
   "cell_type": "code",
   "execution_count": 152,
   "id": "b6d42b06",
   "metadata": {},
   "outputs": [
    {
     "name": "stdout",
     "output_type": "stream",
     "text": [
      "+-----+------------+----+-------------+---------+--------+----------+---------+---+\n",
      "|Brand|       Model|Year|        Color|     Gear|FuelType|Kilometres|Money USD| RN|\n",
      "+-----+------------+----+-------------+---------+--------+----------+---------+---+\n",
      "| Audi|    R8 Coupé|2020|         Blue|Automatic| Naphtha|      3000|   430000|  1|\n",
      "| Audi|          Q5|2013|        White|Automatic| Naphtha|    153000|   361800|  2|\n",
      "| Audi|          A1|2016|         Gray|Automatic| Naphtha|     46000|   350454|  3|\n",
      "| Audi|A3 Sportback|2011|        White|Automatic| Naphtha|     89000|   237054|  4|\n",
      "| Audi|    R8 Coupé|2011|        White|Automatic| Naphtha|     19200|   235000|  5|\n",
      "| Audi|          A4|2011|         Gray|Automatic| Naphtha|     99100|   215454|  6|\n",
      "| Audi|          S3|2018|         Blue|Automatic| Naphtha|     25500|    68000|  7|\n",
      "| Audi|          A1|2011|        White|Automatic| Naphtha|     99000|    14900|  8|\n",
      "|  BMW|     Serie 3|2009|         Gray|   Manual| Naphtha|     79700|   295920|  1|\n",
      "|  BMW|     Serie 1|2008|         Gray|   Manual| Naphtha|    121000|   162000|  2|\n",
      "|  BMW|     Serie M|2017|         Gray|Automatic| Naphtha|     11000|   115700|  3|\n",
      "|  BMW|     Serie 4|2022|        Black|Automatic| Naphtha|     21000|    95000|  4|\n",
      "|  BMW|     Serie 2|2021|         Blue|Automatic| Naphtha|      2500|    90000|  5|\n",
      "|  BMW|     Serie 2|2021|    Celestial|Automatic| Naphtha|      2500|    89990|  6|\n",
      "|  BMW|     Serie 2|2021|         Blue|Automatic| Naphtha|      4100|    79000|  7|\n",
      "|  BMW|     Serie 1|2020|        Black|Automatic| Naphtha|     34800|    41900|  8|\n",
      "|  BMW|         220|2016|        White|Automatic| Naphtha|     66000|    35500|  9|\n",
      "|  BMW|     Serie 3|2008|        Black|   Manual| Naphtha|     91400|    24800| 10|\n",
      "|  BMW|          X5|2000|Not available|   Manual| Naphtha|    132000|    16000| 11|\n",
      "|  BMW|     Serie 3|2008|         Gray|   Manual| Naphtha|     73000|    14500| 12|\n",
      "+-----+------------+----+-------------+---------+--------+----------+---------+---+\n",
      "only showing top 20 rows\n",
      "\n"
     ]
    }
   ],
   "source": [
    "windowSpec = Window.partitionBy(col(\"Brand\")).orderBy(col(\"Money USD\").desc())\n",
    "\n",
    "RowNumDf_pyspark_argSELECTCol = df_pyspark_argSELECTCol.withColumn(\"RN\", row_number().over(windowSpec))\n",
    "RowNumDf_pyspark_argSELECTCol.show()"
   ]
  },
  {
   "cell_type": "code",
   "execution_count": 153,
   "id": "b9f9dd2e",
   "metadata": {},
   "outputs": [
    {
     "name": "stdout",
     "output_type": "stream",
     "text": [
      "+-----+---------+------------------------+\n",
      "|Brand|Money USD|Total Money USD by Brand|\n",
      "+-----+---------+------------------------+\n",
      "| Audi|    14900|                 1912662|\n",
      "| Audi|   361800|                 1912662|\n",
      "| Audi|   350454|                 1912662|\n",
      "| Audi|   237054|                 1912662|\n",
      "| Audi|   215454|                 1912662|\n",
      "| Audi|    68000|                 1912662|\n",
      "| Audi|   235000|                 1912662|\n",
      "| Audi|   430000|                 1912662|\n",
      "|  BMW|    35500|                 1072810|\n",
      "|  BMW|    41900|                 1072810|\n",
      "|  BMW|   115700|                 1072810|\n",
      "|  BMW|    16000|                 1072810|\n",
      "|  BMW|    95000|                 1072810|\n",
      "|  BMW|    12500|                 1072810|\n",
      "|  BMW|    89990|                 1072810|\n",
      "|  BMW|   295920|                 1072810|\n",
      "|  BMW|   162000|                 1072810|\n",
      "|  BMW|    79000|                 1072810|\n",
      "|  BMW|    90000|                 1072810|\n",
      "|  BMW|    24800|                 1072810|\n",
      "+-----+---------+------------------------+\n",
      "only showing top 20 rows\n",
      "\n",
      "+-------------+------------------------+\n",
      "|        Brand|Total Money USD by Brand|\n",
      "+-------------+------------------------+\n",
      "|         Audi|                 1912662|\n",
      "|          BMW|                 1072810|\n",
      "|         Baic|                  312120|\n",
      "|        Chery|                  178200|\n",
      "|    Chevrolet|                10330555|\n",
      "|      Citroën|                 5882183|\n",
      "|           DS|                 1118868|\n",
      "|        Dodge|                 1594620|\n",
      "|         Fiat|                 4184509|\n",
      "|         Ford|                13830047|\n",
      "|        Honda|                 4507882|\n",
      "|      Hyundai|                 2271208|\n",
      "|         Jeep|                 5553326|\n",
      "|          Kia|                  362360|\n",
      "|Mercedes-Benz|                 1343232|\n",
      "|         Mini|                   34500|\n",
      "|   Mitsubishi|                  363959|\n",
      "|       Nissan|                 1900248|\n",
      "|      Peugeot|                 9400690|\n",
      "|      Porsche|                   79900|\n",
      "+-------------+------------------------+\n",
      "only showing top 20 rows\n",
      "\n"
     ]
    }
   ],
   "source": [
    "windowSpec = Window.partitionBy(col(\"Brand\"))\n",
    "\n",
    "AGGandOVERpyspark_argSELECTCol = df_pyspark_argSELECTCol.withColumn(\"Total Money USD by Brand\"\n",
    "                                 ,sum(df_pyspark_argSELECTCol[\"Money USD\"]).over(windowSpec))\n",
    "\n",
    "AGGandOVERpyspark_argSELECTCol = AGGandOVERpyspark_argSELECTCol.select([\"Brand\",\"Money USD\",\"Total Money USD by Brand\"])\n",
    "\n",
    "AGGandOVERpyspark_argSELECTColDIST = AGGandOVERpyspark_argSELECTCol.select([\"Brand\",\"Total Money USD by Brand\"])\n",
    "\n",
    "AGGandOVERpyspark_argSELECTCol.show()\n",
    "AGGandOVERpyspark_argSELECTColDIST.distinct().show()"
   ]
  },
  {
   "cell_type": "code",
   "execution_count": 154,
   "id": "7a0e0cb5",
   "metadata": {},
   "outputs": [
    {
     "name": "stdout",
     "output_type": "stream",
     "text": [
      "+----+--------+-----------------+-------------+\n",
      "|Year|   Money|PreviousYearMoney|NextYearMoney|\n",
      "+----+--------+-----------------+-------------+\n",
      "|1995|   10000|             null|       105300|\n",
      "|1996|  105300|            10000|        16300|\n",
      "|1997|   16300|           105300|        16000|\n",
      "|2000|   16000|            16300|       170100|\n",
      "|2007|  170100|            16000|       297899|\n",
      "|2008|  297899|           170100|       849664|\n",
      "|2009|  849664|           297899|       727740|\n",
      "|2010|  727740|           849664|      3103635|\n",
      "|2011| 3103635|           727740|      2314229|\n",
      "|2012| 2314229|          3103635|      4986467|\n",
      "|2013| 4986467|          2314229|      6312345|\n",
      "|2014| 6312345|          4986467|      5603557|\n",
      "|2015| 5603557|          6312345|      9935214|\n",
      "|2016| 9935214|          5603557|     17585897|\n",
      "|2017|17585897|          9935214|     16708834|\n",
      "|2018|16708834|         17585897|     16898489|\n",
      "|2019|16898489|         16708834|      7126422|\n",
      "|2020| 7126422|         16898489|     10008256|\n",
      "|2021|10008256|          7126422|     10292076|\n",
      "|2022|10292076|         10008256|         null|\n",
      "+----+--------+-----------------+-------------+\n",
      "\n"
     ]
    }
   ],
   "source": [
    "df_pyspark_argSELECTColLAGLEAD =  df_pyspark_argSELECTCol.groupBy(\"Year\").agg(sum(df_pyspark_argSELECTCol[\"Money USD\"])\n",
    "                                     .alias(\"Money\"))\n",
    "df_pyspark_argSELECTColLAGLEAD = df_pyspark_argSELECTColLAGLEAD.select(df_pyspark_argSELECTColLAGLEAD['Year'],\n",
    "                                                                      df_pyspark_argSELECTColLAGLEAD['Money'],\n",
    "                                                                      lag(\"Money\").over(Window.orderBy(\"Year\"))\n",
    "                                                                      .alias(\"PreviousYearMoney\"),\n",
    "                                                                      lead(\"Money\").over(Window.orderBy(\"Year\"))\n",
    "                                                                       .alias(\"NextYearMoney\"))\n",
    "df_pyspark_argSELECTColLAGLEAD.show()"
   ]
  },
  {
   "cell_type": "code",
   "execution_count": 155,
   "id": "d4183748",
   "metadata": {},
   "outputs": [
    {
     "name": "stdout",
     "output_type": "stream",
     "text": [
      "+----------+-------------+----+-----+---------+--------------+----------+---------+\n",
      "|     Brand|        Model|Year|Color|     Gear|      FuelType|Kilometres|Money USD|\n",
      "+----------+-------------+----+-----+---------+--------------+----------+---------+\n",
      "|Volkswagen|       Amarok|2022|White|Automatic|        Diesel|       500|   772146|\n",
      "| Chevrolet|  Trailblazer|2021| Gray|Automatic|        Diesel|     23000|   753294|\n",
      "|    Toyota|Corolla Cross|2022|Black|Automatic|Hybrid/Naphtha|      2000|   674460|\n",
      "|    Toyota|        Hilux|2019|White|Automatic|        Diesel|     64000|   674406|\n",
      "|    Toyota|        Hilux|2019| Gray|Automatic|        Diesel|     52000|   669600|\n",
      "+----------+-------------+----+-----+---------+--------------+----------+---------+\n",
      "\n"
     ]
    }
   ],
   "source": [
    "cte  = df_pyspark_argSELECTCol.select(\"*\").sort(desc(\"Money USD\")).limit(5)\n",
    "cte.show()"
   ]
  },
  {
   "cell_type": "code",
   "execution_count": 156,
   "id": "4a577b90",
   "metadata": {},
   "outputs": [
    {
     "name": "stdout",
     "output_type": "stream",
     "text": [
      "+-------------+-------------+---------+--------------+\n",
      "|        Brand|        Model|Money USD|Money USD TEXT|\n",
      "+-------------+-------------+---------+--------------+\n",
      "|       Toyota|Corolla Cross|   558900|        558900|\n",
      "|         Jeep|      Compass|   585900|        585900|\n",
      "|         Jeep|      Compass|    35500|         35500|\n",
      "|      Citroën|    C4 Cactus|    19000|         19000|\n",
      "|       Toyota|      Corolla|   313200|        313200|\n",
      "|         Jeep|      Compass|    34500|         34500|\n",
      "|          Kia|      Sorento|    25000|         25000|\n",
      "|Mercedes-Benz|      Clase C|    12300|         12300|\n",
      "|          BMW|          220|    35500|         35500|\n",
      "|   Volkswagen|      T-Cross|   367200|        367200|\n",
      "|Mercedes-Benz|      Clase A|    38500|         38500|\n",
      "|Mercedes-Benz|      Clase A|    20500|         20500|\n",
      "|      Renault|      Sandero|   189000|        189000|\n",
      "|   Volkswagen|         Polo|   323460|        323460|\n",
      "|          BMW|      Serie 1|    41900|         41900|\n",
      "|         Ford|     Ecosport|   113400|        113400|\n",
      "|    Chevrolet|  Trailblazer|    38500|         38500|\n",
      "|       Toyota|        Etios|   158760|        158760|\n",
      "|      Renault|         Clio|   110700|        110700|\n",
      "|       Toyota|         RAV4|   222480|        222480|\n",
      "+-------------+-------------+---------+--------------+\n",
      "only showing top 20 rows\n",
      "\n"
     ]
    }
   ],
   "source": [
    "df_pyspark_argSELECTColCAST = df_pyspark_argSELECTCol.withColumn(\"Money USD TEXT\"\n",
    "                                                                 ,df_pyspark_argSELECTCol[\"Money USD\"].cast(\"string\") )\n",
    "df_pyspark_argSELECTColCAST = df_pyspark_argSELECTColCAST.select([\"Brand\",\"Model\",\"Money USD\",\"Money USD TEXT\"])\n",
    "df_pyspark_argSELECTColCAST.show()"
   ]
  },
  {
   "cell_type": "code",
   "execution_count": 157,
   "id": "ef7262bf",
   "metadata": {},
   "outputs": [
    {
     "name": "stdout",
     "output_type": "stream",
     "text": [
      "root\n",
      " |-- Brand: string (nullable = true)\n",
      " |-- Model: string (nullable = true)\n",
      " |-- Year: integer (nullable = true)\n",
      " |-- Color: string (nullable = false)\n",
      " |-- Gear: string (nullable = false)\n",
      " |-- FuelType: string (nullable = false)\n",
      " |-- Kilometres: integer (nullable = true)\n",
      " |-- Money USD: integer (nullable = true)\n",
      "\n"
     ]
    }
   ],
   "source": [
    "df_pyspark_argSELECTCol.printSchema()"
   ]
  },
  {
   "cell_type": "markdown",
   "id": "dd3867da",
   "metadata": {},
   "source": [
    "### df_pyspark_nig"
   ]
  },
  {
   "cell_type": "code",
   "execution_count": 158,
   "id": "464625d8",
   "metadata": {},
   "outputs": [
    {
     "name": "stdout",
     "output_type": "stream",
     "text": [
      "+-------------+----+-------------+----------+----------+--------+---------+--------+--------+-----------------+\n",
      "|        Brand|Year|    Condition|Kilometres|EngineSize|FuelType|     Gear|   Money|BodyType|        Money USD|\n",
      "+-------------+----+-------------+----------+----------+--------+---------+--------+--------+-----------------+\n",
      "|Mercedes-Benz|2013| Foreign Used|    104536|      3500|  Petrol|Automatic|14352000|     SUV|          31574.4|\n",
      "|        Honda|2011| Foreign Used|      3621|      3500|  Petrol|Automatic| 6240000|     SUV|          13728.0|\n",
      "|       Toyota|2007|Nigerian Used|    223493|      3500|  Hybrid|Automatic| 2100000|     SUV|           4620.0|\n",
      "|       Toyota|2003|Nigerian Used|    367531|      4000|  Petrol|Automatic| 2137500|     SUV|           4702.5|\n",
      "|        Lexus|2007| Foreign Used|    104138|      3500|  Petrol|Automatic| 5928000|     SUV|          13041.6|\n",
      "|      Lincoln|2019|Nigerian Used|     35976|      2000|  Petrol|Automatic|17850000|     SUV|          39270.0|\n",
      "|   Land Rover|2008|Nigerian Used|    178780|      4700|  Petrol|Automatic| 3150000|     SUV|           6930.0|\n",
      "|        Lexus|2007|Nigerian Used|    220726|      3500|  Petrol|Automatic| 4680000|     SUV|          10296.0|\n",
      "|        Mazda|2010|Nigerian Used|    322717|      2500|  Petrol|Automatic| 2100000|     SUV|           4620.0|\n",
      "|        Lexus|2008| Foreign Used|    149092|      3500|  Petrol|Automatic| 5145000|     SUV|          11319.0|\n",
      "|      Hyundai|2010|Nigerian Used|    262797|      3800|  Petrol|Automatic| 2677500|     SUV|           5890.5|\n",
      "|       Toyota|2001|Nigerian Used|    119510|      3000|  Petrol|Automatic| 1352000|     SUV|           2974.4|\n",
      "|Mercedes-Benz|2007|Nigerian Used|      1966|        35|  Petrol|Automatic| 5720000|     SUV|          12584.0|\n",
      "|       Toyota|2002| Foreign Used|    125606|      2000|  Petrol|Automatic| 3255000|     SUV|           7161.0|\n",
      "|          Kia|2013|Nigerian Used|    134013|      3800|  Petrol|Automatic| 4410000|     SUV|           9702.0|\n",
      "|        Honda|2003|Nigerian Used|    175567|      3500|  Petrol|Automatic| 1612000|     SUV|           3546.4|\n",
      "|       Nissan|2009|Nigerian Used|    213292|      3500|  Petrol|      CVT| 1575000|     SUV|           3465.0|\n",
      "|        Lexus|2005|Nigerian Used|    196345|      3300|  Petrol|Automatic| 3432000|     SUV|7550.400000000001|\n",
      "|       Toyota|2007|Nigerian Used|    213548|      3500|  Petrol|Automatic| 3328000|     SUV|           7321.6|\n",
      "|       Toyota|2009|Nigerian Used|     94618|      3500|  Petrol|Automatic| 4725000|     SUV|          10395.0|\n",
      "+-------------+----+-------------+----------+----------+--------+---------+--------+--------+-----------------+\n",
      "only showing top 20 rows\n",
      "\n"
     ]
    }
   ],
   "source": [
    "df_pyspark_nig.show()"
   ]
  },
  {
   "cell_type": "code",
   "execution_count": 159,
   "id": "cf93a7b6",
   "metadata": {},
   "outputs": [
    {
     "name": "stdout",
     "output_type": "stream",
     "text": [
      "+-------------+----+----------+--------+---------+-----------------+\n",
      "|        Brand|Year|Kilometres|FuelType|     Gear|        Money USD|\n",
      "+-------------+----+----------+--------+---------+-----------------+\n",
      "|Mercedes-Benz|2013|    104536|  Petrol|Automatic|          31574.4|\n",
      "|        Honda|2011|      3621|  Petrol|Automatic|          13728.0|\n",
      "|       Toyota|2007|    223493|  Hybrid|Automatic|           4620.0|\n",
      "|       Toyota|2003|    367531|  Petrol|Automatic|           4702.5|\n",
      "|        Lexus|2007|    104138|  Petrol|Automatic|          13041.6|\n",
      "|      Lincoln|2019|     35976|  Petrol|Automatic|          39270.0|\n",
      "|   Land Rover|2008|    178780|  Petrol|Automatic|           6930.0|\n",
      "|        Lexus|2007|    220726|  Petrol|Automatic|          10296.0|\n",
      "|        Mazda|2010|    322717|  Petrol|Automatic|           4620.0|\n",
      "|        Lexus|2008|    149092|  Petrol|Automatic|          11319.0|\n",
      "|      Hyundai|2010|    262797|  Petrol|Automatic|           5890.5|\n",
      "|       Toyota|2001|    119510|  Petrol|Automatic|           2974.4|\n",
      "|Mercedes-Benz|2007|      1966|  Petrol|Automatic|          12584.0|\n",
      "|       Toyota|2002|    125606|  Petrol|Automatic|           7161.0|\n",
      "|          Kia|2013|    134013|  Petrol|Automatic|           9702.0|\n",
      "|        Honda|2003|    175567|  Petrol|Automatic|           3546.4|\n",
      "|       Nissan|2009|    213292|  Petrol|      CVT|           3465.0|\n",
      "|        Lexus|2005|    196345|  Petrol|Automatic|7550.400000000001|\n",
      "|       Toyota|2007|    213548|  Petrol|Automatic|           7321.6|\n",
      "|       Toyota|2009|     94618|  Petrol|Automatic|          10395.0|\n",
      "+-------------+----+----------+--------+---------+-----------------+\n",
      "only showing top 20 rows\n",
      "\n"
     ]
    }
   ],
   "source": [
    "df_pyspark_nigSELColumns = df_pyspark_nig.select(\"Brand\",\"Year\",\"Kilometres\",\"FuelType\",\"Gear\",\"Money USD\")\n",
    "\n",
    "df_pyspark_nigSELColumns.show()"
   ]
  },
  {
   "cell_type": "code",
   "execution_count": 160,
   "id": "c5b3777d",
   "metadata": {},
   "outputs": [
    {
     "name": "stdout",
     "output_type": "stream",
     "text": [
      "+----------+----+----------+--------+---------+------------------+\n",
      "|     Brand|Year|Kilometres|FuelType|     Gear|         Money USD|\n",
      "+----------+----+----------+--------+---------+------------------+\n",
      "|     Honda|2001|    201202|  Petrol|Automatic|           1361.25|\n",
      "|     Honda|1997|    289470|  Petrol|Automatic|            1732.5|\n",
      "|    Nissan|2001|    266361|  Petrol|Automatic|            1732.5|\n",
      "|    Nissan|1997|    377755|  Petrol|   Manual|            1848.0|\n",
      "|     Honda|2000|    198095|  Petrol|Automatic|            1848.0|\n",
      "|    Nissan|2001|    318605|  Petrol|Automatic|            1848.0|\n",
      "|    Toyota|1998|    165135|  Petrol|   Manual|            1848.0|\n",
      "|  Infiniti|2002|    109615|  Petrol|Automatic|1963.5000000000002|\n",
      "|    Nissan|2002|    338106|  Petrol|Automatic|            2079.0|\n",
      "|Mitsubishi|2001|    188821|  Petrol|Automatic|            2079.0|\n",
      "|     Honda|2002|    385231|  Petrol|Automatic|            2079.0|\n",
      "|  Infiniti|2003|    195784|  Petrol|Automatic|            2079.0|\n",
      "|Mitsubishi|2005|    159742|  Petrol|Automatic|            2227.5|\n",
      "|    Nissan|2001|    254983|  Petrol|Automatic|            2310.0|\n",
      "|    Nissan|2004|    395355|  Petrol|Automatic|            2310.0|\n",
      "|    Nissan|1997|    201847|  Petrol|Automatic|            2310.0|\n",
      "|    Toyota|2001|     43473|  Petrol|Automatic|            2310.0|\n",
      "|    Nissan|2003|    210314|  Petrol|Automatic|            2310.0|\n",
      "|     Volvo|2005|    125634|  Petrol|Automatic|            2310.0|\n",
      "|Mitsubishi|2008|     70000|  Petrol|Automatic|            2310.0|\n",
      "+----------+----+----------+--------+---------+------------------+\n",
      "only showing top 20 rows\n",
      "\n"
     ]
    }
   ],
   "source": [
    "df_pyspark_nigSELColumnsOrderBy = df_pyspark_nigSELColumns.orderBy(\"Money USD\")\n",
    "df_pyspark_nigSELColumnsOrderBy.show()"
   ]
  },
  {
   "cell_type": "code",
   "execution_count": 161,
   "id": "eb519e79",
   "metadata": {},
   "outputs": [
    {
     "name": "stdout",
     "output_type": "stream",
     "text": [
      "+-------------+----+----------+--------+---------+------------------+\n",
      "|        Brand|Year|Kilometres|FuelType|     Gear|         Money USD|\n",
      "+-------------+----+----------+--------+---------+------------------+\n",
      "|       Toyota|2021|        80|  Petrol|Automatic|          102960.0|\n",
      "|Mercedes-Benz|2008|       650|  Petrol|Automatic|           14872.0|\n",
      "|Mercedes-Benz|2007|      1966|  Petrol|Automatic|           12584.0|\n",
      "|        Honda|2011|      3621|  Petrol|Automatic|           13728.0|\n",
      "|   Land Rover|2011|      7842|  Petrol|Automatic|           15015.0|\n",
      "|       Toyota|2017|      8383|  Petrol|Automatic|           76230.0|\n",
      "|   Land Rover|2018|      8711|  Petrol|Automatic|           86625.0|\n",
      "|Mercedes-Benz|2011|      9388|  Petrol|Automatic|           11550.0|\n",
      "|       Toyota|2019|     10427|  Petrol|Automatic|           66990.0|\n",
      "|       Toyota|2005|     10680|  Petrol|Automatic|            4620.0|\n",
      "|       Toyota|2009|     11582|  Petrol|      AMT|            9240.0|\n",
      "|        Volvo|2008|     12074|  Petrol|Automatic| 7550.400000000001|\n",
      "|       Toyota|2008|     12500|  Petrol|Automatic|            6468.0|\n",
      "|         Ford|2008|     12500|  Petrol|Automatic|            3217.5|\n",
      "|       Toyota|2011|     12683|  Petrol|Automatic|31185.000000000004|\n",
      "|       Toyota|2015|     13022|  Petrol|Automatic|16016.000000000002|\n",
      "|Mercedes-Benz|2006|     13571|  Petrol|Automatic| 8236.800000000001|\n",
      "|       Toyota|2020|     13668|  Petrol|Automatic|           87780.0|\n",
      "|         Ford|2018|     14405|  Petrol|Automatic|           40425.0|\n",
      "|       Toyota|2016|     16548|  Petrol|Automatic|           27456.0|\n",
      "+-------------+----+----------+--------+---------+------------------+\n",
      "only showing top 20 rows\n",
      "\n"
     ]
    }
   ],
   "source": [
    "df_pyspark_nigSELColumnsOrderBy = df_pyspark_nigSELColumns.orderBy(\"Kilometres\")\n",
    "df_pyspark_nigSELColumnsOrderBy.show()"
   ]
  },
  {
   "cell_type": "code",
   "execution_count": 162,
   "id": "569f533a",
   "metadata": {},
   "outputs": [
    {
     "name": "stdout",
     "output_type": "stream",
     "text": [
      "+-------------+----+----------+--------+---------+------------------+\n",
      "|        Brand|Year|Kilometres|FuelType|     Gear|         Money USD|\n",
      "+-------------+----+----------+--------+---------+------------------+\n",
      "|Mercedes-Benz|2020|     20106|  Petrol|Automatic|129360.00000000001|\n",
      "|Mercedes-Benz|2018|     56263|  Petrol|Automatic|          114400.0|\n",
      "|         Audi|2019|     24577|  Petrol|Automatic|          108570.0|\n",
      "|       Toyota|2021|        80|  Petrol|Automatic|          102960.0|\n",
      "|       Toyota|2018|     64098|  Petrol|Automatic|           99000.0|\n",
      "|       Toyota|2020|     57656|  Petrol|Automatic|           94050.0|\n",
      "|   Land Rover|2018|     59656|  Diesel|Automatic|           92400.0|\n",
      "|        Lexus|2016|    107355|  Petrol|Automatic|           92400.0|\n",
      "|       Toyota|2020|     13668|  Petrol|Automatic|           87780.0|\n",
      "|   Land Rover|2018|      8711|  Petrol|Automatic|           86625.0|\n",
      "|         Jeep|2018|     56222|  Petrol|Automatic|           82368.0|\n",
      "|   Land Rover|2016|    102429|  Petrol|Automatic|           80850.0|\n",
      "|   Land Rover|2018|     30092|  Diesel|Automatic|           80850.0|\n",
      "|       Toyota|2017|      8383|  Petrol|Automatic|           76230.0|\n",
      "|Mercedes-Benz|2017|     33853|  Petrol|Automatic|           73216.0|\n",
      "|   Land Rover|2017|     87589|  Petrol|Automatic|           71610.0|\n",
      "|       Toyota|2019|     10427|  Petrol|Automatic|           66990.0|\n",
      "|        Lexus|2017|     59838|  Petrol|Automatic|           60060.0|\n",
      "|        Lexus|2017|     41905|  Petrol|Automatic|           59488.0|\n",
      "|       Toyota|2010|     17429|  Petrol|   Manual|           57750.0|\n",
      "+-------------+----+----------+--------+---------+------------------+\n",
      "only showing top 20 rows\n",
      "\n"
     ]
    }
   ],
   "source": [
    "df_pyspark_nigSELColumnsOrderBy = df_pyspark_nigSELColumns.orderBy(desc(\"Money USD\"))\n",
    "df_pyspark_nigSELColumnsOrderBy.show()"
   ]
  },
  {
   "cell_type": "code",
   "execution_count": 163,
   "id": "a0207495",
   "metadata": {},
   "outputs": [
    {
     "name": "stdout",
     "output_type": "stream",
     "text": [
      "+----------+----+----------+--------+---------+------------------+\n",
      "|     Brand|Year|Kilometres|FuelType|     Gear|         Money USD|\n",
      "+----------+----+----------+--------+---------+------------------+\n",
      "|    Toyota|2004|   2671736|  Petrol|Automatic|10982.400000000001|\n",
      "|     Lexus|1999|   2254489|  Petrol|Automatic|            3465.0|\n",
      "|   Hyundai|2012|   1580052|  Petrol|Automatic|            5082.0|\n",
      "|     Lexus|2009|   1530065|  Petrol|Automatic|10524.800000000001|\n",
      "|      Ford|2012|   1284898|  Petrol|Automatic|           11550.0|\n",
      "|Land Rover|2006|    613630|  Petrol|Automatic|           11440.0|\n",
      "|     Volvo|2004|    567302|  Petrol|Automatic|            4158.0|\n",
      "|     Honda|2009|    511741|  Petrol|Automatic|           10395.0|\n",
      "|     Lexus|2000|    485206|  Petrol|Automatic|            3696.0|\n",
      "|    Nissan|2005|    468578|  Petrol|Automatic|            3696.0|\n",
      "|      Ford|2007|    467397|  Petrol|Automatic|            6237.0|\n",
      "|      Ford|2010|    463172|  Petrol|Automatic|            6237.0|\n",
      "|    Toyota|2004|    455552|  Petrol|Automatic|            4576.0|\n",
      "|     Acura|2009|    429408|  Petrol|Automatic|            5775.0|\n",
      "|      Opel|2000|    419605|  Petrol|Automatic|            2772.0|\n",
      "|Land Rover|2008|    418613|  Petrol|Automatic|           11550.0|\n",
      "|    Toyota|1997|    410470|  Petrol|Automatic|            3234.0|\n",
      "|     Honda|2007|    405706|  Petrol|Automatic|            7150.0|\n",
      "|     Honda|2003|    404395|  Petrol|Automatic|            3660.8|\n",
      "|     Lexus|1999|    404250|  Petrol|Automatic|            4576.0|\n",
      "+----------+----+----------+--------+---------+------------------+\n",
      "only showing top 20 rows\n",
      "\n"
     ]
    }
   ],
   "source": [
    "df_pyspark_nigSELColumnsOrderBy = df_pyspark_nigSELColumns.orderBy(desc(\"Kilometres\"))\n",
    "df_pyspark_nigSELColumnsOrderBy.show()"
   ]
  },
  {
   "cell_type": "code",
   "execution_count": 164,
   "id": "86365d19",
   "metadata": {},
   "outputs": [
    {
     "name": "stdout",
     "output_type": "stream",
     "text": [
      "+-------------+----+----------+--------+---------+------------------+\n",
      "|        Brand|Year|Kilometres|FuelType|     Gear|         Money USD|\n",
      "+-------------+----+----------+--------+---------+------------------+\n",
      "|Mercedes-Benz|2020|     20106|  Petrol|Automatic|129360.00000000001|\n",
      "|Mercedes-Benz|2018|     56263|  Petrol|Automatic|          114400.0|\n",
      "|         Audi|2019|     24577|  Petrol|Automatic|          108570.0|\n",
      "|       Toyota|2021|        80|  Petrol|Automatic|          102960.0|\n",
      "|       Toyota|2018|     64098|  Petrol|Automatic|           99000.0|\n",
      "|       Toyota|2020|     57656|  Petrol|Automatic|           94050.0|\n",
      "|   Land Rover|2018|     59656|  Diesel|Automatic|           92400.0|\n",
      "|        Lexus|2016|    107355|  Petrol|Automatic|           92400.0|\n",
      "|       Toyota|2020|     13668|  Petrol|Automatic|           87780.0|\n",
      "|   Land Rover|2018|      8711|  Petrol|Automatic|           86625.0|\n",
      "|         Jeep|2018|     56222|  Petrol|Automatic|           82368.0|\n",
      "|   Land Rover|2016|    102429|  Petrol|Automatic|           80850.0|\n",
      "|   Land Rover|2018|     30092|  Diesel|Automatic|           80850.0|\n",
      "|       Toyota|2017|      8383|  Petrol|Automatic|           76230.0|\n",
      "|Mercedes-Benz|2017|     33853|  Petrol|Automatic|           73216.0|\n",
      "|   Land Rover|2017|     87589|  Petrol|Automatic|           71610.0|\n",
      "|       Toyota|2019|     10427|  Petrol|Automatic|           66990.0|\n",
      "|        Lexus|2017|     59838|  Petrol|Automatic|           60060.0|\n",
      "|        Lexus|2017|     41905|  Petrol|Automatic|           59488.0|\n",
      "|       Toyota|2010|     17429|  Petrol|   Manual|           57750.0|\n",
      "|       Toyota|2008|    105681|  Petrol|Automatic|           57200.0|\n",
      "|       Toyota|2014|     40470|  Petrol|Automatic|           57200.0|\n",
      "|       Toyota|2013|     79393|  Petrol|Automatic|           57200.0|\n",
      "|   Land Rover|2014|     56908|  Petrol|Automatic|           57200.0|\n",
      "|        Lexus|2017|     68077|  Petrol|Automatic|           57200.0|\n",
      "+-------------+----+----------+--------+---------+------------------+\n",
      "\n"
     ]
    }
   ],
   "source": [
    "df_pyspark_nigSELColumnsTOP25 = df_pyspark_nigSELColumns.orderBy(desc('Money USD')).limit(25)\n",
    "df_pyspark_nigSELColumnsTOP25.show(50,50)"
   ]
  },
  {
   "cell_type": "code",
   "execution_count": 165,
   "id": "d456a11c",
   "metadata": {},
   "outputs": [
    {
     "name": "stdout",
     "output_type": "stream",
     "text": [
      "+----------+----+----------+--------+---------+------------------+\n",
      "|     Brand|Year|Kilometres|FuelType|     Gear|         Money USD|\n",
      "+----------+----+----------+--------+---------+------------------+\n",
      "|    Toyota|2004|   2671736|  Petrol|Automatic|10982.400000000001|\n",
      "|     Lexus|1999|   2254489|  Petrol|Automatic|            3465.0|\n",
      "|   Hyundai|2012|   1580052|  Petrol|Automatic|            5082.0|\n",
      "|     Lexus|2009|   1530065|  Petrol|Automatic|10524.800000000001|\n",
      "|      Ford|2012|   1284898|  Petrol|Automatic|           11550.0|\n",
      "|Land Rover|2006|    613630|  Petrol|Automatic|           11440.0|\n",
      "|     Volvo|2004|    567302|  Petrol|Automatic|            4158.0|\n",
      "|     Honda|2009|    511741|  Petrol|Automatic|           10395.0|\n",
      "|     Lexus|2000|    485206|  Petrol|Automatic|            3696.0|\n",
      "|    Nissan|2005|    468578|  Petrol|Automatic|            3696.0|\n",
      "|      Ford|2007|    467397|  Petrol|Automatic|            6237.0|\n",
      "|      Ford|2010|    463172|  Petrol|Automatic|            6237.0|\n",
      "|    Toyota|2004|    455552|  Petrol|Automatic|            4576.0|\n",
      "|     Acura|2009|    429408|  Petrol|Automatic|            5775.0|\n",
      "|      Opel|2000|    419605|  Petrol|Automatic|            2772.0|\n",
      "|Land Rover|2008|    418613|  Petrol|Automatic|           11550.0|\n",
      "|    Toyota|1997|    410470|  Petrol|Automatic|            3234.0|\n",
      "|     Honda|2007|    405706|  Petrol|Automatic|            7150.0|\n",
      "|     Honda|2003|    404395|  Petrol|Automatic|            3660.8|\n",
      "|     Lexus|1999|    404250|  Petrol|Automatic|            4576.0|\n",
      "|     Honda|2004|    401187|  Petrol|Automatic| 6406.400000000001|\n",
      "|      Ford|2004|    398223|  Petrol|Automatic|            6468.0|\n",
      "|     Honda|2004|    397157|  Petrol|Automatic|            5082.0|\n",
      "|    Nissan|2004|    395355|  Petrol|Automatic|            2310.0|\n",
      "|    Toyota|1997|    393678|  Petrol|Automatic|            3217.5|\n",
      "+----------+----+----------+--------+---------+------------------+\n",
      "\n"
     ]
    }
   ],
   "source": [
    "df_pyspark_nigSELColumnsTOP25 = df_pyspark_nigSELColumns.orderBy(desc('Kilometres')).limit(25)\n",
    "df_pyspark_nigSELColumnsTOP25.show(50,50)"
   ]
  },
  {
   "cell_type": "code",
   "execution_count": 166,
   "id": "899e034b",
   "metadata": {},
   "outputs": [
    {
     "name": "stdout",
     "output_type": "stream",
     "text": [
      "+-------------+----+----------+--------+---------+-----------------+\n",
      "|        Brand|Year|Kilometres|FuelType|     Gear|            Money|\n",
      "+-------------+----+----------+--------+---------+-----------------+\n",
      "|Mercedes-Benz|2013|    104536|  Petrol|Automatic|          31574.4|\n",
      "|        Honda|2011|      3621|  Petrol|Automatic|          13728.0|\n",
      "|       Toyota|2007|    223493|  Hybrid|Automatic|           4620.0|\n",
      "|       Toyota|2003|    367531|  Petrol|Automatic|           4702.5|\n",
      "|        Lexus|2007|    104138|  Petrol|Automatic|          13041.6|\n",
      "|      Lincoln|2019|     35976|  Petrol|Automatic|          39270.0|\n",
      "|   Land Rover|2008|    178780|  Petrol|Automatic|           6930.0|\n",
      "|        Lexus|2007|    220726|  Petrol|Automatic|          10296.0|\n",
      "|        Mazda|2010|    322717|  Petrol|Automatic|           4620.0|\n",
      "|        Lexus|2008|    149092|  Petrol|Automatic|          11319.0|\n",
      "|      Hyundai|2010|    262797|  Petrol|Automatic|           5890.5|\n",
      "|       Toyota|2001|    119510|  Petrol|Automatic|           2974.4|\n",
      "|Mercedes-Benz|2007|      1966|  Petrol|Automatic|          12584.0|\n",
      "|       Toyota|2002|    125606|  Petrol|Automatic|           7161.0|\n",
      "|          Kia|2013|    134013|  Petrol|Automatic|           9702.0|\n",
      "|        Honda|2003|    175567|  Petrol|Automatic|           3546.4|\n",
      "|       Nissan|2009|    213292|  Petrol|      CVT|           3465.0|\n",
      "|        Lexus|2005|    196345|  Petrol|Automatic|7550.400000000001|\n",
      "|       Toyota|2007|    213548|  Petrol|Automatic|           7321.6|\n",
      "|       Toyota|2009|     94618|  Petrol|Automatic|          10395.0|\n",
      "+-------------+----+----------+--------+---------+-----------------+\n",
      "only showing top 20 rows\n",
      "\n"
     ]
    }
   ],
   "source": [
    "df_pyspark_nigSELColumnsRenamed = df_pyspark_nigSELColumns.withColumnRenamed(\"Money USD\", 'Money')\n",
    "df_pyspark_nigSELColumnsRenamed.show()"
   ]
  },
  {
   "cell_type": "code",
   "execution_count": 167,
   "id": "3b7d3bb7",
   "metadata": {},
   "outputs": [
    {
     "name": "stdout",
     "output_type": "stream",
     "text": [
      "+-------------+----+----------+--------+---------+------------------+\n",
      "|        Brand|Year|Kilometres|FuelType|     Gear|         Money USD|\n",
      "+-------------+----+----------+--------+---------+------------------+\n",
      "|Mercedes-Benz|2020|     20106|  Petrol|Automatic|129360.00000000001|\n",
      "|Mercedes-Benz|2018|     56263|  Petrol|Automatic|          114400.0|\n",
      "|         Audi|2019|     24577|  Petrol|Automatic|          108570.0|\n",
      "|       Toyota|2021|        80|  Petrol|Automatic|          102960.0|\n",
      "+-------------+----+----------+--------+---------+------------------+\n",
      "\n"
     ]
    }
   ],
   "source": [
    "df_pyspark_nigSELColumnsFIL = df_pyspark_nigSELColumns.filter(df_pyspark_nigSELColumns[\"Money USD\"] > 100000)\n",
    "df_pyspark_nigSELColumnsFIL.show()"
   ]
  },
  {
   "cell_type": "code",
   "execution_count": 168,
   "id": "7f3da3ee",
   "metadata": {},
   "outputs": [
    {
     "name": "stdout",
     "output_type": "stream",
     "text": [
      "+----------+----+----------+--------+---------+------------------+\n",
      "|     Brand|Year|Kilometres|FuelType|     Gear|         Money USD|\n",
      "+----------+----+----------+--------+---------+------------------+\n",
      "|    Toyota|2004|   2671736|  Petrol|Automatic|10982.400000000001|\n",
      "|     Lexus|1999|   2254489|  Petrol|Automatic|            3465.0|\n",
      "|   Hyundai|2012|   1580052|  Petrol|Automatic|            5082.0|\n",
      "|     Lexus|2009|   1530065|  Petrol|Automatic|10524.800000000001|\n",
      "|      Ford|2012|   1284898|  Petrol|Automatic|           11550.0|\n",
      "|Land Rover|2006|    613630|  Petrol|Automatic|           11440.0|\n",
      "|     Volvo|2004|    567302|  Petrol|Automatic|            4158.0|\n",
      "|     Honda|2009|    511741|  Petrol|Automatic|           10395.0|\n",
      "+----------+----+----------+--------+---------+------------------+\n",
      "\n"
     ]
    }
   ],
   "source": [
    "df_pyspark_nigSELColumnsFIL = df_pyspark_nigSELColumns.filter(df_pyspark_nigSELColumns[\"Kilometres\"] > 500000)\n",
    "df_pyspark_nigSELColumnsFIL.orderBy(desc('Kilometres')).show()"
   ]
  },
  {
   "cell_type": "code",
   "execution_count": 169,
   "id": "cb56dbcd",
   "metadata": {},
   "outputs": [
    {
     "name": "stdout",
     "output_type": "stream",
     "text": [
      "+-----+----+----------+--------+---------+------------------+\n",
      "|Brand|Year|Kilometres|FuelType|     Gear|         Money USD|\n",
      "+-----+----+----------+--------+---------+------------------+\n",
      "|  BMW|2016|    111617|  Petrol|Automatic|32340.000000000004|\n",
      "|  BMW|2013|    167237|  Petrol|Automatic|           23100.0|\n",
      "|  BMW|2010|    280474|  Petrol|Automatic|           11550.0|\n",
      "|  BMW|2008|    258273|  Petrol|Automatic|            8778.0|\n",
      "|  BMW|2008|    248853|  Petrol|Automatic|           11550.0|\n",
      "|  BMW|2007|    135253|  Petrol|Automatic|            9900.0|\n",
      "|  BMW|2007|    316930|  Petrol|Automatic|            5313.0|\n",
      "|  BMW|2007|     89287|  Petrol|Automatic|            5775.0|\n",
      "|  BMW|2004|    232322|  Petrol|Automatic|            7392.0|\n",
      "|  BMW|2002|    176466|  Petrol|Automatic|            3712.5|\n",
      "+-----+----+----------+--------+---------+------------------+\n",
      "\n"
     ]
    }
   ],
   "source": [
    "df_pyspark_nigSELColumnsFILTERAND = df_pyspark_nigSELColumns.filter((df_pyspark_nigSELColumns['Brand'] == 'BMW') &\n",
    "                                                                (df_pyspark_nigSELColumns[\"Gear\"] == 'Automatic'))\n",
    "df_pyspark_nigSELColumnsFILTERAND.orderBy(desc('Year')).show()"
   ]
  },
  {
   "cell_type": "code",
   "execution_count": 170,
   "id": "4e73239b",
   "metadata": {},
   "outputs": [
    {
     "name": "stdout",
     "output_type": "stream",
     "text": [
      "+-----+----+----------+--------+---------+------------------+\n",
      "|Brand|Year|Kilometres|FuelType|     Gear|         Money USD|\n",
      "+-----+----+----------+--------+---------+------------------+\n",
      "|  BMW|2016|    111617|  Petrol|Automatic|32340.000000000004|\n",
      "|  BMW|2013|    167237|  Petrol|Automatic|           23100.0|\n",
      "|  BMW|2010|    280474|  Petrol|Automatic|           11550.0|\n",
      "|  BMW|2008|    258273|  Petrol|Automatic|            8778.0|\n",
      "|  BMW|2008|    248853|  Petrol|Automatic|           11550.0|\n",
      "|  BMW|2007|    316930|  Petrol|Automatic|            5313.0|\n",
      "|  BMW|2007|    135253|  Petrol|Automatic|            9900.0|\n",
      "|  BMW|2007|     89287|  Petrol|Automatic|            5775.0|\n",
      "|  BMW|2004|    232322|  Petrol|Automatic|            7392.0|\n",
      "|  BMW|2002|    176466|  Petrol|Automatic|            3712.5|\n",
      "| Opel|2000|    419605|  Petrol|Automatic|            2772.0|\n",
      "| Opel|1999|    216343|  Petrol|   Manual|            3234.0|\n",
      "+-----+----+----------+--------+---------+------------------+\n",
      "\n"
     ]
    }
   ],
   "source": [
    "df_pyspark_nigSELColumnsFILTEROR = df_pyspark_nigSELColumns.filter((df_pyspark_nigSELColumns[\"Brand\"] == \"BMW\")  |\n",
    "                                                                  (df_pyspark_nigSELColumns[\"Brand\"] ==\"Opel\"))\n",
    "df_pyspark_nigSELColumnsFILTEROR.orderBy(desc(\"Year\")).show()"
   ]
  },
  {
   "cell_type": "code",
   "execution_count": 171,
   "id": "24cf09ac",
   "metadata": {},
   "outputs": [
    {
     "name": "stdout",
     "output_type": "stream",
     "text": [
      "+-------+----+----------+--------+---------+---------+\n",
      "|  Brand|Year|Kilometres|FuelType|     Gear|Money USD|\n",
      "+-------+----+----------+--------+---------+---------+\n",
      "|Porsche|2017|     68343|  Petrol|Automatic|  41580.0|\n",
      "|Porsche|2014|     61129|  Petrol|Automatic|  14322.0|\n",
      "|Porsche|2005|    222372|  Petrol|Automatic|  13860.0|\n",
      "|Porsche|2006|    215921|  Petrol|Automatic|  12705.0|\n",
      "|Porsche|2004|    359713|  Petrol|Automatic|   9240.0|\n",
      "|Pontiac|2007|    322537|  Petrol|Automatic|   4851.0|\n",
      "+-------+----+----------+--------+---------+---------+\n",
      "\n"
     ]
    }
   ],
   "source": [
    "df_pyspark_nigSELColumnsFilterWildCard = df_pyspark_nigSELColumns.filter(df_pyspark_nigSELColumns['Brand'].like(\"P%\"))\n",
    "\n",
    "df_pyspark_nigSELColumnsFilterWildCard.orderBy(desc(\"Money USD\")).show()"
   ]
  },
  {
   "cell_type": "code",
   "execution_count": 172,
   "id": "a6b7073c",
   "metadata": {},
   "outputs": [
    {
     "name": "stdout",
     "output_type": "stream",
     "text": [
      "+-------+----+----------+--------+---------+-----------------+\n",
      "|Brand  |Year|Kilometres|FuelType|Gear     |Money USD        |\n",
      "+-------+----+----------+--------+---------+-----------------+\n",
      "|Toyota |2007|223493    |Hybrid  |Automatic|4620.0           |\n",
      "|Toyota |2003|367531    |Petrol  |Automatic|4702.5           |\n",
      "|Mazda  |2010|322717    |Petrol  |Automatic|4620.0           |\n",
      "|Toyota |2001|119510    |Petrol  |Automatic|2974.4           |\n",
      "|Honda  |2003|175567    |Petrol  |Automatic|3546.4           |\n",
      "|Nissan |2009|213292    |Petrol  |CVT      |3465.0           |\n",
      "|Ford   |2001|239647    |Petrol  |Automatic|3003.0           |\n",
      "|Ford   |2002|253810    |Petrol  |Automatic|3234.0           |\n",
      "|Honda  |2002|385231    |Petrol  |Automatic|2079.0           |\n",
      "|Lexus  |2000|222631    |Petrol  |Automatic|3234.0           |\n",
      "|Lexus  |1999|2254489   |Petrol  |Automatic|3465.0           |\n",
      "|Honda  |2009|87829     |Petrol  |Automatic|4620.0           |\n",
      "|Nissan |2001|318605    |Petrol  |Automatic|1848.0           |\n",
      "|Hyundai|2004|180368    |Petrol  |Automatic|2772.0           |\n",
      "|Toyota |2001|174340    |Petrol  |Automatic|4118.400000000001|\n",
      "|Lexus  |1999|53312     |Petrol  |Automatic|3465.0           |\n",
      "|Hyundai|2009|87854     |Petrol  |Automatic|3465.0           |\n",
      "|Nissan |2005|185972    |Petrol  |Automatic|4620.0           |\n",
      "|Honda  |2006|328495    |Petrol  |Automatic|4118.400000000001|\n",
      "|Honda  |2003|194620    |Petrol  |Automatic|3465.0           |\n",
      "+-------+----+----------+--------+---------+-----------------+\n",
      "only showing top 20 rows\n",
      "\n"
     ]
    }
   ],
   "source": [
    "df_pyspark_nigSELColumnsFILBETWEEN = df_pyspark_nigSELColumns.filter(df_pyspark_nigSELColumns[\"Money USD\"].\n",
    "                                                                    between(1000, 5000))\n",
    "df_pyspark_nigSELColumnsFILBETWEEN.show(truncate=False)"
   ]
  },
  {
   "cell_type": "code",
   "execution_count": 173,
   "id": "b823d8bf",
   "metadata": {},
   "outputs": [
    {
     "name": "stdout",
     "output_type": "stream",
     "text": [
      "+-------------+----+----------+--------+---------+-----------------+\n",
      "|        Brand|Year|Kilometres|FuelType|     Gear|        Money USD|\n",
      "+-------------+----+----------+--------+---------+-----------------+\n",
      "|Mercedes-Benz|2013|    104536|  Petrol|Automatic|          31574.4|\n",
      "|        Honda|2011|      3621|  Petrol|Automatic|          13728.0|\n",
      "|        Lexus|2007|    104138|  Petrol|Automatic|          13041.6|\n",
      "|      Lincoln|2019|     35976|  Petrol|Automatic|          39270.0|\n",
      "|   Land Rover|2008|    178780|  Petrol|Automatic|           6930.0|\n",
      "|        Lexus|2007|    220726|  Petrol|Automatic|          10296.0|\n",
      "|        Mazda|2010|    322717|  Petrol|Automatic|           4620.0|\n",
      "|        Lexus|2008|    149092|  Petrol|Automatic|          11319.0|\n",
      "|      Hyundai|2010|    262797|  Petrol|Automatic|           5890.5|\n",
      "|Mercedes-Benz|2007|      1966|  Petrol|Automatic|          12584.0|\n",
      "|          Kia|2013|    134013|  Petrol|Automatic|           9702.0|\n",
      "|        Honda|2003|    175567|  Petrol|Automatic|           3546.4|\n",
      "|       Nissan|2009|    213292|  Petrol|      CVT|           3465.0|\n",
      "|        Lexus|2005|    196345|  Petrol|Automatic|7550.400000000001|\n",
      "|      Porsche|2004|    359713|  Petrol|Automatic|           9240.0|\n",
      "|        Lexus|2008|    175395|  Petrol|Automatic|           8465.6|\n",
      "|Mercedes-Benz|2007|    210226|  Petrol|Automatic|         9348.768|\n",
      "|      Hyundai|2011|    107347|  Petrol|Automatic|           6930.0|\n",
      "|         Ford|2001|    239647|  Petrol|Automatic|           3003.0|\n",
      "|Mercedes-Benz|2009|     96757|  Diesel|Automatic|          10164.0|\n",
      "+-------------+----+----------+--------+---------+-----------------+\n",
      "only showing top 20 rows\n",
      "\n"
     ]
    }
   ],
   "source": [
    "df_pyspark_nigSELColumns.filter(df_pyspark_nigSELColumns['Brand'] != 'Toyota').select(\"*\").show()\n"
   ]
  },
  {
   "cell_type": "code",
   "execution_count": 174,
   "id": "00a44eea",
   "metadata": {},
   "outputs": [
    {
     "name": "stdout",
     "output_type": "stream",
     "text": [
      "+-------------+----+----------+--------+---------+------------------+\n",
      "|        Brand|Year|Kilometres|FuelType|     Gear|         Money USD|\n",
      "+-------------+----+----------+--------+---------+------------------+\n",
      "|Mercedes-Benz|2020|     20106|  Petrol|Automatic|129360.00000000001|\n",
      "|Mercedes-Benz|2018|     56263|  Petrol|Automatic|          114400.0|\n",
      "|         Audi|2019|     24577|  Petrol|Automatic|          108570.0|\n",
      "|Mercedes-Benz|2017|     33853|  Petrol|Automatic|           73216.0|\n",
      "|Mercedes-Benz|2018|    115896|  Petrol|Automatic|           53130.0|\n",
      "|Mercedes-Benz|2015|     38636|  Petrol|Automatic|           43472.0|\n",
      "|      Porsche|2017|     68343|  Petrol|Automatic|           41580.0|\n",
      "|Mercedes-Benz|2015|    120785|  Petrol|Automatic|           41184.0|\n",
      "|Mercedes-Benz|2016|     54116|  Petrol|Automatic|           40425.0|\n",
      "|Mercedes-Benz|2015|    168946|  Petrol|Automatic|           38896.0|\n",
      "|Mercedes-Benz|2015|    225529|  Petrol|Automatic|           36608.0|\n",
      "|Mercedes-Benz|2013|     90604|  Petrol|Automatic|           34320.0|\n",
      "|Mercedes-Benz|2014|     29355|  Petrol|Automatic|           34320.0|\n",
      "|          BMW|2016|    111617|  Petrol|Automatic|32340.000000000004|\n",
      "|Mercedes-Benz|2015|     61515|  Petrol|Automatic|32032.000000000004|\n",
      "|Mercedes-Benz|2015|     39662|  Petrol|Automatic|32032.000000000004|\n",
      "|Mercedes-Benz|2012|     55264|  Petrol|Automatic|           31574.4|\n",
      "|Mercedes-Benz|2013|    104536|  Petrol|Automatic|           31574.4|\n",
      "|Mercedes-Benz|2015|    183487|  Petrol|Automatic|           30030.0|\n",
      "|Mercedes-Benz|2017|     39674|  Petrol|Automatic|           30030.0|\n",
      "|Mercedes-Benz|2012|    165585|  Petrol|Automatic|           29744.0|\n",
      "|Mercedes-Benz|2013|    225174|  Petrol|Automatic|           29744.0|\n",
      "|Mercedes-Benz|2014|    152669|  Petrol|Automatic|           29744.0|\n",
      "|Mercedes-Benz|2011|    129709|  Petrol|Automatic|           29205.0|\n",
      "|Mercedes-Benz|2012|    148637|  Petrol|Automatic|           28600.0|\n",
      "+-------------+----+----------+--------+---------+------------------+\n",
      "only showing top 25 rows\n",
      "\n"
     ]
    }
   ],
   "source": [
    "Brand = [\"Mercedes-Benz\",'BMW','Volkswagen','Porsche','Opel','Audi']\n",
    "df_pyspark_nigSELColumnsBrand = df_pyspark_nigSELColumns.filter(df_pyspark_nigSELColumns['Brand'].isin(Brand))\n",
    "\n",
    "df_pyspark_nigSELColumnsBrand.orderBy(desc(\"Money USD\"),\"Year\").show(25,25)"
   ]
  },
  {
   "cell_type": "code",
   "execution_count": 175,
   "id": "59bb586c",
   "metadata": {},
   "outputs": [
    {
     "name": "stdout",
     "output_type": "stream",
     "text": [
      "+-------------+----+----------+--------+---------+------------------+\n",
      "|        Brand|Year|Kilometres|FuelType|     Gear|         Money USD|\n",
      "+-------------+----+----------+--------+---------+------------------+\n",
      "|Mercedes-Benz|2013|    104536|  Petrol|Automatic|           31574.4|\n",
      "|      Lincoln|2019|     35976|  Petrol|Automatic|           39270.0|\n",
      "|   Land Rover|2008|    178780|  Petrol|Automatic|            6930.0|\n",
      "|        Mazda|2010|    322717|  Petrol|Automatic|            4620.0|\n",
      "|Mercedes-Benz|2007|      1966|  Petrol|Automatic|           12584.0|\n",
      "|          Kia|2013|    134013|  Petrol|Automatic|            9702.0|\n",
      "|       Nissan|2009|    213292|  Petrol|      CVT|            3465.0|\n",
      "|      Porsche|2004|    359713|  Petrol|Automatic|            9240.0|\n",
      "|Mercedes-Benz|2007|    210226|  Petrol|Automatic|          9348.768|\n",
      "|         Ford|2001|    239647|  Petrol|Automatic|            3003.0|\n",
      "|Mercedes-Benz|2009|     96757|  Diesel|Automatic|           10164.0|\n",
      "|         Ford|2011|    143007|  Petrol|Automatic|           11550.0|\n",
      "|Mercedes-Benz|2007|    209466|  Petrol|Automatic|            9933.0|\n",
      "|Mercedes-Benz|2008|     87432|  Petrol|Automatic|           12705.0|\n",
      "|         Ford|2007|    171104|  Petrol|Automatic|            8694.4|\n",
      "|         Ford|2002|    253810|  Petrol|Automatic|            3234.0|\n",
      "|       Nissan|2014|    118154|  Petrol|      CVT|           12705.0|\n",
      "|Mercedes-Benz|2006|    172043|  Petrol|Automatic|            6006.0|\n",
      "|Mercedes-Benz|2012|    144761|  Petrol|Automatic|16016.000000000002|\n",
      "|         Ford|2007|     95227|  Petrol|Automatic|            5720.0|\n",
      "+-------------+----+----------+--------+---------+------------------+\n",
      "only showing top 20 rows\n",
      "\n"
     ]
    }
   ],
   "source": [
    "Brand = [\"Toyota\",\"Lexus\",\"Honda\",\"Hyundai\"]\n",
    "df_pyspark_nigSELColumnsNOTBrand = df_pyspark_nigSELColumns.filter(~df_pyspark_nigSELColumns[\"Brand\"].isin(Brand))\n",
    "df_pyspark_nigSELColumnsNOTBrand.show()"
   ]
  },
  {
   "cell_type": "code",
   "execution_count": 176,
   "id": "59396353",
   "metadata": {},
   "outputs": [
    {
     "name": "stdout",
     "output_type": "stream",
     "text": [
      "+-------------+-----+\n",
      "|        Brand|Count|\n",
      "+-------------+-----+\n",
      "|       Toyota|  216|\n",
      "|        Lexus|  136|\n",
      "|Mercedes-Benz|  103|\n",
      "|         Ford|   80|\n",
      "|        Honda|   65|\n",
      "|       Nissan|   44|\n",
      "|   Land Rover|   39|\n",
      "|      Hyundai|   25|\n",
      "|        Acura|   25|\n",
      "|        Mazda|   21|\n",
      "|     Infiniti|   19|\n",
      "|          Kia|   16|\n",
      "|        Volvo|   10|\n",
      "|          BMW|   10|\n",
      "|   Mitsubishi|    9|\n",
      "|         Jeep|    6|\n",
      "|      Porsche|    5|\n",
      "|          GMC|    3|\n",
      "|   Volkswagen|    3|\n",
      "|      Lincoln|    3|\n",
      "|         Audi|    2|\n",
      "|         Opel|    2|\n",
      "|      Changan|    2|\n",
      "|        Rover|    1|\n",
      "|    Chevrolet|    1|\n",
      "|    SsangYong|    1|\n",
      "|      Renault|    1|\n",
      "|      Pontiac|    1|\n",
      "|       Suzuki|    1|\n",
      "|       Hummer|    1|\n",
      "+-------------+-----+\n",
      "\n"
     ]
    }
   ],
   "source": [
    "df_pyspark_nigSELColumnsCOUNT = df_pyspark_nigSELColumns.groupBy(\"Brand\").agg(count(\"*\")\n",
    "                                                                              .alias(\"Count\")).select(\"Brand\",\"Count\")\n",
    "df_pyspark_nigSELColumnsCOUNT.orderBy(desc(\"Count\")).show(40,40)"
   ]
  },
  {
   "cell_type": "code",
   "execution_count": 177,
   "id": "8b7f46a5",
   "metadata": {},
   "outputs": [
    {
     "name": "stdout",
     "output_type": "stream",
     "text": [
      "+--------+-----+\n",
      "|FuelType|Count|\n",
      "+--------+-----+\n",
      "|  Petrol|  838|\n",
      "|  Hybrid|   10|\n",
      "|  Diesel|    3|\n",
      "+--------+-----+\n",
      "\n"
     ]
    }
   ],
   "source": [
    "df_pyspark_nigSELColumnsCOUNT = df_pyspark_nigSELColumns.groupBy(\"FuelType\").agg(count(\"*\")\n",
    "                                                                              .alias(\"Count\")).select(\"FuelType\",\"Count\")\n",
    "df_pyspark_nigSELColumnsCOUNT.orderBy(desc(\"Count\")).show()"
   ]
  },
  {
   "cell_type": "code",
   "execution_count": 178,
   "id": "5d638d47",
   "metadata": {},
   "outputs": [
    {
     "name": "stdout",
     "output_type": "stream",
     "text": [
      "+---------+-----+\n",
      "|     Gear|Count|\n",
      "+---------+-----+\n",
      "|Automatic|  832|\n",
      "|      CVT|    9|\n",
      "|   Manual|    6|\n",
      "|      AMT|    4|\n",
      "+---------+-----+\n",
      "\n"
     ]
    }
   ],
   "source": [
    "df_pyspark_nigSELColumnsCOUNT = df_pyspark_nigSELColumns.groupBy(\"Gear\").agg(count(\"*\")\n",
    "                                                                              .alias(\"Count\")).select(\"Gear\",\"Count\")\n",
    "df_pyspark_nigSELColumnsCOUNT.orderBy(desc(\"Count\")).show()"
   ]
  },
  {
   "cell_type": "code",
   "execution_count": 179,
   "id": "17deb0f4",
   "metadata": {},
   "outputs": [
    {
     "name": "stdout",
     "output_type": "stream",
     "text": [
      "+-------------+------------------+------------------+------------------+------------------+\n",
      "|        Brand|     AVG Money USD|     Min Money USD|     Max Money USD|   Total Money USD|\n",
      "+-------------+------------------+------------------+------------------+------------------+\n",
      "|   Volkswagen|            3773.0|            3465.0|            4389.0|           11319.0|\n",
      "|     Infiniti| 8800.752631578947|1963.5000000000002|32340.000000000004|          167214.3|\n",
      "|        Lexus| 15237.99588235294|            3003.0|           92400.0|2072367.4399999997|\n",
      "|        Rover|           22407.0|           22407.0|           22407.0|           22407.0|\n",
      "|         Jeep|           25619.0|            3465.0|           82368.0|          153714.0|\n",
      "|   Mitsubishi| 4123.166666666667|            2079.0| 8085.000000000001|           37108.5|\n",
      "|          Kia|        9882.46875|            2772.0|           18480.0|          158119.5|\n",
      "|    Chevrolet|           13860.0|           13860.0|           13860.0|           13860.0|\n",
      "|        Volvo|           5157.24|            2310.0| 7550.400000000001|           51572.4|\n",
      "|      Hyundai|           9526.66|            2541.0|           21736.0|          238166.5|\n",
      "|      Changan|           33412.5|           22275.0|           44550.0|           66825.0|\n",
      "|        Honda| 6292.533076923079|           1361.25|           23100.0| 409014.6500000001|\n",
      "|    SsangYong|            5775.0|            5775.0|            5775.0|            5775.0|\n",
      "|         Audi|           61215.0|           13860.0|          108570.0|          122430.0|\n",
      "|      Pontiac|            4851.0|            4851.0|            4851.0|            4851.0|\n",
      "|   Land Rover|22565.399999999998|            3696.0|           92400.0|          880050.6|\n",
      "|Mercedes-Benz|19029.272504854365| 4118.400000000001|129360.00000000001|1960015.0679999997|\n",
      "|      Renault| 8085.000000000001| 8085.000000000001| 8085.000000000001| 8085.000000000001|\n",
      "|      Lincoln|           20482.0|            8778.0|           39270.0|           61446.0|\n",
      "|          BMW|          11941.05|            3712.5|32340.000000000004|          119410.5|\n",
      "+-------------+------------------+------------------+------------------+------------------+\n",
      "only showing top 20 rows\n",
      "\n"
     ]
    }
   ],
   "source": [
    "df_pyspark_nigSELColumnsMinMaxAvgSUM = df_pyspark_nigSELColumns.groupBy(\"Brand\").agg(avg(\"Money USD\").alias(\"AVG Money USD\"),\n",
    "                                                                                    min(\"Money USD\").alias(\"Min Money USD\"),\n",
    "                                                                                    max(\"Money USD\").alias(\"Max Money USD\"),\n",
    "                                                                                    sum(\"Money USD\").alias(\" Total Money USD\"))\n",
    "df_pyspark_nigSELColumnsMinMaxAvgSUM.show()"
   ]
  },
  {
   "cell_type": "code",
   "execution_count": 180,
   "id": "4886e88f",
   "metadata": {},
   "outputs": [
    {
     "name": "stdout",
     "output_type": "stream",
     "text": [
      "+-------------+------------------+--------------+--------------+-----------------+\n",
      "|        Brand|    AVG Kilometres|Min Kilometres|Max Kilometres| Total Kilometres|\n",
      "+-------------+------------------+--------------+--------------+-----------------+\n",
      "|   Volkswagen|185003.33333333334|         90783|        264945|           555010|\n",
      "|     Infiniti| 157520.1052631579|         48902|        286114|          2992882|\n",
      "|        Lexus|189924.92647058822|         16767|       2254489|         25829790|\n",
      "|        Rover|          163834.0|        163834|        163834|           163834|\n",
      "|         Jeep|          128551.0|         51566|        239555|           771306|\n",
      "|   Mitsubishi|203911.11111111112|         70000|        361889|          1835200|\n",
      "|          Kia|        138810.625|         24798|        284462|          2220970|\n",
      "|    Chevrolet|          274542.0|        274542|        274542|           274542|\n",
      "|        Volvo|          225323.1|         12074|        567302|          2253231|\n",
      "|      Hyundai|         205636.56|         43168|       1580052|          5140914|\n",
      "|      Changan|           20853.5|         17688|         24019|            41707|\n",
      "|        Honda|201331.73846153845|          3621|        511741|         13086563|\n",
      "|    SsangYong|          155231.0|        155231|        155231|           155231|\n",
      "|         Audi|           91958.0|         24577|        159339|           183916|\n",
      "|      Pontiac|          322537.0|        322537|        322537|           322537|\n",
      "|   Land Rover|147919.66666666666|          7842|        613630|          5768867|\n",
      "|Mercedes-Benz|146064.85436893205|           650|        380097|         15044680|\n",
      "|      Renault|           60207.0|         60207|         60207|            60207|\n",
      "|      Lincoln|114092.66666666667|         35976|        186615|           342278|\n",
      "|          BMW|          201671.2|         89287|        316930|          2016712|\n",
      "+-------------+------------------+--------------+--------------+-----------------+\n",
      "only showing top 20 rows\n",
      "\n"
     ]
    }
   ],
   "source": [
    "df_pyspark_nigSELColumnsMinMaxAvgSUM = df_pyspark_nigSELColumns.groupBy(\"Brand\").agg(avg(\"Kilometres\").alias(\"AVG Kilometres\"),\n",
    "                                                                                    min(\"Kilometres\").alias(\"Min Kilometres\"),\n",
    "                                                                                    max(\"Kilometres\").alias(\"Max Kilometres\"),\n",
    "                                                                                    sum(\"Kilometres\").alias(\" Total Kilometres\"))\n",
    "df_pyspark_nigSELColumnsMinMaxAvgSUM.show()\n",
    "\n",
    "\n",
    "\n",
    "\n",
    "\n",
    "                                                                                    "
   ]
  },
  {
   "cell_type": "code",
   "execution_count": 181,
   "id": "6d524665",
   "metadata": {},
   "outputs": [
    {
     "name": "stdout",
     "output_type": "stream",
     "text": [
      "+----------+------------------+\n",
      "|     Brand|             Money|\n",
      "+----------+------------------+\n",
      "|      Audi|           61215.0|\n",
      "|   Changan|           33412.5|\n",
      "|      Jeep|           25619.0|\n",
      "|Land Rover|22565.399999999998|\n",
      "|     Rover|           22407.0|\n",
      "|   Lincoln|           20482.0|\n",
      "+----------+------------------+\n",
      "\n"
     ]
    }
   ],
   "source": [
    "df_pyspark_nigSELColumnsAGGHaving = df_pyspark_nigSELColumns.groupBy(\"Brand\").agg(avg(col(\"Money USD\").cast(\"double\"))\n",
    ".alias(\"Money\")).filter(col(\"Money\") > 20000).select(\"Brand\",\"Money\")\n",
    "\n",
    "df_pyspark_nigSELColumnsAGGHaving.orderBy(desc(\"Money\")).show()"
   ]
  },
  {
   "cell_type": "code",
   "execution_count": 182,
   "id": "0ca4ac8d",
   "metadata": {},
   "outputs": [
    {
     "name": "stdout",
     "output_type": "stream",
     "text": [
      "+-------------+\n",
      "|        Brand|\n",
      "+-------------+\n",
      "|   Volkswagen|\n",
      "|     Infiniti|\n",
      "|        Lexus|\n",
      "|        Rover|\n",
      "|         Jeep|\n",
      "|   Mitsubishi|\n",
      "|          Kia|\n",
      "|    Chevrolet|\n",
      "|        Volvo|\n",
      "|      Hyundai|\n",
      "|      Changan|\n",
      "|        Honda|\n",
      "|    SsangYong|\n",
      "|         Audi|\n",
      "|      Pontiac|\n",
      "|   Land Rover|\n",
      "|Mercedes-Benz|\n",
      "|      Renault|\n",
      "|      Lincoln|\n",
      "|          BMW|\n",
      "|       Suzuki|\n",
      "|        Acura|\n",
      "|         Opel|\n",
      "|          GMC|\n",
      "|       Hummer|\n",
      "|      Porsche|\n",
      "|       Toyota|\n",
      "|       Nissan|\n",
      "|        Mazda|\n",
      "|         Ford|\n",
      "+-------------+\n",
      "\n"
     ]
    }
   ],
   "source": [
    "df_pyspark_nigSELColumns.select(\"Brand\").distinct().show(30,25)"
   ]
  },
  {
   "cell_type": "code",
   "execution_count": 183,
   "id": "8d6d1544",
   "metadata": {},
   "outputs": [
    {
     "name": "stdout",
     "output_type": "stream",
     "text": [
      "+-------------+----+----------+--------+---------+-----------------+----------+\n",
      "|        Brand|Year|Kilometres|FuelType|     Gear|        Money USD|Money EURO|\n",
      "+-------------+----+----------+--------+---------+-----------------+----------+\n",
      "|Mercedes-Benz|2013|    104536|  Petrol|Automatic|          31574.4|   28732.7|\n",
      "|        Honda|2011|      3621|  Petrol|Automatic|          13728.0|  12492.48|\n",
      "|       Toyota|2007|    223493|  Hybrid|Automatic|           4620.0|    4204.2|\n",
      "|       Toyota|2003|    367531|  Petrol|Automatic|           4702.5|   4279.28|\n",
      "|        Lexus|2007|    104138|  Petrol|Automatic|          13041.6|  11867.86|\n",
      "|      Lincoln|2019|     35976|  Petrol|Automatic|          39270.0|   35735.7|\n",
      "|   Land Rover|2008|    178780|  Petrol|Automatic|           6930.0|    6306.3|\n",
      "|        Lexus|2007|    220726|  Petrol|Automatic|          10296.0|   9369.36|\n",
      "|        Mazda|2010|    322717|  Petrol|Automatic|           4620.0|    4204.2|\n",
      "|        Lexus|2008|    149092|  Petrol|Automatic|          11319.0|  10300.29|\n",
      "|      Hyundai|2010|    262797|  Petrol|Automatic|           5890.5|   5360.36|\n",
      "|       Toyota|2001|    119510|  Petrol|Automatic|           2974.4|    2706.7|\n",
      "|Mercedes-Benz|2007|      1966|  Petrol|Automatic|          12584.0|  11451.44|\n",
      "|       Toyota|2002|    125606|  Petrol|Automatic|           7161.0|   6516.51|\n",
      "|          Kia|2013|    134013|  Petrol|Automatic|           9702.0|   8828.82|\n",
      "|        Honda|2003|    175567|  Petrol|Automatic|           3546.4|   3227.22|\n",
      "|       Nissan|2009|    213292|  Petrol|      CVT|           3465.0|   3153.15|\n",
      "|        Lexus|2005|    196345|  Petrol|Automatic|7550.400000000001|   6870.86|\n",
      "|       Toyota|2007|    213548|  Petrol|Automatic|           7321.6|   6662.66|\n",
      "|       Toyota|2009|     94618|  Petrol|Automatic|          10395.0|   9459.45|\n",
      "+-------------+----+----------+--------+---------+-----------------+----------+\n",
      "only showing top 20 rows\n",
      "\n"
     ]
    }
   ],
   "source": [
    "df_pyspark_nigSELColumns.withColumn(\"Money EURO\", round(df_pyspark_nigSELColumns['Money USD'] * 0.91,2) ).show()"
   ]
  },
  {
   "cell_type": "code",
   "execution_count": 184,
   "id": "accd7b5b",
   "metadata": {
    "scrolled": true
   },
   "outputs": [
    {
     "name": "stdout",
     "output_type": "stream",
     "text": [
      "+------------------------------+\n",
      "|New Brand                     |\n",
      "+------------------------------+\n",
      "|Mercedes-Benz Petrol Automatic|\n",
      "|Honda Petrol Automatic        |\n",
      "|Toyota Hybrid Automatic       |\n",
      "|Toyota Petrol Automatic       |\n",
      "|Lexus Petrol Automatic        |\n",
      "|Lincoln Petrol Automatic      |\n",
      "|Land Rover Petrol Automatic   |\n",
      "|Lexus Petrol Automatic        |\n",
      "|Mazda Petrol Automatic        |\n",
      "|Lexus Petrol Automatic        |\n",
      "|Hyundai Petrol Automatic      |\n",
      "|Toyota Petrol Automatic       |\n",
      "|Mercedes-Benz Petrol Automatic|\n",
      "|Toyota Petrol Automatic       |\n",
      "|Kia Petrol Automatic          |\n",
      "|Honda Petrol Automatic        |\n",
      "|Nissan Petrol CVT             |\n",
      "|Lexus Petrol Automatic        |\n",
      "|Toyota Petrol Automatic       |\n",
      "|Toyota Petrol Automatic       |\n",
      "+------------------------------+\n",
      "only showing top 20 rows\n",
      "\n"
     ]
    }
   ],
   "source": [
    "df_pyspark_nigSELColumns.select(concat(df_pyspark_nigSELColumns[\"Brand\"], lit(\" \"),\n",
    "                                      df_pyspark_nigSELColumns[\"FuelType\"], lit(\" \"),\n",
    "                                       df_pyspark_nigSELColumns[\"Gear\"]).alias(\"New Brand\")).show(truncate=False)"
   ]
  },
  {
   "cell_type": "markdown",
   "id": "44172020",
   "metadata": {},
   "source": [
    "#### Money"
   ]
  },
  {
   "cell_type": "code",
   "execution_count": 185,
   "id": "20770f0b",
   "metadata": {},
   "outputs": [],
   "source": [
    "Min = df_pyspark_nigSELColumns.agg(min(\"Money USD\")).first()[0]\n",
    "Max  = df_pyspark_nigSELColumns.agg(max(\"Money USD\")).first()[0]"
   ]
  },
  {
   "cell_type": "code",
   "execution_count": 186,
   "id": "1703dc79",
   "metadata": {},
   "outputs": [],
   "source": [
    "MinMoneyUSD = df_pyspark_nigSELColumns.filter(df_pyspark_nigSELColumns['Money USD'] == Min)\n",
    "MaxMoneyUSD = df_pyspark_nigSELColumns.filter(df_pyspark_nigSELColumns['Money USD'] == Max)"
   ]
  },
  {
   "cell_type": "code",
   "execution_count": 187,
   "id": "21d2d716",
   "metadata": {},
   "outputs": [
    {
     "name": "stdout",
     "output_type": "stream",
     "text": [
      "+-------------+----+----------+--------+---------+------------------+\n",
      "|        Brand|Year|Kilometres|FuelType|     Gear|         Money USD|\n",
      "+-------------+----+----------+--------+---------+------------------+\n",
      "|Mercedes-Benz|2020|     20106|  Petrol|Automatic|129360.00000000001|\n",
      "|        Honda|2001|    201202|  Petrol|Automatic|           1361.25|\n",
      "+-------------+----+----------+--------+---------+------------------+\n",
      "\n"
     ]
    }
   ],
   "source": [
    "UnionMaxMinMoneyUSD = MaxMoneyUSD.union(MinMoneyUSD)\n",
    "UnionMaxMinMoneyUSD.show()"
   ]
  },
  {
   "cell_type": "markdown",
   "id": "0f9c9d41",
   "metadata": {},
   "source": [
    "#### Kilometres"
   ]
  },
  {
   "cell_type": "code",
   "execution_count": 188,
   "id": "33689b6d",
   "metadata": {},
   "outputs": [],
   "source": [
    "MinKM = df_pyspark_nigSELColumns.agg(min(\"Kilometres\")).first()[0]\n",
    "MaxKM  = df_pyspark_nigSELColumns.agg(max(\"Kilometres\")).first()[0]"
   ]
  },
  {
   "cell_type": "code",
   "execution_count": 189,
   "id": "ba96ead1",
   "metadata": {},
   "outputs": [],
   "source": [
    "MinKMDF = df_pyspark_nigSELColumns.filter(df_pyspark_nigSELColumns['Kilometres'] == MinKM)\n",
    "MaxKMDF = df_pyspark_nigSELColumns.filter(df_pyspark_nigSELColumns['Kilometres'] == MaxKM)"
   ]
  },
  {
   "cell_type": "code",
   "execution_count": 190,
   "id": "d697ded0",
   "metadata": {},
   "outputs": [
    {
     "name": "stdout",
     "output_type": "stream",
     "text": [
      "+------+----+----------+--------+---------+------------------+\n",
      "| Brand|Year|Kilometres|FuelType|     Gear|         Money USD|\n",
      "+------+----+----------+--------+---------+------------------+\n",
      "|Toyota|2004|   2671736|  Petrol|Automatic|10982.400000000001|\n",
      "|Toyota|2021|        80|  Petrol|Automatic|          102960.0|\n",
      "+------+----+----------+--------+---------+------------------+\n",
      "\n"
     ]
    }
   ],
   "source": [
    "UnionMaxMinKM = MaxKMDF.union(MinKMDF)\n",
    "UnionMaxMinKM.show()"
   ]
  },
  {
   "cell_type": "code",
   "execution_count": 191,
   "id": "ef032f8a",
   "metadata": {},
   "outputs": [
    {
     "name": "stdout",
     "output_type": "stream",
     "text": [
      "+-------------+----+----------+--------+---------+------------------+---+\n",
      "|        Brand|Year|Kilometres|FuelType|     Gear|         Money USD| RN|\n",
      "+-------------+----+----------+--------+---------+------------------+---+\n",
      "|Mercedes-Benz|2020|     20106|  Petrol|Automatic|129360.00000000001|  1|\n",
      "|Mercedes-Benz|2018|     56263|  Petrol|Automatic|          114400.0|  2|\n",
      "|         Audi|2019|     24577|  Petrol|Automatic|          108570.0|  3|\n",
      "|       Toyota|2021|        80|  Petrol|Automatic|          102960.0|  4|\n",
      "|       Toyota|2018|     64098|  Petrol|Automatic|           99000.0|  5|\n",
      "|       Toyota|2020|     57656|  Petrol|Automatic|           94050.0|  6|\n",
      "|   Land Rover|2018|     59656|  Diesel|Automatic|           92400.0|  7|\n",
      "|        Lexus|2016|    107355|  Petrol|Automatic|           92400.0|  8|\n",
      "|       Toyota|2020|     13668|  Petrol|Automatic|           87780.0|  9|\n",
      "|   Land Rover|2018|      8711|  Petrol|Automatic|           86625.0| 10|\n",
      "|         Jeep|2018|     56222|  Petrol|Automatic|           82368.0| 11|\n",
      "|   Land Rover|2016|    102429|  Petrol|Automatic|           80850.0| 12|\n",
      "|   Land Rover|2018|     30092|  Diesel|Automatic|           80850.0| 13|\n",
      "|       Toyota|2017|      8383|  Petrol|Automatic|           76230.0| 14|\n",
      "|Mercedes-Benz|2017|     33853|  Petrol|Automatic|           73216.0| 15|\n",
      "|   Land Rover|2017|     87589|  Petrol|Automatic|           71610.0| 16|\n",
      "|       Toyota|2019|     10427|  Petrol|Automatic|           66990.0| 17|\n",
      "|        Lexus|2017|     59838|  Petrol|Automatic|           60060.0| 18|\n",
      "|        Lexus|2017|     41905|  Petrol|Automatic|           59488.0| 19|\n",
      "|       Toyota|2010|     17429|  Petrol|   Manual|           57750.0| 20|\n",
      "+-------------+----+----------+--------+---------+------------------+---+\n",
      "only showing top 20 rows\n",
      "\n"
     ]
    }
   ],
   "source": [
    "windowSpec = Window.orderBy(col(\"Money USD\").desc())\n",
    "\n",
    "\n",
    "df_pyspark_nigSELColumns.withColumn(\"RN\",row_number().over(windowSpec)).show()\n"
   ]
  },
  {
   "cell_type": "code",
   "execution_count": 192,
   "id": "fea0df31",
   "metadata": {},
   "outputs": [
    {
     "name": "stdout",
     "output_type": "stream",
     "text": [
      "+-------------+----+----------+--------+---------+------------------+---+\n",
      "|        Brand|Year|Kilometres|FuelType|     Gear|         Money USD| RN|\n",
      "+-------------+----+----------+--------+---------+------------------+---+\n",
      "|Mercedes-Benz|2020|     20106|  Petrol|Automatic|129360.00000000001|  1|\n",
      "|Mercedes-Benz|2018|     56263|  Petrol|Automatic|          114400.0|  2|\n",
      "|         Audi|2019|     24577|  Petrol|Automatic|          108570.0|  1|\n",
      "|       Toyota|2021|        80|  Petrol|Automatic|          102960.0|  1|\n",
      "|       Toyota|2018|     64098|  Petrol|Automatic|           99000.0|  2|\n",
      "|       Toyota|2020|     57656|  Petrol|Automatic|           94050.0|  3|\n",
      "|   Land Rover|2018|     59656|  Diesel|Automatic|           92400.0|  1|\n",
      "|        Lexus|2016|    107355|  Petrol|Automatic|           92400.0|  1|\n",
      "|       Toyota|2020|     13668|  Petrol|Automatic|           87780.0|  4|\n",
      "|   Land Rover|2018|      8711|  Petrol|Automatic|           86625.0|  2|\n",
      "|         Jeep|2018|     56222|  Petrol|Automatic|           82368.0|  1|\n",
      "|   Land Rover|2016|    102429|  Petrol|Automatic|           80850.0|  3|\n",
      "|   Land Rover|2018|     30092|  Diesel|Automatic|           80850.0|  4|\n",
      "|       Toyota|2017|      8383|  Petrol|Automatic|           76230.0|  5|\n",
      "|Mercedes-Benz|2017|     33853|  Petrol|Automatic|           73216.0|  3|\n",
      "|   Land Rover|2017|     87589|  Petrol|Automatic|           71610.0|  5|\n",
      "|       Toyota|2019|     10427|  Petrol|Automatic|           66990.0|  6|\n",
      "|        Lexus|2017|     59838|  Petrol|Automatic|           60060.0|  2|\n",
      "|        Lexus|2017|     41905|  Petrol|Automatic|           59488.0|  3|\n",
      "|       Toyota|2010|     17429|  Petrol|   Manual|           57750.0|  7|\n",
      "+-------------+----+----------+--------+---------+------------------+---+\n",
      "only showing top 20 rows\n",
      "\n"
     ]
    }
   ],
   "source": [
    "windowSpec = Window.partitionBy(col(\"Brand\")).orderBy(col(\"Money USD\").desc())\n",
    "df_pyspark_nigSELColumns.withColumn(\"RN\", row_number().over(windowSpec)).orderBy(desc(\"Money USD\")).show()\n",
    "\n",
    "\n"
   ]
  },
  {
   "cell_type": "code",
   "execution_count": 193,
   "id": "720f7fd1",
   "metadata": {},
   "outputs": [
    {
     "name": "stdout",
     "output_type": "stream",
     "text": [
      "+-----+------------------+------------------------+\n",
      "|Brand|         Money USD|Total Money USD By Brand|\n",
      "+-----+------------------+------------------------+\n",
      "|Acura|           20592.0|      217097.98000000004|\n",
      "|Acura|            2541.0|      217097.98000000004|\n",
      "|Acura|           10296.0|      217097.98000000004|\n",
      "|Acura|            2541.0|      217097.98000000004|\n",
      "|Acura|            4950.0|      217097.98000000004|\n",
      "|Acura| 8236.800000000001|      217097.98000000004|\n",
      "|Acura|           11880.0|      217097.98000000004|\n",
      "|Acura|           20790.0|      217097.98000000004|\n",
      "|Acura| 5285.280000000001|      217097.98000000004|\n",
      "|Acura|            6864.0|      217097.98000000004|\n",
      "|Acura| 7854.000000000001|      217097.98000000004|\n",
      "|Acura| 7854.000000000001|      217097.98000000004|\n",
      "|Acura|           24255.0|      217097.98000000004|\n",
      "|Acura|3775.2000000000003|      217097.98000000004|\n",
      "|Acura| 7550.400000000001|      217097.98000000004|\n",
      "|Acura|            9240.0|      217097.98000000004|\n",
      "|Acura|            2772.0|      217097.98000000004|\n",
      "|Acura|3889.6000000000004|      217097.98000000004|\n",
      "|Acura|           11440.0|      217097.98000000004|\n",
      "|Acura|            5082.0|      217097.98000000004|\n",
      "+-----+------------------+------------------------+\n",
      "only showing top 20 rows\n",
      "\n"
     ]
    }
   ],
   "source": [
    "windowSpec = Window.partitionBy(col(\"Brand\"))\n",
    "\n",
    "\n",
    "df_pyspark_nigSELColumns.withColumn(\"Total Money USD By Brand\",\n",
    "                                    sum(df_pyspark_nigSELColumns['Money USD'])\n",
    "                                    .over(windowSpec)).select(\"Brand\", \"Money USD\", \"Total Money USD By Brand\").show()\n"
   ]
  },
  {
   "cell_type": "code",
   "execution_count": 194,
   "id": "7a625cb1",
   "metadata": {},
   "outputs": [
    {
     "name": "stdout",
     "output_type": "stream",
     "text": [
      "+-------------+------------------------+\n",
      "|        Brand|Total Money USD By Brand|\n",
      "+-------------+------------------------+\n",
      "|        Acura|      217097.98000000004|\n",
      "|         Audi|                122430.0|\n",
      "|          BMW|                119410.5|\n",
      "|      Changan|                 66825.0|\n",
      "|    Chevrolet|                 13860.0|\n",
      "|         Ford|                681983.5|\n",
      "|          GMC|                 30630.6|\n",
      "|        Honda|       409014.6500000001|\n",
      "|       Hummer|                 13860.0|\n",
      "|      Hyundai|                238166.5|\n",
      "|     Infiniti|                167214.3|\n",
      "|         Jeep|                153714.0|\n",
      "|          Kia|                158119.5|\n",
      "|   Land Rover|                880050.6|\n",
      "|        Lexus|      2072367.4399999997|\n",
      "|      Lincoln|                 61446.0|\n",
      "|        Mazda|                171448.2|\n",
      "|Mercedes-Benz|      1960015.0679999997|\n",
      "|   Mitsubishi|                 37108.5|\n",
      "|       Nissan|               231919.05|\n",
      "|         Opel|                  6006.0|\n",
      "|      Pontiac|                  4851.0|\n",
      "|      Porsche|                 91707.0|\n",
      "|      Renault|       8085.000000000001|\n",
      "|        Rover|                 22407.0|\n",
      "|    SsangYong|                  5775.0|\n",
      "|       Suzuki|                  4620.0|\n",
      "|       Toyota|      3187113.5999999996|\n",
      "|   Volkswagen|                 11319.0|\n",
      "|        Volvo|                 51572.4|\n",
      "+-------------+------------------------+\n",
      "\n"
     ]
    }
   ],
   "source": [
    "windowSpec = Window.partitionBy(col(\"Brand\"))\n",
    "\n",
    "\n",
    "df_pyspark_nigSELColumnsAGGOVER = df_pyspark_nigSELColumns.withColumn(\"Total Money USD By Brand\",\n",
    "                                    sum(df_pyspark_nigSELColumns['Money USD']).over(windowSpec))\n",
    "\n",
    "df_pyspark_nigSELColumnsAGGOVER.select(\"Brand\",\"Total Money USD By Brand\").distinct().show(35,35)"
   ]
  },
  {
   "cell_type": "code",
   "execution_count": 195,
   "id": "7f3e5565",
   "metadata": {},
   "outputs": [
    {
     "name": "stdout",
     "output_type": "stream",
     "text": [
      "+----+------------------+------------------+------------------+\n",
      "|Year|             Money| PreviousYearMoney|     NextYearMoney|\n",
      "+----+------------------+------------------+------------------+\n",
      "|1997|           12342.0|              null|           4941.75|\n",
      "|1998|           4941.75|           12342.0|           33886.6|\n",
      "|1999|           33886.6|           4941.75|           24486.0|\n",
      "|2000|           24486.0|           33886.6|          82695.25|\n",
      "|2001|          82695.25|           24486.0| 82603.40000000001|\n",
      "|2002| 82603.40000000001|          82695.25|          131927.4|\n",
      "|2003|          131927.4| 82603.40000000001|341031.67999999993|\n",
      "|2004|341031.67999999993|          131927.4|         317945.65|\n",
      "|2005|         317945.65|341031.67999999993|444816.89999999997|\n",
      "|2006|444816.89999999997|         317945.65| 666151.6180000001|\n",
      "|2007| 666151.6180000001|444816.89999999997|         898596.05|\n",
      "|2008|         898596.05| 666151.6180000001| 568498.7000000001|\n",
      "|2009| 568498.7000000001|         898596.05|        1017290.34|\n",
      "|2010|        1017290.34| 568498.7000000001|          785371.4|\n",
      "|2011|          785371.4|        1017290.34| 702087.1000000001|\n",
      "|2012| 702087.1000000001|          785371.4| 833443.0499999999|\n",
      "|2013| 833443.0499999999| 702087.1000000001|          895361.5|\n",
      "|2014|          895361.5| 833443.0499999999|          879362.0|\n",
      "|2015|          879362.0|          895361.5|          386463.0|\n",
      "|2016|          386463.0|          879362.0|          595034.0|\n",
      "|2017|          595034.0|          386463.0|          748022.0|\n",
      "|2018|          748022.0|          595034.0|          266805.0|\n",
      "|2019|          266805.0|          748022.0|          378015.0|\n",
      "|2020|          378015.0|          266805.0|          102960.0|\n",
      "|2021|          102960.0|          378015.0|              null|\n",
      "+----+------------------+------------------+------------------+\n",
      "\n"
     ]
    }
   ],
   "source": [
    "df_pyspark_nigSELColumnsLAGLEAD = df_pyspark_nigSELColumns\\\n",
    ".groupBy(\"Year\").agg(sum(df_pyspark_nigSELColumns[\"Money USD\"]).alias(\"Money\"))\n",
    "\n",
    "df_pyspark_nigSELColumnsLAGLEAD.select(\"Year\",\"Money\",\n",
    "                                       lag(\"Money\").over(Window.orderBy(\"Year\")).alias(\"PreviousYearMoney\"),\n",
    "                                      lead(\"Money\").over(Window.orderBy(\"Year\")).alias(\"NextYearMoney\")).show(25,25)\n"
   ]
  },
  {
   "cell_type": "code",
   "execution_count": 196,
   "id": "69b110c9",
   "metadata": {},
   "outputs": [
    {
     "name": "stdout",
     "output_type": "stream",
     "text": [
      "+-------------+----+----------+--------+---------+------------------+\n",
      "|        Brand|Year|Kilometres|FuelType|     Gear|         Money USD|\n",
      "+-------------+----+----------+--------+---------+------------------+\n",
      "|Mercedes-Benz|2020|     20106|  Petrol|Automatic|129360.00000000001|\n",
      "|Mercedes-Benz|2018|     56263|  Petrol|Automatic|          114400.0|\n",
      "|         Audi|2019|     24577|  Petrol|Automatic|          108570.0|\n",
      "|       Toyota|2021|        80|  Petrol|Automatic|          102960.0|\n",
      "|       Toyota|2018|     64098|  Petrol|Automatic|           99000.0|\n",
      "|       Toyota|2020|     57656|  Petrol|Automatic|           94050.0|\n",
      "|   Land Rover|2018|     59656|  Diesel|Automatic|           92400.0|\n",
      "|        Lexus|2016|    107355|  Petrol|Automatic|           92400.0|\n",
      "|       Toyota|2020|     13668|  Petrol|Automatic|           87780.0|\n",
      "|   Land Rover|2018|      8711|  Petrol|Automatic|           86625.0|\n",
      "+-------------+----+----------+--------+---------+------------------+\n",
      "\n"
     ]
    }
   ],
   "source": [
    "cte = df_pyspark_nigSELColumns.select(\"*\").sort(desc(\"Money USD\")).limit(10)\n",
    "cte.show()"
   ]
  },
  {
   "cell_type": "code",
   "execution_count": 197,
   "id": "eff0a907",
   "metadata": {},
   "outputs": [
    {
     "name": "stdout",
     "output_type": "stream",
     "text": [
      "+-------------+-----------------+-----------------+\n",
      "|        Brand|        Money USD|   Money USD text|\n",
      "+-------------+-----------------+-----------------+\n",
      "|Mercedes-Benz|          31574.4|          31574.4|\n",
      "|        Honda|          13728.0|          13728.0|\n",
      "|       Toyota|           4620.0|           4620.0|\n",
      "|       Toyota|           4702.5|           4702.5|\n",
      "|        Lexus|          13041.6|          13041.6|\n",
      "|      Lincoln|          39270.0|          39270.0|\n",
      "|   Land Rover|           6930.0|           6930.0|\n",
      "|        Lexus|          10296.0|          10296.0|\n",
      "|        Mazda|           4620.0|           4620.0|\n",
      "|        Lexus|          11319.0|          11319.0|\n",
      "|      Hyundai|           5890.5|           5890.5|\n",
      "|       Toyota|           2974.4|           2974.4|\n",
      "|Mercedes-Benz|          12584.0|          12584.0|\n",
      "|       Toyota|           7161.0|           7161.0|\n",
      "|          Kia|           9702.0|           9702.0|\n",
      "|        Honda|           3546.4|           3546.4|\n",
      "|       Nissan|           3465.0|           3465.0|\n",
      "|        Lexus|7550.400000000001|7550.400000000001|\n",
      "|       Toyota|           7321.6|           7321.6|\n",
      "|       Toyota|          10395.0|          10395.0|\n",
      "+-------------+-----------------+-----------------+\n",
      "only showing top 20 rows\n",
      "\n"
     ]
    }
   ],
   "source": [
    "df_pyspark_nigSELColumns.withColumn(\"Money USD text\", df_pyspark_nigSELColumns['Money USD'].cast(\"string\"))\\\n",
    ".select(\"Brand\",\"Money USD\",\"Money USD text\").show()"
   ]
  },
  {
   "cell_type": "code",
   "execution_count": 198,
   "id": "c8ee5c1d",
   "metadata": {},
   "outputs": [
    {
     "name": "stdout",
     "output_type": "stream",
     "text": [
      "+-------------+----+----------+--------+---------+-----------------+\n",
      "|        Brand|Year|Kilometres|FuelType|     Gear|        Money USD|\n",
      "+-------------+----+----------+--------+---------+-----------------+\n",
      "|Mercedes-Benz|2013|    104536|  Petrol|Automatic|          31574.4|\n",
      "|        Honda|2011|      3621|  Petrol|Automatic|          13728.0|\n",
      "|       Toyota|2007|    223493|  Hybrid|Automatic|           4620.0|\n",
      "|       Toyota|2003|    367531|  Petrol|Automatic|           4702.5|\n",
      "|        Lexus|2007|    104138|  Petrol|Automatic|          13041.6|\n",
      "|      Lincoln|2019|     35976|  Petrol|Automatic|          39270.0|\n",
      "|   Land Rover|2008|    178780|  Petrol|Automatic|           6930.0|\n",
      "|        Lexus|2007|    220726|  Petrol|Automatic|          10296.0|\n",
      "|        Mazda|2010|    322717|  Petrol|Automatic|           4620.0|\n",
      "|        Lexus|2008|    149092|  Petrol|Automatic|          11319.0|\n",
      "|      Hyundai|2010|    262797|  Petrol|Automatic|           5890.5|\n",
      "|       Toyota|2001|    119510|  Petrol|Automatic|           2974.4|\n",
      "|Mercedes-Benz|2007|      1966|  Petrol|Automatic|          12584.0|\n",
      "|       Toyota|2002|    125606|  Petrol|Automatic|           7161.0|\n",
      "|          Kia|2013|    134013|  Petrol|Automatic|           9702.0|\n",
      "|        Honda|2003|    175567|  Petrol|Automatic|           3546.4|\n",
      "|       Nissan|2009|    213292|  Petrol|      CVT|           3465.0|\n",
      "|        Lexus|2005|    196345|  Petrol|Automatic|7550.400000000001|\n",
      "|       Toyota|2007|    213548|  Petrol|Automatic|           7321.6|\n",
      "|       Toyota|2009|     94618|  Petrol|Automatic|          10395.0|\n",
      "+-------------+----+----------+--------+---------+-----------------+\n",
      "only showing top 20 rows\n",
      "\n"
     ]
    }
   ],
   "source": [
    "df_pyspark_nigSELColumns.show()"
   ]
  },
  {
   "cell_type": "code",
   "execution_count": 199,
   "id": "eaab8a25",
   "metadata": {},
   "outputs": [
    {
     "name": "stdout",
     "output_type": "stream",
     "text": [
      "root\n",
      " |-- Brand: string (nullable = true)\n",
      " |-- Year: integer (nullable = true)\n",
      " |-- Kilometres: integer (nullable = true)\n",
      " |-- FuelType: string (nullable = true)\n",
      " |-- Gear: string (nullable = true)\n",
      " |-- Money USD: double (nullable = true)\n",
      "\n"
     ]
    }
   ],
   "source": [
    "df_pyspark_nigSELColumns.printSchema()"
   ]
  },
  {
   "cell_type": "markdown",
   "id": "2e2551e1",
   "metadata": {},
   "source": [
    "### df_pyspark_pol"
   ]
  },
  {
   "cell_type": "code",
   "execution_count": 200,
   "id": "4225816c",
   "metadata": {},
   "outputs": [
    {
     "name": "stdout",
     "output_type": "stream",
     "text": [
      "+-----+-----+--------------+----+----------+----------+--------+---------------+-------------------+-----+\n",
      "|Brand|Model|GenerationName|Year|Kilometers|EngineSize|FuelType|           City|           Province|Money|\n",
      "+-----+-----+--------------+----+----------+----------+--------+---------------+-------------------+-----+\n",
      "| Opel|Combo|    Gen-d-2011|2015|    139568|      1248|  Diesel|          Janki|        Mazowieckie|35900|\n",
      "| Opel|Combo|    Gen-d-2011|2018|     31991|      1499|  Diesel|       Katowice|            Śląskie|78501|\n",
      "| Opel|Combo|    Gen-d-2011|2015|    278437|      1598|  Diesel|          Brzeg|           Opolskie|27000|\n",
      "| Opel|Combo|    Gen-d-2011|2016|     47600|      1248|  Diesel|      Korfantów|           Opolskie|30800|\n",
      "| Opel|Combo|    Gen-d-2011|2014|    103000|      1400|     CNG|Tarnowskie Góry|            Śląskie|35900|\n",
      "| Opel|Combo|    Gen-d-2011|2017|    121203|      1598|  Diesel|       Warszawa|        Mazowieckie|51900|\n",
      "| Opel|Combo|    Gen-d-2011|2017|    119965|      1248|  Diesel|        Wrocław|       Dolnośląskie|44700|\n",
      "| Opel|Combo|    Gen-d-2011|2016|    201658|      1248|  Diesel|         Lublin|          Lubelskie|29000|\n",
      "| Opel|Combo|    Gen-d-2011|2014|    178666|      1598|  Diesel|         Złotów|      Wielkopolskie|28900|\n",
      "| Opel|Combo|    Gen-d-2011|2015|    113000|      1248|  Diesel|       Strzyżew|        Mazowieckie|34900|\n",
      "| Opel|Combo|    Gen-d-2011|2012|    237000|      1598|  Diesel|         Elbląg|Warmińsko-mazurskie|24800|\n",
      "| Opel|Combo|    Gen-d-2011|2017|    137000|      1248|  Diesel|       Warszawa|        Mazowieckie|39900|\n",
      "| Opel|Combo|    Gen-d-2011|2016|    154000|      1248|  Diesel|      Sosnowiec|            Śląskie|35900|\n",
      "| Opel|Combo|    Gen-d-2011|2017|     59339|      1248|  Diesel|        Wrocław|       Dolnośląskie|55300|\n",
      "| Opel|Combo|    Gen-d-2011|2016|    137445|      1598|  Diesel|          Opole|           Opolskie|34700|\n",
      "| Opel|Combo|    Gen-d-2011|2016|    141859|      1248|  Diesel|       Katowice|            Śląskie|39900|\n",
      "| Opel|Combo|    Gen-d-2011|2012|    195000|      1598|  Diesel|          Radom|        Mazowieckie|25900|\n",
      "| Opel|Combo|    Gen-d-2011|2015|    180000|      1598|  Diesel|       Chmieleń|       Dolnośląskie|32900|\n",
      "| Opel|Combo|    Gen-d-2011|2018|    107515|      1499|  Diesel|      Piaseczno|        Mazowieckie|62000|\n",
      "| Opel|Combo|    Gen-d-2011|2017|    149000|      1598|  Diesel|  Góra Kalwaria|        Mazowieckie|39852|\n",
      "+-----+-----+--------------+----+----------+----------+--------+---------------+-------------------+-----+\n",
      "only showing top 20 rows\n",
      "\n"
     ]
    }
   ],
   "source": [
    "df_pyspark_pol.show()"
   ]
  },
  {
   "cell_type": "code",
   "execution_count": 201,
   "id": "4afe1814",
   "metadata": {},
   "outputs": [],
   "source": [
    "df_pyspark_polSELECTColumns = df_pyspark_pol.select(\"Brand\",\"Model\",\"Year\",\"Kilometers\",'FuelType','Province','Money')"
   ]
  },
  {
   "cell_type": "code",
   "execution_count": 202,
   "id": "8704429e",
   "metadata": {},
   "outputs": [
    {
     "name": "stdout",
     "output_type": "stream",
     "text": [
      "+-----+-----+----+----------+--------+-------------------+-----+\n",
      "|Brand|Model|Year|Kilometers|FuelType|           Province|Money|\n",
      "+-----+-----+----+----------+--------+-------------------+-----+\n",
      "| Opel|Combo|2015|    139568|  Diesel|        Mazowieckie|35900|\n",
      "| Opel|Combo|2018|     31991|  Diesel|            Śląskie|78501|\n",
      "| Opel|Combo|2015|    278437|  Diesel|           Opolskie|27000|\n",
      "| Opel|Combo|2016|     47600|  Diesel|           Opolskie|30800|\n",
      "| Opel|Combo|2014|    103000|     CNG|            Śląskie|35900|\n",
      "| Opel|Combo|2017|    121203|  Diesel|        Mazowieckie|51900|\n",
      "| Opel|Combo|2017|    119965|  Diesel|       Dolnośląskie|44700|\n",
      "| Opel|Combo|2016|    201658|  Diesel|          Lubelskie|29000|\n",
      "| Opel|Combo|2014|    178666|  Diesel|      Wielkopolskie|28900|\n",
      "| Opel|Combo|2015|    113000|  Diesel|        Mazowieckie|34900|\n",
      "| Opel|Combo|2012|    237000|  Diesel|Warmińsko-mazurskie|24800|\n",
      "| Opel|Combo|2017|    137000|  Diesel|        Mazowieckie|39900|\n",
      "| Opel|Combo|2016|    154000|  Diesel|            Śląskie|35900|\n",
      "| Opel|Combo|2017|     59339|  Diesel|       Dolnośląskie|55300|\n",
      "| Opel|Combo|2016|    137445|  Diesel|           Opolskie|34700|\n",
      "| Opel|Combo|2016|    141859|  Diesel|            Śląskie|39900|\n",
      "| Opel|Combo|2012|    195000|  Diesel|        Mazowieckie|25900|\n",
      "| Opel|Combo|2015|    180000|  Diesel|       Dolnośląskie|32900|\n",
      "| Opel|Combo|2018|    107515|  Diesel|        Mazowieckie|62000|\n",
      "| Opel|Combo|2017|    149000|  Diesel|        Mazowieckie|39852|\n",
      "+-----+-----+----+----------+--------+-------------------+-----+\n",
      "only showing top 20 rows\n",
      "\n"
     ]
    }
   ],
   "source": [
    "df_pyspark_polSELECTColumns.show()"
   ]
  },
  {
   "cell_type": "code",
   "execution_count": 203,
   "id": "0c04cdf6",
   "metadata": {},
   "outputs": [
    {
     "name": "stdout",
     "output_type": "stream",
     "text": [
      "+----------+---------+----+----------+--------+-------------------+-----+\n",
      "|     Brand|    Model|Year|Kilometers|FuelType|           Province|Money|\n",
      "+----------+---------+----+----------+--------+-------------------+-----+\n",
      "|Volkswagen|Golf-plus|2007|    300567|Gasoline|     Świętokrzyskie|  500|\n",
      "|    Toyota|     Aygo|2019|     17123|Gasoline|          Pomorskie|  900|\n",
      "|       Bmw|  Seria-3|2004|    260000|  Diesel|Warmińsko-mazurskie|  900|\n",
      "|Volkswagen|     Golf|1999|    190321|Gasoline|            Śląskie| 1000|\n",
      "|Volkswagen|   Passat|1998|    220000|Gasoline|      Wielkopolskie| 1250|\n",
      "|Volkswagen|     Golf|2003|    250000|  Diesel|       Dolnośląskie| 1290|\n",
      "|      Audi|       80|1994|    450000|  Diesel|          Lubelskie| 1450|\n",
      "|      Seat|    Ibiza|2003|    230000|  Diesel|          Pomorskie| 1500|\n",
      "|Volkswagen|     Golf|1999|    280000|Gasoline|            Śląskie| 1500|\n",
      "|   Renault|     Clio|2000|    215000|Gasoline|      Wielkopolskie| 1500|\n",
      "|     Skoda|  Octavia|1999|    217000|Gasoline|           Lubuskie| 1590|\n",
      "|   Renault|     Clio|2002|    276000|Gasoline|        Małopolskie| 1600|\n",
      "|Volkswagen|     Golf|1995|    296153|Gasoline|        Mazowieckie| 1700|\n",
      "|     Skoda|    Fabia|2001|    227154|Gasoline|       Dolnośląskie| 1700|\n",
      "|      Opel|    Corsa|1996|    160000|Gasoline|        Małopolskie| 1700|\n",
      "|     Skoda|  Octavia|1998|    140000|Gasoline|       Dolnośląskie| 1750|\n",
      "|   Renault|     Clio|2002|    293000|  Diesel|      Wielkopolskie| 1750|\n",
      "|    Toyota|  Corolla|2019|     75211|  Hybrid|       Dolnośląskie| 1767|\n",
      "|Volkswagen|     Polo|2000|    236000|  Diesel|       Dolnośląskie| 1790|\n",
      "|      Audi|       A3|2001|    296000|Gasoline|      Wielkopolskie| 1790|\n",
      "+----------+---------+----+----------+--------+-------------------+-----+\n",
      "only showing top 20 rows\n",
      "\n"
     ]
    }
   ],
   "source": [
    "df_pyspark_polSELECTColumns.orderBy(\"Money\").show()"
   ]
  },
  {
   "cell_type": "code",
   "execution_count": 204,
   "id": "8afa5ef3",
   "metadata": {},
   "outputs": [
    {
     "name": "stdout",
     "output_type": "stream",
     "text": [
      "+-------------+---------+----+----------+--------+-------------+-------+\n",
      "|        Brand|    Model|Year|Kilometers|FuelType|     Province|  Money|\n",
      "+-------------+---------+----+----------+--------+-------------+-------+\n",
      "|Mercedes-benz|  S-klasa|2017|       400|Gasoline|  Mazowieckie|2399900|\n",
      "|Mercedes-benz|  S-klasa|2019|     12000|Gasoline|Wielkopolskie|1966770|\n",
      "|Mercedes-benz|  S-klasa|2018|        21|Gasoline|  Mazowieckie|1550000|\n",
      "|Mercedes-benz|   Amg-gt|2019|     28500|Gasoline|Wielkopolskie|1368341|\n",
      "|         Audi|      Rs6|2021|        20|Gasoline|  Mazowieckie|1100000|\n",
      "|Mercedes-benz|   Amg-gt|2020|     16000|Gasoline|    Pomorskie|1100000|\n",
      "|Mercedes-benz|   Amg-gt|2020|     16000|Gasoline|    Pomorskie|1100000|\n",
      "|          Bmw|     X6-m|2022|        20|Gasoline|    Pomorskie|1100000|\n",
      "|Mercedes-benz|   Amg-gt|2021|      6097|Gasoline|Wielkopolskie|1090000|\n",
      "|Mercedes-benz|   Amg-gt|2021|      6097|Gasoline|Wielkopolskie|1090000|\n",
      "|Mercedes-benz|  E-klasa|2021|     13000|Gasoline|Wielkopolskie|1075000|\n",
      "|Mercedes-benz|   Amg-gt|2021|         5|Gasoline|    Pomorskie|1061592|\n",
      "|Mercedes-benz|   Amg-gt|2021|        13|Gasoline| Podkarpackie|1059494|\n",
      "|Mercedes-benz|   Amg-gt|2021|        13|Gasoline|  Małopolskie|1059494|\n",
      "|Mercedes-benz|  S-klasa|2022|         2|Gasoline| Dolnośląskie|1036270|\n",
      "|Mercedes-benz|  S-klasa|2021|        50|Gasoline|      Łódzkie|1000000|\n",
      "|Mercedes-benz|Gls-klasa|2021|     19000|Gasoline|  Mazowieckie|1000000|\n",
      "|        Skoda|  Octavia|2013|    251050|  Diesel|      Śląskie| 999999|\n",
      "|         Opel|    Corsa|2013|    105703|Gasoline|  Mazowieckie| 999999|\n",
      "|Mercedes-benz|  G-klasa|2020|      8000|Gasoline|    Pomorskie| 998000|\n",
      "+-------------+---------+----+----------+--------+-------------+-------+\n",
      "only showing top 20 rows\n",
      "\n"
     ]
    }
   ],
   "source": [
    "df_pyspark_polSELECTColumns.orderBy(desc(\"Money\")).show()"
   ]
  },
  {
   "cell_type": "code",
   "execution_count": 205,
   "id": "69efe1f9",
   "metadata": {},
   "outputs": [
    {
     "name": "stdout",
     "output_type": "stream",
     "text": [
      "+-------------+-------+----+----------+--------+-------------+-------+\n",
      "|        Brand|  Model|Year|Kilometers|FuelType|     Province|  Money|\n",
      "+-------------+-------+----+----------+--------+-------------+-------+\n",
      "|Mercedes-benz|S-klasa|2017|       400|Gasoline|  Mazowieckie|2399900|\n",
      "|Mercedes-benz|S-klasa|2019|     12000|Gasoline|Wielkopolskie|1966770|\n",
      "|Mercedes-benz|S-klasa|2018|        21|Gasoline|  Mazowieckie|1550000|\n",
      "|Mercedes-benz| Amg-gt|2019|     28500|Gasoline|Wielkopolskie|1368341|\n",
      "|          Bmw|   X6-m|2022|        20|Gasoline|    Pomorskie|1100000|\n",
      "|         Audi|    Rs6|2021|        20|Gasoline|  Mazowieckie|1100000|\n",
      "|Mercedes-benz| Amg-gt|2020|     16000|Gasoline|    Pomorskie|1100000|\n",
      "|Mercedes-benz| Amg-gt|2020|     16000|Gasoline|    Pomorskie|1100000|\n",
      "|Mercedes-benz| Amg-gt|2021|      6097|Gasoline|Wielkopolskie|1090000|\n",
      "|Mercedes-benz| Amg-gt|2021|      6097|Gasoline|Wielkopolskie|1090000|\n",
      "|Mercedes-benz|E-klasa|2021|     13000|Gasoline|Wielkopolskie|1075000|\n",
      "|Mercedes-benz| Amg-gt|2021|         5|Gasoline|    Pomorskie|1061592|\n",
      "|Mercedes-benz| Amg-gt|2021|        13|Gasoline|  Małopolskie|1059494|\n",
      "|Mercedes-benz| Amg-gt|2021|        13|Gasoline| Podkarpackie|1059494|\n",
      "|Mercedes-benz|S-klasa|2022|         2|Gasoline| Dolnośląskie|1036270|\n",
      "+-------------+-------+----+----------+--------+-------------+-------+\n",
      "\n"
     ]
    }
   ],
   "source": [
    "df_pyspark_polSELECTColumns.orderBy(desc(\"Money\")).limit(15).show()"
   ]
  },
  {
   "cell_type": "code",
   "execution_count": 206,
   "id": "671b4896",
   "metadata": {},
   "outputs": [
    {
     "name": "stdout",
     "output_type": "stream",
     "text": [
      "+-----+-----+----+----------+--------+-------------------+---------+\n",
      "|Brand|Model|Year|Kilometers|FuelType|        Wojewodztwo|Money PLN|\n",
      "+-----+-----+----+----------+--------+-------------------+---------+\n",
      "| Opel|Combo|2015|    139568|  Diesel|        Mazowieckie|    35900|\n",
      "| Opel|Combo|2018|     31991|  Diesel|            Śląskie|    78501|\n",
      "| Opel|Combo|2015|    278437|  Diesel|           Opolskie|    27000|\n",
      "| Opel|Combo|2016|     47600|  Diesel|           Opolskie|    30800|\n",
      "| Opel|Combo|2014|    103000|     CNG|            Śląskie|    35900|\n",
      "| Opel|Combo|2017|    121203|  Diesel|        Mazowieckie|    51900|\n",
      "| Opel|Combo|2017|    119965|  Diesel|       Dolnośląskie|    44700|\n",
      "| Opel|Combo|2016|    201658|  Diesel|          Lubelskie|    29000|\n",
      "| Opel|Combo|2014|    178666|  Diesel|      Wielkopolskie|    28900|\n",
      "| Opel|Combo|2015|    113000|  Diesel|        Mazowieckie|    34900|\n",
      "| Opel|Combo|2012|    237000|  Diesel|Warmińsko-mazurskie|    24800|\n",
      "| Opel|Combo|2017|    137000|  Diesel|        Mazowieckie|    39900|\n",
      "| Opel|Combo|2016|    154000|  Diesel|            Śląskie|    35900|\n",
      "| Opel|Combo|2017|     59339|  Diesel|       Dolnośląskie|    55300|\n",
      "| Opel|Combo|2016|    137445|  Diesel|           Opolskie|    34700|\n",
      "| Opel|Combo|2016|    141859|  Diesel|            Śląskie|    39900|\n",
      "| Opel|Combo|2012|    195000|  Diesel|        Mazowieckie|    25900|\n",
      "| Opel|Combo|2015|    180000|  Diesel|       Dolnośląskie|    32900|\n",
      "| Opel|Combo|2018|    107515|  Diesel|        Mazowieckie|    62000|\n",
      "| Opel|Combo|2017|    149000|  Diesel|        Mazowieckie|    39852|\n",
      "+-----+-----+----+----------+--------+-------------------+---------+\n",
      "only showing top 20 rows\n",
      "\n"
     ]
    }
   ],
   "source": [
    "df_pyspark_polSELECTColumns.withColumnRenamed(\"Money\",\"Money PLN\")\\\n",
    "                            .withColumnRenamed(\"Province\",'Wojewodztwo').show()"
   ]
  },
  {
   "cell_type": "code",
   "execution_count": 207,
   "id": "40925123",
   "metadata": {},
   "outputs": [
    {
     "name": "stdout",
     "output_type": "stream",
     "text": [
      "+-------------+-------+----+----------+--------+-------------+-------+\n",
      "|        Brand|  Model|Year|Kilometers|FuelType|     Province|  Money|\n",
      "+-------------+-------+----+----------+--------+-------------+-------+\n",
      "|         Audi|    Rs6|2021|        20|Gasoline|  Mazowieckie|1100000|\n",
      "|          Bmw|   X6-m|2022|        20|Gasoline|    Pomorskie|1100000|\n",
      "|Mercedes-benz| Amg-gt|2019|     28500|Gasoline|Wielkopolskie|1368341|\n",
      "|Mercedes-benz| Amg-gt|2021|         5|Gasoline|    Pomorskie|1061592|\n",
      "|Mercedes-benz| Amg-gt|2021|        13|Gasoline| Podkarpackie|1059494|\n",
      "|Mercedes-benz| Amg-gt|2021|        13|Gasoline|  Małopolskie|1059494|\n",
      "|Mercedes-benz| Amg-gt|2020|     16000|Gasoline|    Pomorskie|1100000|\n",
      "|Mercedes-benz| Amg-gt|2021|      6097|Gasoline|Wielkopolskie|1090000|\n",
      "|Mercedes-benz| Amg-gt|2020|     16000|Gasoline|    Pomorskie|1100000|\n",
      "|Mercedes-benz| Amg-gt|2021|      6097|Gasoline|Wielkopolskie|1090000|\n",
      "|Mercedes-benz|E-klasa|2021|     13000|Gasoline|Wielkopolskie|1075000|\n",
      "|Mercedes-benz|S-klasa|2019|     12000|Gasoline|Wielkopolskie|1966770|\n",
      "|Mercedes-benz|S-klasa|2018|        21|Gasoline|  Mazowieckie|1550000|\n",
      "|Mercedes-benz|S-klasa|2017|       400|Gasoline|  Mazowieckie|2399900|\n",
      "|Mercedes-benz|S-klasa|2022|         2|Gasoline| Dolnośląskie|1036270|\n",
      "+-------------+-------+----+----------+--------+-------------+-------+\n",
      "\n"
     ]
    }
   ],
   "source": [
    "df_pyspark_polSELECTColumns.filter(df_pyspark_polSELECTColumns['Money'] > 1000000).show()"
   ]
  },
  {
   "cell_type": "code",
   "execution_count": 208,
   "id": "5073acff",
   "metadata": {},
   "outputs": [
    {
     "name": "stdout",
     "output_type": "stream",
     "text": [
      "+-----+-----+----+----------+--------+-----------+-------+\n",
      "|Brand|Model|Year|Kilometers|FuelType|   Province|  Money|\n",
      "+-----+-----+----+----------+--------+-----------+-------+\n",
      "| Audi|  Rs6|2021|        20|Gasoline|Mazowieckie|1100000|\n",
      "+-----+-----+----+----------+--------+-----------+-------+\n",
      "\n"
     ]
    }
   ],
   "source": [
    "df_pyspark_polSELECTColumns.filter((df_pyspark_polSELECTColumns['Money'] > 1000000)\n",
    "                                   & (df_pyspark_polSELECTColumns['Brand'] ==\"Audi\")).show()"
   ]
  },
  {
   "cell_type": "code",
   "execution_count": 209,
   "id": "19d8aa12",
   "metadata": {},
   "outputs": [
    {
     "name": "stdout",
     "output_type": "stream",
     "text": [
      "+-----+-----+----+----------+--------+-------------------+-----+\n",
      "|Brand|Model|Year|Kilometers|FuelType|           Province|Money|\n",
      "+-----+-----+----+----------+--------+-------------------+-----+\n",
      "| Opel|Corsa|1994|    204881|  Diesel|       Podkarpackie| 2500|\n",
      "| Opel|Corsa|1999|    149657|Gasoline|Warmińsko-mazurskie| 2199|\n",
      "| Opel|Corsa|1996|    160000|Gasoline|        Małopolskie| 1700|\n",
      "| Opel|Corsa|1997|    222496|Gasoline| Zachodniopomorskie| 3500|\n",
      "| Opel|Corsa|1998|     67000|Gasoline|            Śląskie| 6200|\n",
      "| Opel|Corsa|1998|    142800|Gasoline|        Małopolskie| 3300|\n",
      "| Opel|Corsa|1988|    105570|Gasoline|        Mazowieckie| 8700|\n",
      "| Opel|Corsa|1998|    119645|Gasoline|            Łódzkie| 4500|\n",
      "| Opel|Corsa|2000|    126436|Gasoline| Kujawsko-pomorskie| 3999|\n",
      "| Opel|Corsa|1996|    162125|Gasoline|            Śląskie| 3500|\n",
      "| Opel|Corsa|1999|    199000|Gasoline|       Dolnośląskie| 3690|\n",
      "| Opel|Corsa|1997|     70723|Gasoline|        Mazowieckie| 3600|\n",
      "| Opel|Corsa|2000|    166500|Gasoline|        Małopolskie| 3600|\n",
      "| Opel|Corsa|2003|    205000|Gasoline|      Wielkopolskie| 3900|\n",
      "| Opel|Corsa|2002|    209000|Gasoline|            Śląskie| 3900|\n",
      "| Opel|Corsa|2005|    154060|Gasoline|     Świętokrzyskie| 7700|\n",
      "| Opel|Corsa|2005|    207000|Gasoline|     Świętokrzyskie| 8300|\n",
      "| Opel|Corsa|2003|    256000|  Diesel|            Łódzkie| 3500|\n",
      "| Opel|Corsa|2004|    165840|Gasoline|      Wielkopolskie| 6500|\n",
      "| Opel|Corsa|2001|    167000|     LPG|            Śląskie| 4700|\n",
      "+-----+-----+----+----------+--------+-------------------+-----+\n",
      "only showing top 20 rows\n",
      "\n"
     ]
    }
   ],
   "source": [
    "df_pyspark_polSELECTColumns.filter((df_pyspark_polSELECTColumns['Brand'] == \"Opel\")\n",
    "                                   & (df_pyspark_polSELECTColumns['Model'] ==\"Corsa\")).show()"
   ]
  },
  {
   "cell_type": "code",
   "execution_count": 210,
   "id": "65eea99c",
   "metadata": {},
   "outputs": [
    {
     "name": "stdout",
     "output_type": "stream",
     "text": [
      "+-----+-----+----+----------+--------+------------------+------+\n",
      "|Brand|Model|Year|Kilometers|FuelType|          Province| Money|\n",
      "+-----+-----+----+----------+--------+------------------+------+\n",
      "| Audi|   A3|2010|    169500|Gasoline|           Śląskie| 29900|\n",
      "| Audi|   A3|2018|     67990|Gasoline|    Świętokrzyskie|129850|\n",
      "| Audi|   A3|2008|    222248|  Diesel|           Śląskie| 22900|\n",
      "| Audi|   A3|2010|    243000|  Diesel|           Śląskie| 27907|\n",
      "| Audi|   A3|2009|    259658|  Diesel|         Pomorskie| 23900|\n",
      "| Audi|   A3|2008|    306000|  Diesel|       Małopolskie| 26000|\n",
      "| Audi|   A3|2009|    198050|Gasoline|       Małopolskie| 24000|\n",
      "| Audi|   A3|2008|    234000|Gasoline|    Świętokrzyskie| 27900|\n",
      "| Audi|   A3|2004|    215000|Gasoline|           Łódzkie|  9900|\n",
      "| Audi|   A3|2008|    258000|  Diesel|      Dolnośląskie| 30900|\n",
      "| Audi|   A3|2008|    195000|  Diesel|           Łódzkie|  5900|\n",
      "| Audi|   A3|2009|    246000|  Diesel|       Małopolskie| 36900|\n",
      "| Audi|   A3|2009|    154000|Gasoline|       Mazowieckie| 34990|\n",
      "| Audi|   A3|2005|    234300|Gasoline|Zachodniopomorskie| 19600|\n",
      "| Audi|   A3|2011|    135000|Gasoline|           Śląskie| 37900|\n",
      "| Audi|   A3|2008|    192347|  Diesel|Zachodniopomorskie| 32900|\n",
      "| Audi|   A3|2009|    265000|Gasoline|       Małopolskie| 25900|\n",
      "| Audi|   A3|2009|    242000|  Diesel|         Podlaskie| 27999|\n",
      "| Audi|   A3|2009|    250000|  Diesel|     Wielkopolskie| 29000|\n",
      "| Audi|   A3|2003|    194000|Gasoline|     Wielkopolskie|  9900|\n",
      "+-----+-----+----+----------+--------+------------------+------+\n",
      "only showing top 20 rows\n",
      "\n"
     ]
    }
   ],
   "source": [
    "df_pyspark_polSELECTColumns.filter((df_pyspark_polSELECTColumns['Brand'] ==\"BMW\")\n",
    "                                  | (df_pyspark_polSELECTColumns[\"Brand\"]==\"Audi\")).show()"
   ]
  },
  {
   "cell_type": "code",
   "execution_count": 211,
   "id": "2e308c0e",
   "metadata": {},
   "outputs": [
    {
     "name": "stdout",
     "output_type": "stream",
     "text": [
      "+-----+------+----+----------+--------+-------------------+-----+\n",
      "|Brand| Model|Year|Kilometers|FuelType|           Province|Money|\n",
      "+-----+------+----+----------+--------+-------------------+-----+\n",
      "|  Kia|Carens|2006|    242303|  Diesel|           Lubuskie|11500|\n",
      "|  Kia|Carens|2008|    305000|  Diesel|        Mazowieckie|11000|\n",
      "|  Kia|Carens|2009|    152485|Gasoline|          Lubelskie|18000|\n",
      "|  Kia|Carens|2009|    164000|  Diesel|          Pomorskie|17900|\n",
      "|  Kia|Carens|2008|    166000|Gasoline|          Lubelskie|14950|\n",
      "|  Kia|Carens|2008|    161629|Gasoline|        Mazowieckie|16900|\n",
      "|  Kia|Carens|2007|    204594|Gasoline|            Śląskie|13999|\n",
      "|  Kia|Carens|2012|    210923|  Diesel|            Łódzkie|18900|\n",
      "|  Kia|Carens|2009|    201000|  Diesel|      Wielkopolskie|12500|\n",
      "|  Kia|Carens|2007|    270000|Gasoline|            Łódzkie|13900|\n",
      "|  Kia|Carens|2007|    158300|     LPG|        Mazowieckie| 7500|\n",
      "|  Kia|Carens|2007|    160000|Gasoline|            Śląskie|11800|\n",
      "|  Kia|Carens|2011|    188000|  Diesel|            Łódzkie|19900|\n",
      "|  Kia|Carens|2007|    268000|Gasoline|            Śląskie|10900|\n",
      "|  Kia|Carens|2007|    220000|     LPG|      Wielkopolskie|12800|\n",
      "|  Kia|Carens|2008|    420000|  Diesel|Warmińsko-mazurskie| 9500|\n",
      "|  Kia|Carens|2008|    198212|     LPG|Warmińsko-mazurskie|16700|\n",
      "|  Kia|Carens|2007|    201420|  Diesel|        Małopolskie| 8900|\n",
      "|  Kia|Carens|2006|    206000|     LPG|            Śląskie|17900|\n",
      "|  Kia|Carens|2008|    237000|Gasoline| Kujawsko-pomorskie|16900|\n",
      "+-----+------+----+----------+--------+-------------------+-----+\n",
      "only showing top 20 rows\n",
      "\n"
     ]
    }
   ],
   "source": [
    "df_pyspark_polSELECTColumns.filter(df_pyspark_polSELECTColumns['Brand'].like(\"K%\")).show()"
   ]
  },
  {
   "cell_type": "code",
   "execution_count": 212,
   "id": "1c179e6e",
   "metadata": {},
   "outputs": [
    {
     "name": "stdout",
     "output_type": "stream",
     "text": [
      "+-----+------+----+----------+--------+------------------+-----+\n",
      "|Brand| Model|Year|Kilometers|FuelType|          Province|Money|\n",
      "+-----+------+----+----------+--------+------------------+-----+\n",
      "| Opel|Vectra|1998|    240000|     LPG|Kujawsko-pomorskie| 2900|\n",
      "| Opel|Vectra|1999|    310000|Gasoline|       Mazowieckie| 2600|\n",
      "| Opel|Vectra|1999|    292356|  Diesel|         Pomorskie| 3900|\n",
      "| Opel|Vectra|2000|    175000|Gasoline|Kujawsko-pomorskie| 4999|\n",
      "| Opel|Vectra|1998|    401315|     LPG|Kujawsko-pomorskie| 2000|\n",
      "| Opel|Vectra|2000|    200000|     LPG|           Śląskie| 4700|\n",
      "| Opel|Vectra|2001|    255000|Gasoline|       Mazowieckie| 2550|\n",
      "| Opel|Vectra|1996|    120000|Gasoline|      Dolnośląskie| 4000|\n",
      "| Opel|Vectra|1998|    303000|     LPG|     Wielkopolskie| 2350|\n",
      "| Opel|Vectra|2000|    260000|     LPG|         Podlaskie| 3000|\n",
      "| Opel|Vectra|1996|    142000|Gasoline|           Łódzkie| 4400|\n",
      "| Opel|Vectra|2000|    198465|Gasoline|Kujawsko-pomorskie| 3900|\n",
      "| Opel|Vectra|1999|    326492|     LPG|      Dolnośląskie| 4500|\n",
      "| Opel|Vectra|1999|    275162|Gasoline|      Dolnośląskie| 2800|\n",
      "| Opel|Vectra|1998|    200000|     LPG|    Świętokrzyskie| 2999|\n",
      "| Opel|Vectra|1999|    290000|  Diesel|       Mazowieckie| 3300|\n",
      "| Opel|Vectra|1997|    153000|Gasoline|         Lubelskie| 2999|\n",
      "| Opel|Vectra|1998|    152000|Gasoline|           Śląskie| 3500|\n",
      "| Opel|Vectra|2004|    398119|  Diesel|         Lubelskie| 4500|\n",
      "| Opel|Vectra|2005|    375000|  Diesel|       Małopolskie| 3800|\n",
      "| Opel|Vectra|2002|    220000|     LPG|Zachodniopomorskie| 4500|\n",
      "| Opel| Agila|2000|    224600|Gasoline|           Śląskie| 4900|\n",
      "| Opel| Agila|2004|    188000|Gasoline|           Śląskie| 4900|\n",
      "| Opel| Agila|2000|    209221|Gasoline|      Dolnośląskie| 4300|\n",
      "| Opel| Agila|2001|    202781|Gasoline|       Małopolskie| 5000|\n",
      "| Opel| Agila|2000|    178000|Gasoline|     Wielkopolskie| 3500|\n",
      "| Opel| Agila|2004|    238000|Gasoline|           Śląskie| 4100|\n",
      "| Opel| Agila|2004|    226041|     LPG|       Mazowieckie| 3950|\n",
      "| Opel| Agila|2000|    219000|     LPG|           Śląskie| 3750|\n",
      "| Opel| Agila|2002|    202000|Gasoline|       Mazowieckie| 4500|\n",
      "| Opel| Agila|2002|    146000|Gasoline|Kujawsko-pomorskie| 4600|\n",
      "| Opel| Agila|2007|    213654|  Diesel|         Podlaskie| 3699|\n",
      "| Opel| Agila|2000|    175423|Gasoline|       Małopolskie| 3999|\n",
      "| Opel| Astra|1999|    219000|Gasoline|Zachodniopomorskie| 2700|\n",
      "| Opel| Astra|2003|    240000|Gasoline|    Świętokrzyskie| 4500|\n",
      "| Opel| Astra|1998|    235000|Gasoline|     Wielkopolskie| 3700|\n",
      "| Opel| Astra|1999|    241000|     LPG|      Podkarpackie| 4995|\n",
      "| Opel| Astra|1998|    198469|Gasoline|Kujawsko-pomorskie| 2200|\n",
      "| Opel| Astra|1998|    289452|Gasoline|           Łódzkie| 3200|\n",
      "| Opel| Astra|2003|    300000|Gasoline|     Wielkopolskie| 4000|\n",
      "| Opel| Astra|2000|    363000|     LPG|         Pomorskie| 3900|\n",
      "| Opel| Astra|2000|    205000|Gasoline|     Wielkopolskie| 3800|\n",
      "| Opel| Astra|2002|    157201|Gasoline|      Dolnośląskie| 4100|\n",
      "| Opel| Astra|1999|    265000|Gasoline|          Opolskie| 2450|\n",
      "| Opel| Astra|2000|    243540|  Diesel|Kujawsko-pomorskie| 3500|\n",
      "| Opel| Astra|1999|    219000|Gasoline|Zachodniopomorskie| 2700|\n",
      "| Opel| Astra|2003|    240000|Gasoline|    Świętokrzyskie| 4500|\n",
      "| Opel| Astra|1998|    235000|Gasoline|     Wielkopolskie| 3700|\n",
      "| Opel| Astra|1999|    241000|     LPG|      Podkarpackie| 4995|\n",
      "| Opel| Astra|1998|    198469|Gasoline|Kujawsko-pomorskie| 2200|\n",
      "+-----+------+----+----------+--------+------------------+-----+\n",
      "only showing top 50 rows\n",
      "\n"
     ]
    }
   ],
   "source": [
    "df_pyspark_polSELECTColumns.filter(df_pyspark_polSELECTColumns['Money'].between(2000,5000)).show(50,20)"
   ]
  },
  {
   "cell_type": "code",
   "execution_count": 213,
   "id": "dcff3b1b",
   "metadata": {},
   "outputs": [
    {
     "name": "stdout",
     "output_type": "stream",
     "text": [
      "+-----+-----+----+----------+--------+------------------+------+\n",
      "|Brand|Model|Year|Kilometers|FuelType|          Province| Money|\n",
      "+-----+-----+----+----------+--------+------------------+------+\n",
      "| Audi|   A3|2010|    169500|Gasoline|           Śląskie| 29900|\n",
      "| Audi|   A3|2018|     67990|Gasoline|    Świętokrzyskie|129850|\n",
      "| Audi|   A3|2008|    222248|  Diesel|           Śląskie| 22900|\n",
      "| Audi|   A3|2010|    243000|  Diesel|           Śląskie| 27907|\n",
      "| Audi|   A3|2009|    259658|  Diesel|         Pomorskie| 23900|\n",
      "| Audi|   A3|2008|    306000|  Diesel|       Małopolskie| 26000|\n",
      "| Audi|   A3|2009|    198050|Gasoline|       Małopolskie| 24000|\n",
      "| Audi|   A3|2008|    234000|Gasoline|    Świętokrzyskie| 27900|\n",
      "| Audi|   A3|2004|    215000|Gasoline|           Łódzkie|  9900|\n",
      "| Audi|   A3|2008|    258000|  Diesel|      Dolnośląskie| 30900|\n",
      "| Audi|   A3|2008|    195000|  Diesel|           Łódzkie|  5900|\n",
      "| Audi|   A3|2009|    246000|  Diesel|       Małopolskie| 36900|\n",
      "| Audi|   A3|2009|    154000|Gasoline|       Mazowieckie| 34990|\n",
      "| Audi|   A3|2005|    234300|Gasoline|Zachodniopomorskie| 19600|\n",
      "| Audi|   A3|2011|    135000|Gasoline|           Śląskie| 37900|\n",
      "| Audi|   A3|2008|    192347|  Diesel|Zachodniopomorskie| 32900|\n",
      "| Audi|   A3|2009|    265000|Gasoline|       Małopolskie| 25900|\n",
      "| Audi|   A3|2009|    242000|  Diesel|         Podlaskie| 27999|\n",
      "| Audi|   A3|2009|    250000|  Diesel|     Wielkopolskie| 29000|\n",
      "| Audi|   A3|2003|    194000|Gasoline|     Wielkopolskie|  9900|\n",
      "+-----+-----+----+----------+--------+------------------+------+\n",
      "only showing top 20 rows\n",
      "\n"
     ]
    }
   ],
   "source": [
    "df_pyspark_polSELECTColumns.filter(df_pyspark_polSELECTColumns['Brand'] !=\"Opel\").select(\"*\").show()"
   ]
  },
  {
   "cell_type": "code",
   "execution_count": 214,
   "id": "48b252bd",
   "metadata": {},
   "outputs": [
    {
     "name": "stdout",
     "output_type": "stream",
     "text": [
      "+-----+-----+----+----------+--------+------------------+------+\n",
      "|Brand|Model|Year|Kilometers|FuelType|          Province| Money|\n",
      "+-----+-----+----+----------+--------+------------------+------+\n",
      "| Audi|   A3|2010|    169500|Gasoline|           Śląskie| 29900|\n",
      "| Audi|   A3|2018|     67990|Gasoline|    Świętokrzyskie|129850|\n",
      "| Audi|   A3|2008|    222248|  Diesel|           Śląskie| 22900|\n",
      "| Audi|   A3|2010|    243000|  Diesel|           Śląskie| 27907|\n",
      "| Audi|   A3|2009|    259658|  Diesel|         Pomorskie| 23900|\n",
      "| Audi|   A3|2008|    306000|  Diesel|       Małopolskie| 26000|\n",
      "| Audi|   A3|2009|    198050|Gasoline|       Małopolskie| 24000|\n",
      "| Audi|   A3|2008|    234000|Gasoline|    Świętokrzyskie| 27900|\n",
      "| Audi|   A3|2004|    215000|Gasoline|           Łódzkie|  9900|\n",
      "| Audi|   A3|2008|    258000|  Diesel|      Dolnośląskie| 30900|\n",
      "| Audi|   A3|2008|    195000|  Diesel|           Łódzkie|  5900|\n",
      "| Audi|   A3|2009|    246000|  Diesel|       Małopolskie| 36900|\n",
      "| Audi|   A3|2009|    154000|Gasoline|       Mazowieckie| 34990|\n",
      "| Audi|   A3|2005|    234300|Gasoline|Zachodniopomorskie| 19600|\n",
      "| Audi|   A3|2011|    135000|Gasoline|           Śląskie| 37900|\n",
      "| Audi|   A3|2008|    192347|  Diesel|Zachodniopomorskie| 32900|\n",
      "| Audi|   A3|2009|    265000|Gasoline|       Małopolskie| 25900|\n",
      "| Audi|   A3|2009|    242000|  Diesel|         Podlaskie| 27999|\n",
      "| Audi|   A3|2009|    250000|  Diesel|     Wielkopolskie| 29000|\n",
      "| Audi|   A3|2003|    194000|Gasoline|     Wielkopolskie|  9900|\n",
      "+-----+-----+----+----------+--------+------------------+------+\n",
      "only showing top 20 rows\n",
      "\n"
     ]
    }
   ],
   "source": [
    "Brand = [\"Mercedes-benz\",\"Audi\",\"Bmw\",\"Volkswagen\"]\n",
    "df_pyspark_polSELECTColumns.filter(df_pyspark_polSELECTColumns[\"Brand\"].isin(Brand)).show()"
   ]
  },
  {
   "cell_type": "code",
   "execution_count": 215,
   "id": "47c58f04",
   "metadata": {},
   "outputs": [
    {
     "name": "stdout",
     "output_type": "stream",
     "text": [
      "+----------+------+----+----------+--------+-------------+------+\n",
      "|     Brand| Model|Year|Kilometers|FuelType|     Province| Money|\n",
      "+----------+------+----+----------+--------+-------------+------+\n",
      "|Volkswagen|Amarok|2019|     84000|  Diesel|     Lubuskie|229000|\n",
      "|Volkswagen|Amarok|2019|     35021|  Diesel| Dolnośląskie|221707|\n",
      "|Volkswagen|Amarok|2015|    183600|  Diesel|      Śląskie| 93500|\n",
      "|Volkswagen|Amarok|2016|    199990|  Diesel|  Mazowieckie| 99500|\n",
      "|Volkswagen|Amarok|2015|    239000|  Diesel|  Mazowieckie| 94999|\n",
      "|Volkswagen|Amarok|2018|    117000|  Diesel| Dolnośląskie|184660|\n",
      "|Volkswagen|Amarok|2012|    140000|  Diesel|  Małopolskie| 79950|\n",
      "|Volkswagen|Amarok|2013|    176000|  Diesel|  Małopolskie| 69987|\n",
      "|Volkswagen|Amarok|2015|    126000|  Diesel|  Mazowieckie| 85900|\n",
      "|Volkswagen|Amarok|2019|     65740|  Diesel|    Podlaskie|187000|\n",
      "|Volkswagen|Amarok|2018|     38900|  Diesel|Wielkopolskie|184000|\n",
      "|Volkswagen|Amarok|2016|    138000|  Diesel| Dolnośląskie| 84900|\n",
      "|Volkswagen|Amarok|2013|    349113|  Diesel|    Pomorskie| 54900|\n",
      "|Volkswagen|Amarok|2016|    169300|  Diesel|Wielkopolskie|161600|\n",
      "|Volkswagen|Amarok|2018|    117400|  Diesel|Wielkopolskie|154900|\n",
      "|Volkswagen|Amarok|2018|      9900|  Diesel|Wielkopolskie|234000|\n",
      "|Volkswagen|Amarok|2013|    216000|  Diesel|    Pomorskie| 74000|\n",
      "|Volkswagen|Amarok|2016|    145000|  Diesel|  Mazowieckie|110000|\n",
      "|Volkswagen|Amarok|2020|      5200|  Diesel|    Pomorskie|221900|\n",
      "|Volkswagen|Amarok|2017|     95000|  Diesel|  Mazowieckie|178350|\n",
      "+----------+------+----+----------+--------+-------------+------+\n",
      "only showing top 20 rows\n",
      "\n"
     ]
    }
   ],
   "source": [
    "Brand = [\"Mercedes-benz\",\"Audi\",\"Bmw\",\"Opel\",\"Ford\",\"Renault\"]\n",
    "df_pyspark_polSELECTColumns.filter(~df_pyspark_polSELECTColumns[\"Brand\"].isin(Brand)).show()"
   ]
  },
  {
   "cell_type": "code",
   "execution_count": 216,
   "id": "4e9800e4",
   "metadata": {},
   "outputs": [
    {
     "name": "stdout",
     "output_type": "stream",
     "text": [
      "+-------------+-----+\n",
      "|        Brand|Count|\n",
      "+-------------+-----+\n",
      "|         Audi|12031|\n",
      "|         Opel|11914|\n",
      "|          Bmw|11070|\n",
      "|   Volkswagen|10848|\n",
      "|         Ford| 9664|\n",
      "|Mercedes-benz| 7136|\n",
      "|      Renault| 6976|\n",
      "|        Skoda| 5888|\n",
      "|       Toyota| 5120|\n",
      "|      Peugeot| 5056|\n",
      "|        Volvo| 4384|\n",
      "|      Hyundai| 4032|\n",
      "|          Kia| 3744|\n",
      "|       Nissan| 3072|\n",
      "|         Fiat| 2880|\n",
      "|        Mazda| 2848|\n",
      "|         Seat| 2848|\n",
      "|      Citroen| 2720|\n",
      "|        Honda| 2176|\n",
      "|   Mitsubishi| 1120|\n",
      "+-------------+-----+\n",
      "only showing top 20 rows\n",
      "\n"
     ]
    }
   ],
   "source": [
    "df_pyspark_polSELECTColumns.groupBy(\"Brand\").agg(count(\"*\")\\\n",
    "                                                 .alias(\"Count\")).select(\"Brand\",\"Count\").orderBy(desc(\"Count\")).show()"
   ]
  },
  {
   "cell_type": "code",
   "execution_count": 217,
   "id": "7c7cb9e0",
   "metadata": {},
   "outputs": [
    {
     "name": "stdout",
     "output_type": "stream",
     "text": [
      "+----+-----+\n",
      "|Year|Count|\n",
      "+----+-----+\n",
      "|2022| 2094|\n",
      "|2021|10559|\n",
      "|2020| 3526|\n",
      "|2019| 5200|\n",
      "|2018| 8647|\n",
      "|2017| 8909|\n",
      "|2016| 7021|\n",
      "|2015| 6021|\n",
      "|2014| 5790|\n",
      "|2013| 5445|\n",
      "|2012| 6240|\n",
      "|2011| 6596|\n",
      "|2010| 6400|\n",
      "|2009| 6828|\n",
      "|2008| 6528|\n",
      "|2007| 5735|\n",
      "|2006| 4755|\n",
      "|2005| 3534|\n",
      "|2004| 2641|\n",
      "|2003| 1766|\n",
      "+----+-----+\n",
      "only showing top 20 rows\n",
      "\n"
     ]
    }
   ],
   "source": [
    "df_pyspark_polSELECTColumns.groupBy(\"Year\").agg(count(\"*\")\\\n",
    "                                                 .alias(\"Count\")).select(\"Year\",\"Count\").orderBy(desc(\"Year\")).show()"
   ]
  },
  {
   "cell_type": "code",
   "execution_count": 218,
   "id": "54f2ed4c",
   "metadata": {},
   "outputs": [
    {
     "name": "stdout",
     "output_type": "stream",
     "text": [
      "+--------+-----+\n",
      "|FuelType|Count|\n",
      "+--------+-----+\n",
      "|Gasoline|61597|\n",
      "|  Diesel|48476|\n",
      "|     LPG| 4301|\n",
      "|  Hybrid| 2621|\n",
      "|Electric|  885|\n",
      "|     CNG|   47|\n",
      "+--------+-----+\n",
      "\n"
     ]
    }
   ],
   "source": [
    "df_pyspark_polSELECTColumns.groupBy(\"FuelType\").agg(count(\"*\")\\\n",
    "                                                 .alias(\"Count\")).select(\"FuelType\",\"Count\").orderBy(desc(\"Count\")).show()"
   ]
  },
  {
   "cell_type": "code",
   "execution_count": 219,
   "id": "109d073e",
   "metadata": {},
   "outputs": [
    {
     "name": "stdout",
     "output_type": "stream",
     "text": [
      "+--------------------+-----+\n",
      "|            Province|Count|\n",
      "+--------------------+-----+\n",
      "|         Mazowieckie|22219|\n",
      "|             Śląskie|16706|\n",
      "|       Wielkopolskie|14016|\n",
      "|         Małopolskie| 9756|\n",
      "|        Dolnośląskie| 8838|\n",
      "|             Łódzkie| 7884|\n",
      "|           Pomorskie| 7605|\n",
      "|  Kujawsko-pomorskie| 5371|\n",
      "|           Lubelskie| 4740|\n",
      "|  Zachodniopomorskie| 3963|\n",
      "|        Podkarpackie| 3553|\n",
      "|      Świętokrzyskie| 3337|\n",
      "| Warmińsko-mazurskie| 2956|\n",
      "|            Lubuskie| 2743|\n",
      "|           Podlaskie| 2123|\n",
      "|            Opolskie| 2073|\n",
      "|Moravian-Silesian...|   35|\n",
      "|              Berlin|    3|\n",
      "|              Wiedeń|    2|\n",
      "|       Niedersachsen|    1|\n",
      "+--------------------+-----+\n",
      "only showing top 20 rows\n",
      "\n"
     ]
    }
   ],
   "source": [
    "df_pyspark_polSELECTColumns.groupBy(\"Province\").agg(count(\"*\")\\\n",
    "                                                 .alias(\"Count\")).select(\"Province\",\"Count\").orderBy(desc(\"Count\")).show()"
   ]
  },
  {
   "cell_type": "code",
   "execution_count": 220,
   "id": "4df43c04",
   "metadata": {},
   "outputs": [
    {
     "name": "stdout",
     "output_type": "stream",
     "text": [
      "+-------------+------------------+---------+---------+-----------+\n",
      "|        Brand|         AVG Money|Min Money|Max Money|Total Money|\n",
      "+-------------+------------------+---------+---------+-----------+\n",
      "|   Volkswagen| 61800.77959070796|      500|   535851|  670414857|\n",
      "|          Bmw|122836.90216802168|      900|  1100000| 1359804507|\n",
      "|         Audi|105034.59379935167|     1450|  1100000| 1263671198|\n",
      "|         Opel| 35109.64764143025|     1700|   999999|  418296342|\n",
      "|         Ford|  51801.0986134106|     1990|   849000|  500605817|\n",
      "|          Kia|59718.260416666664|     2900|   270000|  223585167|\n",
      "|    Chevrolet|       40287.21875|     3200|   554900|   24494629|\n",
      "|      Hyundai| 54830.42857142857|     8500|   219200|  221076288|\n",
      "|        Honda| 51344.85294117647|     1999|   201900|  111726400|\n",
      "|   Alfa-romeo| 69643.06818181818|     1800|   446890|   49028720|\n",
      "|      Renault|45034.324541284404|     1500|   284000|  314159448|\n",
      "|Mercedes-benz|139316.94927130046|     2300|  2399900|  994165750|\n",
      "|      Citroen| 34098.12720588235|     2000|   197900|   92746906|\n",
      "|        Skoda| 61684.04636548913|     1590|   999999|  363195665|\n",
      "|       Toyota|   54567.395703125|      900|   665000|  279385066|\n",
      "|        Mazda| 57337.47752808989|     2700|   199592|  163297136|\n",
      "|         Fiat| 39326.17638888889|     2337|   389950|  113259388|\n",
      "|      Peugeot| 47144.63271360759|     2200|   311100|  238363263|\n",
      "|   Mitsubishi|       51085.78125|     2990|   225029|   57216075|\n",
      "|         Mini|  72247.5487132353|     5555|   245800|   78605333|\n",
      "|        Volvo|110734.15374087592|     4500|   489500|  485458530|\n",
      "|         Seat|40455.214185393255|     1500|   195000|  115216450|\n",
      "|       Nissan|  49635.9306640625|     2200|   279000|  152481579|\n",
      "+-------------+------------------+---------+---------+-----------+\n",
      "\n"
     ]
    }
   ],
   "source": [
    "df_pyspark_polSELECTColumns.groupBy(\"Brand\").agg(avg(\"Money\").alias(\"AVG Money\"),\n",
    "min(\"Money\").alias(\"Min Money\"), max(\"Money\").alias(\"Max Money\"),\n",
    "sum(\"Money\").alias(\"Total Money\")).show(50)"
   ]
  },
  {
   "cell_type": "code",
   "execution_count": 221,
   "id": "f578f21f",
   "metadata": {},
   "outputs": [
    {
     "name": "stdout",
     "output_type": "stream",
     "text": [
      "+-------------+------------------+--------------+--------------+----------------+\n",
      "|        Brand|    AVG Kilometers|Min Kilometers|Max Kilometers|Total Kilometers|\n",
      "+-------------+------------------+--------------+--------------+----------------+\n",
      "|   Volkswagen|153113.97446533924|             0|       1000000|      1660980395|\n",
      "|          Bmw|145835.39250225836|             0|        999999|      1614397795|\n",
      "|         Audi|159864.05111794532|             0|        550000|      1923324399|\n",
      "|         Opel|154548.31139835488|             0|        692800|      1841288582|\n",
      "|         Ford|150246.58899006623|             0|       2800000|      1451983036|\n",
      "|          Kia|105278.04914529914|             1|        482000|       394161016|\n",
      "|    Chevrolet|141144.63157894736|            10|        730000|        85815936|\n",
      "|      Hyundai|107286.99082341269|             0|        542000|       432581147|\n",
      "|        Honda|    143693.7578125|             1|        455258|       312677617|\n",
      "|   Alfa-romeo|136646.89204545456|             0|        440000|        96199412|\n",
      "|      Renault|127453.62356651376|             0|        602112|       889116478|\n",
      "|Mercedes-benz| 139314.7278587444|             0|        900000|       994149898|\n",
      "|      Citroen|167729.49448529413|             1|        488303|       456224225|\n",
      "|        Skoda|129058.74048913043|             0|        611500|       759897864|\n",
      "|       Toyota| 126448.9580078125|             1|        555555|       647418665|\n",
      "|        Mazda|125832.21242977527|             1|        424000|       358370141|\n",
      "|         Fiat|105979.48333333334|             0|        394000|       305220912|\n",
      "|      Peugeot| 141757.8672863924|             0|        527000|       716727777|\n",
      "|   Mitsubishi|118572.35089285714|             0|        390000|       132801033|\n",
      "|         Mini| 95512.71415441176|             0|        320000|       103917833|\n",
      "|        Volvo|147367.56820255474|             1|        545000|       646059419|\n",
      "|         Seat| 146448.3528792135|             0|        500000|       417084909|\n",
      "|       Nissan|125185.86295572917|             0|        634485|       384570971|\n",
      "+-------------+------------------+--------------+--------------+----------------+\n",
      "\n"
     ]
    }
   ],
   "source": [
    "df_pyspark_polSELECTColumns.groupBy(\"Brand\").agg(avg(\"Kilometers\").alias(\"AVG Kilometers\"),\n",
    "min(\"Kilometers\").alias(\"Min Kilometers\"), max(\"Kilometers\").alias(\"Max Kilometers\"),\n",
    "sum(\"Kilometers\").alias(\"Total Kilometers\")).show(50)"
   ]
  },
  {
   "cell_type": "code",
   "execution_count": 222,
   "id": "729f7b68",
   "metadata": {},
   "outputs": [
    {
     "name": "stdout",
     "output_type": "stream",
     "text": [
      "+-------------+------------------+\n",
      "|        Brand|         Money PLN|\n",
      "+-------------+------------------+\n",
      "|          Bmw|122836.90216802168|\n",
      "|         Audi|105034.59379935167|\n",
      "|Mercedes-benz|139316.94927130046|\n",
      "|        Volvo|110734.15374087592|\n",
      "+-------------+------------------+\n",
      "\n"
     ]
    }
   ],
   "source": [
    "df_pyspark_polSELECTColumns.groupBy(\"Brand\").agg(avg(col(\"Money\").cast(\"double\"))\\\n",
    "                                                .alias(\"Money PLN\")).filter(col(\"Money PLN\")> 100000).select(\"Brand\",\n",
    "                                                                                                             \"Money PLN\").show()"
   ]
  },
  {
   "cell_type": "code",
   "execution_count": 223,
   "id": "ed611a47",
   "metadata": {},
   "outputs": [
    {
     "name": "stdout",
     "output_type": "stream",
     "text": [
      "+-------------+\n",
      "|        Brand|\n",
      "+-------------+\n",
      "|   Volkswagen|\n",
      "|          Bmw|\n",
      "|         Audi|\n",
      "|         Opel|\n",
      "|         Ford|\n",
      "|          Kia|\n",
      "|    Chevrolet|\n",
      "|      Hyundai|\n",
      "|        Honda|\n",
      "|   Alfa-romeo|\n",
      "|      Renault|\n",
      "|Mercedes-benz|\n",
      "|      Citroen|\n",
      "|        Skoda|\n",
      "|       Toyota|\n",
      "|        Mazda|\n",
      "|         Fiat|\n",
      "|      Peugeot|\n",
      "|   Mitsubishi|\n",
      "|         Mini|\n",
      "|        Volvo|\n",
      "|         Seat|\n",
      "|       Nissan|\n",
      "+-------------+\n",
      "\n"
     ]
    }
   ],
   "source": [
    "df_pyspark_polSELECTColumns.select(\"Brand\").distinct().show(25,25)"
   ]
  },
  {
   "cell_type": "code",
   "execution_count": 224,
   "id": "366b8017",
   "metadata": {},
   "outputs": [
    {
     "name": "stdout",
     "output_type": "stream",
     "text": [
      "+--------+\n",
      "|FuelType|\n",
      "+--------+\n",
      "|Gasoline|\n",
      "|  Diesel|\n",
      "|  Hybrid|\n",
      "|     CNG|\n",
      "|Electric|\n",
      "|     LPG|\n",
      "+--------+\n",
      "\n"
     ]
    }
   ],
   "source": [
    "df_pyspark_polSELECTColumns.select(\"FuelType\").distinct().show()"
   ]
  },
  {
   "cell_type": "code",
   "execution_count": 225,
   "id": "5d92e1ec",
   "metadata": {
    "scrolled": true
   },
   "outputs": [
    {
     "name": "stdout",
     "output_type": "stream",
     "text": [
      "+--------------------+\n",
      "|            Province|\n",
      "+--------------------+\n",
      "|        Podkarpackie|\n",
      "|       Niedersachsen|\n",
      "|Moravian-Silesian...|\n",
      "|           Lubelskie|\n",
      "|              Berlin|\n",
      "|         Mazowieckie|\n",
      "|        Dolnośląskie|\n",
      "|       Wielkopolskie|\n",
      "|           Podlaskie|\n",
      "|           Pomorskie|\n",
      "|            Lubuskie|\n",
      "|         Małopolskie|\n",
      "|             Łódzkie|\n",
      "|             Śląskie|\n",
      "|  Zachodniopomorskie|\n",
      "|              Wiedeń|\n",
      "|            Opolskie|\n",
      "|      Świętokrzyskie|\n",
      "|  Kujawsko-pomorskie|\n",
      "| Warmińsko-mazurskie|\n",
      "|                   (|\n",
      "|            Trenczyn|\n",
      "| Nordrhein-Westfalen|\n",
      "+--------------------+\n",
      "\n"
     ]
    }
   ],
   "source": [
    "df_pyspark_polSELECTColumns.select(\"Province\").distinct().show(25)"
   ]
  },
  {
   "cell_type": "code",
   "execution_count": 226,
   "id": "b00ee31d",
   "metadata": {},
   "outputs": [
    {
     "name": "stdout",
     "output_type": "stream",
     "text": [
      "+-----+-----+----+----------+--------+-------------------+-----+----------+-----------------+\n",
      "|Brand|Model|Year|Kilometers|FuelType|           Province|Money|Money EURO|        Money USD|\n",
      "+-----+-----+----+----------+--------+-------------------+-----+----------+-----------------+\n",
      "| Opel|Combo|2015|    139568|  Diesel|        Mazowieckie|35900|    7539.0|           8257.0|\n",
      "| Opel|Combo|2018|     31991|  Diesel|            Śląskie|78501|  16485.21|         18055.23|\n",
      "| Opel|Combo|2015|    278437|  Diesel|           Opolskie|27000|    5670.0|           6210.0|\n",
      "| Opel|Combo|2016|     47600|  Diesel|           Opolskie|30800|    6468.0|           7084.0|\n",
      "| Opel|Combo|2014|    103000|     CNG|            Śląskie|35900|    7539.0|           8257.0|\n",
      "| Opel|Combo|2017|    121203|  Diesel|        Mazowieckie|51900|   10899.0|          11937.0|\n",
      "| Opel|Combo|2017|    119965|  Diesel|       Dolnośląskie|44700|    9387.0|          10281.0|\n",
      "| Opel|Combo|2016|    201658|  Diesel|          Lubelskie|29000|    6090.0|           6670.0|\n",
      "| Opel|Combo|2014|    178666|  Diesel|      Wielkopolskie|28900|    6069.0|           6647.0|\n",
      "| Opel|Combo|2015|    113000|  Diesel|        Mazowieckie|34900|    7329.0|           8027.0|\n",
      "| Opel|Combo|2012|    237000|  Diesel|Warmińsko-mazurskie|24800|    5208.0|           5704.0|\n",
      "| Opel|Combo|2017|    137000|  Diesel|        Mazowieckie|39900|    8379.0|           9177.0|\n",
      "| Opel|Combo|2016|    154000|  Diesel|            Śląskie|35900|    7539.0|           8257.0|\n",
      "| Opel|Combo|2017|     59339|  Diesel|       Dolnośląskie|55300|   11613.0|          12719.0|\n",
      "| Opel|Combo|2016|    137445|  Diesel|           Opolskie|34700|    7287.0|           7981.0|\n",
      "| Opel|Combo|2016|    141859|  Diesel|            Śląskie|39900|    8379.0|           9177.0|\n",
      "| Opel|Combo|2012|    195000|  Diesel|        Mazowieckie|25900|    5439.0|           5957.0|\n",
      "| Opel|Combo|2015|    180000|  Diesel|       Dolnośląskie|32900|    6909.0|           7567.0|\n",
      "| Opel|Combo|2018|    107515|  Diesel|        Mazowieckie|62000|   13020.0|          14260.0|\n",
      "| Opel|Combo|2017|    149000|  Diesel|        Mazowieckie|39852|   8368.92|9165.960000000001|\n",
      "+-----+-----+----+----------+--------+-------------------+-----+----------+-----------------+\n",
      "only showing top 20 rows\n",
      "\n"
     ]
    }
   ],
   "source": [
    "df_pyspark_polSELECTColumns.withColumn(\"Money EURO\",df_pyspark_polSELECTColumns[\"Money\"] * 0.21) \\\n",
    "                            .withColumn(\"Money USD\",df_pyspark_polSELECTColumns[\"Money\"] * 0.23) \\\n",
    ".show()"
   ]
  },
  {
   "cell_type": "code",
   "execution_count": 227,
   "id": "d910a594",
   "metadata": {},
   "outputs": [
    {
     "name": "stdout",
     "output_type": "stream",
     "text": [
      "+-------------------+----+-----+---------+\n",
      "|           Province|left|right|substring|\n",
      "+-------------------+----+-----+---------+\n",
      "|        Mazowieckie|  Ma|   ie|       zo|\n",
      "|            Śląskie|  Śl|   ie|       ąs|\n",
      "|           Opolskie|  Op|   ie|       ol|\n",
      "|           Opolskie|  Op|   ie|       ol|\n",
      "|            Śląskie|  Śl|   ie|       ąs|\n",
      "|        Mazowieckie|  Ma|   ie|       zo|\n",
      "|       Dolnośląskie|  Do|   ie|       ln|\n",
      "|          Lubelskie|  Lu|   ie|       be|\n",
      "|      Wielkopolskie|  Wi|   ie|       el|\n",
      "|        Mazowieckie|  Ma|   ie|       zo|\n",
      "|Warmińsko-mazurskie|  Wa|   ie|       rm|\n",
      "|        Mazowieckie|  Ma|   ie|       zo|\n",
      "|            Śląskie|  Śl|   ie|       ąs|\n",
      "|       Dolnośląskie|  Do|   ie|       ln|\n",
      "|           Opolskie|  Op|   ie|       ol|\n",
      "|            Śląskie|  Śl|   ie|       ąs|\n",
      "|        Mazowieckie|  Ma|   ie|       zo|\n",
      "|       Dolnośląskie|  Do|   ie|       ln|\n",
      "|        Mazowieckie|  Ma|   ie|       zo|\n",
      "|        Mazowieckie|  Ma|   ie|       zo|\n",
      "+-------------------+----+-----+---------+\n",
      "only showing top 20 rows\n",
      "\n"
     ]
    }
   ],
   "source": [
    "df_pyspark_polSELECTColumns.select(df_pyspark_polSELECTColumns['Province'],\n",
    "                                  substring(df_pyspark_polSELECTColumns['Province'],1,2)\n",
    "                                    .alias('left'), substring(df_pyspark_polSELECTColumns['Province'],-2,2).alias('right'),\n",
    "                                  substring(df_pyspark_polSELECTColumns['Province'],3,2).alias('substring')).show()\n"
   ]
  },
  {
   "cell_type": "code",
   "execution_count": 228,
   "id": "cd3266fa",
   "metadata": {
    "scrolled": true
   },
   "outputs": [
    {
     "name": "stdout",
     "output_type": "stream",
     "text": [
      "+-----------------+\n",
      "|        New Brand|\n",
      "+-----------------+\n",
      "|Opel Combo Diesel|\n",
      "|Opel Combo Diesel|\n",
      "|Opel Combo Diesel|\n",
      "|Opel Combo Diesel|\n",
      "|   Opel Combo CNG|\n",
      "|Opel Combo Diesel|\n",
      "|Opel Combo Diesel|\n",
      "|Opel Combo Diesel|\n",
      "|Opel Combo Diesel|\n",
      "|Opel Combo Diesel|\n",
      "|Opel Combo Diesel|\n",
      "|Opel Combo Diesel|\n",
      "|Opel Combo Diesel|\n",
      "|Opel Combo Diesel|\n",
      "|Opel Combo Diesel|\n",
      "|Opel Combo Diesel|\n",
      "|Opel Combo Diesel|\n",
      "|Opel Combo Diesel|\n",
      "|Opel Combo Diesel|\n",
      "|Opel Combo Diesel|\n",
      "+-----------------+\n",
      "only showing top 20 rows\n",
      "\n"
     ]
    }
   ],
   "source": [
    "df_pyspark_polSELECTColumns.select(concat(df_pyspark_polSELECTColumns['Brand'], \n",
    "                                          lit(\" \"),df_pyspark_polSELECTColumns['Model']\n",
    "                                          ,lit(\" \"),df_pyspark_polSELECTColumns['FuelType'])\\\n",
    "                                   .alias('New Brand')).show()"
   ]
  },
  {
   "cell_type": "markdown",
   "id": "cea20775",
   "metadata": {},
   "source": [
    "#### Money"
   ]
  },
  {
   "cell_type": "code",
   "execution_count": 229,
   "id": "e41a0afe",
   "metadata": {},
   "outputs": [],
   "source": [
    "Min = df_pyspark_polSELECTColumns.agg(min(\"Money\")).first()[0]\n",
    "Max = df_pyspark_polSELECTColumns.agg(max(\"Money\")).first()[0]"
   ]
  },
  {
   "cell_type": "code",
   "execution_count": 230,
   "id": "e2eb2e72",
   "metadata": {},
   "outputs": [],
   "source": [
    "MinMoney = df_pyspark_polSELECTColumns.filter(df_pyspark_polSELECTColumns['Money'] == Min)\n",
    "MaxMoney = df_pyspark_polSELECTColumns.filter(df_pyspark_polSELECTColumns['Money'] == Max)\n"
   ]
  },
  {
   "cell_type": "code",
   "execution_count": 231,
   "id": "161d678b",
   "metadata": {},
   "outputs": [
    {
     "name": "stdout",
     "output_type": "stream",
     "text": [
      "+-------------+---------+----+----------+--------+--------------+-------+\n",
      "|        Brand|    Model|Year|Kilometers|FuelType|      Province|  Money|\n",
      "+-------------+---------+----+----------+--------+--------------+-------+\n",
      "|Mercedes-benz|  S-klasa|2017|       400|Gasoline|   Mazowieckie|2399900|\n",
      "|   Volkswagen|Golf-plus|2007|    300567|Gasoline|Świętokrzyskie|    500|\n",
      "+-------------+---------+----+----------+--------+--------------+-------+\n",
      "\n"
     ]
    }
   ],
   "source": [
    "UnionMaxMinMoney = MaxMoney.union(MinMoney)\n",
    "UnionMaxMinMoney.show()"
   ]
  },
  {
   "cell_type": "markdown",
   "id": "6117ae36",
   "metadata": {},
   "source": [
    "#### Kilometres"
   ]
  },
  {
   "cell_type": "code",
   "execution_count": 232,
   "id": "0f66e48f",
   "metadata": {},
   "outputs": [],
   "source": [
    "Min = df_pyspark_polSELECTColumns.agg(min(\"Kilometers\")).first()[0]\n",
    "Max = df_pyspark_polSELECTColumns.agg(max(\"Kilometers\")).first()[0]"
   ]
  },
  {
   "cell_type": "code",
   "execution_count": 233,
   "id": "c2c96dda",
   "metadata": {},
   "outputs": [],
   "source": [
    "MinKM = df_pyspark_polSELECTColumns.filter(df_pyspark_polSELECTColumns['Kilometers'] == Min)\n",
    "MaxKM = df_pyspark_polSELECTColumns.filter(df_pyspark_polSELECTColumns['Kilometers'] == Max)\n"
   ]
  },
  {
   "cell_type": "code",
   "execution_count": 234,
   "id": "0896a951",
   "metadata": {},
   "outputs": [
    {
     "name": "stdout",
     "output_type": "stream",
     "text": [
      "+-----+---------------+----+----------+--------+-------------+------+\n",
      "|Brand|          Model|Year|Kilometers|FuelType|     Province| Money|\n",
      "+-----+---------------+----+----------+--------+-------------+------+\n",
      "| Ford|Tourneo-connect|2008|   2800000|  Diesel| Dolnośląskie| 12300|\n",
      "| Opel|          Astra|2021|         0|  Diesel|      Śląskie| 91600|\n",
      "| Opel|          Astra|2021|         0|  Diesel|      Śląskie|100000|\n",
      "| Opel|          Corsa|2021|         0|Gasoline|      Śląskie| 75890|\n",
      "| Opel|          Corsa|2021|         0|Gasoline|      Śląskie| 76790|\n",
      "| Opel|    Crossland-x|2021|         0|Gasoline|      Śląskie| 80968|\n",
      "| Opel|    Grandland-x|2021|         0|  Hybrid|      Śląskie|190000|\n",
      "| Opel|          Mokka|2021|         0|Gasoline|Wielkopolskie|102900|\n",
      "| Opel|          Mokka|2021|         0|Gasoline|      Śląskie|114500|\n",
      "| Audi|             A3|2021|         0|Gasoline|     Opolskie|137954|\n",
      "| Audi|             A3|2021|         0|Gasoline|Wielkopolskie|175950|\n",
      "| Audi|             A3|2021|         0|  Diesel|Wielkopolskie|218300|\n",
      "| Audi|             A4|2021|         0|Gasoline|Wielkopolskie|186050|\n",
      "| Audi|             A4|2021|         0|Gasoline|Wielkopolskie|186050|\n",
      "| Audi|             A4|2021|         0|Gasoline|Wielkopolskie|186050|\n",
      "| Audi|             A4|2021|         0|Gasoline|Wielkopolskie|186050|\n",
      "| Audi|             A4|2021|         0|  Diesel|  Mazowieckie|229228|\n",
      "| Audi|             A4|2021|         0|Gasoline|Wielkopolskie|187100|\n",
      "| Audi|             A4|2022|         0|Gasoline|      Śląskie|176955|\n",
      "| Audi|             A4|2021|         0|  Diesel|  Mazowieckie|249542|\n",
      "+-----+---------------+----+----------+--------+-------------+------+\n",
      "only showing top 20 rows\n",
      "\n"
     ]
    }
   ],
   "source": [
    "UnionMaxMinKM = MaxKM.union(MinKM)\n",
    "UnionMaxMinKM.show()"
   ]
  },
  {
   "cell_type": "code",
   "execution_count": 235,
   "id": "a35bdaed",
   "metadata": {},
   "outputs": [
    {
     "name": "stdout",
     "output_type": "stream",
     "text": [
      "+-------------+---------+----+----------+--------+-------------+-------+---+\n",
      "|        Brand|    Model|Year|Kilometers|FuelType|     Province|  Money| RN|\n",
      "+-------------+---------+----+----------+--------+-------------+-------+---+\n",
      "|Mercedes-benz|  S-klasa|2017|       400|Gasoline|  Mazowieckie|2399900|  1|\n",
      "|Mercedes-benz|  S-klasa|2019|     12000|Gasoline|Wielkopolskie|1966770|  2|\n",
      "|Mercedes-benz|  S-klasa|2018|        21|Gasoline|  Mazowieckie|1550000|  3|\n",
      "|Mercedes-benz|   Amg-gt|2019|     28500|Gasoline|Wielkopolskie|1368341|  4|\n",
      "|         Audi|      Rs6|2021|        20|Gasoline|  Mazowieckie|1100000|  5|\n",
      "|          Bmw|     X6-m|2022|        20|Gasoline|    Pomorskie|1100000|  6|\n",
      "|Mercedes-benz|   Amg-gt|2020|     16000|Gasoline|    Pomorskie|1100000|  7|\n",
      "|Mercedes-benz|   Amg-gt|2020|     16000|Gasoline|    Pomorskie|1100000|  8|\n",
      "|Mercedes-benz|   Amg-gt|2021|      6097|Gasoline|Wielkopolskie|1090000|  9|\n",
      "|Mercedes-benz|   Amg-gt|2021|      6097|Gasoline|Wielkopolskie|1090000| 10|\n",
      "|Mercedes-benz|  E-klasa|2021|     13000|Gasoline|Wielkopolskie|1075000| 11|\n",
      "|Mercedes-benz|   Amg-gt|2021|         5|Gasoline|    Pomorskie|1061592| 12|\n",
      "|Mercedes-benz|   Amg-gt|2021|        13|Gasoline| Podkarpackie|1059494| 13|\n",
      "|Mercedes-benz|   Amg-gt|2021|        13|Gasoline|  Małopolskie|1059494| 14|\n",
      "|Mercedes-benz|  S-klasa|2022|         2|Gasoline| Dolnośląskie|1036270| 15|\n",
      "|Mercedes-benz|Gls-klasa|2021|     19000|Gasoline|  Mazowieckie|1000000| 16|\n",
      "|Mercedes-benz|  S-klasa|2021|        50|Gasoline|      Łódzkie|1000000| 17|\n",
      "|         Opel|    Corsa|2013|    105703|Gasoline|  Mazowieckie| 999999| 18|\n",
      "|        Skoda|  Octavia|2013|    251050|  Diesel|      Śląskie| 999999| 19|\n",
      "|Mercedes-benz|  G-klasa|2020|      8000|Gasoline|    Pomorskie| 998000| 20|\n",
      "+-------------+---------+----+----------+--------+-------------+-------+---+\n",
      "only showing top 20 rows\n",
      "\n"
     ]
    }
   ],
   "source": [
    "windowSpec = Window.orderBy(col(\"Money\").desc())\n",
    "df_pyspark_polSELECTColumns.withColumn(\"RN\",row_number().over(windowSpec)).show()\n"
   ]
  },
  {
   "cell_type": "code",
   "execution_count": 236,
   "id": "74b2d9c6",
   "metadata": {},
   "outputs": [
    {
     "name": "stdout",
     "output_type": "stream",
     "text": [
      "+-----+-------+----+----------+--------+--------------+-------+---+\n",
      "|Brand|  Model|Year|Kilometers|FuelType|      Province|  Money| RN|\n",
      "+-----+-------+----+----------+--------+--------------+-------+---+\n",
      "|  Bmw|   X6-m|2022|        20|Gasoline|     Pomorskie|1100000|  1|\n",
      "|  Bmw|     M5|2021|        58|Gasoline|       Śląskie| 979000|  2|\n",
      "|  Bmw|     M8|2021|        10|Gasoline|Świętokrzyskie| 978300|  3|\n",
      "|  Bmw|     M8|2021|        10|Gasoline|Świętokrzyskie| 976900|  4|\n",
      "|  Bmw|     M8|2021|         5|Gasoline|       Śląskie| 970300|  5|\n",
      "|  Bmw|     M8|2021|         0|Gasoline|  Dolnośląskie| 969900|  6|\n",
      "|  Bmw|     M8|2021|         5|Gasoline|       Łódzkie| 957300|  7|\n",
      "|  Bmw|     M8|2021|         5|Gasoline|     Pomorskie| 949690|  8|\n",
      "|  Bmw|Seria-8|2021|         1|Gasoline|       Śląskie| 943270|  9|\n",
      "|  Bmw|     M5|2021|     14450|Gasoline|   Mazowieckie| 939900| 10|\n",
      "|  Bmw|     M8|2021|        20|Gasoline|     Podlaskie| 939100| 11|\n",
      "|  Bmw|     M8|2021|         5|Gasoline|   Mazowieckie| 939000| 12|\n",
      "|  Bmw|     M8|2021|         1|Gasoline| Wielkopolskie| 923630| 13|\n",
      "|  Bmw|     M8|2021|         1|Gasoline| Wielkopolskie| 916082| 14|\n",
      "|  Bmw|     M8|2021|         5|Gasoline|   Mazowieckie| 913900| 15|\n",
      "|  Bmw|Seria-8|2021|         1|Gasoline|       Śląskie| 900200| 16|\n",
      "|  Bmw|     M8|2021|         5|Gasoline|     Lubelskie| 899900| 17|\n",
      "|  Bmw|     M8|2021|        20|Gasoline|       Śląskie| 899900| 18|\n",
      "|  Bmw|   X5-m|2021|         5|Gasoline|     Pomorskie| 899000| 19|\n",
      "|  Bmw|     M8|2021|      9000|Gasoline|  Podkarpackie| 897000| 20|\n",
      "+-----+-------+----+----------+--------+--------------+-------+---+\n",
      "only showing top 20 rows\n",
      "\n"
     ]
    }
   ],
   "source": [
    "windowSpec = Window.partitionBy(col(\"Brand\")).orderBy(col(\"Money\").desc())\n",
    "df_pyspark_polSELECTColumns.withColumn(\"RN\",row_number().over(windowSpec)).show()"
   ]
  },
  {
   "cell_type": "code",
   "execution_count": 237,
   "id": "2c82868f",
   "metadata": {},
   "outputs": [
    {
     "name": "stdout",
     "output_type": "stream",
     "text": [
      "+----------+-----+--------------------+\n",
      "|     Brand|Money|Total Money by Brand|\n",
      "+----------+-----+--------------------+\n",
      "|Alfa-romeo| 5000|            49028720|\n",
      "|Alfa-romeo| 8999|            49028720|\n",
      "|Alfa-romeo| 4000|            49028720|\n",
      "|Alfa-romeo| 6900|            49028720|\n",
      "|Alfa-romeo| 5000|            49028720|\n",
      "|Alfa-romeo| 2999|            49028720|\n",
      "|Alfa-romeo| 8500|            49028720|\n",
      "|Alfa-romeo| 9450|            49028720|\n",
      "|Alfa-romeo| 2900|            49028720|\n",
      "|Alfa-romeo|12900|            49028720|\n",
      "|Alfa-romeo| 3800|            49028720|\n",
      "|Alfa-romeo| 8500|            49028720|\n",
      "|Alfa-romeo| 2200|            49028720|\n",
      "|Alfa-romeo| 9500|            49028720|\n",
      "|Alfa-romeo| 4900|            49028720|\n",
      "|Alfa-romeo| 8900|            49028720|\n",
      "|Alfa-romeo| 6900|            49028720|\n",
      "|Alfa-romeo| 9500|            49028720|\n",
      "|Alfa-romeo| 9900|            49028720|\n",
      "|Alfa-romeo| 9900|            49028720|\n",
      "+----------+-----+--------------------+\n",
      "only showing top 20 rows\n",
      "\n"
     ]
    }
   ],
   "source": [
    "windowSpec = Window.partitionBy(col('Brand'))\n",
    "df_pyspark_polSELECTColumns.withColumn(\"Total Money by Brand\",\n",
    "                                      sum(df_pyspark_polSELECTColumns['Money'])\\\n",
    "                                       .over(windowSpec)).select('Brand','Money','Total Money by Brand').show()\n"
   ]
  },
  {
   "cell_type": "code",
   "execution_count": 238,
   "id": "c88a4d4f",
   "metadata": {},
   "outputs": [
    {
     "name": "stdout",
     "output_type": "stream",
     "text": [
      "+-------------+--------------------+\n",
      "|        Brand|Total Money by Brand|\n",
      "+-------------+--------------------+\n",
      "|   Alfa-romeo|            49028720|\n",
      "|         Audi|          1263671198|\n",
      "|          Bmw|          1359804507|\n",
      "|    Chevrolet|            24494629|\n",
      "|      Citroen|            92746906|\n",
      "|         Fiat|           113259388|\n",
      "|         Ford|           500605817|\n",
      "|        Honda|           111726400|\n",
      "|      Hyundai|           221076288|\n",
      "|          Kia|           223585167|\n",
      "|        Mazda|           163297136|\n",
      "|Mercedes-benz|           994165750|\n",
      "|         Mini|            78605333|\n",
      "|   Mitsubishi|            57216075|\n",
      "|       Nissan|           152481579|\n",
      "|         Opel|           418296342|\n",
      "|      Peugeot|           238363263|\n",
      "|      Renault|           314159448|\n",
      "|         Seat|           115216450|\n",
      "|        Skoda|           363195665|\n",
      "|       Toyota|           279385066|\n",
      "|   Volkswagen|           670414857|\n",
      "|        Volvo|           485458530|\n",
      "+-------------+--------------------+\n",
      "\n"
     ]
    }
   ],
   "source": [
    "windowSpec = Window.partitionBy(col('Brand'))\n",
    "df_pyspark_polSELECTColumns.withColumn(\"Total Money by Brand\",\n",
    "                                      sum(df_pyspark_polSELECTColumns['Money'])\\\n",
    "                                       .over(windowSpec)).select('Brand','Total Money by Brand').distinct().show(35)\n"
   ]
  },
  {
   "cell_type": "code",
   "execution_count": 239,
   "id": "414136f2",
   "metadata": {},
   "outputs": [
    {
     "name": "stdout",
     "output_type": "stream",
     "text": [
      "+----+----------+-----------------+-------------+\n",
      "|Year|     Money|PreviousYearMoney|NextYearMonet|\n",
      "+----+----------+-----------------+-------------+\n",
      "|1945|     40900|             null|       149900|\n",
      "|1952|    149900|            40900|       258900|\n",
      "|1964|    258900|           149900|       599500|\n",
      "|1965|    599500|           258900|       940900|\n",
      "|1966|    940900|           599500|       508900|\n",
      "|1967|    508900|           940900|      1109700|\n",
      "|1968|   1109700|           508900|       223900|\n",
      "|1969|    223900|          1109700|       263100|\n",
      "|1970|    263100|           223900|        69200|\n",
      "|1971|     69200|           263100|        98000|\n",
      "|1972|     98000|            69200|       183998|\n",
      "|1973|    183998|            98000|        21900|\n",
      "|1974|     21900|           183998|       100500|\n",
      "|1978|    100500|            21900|        41000|\n",
      "|1981|     41000|           100500|        45900|\n",
      "|1983|     45900|            41000|        35800|\n",
      "|1985|     35800|            45900|        75900|\n",
      "|1986|     75900|            35800|        34400|\n",
      "|1987|     34400|            75900|       400150|\n",
      "|1988|    400150|            34400|       235597|\n",
      "|1989|    235597|           400150|       821597|\n",
      "|1990|    821597|           235597|       722473|\n",
      "|1991|    722473|           821597|      1093437|\n",
      "|1992|   1093437|           722473|       838152|\n",
      "|1993|    838152|          1093437|       896884|\n",
      "|1994|    896884|           838152|      1277714|\n",
      "|1995|   1277714|           896884|      2632292|\n",
      "|1996|   2632292|          1277714|      2370500|\n",
      "|1997|   2370500|          2632292|      3412851|\n",
      "|1998|   3412851|          2370500|      4470687|\n",
      "|1999|   4470687|          3412851|      6119643|\n",
      "|2000|   6119643|          4470687|      8862166|\n",
      "|2001|   8862166|          6119643|     15522612|\n",
      "|2002|  15522612|          8862166|     23621380|\n",
      "|2003|  23621380|         15522612|     39353928|\n",
      "|2004|  39353928|         23621380|     56106255|\n",
      "|2005|  56106255|         39353928|     83849706|\n",
      "|2006|  83849706|         56106255|    113205227|\n",
      "|2007| 113205227|         83849706|    145300415|\n",
      "|2008| 145300415|        113205227|    164757081|\n",
      "|2009| 164757081|        145300415|    188654380|\n",
      "|2010| 188654380|        164757081|    217784162|\n",
      "|2011| 217784162|        188654380|    250964603|\n",
      "|2012| 250964603|        217784162|    248204461|\n",
      "|2013| 248204461|        250964603|    305759344|\n",
      "|2014| 305759344|        248204461|    382540282|\n",
      "|2015| 382540282|        305759344|    528689487|\n",
      "|2016| 528689487|        382540282|    791636554|\n",
      "|2017| 791636554|        528689487|    898667250|\n",
      "|2018| 898667250|        791636554|    671932149|\n",
      "|2019| 671932149|        898667250|    610659823|\n",
      "|2020| 610659823|        671932149|   2091497786|\n",
      "|2021|2091497786|        610659823|    422591188|\n",
      "|2022| 422591188|       2091497786|         null|\n",
      "+----+----------+-----------------+-------------+\n",
      "\n"
     ]
    }
   ],
   "source": [
    "df_pyspark_polSELECTColumnsLAGLEAD = df_pyspark_polSELECTColumns.groupBy(\"Year\").agg(sum(df_pyspark_polSELECTColumns[\"Money\"]).alias(\"Money\"))\n",
    "df_pyspark_polSELECTColumnsLAGLEAD.select(df_pyspark_polSELECTColumnsLAGLEAD[\"Year\"],df_pyspark_polSELECTColumnsLAGLEAD[\"Money\"],\n",
    "                                         lag(\"Money\").over(Window.orderBy(\"Year\")).alias(\"PreviousYearMoney\"),\n",
    "                                         lead(\"Money\").over(Window.orderBy(\"Year\")).alias(\"NextYearMonet\")).show(100)"
   ]
  },
  {
   "cell_type": "code",
   "execution_count": 240,
   "id": "16eb17cb",
   "metadata": {},
   "outputs": [
    {
     "name": "stdout",
     "output_type": "stream",
     "text": [
      "+-------------+-------+----+----------+--------+-------------+-------+\n",
      "|        Brand|  Model|Year|Kilometers|FuelType|     Province|  Money|\n",
      "+-------------+-------+----+----------+--------+-------------+-------+\n",
      "|Mercedes-benz|S-klasa|2017|       400|Gasoline|  Mazowieckie|2399900|\n",
      "|Mercedes-benz|S-klasa|2019|     12000|Gasoline|Wielkopolskie|1966770|\n",
      "|Mercedes-benz|S-klasa|2018|        21|Gasoline|  Mazowieckie|1550000|\n",
      "|Mercedes-benz| Amg-gt|2019|     28500|Gasoline|Wielkopolskie|1368341|\n",
      "|Mercedes-benz| Amg-gt|2020|     16000|Gasoline|    Pomorskie|1100000|\n",
      "|          Bmw|   X6-m|2022|        20|Gasoline|    Pomorskie|1100000|\n",
      "|         Audi|    Rs6|2021|        20|Gasoline|  Mazowieckie|1100000|\n",
      "|Mercedes-benz| Amg-gt|2020|     16000|Gasoline|    Pomorskie|1100000|\n",
      "|Mercedes-benz| Amg-gt|2021|      6097|Gasoline|Wielkopolskie|1090000|\n",
      "|Mercedes-benz| Amg-gt|2021|      6097|Gasoline|Wielkopolskie|1090000|\n",
      "+-------------+-------+----+----------+--------+-------------+-------+\n",
      "\n"
     ]
    }
   ],
   "source": [
    "cte = df_pyspark_polSELECTColumns.select(\"*\").sort(desc(\"Money\")).limit(10)\n",
    "cte.show()"
   ]
  },
  {
   "cell_type": "code",
   "execution_count": 241,
   "id": "b3bd0adb",
   "metadata": {},
   "outputs": [
    {
     "name": "stdout",
     "output_type": "stream",
     "text": [
      "+-----+-----+----------+\n",
      "|Brand|Money|Money Text|\n",
      "+-----+-----+----------+\n",
      "| Opel|35900|     35900|\n",
      "| Opel|78501|     78501|\n",
      "| Opel|27000|     27000|\n",
      "| Opel|30800|     30800|\n",
      "| Opel|35900|     35900|\n",
      "| Opel|51900|     51900|\n",
      "| Opel|44700|     44700|\n",
      "| Opel|29000|     29000|\n",
      "| Opel|28900|     28900|\n",
      "| Opel|34900|     34900|\n",
      "| Opel|24800|     24800|\n",
      "| Opel|39900|     39900|\n",
      "| Opel|35900|     35900|\n",
      "| Opel|55300|     55300|\n",
      "| Opel|34700|     34700|\n",
      "| Opel|39900|     39900|\n",
      "| Opel|25900|     25900|\n",
      "| Opel|32900|     32900|\n",
      "| Opel|62000|     62000|\n",
      "| Opel|39852|     39852|\n",
      "| Opel|44990|     44990|\n",
      "| Opel|15500|     15500|\n",
      "| Opel|40900|     40900|\n",
      "| Opel|53600|     53600|\n",
      "| Opel|37500|     37500|\n",
      "| Opel|39900|     39900|\n",
      "| Opel|39975|     39975|\n",
      "| Opel|20999|     20999|\n",
      "| Opel|39000|     39000|\n",
      "| Opel|62000|     62000|\n",
      "| Opel|53874|     53874|\n",
      "| Opel|38900|     38900|\n",
      "| Opel|35900|     35900|\n",
      "| Opel|78501|     78501|\n",
      "| Opel|27000|     27000|\n",
      "| Opel|30800|     30800|\n",
      "| Opel|35900|     35900|\n",
      "| Opel|51900|     51900|\n",
      "| Opel|44700|     44700|\n",
      "| Opel|29000|     29000|\n",
      "| Opel|28900|     28900|\n",
      "| Opel|34900|     34900|\n",
      "| Opel|24800|     24800|\n",
      "| Opel|39900|     39900|\n",
      "| Opel|35900|     35900|\n",
      "| Opel|55300|     55300|\n",
      "| Opel|34700|     34700|\n",
      "| Opel|39900|     39900|\n",
      "| Opel|25900|     25900|\n",
      "| Opel|32900|     32900|\n",
      "+-----+-----+----------+\n",
      "only showing top 50 rows\n",
      "\n"
     ]
    }
   ],
   "source": [
    "df_pyspark_polSELECTColumns.withColumn(\"Money Text\",df_pyspark_polSELECTColumns[\"Money\"].cast(\"string\"))\\\n",
    ".select(\"Brand\",\"Money\",\"Money Text\").show(50)"
   ]
  },
  {
   "cell_type": "code",
   "execution_count": 242,
   "id": "0a926e88",
   "metadata": {},
   "outputs": [
    {
     "name": "stdout",
     "output_type": "stream",
     "text": [
      "+-----+-----+----+----------+--------+-------------------+-----+\n",
      "|Brand|Model|Year|Kilometers|FuelType|           Province|Money|\n",
      "+-----+-----+----+----------+--------+-------------------+-----+\n",
      "| Opel|Combo|2015|    139568|  Diesel|        Mazowieckie|35900|\n",
      "| Opel|Combo|2018|     31991|  Diesel|            Śląskie|78501|\n",
      "| Opel|Combo|2015|    278437|  Diesel|           Opolskie|27000|\n",
      "| Opel|Combo|2016|     47600|  Diesel|           Opolskie|30800|\n",
      "| Opel|Combo|2014|    103000|     CNG|            Śląskie|35900|\n",
      "| Opel|Combo|2017|    121203|  Diesel|        Mazowieckie|51900|\n",
      "| Opel|Combo|2017|    119965|  Diesel|       Dolnośląskie|44700|\n",
      "| Opel|Combo|2016|    201658|  Diesel|          Lubelskie|29000|\n",
      "| Opel|Combo|2014|    178666|  Diesel|      Wielkopolskie|28900|\n",
      "| Opel|Combo|2015|    113000|  Diesel|        Mazowieckie|34900|\n",
      "| Opel|Combo|2012|    237000|  Diesel|Warmińsko-mazurskie|24800|\n",
      "| Opel|Combo|2017|    137000|  Diesel|        Mazowieckie|39900|\n",
      "| Opel|Combo|2016|    154000|  Diesel|            Śląskie|35900|\n",
      "| Opel|Combo|2017|     59339|  Diesel|       Dolnośląskie|55300|\n",
      "| Opel|Combo|2016|    137445|  Diesel|           Opolskie|34700|\n",
      "| Opel|Combo|2016|    141859|  Diesel|            Śląskie|39900|\n",
      "| Opel|Combo|2012|    195000|  Diesel|        Mazowieckie|25900|\n",
      "| Opel|Combo|2015|    180000|  Diesel|       Dolnośląskie|32900|\n",
      "| Opel|Combo|2018|    107515|  Diesel|        Mazowieckie|62000|\n",
      "| Opel|Combo|2017|    149000|  Diesel|        Mazowieckie|39852|\n",
      "+-----+-----+----+----------+--------+-------------------+-----+\n",
      "only showing top 20 rows\n",
      "\n"
     ]
    }
   ],
   "source": [
    "df_pyspark_polSELECTColumns.show()"
   ]
  },
  {
   "cell_type": "code",
   "execution_count": 243,
   "id": "ad461d2b",
   "metadata": {},
   "outputs": [
    {
     "name": "stdout",
     "output_type": "stream",
     "text": [
      "root\n",
      " |-- Brand: string (nullable = true)\n",
      " |-- Model: string (nullable = true)\n",
      " |-- Year: integer (nullable = true)\n",
      " |-- Kilometers: integer (nullable = true)\n",
      " |-- FuelType: string (nullable = true)\n",
      " |-- Province: string (nullable = true)\n",
      " |-- Money: integer (nullable = true)\n",
      "\n"
     ]
    }
   ],
   "source": [
    "df_pyspark_polSELECTColumns.printSchema()"
   ]
  },
  {
   "cell_type": "markdown",
   "id": "9681f8b4",
   "metadata": {},
   "source": [
    "### df_pyspark_usa"
   ]
  },
  {
   "cell_type": "code",
   "execution_count": 244,
   "id": "9d3d784f",
   "metadata": {},
   "outputs": [
    {
     "name": "stdout",
     "output_type": "stream",
     "text": [
      "+----+-------------+---------+---------+--------+-----+----------+-----+----------+\n",
      "|Year|        Model| BodyType|     Gear|   Color|Money|     State|Abbrv|   Capital|\n",
      "+----+-------------+---------+---------+--------+-----+----------+-----+----------+\n",
      "|2013|      Hyundai|      SUV|Automatic|    Gray|19200|California|   CA|Sacramento|\n",
      "|2013|      Hyundai|    Sedan|Automatic|    Gray| 8800|California|   CA|Sacramento|\n",
      "|2013|          Kia|    Sedan|Automatic|   Black|22200|California|   CA|Sacramento|\n",
      "|2013|Mercedes-Benz|    Coupe|Automatic|       —|23500|California|   CA|Sacramento|\n",
      "|2012|        Acura|      SUV|Automatic|   White|31000|California|   CA|Sacramento|\n",
      "|2012|     Infiniti|  G Sedan|Automatic|   Black|23500|California|   CA|Sacramento|\n",
      "|2012|         Mini|Hatchback|Automatic|    Blue|15000|California|   CA|Sacramento|\n",
      "|2011|          BMW|    Sedan|Automatic|   Black|19000|California|   CA|Sacramento|\n",
      "|2012|        Volvo|    Sedan|Automatic|  Silver|22000|California|   CA|Sacramento|\n",
      "|2012|   Volkswagen|    Wagon|Automatic|   White| 8100|California|   CA|Sacramento|\n",
      "|2011|       Toyota|    Sedan|Automatic|    Gold| 9250|California|   CA|Sacramento|\n",
      "|2011|          Ram| Quad Cab|Automatic|  Silver|17800|California|   CA|Sacramento|\n",
      "|2010|      Lincoln|    Wagon|Automatic|Burgundy|12400|California|   CA|Sacramento|\n",
      "|2010|          Kia|    Sedan|Automatic|  Silver| 6400|California|   CA|Sacramento|\n",
      "|2006|       Toyota|      SUV|Automatic|     Red| 4800|California|   CA|Sacramento|\n",
      "|2014|         Ford|    Sedan|Automatic|     Red|11600|California|   CA|Sacramento|\n",
      "|2014|         Ford|      SUV|Automatic|   White| 8000|California|   CA|Sacramento|\n",
      "|2004|     Chrysler|    Wagon|Automatic|   White|  400|California|   CA|Sacramento|\n",
      "|2003|Mercedes-Benz|    Sedan|Automatic|  Silver| 3700|California|   CA|Sacramento|\n",
      "|2002|         Ford|      SUV|Automatic|     Red| 2000|California|   CA|Sacramento|\n",
      "+----+-------------+---------+---------+--------+-----+----------+-----+----------+\n",
      "only showing top 20 rows\n",
      "\n"
     ]
    }
   ],
   "source": [
    "df_pyspark_usa.show()"
   ]
  },
  {
   "cell_type": "code",
   "execution_count": 245,
   "id": "28689a41",
   "metadata": {},
   "outputs": [
    {
     "name": "stdout",
     "output_type": "stream",
     "text": [
      "+-------------+---------+--------+----------+----------+----+-----+\n",
      "|        Model|     Gear|   Color|     State|   Capital|Year|Money|\n",
      "+-------------+---------+--------+----------+----------+----+-----+\n",
      "|      Hyundai|Automatic|    Gray|California|Sacramento|2013|19200|\n",
      "|      Hyundai|Automatic|    Gray|California|Sacramento|2013| 8800|\n",
      "|          Kia|Automatic|   Black|California|Sacramento|2013|22200|\n",
      "|Mercedes-Benz|Automatic|       —|California|Sacramento|2013|23500|\n",
      "|        Acura|Automatic|   White|California|Sacramento|2012|31000|\n",
      "|     Infiniti|Automatic|   Black|California|Sacramento|2012|23500|\n",
      "|         Mini|Automatic|    Blue|California|Sacramento|2012|15000|\n",
      "|          BMW|Automatic|   Black|California|Sacramento|2011|19000|\n",
      "|        Volvo|Automatic|  Silver|California|Sacramento|2012|22000|\n",
      "|   Volkswagen|Automatic|   White|California|Sacramento|2012| 8100|\n",
      "|       Toyota|Automatic|    Gold|California|Sacramento|2011| 9250|\n",
      "|          Ram|Automatic|  Silver|California|Sacramento|2011|17800|\n",
      "|      Lincoln|Automatic|Burgundy|California|Sacramento|2010|12400|\n",
      "|          Kia|Automatic|  Silver|California|Sacramento|2010| 6400|\n",
      "|       Toyota|Automatic|     Red|California|Sacramento|2006| 4800|\n",
      "|         Ford|Automatic|     Red|California|Sacramento|2014|11600|\n",
      "|         Ford|Automatic|   White|California|Sacramento|2014| 8000|\n",
      "|     Chrysler|Automatic|   White|California|Sacramento|2004|  400|\n",
      "|Mercedes-Benz|Automatic|  Silver|California|Sacramento|2003| 3700|\n",
      "|         Ford|Automatic|     Red|California|Sacramento|2002| 2000|\n",
      "+-------------+---------+--------+----------+----------+----+-----+\n",
      "only showing top 20 rows\n",
      "\n"
     ]
    }
   ],
   "source": [
    "df_pyspark_usaSELECTCol = df_pyspark_usa.select(\"Model\",\"Gear\",\"Color\",\"State\",\"Capital\",\"Year\",\"Money\")\n",
    "df_pyspark_usaSELECTCol.show()"
   ]
  },
  {
   "cell_type": "code",
   "execution_count": 246,
   "id": "3a01a0cc",
   "metadata": {},
   "outputs": [
    {
     "name": "stdout",
     "output_type": "stream",
     "text": [
      "+-------------+-------------+------+------------+--------------+----+-----+\n",
      "|        Model|         Gear| Color|       State|       Capital|Year|Money|\n",
      "+-------------+-------------+------+------------+--------------+----+-----+\n",
      "|         Ford|Not Available| White|  California|    Sacramento|2002|    1|\n",
      "|         Ford|    Automatic| White|       Texas|        Austin|2014|    1|\n",
      "|        Isuzu|Not Available|   Red|    Virginia|      Richmond|1995|    1|\n",
      "|Mercedes-Benz|    Automatic| Black|     Georgia|       Atlanta|2003|    1|\n",
      "|     Chrysler|    Automatic| White|      Hawaii|      Honolulu|2008|  100|\n",
      "|          BMW|    Automatic| White|  California|    Sacramento|1995|  100|\n",
      "|   Mitsubishi|    Automatic|  Gray|  California|    Sacramento|1997|  100|\n",
      "|         Ford|    Automatic| White|  California|    Sacramento|1997|  100|\n",
      "|        Buick|    Automatic|Silver| Mississippi|       Jackson|2006|  100|\n",
      "|       Nissan|    Automatic| White|      Hawaii|      Honolulu|2003|  100|\n",
      "|      Hyundai|    Automatic| White| Mississippi|       Jackson|2005|  100|\n",
      "|         Ford|Not Available|Silver|Pennsylvania|    Harrisburg|2002|  100|\n",
      "|         Ford|Not Available|Silver|Pennsylvania|    Harrisburg|2002|  100|\n",
      "|      Hyundai|    Automatic|Silver|  California|    Sacramento|2005|  100|\n",
      "|     Chrysler|    Automatic| Black|        Utah|Salt Lake City|2002|  100|\n",
      "|         Ford|    Automatic|Silver|      Hawaii|      Honolulu|2006|  100|\n",
      "|    Chevrolet|    Automatic|   Red|  New Jersey|       Trenton|2003|  100|\n",
      "|      Mercury|Not Available| Green| Mississippi|       Jackson|1995|  100|\n",
      "|      Pontiac|    Automatic|Silver|      Hawaii|      Honolulu|2004|  100|\n",
      "|    Chevrolet|    Automatic|  Gray|Pennsylvania|    Harrisburg|2003|  100|\n",
      "+-------------+-------------+------+------------+--------------+----+-----+\n",
      "only showing top 20 rows\n",
      "\n"
     ]
    }
   ],
   "source": [
    "df_pyspark_usaSELECTCol.orderBy(\"Money\").show()"
   ]
  },
  {
   "cell_type": "code",
   "execution_count": 247,
   "id": "905020ea",
   "metadata": {},
   "outputs": [
    {
     "name": "stdout",
     "output_type": "stream",
     "text": [
      "+-------------+---------+------+----------+--------------+----+------+\n",
      "|        Model|     Gear| Color|     State|       Capital|Year| Money|\n",
      "+-------------+---------+------+----------+--------------+----+------+\n",
      "|         Ford|Automatic| Green|  Missouri|Jefferson City|2014|230000|\n",
      "|      Ferrari|Automatic|   Red|   Florida|   Tallahassee|2011|183000|\n",
      "|Mercedes-Benz|Automatic| White|California|    Sacramento|2015|173000|\n",
      "|  Rolls-Royce|Automatic| White|   Florida|   Tallahassee|2013|171500|\n",
      "|  Rolls-Royce|Automatic| Black|   Florida|   Tallahassee|2012|169500|\n",
      "|  Rolls-Royce|Automatic| White|California|    Sacramento|2012|169000|\n",
      "|  Rolls-Royce|Automatic| White|California|    Sacramento|2012|167000|\n",
      "|          BMW|Automatic| White|   Florida|   Tallahassee|2014|165000|\n",
      "|          BMW|Automatic| White|California|    Sacramento|2014|165000|\n",
      "|  Rolls-Royce|Automatic| Black|California|    Sacramento|2011|163000|\n",
      "|      Bentley|Automatic| Black|   Florida|   Tallahassee|2013|163000|\n",
      "|          BMW|Automatic| White|California|    Sacramento|2014|161000|\n",
      "|          BMW|Automatic| White|California|    Sacramento|2014|160000|\n",
      "|          BMW|Automatic|  Gray|   Florida|   Tallahassee|2014|159000|\n",
      "|      Bentley|Automatic| Black|California|    Sacramento|2013|158000|\n",
      "|          BMW|Automatic| White|California|    Sacramento|2014|158000|\n",
      "|      Porsche|Automatic| White|California|    Sacramento|2014|157000|\n",
      "|Mercedes-Benz|Automatic|  Gray|   Florida|   Tallahassee|2013|156500|\n",
      "|      Ferrari|Automatic|Silver|   Florida|   Tallahassee|2012|156000|\n",
      "|  Rolls-Royce|Automatic| Black|California|    Sacramento|2011|155000|\n",
      "+-------------+---------+------+----------+--------------+----+------+\n",
      "only showing top 20 rows\n",
      "\n"
     ]
    }
   ],
   "source": [
    "df_pyspark_usaSELECTCol.orderBy(desc(\"Money\")).show()"
   ]
  },
  {
   "cell_type": "code",
   "execution_count": 248,
   "id": "8681ffd7",
   "metadata": {},
   "outputs": [
    {
     "name": "stdout",
     "output_type": "stream",
     "text": [
      "+-------------+-------------+-------------+------------+--------------+----+------+\n",
      "|        Model|         Gear|        Color|       State|       Capital|Year| Money|\n",
      "+-------------+-------------+-------------+------------+--------------+----+------+\n",
      "|         Ford|    Automatic|        Green|    Missouri|Jefferson City|2014|230000|\n",
      "|      Ferrari|    Automatic|          Red|     Florida|   Tallahassee|2011|183000|\n",
      "|Mercedes-Benz|    Automatic|        White|  California|    Sacramento|2015|173000|\n",
      "|  Rolls-Royce|    Automatic|        White|     Florida|   Tallahassee|2013|171500|\n",
      "|  Rolls-Royce|    Automatic|        Black|     Florida|   Tallahassee|2012|169500|\n",
      "|  Rolls-Royce|    Automatic|        White|  California|    Sacramento|2012|169000|\n",
      "|  Rolls-Royce|    Automatic|        White|  California|    Sacramento|2012|167000|\n",
      "|          BMW|    Automatic|        White|     Florida|   Tallahassee|2014|165000|\n",
      "|          BMW|    Automatic|        White|  California|    Sacramento|2014|165000|\n",
      "|      Bentley|    Automatic|        Black|     Florida|   Tallahassee|2013|163000|\n",
      "|  Rolls-Royce|    Automatic|        Black|  California|    Sacramento|2011|163000|\n",
      "|          BMW|    Automatic|        White|  California|    Sacramento|2014|161000|\n",
      "|          BMW|    Automatic|        White|  California|    Sacramento|2014|160000|\n",
      "|          BMW|    Automatic|         Gray|     Florida|   Tallahassee|2014|159000|\n",
      "|      Bentley|    Automatic|        Black|  California|    Sacramento|2013|158000|\n",
      "|          BMW|    Automatic|        White|  California|    Sacramento|2014|158000|\n",
      "|      Porsche|    Automatic|        White|  California|    Sacramento|2014|157000|\n",
      "|Mercedes-Benz|    Automatic|         Gray|     Florida|   Tallahassee|2013|156500|\n",
      "|      Ferrari|    Automatic|       Silver|     Florida|   Tallahassee|2012|156000|\n",
      "|  Rolls-Royce|    Automatic|        Black|  California|    Sacramento|2011|155000|\n",
      "|      Bentley|Not Available|            —|Pennsylvania|    Harrisburg|2014|154750|\n",
      "|  Rolls-Royce|    Automatic|Not Available|  California|    Sacramento|2010|154000|\n",
      "|      Ferrari|    Automatic|         Gray|  California|    Sacramento|2012|154000|\n",
      "|      Bentley|Not Available|         Gray|Pennsylvania|    Harrisburg|2014|153250|\n",
      "|      Porsche|    Automatic|        White|     Florida|   Tallahassee|2014|152000|\n",
      "+-------------+-------------+-------------+------------+--------------+----+------+\n",
      "\n"
     ]
    }
   ],
   "source": [
    "df_pyspark_usaSELECTCol.orderBy(desc(\"Money\")).limit(25).show(25)"
   ]
  },
  {
   "cell_type": "code",
   "execution_count": 249,
   "id": "bbbff54b",
   "metadata": {},
   "outputs": [
    {
     "name": "stdout",
     "output_type": "stream",
     "text": [
      "+-------------+---------+--------+----------+----------+----+---------+\n",
      "|        Model|     Gear|   Color|     State|   Capital|Year|Money USD|\n",
      "+-------------+---------+--------+----------+----------+----+---------+\n",
      "|      Hyundai|Automatic|    Gray|California|Sacramento|2013|    19200|\n",
      "|      Hyundai|Automatic|    Gray|California|Sacramento|2013|     8800|\n",
      "|          Kia|Automatic|   Black|California|Sacramento|2013|    22200|\n",
      "|Mercedes-Benz|Automatic|       —|California|Sacramento|2013|    23500|\n",
      "|        Acura|Automatic|   White|California|Sacramento|2012|    31000|\n",
      "|     Infiniti|Automatic|   Black|California|Sacramento|2012|    23500|\n",
      "|         Mini|Automatic|    Blue|California|Sacramento|2012|    15000|\n",
      "|          BMW|Automatic|   Black|California|Sacramento|2011|    19000|\n",
      "|        Volvo|Automatic|  Silver|California|Sacramento|2012|    22000|\n",
      "|   Volkswagen|Automatic|   White|California|Sacramento|2012|     8100|\n",
      "|       Toyota|Automatic|    Gold|California|Sacramento|2011|     9250|\n",
      "|          Ram|Automatic|  Silver|California|Sacramento|2011|    17800|\n",
      "|      Lincoln|Automatic|Burgundy|California|Sacramento|2010|    12400|\n",
      "|          Kia|Automatic|  Silver|California|Sacramento|2010|     6400|\n",
      "|       Toyota|Automatic|     Red|California|Sacramento|2006|     4800|\n",
      "|         Ford|Automatic|     Red|California|Sacramento|2014|    11600|\n",
      "|         Ford|Automatic|   White|California|Sacramento|2014|     8000|\n",
      "|     Chrysler|Automatic|   White|California|Sacramento|2004|      400|\n",
      "|Mercedes-Benz|Automatic|  Silver|California|Sacramento|2003|     3700|\n",
      "|         Ford|Automatic|     Red|California|Sacramento|2002|     2000|\n",
      "+-------------+---------+--------+----------+----------+----+---------+\n",
      "only showing top 20 rows\n",
      "\n"
     ]
    }
   ],
   "source": [
    "df_pyspark_usaSELECTCol.withColumnRenamed(\"Money\",\"Money USD\").show()"
   ]
  },
  {
   "cell_type": "code",
   "execution_count": 250,
   "id": "6b6b5f1c",
   "metadata": {},
   "outputs": [
    {
     "name": "stdout",
     "output_type": "stream",
     "text": [
      "+-------------+-------------+-------------+------------+--------------+----+------+\n",
      "|        Model|         Gear|        Color|       State|       Capital|Year| Money|\n",
      "+-------------+-------------+-------------+------------+--------------+----+------+\n",
      "|      Ferrari|    Automatic|       Silver|     Florida|   Tallahassee|2012|156000|\n",
      "|      Ferrari|    Automatic|         Gray|  California|    Sacramento|2012|154000|\n",
      "|  Rolls-Royce|    Automatic|        Black|     Florida|   Tallahassee|2012|169500|\n",
      "|  Rolls-Royce|    Automatic|Not Available|  California|    Sacramento|2010|154000|\n",
      "|          BMW|    Automatic|        White|  California|    Sacramento|2014|165000|\n",
      "|  Rolls-Royce|    Automatic|        Black|  California|    Sacramento|2011|163000|\n",
      "|          BMW|    Automatic|        White|     Florida|   Tallahassee|2014|165000|\n",
      "|          BMW|    Automatic|         Gray|     Florida|   Tallahassee|2014|159000|\n",
      "|          BMW|    Automatic|        White|  California|    Sacramento|2014|160000|\n",
      "|          BMW|    Automatic|        White|  California|    Sacramento|2014|158000|\n",
      "|         Ford|    Automatic|        Green|    Missouri|Jefferson City|2014|230000|\n",
      "|      Bentley|    Automatic|        Black|     Florida|   Tallahassee|2013|163000|\n",
      "|          BMW|    Automatic|        White|  California|    Sacramento|2014|161000|\n",
      "|      Bentley|    Automatic|        Black|  California|    Sacramento|2013|158000|\n",
      "|      Porsche|    Automatic|        White|  California|    Sacramento|2014|157000|\n",
      "|  Rolls-Royce|    Automatic|        Black|  California|    Sacramento|2011|155000|\n",
      "|      Bentley|Not Available|         Gray|Pennsylvania|    Harrisburg|2014|153250|\n",
      "|      Bentley|Not Available|            —|Pennsylvania|    Harrisburg|2014|154750|\n",
      "|Mercedes-Benz|    Automatic|        White|  California|    Sacramento|2015|173000|\n",
      "|Mercedes-Benz|    Automatic|         Gray|     Florida|   Tallahassee|2013|156500|\n",
      "|  Rolls-Royce|    Automatic|        White|  California|    Sacramento|2012|167000|\n",
      "|      Ferrari|    Automatic|          Red|     Florida|   Tallahassee|2011|183000|\n",
      "|      Porsche|    Automatic|        White|     Florida|   Tallahassee|2014|152000|\n",
      "|  Rolls-Royce|    Automatic|        White|     Florida|   Tallahassee|2013|171500|\n",
      "|  Rolls-Royce|    Automatic|        White|  California|    Sacramento|2012|169000|\n",
      "+-------------+-------------+-------------+------------+--------------+----+------+\n",
      "\n"
     ]
    }
   ],
   "source": [
    "df_pyspark_usaSELECTCol.filter(df_pyspark_usaSELECTCol['Money'] > 150000).show(25)"
   ]
  },
  {
   "cell_type": "code",
   "execution_count": 251,
   "id": "2a6151d0",
   "metadata": {},
   "outputs": [
    {
     "name": "stdout",
     "output_type": "stream",
     "text": [
      "+-------+---------+------+----------+-----------+----+------+\n",
      "|  Model|     Gear| Color|     State|    Capital|Year| Money|\n",
      "+-------+---------+------+----------+-----------+----+------+\n",
      "|Ferrari|Automatic|Silver|   Florida|Tallahassee|2012|156000|\n",
      "|Ferrari|Automatic|  Gray|California| Sacramento|2012|154000|\n",
      "|Ferrari|Automatic|   Red|   Florida|Tallahassee|2011|183000|\n",
      "+-------+---------+------+----------+-----------+----+------+\n",
      "\n"
     ]
    }
   ],
   "source": [
    "df_pyspark_usaSELECTCol.filter((df_pyspark_usaSELECTCol['Model'] ==\"Ferrari\")\n",
    "                               & (df_pyspark_usaSELECTCol['Money'] > 150000)).show()"
   ]
  },
  {
   "cell_type": "code",
   "execution_count": 252,
   "id": "b55edf17",
   "metadata": {},
   "outputs": [
    {
     "name": "stdout",
     "output_type": "stream",
     "text": [
      "+-----------+---------+-------------+----------+-----------+----+------+\n",
      "|      Model|     Gear|        Color|     State|    Capital|Year| Money|\n",
      "+-----------+---------+-------------+----------+-----------+----+------+\n",
      "|Rolls-Royce|Automatic|        Black|   Florida|Tallahassee|2012|169500|\n",
      "|Rolls-Royce|Automatic|Not Available|California| Sacramento|2010|154000|\n",
      "|Rolls-Royce|Automatic|        Black|California| Sacramento|2011|163000|\n",
      "|Rolls-Royce|Automatic|        Black|California| Sacramento|2011|155000|\n",
      "|Rolls-Royce|Automatic|        White|California| Sacramento|2012|167000|\n",
      "|Rolls-Royce|Automatic|        White|   Florida|Tallahassee|2013|171500|\n",
      "|Rolls-Royce|Automatic|        White|California| Sacramento|2012|169000|\n",
      "+-----------+---------+-------------+----------+-----------+----+------+\n",
      "\n"
     ]
    }
   ],
   "source": [
    "df_pyspark_usaSELECTCol.filter((df_pyspark_usaSELECTCol['Model'] == \"Rolls-Royce\")\n",
    "                               & (df_pyspark_usaSELECTCol['Money'] > 150000)).show()"
   ]
  },
  {
   "cell_type": "code",
   "execution_count": 253,
   "id": "f13b1f9e",
   "metadata": {},
   "outputs": [
    {
     "name": "stdout",
     "output_type": "stream",
     "text": [
      "+-------+-------------+------+----------+-----------+----+------+\n",
      "|  Model|         Gear| Color|     State|    Capital|Year| Money|\n",
      "+-------+-------------+------+----------+-----------+----+------+\n",
      "|Bentley|    Automatic|  Blue|California| Sacramento|2006| 57250|\n",
      "|Bentley|    Automatic| Black|California| Sacramento|2007| 54000|\n",
      "|Bentley|    Automatic|Silver|California| Sacramento|2005| 52500|\n",
      "|Ferrari|    Automatic|   Red|   Florida|Tallahassee|2008|117000|\n",
      "|Bentley|    Automatic|  Gray|   Florida|Tallahassee|2006| 50250|\n",
      "|Bentley|    Automatic|  Gray|     Texas|     Austin|2007| 59000|\n",
      "|Bentley|    Automatic|  Gray|California| Sacramento|2007| 52750|\n",
      "|Bentley|    Automatic|  Gray|     Texas|     Austin|2008| 55000|\n",
      "|Bentley|Not Available| White|California| Sacramento|2007| 76500|\n",
      "|Bentley|    Automatic| White|California| Sacramento|2006| 58500|\n",
      "|Ferrari|    Automatic|Silver|   Florida|Tallahassee|2012|156000|\n",
      "|Bentley|    Automatic| Black|California| Sacramento|2007| 72500|\n",
      "|Bentley|    Automatic| Black|California| Sacramento|2012|118000|\n",
      "|Ferrari|    Automatic| Black|California| Sacramento|2010|124000|\n",
      "|Bentley|    Automatic| Black|California| Sacramento|2005| 44250|\n",
      "|Bentley|    Automatic|  Blue|California| Sacramento|2007| 67000|\n",
      "|Ferrari|    Automatic|  Gray|California| Sacramento|2012|154000|\n",
      "|Bentley|    Automatic| Black|California| Sacramento|2005| 54500|\n",
      "|Bentley|    Automatic| Black|California| Sacramento|2010| 96000|\n",
      "|Bentley|    Automatic|  Gray|    Nevada|Carson City|2008| 69750|\n",
      "|Bentley|    Automatic|Silver|      Ohio|   Columbus|2006| 47500|\n",
      "|Bentley|    Automatic|  Blue|California| Sacramento|2013|139000|\n",
      "|Bentley|    Automatic|  Gray|California| Sacramento|2004| 22700|\n",
      "|Bentley|    Automatic| Black|California| Sacramento|2012|125000|\n",
      "|Bentley|    Automatic|  Blue|California| Sacramento|2008| 70500|\n",
      "+-------+-------------+------+----------+-----------+----+------+\n",
      "only showing top 25 rows\n",
      "\n"
     ]
    }
   ],
   "source": [
    "df_pyspark_usaSELECTCol.filter((df_pyspark_usaSELECTCol['Model'] == \"Bentley\")\n",
    "                               | (df_pyspark_usaSELECTCol['Model'] == \"Ferrari\")).show(25)"
   ]
  },
  {
   "cell_type": "code",
   "execution_count": 254,
   "id": "12a73346",
   "metadata": {},
   "outputs": [
    {
     "name": "stdout",
     "output_type": "stream",
     "text": [
      "+-------------+---------+--------+----------+-----------+----+-----+\n",
      "|        Model|     Gear|   Color|     State|    Capital|Year|Money|\n",
      "+-------------+---------+--------+----------+-----------+----+-----+\n",
      "|Mercedes-Benz|Automatic|       —|California| Sacramento|2013|23500|\n",
      "|         Mini|Automatic|    Blue|California| Sacramento|2012|15000|\n",
      "|Mercedes-Benz|Automatic|  Silver|California| Sacramento|2003| 3700|\n",
      "|        Mazda|Automatic|    Gray|California| Sacramento|2014|19250|\n",
      "|        Mazda|Automatic|    Gray|   Florida|Tallahassee|2011|11600|\n",
      "|        Mazda|Automatic|   Black|  Illinois|Springfield|2008| 5200|\n",
      "|        Mazda|Automatic|  Silver|  Illinois|Springfield|2008| 6300|\n",
      "|      Mercury|Automatic|    Blue|   Florida|Tallahassee|2008| 5800|\n",
      "|      Mercury|Automatic|   Black|     Texas|     Austin|2008| 5100|\n",
      "|Mercedes-Benz|Automatic|     Red|   Florida|Tallahassee|2007| 7800|\n",
      "|Mercedes-Benz|Automatic|  Silver|     Texas|     Austin|2007|10000|\n",
      "|      Mercury|Automatic|  Silver|  Nebraska|    Lincoln|2005| 5300|\n",
      "|Mercedes-Benz|Automatic|   Green|      Ohio|   Columbus|1995|  350|\n",
      "|Mercedes-Benz|Automatic|   Black|     Texas|     Austin|2012|45000|\n",
      "|Mercedes-Benz|Automatic|   Black|   Florida|Tallahassee|2007|14000|\n",
      "|Mercedes-Benz|Automatic|   Black|      Ohio|   Columbus|2012|43500|\n",
      "|Mercedes-Benz|Automatic|Burgundy|    Oregon|      Salem|2000| 2000|\n",
      "|         Mini|Automatic|   White|      Ohio|   Columbus|2014|30250|\n",
      "|   Mitsubishi|Automatic|  Silver|     Texas|     Austin|2014| 9400|\n",
      "|Mercedes-Benz|Automatic|    Gray|    Nevada|Carson City|2012|26901|\n",
      "+-------------+---------+--------+----------+-----------+----+-----+\n",
      "only showing top 20 rows\n",
      "\n"
     ]
    }
   ],
   "source": [
    "df_pyspark_usaSELECTCol.filter(df_pyspark_usaSELECTCol['Model'].like(\"M%\")).show()"
   ]
  },
  {
   "cell_type": "code",
   "execution_count": 255,
   "id": "d66b10bf",
   "metadata": {},
   "outputs": [
    {
     "name": "stdout",
     "output_type": "stream",
     "text": [
      "+-------------+---------+-------------+----------+-----------+----+------+\n",
      "|        Model|     Gear|        Color|     State|    Capital|Year| Money|\n",
      "+-------------+---------+-------------+----------+-----------+----+------+\n",
      "|         Audi|Automatic|        Black|California| Sacramento|2014|105000|\n",
      "|   Land Rover|Automatic|        Brown|California| Sacramento|2014|108000|\n",
      "|   Land Rover|Automatic|        White|California| Sacramento|2014|135000|\n",
      "|         Audi|Automatic|        White|California| Sacramento|2011|112000|\n",
      "|      Ferrari|Automatic|          Red|   Florida|Tallahassee|2008|117000|\n",
      "|Mercedes-Benz|Automatic|         Gray|California| Sacramento|2011|117800|\n",
      "|      Ferrari|Automatic|       Silver|   Florida|Tallahassee|2012|156000|\n",
      "|Mercedes-Benz|Automatic|        Black|California| Sacramento|2014|139000|\n",
      "|      Bentley|Automatic|        Black|California| Sacramento|2012|118000|\n",
      "|      Ferrari|Automatic|        Black|California| Sacramento|2010|124000|\n",
      "|      Ferrari|Automatic|         Gray|California| Sacramento|2012|154000|\n",
      "|Mercedes-Benz|Automatic|     Charcoal|California| Sacramento|2014|134000|\n",
      "|          BMW|Automatic|        White|      Ohio|   Columbus|2014|103000|\n",
      "|          BMW|Automatic|Not Available|      Ohio|   Columbus|2014|113000|\n",
      "|      Bentley|Automatic|         Blue|California| Sacramento|2013|139000|\n",
      "|  Rolls-Royce|Automatic|         Gray| Wisconsin|    Madison|2010|149800|\n",
      "|   Land Rover|Automatic|         Blue|California| Sacramento|2014|109000|\n",
      "|      Bentley|Automatic|        Black|California| Sacramento|2012|125000|\n",
      "|  Rolls-Royce|Automatic|        Black|   Florida|Tallahassee|2012|169500|\n",
      "|   Land Rover|Automatic|     Burgundy|California| Sacramento|2014|113000|\n",
      "+-------------+---------+-------------+----------+-----------+----+------+\n",
      "only showing top 20 rows\n",
      "\n"
     ]
    }
   ],
   "source": [
    "df_pyspark_usaSELECTCol.filter(df_pyspark_usaSELECTCol[\"Money\"].between(100000,300000)).show()"
   ]
  },
  {
   "cell_type": "code",
   "execution_count": 256,
   "id": "ac928196",
   "metadata": {},
   "outputs": [
    {
     "name": "stdout",
     "output_type": "stream",
     "text": [
      "+----------+-------------+-------------+--------------+-----------+----+-----+\n",
      "|     Model|         Gear|        Color|         State|    Capital|Year|Money|\n",
      "+----------+-------------+-------------+--------------+-----------+----+-----+\n",
      "|    Toyota|Not Available|        White|  Pennsylvania| Harrisburg|2012|27400|\n",
      "|      Jeep|       Manual|        Black|     Tennessee|  Nashville|2011|24700|\n",
      "|       Kia|Not Available|        Green|        Nevada|Carson City|2010| 9000|\n",
      "|Volkswagen|       Manual|         Gray|      Michigan|    Lansing|2010| 7200|\n",
      "|      Ford|Not Available|         Gray|  Pennsylvania| Harrisburg|2014|28000|\n",
      "|    Toyota|Not Available|        White|      Illinois|Springfield|2007|16200|\n",
      "|      Jeep|Not Available|        White|       Arizona|    Phoenix|2006| 6000|\n",
      "|Volkswagen|Not Available|        Green|      Illinois|Springfield|2005| 4700|\n",
      "|      Audi|       Manual|       Silver|       Florida|Tallahassee|2004| 3600|\n",
      "| Chevrolet|Not Available|        White|       Arizona|    Phoenix|2004| 5700|\n",
      "|   Pontiac|Not Available|Not Available|      Illinois|Springfield|2004| 1500|\n",
      "|    Nissan|Not Available|         Gold|      Illinois|Springfield|2003| 1000|\n",
      "|       Kia|Not Available|        Black|  Pennsylvania| Harrisburg|2014|13400|\n",
      "|     Honda|Not Available|Not Available|      Virginia|   Richmond|1998|  325|\n",
      "|      Audi|Not Available|         Gray|  Pennsylvania| Harrisburg|2013|37500|\n",
      "|      Ford|Not Available|        White|  Pennsylvania| Harrisburg|2013|14200|\n",
      "|   Hyundai|       Manual|       Silver|      Colorado|     Denver|2013|15600|\n",
      "|    Nissan|Not Available|        Black|North Carolina|    Raleigh|2013|13600|\n",
      "|     Acura|Not Available|        Black|  Pennsylvania| Harrisburg|2012|18900|\n",
      "| Chevrolet|Not Available|         Gray|    New Jersey|    Trenton|2012| 9600|\n",
      "+----------+-------------+-------------+--------------+-----------+----+-----+\n",
      "only showing top 20 rows\n",
      "\n"
     ]
    }
   ],
   "source": [
    "df_pyspark_usaSELECTCol.filter(df_pyspark_usaSELECTCol[\"Gear\"] != \"Automatic\").select(\"*\").show()"
   ]
  },
  {
   "cell_type": "code",
   "execution_count": 257,
   "id": "5480d51a",
   "metadata": {},
   "outputs": [
    {
     "name": "stdout",
     "output_type": "stream",
     "text": [
      "+-------+-------------+------+--------------+--------------+----+-----+\n",
      "|  Model|         Gear| Color|         State|       Capital|Year|Money|\n",
      "+-------+-------------+------+--------------+--------------+----+-----+\n",
      "| Jaguar|    Automatic| Beige|    New Jersey|       Trenton|2000| 1000|\n",
      "| Jaguar|    Automatic| Beige|North Carolina|       Raleigh|2005| 2000|\n",
      "| Jaguar|    Automatic|   Red|       Florida|   Tallahassee|2003| 2200|\n",
      "|Porsche|    Automatic| Black|       Florida|   Tallahassee|2002| 7000|\n",
      "|Porsche|       Manual|Silver|    California|    Sacramento|2002|33500|\n",
      "| Jaguar|    Automatic| Black|    California|    Sacramento|2012|50000|\n",
      "| Jaguar|Not Available|     —|       Florida|   Tallahassee|2011|25000|\n",
      "| Jaguar|    Automatic| White|      Missouri|Jefferson City|2009|12300|\n",
      "|Porsche|    Automatic| Black|    California|    Sacramento|2013|49500|\n",
      "| Jaguar|    Automatic| Black|    California|    Sacramento|2014|73000|\n",
      "| Jaguar|    Automatic| Black|     Wisconsin|       Madison|2013|41400|\n",
      "|Porsche|    Automatic|  Gold|       Georgia|       Atlanta|2006|11000|\n",
      "| Jaguar|    Automatic| Black|      Maryland|     Annapolis|2003|  600|\n",
      "| Jaguar|    Automatic| Black|    California|    Sacramento|2011|33500|\n",
      "| Jaguar|    Automatic|  Blue|      Michigan|       Lansing|2003| 2950|\n",
      "|Porsche|       Manual| Black|       Florida|   Tallahassee|2002|20000|\n",
      "|Porsche|    Automatic| White|    California|    Sacramento|2014|59000|\n",
      "|Porsche|    Automatic| Black|      Illinois|   Springfield|2008|22250|\n",
      "|Porsche|    Automatic| Black|    California|    Sacramento|2012|48500|\n",
      "|Porsche|    Automatic|  Gray|    California|    Sacramento|2002| 6000|\n",
      "+-------+-------------+------+--------------+--------------+----+-----+\n",
      "only showing top 20 rows\n",
      "\n"
     ]
    }
   ],
   "source": [
    "Model = ['Rolls-Royce','Porsche','Bentley','Jaguar']\n",
    "df_pyspark_usaSELECTCol.filter(df_pyspark_usaSELECTCol['Model'].isin(Model)).show()"
   ]
  },
  {
   "cell_type": "code",
   "execution_count": 258,
   "id": "495418f3",
   "metadata": {},
   "outputs": [
    {
     "name": "stdout",
     "output_type": "stream",
     "text": [
      "+----------+---------+--------+----------+----------+----+-----+\n",
      "|     Model|     Gear|   Color|     State|   Capital|Year|Money|\n",
      "+----------+---------+--------+----------+----------+----+-----+\n",
      "|   Hyundai|Automatic|    Gray|California|Sacramento|2013|19200|\n",
      "|   Hyundai|Automatic|    Gray|California|Sacramento|2013| 8800|\n",
      "|       Kia|Automatic|   Black|California|Sacramento|2013|22200|\n",
      "|     Acura|Automatic|   White|California|Sacramento|2012|31000|\n",
      "|  Infiniti|Automatic|   Black|California|Sacramento|2012|23500|\n",
      "|      Mini|Automatic|    Blue|California|Sacramento|2012|15000|\n",
      "|Volkswagen|Automatic|   White|California|Sacramento|2012| 8100|\n",
      "|    Toyota|Automatic|    Gold|California|Sacramento|2011| 9250|\n",
      "|       Ram|Automatic|  Silver|California|Sacramento|2011|17800|\n",
      "|   Lincoln|Automatic|Burgundy|California|Sacramento|2010|12400|\n",
      "|       Kia|Automatic|  Silver|California|Sacramento|2010| 6400|\n",
      "|    Toyota|Automatic|     Red|California|Sacramento|2006| 4800|\n",
      "|      Ford|Automatic|     Red|California|Sacramento|2014|11600|\n",
      "|      Ford|Automatic|   White|California|Sacramento|2014| 8000|\n",
      "|  Chrysler|Automatic|   White|California|Sacramento|2004|  400|\n",
      "|      Ford|Automatic|     Red|California|Sacramento|2002| 2000|\n",
      "|      Audi|Automatic|    Blue|California|Sacramento|2001|  900|\n",
      "|    Nissan|Automatic|    Gold|California|Sacramento|1996| 1000|\n",
      "|       Kia|Automatic|   White|California|Sacramento|2014|16750|\n",
      "|     Mazda|Automatic|    Gray|California|Sacramento|2014|19250|\n",
      "+----------+---------+--------+----------+----------+----+-----+\n",
      "only showing top 20 rows\n",
      "\n"
     ]
    }
   ],
   "source": [
    "Model = ['BMW','Mercedes-Benz','Volvo']\n",
    "df_pyspark_usaSELECTCol.filter(~df_pyspark_usaSELECTCol['Model'].isin(Model)).show()"
   ]
  },
  {
   "cell_type": "code",
   "execution_count": 259,
   "id": "6839fe1e",
   "metadata": {},
   "outputs": [
    {
     "name": "stdout",
     "output_type": "stream",
     "text": [
      "+-------------+-----+\n",
      "|        Model|Count|\n",
      "+-------------+-----+\n",
      "|         Ford|82325|\n",
      "|    Chevrolet|55052|\n",
      "|       Nissan|44196|\n",
      "|       Toyota|35504|\n",
      "|        Dodge|27963|\n",
      "|        Honda|24175|\n",
      "|          BMW|18692|\n",
      "|      Hyundai|18342|\n",
      "|          Kia|16044|\n",
      "|Mercedes-Benz|15731|\n",
      "|     Chrysler|15590|\n",
      "|         Jeep|14389|\n",
      "|     Infiniti|11922|\n",
      "|   Volkswagen|11603|\n",
      "|        Lexus|11060|\n",
      "|          Gmc|10189|\n",
      "|        Mazda| 7980|\n",
      "|     Cadillac| 7465|\n",
      "|         Audi| 5721|\n",
      "|        Acura| 5551|\n",
      "|      Lincoln| 5506|\n",
      "|        Buick| 4999|\n",
      "|       Subaru| 4817|\n",
      "|      Pontiac| 4397|\n",
      "|          Ram| 4348|\n",
      "|   Mitsubishi| 3804|\n",
      "|        Volvo| 3617|\n",
      "|         Mini| 2960|\n",
      "|       Saturn| 2797|\n",
      "|      Mercury| 2010|\n",
      "|   Land Rover| 1802|\n",
      "|        Scion| 1638|\n",
      "|       Jaguar| 1396|\n",
      "|      Porsche| 1390|\n",
      "|       Suzuki|  895|\n",
      "|       Hummer|  792|\n",
      "|         Fiat|  740|\n",
      "|         Saab|  481|\n",
      "|   Oldsmobile|  382|\n",
      "|        Smart|  374|\n",
      "|        Isuzu|  200|\n",
      "|     Maserati|  134|\n",
      "|      Bentley|  115|\n",
      "|    Landrover|   27|\n",
      "|     Plymouth|   27|\n",
      "| Aston Martin|   25|\n",
      "|        Tesla|   23|\n",
      "|      Ferrari|   19|\n",
      "|          Geo|   19|\n",
      "|  Rolls-Royce|   17|\n",
      "|           Vw|   16|\n",
      "|    Gmc Truck|   11|\n",
      "|       Fisker|    9|\n",
      "|  Lamborghini|    4|\n",
      "|   Ford Truck|    3|\n",
      "|       Daewoo|    2|\n",
      "|          Dot|    1|\n",
      "|    Airstream|    1|\n",
      "|     Dodge Tk|    1|\n",
      "|     Mazda Tk|    1|\n",
      "|        Lotus|    1|\n",
      "|   Chev Truck|    1|\n",
      "|      Ford Tk|    1|\n",
      "+-------------+-----+\n",
      "\n"
     ]
    }
   ],
   "source": [
    "df_pyspark_usaSELECTCol.groupBy(\"Model\").agg(count(\"*\").alias(\"Count\")).select(\"Model\",\"Count\").orderBy(desc(\"Count\")).show(400)"
   ]
  },
  {
   "cell_type": "code",
   "execution_count": 260,
   "id": "0b4706bb",
   "metadata": {},
   "outputs": [
    {
     "name": "stdout",
     "output_type": "stream",
     "text": [
      "+-------------+------+\n",
      "|         Gear| Count|\n",
      "+-------------+------+\n",
      "|    Automatic|418391|\n",
      "|Not Available| 54261|\n",
      "|       Manual| 16645|\n",
      "+-------------+------+\n",
      "\n"
     ]
    }
   ],
   "source": [
    "df_pyspark_usaSELECTCol.groupBy(\"Gear\").agg(count(\"*\").alias(\"Count\")).select(\"Gear\",\"Count\").orderBy(desc(\"Count\")).show()"
   ]
  },
  {
   "cell_type": "code",
   "execution_count": 261,
   "id": "08d3b2bc",
   "metadata": {},
   "outputs": [
    {
     "name": "stdout",
     "output_type": "stream",
     "text": [
      "+-------------+-----+\n",
      "|        Color|Count|\n",
      "+-------------+-----+\n",
      "|        Black|95849|\n",
      "|        White|90763|\n",
      "|       Silver|73851|\n",
      "|         Gray|71184|\n",
      "|         Blue|46138|\n",
      "|          Red|39420|\n",
      "|            —|20081|\n",
      "|        Green|10597|\n",
      "|         Gold|10594|\n",
      "|     Burgundy| 8544|\n",
      "|        Beige| 8449|\n",
      "|        Brown| 6346|\n",
      "|       Orange| 1929|\n",
      "|       Purple| 1477|\n",
      "|    Off-white| 1404|\n",
      "|       Yellow| 1201|\n",
      "|Not Available|  725|\n",
      "|     Charcoal|  464|\n",
      "|    Turquoise|  225|\n",
      "|         Pink|   41|\n",
      "+-------------+-----+\n",
      "only showing top 20 rows\n",
      "\n"
     ]
    }
   ],
   "source": [
    "df_pyspark_usaSELECTCol.groupBy(\"Color\").agg(count(\"*\").alias(\"Count\")).select(\"Color\",\"Count\").orderBy(desc(\"Count\")).show()"
   ]
  },
  {
   "cell_type": "code",
   "execution_count": 262,
   "id": "fad531ec",
   "metadata": {},
   "outputs": [
    {
     "name": "stdout",
     "output_type": "stream",
     "text": [
      "+--------------+-----+\n",
      "|       Capital|Count|\n",
      "+--------------+-----+\n",
      "|   Tallahassee|69024|\n",
      "|    Sacramento|61808|\n",
      "|    Harrisburg|47527|\n",
      "|        Austin|41116|\n",
      "|       Atlanta|31924|\n",
      "|       Trenton|24805|\n",
      "|       Raleigh|20418|\n",
      "|   Springfield|19603|\n",
      "|      Columbus|19575|\n",
      "|     Nashville|18200|\n",
      "|Jefferson City|14509|\n",
      "|       Lansing|14290|\n",
      "|   Carson City|11807|\n",
      "|      Richmond|11355|\n",
      "|     Annapolis|10603|\n",
      "|       Madison| 9163|\n",
      "|      St. Paul| 8769|\n",
      "|       Phoenix| 8335|\n",
      "|        Denver| 7305|\n",
      "|       Olympia| 6838|\n",
      "|        Boston| 6427|\n",
      "|        Albany| 5485|\n",
      "|  Indianapolis| 4199|\n",
      "|      Columbia| 4094|\n",
      "|       Lincoln| 3844|\n",
      "|   Baton Rouge| 2137|\n",
      "|       Jackson| 1794|\n",
      "|Salt Lake City| 1774|\n",
      "|      Honolulu| 1195|\n",
      "|         Salem| 1116|\n",
      "|      Santa Fe|  164|\n",
      "| Oklahoma City|   69|\n",
      "|    Montgomery|   25|\n",
      "+--------------+-----+\n",
      "\n"
     ]
    }
   ],
   "source": [
    "df_pyspark_usaSELECTCol.groupBy(\"Capital\").agg(count(\"*\")\\\n",
    "                                               .alias(\"Count\")).select(\"Capital\",\"Count\").orderBy(desc(\"Count\")).show(40)"
   ]
  },
  {
   "cell_type": "code",
   "execution_count": 263,
   "id": "e7ef3a74",
   "metadata": {},
   "outputs": [
    {
     "name": "stdout",
     "output_type": "stream",
     "text": [
      "+--------------+-----+\n",
      "|         State|Count|\n",
      "+--------------+-----+\n",
      "|       Florida|69024|\n",
      "|    California|61808|\n",
      "|  Pennsylvania|47527|\n",
      "|         Texas|41116|\n",
      "|       Georgia|31924|\n",
      "|    New Jersey|24805|\n",
      "|North Carolina|20418|\n",
      "|      Illinois|19603|\n",
      "|          Ohio|19575|\n",
      "|     Tennessee|18200|\n",
      "|      Missouri|14509|\n",
      "|      Michigan|14290|\n",
      "|        Nevada|11807|\n",
      "|      Virginia|11355|\n",
      "|      Maryland|10603|\n",
      "|     Wisconsin| 9163|\n",
      "|     Minnesota| 8769|\n",
      "|       Arizona| 8335|\n",
      "|      Colorado| 7305|\n",
      "|    Washington| 6838|\n",
      "| Massachusetts| 6427|\n",
      "|      New York| 5485|\n",
      "|       Indiana| 4199|\n",
      "|South Carolina| 4094|\n",
      "|      Nebraska| 3844|\n",
      "|     Louisiana| 2137|\n",
      "|   Mississippi| 1794|\n",
      "|          Utah| 1774|\n",
      "|        Hawaii| 1195|\n",
      "|        Oregon| 1116|\n",
      "|    New Mexico|  164|\n",
      "|      Oklahoma|   69|\n",
      "|       Alabama|   25|\n",
      "+--------------+-----+\n",
      "\n"
     ]
    }
   ],
   "source": [
    "df_pyspark_usaSELECTCol.groupBy(\"State\").agg(count(\"*\").alias(\"Count\")).select(\"State\",\"Count\").orderBy(desc(\"Count\")).show(40)"
   ]
  },
  {
   "cell_type": "code",
   "execution_count": 264,
   "id": "e309577f",
   "metadata": {},
   "outputs": [
    {
     "name": "stdout",
     "output_type": "stream",
     "text": [
      "+----+-----+\n",
      "|Year|Count|\n",
      "+----+-----+\n",
      "|1984|    1|\n",
      "|1985|    2|\n",
      "|1986|    2|\n",
      "|1987|    1|\n",
      "|1989|    6|\n",
      "|1990|   45|\n",
      "|1991|   65|\n",
      "|1992|  123|\n",
      "|1993|  177|\n",
      "|1994|  350|\n",
      "|1995|  644|\n",
      "|1996|  749|\n",
      "|1997| 1333|\n",
      "|1998| 1888|\n",
      "|1999| 2964|\n",
      "|2000| 4459|\n",
      "|2001| 6291|\n",
      "|2002| 9383|\n",
      "|2003|12455|\n",
      "|2004|16110|\n",
      "|2005|19680|\n",
      "|2006|24651|\n",
      "|2007|28511|\n",
      "|2008|30067|\n",
      "|2009|19693|\n",
      "|2010|24809|\n",
      "|2011|43578|\n",
      "|2012|83399|\n",
      "|2013|83677|\n",
      "|2014|65698|\n",
      "|2015| 8486|\n",
      "+----+-----+\n",
      "\n"
     ]
    }
   ],
   "source": [
    "df_pyspark_usaSELECTCol.groupBy(\"Year\").agg(count(\"*\").alias(\"Count\")).select(\"Year\",\"Count\").orderBy('Year').show(40)"
   ]
  },
  {
   "cell_type": "code",
   "execution_count": 265,
   "id": "a8f8e3de",
   "metadata": {},
   "outputs": [
    {
     "name": "stdout",
     "output_type": "stream",
     "text": [
      "+-------------+------------------+---------+---------+-----------+\n",
      "|        Model|         AVG Money|Min Money|Max Money|Total Money|\n",
      "+-------------+------------------+---------+---------+-----------+\n",
      "|   Volkswagen| 9255.467034387659|      200|    42800|  107391184|\n",
      "|   Oldsmobile|   937.82722513089|      200|     5000|     358250|\n",
      "|     Infiniti|20321.044287871162|      200|    75000|  242267490|\n",
      "|        Lexus|19919.186708860758|      200|    81000|  220306205|\n",
      "|       Jaguar|19786.265042979943|      250|    95250|   27621626|\n",
      "|       Saturn|3387.0307472291743|      150|    15050|    9473525|\n",
      "|     Maserati| 45374.62686567164|     1200|    95000|    6080200|\n",
      "|        Scion| 9497.100122100122|      800|    22000|   15556250|\n",
      "|  Rolls-Royce|153488.23529411765|   140000|   171500|    2609300|\n",
      "|          Dot|             500.0|      500|      500|        500|\n",
      "|         Jeep|14598.817012996038|      200|    61000|  210062378|\n",
      "|   Mitsubishi|8153.3209779179815|      100|    34400|   31015233|\n",
      "|          Kia|11572.987596609324|      150|    42750|  185677013|\n",
      "|         Mini|12190.236486486487|     1100|    34750|   36083100|\n",
      "|    Chevrolet|11929.673690329144|      100|    88250|  656752396|\n",
      "|        Volvo|10983.343102018247|      200|    34700|   39726752|\n",
      "|      Hyundai|10867.440082869916|      100|    55000|  199330586|\n",
      "|         Saab|3609.1476091476093|      200|    17750|    1736000|\n",
      "|        Honda|10723.860765253361|      200|    37000|  259249334|\n",
      "|    Landrover|11516.666666666666|     2200|    20000|     310950|\n",
      "|         Audi|19874.108547456737|      150|   120000|  113699775|\n",
      "|          Ram|25126.589466421345|     3000|    54000|  109250411|\n",
      "|     Cadillac|15047.504487608841|      150|    83000|  112329621|\n",
      "|        Isuzu|           1724.88|        1|     7900|     344976|\n",
      "|     Plymouth| 7287.962962962963|      300|    26500|     196775|\n",
      "|      Pontiac| 3776.216966113259|      100|    30000|   16604026|\n",
      "|          Geo| 528.9473684210526|      150|     1600|      10050|\n",
      "|   Land Rover|31475.197003329635|      200|   135000|   56718305|\n",
      "|Mercedes-Benz|21399.320195791748|        1|   173000|  336632706|\n",
      "|   Ford Truck| 483.3333333333333|      350|      700|       1450|\n",
      "+-------------+------------------+---------+---------+-----------+\n",
      "only showing top 30 rows\n",
      "\n"
     ]
    }
   ],
   "source": [
    "df_pyspark_usaSELECTCol.groupBy(\"Model\").agg(avg(\"Money\").alias(\"AVG Money\"),\n",
    "                                            min(\"Money\").alias(\"Min Money\"),\n",
    "                                            max(\"Money\").alias(\"Max Money\"),\n",
    "                                            sum(\"Money\").alias(\"Total Money\")).show(30)"
   ]
  },
  {
   "cell_type": "code",
   "execution_count": 266,
   "id": "5de44df1",
   "metadata": {},
   "outputs": [
    {
     "name": "stdout",
     "output_type": "stream",
     "text": [
      "+-----------+------------------+\n",
      "|      Model|             Money|\n",
      "+-----------+------------------+\n",
      "|Rolls-Royce|153488.23529411765|\n",
      "|    Ferrari|127210.52631578948|\n",
      "|Lamborghini|          112625.0|\n",
      "+-----------+------------------+\n",
      "\n"
     ]
    }
   ],
   "source": [
    "df_pyspark_usaSELECTCol.groupBy(\"Model\").agg(avg(col(\"Money\")\\\n",
    "                                                 .cast(\"double\"))\\\n",
    "                                             .alias(\"Money\")).filter(col(\"Money\") > 100000).select(\"Model\",\"Money\").show()"
   ]
  },
  {
   "cell_type": "code",
   "execution_count": 267,
   "id": "09dfc8d8",
   "metadata": {},
   "outputs": [
    {
     "name": "stdout",
     "output_type": "stream",
     "text": [
      "+-----------+\n",
      "|      Model|\n",
      "+-----------+\n",
      "| Volkswagen|\n",
      "| Oldsmobile|\n",
      "|   Infiniti|\n",
      "|      Lexus|\n",
      "|     Jaguar|\n",
      "|     Saturn|\n",
      "|   Maserati|\n",
      "|      Scion|\n",
      "|Rolls-Royce|\n",
      "|        Dot|\n",
      "|       Jeep|\n",
      "| Mitsubishi|\n",
      "|        Kia|\n",
      "|       Mini|\n",
      "|  Chevrolet|\n",
      "|      Volvo|\n",
      "|    Hyundai|\n",
      "|       Saab|\n",
      "|      Honda|\n",
      "|  Landrover|\n",
      "+-----------+\n",
      "only showing top 20 rows\n",
      "\n"
     ]
    }
   ],
   "source": [
    "df_pyspark_usaSELECTCol.select(\"Model\").distinct().show()"
   ]
  },
  {
   "cell_type": "code",
   "execution_count": 268,
   "id": "3a222735",
   "metadata": {},
   "outputs": [
    {
     "name": "stdout",
     "output_type": "stream",
     "text": [
      "+-------------+---------+--------+----------+----------+----+-----+----------+\n",
      "|        Model|     Gear|   Color|     State|   Capital|Year|Money|Money EURO|\n",
      "+-------------+---------+--------+----------+----------+----+-----+----------+\n",
      "|      Hyundai|Automatic|    Gray|California|Sacramento|2013|19200|   17472.0|\n",
      "|      Hyundai|Automatic|    Gray|California|Sacramento|2013| 8800|    8008.0|\n",
      "|          Kia|Automatic|   Black|California|Sacramento|2013|22200|   20202.0|\n",
      "|Mercedes-Benz|Automatic|       —|California|Sacramento|2013|23500|   21385.0|\n",
      "|        Acura|Automatic|   White|California|Sacramento|2012|31000|   28210.0|\n",
      "|     Infiniti|Automatic|   Black|California|Sacramento|2012|23500|   21385.0|\n",
      "|         Mini|Automatic|    Blue|California|Sacramento|2012|15000|   13650.0|\n",
      "|          BMW|Automatic|   Black|California|Sacramento|2011|19000|   17290.0|\n",
      "|        Volvo|Automatic|  Silver|California|Sacramento|2012|22000|   20020.0|\n",
      "|   Volkswagen|Automatic|   White|California|Sacramento|2012| 8100|    7371.0|\n",
      "|       Toyota|Automatic|    Gold|California|Sacramento|2011| 9250|    8417.5|\n",
      "|          Ram|Automatic|  Silver|California|Sacramento|2011|17800|   16198.0|\n",
      "|      Lincoln|Automatic|Burgundy|California|Sacramento|2010|12400|   11284.0|\n",
      "|          Kia|Automatic|  Silver|California|Sacramento|2010| 6400|    5824.0|\n",
      "|       Toyota|Automatic|     Red|California|Sacramento|2006| 4800|    4368.0|\n",
      "|         Ford|Automatic|     Red|California|Sacramento|2014|11600|   10556.0|\n",
      "|         Ford|Automatic|   White|California|Sacramento|2014| 8000|    7280.0|\n",
      "|     Chrysler|Automatic|   White|California|Sacramento|2004|  400|     364.0|\n",
      "|Mercedes-Benz|Automatic|  Silver|California|Sacramento|2003| 3700|    3367.0|\n",
      "|         Ford|Automatic|     Red|California|Sacramento|2002| 2000|    1820.0|\n",
      "+-------------+---------+--------+----------+----------+----+-----+----------+\n",
      "only showing top 20 rows\n",
      "\n"
     ]
    }
   ],
   "source": [
    "df_pyspark_usaSELECTCol.withColumn(\"Money EURO\", df_pyspark_usaSELECTCol['Money'] * 0.91).show()"
   ]
  },
  {
   "cell_type": "code",
   "execution_count": 269,
   "id": "8c8380b8",
   "metadata": {},
   "outputs": [
    {
     "name": "stdout",
     "output_type": "stream",
     "text": [
      "+--------------+----+-----+---------+\n",
      "|       Capital|left|right|substring|\n",
      "+--------------+----+-----+---------+\n",
      "|   Carson City|  Ca|   ty|       rs|\n",
      "|        Boston|  Bo|   on|       st|\n",
      "|      Honolulu|  Ho|   lu|       no|\n",
      "|      St. Paul|  St|   ul|       . |\n",
      "|        Denver|  De|   er|       nv|\n",
      "|   Baton Rouge|  Ba|   ge|       to|\n",
      "|    Montgomery|  Mo|   ry|       nt|\n",
      "|      Santa Fe|  Sa|   Fe|       nt|\n",
      "|       Lincoln|  Li|   ln|       nc|\n",
      "|Jefferson City|  Je|   ty|       ff|\n",
      "|      Columbia|  Co|   ia|       lu|\n",
      "|       Phoenix|  Ph|   ix|       oe|\n",
      "|       Madison|  Ma|   on|       di|\n",
      "|    Sacramento|  Sa|   to|       cr|\n",
      "|   Tallahassee|  Ta|   ee|       ll|\n",
      "|     Nashville|  Na|   le|       sh|\n",
      "|      Richmond|  Ri|   nd|       ch|\n",
      "|       Lansing|  La|   ng|       ns|\n",
      "|     Annapolis|  An|   is|       na|\n",
      "|       Atlanta|  At|   ta|       la|\n",
      "|    Harrisburg|  Ha|   rg|       rr|\n",
      "|         Salem|  Sa|   em|       le|\n",
      "|Salt Lake City|  Sa|   ty|       lt|\n",
      "|        Austin|  Au|   in|       st|\n",
      "|   Springfield|  Sp|   ld|       ri|\n",
      "|       Jackson|  Ja|   on|       ck|\n",
      "|       Trenton|  Tr|   on|       en|\n",
      "| Oklahoma City|  Ok|   ty|       la|\n",
      "|       Olympia|  Ol|   ia|       ym|\n",
      "|        Albany|  Al|   ny|       ba|\n",
      "|  Indianapolis|  In|   is|       di|\n",
      "|       Raleigh|  Ra|   gh|       le|\n",
      "|      Columbus|  Co|   us|       lu|\n",
      "+--------------+----+-----+---------+\n",
      "\n"
     ]
    }
   ],
   "source": [
    "df_pyspark_usaSELECTCol.select(df_pyspark_usaSELECTCol[\"Capital\"]\n",
    "                               ,substring(df_pyspark_usaSELECTCol['Capital'],1,2).alias(\"left\")\n",
    "                               ,substring(df_pyspark_usaSELECTCol['Capital'],-2,2).alias(\"right\")\n",
    "                               ,substring(df_pyspark_usaSELECTCol['Capital'],3,2).alias(\"substring\")).distinct().show(35)\n",
    "    "
   ]
  },
  {
   "cell_type": "code",
   "execution_count": 270,
   "id": "388f7eb9",
   "metadata": {},
   "outputs": [
    {
     "name": "stdout",
     "output_type": "stream",
     "text": [
      "+------------------------------+\n",
      "|Model                         |\n",
      "+------------------------------+\n",
      "|Hyundai Automatic Gray        |\n",
      "|Hyundai Automatic Gray        |\n",
      "|Kia Automatic Black           |\n",
      "|Mercedes-Benz Automatic —     |\n",
      "|Acura Automatic White         |\n",
      "|Infiniti Automatic Black      |\n",
      "|Mini Automatic Blue           |\n",
      "|BMW Automatic Black           |\n",
      "|Volvo Automatic Silver        |\n",
      "|Volkswagen Automatic White    |\n",
      "|Toyota Automatic Gold         |\n",
      "|Ram Automatic Silver          |\n",
      "|Lincoln Automatic Burgundy    |\n",
      "|Kia Automatic Silver          |\n",
      "|Toyota Automatic Red          |\n",
      "|Ford Automatic Red            |\n",
      "|Ford Automatic White          |\n",
      "|Chrysler Automatic White      |\n",
      "|Mercedes-Benz Automatic Silver|\n",
      "|Ford Automatic Red            |\n",
      "+------------------------------+\n",
      "only showing top 20 rows\n",
      "\n"
     ]
    }
   ],
   "source": [
    "df_pyspark_usaSELECTCol.select(concat(df_pyspark_usaSELECTCol[\"Model\"],\n",
    "                                     lit(\" \"),\n",
    "                                     df_pyspark_usaSELECTCol[\"Gear\"],\n",
    "                                     lit(\" \"),\n",
    "                                     df_pyspark_usaSELECTCol[\"Color\"]).alias(\"Model\")).show(truncate=False)"
   ]
  },
  {
   "cell_type": "markdown",
   "id": "5ca4134e",
   "metadata": {},
   "source": [
    "### Money"
   ]
  },
  {
   "cell_type": "code",
   "execution_count": 271,
   "id": "d2a6a690",
   "metadata": {},
   "outputs": [],
   "source": [
    "Min = df_pyspark_usaSELECTCol.agg(min(\"Money\")).first()[0]\n",
    "Max = df_pyspark_usaSELECTCol.agg(max(\"Money\")).first()[0]"
   ]
  },
  {
   "cell_type": "code",
   "execution_count": 272,
   "id": "ed9504c7",
   "metadata": {},
   "outputs": [],
   "source": [
    "MinMoney = df_pyspark_usaSELECTCol.filter(df_pyspark_usaSELECTCol['Money']==Min)\n",
    "MaxMoney = df_pyspark_usaSELECTCol.filter(df_pyspark_usaSELECTCol['Money']==Max)"
   ]
  },
  {
   "cell_type": "code",
   "execution_count": 273,
   "id": "1c6f44ed",
   "metadata": {},
   "outputs": [
    {
     "name": "stdout",
     "output_type": "stream",
     "text": [
      "+-------------+-------------+-----+----------+--------------+----+------+\n",
      "|        Model|         Gear|Color|     State|       Capital|Year| Money|\n",
      "+-------------+-------------+-----+----------+--------------+----+------+\n",
      "|         Ford|    Automatic|Green|  Missouri|Jefferson City|2014|230000|\n",
      "|Mercedes-Benz|    Automatic|Black|   Georgia|       Atlanta|2003|     1|\n",
      "|         Ford|Not Available|White|California|    Sacramento|2002|     1|\n",
      "|         Ford|    Automatic|White|     Texas|        Austin|2014|     1|\n",
      "|        Isuzu|Not Available|  Red|  Virginia|      Richmond|1995|     1|\n",
      "+-------------+-------------+-----+----------+--------------+----+------+\n",
      "\n"
     ]
    }
   ],
   "source": [
    "UnionMaxMinMoney = MaxMoney.union(MinMoney)\n",
    "UnionMaxMinMoney.show()"
   ]
  },
  {
   "cell_type": "code",
   "execution_count": 274,
   "id": "05107723",
   "metadata": {},
   "outputs": [
    {
     "name": "stdout",
     "output_type": "stream",
     "text": [
      "+-------------+---------+------+----------+--------------+----+------+---+\n",
      "|        Model|     Gear| Color|     State|       Capital|Year| Money| RN|\n",
      "+-------------+---------+------+----------+--------------+----+------+---+\n",
      "|         Ford|Automatic| Green|  Missouri|Jefferson City|2014|230000|  1|\n",
      "|      Ferrari|Automatic|   Red|   Florida|   Tallahassee|2011|183000|  2|\n",
      "|Mercedes-Benz|Automatic| White|California|    Sacramento|2015|173000|  3|\n",
      "|  Rolls-Royce|Automatic| White|   Florida|   Tallahassee|2013|171500|  4|\n",
      "|  Rolls-Royce|Automatic| Black|   Florida|   Tallahassee|2012|169500|  5|\n",
      "|  Rolls-Royce|Automatic| White|California|    Sacramento|2012|169000|  6|\n",
      "|  Rolls-Royce|Automatic| White|California|    Sacramento|2012|167000|  7|\n",
      "|          BMW|Automatic| White|   Florida|   Tallahassee|2014|165000|  8|\n",
      "|          BMW|Automatic| White|California|    Sacramento|2014|165000|  9|\n",
      "|      Bentley|Automatic| Black|   Florida|   Tallahassee|2013|163000| 10|\n",
      "|  Rolls-Royce|Automatic| Black|California|    Sacramento|2011|163000| 11|\n",
      "|          BMW|Automatic| White|California|    Sacramento|2014|161000| 12|\n",
      "|          BMW|Automatic| White|California|    Sacramento|2014|160000| 13|\n",
      "|          BMW|Automatic|  Gray|   Florida|   Tallahassee|2014|159000| 14|\n",
      "|      Bentley|Automatic| Black|California|    Sacramento|2013|158000| 15|\n",
      "|          BMW|Automatic| White|California|    Sacramento|2014|158000| 16|\n",
      "|      Porsche|Automatic| White|California|    Sacramento|2014|157000| 17|\n",
      "|Mercedes-Benz|Automatic|  Gray|   Florida|   Tallahassee|2013|156500| 18|\n",
      "|      Ferrari|Automatic|Silver|   Florida|   Tallahassee|2012|156000| 19|\n",
      "|  Rolls-Royce|Automatic| Black|California|    Sacramento|2011|155000| 20|\n",
      "+-------------+---------+------+----------+--------------+----+------+---+\n",
      "only showing top 20 rows\n",
      "\n"
     ]
    }
   ],
   "source": [
    "windowSpec = Window.orderBy(col(\"Money\").desc())\n",
    "\n",
    "df_pyspark_usaSELECTCol.withColumn(\"RN\", row_number().over(windowSpec)).show()"
   ]
  },
  {
   "cell_type": "code",
   "execution_count": 275,
   "id": "71230766",
   "metadata": {},
   "outputs": [
    {
     "name": "stdout",
     "output_type": "stream",
     "text": [
      "+--------+-------------+------+------------+-----------+----+-----+---+\n",
      "|   Model|         Gear| Color|       State|    Capital|Year|Money| RN|\n",
      "+--------+-------------+------+------------+-----------+----+-----+---+\n",
      "|Dodge Tk|    Automatic| White|  California| Sacramento|1997|  550|  1|\n",
      "|     Dot|    Automatic|Silver|     Arizona|    Phoenix|1998|  500|  1|\n",
      "|Infiniti|    Automatic| Black|      Nevada|Carson City|2015|75000|  1|\n",
      "|Infiniti|    Automatic| White|   Tennessee|  Nashville|2014|66000|  2|\n",
      "|Infiniti|    Automatic| White|   Tennessee|  Nashville|2014|65200|  3|\n",
      "|Infiniti|    Automatic|  Gray|  California| Sacramento|2015|64500|  4|\n",
      "|Infiniti|    Automatic| Black|   Tennessee|  Nashville|2014|64000|  5|\n",
      "|Infiniti|    Automatic|  Gray|   Tennessee|  Nashville|2014|63800|  6|\n",
      "|Infiniti|    Automatic| White|   Tennessee|  Nashville|2014|63500|  7|\n",
      "|Infiniti|    Automatic|Silver|   Tennessee|  Nashville|2014|63400|  8|\n",
      "|Infiniti|    Automatic| White|   Tennessee|  Nashville|2014|63200|  9|\n",
      "|Infiniti|    Automatic| Black|   Tennessee|  Nashville|2014|63000| 10|\n",
      "|Infiniti|    Automatic|  Gray|   Tennessee|  Nashville|2014|62800| 11|\n",
      "|Infiniti|    Automatic| Black|   Tennessee|  Nashville|2014|62800| 12|\n",
      "|Infiniti|Not Available|  Gray|Pennsylvania| Harrisburg|2014|62600| 13|\n",
      "|Infiniti|    Automatic| White|   Tennessee|  Nashville|2014|62400| 14|\n",
      "|Infiniti|    Automatic| Black|   Tennessee|  Nashville|2014|62000| 15|\n",
      "|Infiniti|    Automatic| White|   Tennessee|  Nashville|2014|61600| 16|\n",
      "|Infiniti|    Automatic| Black|    Illinois|Springfield|2014|61400| 17|\n",
      "|Infiniti|    Automatic| Black|     Florida|Tallahassee|2014|61000| 18|\n",
      "+--------+-------------+------+------------+-----------+----+-----+---+\n",
      "only showing top 20 rows\n",
      "\n"
     ]
    }
   ],
   "source": [
    "windowSpec = Window.partitionBy(col(\"Model\")).orderBy(col(\"Money\").desc())\n",
    "df_pyspark_usaSELECTCol.withColumn(\"RN\", row_number().over(windowSpec)).show()"
   ]
  },
  {
   "cell_type": "code",
   "execution_count": 276,
   "id": "27a7eb90",
   "metadata": {},
   "outputs": [
    {
     "name": "stdout",
     "output_type": "stream",
     "text": [
      "+-----+-----+-----------------+\n",
      "|Model|Money|TotalMoneyByModel|\n",
      "+-----+-----+-----------------+\n",
      "| Audi|  900|        113699775|\n",
      "| Audi| 3600|        113699775|\n",
      "| Audi|  600|        113699775|\n",
      "| Audi|39750|        113699775|\n",
      "| Audi|37500|        113699775|\n",
      "| Audi| 6000|        113699775|\n",
      "| Audi|28000|        113699775|\n",
      "| Audi| 4300|        113699775|\n",
      "| Audi|30500|        113699775|\n",
      "| Audi| 7800|        113699775|\n",
      "| Audi| 3300|        113699775|\n",
      "| Audi|17000|        113699775|\n",
      "| Audi| 7000|        113699775|\n",
      "| Audi|44500|        113699775|\n",
      "| Audi| 3800|        113699775|\n",
      "| Audi|44500|        113699775|\n",
      "| Audi|37200|        113699775|\n",
      "| Audi|17600|        113699775|\n",
      "| Audi|17200|        113699775|\n",
      "| Audi| 2100|        113699775|\n",
      "+-----+-----+-----------------+\n",
      "only showing top 20 rows\n",
      "\n"
     ]
    }
   ],
   "source": [
    "windowSpec = Window.partitionBy(col(\"Model\"))\n",
    "df_pyspark_usaSELECTCol.withColumn(\"TotalMoneyByModel\", \n",
    "                                   sum(df_pyspark_usaSELECTCol[\"Money\"]).over(windowSpec))\\\n",
    ".select(\"Model\",\"Money\",\"TotalMoneyByModel\").show()"
   ]
  },
  {
   "cell_type": "code",
   "execution_count": 277,
   "id": "39df03d3",
   "metadata": {},
   "outputs": [
    {
     "name": "stdout",
     "output_type": "stream",
     "text": [
      "+-----------+-----------------+\n",
      "|      Model|TotalMoneyByModel|\n",
      "+-----------+-----------------+\n",
      "|       Audi|        113699775|\n",
      "|   Cadillac|        112329621|\n",
      "|  Chevrolet|        656752396|\n",
      "|   Dodge Tk|              550|\n",
      "|        Dot|              500|\n",
      "|    Ford Tk|             2800|\n",
      "|        Geo|            10050|\n",
      "|      Honda|        259249334|\n",
      "|    Hyundai|        199330586|\n",
      "|   Infiniti|        242267490|\n",
      "|      Isuzu|           344976|\n",
      "|     Jaguar|         27621626|\n",
      "|       Jeep|        210062378|\n",
      "|        Kia|        185677013|\n",
      "|Lamborghini|           450500|\n",
      "| Land Rover|         56718305|\n",
      "|  Landrover|           310950|\n",
      "|      Lexus|        220306205|\n",
      "|   Maserati|          6080200|\n",
      "|       Mini|         36083100|\n",
      "+-----------+-----------------+\n",
      "only showing top 20 rows\n",
      "\n"
     ]
    }
   ],
   "source": [
    "windowSpec = Window.partitionBy(col(\"Model\"))\n",
    "df_pyspark_usaSELECTCol.withColumn(\"TotalMoneyByModel\", \n",
    "                                   sum(df_pyspark_usaSELECTCol[\"Money\"]).over(windowSpec))\\\n",
    ".select(\"Model\",\"TotalMoneyByModel\").distinct().show()"
   ]
  },
  {
   "cell_type": "code",
   "execution_count": 278,
   "id": "ce56329e",
   "metadata": {},
   "outputs": [
    {
     "name": "stdout",
     "output_type": "stream",
     "text": [
      "+----+----------+-----------------+-------------+\n",
      "|Year|     Money|PreviousYearMoney|NextYearMoney|\n",
      "+----+----------+-----------------+-------------+\n",
      "|1984|      3100|             null|         7750|\n",
      "|1985|      7750|             3100|        10000|\n",
      "|1986|     10000|             7750|          300|\n",
      "|1987|       300|            10000|        11775|\n",
      "|1989|     11775|              300|        65300|\n",
      "|1990|     65300|            11775|        60125|\n",
      "|1991|     60125|            65300|       115850|\n",
      "|1992|    115850|            60125|       131300|\n",
      "|1993|    131300|           115850|       295925|\n",
      "|1994|    295925|           131300|       565701|\n",
      "|1995|    565701|           295925|       678600|\n",
      "|1996|    678600|           565701|      1446600|\n",
      "|1997|   1446600|           678600|      2343985|\n",
      "|1998|   2343985|          1446600|      4441945|\n",
      "|1999|   4441945|          2343985|      7816564|\n",
      "|2000|   7816564|          4441945|     13495225|\n",
      "|2001|  13495225|          7816564|     24730031|\n",
      "|2002|  24730031|         13495225|     42002225|\n",
      "|2003|  42002225|         24730031|     69024176|\n",
      "|2004|  69024176|         42002225|     96753919|\n",
      "|2005|  96753919|         69024176|    150164607|\n",
      "|2006| 150164607|         96753919|    228289875|\n",
      "|2007| 228289875|        150164607|    288190870|\n",
      "|2008| 288190870|        228289875|    207690130|\n",
      "|2009| 207690130|        288190870|    311844151|\n",
      "|2010| 311844151|        207690130|    695216774|\n",
      "|2011| 695216774|        311844151|   1420970287|\n",
      "|2012|1420970287|        695216774|   1487739216|\n",
      "|2013|1487739216|       1420970287|   1346740627|\n",
      "|2014|1346740627|       1487739216|    222795590|\n",
      "|2015| 222795590|       1346740627|         null|\n",
      "+----+----------+-----------------+-------------+\n",
      "\n"
     ]
    }
   ],
   "source": [
    "df_pyspark_usaSELECTColLAGLEAD = df_pyspark_usaSELECTCol.groupBy(\"Year\")\\\n",
    ".agg(sum(df_pyspark_usaSELECTCol[\"Money\"]).alias(\"Money\"))\n",
    "df_pyspark_usaSELECTColLAGLEAD.select(\"Year\",\"Money\",\n",
    "                                      lag(\"Money\").over(Window.orderBy(\"Year\")).alias(\"PreviousYearMoney\"),\n",
    "                                      lead(\"Money\").over(Window.orderBy(\"Year\")).alias(\"NextYearMoney\")).show(60)"
   ]
  },
  {
   "cell_type": "code",
   "execution_count": 279,
   "id": "60680c12",
   "metadata": {},
   "outputs": [
    {
     "name": "stdout",
     "output_type": "stream",
     "text": [
      "+-------------+---------+-----+----------+--------------+----+------+\n",
      "|        Model|     Gear|Color|     State|       Capital|Year| Money|\n",
      "+-------------+---------+-----+----------+--------------+----+------+\n",
      "|         Ford|Automatic|Green|  Missouri|Jefferson City|2014|230000|\n",
      "|      Ferrari|Automatic|  Red|   Florida|   Tallahassee|2011|183000|\n",
      "|Mercedes-Benz|Automatic|White|California|    Sacramento|2015|173000|\n",
      "|  Rolls-Royce|Automatic|White|   Florida|   Tallahassee|2013|171500|\n",
      "|  Rolls-Royce|Automatic|Black|   Florida|   Tallahassee|2012|169500|\n",
      "|  Rolls-Royce|Automatic|White|California|    Sacramento|2012|169000|\n",
      "|  Rolls-Royce|Automatic|White|California|    Sacramento|2012|167000|\n",
      "|          BMW|Automatic|White|California|    Sacramento|2014|165000|\n",
      "|          BMW|Automatic|White|   Florida|   Tallahassee|2014|165000|\n",
      "|      Bentley|Automatic|Black|   Florida|   Tallahassee|2013|163000|\n",
      "+-------------+---------+-----+----------+--------------+----+------+\n",
      "\n"
     ]
    }
   ],
   "source": [
    "cte = df_pyspark_usaSELECTCol.select(\"*\").sort(desc(\"Money\")).limit(10)\n",
    "cte.show()"
   ]
  },
  {
   "cell_type": "code",
   "execution_count": 280,
   "id": "501c8269",
   "metadata": {},
   "outputs": [
    {
     "name": "stdout",
     "output_type": "stream",
     "text": [
      "+-------------+-----+----------+\n",
      "|        Model|Money|Money Text|\n",
      "+-------------+-----+----------+\n",
      "|      Hyundai|19200|     19200|\n",
      "|      Hyundai| 8800|      8800|\n",
      "|          Kia|22200|     22200|\n",
      "|Mercedes-Benz|23500|     23500|\n",
      "|        Acura|31000|     31000|\n",
      "|     Infiniti|23500|     23500|\n",
      "|         Mini|15000|     15000|\n",
      "|          BMW|19000|     19000|\n",
      "|        Volvo|22000|     22000|\n",
      "|   Volkswagen| 8100|      8100|\n",
      "|       Toyota| 9250|      9250|\n",
      "|          Ram|17800|     17800|\n",
      "|      Lincoln|12400|     12400|\n",
      "|          Kia| 6400|      6400|\n",
      "|       Toyota| 4800|      4800|\n",
      "|         Ford|11600|     11600|\n",
      "|         Ford| 8000|      8000|\n",
      "|     Chrysler|  400|       400|\n",
      "|Mercedes-Benz| 3700|      3700|\n",
      "|         Ford| 2000|      2000|\n",
      "+-------------+-----+----------+\n",
      "only showing top 20 rows\n",
      "\n"
     ]
    }
   ],
   "source": [
    "df_pyspark_usaSELECTCol.withColumn(\"Money Text\",\n",
    "                                   df_pyspark_usaSELECTCol[\"Money\"]\\\n",
    "                                   .cast(\"string\")).select(\"Model\",\"Money\",\"Money Text\").show()"
   ]
  },
  {
   "cell_type": "code",
   "execution_count": 281,
   "id": "dbafcdc4",
   "metadata": {
    "scrolled": true
   },
   "outputs": [
    {
     "name": "stdout",
     "output_type": "stream",
     "text": [
      "+-------------+---------+--------+----------+----------+----+-----+\n",
      "|        Model|     Gear|   Color|     State|   Capital|Year|Money|\n",
      "+-------------+---------+--------+----------+----------+----+-----+\n",
      "|      Hyundai|Automatic|    Gray|California|Sacramento|2013|19200|\n",
      "|      Hyundai|Automatic|    Gray|California|Sacramento|2013| 8800|\n",
      "|          Kia|Automatic|   Black|California|Sacramento|2013|22200|\n",
      "|Mercedes-Benz|Automatic|       —|California|Sacramento|2013|23500|\n",
      "|        Acura|Automatic|   White|California|Sacramento|2012|31000|\n",
      "|     Infiniti|Automatic|   Black|California|Sacramento|2012|23500|\n",
      "|         Mini|Automatic|    Blue|California|Sacramento|2012|15000|\n",
      "|          BMW|Automatic|   Black|California|Sacramento|2011|19000|\n",
      "|        Volvo|Automatic|  Silver|California|Sacramento|2012|22000|\n",
      "|   Volkswagen|Automatic|   White|California|Sacramento|2012| 8100|\n",
      "|       Toyota|Automatic|    Gold|California|Sacramento|2011| 9250|\n",
      "|          Ram|Automatic|  Silver|California|Sacramento|2011|17800|\n",
      "|      Lincoln|Automatic|Burgundy|California|Sacramento|2010|12400|\n",
      "|          Kia|Automatic|  Silver|California|Sacramento|2010| 6400|\n",
      "|       Toyota|Automatic|     Red|California|Sacramento|2006| 4800|\n",
      "|         Ford|Automatic|     Red|California|Sacramento|2014|11600|\n",
      "|         Ford|Automatic|   White|California|Sacramento|2014| 8000|\n",
      "|     Chrysler|Automatic|   White|California|Sacramento|2004|  400|\n",
      "|Mercedes-Benz|Automatic|  Silver|California|Sacramento|2003| 3700|\n",
      "|         Ford|Automatic|     Red|California|Sacramento|2002| 2000|\n",
      "+-------------+---------+--------+----------+----------+----+-----+\n",
      "only showing top 20 rows\n",
      "\n"
     ]
    }
   ],
   "source": [
    "df_pyspark_usaSELECTCol.show()"
   ]
  },
  {
   "cell_type": "code",
   "execution_count": 282,
   "id": "9803da7f",
   "metadata": {},
   "outputs": [
    {
     "name": "stdout",
     "output_type": "stream",
     "text": [
      "root\n",
      " |-- Model: string (nullable = true)\n",
      " |-- Gear: string (nullable = false)\n",
      " |-- Color: string (nullable = false)\n",
      " |-- State: string (nullable = true)\n",
      " |-- Capital: string (nullable = true)\n",
      " |-- Year: integer (nullable = true)\n",
      " |-- Money: integer (nullable = true)\n",
      "\n"
     ]
    }
   ],
   "source": [
    "df_pyspark_usaSELECTCol.printSchema()"
   ]
  },
  {
   "cell_type": "code",
   "execution_count": null,
   "id": "7d8c0e91",
   "metadata": {},
   "outputs": [],
   "source": []
  },
  {
   "cell_type": "code",
   "execution_count": null,
   "id": "abc45038",
   "metadata": {},
   "outputs": [],
   "source": []
  },
  {
   "cell_type": "code",
   "execution_count": null,
   "id": "6473b8ac",
   "metadata": {},
   "outputs": [],
   "source": []
  },
  {
   "cell_type": "code",
   "execution_count": null,
   "id": "a44e0ddf",
   "metadata": {},
   "outputs": [],
   "source": []
  },
  {
   "cell_type": "code",
   "execution_count": null,
   "id": "3ebaaffd",
   "metadata": {},
   "outputs": [],
   "source": []
  },
  {
   "cell_type": "code",
   "execution_count": null,
   "id": "9fa4a2ff",
   "metadata": {},
   "outputs": [],
   "source": []
  },
  {
   "cell_type": "code",
   "execution_count": null,
   "id": "bd232e4b",
   "metadata": {},
   "outputs": [],
   "source": []
  },
  {
   "cell_type": "code",
   "execution_count": null,
   "id": "cccc4297",
   "metadata": {},
   "outputs": [],
   "source": []
  },
  {
   "cell_type": "code",
   "execution_count": 283,
   "id": "21962c24",
   "metadata": {},
   "outputs": [],
   "source": [
    "# -> https://pl.seequality.net/pyspark-cheatsheet-with-comparison-to-sql/ take info from it and put it, then go to my courses from job\n",
    "## Use in Future: Filtering NOT IN and Subquery , join,  subquery with filtering -except intersect, \n",
    "#dealing with rownummber = 1 etc..\n",
    "# and use these functions from this course here\n",
    "\n",
    "#put brand year and money usd, then select most expensive cars, then doing windows partition and take the first place ,\n",
    "# then make unuion from all dataframe with one\n",
    "# adding to state countries and more information to usa by join etc\n",
    "# adding the country of the production of brand (by join and so on)\n",
    "# using all functions and transformation (advanced) from my links\n",
    "# using case when or other functions to translate into english!\n",
    "# using apply map operation\n",
    "# using advanced sql functions windows frame and so on here\n",
    "#Using loop over dataframe / transform / and apply\n"
   ]
  }
 ],
 "metadata": {
  "kernelspec": {
   "display_name": "Python 3 (ipykernel)",
   "language": "python",
   "name": "python3"
  },
  "language_info": {
   "codemirror_mode": {
    "name": "ipython",
    "version": 3
   },
   "file_extension": ".py",
   "mimetype": "text/x-python",
   "name": "python",
   "nbconvert_exporter": "python",
   "pygments_lexer": "ipython3",
   "version": "3.9.12"
  }
 },
 "nbformat": 4,
 "nbformat_minor": 5
}
