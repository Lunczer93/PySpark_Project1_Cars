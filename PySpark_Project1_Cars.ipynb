{
 "cells": [
  {
   "cell_type": "markdown",
   "id": "bc409204",
   "metadata": {},
   "source": [
    "# Starting Spark Session"
   ]
  },
  {
   "cell_type": "code",
   "execution_count": 149,
   "id": "232b9ea2",
   "metadata": {},
   "outputs": [],
   "source": [
    "from pyspark.sql import SparkSession,functions, Window\n",
    "from pyspark.sql.functions import *\n",
    "from pyspark.sql.types import IntegerType,BooleanType,DateType, LongType,  DoubleType\n"
   ]
  },
  {
   "cell_type": "markdown",
   "id": "4bea6681",
   "metadata": {},
   "source": [
    "# Creating a Spark Session called Cars"
   ]
  },
  {
   "cell_type": "code",
   "execution_count": 2,
   "id": "274fc1ff",
   "metadata": {},
   "outputs": [],
   "source": [
    "spark = SparkSession.builder.appName('Cars').getOrCreate()"
   ]
  },
  {
   "cell_type": "code",
   "execution_count": 3,
   "id": "7870a30a",
   "metadata": {},
   "outputs": [
    {
     "data": {
      "text/html": [
       "\n",
       "            <div>\n",
       "                <p><b>SparkSession - in-memory</b></p>\n",
       "                \n",
       "        <div>\n",
       "            <p><b>SparkContext</b></p>\n",
       "\n",
       "            <p><a href=\"http://192.168.0.10:4040\">Spark UI</a></p>\n",
       "\n",
       "            <dl>\n",
       "              <dt>Version</dt>\n",
       "                <dd><code>v3.3.2</code></dd>\n",
       "              <dt>Master</dt>\n",
       "                <dd><code>local[*]</code></dd>\n",
       "              <dt>AppName</dt>\n",
       "                <dd><code>Cars</code></dd>\n",
       "            </dl>\n",
       "        </div>\n",
       "        \n",
       "            </div>\n",
       "        "
      ],
      "text/plain": [
       "<pyspark.sql.session.SparkSession at 0x208860127f0>"
      ]
     },
     "execution_count": 3,
     "metadata": {},
     "output_type": "execute_result"
    }
   ],
   "source": [
    "spark"
   ]
  },
  {
   "cell_type": "markdown",
   "id": "9bac865e",
   "metadata": {},
   "source": [
    "# Reading a file of CSV format into Spark DataFrame"
   ]
  },
  {
   "cell_type": "code",
   "execution_count": 4,
   "id": "cba98e69",
   "metadata": {},
   "outputs": [],
   "source": [
    "pathArgCars = r'D:\\My commercial projects\\PySpark\\Project 1 PySpark\\Car Prices\\argentina_cars.csv'\n",
    "pathNigCars = r'D:\\My commercial projects\\PySpark\\Project 1 PySpark\\Car Prices\\nigerian_cars.csv'\n",
    "pathPolCars = r'D:\\My commercial projects\\PySpark\\Project 1 PySpark\\Car Prices\\poland_cars.csv'\n",
    "pathUsaCars = r'D:\\My commercial projects\\PySpark\\Project 1 PySpark\\Car Prices\\usa_cars.csv'"
   ]
  },
  {
   "cell_type": "code",
   "execution_count": 5,
   "id": "77944045",
   "metadata": {},
   "outputs": [],
   "source": [
    "df_pyspark_arg =spark.read.csv(pathArgCars,header=True,inferSchema=True)\n",
    "df_pyspark_nig =  spark.read.csv(pathNigCars,header=True,inferSchema=True)\n",
    "df_pyspark_pol = spark.read.csv(pathPolCars,header=True,inferSchema=True)\n",
    "df_pyspark_usa = spark.read.csv(pathUsaCars,header=True,inferSchema=True)"
   ]
  },
  {
   "cell_type": "code",
   "execution_count": 6,
   "id": "5cb26d87",
   "metadata": {},
   "outputs": [
    {
     "name": "stdout",
     "output_type": "stream",
     "text": [
      "+--------+-------------+-------------+----+-----------+---------+----+----------+-------------+---------+----------+--------+\n",
      "|   money|        brand|        model|year|      color|fuel_type|door|      gear|        motor|body_type|kilometres|currency|\n",
      "+--------+-------------+-------------+----+-----------+---------+----+----------+-------------+---------+----------+--------+\n",
      "|10350000|       Toyota|Corolla Cross|2022|   Plateado|    Nafta| 5.0|Automática|         null|      SUV|       500|   pesos|\n",
      "|10850000|         Jeep|      Compass|2022|     Blanco|    Nafta| 5.0|Automática|          2.4|      SUV|       500|   pesos|\n",
      "|   35500|         Jeep|      Compass|2022|Gris oscuro|    Nafta| 5.0|Automática|          2.4|      SUV|       500| dólares|\n",
      "|   19000|      Citroën|    C4 Cactus|2022|Gris oscuro|    Nafta| 5.0|Automática|         null|      SUV|       550| dólares|\n",
      "| 5800000|       Toyota|      Corolla|2019|       Gris|    Nafta| 4.0|    Manual|          1.8|    Sedán|      9000|   pesos|\n",
      "|   34500|         Jeep|      Compass|2022|      Negro|    Nafta| 5.0|Automática|          1.3|      SUV|     10500| dólares|\n",
      "|   25000|          Kia|      Sorento|2014|      Negro|   Diésel| 5.0|Automática|          2.2|      SUV|    156000| dólares|\n",
      "|   12300|Mercedes-Benz|      Clase C|2008|   Plateado|    Nafta| 4.0|Automática|          1.8|    Sedán|    174000| dólares|\n",
      "|   35500|          BMW|          220|2016|     Blanco|    Nafta| 2.0|Automática|        TURBO|    Coupé|     66000| dólares|\n",
      "| 6800000|   Volkswagen|      T-Cross|2019|    Naranja|    Nafta| 5.0|Automática|1.6 MSI Nafta|      SUV|     35000|   pesos|\n",
      "|   38500|Mercedes-Benz|      Clase A|2017|   Plateado|    Nafta| 5.0|Automática|            3|Hatchback|     55394| dólares|\n",
      "|   20500|Mercedes-Benz|      Clase A|2013|     Blanco|    Nafta| 5.0|    Manual|          1.6|Hatchback|    162080| dólares|\n",
      "| 3500000|      Renault|      Sandero|2022|   Plateado|    Nafta| 5.0|    Manual|         null|    Sedán|    111111|   pesos|\n",
      "| 5990000|   Volkswagen|         Polo|2022|     Blanco|    Nafta| 5.0|    Manual|          1.6|Hatchback|    111111|   pesos|\n",
      "|   41900|          BMW|      Serie 1|2020|      Negro|    Nafta| 5.0|Automática|         null|Hatchback|     34800| dólares|\n",
      "| 2100000|         Ford|     Ecosport|2011|      Beige|    Nafta| 4.0|    Manual|          1.6|      SUV|    101000|   pesos|\n",
      "|   38500|    Chevrolet|  Trailblazer|2019|       Gris|   Diésel| 5.0|Automática|         null|      SUV|     73000| dólares|\n",
      "| 2940000|       Toyota|        Etios|2015|     Blanco|    Nafta| 5.0|    Manual|          1.5|Hatchback|     83000|   pesos|\n",
      "| 2050000|      Renault|         Clio|2014|       Gris|    Nafta| 5.0|    Manual|          1.2|Hatchback|     99000|   pesos|\n",
      "| 4120000|       Toyota|         RAV4|2011|       Gris|    Nafta| 5.0|Automática|          2.4|      SUV|    180000|   pesos|\n",
      "+--------+-------------+-------------+----+-----------+---------+----+----------+-------------+---------+----------+--------+\n",
      "only showing top 20 rows\n",
      "\n"
     ]
    }
   ],
   "source": [
    "df_pyspark_arg.show()"
   ]
  },
  {
   "cell_type": "code",
   "execution_count": 7,
   "id": "6aeecc31",
   "metadata": {},
   "outputs": [
    {
     "name": "stdout",
     "output_type": "stream",
     "text": [
      "+---+-------------+-------------------+-------------+-------+-----------+------+------------+----------+-----+\n",
      "|_c0|         Make|Year of manufacture|    Condition|Mileage|Engine Size|  Fuel|Transmission|     Price|Build|\n",
      "+---+-------------+-------------------+-------------+-------+-----------+------+------------+----------+-----+\n",
      "|  0|       Toyota|               2007|Nigerian Used| 166418|       2400|Petrol|   Automatic| 3,120,000| null|\n",
      "|  1|        Lexus|               null|         null| 138024|       null|  null|   Automatic| 5,834,000| null|\n",
      "|  2|Mercedes-Benz|               2008|Nigerian Used| 376807|       3000|Petrol|   Automatic| 3,640,000| null|\n",
      "|  3|        Lexus|               null|         null| 213362|       null|  null|   Automatic| 3,594,000| null|\n",
      "|  4|Mercedes-Benz|               null|         null| 106199|       null|  null|   Automatic| 8,410,000| null|\n",
      "|  5|Mercedes-Benz|               null|         null|  87660|       null|  null|   Automatic| 5,554,000| null|\n",
      "|  6|        Lexus|               null|         null| 191411|       null|  null|   Automatic| 3,706,000| null|\n",
      "|  7|        Lexus|               null|         null|  59092|       null|  null|   Automatic| 8,410,000| null|\n",
      "|  8|Mercedes-Benz|               null|         null|  89423|       null|  null|   Automatic| 6,506,000| null|\n",
      "|  9|        Lexus|               null|         null| 184827|       null|  null|   Automatic| 4,000,000| null|\n",
      "| 10|        Lexus|               null|         null|  42433|       null|  null|   Automatic| 8,970,000| null|\n",
      "| 11|        Lexus|               null|         null| 116138|       null|  null|   Automatic| 3,034,000| null|\n",
      "| 12|        Lexus|               null|         null| 167583|       null|  null|   Automatic| 3,818,000| null|\n",
      "| 13|        Lexus|               null|         null| 240934|       null|  null|   Automatic| 3,930,000| null|\n",
      "| 14|         Fiat|               null|         null|    114|       null|  null|   Automatic| 8,500,000| null|\n",
      "| 15|         Fiat|               null|         null|     54|       null|  null|      Manual|12,500,000| null|\n",
      "| 16|        Lexus|               null|         null|  79740|       null|  null|   Automatic| 5,274,000| null|\n",
      "| 17|Mercedes-Benz|               null|         null| 338145|       null|  null|   Automatic| 8,060,000| null|\n",
      "| 18|        Lexus|               null|         null| 174545|       null|  null|   Automatic| 6,506,000| null|\n",
      "| 19|   Land Rover|               null|         null|  63296|       null|  null|   Automatic| 6,910,000| null|\n",
      "+---+-------------+-------------------+-------------+-------+-----------+------+------------+----------+-----+\n",
      "only showing top 20 rows\n",
      "\n"
     ]
    }
   ],
   "source": [
    "df_pyspark_nig.show()"
   ]
  },
  {
   "cell_type": "code",
   "execution_count": 8,
   "id": "43cacdbc",
   "metadata": {},
   "outputs": [
    {
     "name": "stdout",
     "output_type": "stream",
     "text": [
      "+---+----+-----+---------------+----+-------+----------+------+---------------+-------------------+-----+\n",
      "|_c0|mark|model|generation_name|year|mileage|vol_engine|  fuel|           city|           province|price|\n",
      "+---+----+-----+---------------+----+-------+----------+------+---------------+-------------------+-----+\n",
      "|  0|opel|combo|     gen-d-2011|2015| 139568|      1248|Diesel|          Janki|        Mazowieckie|35900|\n",
      "|  1|opel|combo|     gen-d-2011|2018|  31991|      1499|Diesel|       Katowice|            Śląskie|78501|\n",
      "|  2|opel|combo|     gen-d-2011|2015| 278437|      1598|Diesel|          Brzeg|           Opolskie|27000|\n",
      "|  3|opel|combo|     gen-d-2011|2016|  47600|      1248|Diesel|      Korfantów|           Opolskie|30800|\n",
      "|  4|opel|combo|     gen-d-2011|2014| 103000|      1400|   CNG|Tarnowskie Góry|            Śląskie|35900|\n",
      "|  5|opel|combo|     gen-d-2011|2017| 121203|      1598|Diesel|       Warszawa|        Mazowieckie|51900|\n",
      "|  6|opel|combo|     gen-d-2011|2017| 119965|      1248|Diesel|        Wrocław|       Dolnośląskie|44700|\n",
      "|  7|opel|combo|     gen-d-2011|2016| 201658|      1248|Diesel|         Lublin|          Lubelskie|29000|\n",
      "|  8|opel|combo|     gen-d-2011|2014| 178666|      1598|Diesel|         Złotów|      Wielkopolskie|28900|\n",
      "|  9|opel|combo|     gen-d-2011|2015| 113000|      1248|Diesel|       Strzyżew|        Mazowieckie|34900|\n",
      "| 10|opel|combo|     gen-d-2011|2012| 237000|      1598|Diesel|         Elbląg|Warmińsko-mazurskie|24800|\n",
      "| 11|opel|combo|     gen-d-2011|2017| 137000|      1248|Diesel|       Warszawa|        Mazowieckie|39900|\n",
      "| 12|opel|combo|     gen-d-2011|2016| 154000|      1248|Diesel|      Sosnowiec|            Śląskie|35900|\n",
      "| 13|opel|combo|     gen-d-2011|2017|  59339|      1248|Diesel|        Wrocław|       Dolnośląskie|55300|\n",
      "| 14|opel|combo|     gen-d-2011|2016| 137445|      1598|Diesel|          Opole|           Opolskie|34700|\n",
      "| 15|opel|combo|     gen-d-2011|2016| 141859|      1248|Diesel|       Katowice|            Śląskie|39900|\n",
      "| 16|opel|combo|     gen-d-2011|2012| 195000|      1598|Diesel|          Radom|        Mazowieckie|25900|\n",
      "| 17|opel|combo|     gen-d-2011|2015| 180000|      1598|Diesel|       Chmieleń|       Dolnośląskie|32900|\n",
      "| 18|opel|combo|     gen-d-2011|2018| 107515|      1499|Diesel|      Piaseczno|        Mazowieckie|62000|\n",
      "| 19|opel|combo|     gen-d-2011|2017| 149000|      1598|Diesel|  Góra Kalwaria|        Mazowieckie|39852|\n",
      "+---+----+-----+---------------+----+-------+----------+------+---------------+-------------------+-----+\n",
      "only showing top 20 rows\n",
      "\n"
     ]
    }
   ],
   "source": [
    "df_pyspark_pol.show()"
   ]
  },
  {
   "cell_type": "code",
   "execution_count": 9,
   "id": "f79c9e76",
   "metadata": {},
   "outputs": [
    {
     "name": "stdout",
     "output_type": "stream",
     "text": [
      "+----+-----+-----+-----+-----+------------+-----+-----+---------+--------+-----+--------+------+-----+------------+--------+\n",
      "|year| make|model| trim| body|transmission|  vin|state|condition|odometer|color|interior|seller|  mmr|sellingprice|saledate|\n",
      "+----+-----+-----+-----+-----+------------+-----+-----+---------+--------+-----+--------+------+-----+------------+--------+\n",
      "|2015|  Kia|So...|   LX|  SUV|       au...|5x...|   ca|        5|   16...|white|   black| ki...|20500|       21500|   Tu...|\n",
      "|2015|  Kia|So...|   LX|  SUV|       au...|5x...|   ca|        5|   93...|white|   beige| ki...|20800|       21500|   Tu...|\n",
      "|2014|  BMW|3 ...|32...|Sedan|       au...|wb...|   ca|      4.5|   13...| gray|   black| fi...|31900|       30000|   Th...|\n",
      "|2015|Volvo|  S60|   T5|Sedan|       au...|yv...|   ca|      4.1|   14...|white|   black| vo...|27500|       27750|   Th...|\n",
      "|2014|  BMW|6 ...| 650i|Sedan|       au...|wb...|   ca|      4.3|   26...| gray|   black| fi...|66000|       67000|   Th...|\n",
      "|2015|Ni...|Al...|2.5 S|Sedan|       au...|1n...|   ca|        1|   55...| gray|   black| en...|15350|       10900|   Tu...|\n",
      "|2014|  BMW|   M5| Base|Sedan|       au...|wb...|   ca|      3.4|   14...|black|   black| th...|69000|       65000|   We...|\n",
      "|2014|Ch...|Cruze|  1LT|Sedan|       au...|1g...|   ca|        2|   28...|black|   black| en...|11900|        9800|   Tu...|\n",
      "|2014| Audi|   A4|2....|Sedan|       au...|wa...|   ca|      4.2|   95...|white|   black| au...|32100|       32250|   Th...|\n",
      "|2014|Ch...|Ca...|   LT|Co...|       au...|2g...|   ca|        3|   48...|  red|   black| d/...|26300|       17500|   Tu...|\n",
      "|2014| Audi|   A6|3....|Sedan|       au...|wa...|   ca|      4.8|   14...|black|   black| de...|47300|       49750|   Tu...|\n",
      "|2015|  Kia|Op...|   LX|Sedan|       au...|5x...|   ca|      4.8|   20...|  red|     tan| ki...|15150|       17700|   Tu...|\n",
      "|2015| Ford|Fu...|   SE|Sedan|       au...|3f...|   ca|        2|   55...|white|   beige| en...|15350|       12000|   Tu...|\n",
      "|2015|  Kia|So...|   LX|  SUV|       au...|5x...|   ca|        5|   14...|si...|   black| ki...|20600|       21500|   Tu...|\n",
      "|2014|Ch...|Cruze|  2LT|Sedan|       au...|1g...|   ca|     null|   15...| blue|   black| av...|13900|       10600|   Tu...|\n",
      "|2015|Ni...|Al...|2.5 S|Sedan|       au...|1n...|   ca|        2|   11...|black|   black| en...|14750|       14100|   Tu...|\n",
      "|2015|Hy...|So...|   SE|Sedan|        null|5n...|   ca|     null|   83...|  red|       —| av...|15200|        4200|   Tu...|\n",
      "|2014| Audi|   Q5|2....|  SUV|       au...|wa...|   ca|      4.9|   79...|white|   black| au...|37100|       40000|   Th...|\n",
      "|2014|Ch...|Ca...|   LS|Coupe|       au...|2g...|   ca|      1.7|   13...|black|   black| we...|17750|       17000|   Tu...|\n",
      "|2014|  BMW|6 ...| 650i|Co...|       au...|wb...|   ca|      3.4|   88...|black|   black| th...|68000|       67200|   We...|\n",
      "+----+-----+-----+-----+-----+------------+-----+-----+---------+--------+-----+--------+------+-----+------------+--------+\n",
      "only showing top 20 rows\n",
      "\n"
     ]
    }
   ],
   "source": [
    "df_pyspark_usa.show(20,5)"
   ]
  },
  {
   "cell_type": "code",
   "execution_count": 10,
   "id": "24d85536",
   "metadata": {},
   "outputs": [
    {
     "name": "stdout",
     "output_type": "stream",
     "text": [
      "+----+----+-------+----+----+------------+-----------------+-----+---------+--------+-----+--------+-----------------------+-----+------------+---------------------------------------+\n",
      "|year|make|model  |trim|body|transmission|vin              |state|condition|odometer|color|interior|seller                 |mmr  |sellingprice|saledate                               |\n",
      "+----+----+-------+----+----+------------+-----------------+-----+---------+--------+-----+--------+-----------------------+-----+------------+---------------------------------------+\n",
      "|2015|Kia |Sorento|LX  |SUV |automatic   |5xyktca69fg566472|ca   |5        |16639.0 |white|black   |kia motors america, inc|20500|21500       |Tue Dec 16 2014 12:30:00 GMT-0800 (PST)|\n",
      "|2015|Kia |Sorento|LX  |SUV |automatic   |5xyktca69fg561319|ca   |5        |9393.0  |white|beige   |kia motors america, inc|20800|21500       |Tue Dec 16 2014 12:30:00 GMT-0800 (PST)|\n",
      "+----+----+-------+----+----+------------+-----------------+-----+---------+--------+-----+--------+-----------------------+-----+------------+---------------------------------------+\n",
      "only showing top 2 rows\n",
      "\n"
     ]
    }
   ],
   "source": [
    "df_pyspark_usa.show(2,truncate=False)"
   ]
  },
  {
   "cell_type": "markdown",
   "id": "6c42384f",
   "metadata": {},
   "source": [
    "# Exploratory Data, Data Cleaning, Data Wrangling"
   ]
  },
  {
   "cell_type": "markdown",
   "id": "44346ba8",
   "metadata": {},
   "source": [
    "## df_pyspark_arg"
   ]
  },
  {
   "cell_type": "code",
   "execution_count": 11,
   "id": "8b676d46",
   "metadata": {},
   "outputs": [
    {
     "name": "stdout",
     "output_type": "stream",
     "text": [
      "+--------+-------------+-------------+----+-----------+---------+----+----------+-------------+---------+----------+--------+\n",
      "|money   |brand        |model        |year|color      |fuel_type|door|gear      |motor        |body_type|kilometres|currency|\n",
      "+--------+-------------+-------------+----+-----------+---------+----+----------+-------------+---------+----------+--------+\n",
      "|10350000|Toyota       |Corolla Cross|2022|Plateado   |Nafta    |5.0 |Automática|null         |SUV      |500       |pesos   |\n",
      "|10850000|Jeep         |Compass      |2022|Blanco     |Nafta    |5.0 |Automática|2.4          |SUV      |500       |pesos   |\n",
      "|35500   |Jeep         |Compass      |2022|Gris oscuro|Nafta    |5.0 |Automática|2.4          |SUV      |500       |dólares |\n",
      "|19000   |Citroën      |C4 Cactus    |2022|Gris oscuro|Nafta    |5.0 |Automática|null         |SUV      |550       |dólares |\n",
      "|5800000 |Toyota       |Corolla      |2019|Gris       |Nafta    |4.0 |Manual    |1.8          |Sedán    |9000      |pesos   |\n",
      "|34500   |Jeep         |Compass      |2022|Negro      |Nafta    |5.0 |Automática|1.3          |SUV      |10500     |dólares |\n",
      "|25000   |Kia          |Sorento      |2014|Negro      |Diésel   |5.0 |Automática|2.2          |SUV      |156000    |dólares |\n",
      "|12300   |Mercedes-Benz|Clase C      |2008|Plateado   |Nafta    |4.0 |Automática|1.8          |Sedán    |174000    |dólares |\n",
      "|35500   |BMW          |220          |2016|Blanco     |Nafta    |2.0 |Automática|TURBO        |Coupé    |66000     |dólares |\n",
      "|6800000 |Volkswagen   |T-Cross      |2019|Naranja    |Nafta    |5.0 |Automática|1.6 MSI Nafta|SUV      |35000     |pesos   |\n",
      "|38500   |Mercedes-Benz|Clase A      |2017|Plateado   |Nafta    |5.0 |Automática|3            |Hatchback|55394     |dólares |\n",
      "|20500   |Mercedes-Benz|Clase A      |2013|Blanco     |Nafta    |5.0 |Manual    |1.6          |Hatchback|162080    |dólares |\n",
      "|3500000 |Renault      |Sandero      |2022|Plateado   |Nafta    |5.0 |Manual    |null         |Sedán    |111111    |pesos   |\n",
      "|5990000 |Volkswagen   |Polo         |2022|Blanco     |Nafta    |5.0 |Manual    |1.6          |Hatchback|111111    |pesos   |\n",
      "|41900   |BMW          |Serie 1      |2020|Negro      |Nafta    |5.0 |Automática|null         |Hatchback|34800     |dólares |\n",
      "|2100000 |Ford         |Ecosport     |2011|Beige      |Nafta    |4.0 |Manual    |1.6          |SUV      |101000    |pesos   |\n",
      "|38500   |Chevrolet    |Trailblazer  |2019|Gris       |Diésel   |5.0 |Automática|null         |SUV      |73000     |dólares |\n",
      "|2940000 |Toyota       |Etios        |2015|Blanco     |Nafta    |5.0 |Manual    |1.5          |Hatchback|83000     |pesos   |\n",
      "|2050000 |Renault      |Clio         |2014|Gris       |Nafta    |5.0 |Manual    |1.2          |Hatchback|99000     |pesos   |\n",
      "|4120000 |Toyota       |RAV4         |2011|Gris       |Nafta    |5.0 |Automática|2.4          |SUV      |180000    |pesos   |\n",
      "+--------+-------------+-------------+----+-----------+---------+----+----------+-------------+---------+----------+--------+\n",
      "only showing top 20 rows\n",
      "\n"
     ]
    }
   ],
   "source": [
    "df_pyspark_arg.show(20,truncate=False)"
   ]
  },
  {
   "cell_type": "code",
   "execution_count": 12,
   "id": "d84f3a2a",
   "metadata": {},
   "outputs": [
    {
     "name": "stdout",
     "output_type": "stream",
     "text": [
      "root\n",
      " |-- money: integer (nullable = true)\n",
      " |-- brand: string (nullable = true)\n",
      " |-- model: string (nullable = true)\n",
      " |-- year: integer (nullable = true)\n",
      " |-- color: string (nullable = true)\n",
      " |-- fuel_type: string (nullable = true)\n",
      " |-- door: double (nullable = true)\n",
      " |-- gear: string (nullable = true)\n",
      " |-- motor: string (nullable = true)\n",
      " |-- body_type: string (nullable = true)\n",
      " |-- kilometres: integer (nullable = true)\n",
      " |-- currency: string (nullable = true)\n",
      "\n"
     ]
    }
   ],
   "source": [
    "df_pyspark_arg.printSchema()"
   ]
  },
  {
   "cell_type": "markdown",
   "id": "d42eb90a",
   "metadata": {},
   "source": [
    "### Dealing with null values"
   ]
  },
  {
   "cell_type": "markdown",
   "id": "5c7f7044",
   "metadata": {},
   "source": [
    "#### Using two methods:"
   ]
  },
  {
   "cell_type": "code",
   "execution_count": 13,
   "id": "48b0a9a2",
   "metadata": {},
   "outputs": [
    {
     "name": "stdout",
     "output_type": "stream",
     "text": [
      "+-----+-----+-----+----+-----+---------+----+----+-----+---------+----------+--------+\n",
      "|money|brand|model|year|color|fuel_type|door|gear|motor|body_type|kilometres|currency|\n",
      "+-----+-----+-----+----+-----+---------+----+----+-----+---------+----------+--------+\n",
      "|    0|    0|    0|   0|   11|        0|   0|   1|   11|        1|         0|       0|\n",
      "+-----+-----+-----+----+-----+---------+----+----+-----+---------+----------+--------+\n",
      "\n"
     ]
    }
   ],
   "source": [
    "df_pyspark_arg.select([count(when(isnan(c) | col(c).isNull(), c)).alias(c) for c in df_pyspark_arg.columns]).show()\n"
   ]
  },
  {
   "cell_type": "code",
   "execution_count": 14,
   "id": "b7c30ae3",
   "metadata": {},
   "outputs": [
    {
     "data": {
      "text/plain": [
       "{'money': 0,\n",
       " 'brand': 0,\n",
       " 'model': 0,\n",
       " 'year': 0,\n",
       " 'color': 11,\n",
       " 'fuel_type': 0,\n",
       " 'door': 0,\n",
       " 'gear': 1,\n",
       " 'motor': 11,\n",
       " 'body_type': 1,\n",
       " 'kilometres': 0,\n",
       " 'currency': 0}"
      ]
     },
     "execution_count": 14,
     "metadata": {},
     "output_type": "execute_result"
    }
   ],
   "source": [
    "Dict_Null = {col:df_pyspark_arg.filter(df_pyspark_arg[col].isNull()).count() for col in df_pyspark_arg.columns}\n",
    "Dict_Null"
   ]
  },
  {
   "cell_type": "markdown",
   "id": "ba77a578",
   "metadata": {},
   "source": [
    "#### Looking for null values in columns:"
   ]
  },
  {
   "cell_type": "code",
   "execution_count": 15,
   "id": "d7a50c88",
   "metadata": {},
   "outputs": [
    {
     "name": "stdout",
     "output_type": "stream",
     "text": [
      "+-------+----------+-----------+----+-----+---------+----+----------+-----+-----------+----------+--------+\n",
      "|  money|     brand|      model|year|color|fuel_type|door|      gear|motor|  body_type|kilometres|currency|\n",
      "+-------+----------+-----------+----+-----+---------+----+----------+-----+-----------+----------+--------+\n",
      "|  16000|       BMW|         X5|2000| null|    Nafta| 5.0|    Manual|  4.4|        SUV|    132000| dólares|\n",
      "|6300000|    Toyota|    Corolla|2018| null|    Nafta| 4.0|Automática|  1.8|      Sedán|     16500|   pesos|\n",
      "|2890000|   Peugeot|        408|2013| null|    Nafta| 4.0|    Manual|  2.0|      Sedán|    129400|   pesos|\n",
      "|3050000|   Renault|      Logan|2016| null|    Nafta| 4.0|    Manual|  1.6|      Sedán|     37300|   pesos|\n",
      "|1690000| Chevrolet|      Celta|2013| null|    Nafta| 3.0|    Manual|  1.4|  Hatchback|    109000|   pesos|\n",
      "|7500000|Volkswagen|     Sharan|2014| null|    Nafta| 5.0|Automática|  2.0|Monovolumen|     66000|   pesos|\n",
      "|2750000|   Citroën|        DS3|2012| null|    Nafta| 3.0|    Manual|  1.6|  Hatchback|     95000|   pesos|\n",
      "|8700000|   Citroën|      Jumpy|2022| null|   Diésel| 3.0|    Manual|  1.6|     Furgón|      1000|   pesos|\n",
      "|2990000|Volkswagen|Suran Cross|2014| null|    Nafta| 5.0|    Manual|  1.6|Monovolumen|    120000|   pesos|\n",
      "|1698000|      Ford|         Ka|2011| null|    Nafta| 3.0|    Manual|  1.6|  Hatchback|     97000|   pesos|\n",
      "|1950000|   Peugeot|        504|1996| null|   Diésel| 4.0|    Manual|  2.3|      Sedán|     99000|   pesos|\n",
      "+-------+----------+-----------+----+-----+---------+----+----------+-----+-----------+----------+--------+\n",
      "\n"
     ]
    }
   ],
   "source": [
    "df_pyspark_arg.filter(df_pyspark_arg.color.isNull()).show()"
   ]
  },
  {
   "cell_type": "code",
   "execution_count": 16,
   "id": "0c267952",
   "metadata": {},
   "outputs": [
    {
     "name": "stdout",
     "output_type": "stream",
     "text": [
      "+-----+------+-----+----+-----+---------+----+----+------------+---------+----------+--------+\n",
      "|money| brand|model|year|color|fuel_type|door|gear|       motor|body_type|kilometres|currency|\n",
      "+-----+------+-----+----+-----+---------+----+----+------------+---------+----------+--------+\n",
      "|60000|Toyota|Hilux|2022|Negro|   Diésel| 4.0|null|2.8tdi 223cv|  Pick-Up|      4000| dólares|\n",
      "+-----+------+-----+----+-----+---------+----+----+------------+---------+----------+--------+\n",
      "\n"
     ]
    }
   ],
   "source": [
    "df_pyspark_arg.filter(df_pyspark_arg.gear.isNull()).show()"
   ]
  },
  {
   "cell_type": "code",
   "execution_count": 17,
   "id": "c0f9cc9a",
   "metadata": {},
   "outputs": [
    {
     "name": "stdout",
     "output_type": "stream",
     "text": [
      "+--------+---------+-------------+----+-----------+---------+----+----------+-----+---------+----------+--------+\n",
      "|   money|    brand|        model|year|      color|fuel_type|door|      gear|motor|body_type|kilometres|currency|\n",
      "+--------+---------+-------------+----+-----------+---------+----+----------+-----+---------+----------+--------+\n",
      "|10350000|   Toyota|Corolla Cross|2022|   Plateado|    Nafta| 5.0|Automática| null|      SUV|       500|   pesos|\n",
      "|   19000|  Citroën|    C4 Cactus|2022|Gris oscuro|    Nafta| 5.0|Automática| null|      SUV|       550| dólares|\n",
      "| 3500000|  Renault|      Sandero|2022|   Plateado|    Nafta| 5.0|    Manual| null|    Sedán|    111111|   pesos|\n",
      "|   41900|      BMW|      Serie 1|2020|      Negro|    Nafta| 5.0|Automática| null|Hatchback|     34800| dólares|\n",
      "|   38500|Chevrolet|  Trailblazer|2019|       Gris|   Diésel| 5.0|Automática| null|      SUV|     73000| dólares|\n",
      "| 2800000|     Fiat|        Bravo|2013|      Negro|    Nafta| 5.0|    Manual| null|Hatchback|    124000|   pesos|\n",
      "|10200000|   Toyota|        Hilux|2022|      Negro|   Diésel| 4.0|    Manual| null|  Pick-Up|     21000|   pesos|\n",
      "| 3150000|     Ford|       Fiesta|2016|       Rojo|    Nafta| 5.0|    Manual| null|Hatchback|     68000|   pesos|\n",
      "|   23500|  Hyundai|      Genesis|2012|       Gris|    Nafta| 2.0|    Manual| null|    Coupé|    104270| dólares|\n",
      "|   79900|  Porsche|     Panamera|2010|     Blanco|    Nafta| 4.0|Automática| null|    Sedán|     59141| dólares|\n",
      "| 1760000|     Fiat|          Uno|2010|       Rojo|    Nafta| 5.0|    Manual| null|     null|    128000|   pesos|\n",
      "+--------+---------+-------------+----+-----------+---------+----+----------+-----+---------+----------+--------+\n",
      "\n"
     ]
    }
   ],
   "source": [
    "df_pyspark_arg.filter(df_pyspark_arg.motor.isNull()).show()"
   ]
  },
  {
   "cell_type": "code",
   "execution_count": 18,
   "id": "9141a792",
   "metadata": {},
   "outputs": [
    {
     "name": "stdout",
     "output_type": "stream",
     "text": [
      "+-------+-----+-----+----+-----+---------+----+------+-----+---------+----------+--------+\n",
      "|  money|brand|model|year|color|fuel_type|door|  gear|motor|body_type|kilometres|currency|\n",
      "+-------+-----+-----+----+-----+---------+----+------+-----+---------+----------+--------+\n",
      "|1760000| Fiat|  Uno|2010| Rojo|    Nafta| 5.0|Manual| null|     null|    128000|   pesos|\n",
      "+-------+-----+-----+----+-----+---------+----+------+-----+---------+----------+--------+\n",
      "\n"
     ]
    }
   ],
   "source": [
    "df_pyspark_arg.filter(df_pyspark_arg.body_type.isNull()).show()"
   ]
  },
  {
   "cell_type": "markdown",
   "id": "a4afc1f7",
   "metadata": {},
   "source": [
    "#### Replacing  null values in columns:"
   ]
  },
  {
   "cell_type": "code",
   "execution_count": 19,
   "id": "bdbf749f",
   "metadata": {},
   "outputs": [],
   "source": [
    "df_pyspark_arg = df_pyspark_arg.na.fill(value='Not available', subset=['color','gear','motor','body_type'])"
   ]
  },
  {
   "cell_type": "markdown",
   "id": "afeb7cb4",
   "metadata": {},
   "source": [
    "#### Verifying if there are still null values"
   ]
  },
  {
   "cell_type": "code",
   "execution_count": 20,
   "id": "094ed7ca",
   "metadata": {},
   "outputs": [
    {
     "data": {
      "text/plain": [
       "{'money': 0,\n",
       " 'brand': 0,\n",
       " 'model': 0,\n",
       " 'year': 0,\n",
       " 'color': 0,\n",
       " 'fuel_type': 0,\n",
       " 'door': 0,\n",
       " 'gear': 0,\n",
       " 'motor': 0,\n",
       " 'body_type': 0,\n",
       " 'kilometres': 0,\n",
       " 'currency': 0}"
      ]
     },
     "execution_count": 20,
     "metadata": {},
     "output_type": "execute_result"
    }
   ],
   "source": [
    "Dict_Null = {col:df_pyspark_arg.filter(df_pyspark_arg[col].isNull()).count() for col in df_pyspark_arg.columns}\n",
    "Dict_Null"
   ]
  },
  {
   "cell_type": "markdown",
   "id": "54757b14",
   "metadata": {},
   "source": [
    "### Dealing with duplicate values"
   ]
  },
  {
   "cell_type": "code",
   "execution_count": 21,
   "id": "3cf073ff",
   "metadata": {},
   "outputs": [
    {
     "name": "stdout",
     "output_type": "stream",
     "text": [
      "Count  of rows in dataframe: 510\n"
     ]
    }
   ],
   "source": [
    "print(\"Count  of rows in dataframe: \" + str(df_pyspark_arg.count()))"
   ]
  },
  {
   "cell_type": "code",
   "execution_count": 22,
   "id": "30182dff",
   "metadata": {},
   "outputs": [
    {
     "name": "stdout",
     "output_type": "stream",
     "text": [
      "Distinct Count of rows in dataframe: 510\n"
     ]
    }
   ],
   "source": [
    "print(\"Distinct Count of rows in dataframe: \" + str(df_pyspark_arg.distinct().count()))"
   ]
  },
  {
   "cell_type": "markdown",
   "id": "786f2eb6",
   "metadata": {},
   "source": [
    "### Chaning the name of objects to english language"
   ]
  },
  {
   "cell_type": "code",
   "execution_count": 23,
   "id": "564a8ef5",
   "metadata": {},
   "outputs": [
    {
     "name": "stdout",
     "output_type": "stream",
     "text": [
      "+--------+-------------+-------------+----+-----------+---------+----+----------+-------------+---------+----------+--------+\n",
      "|   money|        brand|        model|year|      color|fuel_type|door|      gear|        motor|body_type|kilometres|currency|\n",
      "+--------+-------------+-------------+----+-----------+---------+----+----------+-------------+---------+----------+--------+\n",
      "|10350000|       Toyota|Corolla Cross|2022|   Plateado|    Nafta| 5.0|Automática|Not available|      SUV|       500|   pesos|\n",
      "|10850000|         Jeep|      Compass|2022|     Blanco|    Nafta| 5.0|Automática|          2.4|      SUV|       500|   pesos|\n",
      "|   35500|         Jeep|      Compass|2022|Gris oscuro|    Nafta| 5.0|Automática|          2.4|      SUV|       500| dólares|\n",
      "|   19000|      Citroën|    C4 Cactus|2022|Gris oscuro|    Nafta| 5.0|Automática|Not available|      SUV|       550| dólares|\n",
      "| 5800000|       Toyota|      Corolla|2019|       Gris|    Nafta| 4.0|    Manual|          1.8|    Sedán|      9000|   pesos|\n",
      "|   34500|         Jeep|      Compass|2022|      Negro|    Nafta| 5.0|Automática|          1.3|      SUV|     10500| dólares|\n",
      "|   25000|          Kia|      Sorento|2014|      Negro|   Diésel| 5.0|Automática|          2.2|      SUV|    156000| dólares|\n",
      "|   12300|Mercedes-Benz|      Clase C|2008|   Plateado|    Nafta| 4.0|Automática|          1.8|    Sedán|    174000| dólares|\n",
      "|   35500|          BMW|          220|2016|     Blanco|    Nafta| 2.0|Automática|        TURBO|    Coupé|     66000| dólares|\n",
      "| 6800000|   Volkswagen|      T-Cross|2019|    Naranja|    Nafta| 5.0|Automática|1.6 MSI Nafta|      SUV|     35000|   pesos|\n",
      "|   38500|Mercedes-Benz|      Clase A|2017|   Plateado|    Nafta| 5.0|Automática|            3|Hatchback|     55394| dólares|\n",
      "|   20500|Mercedes-Benz|      Clase A|2013|     Blanco|    Nafta| 5.0|    Manual|          1.6|Hatchback|    162080| dólares|\n",
      "| 3500000|      Renault|      Sandero|2022|   Plateado|    Nafta| 5.0|    Manual|Not available|    Sedán|    111111|   pesos|\n",
      "| 5990000|   Volkswagen|         Polo|2022|     Blanco|    Nafta| 5.0|    Manual|          1.6|Hatchback|    111111|   pesos|\n",
      "|   41900|          BMW|      Serie 1|2020|      Negro|    Nafta| 5.0|Automática|Not available|Hatchback|     34800| dólares|\n",
      "| 2100000|         Ford|     Ecosport|2011|      Beige|    Nafta| 4.0|    Manual|          1.6|      SUV|    101000|   pesos|\n",
      "|   38500|    Chevrolet|  Trailblazer|2019|       Gris|   Diésel| 5.0|Automática|Not available|      SUV|     73000| dólares|\n",
      "| 2940000|       Toyota|        Etios|2015|     Blanco|    Nafta| 5.0|    Manual|          1.5|Hatchback|     83000|   pesos|\n",
      "| 2050000|      Renault|         Clio|2014|       Gris|    Nafta| 5.0|    Manual|          1.2|Hatchback|     99000|   pesos|\n",
      "| 4120000|       Toyota|         RAV4|2011|       Gris|    Nafta| 5.0|Automática|          2.4|      SUV|    180000|   pesos|\n",
      "+--------+-------------+-------------+----+-----------+---------+----+----------+-------------+---------+----------+--------+\n",
      "only showing top 20 rows\n",
      "\n"
     ]
    }
   ],
   "source": [
    "df_pyspark_arg.show()"
   ]
  },
  {
   "cell_type": "markdown",
   "id": "44f5629e",
   "metadata": {},
   "source": [
    "#### Select unique values from column:"
   ]
  },
  {
   "cell_type": "code",
   "execution_count": 24,
   "id": "434b7c02",
   "metadata": {},
   "outputs": [
    {
     "name": "stdout",
     "output_type": "stream",
     "text": [
      "+-------------+\n",
      "|color        |\n",
      "+-------------+\n",
      "|Naranja      |\n",
      "|Not available|\n",
      "|Violeta      |\n",
      "|Celeste      |\n",
      "|Beige        |\n",
      "|Blanco       |\n",
      "|Negro        |\n",
      "|Azul         |\n",
      "|Plateado     |\n",
      "|Gris         |\n",
      "|Rojo         |\n",
      "|Gris oscuro  |\n",
      "|Marrón       |\n",
      "|Verde        |\n",
      "|Dorado       |\n",
      "+-------------+\n",
      "\n",
      "[Row(color='Naranja'), Row(color='Not available'), Row(color='Violeta'), Row(color='Celeste'), Row(color='Beige'), Row(color='Blanco'), Row(color='Negro'), Row(color='Azul'), Row(color='Plateado'), Row(color='Gris'), Row(color='Rojo'), Row(color='Gris oscuro'), Row(color='Marrón'), Row(color='Verde'), Row(color='Dorado')]\n"
     ]
    }
   ],
   "source": [
    "SelectUniqueValues = df_pyspark_arg.dropDuplicates([\"color\"]).select(\"color\")\n",
    "SelectUniqueValues.show(truncate=False)\n",
    "\n",
    "print(SelectUniqueValues.dropDuplicates([\"color\"]).select(\"color\").collect())"
   ]
  },
  {
   "cell_type": "code",
   "execution_count": 25,
   "id": "9262f278",
   "metadata": {},
   "outputs": [
    {
     "name": "stdout",
     "output_type": "stream",
     "text": [
      "+--------+-------------+-------------+----+---------+---------+----+----------+-------------+---------+----------+--------+\n",
      "|   money|        brand|        model|year|    Color|fuel_type|door|      gear|        motor|body_type|kilometres|currency|\n",
      "+--------+-------------+-------------+----+---------+---------+----+----------+-------------+---------+----------+--------+\n",
      "|10350000|       Toyota|Corolla Cross|2022|   Silver|    Nafta| 5.0|Automática|Not available|      SUV|       500|   pesos|\n",
      "|10850000|         Jeep|      Compass|2022|    White|    Nafta| 5.0|Automática|          2.4|      SUV|       500|   pesos|\n",
      "|   35500|         Jeep|      Compass|2022|Dark gray|    Nafta| 5.0|Automática|          2.4|      SUV|       500| dólares|\n",
      "|   19000|      Citroën|    C4 Cactus|2022|Dark gray|    Nafta| 5.0|Automática|Not available|      SUV|       550| dólares|\n",
      "| 5800000|       Toyota|      Corolla|2019|     Gray|    Nafta| 4.0|    Manual|          1.8|    Sedán|      9000|   pesos|\n",
      "|   34500|         Jeep|      Compass|2022|    Black|    Nafta| 5.0|Automática|          1.3|      SUV|     10500| dólares|\n",
      "|   25000|          Kia|      Sorento|2014|    Black|   Diésel| 5.0|Automática|          2.2|      SUV|    156000| dólares|\n",
      "|   12300|Mercedes-Benz|      Clase C|2008|   Silver|    Nafta| 4.0|Automática|          1.8|    Sedán|    174000| dólares|\n",
      "|   35500|          BMW|          220|2016|    White|    Nafta| 2.0|Automática|        TURBO|    Coupé|     66000| dólares|\n",
      "| 6800000|   Volkswagen|      T-Cross|2019|   Orange|    Nafta| 5.0|Automática|1.6 MSI Nafta|      SUV|     35000|   pesos|\n",
      "|   38500|Mercedes-Benz|      Clase A|2017|   Silver|    Nafta| 5.0|Automática|            3|Hatchback|     55394| dólares|\n",
      "|   20500|Mercedes-Benz|      Clase A|2013|    White|    Nafta| 5.0|    Manual|          1.6|Hatchback|    162080| dólares|\n",
      "| 3500000|      Renault|      Sandero|2022|   Silver|    Nafta| 5.0|    Manual|Not available|    Sedán|    111111|   pesos|\n",
      "| 5990000|   Volkswagen|         Polo|2022|    White|    Nafta| 5.0|    Manual|          1.6|Hatchback|    111111|   pesos|\n",
      "|   41900|          BMW|      Serie 1|2020|    Black|    Nafta| 5.0|Automática|Not available|Hatchback|     34800| dólares|\n",
      "| 2100000|         Ford|     Ecosport|2011|    Beige|    Nafta| 4.0|    Manual|          1.6|      SUV|    101000|   pesos|\n",
      "|   38500|    Chevrolet|  Trailblazer|2019|     Gray|   Diésel| 5.0|Automática|Not available|      SUV|     73000| dólares|\n",
      "| 2940000|       Toyota|        Etios|2015|    White|    Nafta| 5.0|    Manual|          1.5|Hatchback|     83000|   pesos|\n",
      "| 2050000|      Renault|         Clio|2014|     Gray|    Nafta| 5.0|    Manual|          1.2|Hatchback|     99000|   pesos|\n",
      "| 4120000|       Toyota|         RAV4|2011|     Gray|    Nafta| 5.0|Automática|          2.4|      SUV|    180000|   pesos|\n",
      "+--------+-------------+-------------+----+---------+---------+----+----------+-------------+---------+----------+--------+\n",
      "only showing top 20 rows\n",
      "\n"
     ]
    }
   ],
   "source": [
    "df_pyspark_arg = df_pyspark_arg.withColumn(\"Color\",\n",
    "              when(df_pyspark_arg.color == 'Naranja', 'Orange')\\\n",
    "              .when(df_pyspark_arg.color == 'Violeta', 'Violet')\\\n",
    "              .when(df_pyspark_arg.color == 'Celeste', 'Celestial')\\\n",
    "              .when(df_pyspark_arg.color == 'Beige', 'Beige')\\\n",
    "              .when(df_pyspark_arg.color == 'Blanco', 'White')\\\n",
    "              .when(df_pyspark_arg.color == 'Negro', 'Black')\\\n",
    "              .when(df_pyspark_arg.color == 'Azul', 'Blue')\\\n",
    "              .when(df_pyspark_arg.color == 'Plateado', 'Silver')\\\n",
    "              .when(df_pyspark_arg.color == 'Gris', 'Gray')\\\n",
    "              .when(df_pyspark_arg.color == 'Rojo', 'Red')\\\n",
    "              .when(df_pyspark_arg.color == 'Gris oscuro', 'Dark gray')\\\n",
    "              .when(df_pyspark_arg.color == 'Marrón', 'Brown')\\\n",
    "              .when(df_pyspark_arg.color == 'Verde', 'Green')\\\n",
    "              .when(df_pyspark_arg.color == 'Dorado', 'Golden')\\\n",
    "              .otherwise('Not available'))\n",
    "\n",
    "df_pyspark_arg.show()"
   ]
  },
  {
   "cell_type": "code",
   "execution_count": 26,
   "id": "3b2bb88d",
   "metadata": {},
   "outputs": [
    {
     "name": "stdout",
     "output_type": "stream",
     "text": [
      "+-------------+\n",
      "|fuel_type    |\n",
      "+-------------+\n",
      "|Nafta        |\n",
      "|Nafta/GNC    |\n",
      "|Diésel       |\n",
      "|Híbrido/Nafta|\n",
      "+-------------+\n",
      "\n",
      "[Row(fuel_type='Nafta'), Row(fuel_type='Nafta/GNC'), Row(fuel_type='Diésel'), Row(fuel_type='Híbrido/Nafta')]\n"
     ]
    }
   ],
   "source": [
    "SelectUniqueValues = df_pyspark_arg.dropDuplicates([\"fuel_type\"]).select(\"fuel_type\")\n",
    "SelectUniqueValues.show(truncate=False)\n",
    "\n",
    "print(SelectUniqueValues.dropDuplicates([\"fuel_type\"]).select(\"fuel_type\").collect())"
   ]
  },
  {
   "cell_type": "code",
   "execution_count": 27,
   "id": "675cd85b",
   "metadata": {},
   "outputs": [
    {
     "name": "stdout",
     "output_type": "stream",
     "text": [
      "+--------+-------------+-------------+----+---------+---------+----+----------+-------------+---------+----------+--------+\n",
      "|   money|        brand|        model|year|    Color|Fuel_type|door|      gear|        motor|body_type|kilometres|currency|\n",
      "+--------+-------------+-------------+----+---------+---------+----+----------+-------------+---------+----------+--------+\n",
      "|10350000|       Toyota|Corolla Cross|2022|   Silver|  Naphtha| 5.0|Automática|Not available|      SUV|       500|   pesos|\n",
      "|10850000|         Jeep|      Compass|2022|    White|  Naphtha| 5.0|Automática|          2.4|      SUV|       500|   pesos|\n",
      "|   35500|         Jeep|      Compass|2022|Dark gray|  Naphtha| 5.0|Automática|          2.4|      SUV|       500| dólares|\n",
      "|   19000|      Citroën|    C4 Cactus|2022|Dark gray|  Naphtha| 5.0|Automática|Not available|      SUV|       550| dólares|\n",
      "| 5800000|       Toyota|      Corolla|2019|     Gray|  Naphtha| 4.0|    Manual|          1.8|    Sedán|      9000|   pesos|\n",
      "|   34500|         Jeep|      Compass|2022|    Black|  Naphtha| 5.0|Automática|          1.3|      SUV|     10500| dólares|\n",
      "|   25000|          Kia|      Sorento|2014|    Black|   Diesel| 5.0|Automática|          2.2|      SUV|    156000| dólares|\n",
      "|   12300|Mercedes-Benz|      Clase C|2008|   Silver|  Naphtha| 4.0|Automática|          1.8|    Sedán|    174000| dólares|\n",
      "|   35500|          BMW|          220|2016|    White|  Naphtha| 2.0|Automática|        TURBO|    Coupé|     66000| dólares|\n",
      "| 6800000|   Volkswagen|      T-Cross|2019|   Orange|  Naphtha| 5.0|Automática|1.6 MSI Nafta|      SUV|     35000|   pesos|\n",
      "|   38500|Mercedes-Benz|      Clase A|2017|   Silver|  Naphtha| 5.0|Automática|            3|Hatchback|     55394| dólares|\n",
      "|   20500|Mercedes-Benz|      Clase A|2013|    White|  Naphtha| 5.0|    Manual|          1.6|Hatchback|    162080| dólares|\n",
      "| 3500000|      Renault|      Sandero|2022|   Silver|  Naphtha| 5.0|    Manual|Not available|    Sedán|    111111|   pesos|\n",
      "| 5990000|   Volkswagen|         Polo|2022|    White|  Naphtha| 5.0|    Manual|          1.6|Hatchback|    111111|   pesos|\n",
      "|   41900|          BMW|      Serie 1|2020|    Black|  Naphtha| 5.0|Automática|Not available|Hatchback|     34800| dólares|\n",
      "| 2100000|         Ford|     Ecosport|2011|    Beige|  Naphtha| 4.0|    Manual|          1.6|      SUV|    101000|   pesos|\n",
      "|   38500|    Chevrolet|  Trailblazer|2019|     Gray|   Diesel| 5.0|Automática|Not available|      SUV|     73000| dólares|\n",
      "| 2940000|       Toyota|        Etios|2015|    White|  Naphtha| 5.0|    Manual|          1.5|Hatchback|     83000|   pesos|\n",
      "| 2050000|      Renault|         Clio|2014|     Gray|  Naphtha| 5.0|    Manual|          1.2|Hatchback|     99000|   pesos|\n",
      "| 4120000|       Toyota|         RAV4|2011|     Gray|  Naphtha| 5.0|Automática|          2.4|      SUV|    180000|   pesos|\n",
      "+--------+-------------+-------------+----+---------+---------+----+----------+-------------+---------+----------+--------+\n",
      "only showing top 20 rows\n",
      "\n"
     ]
    }
   ],
   "source": [
    "df_pyspark_arg = df_pyspark_arg.withColumn(\"Fuel_type\",\n",
    "              when(df_pyspark_arg.fuel_type  == 'Nafta', 'Naphtha')\\\n",
    "              .when(df_pyspark_arg.fuel_type  == 'Nafta/GNC', 'Naphtha/CNG')\\\n",
    "              .when(df_pyspark_arg.fuel_type  == 'Diésel', 'Diesel')\\\n",
    "              .when(df_pyspark_arg.fuel_type  == 'Híbrido/Nafta', 'Hybrid/Naphtha')\\\n",
    "              .otherwise('Not available'))\n",
    "\n",
    "df_pyspark_arg.show()"
   ]
  },
  {
   "cell_type": "code",
   "execution_count": 28,
   "id": "37c5e8fd",
   "metadata": {},
   "outputs": [
    {
     "name": "stdout",
     "output_type": "stream",
     "text": [
      "+-------------+\n",
      "|gear         |\n",
      "+-------------+\n",
      "|Not available|\n",
      "|Manual       |\n",
      "|Automática   |\n",
      "+-------------+\n",
      "\n",
      "[Row(gear='Not available'), Row(gear='Manual'), Row(gear='Automática')]\n"
     ]
    }
   ],
   "source": [
    "SelectUniqueValues = df_pyspark_arg.dropDuplicates([\"gear\"]).select(\"gear\")\n",
    "SelectUniqueValues.show(truncate=False)\n",
    "\n",
    "print(SelectUniqueValues.dropDuplicates([\"gear\"]).select(\"gear\").collect())"
   ]
  },
  {
   "cell_type": "code",
   "execution_count": 29,
   "id": "369508ae",
   "metadata": {},
   "outputs": [
    {
     "name": "stdout",
     "output_type": "stream",
     "text": [
      "+--------+-------------+-------------+----+---------+---------+----+---------+-------------+---------+----------+--------+\n",
      "|   money|        brand|        model|year|    Color|Fuel_type|door|     gear|        motor|body_type|kilometres|currency|\n",
      "+--------+-------------+-------------+----+---------+---------+----+---------+-------------+---------+----------+--------+\n",
      "|10350000|       Toyota|Corolla Cross|2022|   Silver|  Naphtha| 5.0|Automatic|Not available|      SUV|       500|   pesos|\n",
      "|10850000|         Jeep|      Compass|2022|    White|  Naphtha| 5.0|Automatic|          2.4|      SUV|       500|   pesos|\n",
      "|   35500|         Jeep|      Compass|2022|Dark gray|  Naphtha| 5.0|Automatic|          2.4|      SUV|       500| dólares|\n",
      "|   19000|      Citroën|    C4 Cactus|2022|Dark gray|  Naphtha| 5.0|Automatic|Not available|      SUV|       550| dólares|\n",
      "| 5800000|       Toyota|      Corolla|2019|     Gray|  Naphtha| 4.0|   Manual|          1.8|    Sedán|      9000|   pesos|\n",
      "|   34500|         Jeep|      Compass|2022|    Black|  Naphtha| 5.0|Automatic|          1.3|      SUV|     10500| dólares|\n",
      "|   25000|          Kia|      Sorento|2014|    Black|   Diesel| 5.0|Automatic|          2.2|      SUV|    156000| dólares|\n",
      "|   12300|Mercedes-Benz|      Clase C|2008|   Silver|  Naphtha| 4.0|Automatic|          1.8|    Sedán|    174000| dólares|\n",
      "|   35500|          BMW|          220|2016|    White|  Naphtha| 2.0|Automatic|        TURBO|    Coupé|     66000| dólares|\n",
      "| 6800000|   Volkswagen|      T-Cross|2019|   Orange|  Naphtha| 5.0|Automatic|1.6 MSI Nafta|      SUV|     35000|   pesos|\n",
      "|   38500|Mercedes-Benz|      Clase A|2017|   Silver|  Naphtha| 5.0|Automatic|            3|Hatchback|     55394| dólares|\n",
      "|   20500|Mercedes-Benz|      Clase A|2013|    White|  Naphtha| 5.0|   Manual|          1.6|Hatchback|    162080| dólares|\n",
      "| 3500000|      Renault|      Sandero|2022|   Silver|  Naphtha| 5.0|   Manual|Not available|    Sedán|    111111|   pesos|\n",
      "| 5990000|   Volkswagen|         Polo|2022|    White|  Naphtha| 5.0|   Manual|          1.6|Hatchback|    111111|   pesos|\n",
      "|   41900|          BMW|      Serie 1|2020|    Black|  Naphtha| 5.0|Automatic|Not available|Hatchback|     34800| dólares|\n",
      "| 2100000|         Ford|     Ecosport|2011|    Beige|  Naphtha| 4.0|   Manual|          1.6|      SUV|    101000|   pesos|\n",
      "|   38500|    Chevrolet|  Trailblazer|2019|     Gray|   Diesel| 5.0|Automatic|Not available|      SUV|     73000| dólares|\n",
      "| 2940000|       Toyota|        Etios|2015|    White|  Naphtha| 5.0|   Manual|          1.5|Hatchback|     83000|   pesos|\n",
      "| 2050000|      Renault|         Clio|2014|     Gray|  Naphtha| 5.0|   Manual|          1.2|Hatchback|     99000|   pesos|\n",
      "| 4120000|       Toyota|         RAV4|2011|     Gray|  Naphtha| 5.0|Automatic|          2.4|      SUV|    180000|   pesos|\n",
      "+--------+-------------+-------------+----+---------+---------+----+---------+-------------+---------+----------+--------+\n",
      "only showing top 20 rows\n",
      "\n"
     ]
    }
   ],
   "source": [
    "df_pyspark_arg = df_pyspark_arg.withColumn(\"gear\",\n",
    "              when(df_pyspark_arg.gear  == 'Manual', 'Manual')\\\n",
    "              .when(df_pyspark_arg.gear  == 'Automática', 'Automatic')\\\n",
    "              .otherwise('Not available'))\n",
    "\n",
    "df_pyspark_arg.show()"
   ]
  },
  {
   "cell_type": "code",
   "execution_count": 30,
   "id": "c9016895",
   "metadata": {},
   "outputs": [
    {
     "name": "stdout",
     "output_type": "stream",
     "text": [
      "+--------+\n",
      "|currency|\n",
      "+--------+\n",
      "|dólares |\n",
      "|pesos   |\n",
      "+--------+\n",
      "\n",
      "[Row(currency='dólares'), Row(currency='pesos')]\n"
     ]
    }
   ],
   "source": [
    "SelectUniqueValues = df_pyspark_arg.dropDuplicates([\"currency\"]).select(\"currency\")\n",
    "SelectUniqueValues.show(truncate=False)\n",
    "\n",
    "print(SelectUniqueValues.dropDuplicates([\"currency\"]).select(\"currency\").collect())\n"
   ]
  },
  {
   "cell_type": "code",
   "execution_count": 31,
   "id": "122873d8",
   "metadata": {},
   "outputs": [
    {
     "name": "stdout",
     "output_type": "stream",
     "text": [
      "+--------+-------------+-------------+----+---------+---------+----+---------+-------------+---------+----------+--------+\n",
      "|   money|        brand|        model|year|    Color|Fuel_type|door|     gear|        motor|body_type|kilometres|currency|\n",
      "+--------+-------------+-------------+----+---------+---------+----+---------+-------------+---------+----------+--------+\n",
      "|10350000|       Toyota|Corolla Cross|2022|   Silver|  Naphtha| 5.0|Automatic|Not available|      SUV|       500|   Pesos|\n",
      "|10850000|         Jeep|      Compass|2022|    White|  Naphtha| 5.0|Automatic|          2.4|      SUV|       500|   Pesos|\n",
      "|   35500|         Jeep|      Compass|2022|Dark gray|  Naphtha| 5.0|Automatic|          2.4|      SUV|       500| Dollars|\n",
      "|   19000|      Citroën|    C4 Cactus|2022|Dark gray|  Naphtha| 5.0|Automatic|Not available|      SUV|       550| Dollars|\n",
      "| 5800000|       Toyota|      Corolla|2019|     Gray|  Naphtha| 4.0|   Manual|          1.8|    Sedán|      9000|   Pesos|\n",
      "|   34500|         Jeep|      Compass|2022|    Black|  Naphtha| 5.0|Automatic|          1.3|      SUV|     10500| Dollars|\n",
      "|   25000|          Kia|      Sorento|2014|    Black|   Diesel| 5.0|Automatic|          2.2|      SUV|    156000| Dollars|\n",
      "|   12300|Mercedes-Benz|      Clase C|2008|   Silver|  Naphtha| 4.0|Automatic|          1.8|    Sedán|    174000| Dollars|\n",
      "|   35500|          BMW|          220|2016|    White|  Naphtha| 2.0|Automatic|        TURBO|    Coupé|     66000| Dollars|\n",
      "| 6800000|   Volkswagen|      T-Cross|2019|   Orange|  Naphtha| 5.0|Automatic|1.6 MSI Nafta|      SUV|     35000|   Pesos|\n",
      "|   38500|Mercedes-Benz|      Clase A|2017|   Silver|  Naphtha| 5.0|Automatic|            3|Hatchback|     55394| Dollars|\n",
      "|   20500|Mercedes-Benz|      Clase A|2013|    White|  Naphtha| 5.0|   Manual|          1.6|Hatchback|    162080| Dollars|\n",
      "| 3500000|      Renault|      Sandero|2022|   Silver|  Naphtha| 5.0|   Manual|Not available|    Sedán|    111111|   Pesos|\n",
      "| 5990000|   Volkswagen|         Polo|2022|    White|  Naphtha| 5.0|   Manual|          1.6|Hatchback|    111111|   Pesos|\n",
      "|   41900|          BMW|      Serie 1|2020|    Black|  Naphtha| 5.0|Automatic|Not available|Hatchback|     34800| Dollars|\n",
      "| 2100000|         Ford|     Ecosport|2011|    Beige|  Naphtha| 4.0|   Manual|          1.6|      SUV|    101000|   Pesos|\n",
      "|   38500|    Chevrolet|  Trailblazer|2019|     Gray|   Diesel| 5.0|Automatic|Not available|      SUV|     73000| Dollars|\n",
      "| 2940000|       Toyota|        Etios|2015|    White|  Naphtha| 5.0|   Manual|          1.5|Hatchback|     83000|   Pesos|\n",
      "| 2050000|      Renault|         Clio|2014|     Gray|  Naphtha| 5.0|   Manual|          1.2|Hatchback|     99000|   Pesos|\n",
      "| 4120000|       Toyota|         RAV4|2011|     Gray|  Naphtha| 5.0|Automatic|          2.4|      SUV|    180000|   Pesos|\n",
      "+--------+-------------+-------------+----+---------+---------+----+---------+-------------+---------+----------+--------+\n",
      "only showing top 20 rows\n",
      "\n"
     ]
    }
   ],
   "source": [
    "df_pyspark_arg = df_pyspark_arg.withColumn(\"currency\",\n",
    "              when(df_pyspark_arg.currency  == 'dólares', 'Dollars')\\\n",
    "              .when(df_pyspark_arg.currency  == 'pesos', 'Pesos')\\\n",
    "              .otherwise('Not available'))\n",
    "\n",
    "df_pyspark_arg.show()"
   ]
  },
  {
   "cell_type": "code",
   "execution_count": 32,
   "id": "4d247b6b",
   "metadata": {},
   "outputs": [
    {
     "name": "stdout",
     "output_type": "stream",
     "text": [
      "+--------+-------------+-------------+----+---------+---------+----+---------+-------------+---------+----------+--------+\n",
      "|   money|        brand|        model|year|    Color|Fuel_type|door|     gear|        motor|body_type|kilometres|currency|\n",
      "+--------+-------------+-------------+----+---------+---------+----+---------+-------------+---------+----------+--------+\n",
      "|10350000|       Toyota|Corolla Cross|2022|   Silver|  Naphtha| 5.0|Automatic|Not available|      SUV|       500|   Pesos|\n",
      "|10850000|         Jeep|      Compass|2022|    White|  Naphtha| 5.0|Automatic|          2.4|      SUV|       500|   Pesos|\n",
      "|   35500|         Jeep|      Compass|2022|Dark gray|  Naphtha| 5.0|Automatic|          2.4|      SUV|       500| Dollars|\n",
      "|   19000|      Citroën|    C4 Cactus|2022|Dark gray|  Naphtha| 5.0|Automatic|Not available|      SUV|       550| Dollars|\n",
      "| 5800000|       Toyota|      Corolla|2019|     Gray|  Naphtha| 4.0|   Manual|          1.8|    Sedán|      9000|   Pesos|\n",
      "|   34500|         Jeep|      Compass|2022|    Black|  Naphtha| 5.0|Automatic|          1.3|      SUV|     10500| Dollars|\n",
      "|   25000|          Kia|      Sorento|2014|    Black|   Diesel| 5.0|Automatic|          2.2|      SUV|    156000| Dollars|\n",
      "|   12300|Mercedes-Benz|      Clase C|2008|   Silver|  Naphtha| 4.0|Automatic|          1.8|    Sedán|    174000| Dollars|\n",
      "|   35500|          BMW|          220|2016|    White|  Naphtha| 2.0|Automatic|        TURBO|    Coupé|     66000| Dollars|\n",
      "| 6800000|   Volkswagen|      T-Cross|2019|   Orange|  Naphtha| 5.0|Automatic|1.6 MSI Nafta|      SUV|     35000|   Pesos|\n",
      "|   38500|Mercedes-Benz|      Clase A|2017|   Silver|  Naphtha| 5.0|Automatic|            3|Hatchback|     55394| Dollars|\n",
      "|   20500|Mercedes-Benz|      Clase A|2013|    White|  Naphtha| 5.0|   Manual|          1.6|Hatchback|    162080| Dollars|\n",
      "| 3500000|      Renault|      Sandero|2022|   Silver|  Naphtha| 5.0|   Manual|Not available|    Sedán|    111111|   Pesos|\n",
      "| 5990000|   Volkswagen|         Polo|2022|    White|  Naphtha| 5.0|   Manual|          1.6|Hatchback|    111111|   Pesos|\n",
      "|   41900|          BMW|      Serie 1|2020|    Black|  Naphtha| 5.0|Automatic|Not available|Hatchback|     34800| Dollars|\n",
      "| 2100000|         Ford|     Ecosport|2011|    Beige|  Naphtha| 4.0|   Manual|          1.6|      SUV|    101000|   Pesos|\n",
      "|   38500|    Chevrolet|  Trailblazer|2019|     Gray|   Diesel| 5.0|Automatic|Not available|      SUV|     73000| Dollars|\n",
      "| 2940000|       Toyota|        Etios|2015|    White|  Naphtha| 5.0|   Manual|          1.5|Hatchback|     83000|   Pesos|\n",
      "| 2050000|      Renault|         Clio|2014|     Gray|  Naphtha| 5.0|   Manual|          1.2|Hatchback|     99000|   Pesos|\n",
      "| 4120000|       Toyota|         RAV4|2011|     Gray|  Naphtha| 5.0|Automatic|          2.4|      SUV|    180000|   Pesos|\n",
      "+--------+-------------+-------------+----+---------+---------+----+---------+-------------+---------+----------+--------+\n",
      "only showing top 20 rows\n",
      "\n"
     ]
    }
   ],
   "source": [
    "df_pyspark_arg.show()"
   ]
  },
  {
   "cell_type": "markdown",
   "id": "805f0f8f",
   "metadata": {},
   "source": [
    "#### Changing pesos money to USD currency"
   ]
  },
  {
   "cell_type": "code",
   "execution_count": 33,
   "id": "45081778",
   "metadata": {
    "scrolled": true
   },
   "outputs": [],
   "source": [
    "df_pyspark_arg = df_pyspark_arg.withColumn(\"Money USD\",\n",
    "              when(df_pyspark_arg.currency  == 'Pesos',  df_pyspark_arg.money * 0.054 )\\\n",
    "              .otherwise(df_pyspark_arg.money))\n",
    "\n",
    "\n"
   ]
  },
  {
   "cell_type": "code",
   "execution_count": 34,
   "id": "7dfb694f",
   "metadata": {},
   "outputs": [
    {
     "name": "stdout",
     "output_type": "stream",
     "text": [
      "+--------+----------+----------+----+---------+---------+----+---------+----------+---------+----------+--------+---------+\n",
      "|   money|     brand|     model|year|    Color|Fuel_type|door|     gear|     motor|body_type|kilometres|currency|Money USD|\n",
      "+--------+----------+----------+----+---------+---------+----+---------+----------+---------+----------+--------+---------+\n",
      "|10350000|    Toyota|Corolla...|2022|   Silver|  Naphtha| 5.0|Automatic|Not ava...|      SUV|       500|   Pesos| 558900.0|\n",
      "|10850000|      Jeep|   Compass|2022|    White|  Naphtha| 5.0|Automatic|       2.4|      SUV|       500|   Pesos| 585900.0|\n",
      "|   35500|      Jeep|   Compass|2022|Dark gray|  Naphtha| 5.0|Automatic|       2.4|      SUV|       500| Dollars|  35500.0|\n",
      "|   19000|   Citroën| C4 Cactus|2022|Dark gray|  Naphtha| 5.0|Automatic|Not ava...|      SUV|       550| Dollars|  19000.0|\n",
      "| 5800000|    Toyota|   Corolla|2019|     Gray|  Naphtha| 4.0|   Manual|       1.8|    Sedán|      9000|   Pesos| 313200.0|\n",
      "|   34500|      Jeep|   Compass|2022|    Black|  Naphtha| 5.0|Automatic|       1.3|      SUV|     10500| Dollars|  34500.0|\n",
      "|   25000|       Kia|   Sorento|2014|    Black|   Diesel| 5.0|Automatic|       2.2|      SUV|    156000| Dollars|  25000.0|\n",
      "|   12300|Mercede...|   Clase C|2008|   Silver|  Naphtha| 4.0|Automatic|       1.8|    Sedán|    174000| Dollars|  12300.0|\n",
      "|   35500|       BMW|       220|2016|    White|  Naphtha| 2.0|Automatic|     TURBO|    Coupé|     66000| Dollars|  35500.0|\n",
      "| 6800000|Volkswagen|   T-Cross|2019|   Orange|  Naphtha| 5.0|Automatic|1.6 MSI...|      SUV|     35000|   Pesos| 367200.0|\n",
      "|   38500|Mercede...|   Clase A|2017|   Silver|  Naphtha| 5.0|Automatic|         3|Hatchback|     55394| Dollars|  38500.0|\n",
      "|   20500|Mercede...|   Clase A|2013|    White|  Naphtha| 5.0|   Manual|       1.6|Hatchback|    162080| Dollars|  20500.0|\n",
      "| 3500000|   Renault|   Sandero|2022|   Silver|  Naphtha| 5.0|   Manual|Not ava...|    Sedán|    111111|   Pesos| 189000.0|\n",
      "| 5990000|Volkswagen|      Polo|2022|    White|  Naphtha| 5.0|   Manual|       1.6|Hatchback|    111111|   Pesos| 323460.0|\n",
      "|   41900|       BMW|   Serie 1|2020|    Black|  Naphtha| 5.0|Automatic|Not ava...|Hatchback|     34800| Dollars|  41900.0|\n",
      "| 2100000|      Ford|  Ecosport|2011|    Beige|  Naphtha| 4.0|   Manual|       1.6|      SUV|    101000|   Pesos| 113400.0|\n",
      "|   38500| Chevrolet|Trailbl...|2019|     Gray|   Diesel| 5.0|Automatic|Not ava...|      SUV|     73000| Dollars|  38500.0|\n",
      "| 2940000|    Toyota|     Etios|2015|    White|  Naphtha| 5.0|   Manual|       1.5|Hatchback|     83000|   Pesos| 158760.0|\n",
      "| 2050000|   Renault|      Clio|2014|     Gray|  Naphtha| 5.0|   Manual|       1.2|Hatchback|     99000|   Pesos| 110700.0|\n",
      "| 4120000|    Toyota|      RAV4|2011|     Gray|  Naphtha| 5.0|Automatic|       2.4|      SUV|    180000|   Pesos| 222480.0|\n",
      "| 4100000|    Toyota|     Etios|2018|     Gray|  Naphtha| 5.0|   Manual|       1.5|    Sedán|     80000|   Pesos| 221400.0|\n",
      "|   15000|      Mini|    Cooper|2013|      Red|  Naphtha| 5.0|   Manual|       1.6|Hatchback|    105000| Dollars|  15000.0|\n",
      "| 5099000|      Jeep|  Renegade|2018|      Red|  Naphtha| 5.0|   Manual|       1.8|      SUV|     78000|   Pesos| 275346.0|\n",
      "| 8300000|    Toyota|     Hilux|2017|      Red|   Diesel| 4.0|   Manual|       2.8|  Pick-Up|    170000|   Pesos| 448200.0|\n",
      "| 2800000|      Fiat|     Bravo|2013|    Black|  Naphtha| 5.0|   Manual|Not ava...|Hatchback|    124000|   Pesos| 151200.0|\n",
      "+--------+----------+----------+----+---------+---------+----+---------+----------+---------+----------+--------+---------+\n",
      "only showing top 25 rows\n",
      "\n"
     ]
    }
   ],
   "source": [
    "df_pyspark_arg.show(25,10)"
   ]
  },
  {
   "cell_type": "markdown",
   "id": "b78aab57",
   "metadata": {},
   "source": [
    "### Renaming columns in dataframe"
   ]
  },
  {
   "cell_type": "code",
   "execution_count": 35,
   "id": "0e714ca2",
   "metadata": {},
   "outputs": [
    {
     "data": {
      "text/plain": [
       "['money',\n",
       " 'brand',\n",
       " 'model',\n",
       " 'year',\n",
       " 'Color',\n",
       " 'Fuel_type',\n",
       " 'door',\n",
       " 'gear',\n",
       " 'motor',\n",
       " 'body_type',\n",
       " 'kilometres',\n",
       " 'currency',\n",
       " 'Money USD']"
      ]
     },
     "execution_count": 35,
     "metadata": {},
     "output_type": "execute_result"
    }
   ],
   "source": [
    "df_pyspark_arg.columns"
   ]
  },
  {
   "cell_type": "code",
   "execution_count": 36,
   "id": "70d0fe36",
   "metadata": {},
   "outputs": [],
   "source": [
    "df_pyspark_arg =df_pyspark_arg.withColumnRenamed('money', 'Money') \\\n",
    "              .withColumnRenamed('brand', 'Brand') \\\n",
    "              .withColumnRenamed('model','Model') \\\n",
    "              .withColumnRenamed('year', 'Year') \\\n",
    "              .withColumnRenamed('Fuel_type','FuelType') \\\n",
    "              .withColumnRenamed('door','Door') \\\n",
    "              .withColumnRenamed('gear','Gear') \\\n",
    "              .withColumnRenamed('motor','Motor') \\\n",
    "              .withColumnRenamed('body_type','BodyType') \\\n",
    "              .withColumnRenamed('kilometres','Kilometres') \\\n",
    "              .withColumnRenamed('currency','Currency')\n",
    "    \n",
    "            "
   ]
  },
  {
   "cell_type": "code",
   "execution_count": 37,
   "id": "996eae55",
   "metadata": {},
   "outputs": [
    {
     "name": "stdout",
     "output_type": "stream",
     "text": [
      "+--------+----------+----------+----+---------+--------+----+---------+----------+---------+----------+--------+---------+\n",
      "|   Money|     Brand|     Model|Year|    Color|FuelType|Door|     Gear|     Motor| BodyType|Kilometres|Currency|Money USD|\n",
      "+--------+----------+----------+----+---------+--------+----+---------+----------+---------+----------+--------+---------+\n",
      "|10350000|    Toyota|Corolla...|2022|   Silver| Naphtha| 5.0|Automatic|Not ava...|      SUV|       500|   Pesos| 558900.0|\n",
      "|10850000|      Jeep|   Compass|2022|    White| Naphtha| 5.0|Automatic|       2.4|      SUV|       500|   Pesos| 585900.0|\n",
      "|   35500|      Jeep|   Compass|2022|Dark gray| Naphtha| 5.0|Automatic|       2.4|      SUV|       500| Dollars|  35500.0|\n",
      "|   19000|   Citroën| C4 Cactus|2022|Dark gray| Naphtha| 5.0|Automatic|Not ava...|      SUV|       550| Dollars|  19000.0|\n",
      "| 5800000|    Toyota|   Corolla|2019|     Gray| Naphtha| 4.0|   Manual|       1.8|    Sedán|      9000|   Pesos| 313200.0|\n",
      "|   34500|      Jeep|   Compass|2022|    Black| Naphtha| 5.0|Automatic|       1.3|      SUV|     10500| Dollars|  34500.0|\n",
      "|   25000|       Kia|   Sorento|2014|    Black|  Diesel| 5.0|Automatic|       2.2|      SUV|    156000| Dollars|  25000.0|\n",
      "|   12300|Mercede...|   Clase C|2008|   Silver| Naphtha| 4.0|Automatic|       1.8|    Sedán|    174000| Dollars|  12300.0|\n",
      "|   35500|       BMW|       220|2016|    White| Naphtha| 2.0|Automatic|     TURBO|    Coupé|     66000| Dollars|  35500.0|\n",
      "| 6800000|Volkswagen|   T-Cross|2019|   Orange| Naphtha| 5.0|Automatic|1.6 MSI...|      SUV|     35000|   Pesos| 367200.0|\n",
      "|   38500|Mercede...|   Clase A|2017|   Silver| Naphtha| 5.0|Automatic|         3|Hatchback|     55394| Dollars|  38500.0|\n",
      "|   20500|Mercede...|   Clase A|2013|    White| Naphtha| 5.0|   Manual|       1.6|Hatchback|    162080| Dollars|  20500.0|\n",
      "| 3500000|   Renault|   Sandero|2022|   Silver| Naphtha| 5.0|   Manual|Not ava...|    Sedán|    111111|   Pesos| 189000.0|\n",
      "| 5990000|Volkswagen|      Polo|2022|    White| Naphtha| 5.0|   Manual|       1.6|Hatchback|    111111|   Pesos| 323460.0|\n",
      "|   41900|       BMW|   Serie 1|2020|    Black| Naphtha| 5.0|Automatic|Not ava...|Hatchback|     34800| Dollars|  41900.0|\n",
      "| 2100000|      Ford|  Ecosport|2011|    Beige| Naphtha| 4.0|   Manual|       1.6|      SUV|    101000|   Pesos| 113400.0|\n",
      "|   38500| Chevrolet|Trailbl...|2019|     Gray|  Diesel| 5.0|Automatic|Not ava...|      SUV|     73000| Dollars|  38500.0|\n",
      "| 2940000|    Toyota|     Etios|2015|    White| Naphtha| 5.0|   Manual|       1.5|Hatchback|     83000|   Pesos| 158760.0|\n",
      "| 2050000|   Renault|      Clio|2014|     Gray| Naphtha| 5.0|   Manual|       1.2|Hatchback|     99000|   Pesos| 110700.0|\n",
      "| 4120000|    Toyota|      RAV4|2011|     Gray| Naphtha| 5.0|Automatic|       2.4|      SUV|    180000|   Pesos| 222480.0|\n",
      "| 4100000|    Toyota|     Etios|2018|     Gray| Naphtha| 5.0|   Manual|       1.5|    Sedán|     80000|   Pesos| 221400.0|\n",
      "|   15000|      Mini|    Cooper|2013|      Red| Naphtha| 5.0|   Manual|       1.6|Hatchback|    105000| Dollars|  15000.0|\n",
      "| 5099000|      Jeep|  Renegade|2018|      Red| Naphtha| 5.0|   Manual|       1.8|      SUV|     78000|   Pesos| 275346.0|\n",
      "| 8300000|    Toyota|     Hilux|2017|      Red|  Diesel| 4.0|   Manual|       2.8|  Pick-Up|    170000|   Pesos| 448200.0|\n",
      "| 2800000|      Fiat|     Bravo|2013|    Black| Naphtha| 5.0|   Manual|Not ava...|Hatchback|    124000|   Pesos| 151200.0|\n",
      "+--------+----------+----------+----+---------+--------+----+---------+----------+---------+----------+--------+---------+\n",
      "only showing top 25 rows\n",
      "\n"
     ]
    }
   ],
   "source": [
    "df_pyspark_arg.show(25,10)"
   ]
  },
  {
   "cell_type": "markdown",
   "id": "1ad66071",
   "metadata": {},
   "source": [
    "##### Changing datatype "
   ]
  },
  {
   "cell_type": "code",
   "execution_count": 38,
   "id": "174e281c",
   "metadata": {},
   "outputs": [],
   "source": [
    "df_pyspark_arg = df_pyspark_arg.withColumn('Door',df_pyspark_arg.Door.cast('int'))\n",
    "df_pyspark_arg = df_pyspark_arg.withColumn('Money USD',df_pyspark_arg['Money USD'].cast('int'))"
   ]
  },
  {
   "cell_type": "markdown",
   "id": "36e9d17a",
   "metadata": {},
   "source": [
    "##### Reordening the sequence of columns"
   ]
  },
  {
   "cell_type": "code",
   "execution_count": 39,
   "id": "fcab3cda",
   "metadata": {},
   "outputs": [
    {
     "data": {
      "text/plain": [
       "['Money',\n",
       " 'Brand',\n",
       " 'Model',\n",
       " 'Year',\n",
       " 'Color',\n",
       " 'FuelType',\n",
       " 'Door',\n",
       " 'Gear',\n",
       " 'Motor',\n",
       " 'BodyType',\n",
       " 'Kilometres',\n",
       " 'Currency',\n",
       " 'Money USD']"
      ]
     },
     "execution_count": 39,
     "metadata": {},
     "output_type": "execute_result"
    }
   ],
   "source": [
    "df_pyspark_arg.columns"
   ]
  },
  {
   "cell_type": "code",
   "execution_count": 40,
   "id": "261949aa",
   "metadata": {},
   "outputs": [],
   "source": [
    "df_pyspark_arg = df_pyspark_arg.select('Brand',\n",
    " 'Model',\n",
    " 'Year',\n",
    " 'Color',\n",
    " 'FuelType',\n",
    " 'Door',\n",
    " 'Gear',\n",
    " 'Motor',\n",
    " 'BodyType',\n",
    " 'Kilometres',\n",
    " 'Currency',\n",
    "  'Money',\n",
    " 'Money USD')"
   ]
  },
  {
   "cell_type": "markdown",
   "id": "d72c330e",
   "metadata": {},
   "source": [
    "### Basic information after cleaning"
   ]
  },
  {
   "cell_type": "code",
   "execution_count": 41,
   "id": "e2782f3d",
   "metadata": {},
   "outputs": [
    {
     "name": "stdout",
     "output_type": "stream",
     "text": [
      "root\n",
      " |-- Brand: string (nullable = true)\n",
      " |-- Model: string (nullable = true)\n",
      " |-- Year: integer (nullable = true)\n",
      " |-- Color: string (nullable = false)\n",
      " |-- FuelType: string (nullable = false)\n",
      " |-- Door: integer (nullable = true)\n",
      " |-- Gear: string (nullable = false)\n",
      " |-- Motor: string (nullable = false)\n",
      " |-- BodyType: string (nullable = false)\n",
      " |-- Kilometres: integer (nullable = true)\n",
      " |-- Currency: string (nullable = false)\n",
      " |-- Money: integer (nullable = true)\n",
      " |-- Money USD: integer (nullable = true)\n",
      "\n"
     ]
    }
   ],
   "source": [
    "df_pyspark_arg.printSchema()"
   ]
  },
  {
   "cell_type": "code",
   "execution_count": 42,
   "id": "8f0aca82",
   "metadata": {},
   "outputs": [
    {
     "name": "stdout",
     "output_type": "stream",
     "text": [
      "+----------+----------+----+---------+--------+----+---------+----------+---------+----------+--------+--------+---------+\n",
      "|     Brand|     Model|Year|    Color|FuelType|Door|     Gear|     Motor| BodyType|Kilometres|Currency|   Money|Money USD|\n",
      "+----------+----------+----+---------+--------+----+---------+----------+---------+----------+--------+--------+---------+\n",
      "|    Toyota|Corolla...|2022|   Silver| Naphtha|   5|Automatic|Not ava...|      SUV|       500|   Pesos|10350000|   558900|\n",
      "|      Jeep|   Compass|2022|    White| Naphtha|   5|Automatic|       2.4|      SUV|       500|   Pesos|10850000|   585900|\n",
      "|      Jeep|   Compass|2022|Dark gray| Naphtha|   5|Automatic|       2.4|      SUV|       500| Dollars|   35500|    35500|\n",
      "|   Citroën| C4 Cactus|2022|Dark gray| Naphtha|   5|Automatic|Not ava...|      SUV|       550| Dollars|   19000|    19000|\n",
      "|    Toyota|   Corolla|2019|     Gray| Naphtha|   4|   Manual|       1.8|    Sedán|      9000|   Pesos| 5800000|   313200|\n",
      "|      Jeep|   Compass|2022|    Black| Naphtha|   5|Automatic|       1.3|      SUV|     10500| Dollars|   34500|    34500|\n",
      "|       Kia|   Sorento|2014|    Black|  Diesel|   5|Automatic|       2.2|      SUV|    156000| Dollars|   25000|    25000|\n",
      "|Mercede...|   Clase C|2008|   Silver| Naphtha|   4|Automatic|       1.8|    Sedán|    174000| Dollars|   12300|    12300|\n",
      "|       BMW|       220|2016|    White| Naphtha|   2|Automatic|     TURBO|    Coupé|     66000| Dollars|   35500|    35500|\n",
      "|Volkswagen|   T-Cross|2019|   Orange| Naphtha|   5|Automatic|1.6 MSI...|      SUV|     35000|   Pesos| 6800000|   367200|\n",
      "|Mercede...|   Clase A|2017|   Silver| Naphtha|   5|Automatic|         3|Hatchback|     55394| Dollars|   38500|    38500|\n",
      "|Mercede...|   Clase A|2013|    White| Naphtha|   5|   Manual|       1.6|Hatchback|    162080| Dollars|   20500|    20500|\n",
      "|   Renault|   Sandero|2022|   Silver| Naphtha|   5|   Manual|Not ava...|    Sedán|    111111|   Pesos| 3500000|   189000|\n",
      "|Volkswagen|      Polo|2022|    White| Naphtha|   5|   Manual|       1.6|Hatchback|    111111|   Pesos| 5990000|   323460|\n",
      "|       BMW|   Serie 1|2020|    Black| Naphtha|   5|Automatic|Not ava...|Hatchback|     34800| Dollars|   41900|    41900|\n",
      "|      Ford|  Ecosport|2011|    Beige| Naphtha|   4|   Manual|       1.6|      SUV|    101000|   Pesos| 2100000|   113400|\n",
      "| Chevrolet|Trailbl...|2019|     Gray|  Diesel|   5|Automatic|Not ava...|      SUV|     73000| Dollars|   38500|    38500|\n",
      "|    Toyota|     Etios|2015|    White| Naphtha|   5|   Manual|       1.5|Hatchback|     83000|   Pesos| 2940000|   158760|\n",
      "|   Renault|      Clio|2014|     Gray| Naphtha|   5|   Manual|       1.2|Hatchback|     99000|   Pesos| 2050000|   110700|\n",
      "|    Toyota|      RAV4|2011|     Gray| Naphtha|   5|Automatic|       2.4|      SUV|    180000|   Pesos| 4120000|   222480|\n",
      "|    Toyota|     Etios|2018|     Gray| Naphtha|   5|   Manual|       1.5|    Sedán|     80000|   Pesos| 4100000|   221400|\n",
      "|      Mini|    Cooper|2013|      Red| Naphtha|   5|   Manual|       1.6|Hatchback|    105000| Dollars|   15000|    15000|\n",
      "|      Jeep|  Renegade|2018|      Red| Naphtha|   5|   Manual|       1.8|      SUV|     78000|   Pesos| 5099000|   275346|\n",
      "|    Toyota|     Hilux|2017|      Red|  Diesel|   4|   Manual|       2.8|  Pick-Up|    170000|   Pesos| 8300000|   448200|\n",
      "|      Fiat|     Bravo|2013|    Black| Naphtha|   5|   Manual|Not ava...|Hatchback|    124000|   Pesos| 2800000|   151200|\n",
      "+----------+----------+----+---------+--------+----+---------+----------+---------+----------+--------+--------+---------+\n",
      "only showing top 25 rows\n",
      "\n"
     ]
    }
   ],
   "source": [
    "df_pyspark_arg.show(25,10)"
   ]
  },
  {
   "cell_type": "markdown",
   "id": "d2368d2d",
   "metadata": {},
   "source": [
    "## df_pyspark_nig"
   ]
  },
  {
   "cell_type": "code",
   "execution_count": 43,
   "id": "c89692ab",
   "metadata": {
    "scrolled": true
   },
   "outputs": [
    {
     "name": "stdout",
     "output_type": "stream",
     "text": [
      "+---+-------------+-------------------+-------------+-------+-----------+------+------------+----------+-----+\n",
      "|_c0|         Make|Year of manufacture|    Condition|Mileage|Engine Size|  Fuel|Transmission|     Price|Build|\n",
      "+---+-------------+-------------------+-------------+-------+-----------+------+------------+----------+-----+\n",
      "|  0|       Toyota|               2007|Nigerian Used| 166418|       2400|Petrol|   Automatic| 3,120,000| null|\n",
      "|  1|        Lexus|               null|         null| 138024|       null|  null|   Automatic| 5,834,000| null|\n",
      "|  2|Mercedes-Benz|               2008|Nigerian Used| 376807|       3000|Petrol|   Automatic| 3,640,000| null|\n",
      "|  3|        Lexus|               null|         null| 213362|       null|  null|   Automatic| 3,594,000| null|\n",
      "|  4|Mercedes-Benz|               null|         null| 106199|       null|  null|   Automatic| 8,410,000| null|\n",
      "|  5|Mercedes-Benz|               null|         null|  87660|       null|  null|   Automatic| 5,554,000| null|\n",
      "|  6|        Lexus|               null|         null| 191411|       null|  null|   Automatic| 3,706,000| null|\n",
      "|  7|        Lexus|               null|         null|  59092|       null|  null|   Automatic| 8,410,000| null|\n",
      "|  8|Mercedes-Benz|               null|         null|  89423|       null|  null|   Automatic| 6,506,000| null|\n",
      "|  9|        Lexus|               null|         null| 184827|       null|  null|   Automatic| 4,000,000| null|\n",
      "| 10|        Lexus|               null|         null|  42433|       null|  null|   Automatic| 8,970,000| null|\n",
      "| 11|        Lexus|               null|         null| 116138|       null|  null|   Automatic| 3,034,000| null|\n",
      "| 12|        Lexus|               null|         null| 167583|       null|  null|   Automatic| 3,818,000| null|\n",
      "| 13|        Lexus|               null|         null| 240934|       null|  null|   Automatic| 3,930,000| null|\n",
      "| 14|         Fiat|               null|         null|    114|       null|  null|   Automatic| 8,500,000| null|\n",
      "| 15|         Fiat|               null|         null|     54|       null|  null|      Manual|12,500,000| null|\n",
      "| 16|        Lexus|               null|         null|  79740|       null|  null|   Automatic| 5,274,000| null|\n",
      "| 17|Mercedes-Benz|               null|         null| 338145|       null|  null|   Automatic| 8,060,000| null|\n",
      "| 18|        Lexus|               null|         null| 174545|       null|  null|   Automatic| 6,506,000| null|\n",
      "| 19|   Land Rover|               null|         null|  63296|       null|  null|   Automatic| 6,910,000| null|\n",
      "+---+-------------+-------------------+-------------+-------+-----------+------+------------+----------+-----+\n",
      "only showing top 20 rows\n",
      "\n"
     ]
    }
   ],
   "source": [
    "df_pyspark_nig.show()"
   ]
  },
  {
   "cell_type": "markdown",
   "id": "fafc1e27",
   "metadata": {},
   "source": [
    "#### Dropping one column from dataframe"
   ]
  },
  {
   "cell_type": "code",
   "execution_count": 44,
   "id": "d04f5991",
   "metadata": {},
   "outputs": [
    {
     "data": {
      "text/plain": [
       "['_c0',\n",
       " 'Make',\n",
       " 'Year of manufacture',\n",
       " 'Condition',\n",
       " 'Mileage',\n",
       " 'Engine Size',\n",
       " 'Fuel',\n",
       " 'Transmission',\n",
       " 'Price',\n",
       " 'Build']"
      ]
     },
     "execution_count": 44,
     "metadata": {},
     "output_type": "execute_result"
    }
   ],
   "source": [
    "df_pyspark_nig.columns"
   ]
  },
  {
   "cell_type": "code",
   "execution_count": 45,
   "id": "f9a4798e",
   "metadata": {},
   "outputs": [],
   "source": [
    "df_pyspark_nig = df_pyspark_nig.drop('_c0')"
   ]
  },
  {
   "cell_type": "code",
   "execution_count": 46,
   "id": "e71db70d",
   "metadata": {},
   "outputs": [
    {
     "name": "stdout",
     "output_type": "stream",
     "text": [
      "+-------------+-------------------+-------------+-------+-----------+------+------------+----------+-----+\n",
      "|         Make|Year of manufacture|    Condition|Mileage|Engine Size|  Fuel|Transmission|     Price|Build|\n",
      "+-------------+-------------------+-------------+-------+-----------+------+------------+----------+-----+\n",
      "|       Toyota|               2007|Nigerian Used| 166418|       2400|Petrol|   Automatic| 3,120,000| null|\n",
      "|        Lexus|               null|         null| 138024|       null|  null|   Automatic| 5,834,000| null|\n",
      "|Mercedes-Benz|               2008|Nigerian Used| 376807|       3000|Petrol|   Automatic| 3,640,000| null|\n",
      "|        Lexus|               null|         null| 213362|       null|  null|   Automatic| 3,594,000| null|\n",
      "|Mercedes-Benz|               null|         null| 106199|       null|  null|   Automatic| 8,410,000| null|\n",
      "|Mercedes-Benz|               null|         null|  87660|       null|  null|   Automatic| 5,554,000| null|\n",
      "|        Lexus|               null|         null| 191411|       null|  null|   Automatic| 3,706,000| null|\n",
      "|        Lexus|               null|         null|  59092|       null|  null|   Automatic| 8,410,000| null|\n",
      "|Mercedes-Benz|               null|         null|  89423|       null|  null|   Automatic| 6,506,000| null|\n",
      "|        Lexus|               null|         null| 184827|       null|  null|   Automatic| 4,000,000| null|\n",
      "|        Lexus|               null|         null|  42433|       null|  null|   Automatic| 8,970,000| null|\n",
      "|        Lexus|               null|         null| 116138|       null|  null|   Automatic| 3,034,000| null|\n",
      "|        Lexus|               null|         null| 167583|       null|  null|   Automatic| 3,818,000| null|\n",
      "|        Lexus|               null|         null| 240934|       null|  null|   Automatic| 3,930,000| null|\n",
      "|         Fiat|               null|         null|    114|       null|  null|   Automatic| 8,500,000| null|\n",
      "|         Fiat|               null|         null|     54|       null|  null|      Manual|12,500,000| null|\n",
      "|        Lexus|               null|         null|  79740|       null|  null|   Automatic| 5,274,000| null|\n",
      "|Mercedes-Benz|               null|         null| 338145|       null|  null|   Automatic| 8,060,000| null|\n",
      "|        Lexus|               null|         null| 174545|       null|  null|   Automatic| 6,506,000| null|\n",
      "|   Land Rover|               null|         null|  63296|       null|  null|   Automatic| 6,910,000| null|\n",
      "+-------------+-------------------+-------------+-------+-----------+------+------------+----------+-----+\n",
      "only showing top 20 rows\n",
      "\n"
     ]
    }
   ],
   "source": [
    "df_pyspark_nig.show()"
   ]
  },
  {
   "cell_type": "markdown",
   "id": "caa096b2",
   "metadata": {},
   "source": [
    "### Looking for null values in columns:"
   ]
  },
  {
   "cell_type": "code",
   "execution_count": 47,
   "id": "5a68452b",
   "metadata": {
    "scrolled": true
   },
   "outputs": [
    {
     "name": "stdout",
     "output_type": "stream",
     "text": [
      "+----+-------------------+---------+-------+-----------+----+------------+-----+-----+\n",
      "|Make|Year of manufacture|Condition|Mileage|Engine Size|Fuel|Transmission|Price|Build|\n",
      "+----+-------------------+---------+-------+-----------+----+------------+-----+-----+\n",
      "|   0|                478|      479|     71|        511| 488|          20|    0| 2968|\n",
      "+----+-------------------+---------+-------+-----------+----+------------+-----+-----+\n",
      "\n"
     ]
    }
   ],
   "source": [
    "df_pyspark_nig.select([count(when(isnan(c) | col(c).isNull(), c)).alias(c) for c in df_pyspark_nig.columns]).show()"
   ]
  },
  {
   "cell_type": "markdown",
   "id": "f67b1d75",
   "metadata": {},
   "source": [
    "#### Exploring null values in columns:"
   ]
  },
  {
   "cell_type": "code",
   "execution_count": 48,
   "id": "f7375ae2",
   "metadata": {},
   "outputs": [
    {
     "name": "stdout",
     "output_type": "stream",
     "text": [
      "+-------------+-------------------+---------+-------+-----------+----+------------+----------+-----+\n",
      "|         Make|Year of manufacture|Condition|Mileage|Engine Size|Fuel|Transmission|     Price|Build|\n",
      "+-------------+-------------------+---------+-------+-----------+----+------------+----------+-----+\n",
      "|        Lexus|               null|     null| 138024|       null|null|   Automatic| 5,834,000| null|\n",
      "|        Lexus|               null|     null| 213362|       null|null|   Automatic| 3,594,000| null|\n",
      "|Mercedes-Benz|               null|     null| 106199|       null|null|   Automatic| 8,410,000| null|\n",
      "|Mercedes-Benz|               null|     null|  87660|       null|null|   Automatic| 5,554,000| null|\n",
      "|        Lexus|               null|     null| 191411|       null|null|   Automatic| 3,706,000| null|\n",
      "|        Lexus|               null|     null|  59092|       null|null|   Automatic| 8,410,000| null|\n",
      "|Mercedes-Benz|               null|     null|  89423|       null|null|   Automatic| 6,506,000| null|\n",
      "|        Lexus|               null|     null| 184827|       null|null|   Automatic| 4,000,000| null|\n",
      "|        Lexus|               null|     null|  42433|       null|null|   Automatic| 8,970,000| null|\n",
      "|        Lexus|               null|     null| 116138|       null|null|   Automatic| 3,034,000| null|\n",
      "|        Lexus|               null|     null| 167583|       null|null|   Automatic| 3,818,000| null|\n",
      "|        Lexus|               null|     null| 240934|       null|null|   Automatic| 3,930,000| null|\n",
      "|         Fiat|               null|     null|    114|       null|null|   Automatic| 8,500,000| null|\n",
      "|         Fiat|               null|     null|     54|       null|null|      Manual|12,500,000| null|\n",
      "|        Lexus|               null|     null|  79740|       null|null|   Automatic| 5,274,000| null|\n",
      "|Mercedes-Benz|               null|     null| 338145|       null|null|   Automatic| 8,060,000| null|\n",
      "|        Lexus|               null|     null| 174545|       null|null|   Automatic| 6,506,000| null|\n",
      "|   Land Rover|               null|     null|  63296|       null|null|   Automatic| 6,910,000| null|\n",
      "|Mercedes-Benz|               null|     null|  93469|       null|null|   Automatic| 6,910,000| null|\n",
      "|Mercedes-Benz|               null|     null|  63085|       null|null|   Automatic|15,690,000| null|\n",
      "+-------------+-------------------+---------+-------+-----------+----+------------+----------+-----+\n",
      "only showing top 20 rows\n",
      "\n"
     ]
    }
   ],
   "source": [
    "df_pyspark_nig.filter(col(\"Year of manufacture\").isNull()).show()"
   ]
  },
  {
   "cell_type": "code",
   "execution_count": 49,
   "id": "e698d031",
   "metadata": {
    "scrolled": true
   },
   "outputs": [
    {
     "name": "stdout",
     "output_type": "stream",
     "text": [
      "+-------------+-------------------+-------------+-------+-----------+------+------------+----------+-----+\n",
      "|         Make|Year of manufacture|    Condition|Mileage|Engine Size|  Fuel|Transmission|     Price|Build|\n",
      "+-------------+-------------------+-------------+-------+-----------+------+------------+----------+-----+\n",
      "|       Toyota|               2007|Nigerian Used| 166418|       2400|Petrol|   Automatic| 3,120,000| null|\n",
      "|        Lexus|               null|         null| 138024|       null|  null|   Automatic| 5,834,000| null|\n",
      "|Mercedes-Benz|               2008|Nigerian Used| 376807|       3000|Petrol|   Automatic| 3,640,000| null|\n",
      "|        Lexus|               null|         null| 213362|       null|  null|   Automatic| 3,594,000| null|\n",
      "|Mercedes-Benz|               null|         null| 106199|       null|  null|   Automatic| 8,410,000| null|\n",
      "|Mercedes-Benz|               null|         null|  87660|       null|  null|   Automatic| 5,554,000| null|\n",
      "|        Lexus|               null|         null| 191411|       null|  null|   Automatic| 3,706,000| null|\n",
      "|        Lexus|               null|         null|  59092|       null|  null|   Automatic| 8,410,000| null|\n",
      "|Mercedes-Benz|               null|         null|  89423|       null|  null|   Automatic| 6,506,000| null|\n",
      "|        Lexus|               null|         null| 184827|       null|  null|   Automatic| 4,000,000| null|\n",
      "|        Lexus|               null|         null|  42433|       null|  null|   Automatic| 8,970,000| null|\n",
      "|        Lexus|               null|         null| 116138|       null|  null|   Automatic| 3,034,000| null|\n",
      "|        Lexus|               null|         null| 167583|       null|  null|   Automatic| 3,818,000| null|\n",
      "|        Lexus|               null|         null| 240934|       null|  null|   Automatic| 3,930,000| null|\n",
      "|         Fiat|               null|         null|    114|       null|  null|   Automatic| 8,500,000| null|\n",
      "|         Fiat|               null|         null|     54|       null|  null|      Manual|12,500,000| null|\n",
      "|        Lexus|               null|         null|  79740|       null|  null|   Automatic| 5,274,000| null|\n",
      "|Mercedes-Benz|               null|         null| 338145|       null|  null|   Automatic| 8,060,000| null|\n",
      "|        Lexus|               null|         null| 174545|       null|  null|   Automatic| 6,506,000| null|\n",
      "|   Land Rover|               null|         null|  63296|       null|  null|   Automatic| 6,910,000| null|\n",
      "+-------------+-------------------+-------------+-------+-----------+------+------------+----------+-----+\n",
      "only showing top 20 rows\n",
      "\n"
     ]
    }
   ],
   "source": [
    "df_pyspark_nig.filter(col(\"Build\").isNull()).show()"
   ]
  },
  {
   "cell_type": "code",
   "execution_count": 50,
   "id": "e8ea47ba",
   "metadata": {},
   "outputs": [
    {
     "name": "stdout",
     "output_type": "stream",
     "text": [
      "+-------------+-------------------+-------------+-------+-----------+------+------------+----------+-----+\n",
      "|         Make|Year of manufacture|    Condition|Mileage|Engine Size|  Fuel|Transmission|     Price|Build|\n",
      "+-------------+-------------------+-------------+-------+-----------+------+------------+----------+-----+\n",
      "|        Lexus|               2011|Nigerian Used| 105546|       4600|Petrol|   Automatic|14,040,000|  SUV|\n",
      "|       Toyota|               2014|Nigerian Used| 216924|       2500|Petrol|   Automatic| 9,360,000|  SUV|\n",
      "|       Toyota|               2014|Nigerian Used| 216924|       2500|Petrol|   Automatic| 9,360,000|  SUV|\n",
      "|        Lexus|               2016|Nigerian Used| 107355|       5700|Petrol|   Automatic|42,000,000|  SUV|\n",
      "|Mercedes-Benz|               2007| Foreign Used| 209466|       4700|Petrol|   Automatic| 4,515,000|  SUV|\n",
      "|        Lexus|               2010| Foreign Used| 135819|       3500|Petrol|   Automatic| 8,610,000|  SUV|\n",
      "|Mercedes-Benz|               2015|Nigerian Used| 120785|       4500|Petrol|   Automatic|18,720,000|  SUV|\n",
      "|        Lexus|               2006|Nigerian Used| 156704|       3300|Petrol|   Automatic| 3,640,000|  SUV|\n",
      "|        Lexus|               2008|Nigerian Used| 162262|       4700|Petrol|   Automatic| 4,725,000|  SUV|\n",
      "|   Land Rover|               2011|Nigerian Used| 132352|       5000|Petrol|   Automatic| 5,250,000|  SUV|\n",
      "|       Toyota|               2010| Foreign Used| 170599|       3500|Petrol|   Automatic| 6,825,000|  SUV|\n",
      "|        Lexus|               2015| Foreign Used| 228013|       3500|Petrol|   Automatic|15,600,000|  SUV|\n",
      "|       Toyota|               2015| Foreign Used|  79277|       4000|Petrol|   Automatic|17,680,000|  SUV|\n",
      "|        Lexus|               2015|Nigerian Used|  88745|       3500|Petrol|   Automatic| 9,450,000|  SUV|\n",
      "|       Toyota|               2010| Foreign Used| 158017|       3500|Petrol|   Automatic| 6,825,000|  SUV|\n",
      "|        Lexus|               2004| Foreign Used| 250650|       3500|Petrol|   Automatic| 6,032,000|  SUV|\n",
      "|Mercedes-Benz|               2006|Nigerian Used| 243975|       3500|Petrol|   Automatic| 3,360,000|  SUV|\n",
      "|   Land Rover|               2018| Foreign Used|  30092|       3000|Diesel|   Automatic|36,750,000|  SUV|\n",
      "|Mercedes-Benz|               2012| Foreign Used| 173337|       3500|Petrol|   Automatic|11,025,000|  SUV|\n",
      "|        Lexus|               2005| Foreign Used|  95873|       3300|Petrol|   Automatic| 5,200,000|  SUV|\n",
      "+-------------+-------------------+-------------+-------+-----------+------+------------+----------+-----+\n",
      "only showing top 20 rows\n",
      "\n"
     ]
    }
   ],
   "source": [
    "df_pyspark_nig.filter(col(\"Build\").isNotNull()).show()"
   ]
  },
  {
   "cell_type": "markdown",
   "id": "4f6af1b6",
   "metadata": {},
   "source": [
    "#### Dropping null values"
   ]
  },
  {
   "cell_type": "code",
   "execution_count": 51,
   "id": "aeb404d5",
   "metadata": {},
   "outputs": [],
   "source": [
    "df_pyspark_nig = df_pyspark_nig.na.drop()"
   ]
  },
  {
   "cell_type": "code",
   "execution_count": 52,
   "id": "0e5865a0",
   "metadata": {},
   "outputs": [
    {
     "name": "stdout",
     "output_type": "stream",
     "text": [
      "+-------------+-------------------+-------------+-------+-----------+------+------------+----------+-----+\n",
      "|         Make|Year of manufacture|    Condition|Mileage|Engine Size|  Fuel|Transmission|     Price|Build|\n",
      "+-------------+-------------------+-------------+-------+-----------+------+------------+----------+-----+\n",
      "|        Lexus|               2011|Nigerian Used| 105546|       4600|Petrol|   Automatic|14,040,000|  SUV|\n",
      "|       Toyota|               2014|Nigerian Used| 216924|       2500|Petrol|   Automatic| 9,360,000|  SUV|\n",
      "|       Toyota|               2014|Nigerian Used| 216924|       2500|Petrol|   Automatic| 9,360,000|  SUV|\n",
      "|        Lexus|               2016|Nigerian Used| 107355|       5700|Petrol|   Automatic|42,000,000|  SUV|\n",
      "|Mercedes-Benz|               2007| Foreign Used| 209466|       4700|Petrol|   Automatic| 4,515,000|  SUV|\n",
      "|        Lexus|               2010| Foreign Used| 135819|       3500|Petrol|   Automatic| 8,610,000|  SUV|\n",
      "|Mercedes-Benz|               2015|Nigerian Used| 120785|       4500|Petrol|   Automatic|18,720,000|  SUV|\n",
      "|        Lexus|               2006|Nigerian Used| 156704|       3300|Petrol|   Automatic| 3,640,000|  SUV|\n",
      "|        Lexus|               2008|Nigerian Used| 162262|       4700|Petrol|   Automatic| 4,725,000|  SUV|\n",
      "|   Land Rover|               2011|Nigerian Used| 132352|       5000|Petrol|   Automatic| 5,250,000|  SUV|\n",
      "|       Toyota|               2010| Foreign Used| 170599|       3500|Petrol|   Automatic| 6,825,000|  SUV|\n",
      "|        Lexus|               2015| Foreign Used| 228013|       3500|Petrol|   Automatic|15,600,000|  SUV|\n",
      "|       Toyota|               2015| Foreign Used|  79277|       4000|Petrol|   Automatic|17,680,000|  SUV|\n",
      "|        Lexus|               2015|Nigerian Used|  88745|       3500|Petrol|   Automatic| 9,450,000|  SUV|\n",
      "|       Toyota|               2010| Foreign Used| 158017|       3500|Petrol|   Automatic| 6,825,000|  SUV|\n",
      "|        Lexus|               2004| Foreign Used| 250650|       3500|Petrol|   Automatic| 6,032,000|  SUV|\n",
      "|Mercedes-Benz|               2006|Nigerian Used| 243975|       3500|Petrol|   Automatic| 3,360,000|  SUV|\n",
      "|   Land Rover|               2018| Foreign Used|  30092|       3000|Diesel|   Automatic|36,750,000|  SUV|\n",
      "|Mercedes-Benz|               2012| Foreign Used| 173337|       3500|Petrol|   Automatic|11,025,000|  SUV|\n",
      "|        Lexus|               2005| Foreign Used|  95873|       3300|Petrol|   Automatic| 5,200,000|  SUV|\n",
      "+-------------+-------------------+-------------+-------+-----------+------+------------+----------+-----+\n",
      "only showing top 20 rows\n",
      "\n"
     ]
    }
   ],
   "source": [
    "df_pyspark_nig.show()"
   ]
  },
  {
   "cell_type": "markdown",
   "id": "cfca5547",
   "metadata": {},
   "source": [
    "#### Verifying if all drop values are dropped"
   ]
  },
  {
   "cell_type": "code",
   "execution_count": 53,
   "id": "55c4ee9f",
   "metadata": {},
   "outputs": [
    {
     "name": "stdout",
     "output_type": "stream",
     "text": [
      "+----+-------------------+---------+-------+-----------+----+------------+-----+-----+\n",
      "|Make|Year of manufacture|Condition|Mileage|Engine Size|Fuel|Transmission|Price|Build|\n",
      "+----+-------------------+---------+-------+-----------+----+------------+-----+-----+\n",
      "|   0|                  0|        0|      0|          0|   0|           0|    0|    0|\n",
      "+----+-------------------+---------+-------+-----------+----+------------+-----+-----+\n",
      "\n"
     ]
    }
   ],
   "source": [
    "df_pyspark_nig.select([count(when(isnan(c) | col(c).isNull(), c)).alias(c) for c in df_pyspark_nig.columns]).show()"
   ]
  },
  {
   "cell_type": "markdown",
   "id": "da3d7989",
   "metadata": {},
   "source": [
    "### Dealing with duplicates"
   ]
  },
  {
   "cell_type": "code",
   "execution_count": 54,
   "id": "f0801fec",
   "metadata": {},
   "outputs": [
    {
     "name": "stdout",
     "output_type": "stream",
     "text": [
      "Count  of rows in dataframe: 1101\n"
     ]
    }
   ],
   "source": [
    "print(\"Count  of rows in dataframe: \" + str(df_pyspark_nig.count()))"
   ]
  },
  {
   "cell_type": "code",
   "execution_count": 55,
   "id": "6fca05d5",
   "metadata": {},
   "outputs": [
    {
     "name": "stdout",
     "output_type": "stream",
     "text": [
      "Distinct Count of rows in dataframe: 851\n"
     ]
    }
   ],
   "source": [
    "print(\"Distinct Count of rows in dataframe: \" + str(df_pyspark_nig.distinct().count()))"
   ]
  },
  {
   "cell_type": "markdown",
   "id": "2b1afb6e",
   "metadata": {},
   "source": [
    "#### Removing duplicate values"
   ]
  },
  {
   "cell_type": "code",
   "execution_count": 56,
   "id": "f1314142",
   "metadata": {},
   "outputs": [
    {
     "name": "stdout",
     "output_type": "stream",
     "text": [
      "Distinct count: 851\n"
     ]
    }
   ],
   "source": [
    "df_pyspark_nig = df_pyspark_nig.dropDuplicates()\n",
    "print(\"Distinct count: \"+str(df_pyspark_nig.count()))"
   ]
  },
  {
   "cell_type": "markdown",
   "id": "d72cd2f7",
   "metadata": {},
   "source": [
    "### Changing the name of columns"
   ]
  },
  {
   "cell_type": "code",
   "execution_count": 57,
   "id": "dda983cc",
   "metadata": {},
   "outputs": [
    {
     "name": "stdout",
     "output_type": "stream",
     "text": [
      "+-------------+-------------------+-------------+-------+-----------+------+------------+----------+-----+\n",
      "|         Make|Year of manufacture|    Condition|Mileage|Engine Size|  Fuel|Transmission|     Price|Build|\n",
      "+-------------+-------------------+-------------+-------+-----------+------+------------+----------+-----+\n",
      "|Mercedes-Benz|               2013| Foreign Used| 104536|       3500|Petrol|   Automatic|14,352,000|  SUV|\n",
      "|        Honda|               2011| Foreign Used|   3621|       3500|Petrol|   Automatic| 6,240,000|  SUV|\n",
      "|       Toyota|               2007|Nigerian Used| 223493|       3500|Hybrid|   Automatic| 2,100,000|  SUV|\n",
      "|       Toyota|               2003|Nigerian Used| 367531|       4000|Petrol|   Automatic| 2,137,500|  SUV|\n",
      "|        Lexus|               2007| Foreign Used| 104138|       3500|Petrol|   Automatic| 5,928,000|  SUV|\n",
      "|      Lincoln|               2019|Nigerian Used|  35976|       2000|Petrol|   Automatic|17,850,000|  SUV|\n",
      "|   Land Rover|               2008|Nigerian Used| 178780|       4700|Petrol|   Automatic| 3,150,000|  SUV|\n",
      "|        Lexus|               2007|Nigerian Used| 220726|       3500|Petrol|   Automatic| 4,680,000|  SUV|\n",
      "|        Mazda|               2010|Nigerian Used| 322717|       2500|Petrol|   Automatic| 2,100,000|  SUV|\n",
      "|        Lexus|               2008| Foreign Used| 149092|       3500|Petrol|   Automatic| 5,145,000|  SUV|\n",
      "|      Hyundai|               2010|Nigerian Used| 262797|       3800|Petrol|   Automatic| 2,677,500|  SUV|\n",
      "|       Toyota|               2001|Nigerian Used| 119510|       3000|Petrol|   Automatic| 1,352,000|  SUV|\n",
      "|Mercedes-Benz|               2007|Nigerian Used|   1966|         35|Petrol|   Automatic| 5,720,000|  SUV|\n",
      "|       Toyota|               2002| Foreign Used| 125606|       2000|Petrol|   Automatic| 3,255,000|  SUV|\n",
      "|          Kia|               2013|Nigerian Used| 134013|       3800|Petrol|   Automatic| 4,410,000|  SUV|\n",
      "|        Honda|               2003|Nigerian Used| 175567|       3500|Petrol|   Automatic| 1,612,000|  SUV|\n",
      "|       Nissan|               2009|Nigerian Used| 213292|       3500|Petrol|         CVT| 1,575,000|  SUV|\n",
      "|        Lexus|               2005|Nigerian Used| 196345|       3300|Petrol|   Automatic| 3,432,000|  SUV|\n",
      "|       Toyota|               2007|Nigerian Used| 213548|       3500|Petrol|   Automatic| 3,328,000|  SUV|\n",
      "|       Toyota|               2009|Nigerian Used|  94618|       3500|Petrol|   Automatic| 4,725,000|  SUV|\n",
      "+-------------+-------------------+-------------+-------+-----------+------+------------+----------+-----+\n",
      "only showing top 20 rows\n",
      "\n"
     ]
    }
   ],
   "source": [
    "df_pyspark_nig.show()"
   ]
  },
  {
   "cell_type": "code",
   "execution_count": 58,
   "id": "978539eb",
   "metadata": {},
   "outputs": [
    {
     "data": {
      "text/plain": [
       "['Make',\n",
       " 'Year of manufacture',\n",
       " 'Condition',\n",
       " 'Mileage',\n",
       " 'Engine Size',\n",
       " 'Fuel',\n",
       " 'Transmission',\n",
       " 'Price',\n",
       " 'Build']"
      ]
     },
     "execution_count": 58,
     "metadata": {},
     "output_type": "execute_result"
    }
   ],
   "source": [
    "df_pyspark_nig.columns"
   ]
  },
  {
   "cell_type": "code",
   "execution_count": 59,
   "id": "7e695653",
   "metadata": {},
   "outputs": [],
   "source": [
    "df_pyspark_nig = df_pyspark_nig.withColumnRenamed(\"Make\",\"Brand\") \\\n",
    "                .withColumnRenamed(\"Year of manufacture\",\"Year\") \\\n",
    "                .withColumnRenamed(\"Mileage\",\"Kilometres\") \\\n",
    "                 .withColumnRenamed(\"Transmission\",\"Gear\") \\\n",
    "                .withColumnRenamed(\"Build\",\"BodyType\") \\\n",
    "                .withColumnRenamed(\"Fuel\",\"FuelType\") \\\n",
    "                .withColumnRenamed(\"Engine Size\",\"EngineSize\") \\\n",
    "                .withColumnRenamed(\"Price\",\"Money\") "
   ]
  },
  {
   "cell_type": "markdown",
   "id": "c86b6cbe",
   "metadata": {},
   "source": [
    "### Converting str to int data type"
   ]
  },
  {
   "cell_type": "code",
   "execution_count": 60,
   "id": "960bc8c1",
   "metadata": {},
   "outputs": [],
   "source": [
    "df_pyspark_nig = df_pyspark_nig.withColumn(\"Money\", functions.regexp_replace('Money',r'[,]',\"\"))\n",
    "df_pyspark_nig = df_pyspark_nig.withColumn(\"Money\",col(\"Money\").cast(\"integer\"))\n"
   ]
  },
  {
   "cell_type": "code",
   "execution_count": 61,
   "id": "1c1b1b15",
   "metadata": {},
   "outputs": [
    {
     "name": "stdout",
     "output_type": "stream",
     "text": [
      "+-------------+----+-------------+----------+----------+--------+---------+--------+--------+\n",
      "|        Brand|Year|    Condition|Kilometres|EngineSize|FuelType|     Gear|   Money|BodyType|\n",
      "+-------------+----+-------------+----------+----------+--------+---------+--------+--------+\n",
      "|Mercedes-Benz|2013| Foreign Used|    104536|      3500|  Petrol|Automatic|14352000|     SUV|\n",
      "|        Honda|2011| Foreign Used|      3621|      3500|  Petrol|Automatic| 6240000|     SUV|\n",
      "|       Toyota|2007|Nigerian Used|    223493|      3500|  Hybrid|Automatic| 2100000|     SUV|\n",
      "|       Toyota|2003|Nigerian Used|    367531|      4000|  Petrol|Automatic| 2137500|     SUV|\n",
      "|        Lexus|2007| Foreign Used|    104138|      3500|  Petrol|Automatic| 5928000|     SUV|\n",
      "|      Lincoln|2019|Nigerian Used|     35976|      2000|  Petrol|Automatic|17850000|     SUV|\n",
      "|   Land Rover|2008|Nigerian Used|    178780|      4700|  Petrol|Automatic| 3150000|     SUV|\n",
      "|        Lexus|2007|Nigerian Used|    220726|      3500|  Petrol|Automatic| 4680000|     SUV|\n",
      "|        Mazda|2010|Nigerian Used|    322717|      2500|  Petrol|Automatic| 2100000|     SUV|\n",
      "|        Lexus|2008| Foreign Used|    149092|      3500|  Petrol|Automatic| 5145000|     SUV|\n",
      "|      Hyundai|2010|Nigerian Used|    262797|      3800|  Petrol|Automatic| 2677500|     SUV|\n",
      "|       Toyota|2001|Nigerian Used|    119510|      3000|  Petrol|Automatic| 1352000|     SUV|\n",
      "|Mercedes-Benz|2007|Nigerian Used|      1966|        35|  Petrol|Automatic| 5720000|     SUV|\n",
      "|       Toyota|2002| Foreign Used|    125606|      2000|  Petrol|Automatic| 3255000|     SUV|\n",
      "|          Kia|2013|Nigerian Used|    134013|      3800|  Petrol|Automatic| 4410000|     SUV|\n",
      "|        Honda|2003|Nigerian Used|    175567|      3500|  Petrol|Automatic| 1612000|     SUV|\n",
      "|       Nissan|2009|Nigerian Used|    213292|      3500|  Petrol|      CVT| 1575000|     SUV|\n",
      "|        Lexus|2005|Nigerian Used|    196345|      3300|  Petrol|Automatic| 3432000|     SUV|\n",
      "|       Toyota|2007|Nigerian Used|    213548|      3500|  Petrol|Automatic| 3328000|     SUV|\n",
      "|       Toyota|2009|Nigerian Used|     94618|      3500|  Petrol|Automatic| 4725000|     SUV|\n",
      "+-------------+----+-------------+----------+----------+--------+---------+--------+--------+\n",
      "only showing top 20 rows\n",
      "\n"
     ]
    }
   ],
   "source": [
    "df_pyspark_nig.show()"
   ]
  },
  {
   "cell_type": "markdown",
   "id": "2344fd6f",
   "metadata": {},
   "source": [
    "### Converting Money to Money USD"
   ]
  },
  {
   "cell_type": "code",
   "execution_count": 62,
   "id": "3bc554f8",
   "metadata": {},
   "outputs": [],
   "source": [
    "def MoneyUSD(df_pyspark_nig):\n",
    "    return df_pyspark_nig.withColumn(\"Money USD\", \\\n",
    "                                   df_pyspark_nig.Money * 0.0022 )\n",
    "df_pyspark_nig = df_pyspark_nig.transform(MoneyUSD)"
   ]
  },
  {
   "cell_type": "markdown",
   "id": "25da774e",
   "metadata": {},
   "source": [
    "### Basic information after cleaning"
   ]
  },
  {
   "cell_type": "code",
   "execution_count": 63,
   "id": "b75a4d21",
   "metadata": {},
   "outputs": [
    {
     "name": "stdout",
     "output_type": "stream",
     "text": [
      "root\n",
      " |-- Brand: string (nullable = true)\n",
      " |-- Year: integer (nullable = true)\n",
      " |-- Condition: string (nullable = true)\n",
      " |-- Kilometres: integer (nullable = true)\n",
      " |-- EngineSize: integer (nullable = true)\n",
      " |-- FuelType: string (nullable = true)\n",
      " |-- Gear: string (nullable = true)\n",
      " |-- Money: integer (nullable = true)\n",
      " |-- BodyType: string (nullable = true)\n",
      " |-- Money USD: double (nullable = true)\n",
      "\n"
     ]
    }
   ],
   "source": [
    "df_pyspark_nig.printSchema()"
   ]
  },
  {
   "cell_type": "code",
   "execution_count": 64,
   "id": "4275a82e",
   "metadata": {},
   "outputs": [
    {
     "name": "stdout",
     "output_type": "stream",
     "text": [
      "+-------------+----+-------------+----------+----------+--------+---------+--------+--------+-----------------+\n",
      "|        Brand|Year|    Condition|Kilometres|EngineSize|FuelType|     Gear|   Money|BodyType|        Money USD|\n",
      "+-------------+----+-------------+----------+----------+--------+---------+--------+--------+-----------------+\n",
      "|Mercedes-Benz|2013| Foreign Used|    104536|      3500|  Petrol|Automatic|14352000|     SUV|          31574.4|\n",
      "|        Honda|2011| Foreign Used|      3621|      3500|  Petrol|Automatic| 6240000|     SUV|          13728.0|\n",
      "|       Toyota|2007|Nigerian Used|    223493|      3500|  Hybrid|Automatic| 2100000|     SUV|           4620.0|\n",
      "|       Toyota|2003|Nigerian Used|    367531|      4000|  Petrol|Automatic| 2137500|     SUV|           4702.5|\n",
      "|        Lexus|2007| Foreign Used|    104138|      3500|  Petrol|Automatic| 5928000|     SUV|          13041.6|\n",
      "|      Lincoln|2019|Nigerian Used|     35976|      2000|  Petrol|Automatic|17850000|     SUV|          39270.0|\n",
      "|   Land Rover|2008|Nigerian Used|    178780|      4700|  Petrol|Automatic| 3150000|     SUV|           6930.0|\n",
      "|        Lexus|2007|Nigerian Used|    220726|      3500|  Petrol|Automatic| 4680000|     SUV|          10296.0|\n",
      "|        Mazda|2010|Nigerian Used|    322717|      2500|  Petrol|Automatic| 2100000|     SUV|           4620.0|\n",
      "|        Lexus|2008| Foreign Used|    149092|      3500|  Petrol|Automatic| 5145000|     SUV|          11319.0|\n",
      "|      Hyundai|2010|Nigerian Used|    262797|      3800|  Petrol|Automatic| 2677500|     SUV|           5890.5|\n",
      "|       Toyota|2001|Nigerian Used|    119510|      3000|  Petrol|Automatic| 1352000|     SUV|           2974.4|\n",
      "|Mercedes-Benz|2007|Nigerian Used|      1966|        35|  Petrol|Automatic| 5720000|     SUV|          12584.0|\n",
      "|       Toyota|2002| Foreign Used|    125606|      2000|  Petrol|Automatic| 3255000|     SUV|           7161.0|\n",
      "|          Kia|2013|Nigerian Used|    134013|      3800|  Petrol|Automatic| 4410000|     SUV|           9702.0|\n",
      "|        Honda|2003|Nigerian Used|    175567|      3500|  Petrol|Automatic| 1612000|     SUV|           3546.4|\n",
      "|       Nissan|2009|Nigerian Used|    213292|      3500|  Petrol|      CVT| 1575000|     SUV|           3465.0|\n",
      "|        Lexus|2005|Nigerian Used|    196345|      3300|  Petrol|Automatic| 3432000|     SUV|7550.400000000001|\n",
      "|       Toyota|2007|Nigerian Used|    213548|      3500|  Petrol|Automatic| 3328000|     SUV|           7321.6|\n",
      "|       Toyota|2009|Nigerian Used|     94618|      3500|  Petrol|Automatic| 4725000|     SUV|          10395.0|\n",
      "+-------------+----+-------------+----------+----------+--------+---------+--------+--------+-----------------+\n",
      "only showing top 20 rows\n",
      "\n"
     ]
    }
   ],
   "source": [
    "df_pyspark_nig.show()"
   ]
  },
  {
   "cell_type": "markdown",
   "id": "2865de24",
   "metadata": {},
   "source": [
    "## df_pyspark_pol"
   ]
  },
  {
   "cell_type": "code",
   "execution_count": 65,
   "id": "677e7d23",
   "metadata": {},
   "outputs": [
    {
     "name": "stdout",
     "output_type": "stream",
     "text": [
      "+---+----+-----+---------------+----+-------+----------+------+---------------+-------------------+-----+\n",
      "|_c0|mark|model|generation_name|year|mileage|vol_engine|  fuel|           city|           province|price|\n",
      "+---+----+-----+---------------+----+-------+----------+------+---------------+-------------------+-----+\n",
      "|  0|opel|combo|     gen-d-2011|2015| 139568|      1248|Diesel|          Janki|        Mazowieckie|35900|\n",
      "|  1|opel|combo|     gen-d-2011|2018|  31991|      1499|Diesel|       Katowice|            Śląskie|78501|\n",
      "|  2|opel|combo|     gen-d-2011|2015| 278437|      1598|Diesel|          Brzeg|           Opolskie|27000|\n",
      "|  3|opel|combo|     gen-d-2011|2016|  47600|      1248|Diesel|      Korfantów|           Opolskie|30800|\n",
      "|  4|opel|combo|     gen-d-2011|2014| 103000|      1400|   CNG|Tarnowskie Góry|            Śląskie|35900|\n",
      "|  5|opel|combo|     gen-d-2011|2017| 121203|      1598|Diesel|       Warszawa|        Mazowieckie|51900|\n",
      "|  6|opel|combo|     gen-d-2011|2017| 119965|      1248|Diesel|        Wrocław|       Dolnośląskie|44700|\n",
      "|  7|opel|combo|     gen-d-2011|2016| 201658|      1248|Diesel|         Lublin|          Lubelskie|29000|\n",
      "|  8|opel|combo|     gen-d-2011|2014| 178666|      1598|Diesel|         Złotów|      Wielkopolskie|28900|\n",
      "|  9|opel|combo|     gen-d-2011|2015| 113000|      1248|Diesel|       Strzyżew|        Mazowieckie|34900|\n",
      "| 10|opel|combo|     gen-d-2011|2012| 237000|      1598|Diesel|         Elbląg|Warmińsko-mazurskie|24800|\n",
      "| 11|opel|combo|     gen-d-2011|2017| 137000|      1248|Diesel|       Warszawa|        Mazowieckie|39900|\n",
      "| 12|opel|combo|     gen-d-2011|2016| 154000|      1248|Diesel|      Sosnowiec|            Śląskie|35900|\n",
      "| 13|opel|combo|     gen-d-2011|2017|  59339|      1248|Diesel|        Wrocław|       Dolnośląskie|55300|\n",
      "| 14|opel|combo|     gen-d-2011|2016| 137445|      1598|Diesel|          Opole|           Opolskie|34700|\n",
      "| 15|opel|combo|     gen-d-2011|2016| 141859|      1248|Diesel|       Katowice|            Śląskie|39900|\n",
      "| 16|opel|combo|     gen-d-2011|2012| 195000|      1598|Diesel|          Radom|        Mazowieckie|25900|\n",
      "| 17|opel|combo|     gen-d-2011|2015| 180000|      1598|Diesel|       Chmieleń|       Dolnośląskie|32900|\n",
      "| 18|opel|combo|     gen-d-2011|2018| 107515|      1499|Diesel|      Piaseczno|        Mazowieckie|62000|\n",
      "| 19|opel|combo|     gen-d-2011|2017| 149000|      1598|Diesel|  Góra Kalwaria|        Mazowieckie|39852|\n",
      "+---+----+-----+---------------+----+-------+----------+------+---------------+-------------------+-----+\n",
      "only showing top 20 rows\n",
      "\n"
     ]
    }
   ],
   "source": [
    "df_pyspark_pol.show()"
   ]
  },
  {
   "cell_type": "markdown",
   "id": "9e99010b",
   "metadata": {},
   "source": [
    "### Looking for null values in columns:"
   ]
  },
  {
   "cell_type": "code",
   "execution_count": 66,
   "id": "8d514af4",
   "metadata": {},
   "outputs": [
    {
     "name": "stdout",
     "output_type": "stream",
     "text": [
      "+---+----+-----+---------------+----+-------+----------+----+----+--------+-----+\n",
      "|_c0|mark|model|generation_name|year|mileage|vol_engine|fuel|city|province|price|\n",
      "+---+----+-----+---------------+----+-------+----------+----+----+--------+-----+\n",
      "|  0|   0|    0|          30085|   0|      0|         0|   0|   0|       0|    0|\n",
      "+---+----+-----+---------------+----+-------+----------+----+----+--------+-----+\n",
      "\n"
     ]
    }
   ],
   "source": [
    "df_pyspark_pol.select([count(when(isnan(c) | col(c).isNull(), c)).alias(c) for c in df_pyspark_pol.columns]).show()"
   ]
  },
  {
   "cell_type": "markdown",
   "id": "285dd1d3",
   "metadata": {},
   "source": [
    "#### Browsing null values "
   ]
  },
  {
   "cell_type": "code",
   "execution_count": 67,
   "id": "675e3d89",
   "metadata": {},
   "outputs": [
    {
     "name": "stdout",
     "output_type": "stream",
     "text": [
      "+---+----+-----+---------------+----+-------+----------+--------+--------------+-----------+-----+\n",
      "|_c0|mark|model|generation_name|year|mileage|vol_engine|    fuel|          city|   province|price|\n",
      "+---+----+-----+---------------+----+-------+----------+--------+--------------+-----------+-----+\n",
      "|189|opel| adam|           null|2013| 101514|      1398|Gasoline|      Warszawa|Mazowieckie|29900|\n",
      "|190|opel| adam|           null|2014|  98317|      1398|     LPG|         Janki|Mazowieckie|36900|\n",
      "|191|opel| adam|           null|2017|  96511|      1364|Gasoline|      Warszawa|Mazowieckie|48900|\n",
      "|192|opel| adam|           null|2013| 141399|      1398|Gasoline|      Warszawa|Mazowieckie|31300|\n",
      "|193|opel| adam|           null|2014|  60936|      1398|Gasoline|      Warszawa|Mazowieckie|40900|\n",
      "|194|opel| adam|           null|2015|  72279|       999|Gasoline|        Lublin|  Lubelskie|43500|\n",
      "|195|opel| adam|           null|2015|  91773|      1398|Gasoline|      Katowice|    Śląskie|35700|\n",
      "|196|opel| adam|           null|2018|  34000|      1398|Gasoline|      Złotniki|   Opolskie|43500|\n",
      "|197|opel| adam|           null|2014| 100053|      1398|Gasoline|       Leoncin|Mazowieckie|31500|\n",
      "|198|opel| adam|           null|2014| 109330|      1398|Gasoline|      Warszawa|Mazowieckie|32500|\n",
      "|199|opel| adam|           null|2014| 121311|      1398|Gasoline|      Warszawa|Mazowieckie|33500|\n",
      "|200|opel| adam|           null|2013|  91512|      1398|Gasoline|      Warszawa|Mazowieckie|32900|\n",
      "|201|opel| adam|           null|2018|   8049|      1398|Gasoline|      Warszawa|Mazowieckie|46600|\n",
      "|202|opel| adam|           null|2014|  81932|      1229|Gasoline|        Lublin|  Lubelskie|27900|\n",
      "|203|opel| adam|           null|2015|  95988|       999|Gasoline|      Katowice|    Śląskie|41500|\n",
      "|204|opel| adam|           null|2017|  91955|      1229|Gasoline|      Warszawa|Mazowieckie|36500|\n",
      "|205|opel| adam|           null|2015|  39007|      1398|Gasoline|      Warszawa|Mazowieckie|38900|\n",
      "|206|opel| adam|           null|2015| 106000|       999|Gasoline|          Łódź|    Łódzkie|38000|\n",
      "|207|opel| adam|           null|2015|  91000|      1229|Gasoline|Biała Podlaska|  Lubelskie|35300|\n",
      "|208|opel| adam|           null|2018|  37000|      1229|Gasoline|       Gliwice|    Śląskie|37900|\n",
      "+---+----+-----+---------------+----+-------+----------+--------+--------------+-----------+-----+\n",
      "only showing top 20 rows\n",
      "\n"
     ]
    }
   ],
   "source": [
    "df_pyspark_pol.filter(col(\"generation_name\").isNull()).show()"
   ]
  },
  {
   "cell_type": "code",
   "execution_count": 68,
   "id": "ff366526",
   "metadata": {},
   "outputs": [],
   "source": [
    "df_pyspark_pol = df_pyspark_pol.na.fill(\"Not Available\",[\"generation_name\"])"
   ]
  },
  {
   "cell_type": "markdown",
   "id": "404feeb1",
   "metadata": {},
   "source": [
    "#### Verifying if all null values are removed:"
   ]
  },
  {
   "cell_type": "code",
   "execution_count": 69,
   "id": "48ea5040",
   "metadata": {},
   "outputs": [
    {
     "name": "stdout",
     "output_type": "stream",
     "text": [
      "+---+----+-----+---------------+----+-------+----------+----+----+--------+-----+\n",
      "|_c0|mark|model|generation_name|year|mileage|vol_engine|fuel|city|province|price|\n",
      "+---+----+-----+---------------+----+-------+----------+----+----+--------+-----+\n",
      "|  0|   0|    0|              0|   0|      0|         0|   0|   0|       0|    0|\n",
      "+---+----+-----+---------------+----+-------+----------+----+----+--------+-----+\n",
      "\n"
     ]
    }
   ],
   "source": [
    "df_pyspark_pol.select([count(when(isnan(c) | col(c).isNull(), c)).alias(c) for c in df_pyspark_pol.columns]).show()"
   ]
  },
  {
   "cell_type": "markdown",
   "id": "0515558e",
   "metadata": {},
   "source": [
    "### Looking for duplicate values in columns:"
   ]
  },
  {
   "cell_type": "code",
   "execution_count": 70,
   "id": "28aa17cf",
   "metadata": {},
   "outputs": [
    {
     "name": "stdout",
     "output_type": "stream",
     "text": [
      "Distinct Count of rows in dataframe: 117927\n"
     ]
    }
   ],
   "source": [
    "print(\"Distinct Count of rows in dataframe: \" + str(df_pyspark_pol.distinct().count()))"
   ]
  },
  {
   "cell_type": "code",
   "execution_count": 71,
   "id": "2009574e",
   "metadata": {},
   "outputs": [
    {
     "name": "stdout",
     "output_type": "stream",
     "text": [
      "Count of rows in dataframe: 117927\n"
     ]
    }
   ],
   "source": [
    "print(\"Count of rows in dataframe: \" + str(df_pyspark_pol.count()))"
   ]
  },
  {
   "cell_type": "markdown",
   "id": "76fd5e01",
   "metadata": {},
   "source": [
    "### Changing the name of columns"
   ]
  },
  {
   "cell_type": "code",
   "execution_count": 72,
   "id": "44249c3d",
   "metadata": {},
   "outputs": [
    {
     "data": {
      "text/plain": [
       "['_c0',\n",
       " 'mark',\n",
       " 'model',\n",
       " 'generation_name',\n",
       " 'year',\n",
       " 'mileage',\n",
       " 'vol_engine',\n",
       " 'fuel',\n",
       " 'city',\n",
       " 'province',\n",
       " 'price']"
      ]
     },
     "execution_count": 72,
     "metadata": {},
     "output_type": "execute_result"
    }
   ],
   "source": [
    "df_pyspark_pol.columns"
   ]
  },
  {
   "cell_type": "code",
   "execution_count": 73,
   "id": "c69b47cb",
   "metadata": {},
   "outputs": [],
   "source": [
    "df_pyspark_pol = df_pyspark_pol.drop(\"_c0\")"
   ]
  },
  {
   "cell_type": "code",
   "execution_count": 74,
   "id": "1df7a34e",
   "metadata": {},
   "outputs": [],
   "source": [
    "df_pyspark_pol = df_pyspark_pol.withColumnRenamed(\"mark\",\"Brand\") \\\n",
    "                                .withColumnRenamed(\"model\",\"Model\") \\\n",
    "                                .withColumnRenamed(\"generation_name\",\"GenerationName\") \\\n",
    "                                .withColumnRenamed(\"vol_engine\",\"EngineSize\") \\\n",
    "                                .withColumnRenamed(\"fuel\",\"FuelType\") \\\n",
    "                                .withColumnRenamed(\"city\",\"City\") \\\n",
    "                               .withColumnRenamed(\"year\",\"Year\") \\\n",
    "                                .withColumnRenamed(\"mileage\",\"Kilometers\") \\\n",
    "                                 .withColumnRenamed(\"province\",\"Province\") \\\n",
    "                                .withColumnRenamed(\"price\",\"Money\")"
   ]
  },
  {
   "cell_type": "code",
   "execution_count": 75,
   "id": "ff4f32a4",
   "metadata": {},
   "outputs": [
    {
     "name": "stdout",
     "output_type": "stream",
     "text": [
      "+-----+-----+--------------+----+----------+----------+--------+---------------+-------------------+-----+\n",
      "|Brand|Model|GenerationName|Year|Kilometers|EngineSize|FuelType|           City|           Province|Money|\n",
      "+-----+-----+--------------+----+----------+----------+--------+---------------+-------------------+-----+\n",
      "| opel|combo|    gen-d-2011|2015|    139568|      1248|  Diesel|          Janki|        Mazowieckie|35900|\n",
      "| opel|combo|    gen-d-2011|2018|     31991|      1499|  Diesel|       Katowice|            Śląskie|78501|\n",
      "| opel|combo|    gen-d-2011|2015|    278437|      1598|  Diesel|          Brzeg|           Opolskie|27000|\n",
      "| opel|combo|    gen-d-2011|2016|     47600|      1248|  Diesel|      Korfantów|           Opolskie|30800|\n",
      "| opel|combo|    gen-d-2011|2014|    103000|      1400|     CNG|Tarnowskie Góry|            Śląskie|35900|\n",
      "| opel|combo|    gen-d-2011|2017|    121203|      1598|  Diesel|       Warszawa|        Mazowieckie|51900|\n",
      "| opel|combo|    gen-d-2011|2017|    119965|      1248|  Diesel|        Wrocław|       Dolnośląskie|44700|\n",
      "| opel|combo|    gen-d-2011|2016|    201658|      1248|  Diesel|         Lublin|          Lubelskie|29000|\n",
      "| opel|combo|    gen-d-2011|2014|    178666|      1598|  Diesel|         Złotów|      Wielkopolskie|28900|\n",
      "| opel|combo|    gen-d-2011|2015|    113000|      1248|  Diesel|       Strzyżew|        Mazowieckie|34900|\n",
      "| opel|combo|    gen-d-2011|2012|    237000|      1598|  Diesel|         Elbląg|Warmińsko-mazurskie|24800|\n",
      "| opel|combo|    gen-d-2011|2017|    137000|      1248|  Diesel|       Warszawa|        Mazowieckie|39900|\n",
      "| opel|combo|    gen-d-2011|2016|    154000|      1248|  Diesel|      Sosnowiec|            Śląskie|35900|\n",
      "| opel|combo|    gen-d-2011|2017|     59339|      1248|  Diesel|        Wrocław|       Dolnośląskie|55300|\n",
      "| opel|combo|    gen-d-2011|2016|    137445|      1598|  Diesel|          Opole|           Opolskie|34700|\n",
      "| opel|combo|    gen-d-2011|2016|    141859|      1248|  Diesel|       Katowice|            Śląskie|39900|\n",
      "| opel|combo|    gen-d-2011|2012|    195000|      1598|  Diesel|          Radom|        Mazowieckie|25900|\n",
      "| opel|combo|    gen-d-2011|2015|    180000|      1598|  Diesel|       Chmieleń|       Dolnośląskie|32900|\n",
      "| opel|combo|    gen-d-2011|2018|    107515|      1499|  Diesel|      Piaseczno|        Mazowieckie|62000|\n",
      "| opel|combo|    gen-d-2011|2017|    149000|      1598|  Diesel|  Góra Kalwaria|        Mazowieckie|39852|\n",
      "+-----+-----+--------------+----+----------+----------+--------+---------------+-------------------+-----+\n",
      "only showing top 20 rows\n",
      "\n"
     ]
    }
   ],
   "source": [
    "df_pyspark_pol.show()"
   ]
  },
  {
   "cell_type": "markdown",
   "id": "40a39f73",
   "metadata": {},
   "source": [
    "#### Capitalizing the first letter"
   ]
  },
  {
   "cell_type": "code",
   "execution_count": 76,
   "id": "b10454d8",
   "metadata": {},
   "outputs": [],
   "source": [
    "def to_capitalize_first_letter(df_pyspark_pol):\n",
    "    return df_pyspark_pol.withColumn(\"Brand\", initcap(col('Brand'))) \\\n",
    "                .withColumn(\"Model\", initcap(col('Model'))) \\\n",
    "                 .withColumn(\"GenerationName\", initcap(col('GenerationName')))\n"
   ]
  },
  {
   "cell_type": "code",
   "execution_count": 77,
   "id": "15e09863",
   "metadata": {},
   "outputs": [],
   "source": [
    "df_pyspark_pol = df_pyspark_pol.transform(to_capitalize_first_letter)"
   ]
  },
  {
   "cell_type": "code",
   "execution_count": 78,
   "id": "7c830fbe",
   "metadata": {},
   "outputs": [
    {
     "name": "stdout",
     "output_type": "stream",
     "text": [
      "+-----+-----+--------------+----+----------+----------+--------+---------------+-------------------+-----+\n",
      "|Brand|Model|GenerationName|Year|Kilometers|EngineSize|FuelType|           City|           Province|Money|\n",
      "+-----+-----+--------------+----+----------+----------+--------+---------------+-------------------+-----+\n",
      "| Opel|Combo|    Gen-d-2011|2015|    139568|      1248|  Diesel|          Janki|        Mazowieckie|35900|\n",
      "| Opel|Combo|    Gen-d-2011|2018|     31991|      1499|  Diesel|       Katowice|            Śląskie|78501|\n",
      "| Opel|Combo|    Gen-d-2011|2015|    278437|      1598|  Diesel|          Brzeg|           Opolskie|27000|\n",
      "| Opel|Combo|    Gen-d-2011|2016|     47600|      1248|  Diesel|      Korfantów|           Opolskie|30800|\n",
      "| Opel|Combo|    Gen-d-2011|2014|    103000|      1400|     CNG|Tarnowskie Góry|            Śląskie|35900|\n",
      "| Opel|Combo|    Gen-d-2011|2017|    121203|      1598|  Diesel|       Warszawa|        Mazowieckie|51900|\n",
      "| Opel|Combo|    Gen-d-2011|2017|    119965|      1248|  Diesel|        Wrocław|       Dolnośląskie|44700|\n",
      "| Opel|Combo|    Gen-d-2011|2016|    201658|      1248|  Diesel|         Lublin|          Lubelskie|29000|\n",
      "| Opel|Combo|    Gen-d-2011|2014|    178666|      1598|  Diesel|         Złotów|      Wielkopolskie|28900|\n",
      "| Opel|Combo|    Gen-d-2011|2015|    113000|      1248|  Diesel|       Strzyżew|        Mazowieckie|34900|\n",
      "| Opel|Combo|    Gen-d-2011|2012|    237000|      1598|  Diesel|         Elbląg|Warmińsko-mazurskie|24800|\n",
      "| Opel|Combo|    Gen-d-2011|2017|    137000|      1248|  Diesel|       Warszawa|        Mazowieckie|39900|\n",
      "| Opel|Combo|    Gen-d-2011|2016|    154000|      1248|  Diesel|      Sosnowiec|            Śląskie|35900|\n",
      "| Opel|Combo|    Gen-d-2011|2017|     59339|      1248|  Diesel|        Wrocław|       Dolnośląskie|55300|\n",
      "| Opel|Combo|    Gen-d-2011|2016|    137445|      1598|  Diesel|          Opole|           Opolskie|34700|\n",
      "| Opel|Combo|    Gen-d-2011|2016|    141859|      1248|  Diesel|       Katowice|            Śląskie|39900|\n",
      "| Opel|Combo|    Gen-d-2011|2012|    195000|      1598|  Diesel|          Radom|        Mazowieckie|25900|\n",
      "| Opel|Combo|    Gen-d-2011|2015|    180000|      1598|  Diesel|       Chmieleń|       Dolnośląskie|32900|\n",
      "| Opel|Combo|    Gen-d-2011|2018|    107515|      1499|  Diesel|      Piaseczno|        Mazowieckie|62000|\n",
      "| Opel|Combo|    Gen-d-2011|2017|    149000|      1598|  Diesel|  Góra Kalwaria|        Mazowieckie|39852|\n",
      "+-----+-----+--------------+----+----------+----------+--------+---------------+-------------------+-----+\n",
      "only showing top 20 rows\n",
      "\n"
     ]
    }
   ],
   "source": [
    "df_pyspark_pol.show()"
   ]
  },
  {
   "cell_type": "markdown",
   "id": "648fcae4",
   "metadata": {},
   "source": [
    "### Basic information after cleaning"
   ]
  },
  {
   "cell_type": "code",
   "execution_count": 79,
   "id": "dd685e3d",
   "metadata": {},
   "outputs": [
    {
     "name": "stdout",
     "output_type": "stream",
     "text": [
      "root\n",
      " |-- Brand: string (nullable = true)\n",
      " |-- Model: string (nullable = true)\n",
      " |-- GenerationName: string (nullable = false)\n",
      " |-- Year: integer (nullable = true)\n",
      " |-- Kilometers: integer (nullable = true)\n",
      " |-- EngineSize: integer (nullable = true)\n",
      " |-- FuelType: string (nullable = true)\n",
      " |-- City: string (nullable = true)\n",
      " |-- Province: string (nullable = true)\n",
      " |-- Money: integer (nullable = true)\n",
      "\n"
     ]
    }
   ],
   "source": [
    "df_pyspark_pol.printSchema()"
   ]
  },
  {
   "cell_type": "markdown",
   "id": "8e894f9d",
   "metadata": {},
   "source": [
    "## df_pyspark_usa"
   ]
  },
  {
   "cell_type": "code",
   "execution_count": 80,
   "id": "a36deccb",
   "metadata": {},
   "outputs": [
    {
     "name": "stdout",
     "output_type": "stream",
     "text": [
      "+----+---------+----------+----------+----------+------------+----------+-----+---------+--------+------+--------+----------+-----+------------+----------+\n",
      "|year|     make|     model|      trim|      body|transmission|       vin|state|condition|odometer| color|interior|    seller|  mmr|sellingprice|  saledate|\n",
      "+----+---------+----------+----------+----------+------------+----------+-----+---------+--------+------+--------+----------+-----+------------+----------+\n",
      "|2015|      Kia|   Sorento|        LX|       SUV|   automatic|5xyktca...|   ca|        5| 16639.0| white|   black|kia mot...|20500|       21500|Tue Dec...|\n",
      "|2015|      Kia|   Sorento|        LX|       SUV|   automatic|5xyktca...|   ca|        5|  9393.0| white|   beige|kia mot...|20800|       21500|Tue Dec...|\n",
      "|2014|      BMW|  3 Series|328i SULEV|     Sedan|   automatic|wba3c1c...|   ca|      4.5|  1331.0|  gray|   black|financi...|31900|       30000|Thu Jan...|\n",
      "|2015|    Volvo|       S60|        T5|     Sedan|   automatic|yv1612t...|   ca|      4.1| 14282.0| white|   black|volvo n...|27500|       27750|Thu Jan...|\n",
      "|2014|      BMW|6 Serie...|      650i|     Sedan|   automatic|wba6b2c...|   ca|      4.3|  2641.0|  gray|   black|financi...|66000|       67000|Thu Dec...|\n",
      "|2015|   Nissan|    Altima|     2.5 S|     Sedan|   automatic|1n4al3a...|   ca|        1|  5554.0|  gray|   black|enterpr...|15350|       10900|Tue Dec...|\n",
      "|2014|      BMW|        M5|      Base|     Sedan|   automatic|wbsfv9c...|   ca|      3.4| 14943.0| black|   black|the her...|69000|       65000|Wed Dec...|\n",
      "|2014|Chevrolet|     Cruze|       1LT|     Sedan|   automatic|1g1pc5s...|   ca|        2| 28617.0| black|   black|enterpr...|11900|        9800|Tue Dec...|\n",
      "|2014|     Audi|        A4|2.0T Pr...|     Sedan|   automatic|wauffaf...|   ca|      4.2|  9557.0| white|   black|audi mi...|32100|       32250|Thu Dec...|\n",
      "|2014|Chevrolet|    Camaro|        LT|Convert...|   automatic|2g1fb3d...|   ca|        3|  4809.0|   red|   black|d/m aut...|26300|       17500|Tue Jan...|\n",
      "|2014|     Audi|        A6|3.0T Pr...|     Sedan|   automatic|wauhgaf...|   ca|      4.8| 14414.0| black|   black|desert ...|47300|       49750|Tue Dec...|\n",
      "|2015|      Kia|    Optima|        LX|     Sedan|   automatic|5xxgm4a...|   ca|      4.8|  2034.0|   red|     tan|kia mot...|15150|       17700|Tue Dec...|\n",
      "|2015|     Ford|    Fusion|        SE|     Sedan|   automatic|3fa6p0h...|   ca|        2|  5559.0| white|   beige|enterpr...|15350|       12000|Tue Jan...|\n",
      "|2015|      Kia|   Sorento|        LX|       SUV|   automatic|5xyktca...|   ca|        5| 14634.0|silver|   black|kia mot...|20600|       21500|Tue Dec...|\n",
      "|2014|Chevrolet|     Cruze|       2LT|     Sedan|   automatic|1g1pe5s...|   ca|     null| 15686.0|  blue|   black|avis ra...|13900|       10600|Tue Dec...|\n",
      "|2015|   Nissan|    Altima|     2.5 S|     Sedan|   automatic|1n4al3a...|   ca|        2| 11398.0| black|   black|enterpr...|14750|       14100|Tue Dec...|\n",
      "|2015|  Hyundai|    Sonata|        SE|     Sedan|        null|5npe24a...|   ca|     null|  8311.0|   red|       —|  avis tra|15200|        4200|Tue Dec...|\n",
      "|2014|     Audi|        Q5|2.0T Pr...|       SUV|   automatic|wa1lfaf...|   ca|      4.9|  7983.0| white|   black|audi no...|37100|       40000|Thu Dec...|\n",
      "|2014|Chevrolet|    Camaro|        LS|     Coupe|   automatic|2g1fa1e...|   ca|      1.7| 13441.0| black|   black|wells f...|17750|       17000|Tue Dec...|\n",
      "|2014|      BMW|  6 Series|      650i|Convert...|   automatic|wbayp9c...|   ca|      3.4|  8819.0| black|   black|the her...|68000|       67200|Wed Dec...|\n",
      "+----+---------+----------+----------+----------+------------+----------+-----+---------+--------+------+--------+----------+-----+------------+----------+\n",
      "only showing top 20 rows\n",
      "\n"
     ]
    }
   ],
   "source": [
    "df_pyspark_usa.show(20,10)"
   ]
  },
  {
   "cell_type": "code",
   "execution_count": 81,
   "id": "94c8fb5f",
   "metadata": {},
   "outputs": [
    {
     "data": {
      "text/plain": [
       "['year',\n",
       " 'make',\n",
       " 'model',\n",
       " 'trim',\n",
       " 'body',\n",
       " 'transmission',\n",
       " 'vin',\n",
       " 'state',\n",
       " 'condition',\n",
       " 'odometer',\n",
       " 'color',\n",
       " 'interior',\n",
       " 'seller',\n",
       " 'mmr',\n",
       " 'sellingprice',\n",
       " 'saledate']"
      ]
     },
     "execution_count": 81,
     "metadata": {},
     "output_type": "execute_result"
    }
   ],
   "source": [
    "df_pyspark_usa.columns"
   ]
  },
  {
   "cell_type": "markdown",
   "id": "afda1a32",
   "metadata": {},
   "source": [
    "#### Dropping columns"
   ]
  },
  {
   "cell_type": "code",
   "execution_count": 82,
   "id": "9abe36f5",
   "metadata": {},
   "outputs": [],
   "source": [
    "cols ={\"model\",\"trim\",\"vin\",\"condition\",\"odometer\",\"interior\",\"seller\",\"mmr\",\"saledate\"}\n",
    "df_pyspark_usa = df_pyspark_usa.drop(*cols)"
   ]
  },
  {
   "cell_type": "markdown",
   "id": "43c80566",
   "metadata": {},
   "source": [
    "### Looking for null values in columns:"
   ]
  },
  {
   "cell_type": "code",
   "execution_count": 83,
   "id": "19e5841f",
   "metadata": {},
   "outputs": [
    {
     "name": "stdout",
     "output_type": "stream",
     "text": [
      "+----+-----+-----+------------+-----+-----+------------+\n",
      "|year| make| body|transmission|state|color|sellingprice|\n",
      "+----+-----+-----+------------+-----+-----+------------+\n",
      "|   0|10301|13195|       65353|    0|  749|           0|\n",
      "+----+-----+-----+------------+-----+-----+------------+\n",
      "\n"
     ]
    }
   ],
   "source": [
    "df_pyspark_usa.select([count(when(isnan(c) | col(c).isNull(), c)).alias(c) for c in df_pyspark_usa.columns]).show()"
   ]
  },
  {
   "cell_type": "markdown",
   "id": "1871b514",
   "metadata": {},
   "source": [
    "#### Browsing NULL values"
   ]
  },
  {
   "cell_type": "code",
   "execution_count": 84,
   "id": "143c12ab",
   "metadata": {},
   "outputs": [
    {
     "name": "stdout",
     "output_type": "stream",
     "text": [
      "+----+-------------+-----------+------------+-----+-----+------------+\n",
      "|year|         make|       body|transmission|state|color|sellingprice|\n",
      "+----+-------------+-----------+------------+-----+-----+------------+\n",
      "|2013|Mercedes-Benz|        SUV|        null|   ca| null|       34500|\n",
      "|2012|Mercedes-Benz|        SUV|        null|   ca| null|       18500|\n",
      "|2011|          BMW|      Sedan|   automatic|   ca| null|       42500|\n",
      "|2011|Mercedes-Benz|      Sedan|   automatic|   ca| null|       21500|\n",
      "|2011|Mercedes-Benz|      Sedan|   automatic|   ca| null|       30000|\n",
      "|2011|Mercedes-Benz|      Sedan|   automatic|   ca| null|       66000|\n",
      "|2010|       Subaru|        SUV|        null|   ca| null|       10000|\n",
      "|2007|          BMW|        SUV|        null|   ca| null|       10400|\n",
      "|2007|     Cadillac|        SUV|        null|   ca| null|       19500|\n",
      "|2007|       Nissan|      Sedan|   automatic|   ca| null|        3800|\n",
      "|2005|    Chevrolet|        SUV|        null|   ca| null|       27500|\n",
      "|2005|      Mercury|      Sedan|        null|   ca| null|        3300|\n",
      "|2003|          BMW|      Sedan|        null|   ca| null|        3700|\n",
      "|2002|       Toyota|  Hatchback|        null|   ca| null|        1600|\n",
      "|1996|       Jaguar|      Sedan|        null|   ca| null|        4250|\n",
      "|1993|       Saturn|      Sedan|        null|   ca| null|         300|\n",
      "|2013|          BMW|      Sedan|   automatic|   ca| null|       24250|\n",
      "|2012|Mercedes-Benz|Convertible|   automatic|   ca| null|       42750|\n",
      "|2004|       subaru|       null|   automatic|   ca| null|        5600|\n",
      "|2003|       Toyota|        SUV|   automatic|   ca| null|        4300|\n",
      "+----+-------------+-----------+------------+-----+-----+------------+\n",
      "only showing top 20 rows\n",
      "\n"
     ]
    }
   ],
   "source": [
    "df_pyspark_usa.filter(col(\"color\").isNull()).show()"
   ]
  },
  {
   "cell_type": "markdown",
   "id": "5b8ed5bd",
   "metadata": {},
   "source": [
    "#### Removing NULL values"
   ]
  },
  {
   "cell_type": "code",
   "execution_count": 85,
   "id": "67f062bd",
   "metadata": {},
   "outputs": [],
   "source": [
    "df_pyspark_usa = df_pyspark_usa.na.drop(subset=[\"make\"])"
   ]
  },
  {
   "cell_type": "markdown",
   "id": "57073096",
   "metadata": {},
   "source": [
    "#### Filling NULL values"
   ]
  },
  {
   "cell_type": "code",
   "execution_count": 86,
   "id": "b00fd7f2",
   "metadata": {},
   "outputs": [],
   "source": [
    "df_pyspark_usa = df_pyspark_usa.na.fill(\"Not Available\",[\"body\"]) \\\n",
    "                    .na.fill(\"Not Available\",[\"transmission\"]) \\\n",
    "                    .na.fill(\"Not Available\",[\"color\"]) "
   ]
  },
  {
   "cell_type": "code",
   "execution_count": 87,
   "id": "909bdded",
   "metadata": {},
   "outputs": [
    {
     "name": "stdout",
     "output_type": "stream",
     "text": [
      "+----+---------+-----------+-------------+-----+------+------------+\n",
      "|year|     make|       body| transmission|state| color|sellingprice|\n",
      "+----+---------+-----------+-------------+-----+------+------------+\n",
      "|2015|      Kia|        SUV|    automatic|   ca| white|       21500|\n",
      "|2015|      Kia|        SUV|    automatic|   ca| white|       21500|\n",
      "|2014|      BMW|      Sedan|    automatic|   ca|  gray|       30000|\n",
      "|2015|    Volvo|      Sedan|    automatic|   ca| white|       27750|\n",
      "|2014|      BMW|      Sedan|    automatic|   ca|  gray|       67000|\n",
      "|2015|   Nissan|      Sedan|    automatic|   ca|  gray|       10900|\n",
      "|2014|      BMW|      Sedan|    automatic|   ca| black|       65000|\n",
      "|2014|Chevrolet|      Sedan|    automatic|   ca| black|        9800|\n",
      "|2014|     Audi|      Sedan|    automatic|   ca| white|       32250|\n",
      "|2014|Chevrolet|Convertible|    automatic|   ca|   red|       17500|\n",
      "|2014|     Audi|      Sedan|    automatic|   ca| black|       49750|\n",
      "|2015|      Kia|      Sedan|    automatic|   ca|   red|       17700|\n",
      "|2015|     Ford|      Sedan|    automatic|   ca| white|       12000|\n",
      "|2015|      Kia|        SUV|    automatic|   ca|silver|       21500|\n",
      "|2014|Chevrolet|      Sedan|    automatic|   ca|  blue|       10600|\n",
      "|2015|   Nissan|      Sedan|    automatic|   ca| black|       14100|\n",
      "|2015|  Hyundai|      Sedan|Not Available|   ca|   red|        4200|\n",
      "|2014|     Audi|        SUV|    automatic|   ca| white|       40000|\n",
      "|2014|Chevrolet|      Coupe|    automatic|   ca| black|       17000|\n",
      "|2014|      BMW|Convertible|    automatic|   ca| black|       67200|\n",
      "+----+---------+-----------+-------------+-----+------+------------+\n",
      "only showing top 20 rows\n",
      "\n"
     ]
    }
   ],
   "source": [
    "df_pyspark_usa.show()"
   ]
  },
  {
   "cell_type": "markdown",
   "id": "5573e3b7",
   "metadata": {},
   "source": [
    "### Verifying if there are no null values"
   ]
  },
  {
   "cell_type": "code",
   "execution_count": 88,
   "id": "efd235dd",
   "metadata": {},
   "outputs": [
    {
     "name": "stdout",
     "output_type": "stream",
     "text": [
      "+----+----+----+------------+-----+-----+------------+\n",
      "|year|make|body|transmission|state|color|sellingprice|\n",
      "+----+----+----+------------+-----+-----+------------+\n",
      "|   0|   0|   0|           0|    0|    0|           0|\n",
      "+----+----+----+------------+-----+-----+------------+\n",
      "\n"
     ]
    }
   ],
   "source": [
    "df_pyspark_usa.select([count(when(isnan(c) | col(c).isNull(), c)).alias(c) for c in df_pyspark_usa.columns]).show()"
   ]
  },
  {
   "cell_type": "markdown",
   "id": "b75ee437",
   "metadata": {},
   "source": [
    "### Looking for duplicate values in columns:"
   ]
  },
  {
   "cell_type": "code",
   "execution_count": 89,
   "id": "94c0823f",
   "metadata": {},
   "outputs": [
    {
     "name": "stdout",
     "output_type": "stream",
     "text": [
      "Distinct Count of rows in dataframe: 496540\n"
     ]
    }
   ],
   "source": [
    "print(\"Distinct Count of rows in dataframe: \" + str(df_pyspark_usa.distinct().count()))"
   ]
  },
  {
   "cell_type": "code",
   "execution_count": 90,
   "id": "4637175b",
   "metadata": {},
   "outputs": [
    {
     "name": "stdout",
     "output_type": "stream",
     "text": [
      "Count of rows in dataframe: 548536\n"
     ]
    }
   ],
   "source": [
    "print(\"Count of rows in dataframe: \" + str(df_pyspark_usa.count()))"
   ]
  },
  {
   "cell_type": "markdown",
   "id": "2ef2ca74",
   "metadata": {},
   "source": [
    "#### Removing duplicate values"
   ]
  },
  {
   "cell_type": "code",
   "execution_count": 91,
   "id": "81f36fa1",
   "metadata": {},
   "outputs": [
    {
     "name": "stdout",
     "output_type": "stream",
     "text": [
      "Distinct count: 496540\n"
     ]
    }
   ],
   "source": [
    "df_pyspark_usa = df_pyspark_usa.dropDuplicates()\n",
    "print(\"Distinct count: \"+str(df_pyspark_usa.count()))\n"
   ]
  },
  {
   "cell_type": "markdown",
   "id": "f5536c60",
   "metadata": {},
   "source": [
    "### Changing the name of columns"
   ]
  },
  {
   "cell_type": "code",
   "execution_count": 92,
   "id": "af6701bf",
   "metadata": {},
   "outputs": [
    {
     "data": {
      "text/plain": [
       "['year', 'make', 'body', 'transmission', 'state', 'color', 'sellingprice']"
      ]
     },
     "execution_count": 92,
     "metadata": {},
     "output_type": "execute_result"
    }
   ],
   "source": [
    "df_pyspark_usa.columns\n"
   ]
  },
  {
   "cell_type": "code",
   "execution_count": 93,
   "id": "c5936a2f",
   "metadata": {},
   "outputs": [],
   "source": [
    "df_pyspark_usa = df_pyspark_usa.withColumnRenamed(\"year\",\"Year\") \\\n",
    "                .withColumnRenamed(\"make\",\"Model\") \\\n",
    "                .withColumnRenamed(\"body\",\"BodyType\") \\\n",
    "                 .withColumnRenamed(\"transmission\",\"Gear\") \\\n",
    "                .withColumnRenamed(\"state\",\"State\") \\\n",
    "                .withColumnRenamed(\"color\",\"Color\") \\\n",
    "                .withColumnRenamed(\"sellingprice\",\"Money\") \\\n",
    "                .withColumnRenamed(\"saledate\",\"SaleDate\")"
   ]
  },
  {
   "cell_type": "markdown",
   "id": "03cf394c",
   "metadata": {},
   "source": [
    "### Capitalizing the first letter of cell and the whole column"
   ]
  },
  {
   "cell_type": "code",
   "execution_count": 94,
   "id": "d89bd5a5",
   "metadata": {},
   "outputs": [],
   "source": [
    "def to_capitalize_first_letter_and_upper_column(df_pyspark_usa):\n",
    "    return df_pyspark_usa.withColumn(\"Gear\", initcap(col('Gear')))  \\\n",
    "                                .withColumn(\"State\", upper(col('State'))) \\\n",
    "                                 .withColumn(\"Color\", initcap(col('Color'))) \n"
   ]
  },
  {
   "cell_type": "code",
   "execution_count": 95,
   "id": "f78655d9",
   "metadata": {},
   "outputs": [],
   "source": [
    "df_pyspark_usa = df_pyspark_usa.transform(to_capitalize_first_letter_and_upper_column)"
   ]
  },
  {
   "cell_type": "code",
   "execution_count": 96,
   "id": "9f06e448",
   "metadata": {},
   "outputs": [
    {
     "name": "stdout",
     "output_type": "stream",
     "text": [
      "+----+-------------+---------+---------+-----+--------+-----+\n",
      "|Year|Model        |BodyType |Gear     |State|Color   |Money|\n",
      "+----+-------------+---------+---------+-----+--------+-----+\n",
      "|2013|Hyundai      |SUV      |Automatic|CA   |Gray    |19200|\n",
      "|2013|Hyundai      |Sedan    |Automatic|CA   |Gray    |8800 |\n",
      "|2013|Kia          |Sedan    |Automatic|CA   |Black   |22200|\n",
      "|2013|Mercedes-Benz|Coupe    |Automatic|CA   |—       |23500|\n",
      "|2012|Acura        |SUV      |Automatic|CA   |White   |31000|\n",
      "|2012|Infiniti     |G Sedan  |Automatic|CA   |Black   |23500|\n",
      "|2012|MINI         |Hatchback|Automatic|CA   |Blue    |15000|\n",
      "|2011|BMW          |Sedan    |Automatic|CA   |Black   |19000|\n",
      "|2012|Volvo        |Sedan    |Automatic|CA   |Silver  |22000|\n",
      "|2012|Volkswagen   |Wagon    |Automatic|CA   |White   |8100 |\n",
      "|2011|Toyota       |Sedan    |Automatic|CA   |Gold    |9250 |\n",
      "|2011|Ram          |Quad Cab |Automatic|CA   |Silver  |17800|\n",
      "|2010|Lincoln      |Wagon    |Automatic|CA   |Burgundy|12400|\n",
      "|2010|Kia          |Sedan    |Automatic|CA   |Silver  |6400 |\n",
      "|2006|Toyota       |SUV      |Automatic|CA   |Red     |4800 |\n",
      "|2014|Ford         |Sedan    |Automatic|CA   |Red     |11600|\n",
      "|2014|Ford         |SUV      |Automatic|CA   |White   |8000 |\n",
      "|2004|Chrysler     |Wagon    |Automatic|CA   |White   |400  |\n",
      "|2003|Mercedes-Benz|Sedan    |Automatic|CA   |Silver  |3700 |\n",
      "|2002|Ford         |SUV      |Automatic|CA   |Red     |2000 |\n",
      "+----+-------------+---------+---------+-----+--------+-----+\n",
      "only showing top 20 rows\n",
      "\n"
     ]
    }
   ],
   "source": [
    "df_pyspark_usa.show(truncate=False)"
   ]
  },
  {
   "cell_type": "markdown",
   "id": "53e93f3c",
   "metadata": {},
   "source": [
    "### Adding a new dataframe by inner join"
   ]
  },
  {
   "cell_type": "code",
   "execution_count": 97,
   "id": "974a5580",
   "metadata": {},
   "outputs": [
    {
     "name": "stdout",
     "output_type": "stream",
     "text": [
      "+-----------+-----+------------+-----------------------------------------------------------+----+----+\n",
      "|State      |Abbrv|Capital     |Nickname                                                   |_c4 |_c5 |\n",
      "+-----------+-----+------------+-----------------------------------------------------------+----+----+\n",
      "|Alabama    |AL   |Montgomery  |Yellowhammer State, Heart of Dixie, Camellia State         |null|null|\n",
      "|Alaska     |AK   |Juneau      |The Last Frontier                                          |null|null|\n",
      "|Arizona    |AZ   |Phoenix     |Grand Canyon State, Copper State                           |null|null|\n",
      "|Arkansas   |AR   |Little Rock |The Natural State, Land of Opportunity, The Razorback State|null|null|\n",
      "|California |CA   |Sacramento  |Golden State                                               |null|null|\n",
      "|Colorado   |CO   |Denver      |Centennial State, Colorful Colorado                        |null|null|\n",
      "|Connecticut|CT   |Hartford    |Constitution State, Nutmeg State                           |null|null|\n",
      "|Delaware   |DE   |Dover       |First State, Diamond State, Blue Hen State, Small Wonder   |null|null|\n",
      "|Florida    |FL   |Tallahassee |Sunshine State                                             |null|null|\n",
      "|Georgia    |GA   |Atlanta     |Peach State, Empire of the South, Goober State             |null|null|\n",
      "|Hawaii     |HI   |Honolulu    |Aloha State, Pineapple State                               |null|null|\n",
      "|Idaho      |ID   |Boise       |Gem State, Spud State                                      |null|null|\n",
      "|Illinois   |IL   |Springfield |Prairie State, Land of Lincoln                             |null|null|\n",
      "|Indiana    |IN   |Indianapolis|Hoosier State                                              |null|null|\n",
      "|Iowa       |IA   |Des Moines  |Hawkeye State                                              |null|null|\n",
      "|Kansas     |KS   |Topeka      |Sunflower State, Salt of the Earth                         |null|null|\n",
      "|Kentucky   |KY   |Frankfort   |Bluegrass State                                            |null|null|\n",
      "|Louisiana  |LA   |Baton Rouge |Pelican State, Sugar State                                 |null|null|\n",
      "|Maine      |ME   |Augusta     |Pine Tree State                                            |null|null|\n",
      "|Maryland   |MD   |Annapolis   |Old Line State, Free State                                 |null|null|\n",
      "+-----------+-----+------------+-----------------------------------------------------------+----+----+\n",
      "only showing top 20 rows\n",
      "\n"
     ]
    }
   ],
   "source": [
    "pathUSStatesAbbrev = r'D:\\My commercial projects\\PySpark\\Project 1 PySpark\\Car Prices\\USStatesAbbrev.csv'\n",
    "\n",
    "df_USStatesAbbrev = spark.read.csv(pathUSStatesAbbrev,header=True,inferSchema=True)\n",
    "\n",
    "df_USStatesAbbrev.show(truncate=False)"
   ]
  },
  {
   "cell_type": "code",
   "execution_count": 98,
   "id": "1bfdcd7b",
   "metadata": {},
   "outputs": [
    {
     "data": {
      "text/plain": [
       "['State', 'Abbrv', 'Capital', 'Nickname', '_c4', '_c5']"
      ]
     },
     "execution_count": 98,
     "metadata": {},
     "output_type": "execute_result"
    }
   ],
   "source": [
    "df_USStatesAbbrev.columns"
   ]
  },
  {
   "cell_type": "code",
   "execution_count": 99,
   "id": "18d0c8a5",
   "metadata": {},
   "outputs": [],
   "source": [
    "cols = ( 'Nickname','_c4', '_c5')\n",
    "df_USStatesAbbrev = df_USStatesAbbrev.drop(*cols)"
   ]
  },
  {
   "cell_type": "code",
   "execution_count": 100,
   "id": "89b58c91",
   "metadata": {},
   "outputs": [
    {
     "name": "stdout",
     "output_type": "stream",
     "text": [
      "+-----------+-----+------------+\n",
      "|      State|Abbrv|     Capital|\n",
      "+-----------+-----+------------+\n",
      "|    Alabama|   AL|  Montgomery|\n",
      "|     Alaska|   AK|      Juneau|\n",
      "|    Arizona|   AZ|     Phoenix|\n",
      "|   Arkansas|   AR| Little Rock|\n",
      "| California|   CA|  Sacramento|\n",
      "|   Colorado|   CO|      Denver|\n",
      "|Connecticut|   CT|    Hartford|\n",
      "|   Delaware|   DE|       Dover|\n",
      "|    Florida|   FL| Tallahassee|\n",
      "|    Georgia|   GA|     Atlanta|\n",
      "|     Hawaii|   HI|    Honolulu|\n",
      "|      Idaho|   ID|       Boise|\n",
      "|   Illinois|   IL| Springfield|\n",
      "|    Indiana|   IN|Indianapolis|\n",
      "|       Iowa|   IA|  Des Moines|\n",
      "|     Kansas|   KS|      Topeka|\n",
      "|   Kentucky|   KY|   Frankfort|\n",
      "|  Louisiana|   LA| Baton Rouge|\n",
      "|      Maine|   ME|     Augusta|\n",
      "|   Maryland|   MD|   Annapolis|\n",
      "+-----------+-----+------------+\n",
      "only showing top 20 rows\n",
      "\n"
     ]
    }
   ],
   "source": [
    "df_USStatesAbbrev.show()"
   ]
  },
  {
   "cell_type": "code",
   "execution_count": 101,
   "id": "2955d71f",
   "metadata": {},
   "outputs": [
    {
     "name": "stdout",
     "output_type": "stream",
     "text": [
      "+----+-------------+---------+---------+-----+--------+-----+----------+-----+----------+\n",
      "|Year|Model        |BodyType |Gear     |State|Color   |Money|State     |Abbrv|Capital   |\n",
      "+----+-------------+---------+---------+-----+--------+-----+----------+-----+----------+\n",
      "|2013|Hyundai      |SUV      |Automatic|CA   |Gray    |19200|California|CA   |Sacramento|\n",
      "|2013|Hyundai      |Sedan    |Automatic|CA   |Gray    |8800 |California|CA   |Sacramento|\n",
      "|2013|Kia          |Sedan    |Automatic|CA   |Black   |22200|California|CA   |Sacramento|\n",
      "|2013|Mercedes-Benz|Coupe    |Automatic|CA   |—       |23500|California|CA   |Sacramento|\n",
      "|2012|Acura        |SUV      |Automatic|CA   |White   |31000|California|CA   |Sacramento|\n",
      "|2012|Infiniti     |G Sedan  |Automatic|CA   |Black   |23500|California|CA   |Sacramento|\n",
      "|2012|MINI         |Hatchback|Automatic|CA   |Blue    |15000|California|CA   |Sacramento|\n",
      "|2011|BMW          |Sedan    |Automatic|CA   |Black   |19000|California|CA   |Sacramento|\n",
      "|2012|Volvo        |Sedan    |Automatic|CA   |Silver  |22000|California|CA   |Sacramento|\n",
      "|2012|Volkswagen   |Wagon    |Automatic|CA   |White   |8100 |California|CA   |Sacramento|\n",
      "|2011|Toyota       |Sedan    |Automatic|CA   |Gold    |9250 |California|CA   |Sacramento|\n",
      "|2011|Ram          |Quad Cab |Automatic|CA   |Silver  |17800|California|CA   |Sacramento|\n",
      "|2010|Lincoln      |Wagon    |Automatic|CA   |Burgundy|12400|California|CA   |Sacramento|\n",
      "|2010|Kia          |Sedan    |Automatic|CA   |Silver  |6400 |California|CA   |Sacramento|\n",
      "|2006|Toyota       |SUV      |Automatic|CA   |Red     |4800 |California|CA   |Sacramento|\n",
      "|2014|Ford         |Sedan    |Automatic|CA   |Red     |11600|California|CA   |Sacramento|\n",
      "|2014|Ford         |SUV      |Automatic|CA   |White   |8000 |California|CA   |Sacramento|\n",
      "|2004|Chrysler     |Wagon    |Automatic|CA   |White   |400  |California|CA   |Sacramento|\n",
      "|2003|Mercedes-Benz|Sedan    |Automatic|CA   |Silver  |3700 |California|CA   |Sacramento|\n",
      "|2002|Ford         |SUV      |Automatic|CA   |Red     |2000 |California|CA   |Sacramento|\n",
      "+----+-------------+---------+---------+-----+--------+-----+----------+-----+----------+\n",
      "only showing top 20 rows\n",
      "\n"
     ]
    }
   ],
   "source": [
    "df_pyspark_usa.join(df_USStatesAbbrev,df_pyspark_usa['State'] == df_USStatesAbbrev[\"Abbrv\"],\"inner\").show(truncate=False)"
   ]
  },
  {
   "cell_type": "code",
   "execution_count": 102,
   "id": "51ace71e",
   "metadata": {},
   "outputs": [],
   "source": [
    "df_pyspark_usa = df_pyspark_usa.join(df_USStatesAbbrev,df_pyspark_usa['State'] == df_USStatesAbbrev[\"Abbrv\"],\"inner\").drop(df_pyspark_usa.State)"
   ]
  },
  {
   "cell_type": "markdown",
   "id": "c6eded0a",
   "metadata": {},
   "source": [
    "#### Browsing data after join"
   ]
  },
  {
   "cell_type": "code",
   "execution_count": 103,
   "id": "066b3125",
   "metadata": {},
   "outputs": [
    {
     "name": "stdout",
     "output_type": "stream",
     "text": [
      "+----+----------+-------------+-------------+--------+-----+-------+-----+-------+\n",
      "|Year|Model     |BodyType     |Gear         |Color   |Money|State  |Abbrv|Capital|\n",
      "+----+----------+-------------+-------------+--------+-----+-------+-----+-------+\n",
      "|2006|Jeep      |SUV          |Not Available|White   |6000 |Arizona|AZ   |Phoenix|\n",
      "|2004|Chevrolet |Extended Cab |Not Available|White   |5700 |Arizona|AZ   |Phoenix|\n",
      "|2004|chevrolet |Not Available|Automatic    |Black   |15100|Arizona|AZ   |Phoenix|\n",
      "|2001|Audi      |Sedan        |Automatic    |Beige   |600  |Arizona|AZ   |Phoenix|\n",
      "|2014|Toyota    |Sedan        |Automatic    |Blue    |15750|Arizona|AZ   |Phoenix|\n",
      "|2012|Nissan    |Crew Cab     |Automatic    |White   |17500|Arizona|AZ   |Phoenix|\n",
      "|2013|Ford      |Sedan        |Automatic    |Gray    |13100|Arizona|AZ   |Phoenix|\n",
      "|2011|Dodge     |Sedan        |Automatic    |Black   |7500 |Arizona|AZ   |Phoenix|\n",
      "|2011|Mazda     |SUV          |Not Available|Black   |11500|Arizona|AZ   |Phoenix|\n",
      "|2014|Dodge     |Minivan      |Automatic    |White   |16200|Arizona|AZ   |Phoenix|\n",
      "|2005|Ford      |SUV          |Automatic    |Gray    |3500 |Arizona|AZ   |Phoenix|\n",
      "|2003|Acura     |SUV          |Automatic    |Silver  |3000 |Arizona|AZ   |Phoenix|\n",
      "|2013|Nissan    |SUV          |Automatic    |Blue    |13400|Arizona|AZ   |Phoenix|\n",
      "|2007|Chrysler  |SUV          |Automatic    |Burgundy|4600 |Arizona|AZ   |Phoenix|\n",
      "|2012|Nissan    |Hatchback    |Automatic    |Silver  |8700 |Arizona|AZ   |Phoenix|\n",
      "|2011|Toyota    |Double Cab   |Automatic    |Red     |14000|Arizona|AZ   |Phoenix|\n",
      "|2009|Honda     |SUV          |Automatic    |Silver  |15000|Arizona|AZ   |Phoenix|\n",
      "|2009|Volkswagen|Sedan        |Manual       |Black   |6700 |Arizona|AZ   |Phoenix|\n",
      "|2004|Nissan    |Sedan        |Not Available|White   |1450 |Arizona|AZ   |Phoenix|\n",
      "|2013|Cadillac  |Sedan        |Automatic    |White   |17400|Arizona|AZ   |Phoenix|\n",
      "+----+----------+-------------+-------------+--------+-----+-------+-----+-------+\n",
      "only showing top 20 rows\n",
      "\n"
     ]
    }
   ],
   "source": [
    "df_pyspark_usa.filter(df_pyspark_usa['Capital'] == 'Phoenix').show(truncate=False)"
   ]
  },
  {
   "cell_type": "markdown",
   "id": "48dc3aee",
   "metadata": {},
   "source": [
    "### Basic information after cleaning"
   ]
  },
  {
   "cell_type": "code",
   "execution_count": 104,
   "id": "b2bdcadb",
   "metadata": {},
   "outputs": [
    {
     "name": "stdout",
     "output_type": "stream",
     "text": [
      "root\n",
      " |-- Year: integer (nullable = true)\n",
      " |-- Model: string (nullable = true)\n",
      " |-- BodyType: string (nullable = false)\n",
      " |-- Gear: string (nullable = false)\n",
      " |-- Color: string (nullable = false)\n",
      " |-- Money: integer (nullable = true)\n",
      " |-- State: string (nullable = true)\n",
      " |-- Abbrv: string (nullable = true)\n",
      " |-- Capital: string (nullable = true)\n",
      "\n"
     ]
    }
   ],
   "source": [
    "df_pyspark_usa.printSchema()"
   ]
  },
  {
   "cell_type": "code",
   "execution_count": 105,
   "id": "98a98a77",
   "metadata": {
    "scrolled": true
   },
   "outputs": [
    {
     "name": "stdout",
     "output_type": "stream",
     "text": [
      "+----+-------------+---------+---------+--------+-----+----------+-----+----------+\n",
      "|Year|        Model| BodyType|     Gear|   Color|Money|     State|Abbrv|   Capital|\n",
      "+----+-------------+---------+---------+--------+-----+----------+-----+----------+\n",
      "|2013|      Hyundai|      SUV|Automatic|    Gray|19200|California|   CA|Sacramento|\n",
      "|2013|      Hyundai|    Sedan|Automatic|    Gray| 8800|California|   CA|Sacramento|\n",
      "|2013|          Kia|    Sedan|Automatic|   Black|22200|California|   CA|Sacramento|\n",
      "|2013|Mercedes-Benz|    Coupe|Automatic|       —|23500|California|   CA|Sacramento|\n",
      "|2012|        Acura|      SUV|Automatic|   White|31000|California|   CA|Sacramento|\n",
      "|2012|     Infiniti|  G Sedan|Automatic|   Black|23500|California|   CA|Sacramento|\n",
      "|2012|         MINI|Hatchback|Automatic|    Blue|15000|California|   CA|Sacramento|\n",
      "|2011|          BMW|    Sedan|Automatic|   Black|19000|California|   CA|Sacramento|\n",
      "|2012|        Volvo|    Sedan|Automatic|  Silver|22000|California|   CA|Sacramento|\n",
      "|2012|   Volkswagen|    Wagon|Automatic|   White| 8100|California|   CA|Sacramento|\n",
      "|2011|       Toyota|    Sedan|Automatic|    Gold| 9250|California|   CA|Sacramento|\n",
      "|2011|          Ram| Quad Cab|Automatic|  Silver|17800|California|   CA|Sacramento|\n",
      "|2010|      Lincoln|    Wagon|Automatic|Burgundy|12400|California|   CA|Sacramento|\n",
      "|2010|          Kia|    Sedan|Automatic|  Silver| 6400|California|   CA|Sacramento|\n",
      "|2006|       Toyota|      SUV|Automatic|     Red| 4800|California|   CA|Sacramento|\n",
      "|2014|         Ford|    Sedan|Automatic|     Red|11600|California|   CA|Sacramento|\n",
      "|2014|         Ford|      SUV|Automatic|   White| 8000|California|   CA|Sacramento|\n",
      "|2004|     Chrysler|    Wagon|Automatic|   White|  400|California|   CA|Sacramento|\n",
      "|2003|Mercedes-Benz|    Sedan|Automatic|  Silver| 3700|California|   CA|Sacramento|\n",
      "|2002|         Ford|      SUV|Automatic|     Red| 2000|California|   CA|Sacramento|\n",
      "+----+-------------+---------+---------+--------+-----+----------+-----+----------+\n",
      "only showing top 20 rows\n",
      "\n"
     ]
    }
   ],
   "source": [
    "df_pyspark_usa.show()"
   ]
  },
  {
   "cell_type": "markdown",
   "id": "95dd1c95",
   "metadata": {},
   "source": [
    "# Analysis of data"
   ]
  },
  {
   "cell_type": "markdown",
   "id": "ae5d9f16",
   "metadata": {},
   "source": [
    "### df_pyspark_arg"
   ]
  },
  {
   "cell_type": "code",
   "execution_count": 106,
   "id": "45c0af1d",
   "metadata": {},
   "outputs": [
    {
     "name": "stdout",
     "output_type": "stream",
     "text": [
      "+----------+----------+----+---------+--------+----+---------+----------+---------+----------+--------+--------+---------+\n",
      "|     Brand|     Model|Year|    Color|FuelType|Door|     Gear|     Motor| BodyType|Kilometres|Currency|   Money|Money USD|\n",
      "+----------+----------+----+---------+--------+----+---------+----------+---------+----------+--------+--------+---------+\n",
      "|    Toyota|Corolla...|2022|   Silver| Naphtha|   5|Automatic|Not ava...|      SUV|       500|   Pesos|10350000|   558900|\n",
      "|      Jeep|   Compass|2022|    White| Naphtha|   5|Automatic|       2.4|      SUV|       500|   Pesos|10850000|   585900|\n",
      "|      Jeep|   Compass|2022|Dark gray| Naphtha|   5|Automatic|       2.4|      SUV|       500| Dollars|   35500|    35500|\n",
      "|   Citroën| C4 Cactus|2022|Dark gray| Naphtha|   5|Automatic|Not ava...|      SUV|       550| Dollars|   19000|    19000|\n",
      "|    Toyota|   Corolla|2019|     Gray| Naphtha|   4|   Manual|       1.8|    Sedán|      9000|   Pesos| 5800000|   313200|\n",
      "|      Jeep|   Compass|2022|    Black| Naphtha|   5|Automatic|       1.3|      SUV|     10500| Dollars|   34500|    34500|\n",
      "|       Kia|   Sorento|2014|    Black|  Diesel|   5|Automatic|       2.2|      SUV|    156000| Dollars|   25000|    25000|\n",
      "|Mercede...|   Clase C|2008|   Silver| Naphtha|   4|Automatic|       1.8|    Sedán|    174000| Dollars|   12300|    12300|\n",
      "|       BMW|       220|2016|    White| Naphtha|   2|Automatic|     TURBO|    Coupé|     66000| Dollars|   35500|    35500|\n",
      "|Volkswagen|   T-Cross|2019|   Orange| Naphtha|   5|Automatic|1.6 MSI...|      SUV|     35000|   Pesos| 6800000|   367200|\n",
      "|Mercede...|   Clase A|2017|   Silver| Naphtha|   5|Automatic|         3|Hatchback|     55394| Dollars|   38500|    38500|\n",
      "|Mercede...|   Clase A|2013|    White| Naphtha|   5|   Manual|       1.6|Hatchback|    162080| Dollars|   20500|    20500|\n",
      "|   Renault|   Sandero|2022|   Silver| Naphtha|   5|   Manual|Not ava...|    Sedán|    111111|   Pesos| 3500000|   189000|\n",
      "|Volkswagen|      Polo|2022|    White| Naphtha|   5|   Manual|       1.6|Hatchback|    111111|   Pesos| 5990000|   323460|\n",
      "|       BMW|   Serie 1|2020|    Black| Naphtha|   5|Automatic|Not ava...|Hatchback|     34800| Dollars|   41900|    41900|\n",
      "|      Ford|  Ecosport|2011|    Beige| Naphtha|   4|   Manual|       1.6|      SUV|    101000|   Pesos| 2100000|   113400|\n",
      "| Chevrolet|Trailbl...|2019|     Gray|  Diesel|   5|Automatic|Not ava...|      SUV|     73000| Dollars|   38500|    38500|\n",
      "|    Toyota|     Etios|2015|    White| Naphtha|   5|   Manual|       1.5|Hatchback|     83000|   Pesos| 2940000|   158760|\n",
      "|   Renault|      Clio|2014|     Gray| Naphtha|   5|   Manual|       1.2|Hatchback|     99000|   Pesos| 2050000|   110700|\n",
      "|    Toyota|      RAV4|2011|     Gray| Naphtha|   5|Automatic|       2.4|      SUV|    180000|   Pesos| 4120000|   222480|\n",
      "|    Toyota|     Etios|2018|     Gray| Naphtha|   5|   Manual|       1.5|    Sedán|     80000|   Pesos| 4100000|   221400|\n",
      "|      Mini|    Cooper|2013|      Red| Naphtha|   5|   Manual|       1.6|Hatchback|    105000| Dollars|   15000|    15000|\n",
      "|      Jeep|  Renegade|2018|      Red| Naphtha|   5|   Manual|       1.8|      SUV|     78000|   Pesos| 5099000|   275346|\n",
      "|    Toyota|     Hilux|2017|      Red|  Diesel|   4|   Manual|       2.8|  Pick-Up|    170000|   Pesos| 8300000|   448200|\n",
      "|      Fiat|     Bravo|2013|    Black| Naphtha|   5|   Manual|Not ava...|Hatchback|    124000|   Pesos| 2800000|   151200|\n",
      "+----------+----------+----+---------+--------+----+---------+----------+---------+----------+--------+--------+---------+\n",
      "only showing top 25 rows\n",
      "\n"
     ]
    }
   ],
   "source": [
    "df_pyspark_arg.show(25,10)"
   ]
  },
  {
   "cell_type": "code",
   "execution_count": 107,
   "id": "60d44538",
   "metadata": {},
   "outputs": [],
   "source": [
    "df_pyspark_argSELECTCol = df_pyspark_arg.select(\"Brand\",\"Model\",\"Year\",\"Color\",\"Money USD\")"
   ]
  },
  {
   "cell_type": "code",
   "execution_count": 108,
   "id": "baec815d",
   "metadata": {},
   "outputs": [
    {
     "name": "stdout",
     "output_type": "stream",
     "text": [
      "+-------------+-------------+----+---------+---------+\n",
      "|        Brand|        Model|Year|    Color|Money USD|\n",
      "+-------------+-------------+----+---------+---------+\n",
      "|       Toyota|Corolla Cross|2022|   Silver|   558900|\n",
      "|         Jeep|      Compass|2022|    White|   585900|\n",
      "|         Jeep|      Compass|2022|Dark gray|    35500|\n",
      "|      Citroën|    C4 Cactus|2022|Dark gray|    19000|\n",
      "|       Toyota|      Corolla|2019|     Gray|   313200|\n",
      "|         Jeep|      Compass|2022|    Black|    34500|\n",
      "|          Kia|      Sorento|2014|    Black|    25000|\n",
      "|Mercedes-Benz|      Clase C|2008|   Silver|    12300|\n",
      "|          BMW|          220|2016|    White|    35500|\n",
      "|   Volkswagen|      T-Cross|2019|   Orange|   367200|\n",
      "|Mercedes-Benz|      Clase A|2017|   Silver|    38500|\n",
      "|Mercedes-Benz|      Clase A|2013|    White|    20500|\n",
      "|      Renault|      Sandero|2022|   Silver|   189000|\n",
      "|   Volkswagen|         Polo|2022|    White|   323460|\n",
      "|          BMW|      Serie 1|2020|    Black|    41900|\n",
      "|         Ford|     Ecosport|2011|    Beige|   113400|\n",
      "|    Chevrolet|  Trailblazer|2019|     Gray|    38500|\n",
      "|       Toyota|        Etios|2015|    White|   158760|\n",
      "|      Renault|         Clio|2014|     Gray|   110700|\n",
      "|       Toyota|         RAV4|2011|     Gray|   222480|\n",
      "+-------------+-------------+----+---------+---------+\n",
      "only showing top 20 rows\n",
      "\n"
     ]
    }
   ],
   "source": [
    "df_pyspark_argSELECTCol.show()"
   ]
  },
  {
   "cell_type": "code",
   "execution_count": 109,
   "id": "d9f05957",
   "metadata": {},
   "outputs": [
    {
     "name": "stdout",
     "output_type": "stream",
     "text": [
      "+----------+---------------+----+-----+---------+\n",
      "|     Brand|          Model|Year|Color|Money USD|\n",
      "+----------+---------------+----+-----+---------+\n",
      "|Volkswagen|         Amarok|2022|White|   772146|\n",
      "| Chevrolet|    Trailblazer|2021| Gray|   753294|\n",
      "|    Toyota|  Corolla Cross|2022|Black|   674460|\n",
      "|    Toyota|          Hilux|2019|White|   674406|\n",
      "|    Toyota|          Hilux|2019| Gray|   669600|\n",
      "|       RAM|           1500|2017| Gray|   647454|\n",
      "|    Toyota|          Hilux|2019| Gray|   642600|\n",
      "|    Toyota|          Hilux|2019| Gray|   642600|\n",
      "|Volkswagen|           Taos|2022| Gray|   642060|\n",
      "|      Ford|         Ranger|2021| Gray|   639900|\n",
      "|      Ford|      Territory|2022|White|   615600|\n",
      "|    Toyota|  Corolla Cross|2022|  Red|   609660|\n",
      "|      Ford|      Territory|2022|Black|   609660|\n",
      "|    Toyota|          Hilux|2021| Gray|   604800|\n",
      "|Volkswagen|           Golf|2019|White|   604530|\n",
      "|Volkswagen|Tiguan Allspace|2021| Gray|   588600|\n",
      "|Volkswagen|Tiguan Allspace|2021| Gray|   588600|\n",
      "|Volkswagen|Tiguan Allspace|2021| Gray|   588600|\n",
      "|Volkswagen|Tiguan Allspace|2021| Gray|   588600|\n",
      "|      Jeep|        Compass|2022|White|   585900|\n",
      "+----------+---------------+----+-----+---------+\n",
      "only showing top 20 rows\n",
      "\n"
     ]
    }
   ],
   "source": [
    "df_pyspark_argSELECTCol.orderBy(desc(\"Money USD\")).show()"
   ]
  },
  {
   "cell_type": "code",
   "execution_count": 110,
   "id": "0d3dec3c",
   "metadata": {},
   "outputs": [
    {
     "name": "stdout",
     "output_type": "stream",
     "text": [
      "+----------+-------------+----+-----+---------+\n",
      "|     Brand|        Model|Year|Color|Money USD|\n",
      "+----------+-------------+----+-----+---------+\n",
      "|Volkswagen|       Amarok|2022|White|   772146|\n",
      "| Chevrolet|  Trailblazer|2021| Gray|   753294|\n",
      "|    Toyota|Corolla Cross|2022|Black|   674460|\n",
      "|    Toyota|        Hilux|2019|White|   674406|\n",
      "|    Toyota|        Hilux|2019| Gray|   669600|\n",
      "|       RAM|         1500|2017| Gray|   647454|\n",
      "|    Toyota|        Hilux|2019| Gray|   642600|\n",
      "|    Toyota|        Hilux|2019| Gray|   642600|\n",
      "|Volkswagen|         Taos|2022| Gray|   642060|\n",
      "|      Ford|       Ranger|2021| Gray|   639900|\n",
      "+----------+-------------+----+-----+---------+\n",
      "\n"
     ]
    }
   ],
   "source": [
    "df_pyspark_argSELECTCol.orderBy(desc(\"Money USD\")).limit(10).show()"
   ]
  },
  {
   "cell_type": "code",
   "execution_count": 111,
   "id": "8642fdea",
   "metadata": {},
   "outputs": [
    {
     "name": "stdout",
     "output_type": "stream",
     "text": [
      "+-------------+-------------+----+---------+------+\n",
      "|        Brand|        Model|Year|    Color| Money|\n",
      "+-------------+-------------+----+---------+------+\n",
      "|       Toyota|Corolla Cross|2022|   Silver|558900|\n",
      "|         Jeep|      Compass|2022|    White|585900|\n",
      "|         Jeep|      Compass|2022|Dark gray| 35500|\n",
      "|      Citroën|    C4 Cactus|2022|Dark gray| 19000|\n",
      "|       Toyota|      Corolla|2019|     Gray|313200|\n",
      "|         Jeep|      Compass|2022|    Black| 34500|\n",
      "|          Kia|      Sorento|2014|    Black| 25000|\n",
      "|Mercedes-Benz|      Clase C|2008|   Silver| 12300|\n",
      "|          BMW|          220|2016|    White| 35500|\n",
      "|   Volkswagen|      T-Cross|2019|   Orange|367200|\n",
      "|Mercedes-Benz|      Clase A|2017|   Silver| 38500|\n",
      "|Mercedes-Benz|      Clase A|2013|    White| 20500|\n",
      "|      Renault|      Sandero|2022|   Silver|189000|\n",
      "|   Volkswagen|         Polo|2022|    White|323460|\n",
      "|          BMW|      Serie 1|2020|    Black| 41900|\n",
      "|         Ford|     Ecosport|2011|    Beige|113400|\n",
      "|    Chevrolet|  Trailblazer|2019|     Gray| 38500|\n",
      "|       Toyota|        Etios|2015|    White|158760|\n",
      "|      Renault|         Clio|2014|     Gray|110700|\n",
      "|       Toyota|         RAV4|2011|     Gray|222480|\n",
      "+-------------+-------------+----+---------+------+\n",
      "only showing top 20 rows\n",
      "\n"
     ]
    }
   ],
   "source": [
    "df_pyspark_argSELECTCol.withColumnRenamed(\"Money USD\",\"Money\").show()"
   ]
  },
  {
   "cell_type": "code",
   "execution_count": 112,
   "id": "23f3096f",
   "metadata": {},
   "outputs": [
    {
     "name": "stdout",
     "output_type": "stream",
     "text": [
      "+----------+---------------+----+------+---------+\n",
      "|     Brand|          Model|Year| Color|Money USD|\n",
      "+----------+---------------+----+------+---------+\n",
      "|    Toyota|  Corolla Cross|2022|Silver|   558900|\n",
      "|      Jeep|        Compass|2022| White|   585900|\n",
      "|    Toyota|          Hilux|2022| Black|   550800|\n",
      "| Chevrolet|        Equinox|2021|Silver|   507054|\n",
      "|    Toyota|  Corolla Cross|2022|   Red|   609660|\n",
      "|    Toyota|          Hilux|2019|  Gray|   642600|\n",
      "|      Ford|         Ranger|2018|  Gray|   513027|\n",
      "|    Toyota|          Hilux|2019|  Gray|   669600|\n",
      "|Volkswagen|Tiguan Allspace|2021|  Gray|   588600|\n",
      "|Volkswagen|         Amarok|2019|  Blue|   510300|\n",
      "|      Ford|      Territory|2021| White|   502200|\n",
      "|    Toyota|  Corolla Cross|2022| Black|   674460|\n",
      "| Chevrolet|    Trailblazer|2021|  Gray|   753294|\n",
      "|    Toyota|          Hilux|2019| White|   674406|\n",
      "|   Peugeot|           3008|2020|  Gray|   567000|\n",
      "|    Toyota|          Hilux|2019|  Gray|   642600|\n",
      "|Volkswagen|Tiguan Allspace|2021|  Gray|   588600|\n",
      "|      Ford|         Ranger|2021|  Gray|   639900|\n",
      "|    Toyota|          Hilux|2021|  Gray|   604800|\n",
      "|Volkswagen|           Taos|2022|  Gray|   642060|\n",
      "+----------+---------------+----+------+---------+\n",
      "only showing top 20 rows\n",
      "\n"
     ]
    }
   ],
   "source": [
    "df_pyspark_argSELECTCol.filter(df_pyspark_argSELECTCol['Money USD'] > 500000).show()"
   ]
  },
  {
   "cell_type": "code",
   "execution_count": 113,
   "id": "01a9992f",
   "metadata": {},
   "outputs": [
    {
     "name": "stdout",
     "output_type": "stream",
     "text": [
      "+----------+---------------+----+-----+---------+\n",
      "|     Brand|          Model|Year|Color|Money USD|\n",
      "+----------+---------------+----+-----+---------+\n",
      "|Volkswagen|Tiguan Allspace|2021| Gray|   588600|\n",
      "|Volkswagen|         Amarok|2019| Blue|   510300|\n",
      "|Volkswagen|Tiguan Allspace|2021| Gray|   588600|\n",
      "|Volkswagen|           Taos|2022| Gray|   642060|\n",
      "|Volkswagen|           Golf|2019|White|   604530|\n",
      "|Volkswagen|         Amarok|2022|White|   772146|\n",
      "|Volkswagen|Tiguan Allspace|2021| Gray|   588600|\n",
      "|Volkswagen|Tiguan Allspace|2021| Gray|   588600|\n",
      "+----------+---------------+----+-----+---------+\n",
      "\n"
     ]
    }
   ],
   "source": [
    "df_pyspark_argSELECTCol.filter((df_pyspark_argSELECTCol['Money USD'] > 500000) & \n",
    "                               (df_pyspark_argSELECTCol['Brand'] == 'Volkswagen')) .show()"
   ]
  },
  {
   "cell_type": "code",
   "execution_count": 114,
   "id": "b00aef2a",
   "metadata": {},
   "outputs": [
    {
     "name": "stdout",
     "output_type": "stream",
     "text": [
      "+---------+-------------+----+------+---------+\n",
      "|    Brand|        Model|Year| Color|Money USD|\n",
      "+---------+-------------+----+------+---------+\n",
      "|   Toyota|Corolla Cross|2022|Silver|   558900|\n",
      "|     Jeep|      Compass|2022| White|   585900|\n",
      "|     Ford|     Ecosport|2011| Beige|   113400|\n",
      "|     Ford|     Ecosport|2019|  Gray|   243000|\n",
      "|     Ford|       Ranger|2021| White|   405000|\n",
      "|   Toyota|        Hilux|2022| Black|   550800|\n",
      "|     Ford|       Fiesta|2016|   Red|   170100|\n",
      "|Chevrolet|      Equinox|2021|Silver|   507054|\n",
      "|     Ford|         Kuga|2013| White|   202500|\n",
      "|   Toyota|Corolla Cross|2022|   Red|   609660|\n",
      "|     Ford|    Focus III|2017|  Blue|   202500|\n",
      "|     Ford|     Ecosport|2014| Black|   172254|\n",
      "|     Ford|           Ka|2019| White|   172254|\n",
      "|     Ford|    Focus III|2016|  Gray|   228798|\n",
      "|   Toyota|        Hilux|2019|  Gray|   642600|\n",
      "|     Ford|     Focus II|2009|Golden|   113427|\n",
      "|     Ford|    Focus III|2018|  Gray|   285654|\n",
      "|     Ford|    Focus III|2014|Silver|   116100|\n",
      "|     Ford|       Ranger|2018|  Gray|   513027|\n",
      "|   Toyota|        Hilux|2019|  Gray|   669600|\n",
      "+---------+-------------+----+------+---------+\n",
      "only showing top 20 rows\n",
      "\n"
     ]
    }
   ],
   "source": [
    "df_pyspark_argSELECTCol.filter((df_pyspark_argSELECTCol['Money USD'] > 500000) |\n",
    "                              (df_pyspark_argSELECTCol['Brand'] == 'Ford')).show()"
   ]
  },
  {
   "cell_type": "code",
   "execution_count": 115,
   "id": "6a2b409f",
   "metadata": {},
   "outputs": [
    {
     "name": "stdout",
     "output_type": "stream",
     "text": [
      "+-------------+-----------------+----+------+---------+\n",
      "|        Brand|            Model|Year| Color|Money USD|\n",
      "+-------------+-----------------+----+------+---------+\n",
      "|Mercedes-Benz|          Clase C|2008|Silver|    12300|\n",
      "|Mercedes-Benz|          Clase A|2017|Silver|    38500|\n",
      "|Mercedes-Benz|          Clase A|2013| White|    20500|\n",
      "|         Mini|           Cooper|2013|   Red|    15000|\n",
      "|Mercedes-Benz|          Clase E|2014| White|    32000|\n",
      "|Mercedes-Benz|          Clase E|2019|  Gray|   185000|\n",
      "|Mercedes-Benz|          Clase A|2013| Black|    17500|\n",
      "|   Mitsubishi|             L200|2016|  Gray|   350460|\n",
      "|Mercedes-Benz|          Clase C|2008|Silver|    10599|\n",
      "|Mercedes-Benz|        Clase GLA|2015| Black|    34990|\n",
      "|Mercedes-Benz|          Clase C|2009|  Blue|    14500|\n",
      "|Mercedes-Benz|        Clase GLA|2017|  Gray|    43990|\n",
      "|Mercedes-Benz|         Sprinter|2018| White|   499500|\n",
      "|Mercedes-Benz|          Clase A|2017|Silver|    31000|\n",
      "|Mercedes-Benz|          Clase A|2017| White|    46999|\n",
      "|         Mini|Cooper Countryman|2014|  Blue|    19500|\n",
      "|Mercedes-Benz|         Sprinter|2015| White|   355854|\n",
      "|   Mitsubishi|        Outlander|2012| Black|    13499|\n",
      "+-------------+-----------------+----+------+---------+\n",
      "\n"
     ]
    }
   ],
   "source": [
    "df_pyspark_argSELECTCol.filter(df_pyspark_argSELECTCol['Brand'].like(\"M%\")).show()"
   ]
  },
  {
   "cell_type": "code",
   "execution_count": 116,
   "id": "8e9ed993",
   "metadata": {},
   "outputs": [
    {
     "name": "stdout",
     "output_type": "stream",
     "text": [
      "+----------+-------------+----+-----+---------+\n",
      "|     Brand|        Model|Year|Color|Money USD|\n",
      "+----------+-------------+----+-----+---------+\n",
      "|    Toyota|Corolla Cross|2022|  Red|   609660|\n",
      "|    Toyota|        Hilux|2019| Gray|   642600|\n",
      "|    Toyota|        Hilux|2019| Gray|   669600|\n",
      "|    Toyota|Corolla Cross|2022|Black|   674460|\n",
      "|    Toyota|        Hilux|2019|White|   674406|\n",
      "|    Toyota|        Hilux|2019| Gray|   642600|\n",
      "|      Ford|       Ranger|2021| Gray|   639900|\n",
      "|    Toyota|        Hilux|2021| Gray|   604800|\n",
      "|Volkswagen|         Taos|2022| Gray|   642060|\n",
      "|Volkswagen|         Golf|2019|White|   604530|\n",
      "|      Ford|    Territory|2022|White|   615600|\n",
      "|       RAM|         1500|2017| Gray|   647454|\n",
      "|      Ford|    Territory|2022|Black|   609660|\n",
      "+----------+-------------+----+-----+---------+\n",
      "\n"
     ]
    }
   ],
   "source": [
    "df_pyspark_argSELECTCol.filter(df_pyspark_argSELECTCol['Money USD'].between(\"600000\",\"700000\")).show()"
   ]
  },
  {
   "cell_type": "code",
   "execution_count": 117,
   "id": "259f6896",
   "metadata": {},
   "outputs": [
    {
     "name": "stdout",
     "output_type": "stream",
     "text": [
      "+-------------+-----------+----+---------+---------+\n",
      "|        Brand|      Model|Year|    Color|Money USD|\n",
      "+-------------+-----------+----+---------+---------+\n",
      "|         Jeep|    Compass|2022|    White|   585900|\n",
      "|         Jeep|    Compass|2022|Dark gray|    35500|\n",
      "|      Citroën|  C4 Cactus|2022|Dark gray|    19000|\n",
      "|         Jeep|    Compass|2022|    Black|    34500|\n",
      "|          Kia|    Sorento|2014|    Black|    25000|\n",
      "|Mercedes-Benz|    Clase C|2008|   Silver|    12300|\n",
      "|          BMW|        220|2016|    White|    35500|\n",
      "|   Volkswagen|    T-Cross|2019|   Orange|   367200|\n",
      "|Mercedes-Benz|    Clase A|2017|   Silver|    38500|\n",
      "|Mercedes-Benz|    Clase A|2013|    White|    20500|\n",
      "|      Renault|    Sandero|2022|   Silver|   189000|\n",
      "|   Volkswagen|       Polo|2022|    White|   323460|\n",
      "|          BMW|    Serie 1|2020|    Black|    41900|\n",
      "|         Ford|   Ecosport|2011|    Beige|   113400|\n",
      "|    Chevrolet|Trailblazer|2019|     Gray|    38500|\n",
      "|      Renault|       Clio|2014|     Gray|   110700|\n",
      "|         Mini|     Cooper|2013|      Red|    15000|\n",
      "|         Jeep|   Renegade|2018|      Red|   275346|\n",
      "|         Fiat|      Bravo|2013|    Black|   151200|\n",
      "|         Ford|   Ecosport|2019|     Gray|   243000|\n",
      "+-------------+-----------+----+---------+---------+\n",
      "only showing top 20 rows\n",
      "\n"
     ]
    }
   ],
   "source": [
    "df_pyspark_argSELECTCol.filter(df_pyspark_argSELECTCol[\"Brand\"] != 'Toyota').select(\"*\").show()"
   ]
  },
  {
   "cell_type": "code",
   "execution_count": 118,
   "id": "5e201384",
   "metadata": {},
   "outputs": [
    {
     "name": "stdout",
     "output_type": "stream",
     "text": [
      "+-------------+---------+----+------+---------+\n",
      "|        Brand|    Model|Year| Color|Money USD|\n",
      "+-------------+---------+----+------+---------+\n",
      "|Mercedes-Benz|  Clase C|2008|Silver|    12300|\n",
      "|          BMW|      220|2016| White|    35500|\n",
      "|   Volkswagen|  T-Cross|2019|Orange|   367200|\n",
      "|Mercedes-Benz|  Clase A|2017|Silver|    38500|\n",
      "|Mercedes-Benz|  Clase A|2013| White|    20500|\n",
      "|   Volkswagen|     Polo|2022| White|   323460|\n",
      "|          BMW|  Serie 1|2020| Black|    41900|\n",
      "|Mercedes-Benz|  Clase E|2014| White|    32000|\n",
      "|Mercedes-Benz|  Clase E|2019|  Gray|   185000|\n",
      "|   Volkswagen|      Up!|2015| White|   135000|\n",
      "|   Volkswagen|    Vento|2018| White|   458460|\n",
      "|   Volkswagen|    Nivus|2021| White|   407700|\n",
      "|   Volkswagen|Gol Trend|2015|Silver|   105840|\n",
      "|   Volkswagen|    Vento|2015|Silver|   113400|\n",
      "|   Volkswagen|      Up!|2018| White|    89100|\n",
      "|   Volkswagen|      Gol|2012| Black|    83700|\n",
      "|   Volkswagen|    Vento|2017|  Gray|   405000|\n",
      "|   Volkswagen|   Amarok|2016| Black|   351000|\n",
      "|   Volkswagen|     Golf|2016|Silver|    16000|\n",
      "|   Volkswagen|   Amarok|2016| Black|   351000|\n",
      "+-------------+---------+----+------+---------+\n",
      "only showing top 20 rows\n",
      "\n"
     ]
    }
   ],
   "source": [
    "Brands = ['BMW','Mercedes-Benz','Volkswagen']\n",
    "\n",
    "df_pyspark_argSELECTCol.filter(df_pyspark_argSELECTCol['Brand'].isin(Brands)).show()"
   ]
  },
  {
   "cell_type": "code",
   "execution_count": 119,
   "id": "1db6f729",
   "metadata": {},
   "outputs": [
    {
     "name": "stdout",
     "output_type": "stream",
     "text": [
      "+-------------+-----------+----+---------+---------+\n",
      "|        Brand|      Model|Year|    Color|Money USD|\n",
      "+-------------+-----------+----+---------+---------+\n",
      "|      Citroën|  C4 Cactus|2022|Dark gray|    19000|\n",
      "|          Kia|    Sorento|2014|    Black|    25000|\n",
      "|Mercedes-Benz|    Clase C|2008|   Silver|    12300|\n",
      "|          BMW|        220|2016|    White|    35500|\n",
      "|   Volkswagen|    T-Cross|2019|   Orange|   367200|\n",
      "|Mercedes-Benz|    Clase A|2017|   Silver|    38500|\n",
      "|Mercedes-Benz|    Clase A|2013|    White|    20500|\n",
      "|      Renault|    Sandero|2022|   Silver|   189000|\n",
      "|   Volkswagen|       Polo|2022|    White|   323460|\n",
      "|          BMW|    Serie 1|2020|    Black|    41900|\n",
      "|    Chevrolet|Trailblazer|2019|     Gray|    38500|\n",
      "|      Renault|       Clio|2014|     Gray|   110700|\n",
      "|         Mini|     Cooper|2013|      Red|    15000|\n",
      "|         Fiat|      Bravo|2013|    Black|   151200|\n",
      "|    Chevrolet|    Classic|2014|     Gray|   129600|\n",
      "|      Renault|     Master|2013|    White|   280800|\n",
      "|      Peugeot|        408|2013|Dark gray|   132300|\n",
      "|        Honda|       CR-V|2013|    White|   280800|\n",
      "|        Dodge|    Journey|2011|    White|   132300|\n",
      "|         Fiat|      Siena|2017|     Gray|   139590|\n",
      "+-------------+-----------+----+---------+---------+\n",
      "only showing top 20 rows\n",
      "\n"
     ]
    }
   ],
   "source": [
    "df_pyspark_argSELECTCol.filter(~df_pyspark_argSELECTCol['Brand'].isin('Jeep','Toyota','Ford')).show()"
   ]
  },
  {
   "cell_type": "code",
   "execution_count": 120,
   "id": "f038ceb3",
   "metadata": {},
   "outputs": [
    {
     "name": "stdout",
     "output_type": "stream",
     "text": [
      "+-------------+-----+\n",
      "|        Brand|Count|\n",
      "+-------------+-----+\n",
      "|   Volkswagen|   88|\n",
      "|         Ford|   57|\n",
      "|    Chevrolet|   51|\n",
      "|      Peugeot|   49|\n",
      "|       Toyota|   47|\n",
      "|      Renault|   45|\n",
      "|      Citroën|   32|\n",
      "|         Fiat|   25|\n",
      "|         Jeep|   20|\n",
      "|        Honda|   18|\n",
      "|Mercedes-Benz|   14|\n",
      "|          BMW|   13|\n",
      "|      Hyundai|    9|\n",
      "|       Nissan|    8|\n",
      "|         Audi|    8|\n",
      "|          RAM|    6|\n",
      "|        Dodge|    4|\n",
      "|          Kia|    3|\n",
      "|   Mitsubishi|    2|\n",
      "|         Mini|    2|\n",
      "|        Volvo|    2|\n",
      "|           DS|    2|\n",
      "|         Baic|    1|\n",
      "|       Suzuki|    1|\n",
      "|        Chery|    1|\n",
      "|      Porsche|    1|\n",
      "|       Subaru|    1|\n",
      "+-------------+-----+\n",
      "\n"
     ]
    }
   ],
   "source": [
    "df_pyspark_argSELECTCol.groupBy(\"Brand\").agg(count(\"*\").alias(\"Count\")).select(\"Brand\",\"Count\").orderBy(desc(\"Count\")).show(50,50)\n"
   ]
  },
  {
   "cell_type": "code",
   "execution_count": 121,
   "id": "8cbabfa2",
   "metadata": {},
   "outputs": [
    {
     "name": "stdout",
     "output_type": "stream",
     "text": [
      "+-------------+-----+\n",
      "|        Color|Count|\n",
      "+-------------+-----+\n",
      "|         Gray|  158|\n",
      "|        White|  150|\n",
      "|        Black|   60|\n",
      "|       Silver|   53|\n",
      "|         Blue|   25|\n",
      "|          Red|   24|\n",
      "|Not available|   11|\n",
      "|       Golden|    8|\n",
      "|        Brown|    4|\n",
      "|       Violet|    4|\n",
      "|    Celestial|    4|\n",
      "|       Orange|    3|\n",
      "|    Dark gray|    3|\n",
      "|        Green|    2|\n",
      "|        Beige|    1|\n",
      "+-------------+-----+\n",
      "\n"
     ]
    }
   ],
   "source": [
    "df_pyspark_argSELECTCol.groupBy(\"Color\").agg(count(\"*\").alias(\"Count\")).select(\"Color\",\"Count\").orderBy(desc(\"Count\")).show(50,50)"
   ]
  },
  {
   "cell_type": "code",
   "execution_count": 122,
   "id": "81da5e3f",
   "metadata": {},
   "outputs": [
    {
     "name": "stdout",
     "output_type": "stream",
     "text": [
      "+----+-----+\n",
      "|Year|Count|\n",
      "+----+-----+\n",
      "|2017|   74|\n",
      "|2018|   63|\n",
      "|2019|   57|\n",
      "|2016|   53|\n",
      "|2014|   43|\n",
      "|2013|   34|\n",
      "|2022|   33|\n",
      "|2015|   31|\n",
      "|2020|   26|\n",
      "|2021|   26|\n",
      "|2011|   22|\n",
      "|2012|   21|\n",
      "|2009|    8|\n",
      "|2008|    7|\n",
      "|2010|    7|\n",
      "|2007|    1|\n",
      "|1997|    1|\n",
      "|1996|    1|\n",
      "|2000|    1|\n",
      "|1995|    1|\n",
      "+----+-----+\n",
      "\n"
     ]
    }
   ],
   "source": [
    "df_pyspark_argSELECTCol.groupBy(\"Year\").agg(count(\"*\").alias(\"Count\")).select(\"Year\",\"Count\").orderBy(desc(\"Count\")).show(50,50)"
   ]
  },
  {
   "cell_type": "code",
   "execution_count": 123,
   "id": "8a75d6a2",
   "metadata": {},
   "outputs": [
    {
     "name": "stdout",
     "output_type": "stream",
     "text": [
      "+-------------+------------------+-------------+-------------+---------------+\n",
      "|        Brand|     Avg Money USD|Min Money USD|Max Money USD|Total Money USD|\n",
      "+-------------+------------------+-------------+-------------+---------------+\n",
      "|   Volkswagen|263707.82954545453|         8000|       772146|       23206289|\n",
      "|      Peugeot|191850.81632653062|        17900|       567000|        9400690|\n",
      "|         Jeep|          277666.3|        15990|       585900|        5553326|\n",
      "|   Mitsubishi|          181979.5|        13499|       350460|         363959|\n",
      "|          Kia|120786.66666666667|        13900|       323460|         362360|\n",
      "|         Mini|           17250.0|        15000|        19500|          34500|\n",
      "|    Chevrolet| 202559.9019607843|        38500|       753294|       10330555|\n",
      "|          RAM|170557.33333333334|        64900|       647454|        1023344|\n",
      "|        Volvo|            9450.0|         8900|        10000|          18900|\n",
      "|         Baic|          312120.0|       312120|       312120|         312120|\n",
      "|      Hyundai|252356.44444444444|        23500|       426060|        2271208|\n",
      "|        Honda|250437.88888888888|        16500|       415800|        4507882|\n",
      "|         Audi|         239082.75|        14900|       430000|        1912662|\n",
      "|Mercedes-Benz| 95945.14285714286|        10599|       499500|        1343232|\n",
      "|      Renault|185776.57777777777|        86130|       334260|        8359946|\n",
      "|          BMW| 82523.84615384616|        12500|       295920|        1072810|\n",
      "|       Suzuki|          102330.0|       102330|       102330|         102330|\n",
      "|        Chery|          178200.0|       178200|       178200|         178200|\n",
      "|      Porsche|           79900.0|        79900|        79900|          79900|\n",
      "|           DS|          559434.0|       559434|       559434|        1118868|\n",
      "+-------------+------------------+-------------+-------------+---------------+\n",
      "only showing top 20 rows\n",
      "\n"
     ]
    }
   ],
   "source": [
    "df_pyspark_argSELECTCol.groupBy(\"Brand\").agg(avg(\"Money USD\").alias(\"Avg Money USD\"),\n",
    "                                            min(\"Money USD\").alias(\"Min Money USD\"),\n",
    "                                            max(\"Money USD\").alias(\"Max Money USD\"),\n",
    "                                            sum(\"Money USD\").alias(\"Total Money USD\")).show()"
   ]
  },
  {
   "cell_type": "code",
   "execution_count": 124,
   "id": "cc47627c",
   "metadata": {},
   "outputs": [
    {
     "name": "stdout",
     "output_type": "stream",
     "text": [
      "+----------+------------------+\n",
      "|     Brand|             Money|\n",
      "+----------+------------------+\n",
      "|Volkswagen|263707.82954545453|\n",
      "|      Jeep|          277666.3|\n",
      "|      Baic|          312120.0|\n",
      "|   Hyundai|252356.44444444444|\n",
      "|     Honda|250437.88888888888|\n",
      "|        DS|          559434.0|\n",
      "|    Toyota| 297632.6808510638|\n",
      "|     Dodge|          398655.0|\n",
      "+----------+------------------+\n",
      "\n"
     ]
    }
   ],
   "source": [
    "df_pyspark_argSELECTCol.groupBy(\"Brand\").agg(avg(col(\"Money USD\")\n",
    "                                            .cast(\"double\"))\n",
    "                                            .alias(\"Money\")).filter(col(\"Money\") > 250000).select(\"Brand\",\"Money\").show()"
   ]
  },
  {
   "cell_type": "code",
   "execution_count": 125,
   "id": "e69c761e",
   "metadata": {},
   "outputs": [
    {
     "name": "stdout",
     "output_type": "stream",
     "text": [
      "+-------------+\n",
      "|        Brand|\n",
      "+-------------+\n",
      "|   Volkswagen|\n",
      "|      Peugeot|\n",
      "|         Jeep|\n",
      "|   Mitsubishi|\n",
      "|          Kia|\n",
      "|         Mini|\n",
      "|    Chevrolet|\n",
      "|          RAM|\n",
      "|        Volvo|\n",
      "|         Baic|\n",
      "|      Hyundai|\n",
      "|        Honda|\n",
      "|         Audi|\n",
      "|Mercedes-Benz|\n",
      "|      Renault|\n",
      "|          BMW|\n",
      "|       Suzuki|\n",
      "|        Chery|\n",
      "|      Porsche|\n",
      "|           DS|\n",
      "|      Citroën|\n",
      "|       Toyota|\n",
      "|        Dodge|\n",
      "|       Nissan|\n",
      "|         Fiat|\n",
      "|         Ford|\n",
      "|       Subaru|\n",
      "+-------------+\n",
      "\n"
     ]
    }
   ],
   "source": [
    "df_pyspark_argSELECTCol.select(\"Brand\").distinct().show(50,50)"
   ]
  },
  {
   "cell_type": "code",
   "execution_count": 126,
   "id": "53ae9fe9",
   "metadata": {},
   "outputs": [
    {
     "name": "stdout",
     "output_type": "stream",
     "text": [
      "+-------------+\n",
      "|        Brand|\n",
      "+-------------+\n",
      "|   Volkswagen|\n",
      "|      Peugeot|\n",
      "|         Jeep|\n",
      "|   Mitsubishi|\n",
      "|          Kia|\n",
      "|         Mini|\n",
      "|    Chevrolet|\n",
      "|          RAM|\n",
      "|        Volvo|\n",
      "|         Baic|\n",
      "|      Hyundai|\n",
      "|        Honda|\n",
      "|         Audi|\n",
      "|Mercedes-Benz|\n",
      "|      Renault|\n",
      "|          BMW|\n",
      "|       Suzuki|\n",
      "|        Chery|\n",
      "|      Porsche|\n",
      "|           DS|\n",
      "|      Citroën|\n",
      "|       Toyota|\n",
      "|        Dodge|\n",
      "|       Nissan|\n",
      "|         Fiat|\n",
      "|         Ford|\n",
      "|       Subaru|\n",
      "+-------------+\n",
      "\n"
     ]
    }
   ],
   "source": [
    "df_pyspark_argSELECTCol.select(\"Brand\").distinct().show(50,50)"
   ]
  },
  {
   "cell_type": "code",
   "execution_count": 127,
   "id": "356a436b",
   "metadata": {},
   "outputs": [
    {
     "name": "stdout",
     "output_type": "stream",
     "text": [
      "+-------------+\n",
      "|     BodyType|\n",
      "+-------------+\n",
      "|Not available|\n",
      "|    Hatchback|\n",
      "|        Sedán|\n",
      "|    Crossover|\n",
      "|       Furgón|\n",
      "|          SUV|\n",
      "|  Monovolumen|\n",
      "|      Pick-Up|\n",
      "|      Minivan|\n",
      "|        Rural|\n",
      "|        Coupé|\n",
      "+-------------+\n",
      "\n"
     ]
    }
   ],
   "source": [
    "df_pyspark_arg.select(\"BodyType\").distinct().show(50,50)"
   ]
  },
  {
   "cell_type": "code",
   "execution_count": 128,
   "id": "87dc1934",
   "metadata": {},
   "outputs": [
    {
     "name": "stdout",
     "output_type": "stream",
     "text": [
      "+--------------+\n",
      "|      FuelType|\n",
      "+--------------+\n",
      "|   Naphtha/CNG|\n",
      "|        Diesel|\n",
      "|Hybrid/Naphtha|\n",
      "|       Naphtha|\n",
      "+--------------+\n",
      "\n"
     ]
    }
   ],
   "source": [
    "df_pyspark_arg.select(\"FuelType\").distinct().show(50,50)"
   ]
  },
  {
   "cell_type": "code",
   "execution_count": 129,
   "id": "ec34a252",
   "metadata": {},
   "outputs": [
    {
     "name": "stdout",
     "output_type": "stream",
     "text": [
      "+-------------+\n",
      "|         Gear|\n",
      "+-------------+\n",
      "|Not available|\n",
      "|    Automatic|\n",
      "|       Manual|\n",
      "+-------------+\n",
      "\n"
     ]
    }
   ],
   "source": [
    "df_pyspark_arg.select(\"Gear\").distinct().show(50,50)\n"
   ]
  },
  {
   "cell_type": "code",
   "execution_count": 130,
   "id": "593992dd",
   "metadata": {},
   "outputs": [
    {
     "name": "stdout",
     "output_type": "stream",
     "text": [
      "+-------------+-------------+----+---------+---------+----------+\n",
      "|        Brand|        Model|Year|    Color|Money USD|Money EURO|\n",
      "+-------------+-------------+----+---------+---------+----------+\n",
      "|       Toyota|Corolla Cross|2022|   Silver|   558900|  514188.0|\n",
      "|         Jeep|      Compass|2022|    White|   585900|  539028.0|\n",
      "|         Jeep|      Compass|2022|Dark gray|    35500|   32660.0|\n",
      "|      Citroën|    C4 Cactus|2022|Dark gray|    19000|   17480.0|\n",
      "|       Toyota|      Corolla|2019|     Gray|   313200|  288144.0|\n",
      "|         Jeep|      Compass|2022|    Black|    34500|   31740.0|\n",
      "|          Kia|      Sorento|2014|    Black|    25000|   23000.0|\n",
      "|Mercedes-Benz|      Clase C|2008|   Silver|    12300|   11316.0|\n",
      "|          BMW|          220|2016|    White|    35500|   32660.0|\n",
      "|   Volkswagen|      T-Cross|2019|   Orange|   367200|  337824.0|\n",
      "|Mercedes-Benz|      Clase A|2017|   Silver|    38500|   35420.0|\n",
      "|Mercedes-Benz|      Clase A|2013|    White|    20500|   18860.0|\n",
      "|      Renault|      Sandero|2022|   Silver|   189000|  173880.0|\n",
      "|   Volkswagen|         Polo|2022|    White|   323460|  297583.2|\n",
      "|          BMW|      Serie 1|2020|    Black|    41900|   38548.0|\n",
      "|         Ford|     Ecosport|2011|    Beige|   113400|  104328.0|\n",
      "|    Chevrolet|  Trailblazer|2019|     Gray|    38500|   35420.0|\n",
      "|       Toyota|        Etios|2015|    White|   158760|  146059.2|\n",
      "|      Renault|         Clio|2014|     Gray|   110700|  101844.0|\n",
      "|       Toyota|         RAV4|2011|     Gray|   222480|  204681.6|\n",
      "+-------------+-------------+----+---------+---------+----------+\n",
      "only showing top 20 rows\n",
      "\n"
     ]
    }
   ],
   "source": [
    "df_pyspark_argSELECTCol.withColumn(\"Money EURO\",df_pyspark_argSELECTCol['Money USD'] * 0.92).show()"
   ]
  },
  {
   "cell_type": "code",
   "execution_count": 131,
   "id": "923cc987",
   "metadata": {},
   "outputs": [
    {
     "name": "stdout",
     "output_type": "stream",
     "text": [
      "+-------------+----+-----+---------+\n",
      "|        Brand|left|right|substring|\n",
      "+-------------+----+-----+---------+\n",
      "|       Toyota|  To|   ta|       yo|\n",
      "|         Jeep|  Je|   ep|       ep|\n",
      "|         Jeep|  Je|   ep|       ep|\n",
      "|      Citroën|  Ci|   ën|       tr|\n",
      "|       Toyota|  To|   ta|       yo|\n",
      "|         Jeep|  Je|   ep|       ep|\n",
      "|          Kia|  Ki|   ia|        a|\n",
      "|Mercedes-Benz|  Me|   nz|       rc|\n",
      "|          BMW|  BM|   MW|        W|\n",
      "|   Volkswagen|  Vo|   en|       lk|\n",
      "|Mercedes-Benz|  Me|   nz|       rc|\n",
      "|Mercedes-Benz|  Me|   nz|       rc|\n",
      "|      Renault|  Re|   lt|       na|\n",
      "|   Volkswagen|  Vo|   en|       lk|\n",
      "|          BMW|  BM|   MW|        W|\n",
      "|         Ford|  Fo|   rd|       rd|\n",
      "|    Chevrolet|  Ch|   et|       ev|\n",
      "|       Toyota|  To|   ta|       yo|\n",
      "|      Renault|  Re|   lt|       na|\n",
      "|       Toyota|  To|   ta|       yo|\n",
      "+-------------+----+-----+---------+\n",
      "only showing top 20 rows\n",
      "\n"
     ]
    }
   ],
   "source": [
    "df_pyspark_argSELECTCol.select(df_pyspark_argSELECTCol[\"Brand\"],substring(df_pyspark_argSELECTCol[\"Brand\"],1,2).alias(\"left\"),\n",
    "                               substring(df_pyspark_argSELECTCol[\"Brand\"],-2,2).alias(\"right\"),\n",
    "                               substring(df_pyspark_argSELECTCol[\"Brand\"],3,2).alias(\"substring\")).show()"
   ]
  },
  {
   "cell_type": "code",
   "execution_count": 132,
   "id": "8106e0dd",
   "metadata": {},
   "outputs": [
    {
     "name": "stdout",
     "output_type": "stream",
     "text": [
      "+---------------------------------+\n",
      "|Brand Model                      |\n",
      "+---------------------------------+\n",
      "|Brand Model Toyota Corolla Cross |\n",
      "|Brand Model Jeep Compass         |\n",
      "|Brand Model Jeep Compass         |\n",
      "|Brand Model Citroën C4 Cactus    |\n",
      "|Brand Model Toyota Corolla       |\n",
      "|Brand Model Jeep Compass         |\n",
      "|Brand Model Kia Sorento          |\n",
      "|Brand Model Mercedes-Benz Clase C|\n",
      "|Brand Model BMW 220              |\n",
      "|Brand Model Volkswagen T-Cross   |\n",
      "|Brand Model Mercedes-Benz Clase A|\n",
      "|Brand Model Mercedes-Benz Clase A|\n",
      "|Brand Model Renault Sandero      |\n",
      "|Brand Model Volkswagen Polo      |\n",
      "|Brand Model BMW Serie 1          |\n",
      "|Brand Model Ford Ecosport        |\n",
      "|Brand Model Chevrolet Trailblazer|\n",
      "|Brand Model Toyota Etios         |\n",
      "|Brand Model Renault Clio         |\n",
      "|Brand Model Toyota RAV4          |\n",
      "+---------------------------------+\n",
      "only showing top 20 rows\n",
      "\n"
     ]
    }
   ],
   "source": [
    "df_pyspark_arg.select(concat(lit(\"Brand Model \")\n",
    "                                      ,df_pyspark_arg[\"Brand\"], lit(\" \"),\n",
    "                                     df_pyspark_arg[\"Model\"]).alias(\"Brand Model\")).show(truncate=False)"
   ]
  },
  {
   "cell_type": "code",
   "execution_count": 133,
   "id": "afe2548a",
   "metadata": {},
   "outputs": [],
   "source": []
  },
  {
   "cell_type": "code",
   "execution_count": 134,
   "id": "64276175",
   "metadata": {},
   "outputs": [],
   "source": [
    "Min = df_pyspark_argSELECTCol.agg(min(\"Money USD\")).first()[0]\n"
   ]
  },
  {
   "cell_type": "code",
   "execution_count": 135,
   "id": "a8c0f480",
   "metadata": {},
   "outputs": [],
   "source": [
    "Max = df_pyspark_argSELECTCol.agg(max(\"Money USD\")).first()[0]"
   ]
  },
  {
   "cell_type": "code",
   "execution_count": 136,
   "id": "b03de3f5",
   "metadata": {},
   "outputs": [
    {
     "data": {
      "text/plain": [
       "772146"
      ]
     },
     "execution_count": 136,
     "metadata": {},
     "output_type": "execute_result"
    }
   ],
   "source": [
    "Max"
   ]
  },
  {
   "cell_type": "code",
   "execution_count": 140,
   "id": "7257bbb8",
   "metadata": {},
   "outputs": [],
   "source": [
    "MinMoneyUSD = df_pyspark_argSELECTCol.filter(df_pyspark_argSELECTCol[\"Money USD\"] == Min )"
   ]
  },
  {
   "cell_type": "code",
   "execution_count": 141,
   "id": "bc054300",
   "metadata": {},
   "outputs": [],
   "source": [
    "MaxMoneyUSD = df_pyspark_argSELECTCol.filter(df_pyspark_argSELECTCol[\"Money USD\"] == Max )"
   ]
  },
  {
   "cell_type": "code",
   "execution_count": 145,
   "id": "c6744b56",
   "metadata": {},
   "outputs": [],
   "source": [
    "UnionMaxMinMoneyUSD =MaxMoneyUSD.union(MinMoneyUSD) "
   ]
  },
  {
   "cell_type": "code",
   "execution_count": 146,
   "id": "39c9950d",
   "metadata": {
    "scrolled": true
   },
   "outputs": [
    {
     "name": "stdout",
     "output_type": "stream",
     "text": [
      "+----------+---------+----+-----+---------+\n",
      "|     Brand|    Model|Year|Color|Money USD|\n",
      "+----------+---------+----+-----+---------+\n",
      "|Volkswagen|   Amarok|2022|White|   772146|\n",
      "|Volkswagen|Gol Trend|2013| Gray|     8000|\n",
      "+----------+---------+----+-----+---------+\n",
      "\n"
     ]
    }
   ],
   "source": [
    "UnionMaxMinMoneyUSD.show()"
   ]
  },
  {
   "cell_type": "code",
   "execution_count": 153,
   "id": "436a9d1b",
   "metadata": {},
   "outputs": [
    {
     "name": "stdout",
     "output_type": "stream",
     "text": [
      "+----------+---------------+----+-----+---------+---+\n",
      "|     Brand|          Model|Year|Color|Money USD| RN|\n",
      "+----------+---------------+----+-----+---------+---+\n",
      "|Volkswagen|         Amarok|2022|White|   772146|  1|\n",
      "| Chevrolet|    Trailblazer|2021| Gray|   753294|  2|\n",
      "|    Toyota|  Corolla Cross|2022|Black|   674460|  3|\n",
      "|    Toyota|          Hilux|2019|White|   674406|  4|\n",
      "|    Toyota|          Hilux|2019| Gray|   669600|  5|\n",
      "|       RAM|           1500|2017| Gray|   647454|  6|\n",
      "|    Toyota|          Hilux|2019| Gray|   642600|  7|\n",
      "|    Toyota|          Hilux|2019| Gray|   642600|  8|\n",
      "|Volkswagen|           Taos|2022| Gray|   642060|  9|\n",
      "|      Ford|         Ranger|2021| Gray|   639900| 10|\n",
      "|      Ford|      Territory|2022|White|   615600| 11|\n",
      "|    Toyota|  Corolla Cross|2022|  Red|   609660| 12|\n",
      "|      Ford|      Territory|2022|Black|   609660| 13|\n",
      "|    Toyota|          Hilux|2021| Gray|   604800| 14|\n",
      "|Volkswagen|           Golf|2019|White|   604530| 15|\n",
      "|Volkswagen|Tiguan Allspace|2021| Gray|   588600| 16|\n",
      "|Volkswagen|Tiguan Allspace|2021| Gray|   588600| 17|\n",
      "|Volkswagen|Tiguan Allspace|2021| Gray|   588600| 18|\n",
      "|Volkswagen|Tiguan Allspace|2021| Gray|   588600| 19|\n",
      "|      Jeep|        Compass|2022|White|   585900| 20|\n",
      "+----------+---------------+----+-----+---------+---+\n",
      "only showing top 20 rows\n",
      "\n"
     ]
    }
   ],
   "source": [
    "windowSpec = Window.orderBy(col(\"Money USD\").desc())\n",
    "\n",
    "RowNumDf_pyspark_argSELECTCol = df_pyspark_argSELECTCol.withColumn(\"RN\", row_number().over(windowSpec))\n",
    "RowNumDf_pyspark_argSELECTCol.show()\n"
   ]
  },
  {
   "cell_type": "code",
   "execution_count": 154,
   "id": "b6d42b06",
   "metadata": {},
   "outputs": [
    {
     "name": "stdout",
     "output_type": "stream",
     "text": [
      "+-----+------------+----+-------------+---------+---+\n",
      "|Brand|       Model|Year|        Color|Money USD| RN|\n",
      "+-----+------------+----+-------------+---------+---+\n",
      "| Audi|    R8 Coupé|2020|         Blue|   430000|  1|\n",
      "| Audi|          Q5|2013|        White|   361800|  2|\n",
      "| Audi|          A1|2016|         Gray|   350454|  3|\n",
      "| Audi|A3 Sportback|2011|        White|   237054|  4|\n",
      "| Audi|    R8 Coupé|2011|        White|   235000|  5|\n",
      "| Audi|          A4|2011|         Gray|   215454|  6|\n",
      "| Audi|          S3|2018|         Blue|    68000|  7|\n",
      "| Audi|          A1|2011|        White|    14900|  8|\n",
      "|  BMW|     Serie 3|2009|         Gray|   295920|  1|\n",
      "|  BMW|     Serie 1|2008|         Gray|   162000|  2|\n",
      "|  BMW|     Serie M|2017|         Gray|   115700|  3|\n",
      "|  BMW|     Serie 4|2022|        Black|    95000|  4|\n",
      "|  BMW|     Serie 2|2021|         Blue|    90000|  5|\n",
      "|  BMW|     Serie 2|2021|    Celestial|    89990|  6|\n",
      "|  BMW|     Serie 2|2021|         Blue|    79000|  7|\n",
      "|  BMW|     Serie 1|2020|        Black|    41900|  8|\n",
      "|  BMW|         220|2016|        White|    35500|  9|\n",
      "|  BMW|     Serie 3|2008|        Black|    24800| 10|\n",
      "|  BMW|          X5|2000|Not available|    16000| 11|\n",
      "|  BMW|     Serie 3|2008|         Gray|    14500| 12|\n",
      "+-----+------------+----+-------------+---------+---+\n",
      "only showing top 20 rows\n",
      "\n"
     ]
    }
   ],
   "source": [
    "windowSpec = Window.partitionBy(col(\"Brand\")).orderBy(col(\"Money USD\").desc())\n",
    "\n",
    "RowNumDf_pyspark_argSELECTCol = df_pyspark_argSELECTCol.withColumn(\"RN\", row_number().over(windowSpec))\n",
    "RowNumDf_pyspark_argSELECTCol.show()"
   ]
  },
  {
   "cell_type": "code",
   "execution_count": 160,
   "id": "b9f9dd2e",
   "metadata": {},
   "outputs": [
    {
     "name": "stdout",
     "output_type": "stream",
     "text": [
      "+-----+---------+------------------------+\n",
      "|Brand|Money USD|Total Money USD by Brand|\n",
      "+-----+---------+------------------------+\n",
      "| Audi|    14900|                 1912662|\n",
      "| Audi|   361800|                 1912662|\n",
      "| Audi|   350454|                 1912662|\n",
      "| Audi|   237054|                 1912662|\n",
      "| Audi|   215454|                 1912662|\n",
      "| Audi|    68000|                 1912662|\n",
      "| Audi|   235000|                 1912662|\n",
      "| Audi|   430000|                 1912662|\n",
      "|  BMW|    35500|                 1072810|\n",
      "|  BMW|    41900|                 1072810|\n",
      "|  BMW|   115700|                 1072810|\n",
      "|  BMW|    16000|                 1072810|\n",
      "|  BMW|    95000|                 1072810|\n",
      "|  BMW|    12500|                 1072810|\n",
      "|  BMW|    89990|                 1072810|\n",
      "|  BMW|   295920|                 1072810|\n",
      "|  BMW|   162000|                 1072810|\n",
      "|  BMW|    79000|                 1072810|\n",
      "|  BMW|    90000|                 1072810|\n",
      "|  BMW|    24800|                 1072810|\n",
      "+-----+---------+------------------------+\n",
      "only showing top 20 rows\n",
      "\n",
      "+-------------+------------------------+\n",
      "|        Brand|Total Money USD by Brand|\n",
      "+-------------+------------------------+\n",
      "|         Audi|                 1912662|\n",
      "|          BMW|                 1072810|\n",
      "|         Baic|                  312120|\n",
      "|        Chery|                  178200|\n",
      "|    Chevrolet|                10330555|\n",
      "|      Citroën|                 5882183|\n",
      "|           DS|                 1118868|\n",
      "|        Dodge|                 1594620|\n",
      "|         Fiat|                 4184509|\n",
      "|         Ford|                13830047|\n",
      "|        Honda|                 4507882|\n",
      "|      Hyundai|                 2271208|\n",
      "|         Jeep|                 5553326|\n",
      "|          Kia|                  362360|\n",
      "|Mercedes-Benz|                 1343232|\n",
      "|         Mini|                   34500|\n",
      "|   Mitsubishi|                  363959|\n",
      "|       Nissan|                 1900248|\n",
      "|      Peugeot|                 9400690|\n",
      "|      Porsche|                   79900|\n",
      "+-------------+------------------------+\n",
      "only showing top 20 rows\n",
      "\n"
     ]
    }
   ],
   "source": [
    "windowSpec = Window.partitionBy(col(\"Brand\"))\n",
    "\n",
    "AGGandOVERpyspark_argSELECTCol = df_pyspark_argSELECTCol.withColumn(\"Total Money USD by Brand\"\n",
    "                                 ,sum(df_pyspark_argSELECTCol[\"Money USD\"]).over(windowSpec))\n",
    "\n",
    "AGGandOVERpyspark_argSELECTCol = AGGandOVERpyspark_argSELECTCol.select([\"Brand\",\"Money USD\",\"Total Money USD by Brand\"])\n",
    "\n",
    "AGGandOVERpyspark_argSELECTColDIST = AGGandOVERpyspark_argSELECTCol.select([\"Brand\",\"Total Money USD by Brand\"])\n",
    "\n",
    "AGGandOVERpyspark_argSELECTCol.show()\n",
    "AGGandOVERpyspark_argSELECTColDIST.distinct().show()"
   ]
  },
  {
   "cell_type": "code",
   "execution_count": 163,
   "id": "7a0e0cb5",
   "metadata": {},
   "outputs": [
    {
     "name": "stdout",
     "output_type": "stream",
     "text": [
      "+----+--------+-----------------+-------------+\n",
      "|Year|   Money|PreviousYearMoney|NextYearMoney|\n",
      "+----+--------+-----------------+-------------+\n",
      "|1995|   10000|             null|       105300|\n",
      "|1996|  105300|            10000|        16300|\n",
      "|1997|   16300|           105300|        16000|\n",
      "|2000|   16000|            16300|       170100|\n",
      "|2007|  170100|            16000|       297899|\n",
      "|2008|  297899|           170100|       849664|\n",
      "|2009|  849664|           297899|       727740|\n",
      "|2010|  727740|           849664|      3103635|\n",
      "|2011| 3103635|           727740|      2314229|\n",
      "|2012| 2314229|          3103635|      4986467|\n",
      "|2013| 4986467|          2314229|      6312345|\n",
      "|2014| 6312345|          4986467|      5603557|\n",
      "|2015| 5603557|          6312345|      9935214|\n",
      "|2016| 9935214|          5603557|     17585897|\n",
      "|2017|17585897|          9935214|     16708834|\n",
      "|2018|16708834|         17585897|     16898489|\n",
      "|2019|16898489|         16708834|      7126422|\n",
      "|2020| 7126422|         16898489|     10008256|\n",
      "|2021|10008256|          7126422|     10292076|\n",
      "|2022|10292076|         10008256|         null|\n",
      "+----+--------+-----------------+-------------+\n",
      "\n"
     ]
    }
   ],
   "source": [
    "df_pyspark_argSELECTColLAGLEAD =  df_pyspark_argSELECTCol.groupBy(\"Year\").agg(sum(df_pyspark_argSELECTCol[\"Money USD\"])\n",
    "                                     .alias(\"Money\"))\n",
    "df_pyspark_argSELECTColLAGLEAD = df_pyspark_argSELECTColLAGLEAD.select(df_pyspark_argSELECTColLAGLEAD['Year'],\n",
    "                                                                      df_pyspark_argSELECTColLAGLEAD['Money'],\n",
    "                                                                      lag(\"Money\").over(Window.orderBy(\"Year\"))\n",
    "                                                                      .alias(\"PreviousYearMoney\"),\n",
    "                                                                      lead(\"Money\").over(Window.orderBy(\"Year\"))\n",
    "                                                                       .alias(\"NextYearMoney\"))\n",
    "df_pyspark_argSELECTColLAGLEAD.show()"
   ]
  },
  {
   "cell_type": "code",
   "execution_count": 165,
   "id": "d4183748",
   "metadata": {},
   "outputs": [
    {
     "name": "stdout",
     "output_type": "stream",
     "text": [
      "+----------+-------------+----+-----+---------+\n",
      "|     Brand|        Model|Year|Color|Money USD|\n",
      "+----------+-------------+----+-----+---------+\n",
      "|Volkswagen|       Amarok|2022|White|   772146|\n",
      "| Chevrolet|  Trailblazer|2021| Gray|   753294|\n",
      "|    Toyota|Corolla Cross|2022|Black|   674460|\n",
      "|    Toyota|        Hilux|2019|White|   674406|\n",
      "|    Toyota|        Hilux|2019| Gray|   669600|\n",
      "+----------+-------------+----+-----+---------+\n",
      "\n"
     ]
    }
   ],
   "source": [
    "cte  = df_pyspark_argSELECTCol.select(\"*\").sort(desc(\"Money USD\")).limit(5)\n",
    "cte.show()"
   ]
  },
  {
   "cell_type": "code",
   "execution_count": null,
   "id": "4a577b90",
   "metadata": {},
   "outputs": [],
   "source": [
    "## Filtering NOT IN and Subquery , subquery with filtering -except intersect, join \n",
    "## using function from course"
   ]
  },
  {
   "cell_type": "code",
   "execution_count": null,
   "id": "ef7262bf",
   "metadata": {},
   "outputs": [],
   "source": []
  },
  {
   "cell_type": "code",
   "execution_count": null,
   "id": "91f64759",
   "metadata": {},
   "outputs": [],
   "source": []
  },
  {
   "cell_type": "markdown",
   "id": "dd3867da",
   "metadata": {},
   "source": [
    "### df_pyspark_nig"
   ]
  },
  {
   "cell_type": "code",
   "execution_count": 166,
   "id": "464625d8",
   "metadata": {},
   "outputs": [
    {
     "name": "stdout",
     "output_type": "stream",
     "text": [
      "+-------------+----+-------------+----------+----------+--------+---------+--------+--------+-----------------+\n",
      "|        Brand|Year|    Condition|Kilometres|EngineSize|FuelType|     Gear|   Money|BodyType|        Money USD|\n",
      "+-------------+----+-------------+----------+----------+--------+---------+--------+--------+-----------------+\n",
      "|Mercedes-Benz|2013| Foreign Used|    104536|      3500|  Petrol|Automatic|14352000|     SUV|          31574.4|\n",
      "|        Honda|2011| Foreign Used|      3621|      3500|  Petrol|Automatic| 6240000|     SUV|          13728.0|\n",
      "|       Toyota|2007|Nigerian Used|    223493|      3500|  Hybrid|Automatic| 2100000|     SUV|           4620.0|\n",
      "|       Toyota|2003|Nigerian Used|    367531|      4000|  Petrol|Automatic| 2137500|     SUV|           4702.5|\n",
      "|        Lexus|2007| Foreign Used|    104138|      3500|  Petrol|Automatic| 5928000|     SUV|          13041.6|\n",
      "|      Lincoln|2019|Nigerian Used|     35976|      2000|  Petrol|Automatic|17850000|     SUV|          39270.0|\n",
      "|   Land Rover|2008|Nigerian Used|    178780|      4700|  Petrol|Automatic| 3150000|     SUV|           6930.0|\n",
      "|        Lexus|2007|Nigerian Used|    220726|      3500|  Petrol|Automatic| 4680000|     SUV|          10296.0|\n",
      "|        Mazda|2010|Nigerian Used|    322717|      2500|  Petrol|Automatic| 2100000|     SUV|           4620.0|\n",
      "|        Lexus|2008| Foreign Used|    149092|      3500|  Petrol|Automatic| 5145000|     SUV|          11319.0|\n",
      "|      Hyundai|2010|Nigerian Used|    262797|      3800|  Petrol|Automatic| 2677500|     SUV|           5890.5|\n",
      "|       Toyota|2001|Nigerian Used|    119510|      3000|  Petrol|Automatic| 1352000|     SUV|           2974.4|\n",
      "|Mercedes-Benz|2007|Nigerian Used|      1966|        35|  Petrol|Automatic| 5720000|     SUV|          12584.0|\n",
      "|       Toyota|2002| Foreign Used|    125606|      2000|  Petrol|Automatic| 3255000|     SUV|           7161.0|\n",
      "|          Kia|2013|Nigerian Used|    134013|      3800|  Petrol|Automatic| 4410000|     SUV|           9702.0|\n",
      "|        Honda|2003|Nigerian Used|    175567|      3500|  Petrol|Automatic| 1612000|     SUV|           3546.4|\n",
      "|       Nissan|2009|Nigerian Used|    213292|      3500|  Petrol|      CVT| 1575000|     SUV|           3465.0|\n",
      "|        Lexus|2005|Nigerian Used|    196345|      3300|  Petrol|Automatic| 3432000|     SUV|7550.400000000001|\n",
      "|       Toyota|2007|Nigerian Used|    213548|      3500|  Petrol|Automatic| 3328000|     SUV|           7321.6|\n",
      "|       Toyota|2009|Nigerian Used|     94618|      3500|  Petrol|Automatic| 4725000|     SUV|          10395.0|\n",
      "+-------------+----+-------------+----------+----------+--------+---------+--------+--------+-----------------+\n",
      "only showing top 20 rows\n",
      "\n"
     ]
    }
   ],
   "source": [
    "df_pyspark_nig.show()"
   ]
  },
  {
   "cell_type": "code",
   "execution_count": null,
   "id": "cf93a7b6",
   "metadata": {},
   "outputs": [],
   "source": []
  },
  {
   "cell_type": "code",
   "execution_count": null,
   "id": "c5b3777d",
   "metadata": {},
   "outputs": [],
   "source": []
  },
  {
   "cell_type": "code",
   "execution_count": null,
   "id": "eb519e79",
   "metadata": {},
   "outputs": [],
   "source": []
  },
  {
   "cell_type": "code",
   "execution_count": null,
   "id": "569f533a",
   "metadata": {},
   "outputs": [],
   "source": []
  },
  {
   "cell_type": "code",
   "execution_count": null,
   "id": "a44e0ddf",
   "metadata": {},
   "outputs": [],
   "source": []
  },
  {
   "cell_type": "code",
   "execution_count": null,
   "id": "3ebaaffd",
   "metadata": {},
   "outputs": [],
   "source": []
  },
  {
   "cell_type": "code",
   "execution_count": null,
   "id": "9fa4a2ff",
   "metadata": {},
   "outputs": [],
   "source": []
  },
  {
   "cell_type": "code",
   "execution_count": null,
   "id": "bd232e4b",
   "metadata": {},
   "outputs": [],
   "source": []
  },
  {
   "cell_type": "code",
   "execution_count": null,
   "id": "cccc4297",
   "metadata": {},
   "outputs": [],
   "source": []
  },
  {
   "cell_type": "code",
   "execution_count": null,
   "id": "21962c24",
   "metadata": {},
   "outputs": [],
   "source": [
    "# -> https://pl.seequality.net/pyspark-cheatsheet-with-comparison-to-sql/ take info from it and put it, then go to my courses from job\n",
    "# and use these functions from this course here\n",
    "\n",
    "#put brand year and money usd, then select most expensive cars, then doing windows partition and take the first place ,\n",
    "# then make unuion from all dataframe with one\n",
    "# adding to state countries and more information to usa by join etc\n",
    "# adding the country of the production of brand (by join and so on)\n",
    "# using all functions and transformation (advanced) from my links\n",
    "# using case when or other functions to translate into english!\n",
    "# using apply map operation\n",
    "# using advanced sql functions windows frame and so on here\n",
    "#Using loop over dataframe / transform / and apply\n"
   ]
  }
 ],
 "metadata": {
  "kernelspec": {
   "display_name": "Python 3 (ipykernel)",
   "language": "python",
   "name": "python3"
  },
  "language_info": {
   "codemirror_mode": {
    "name": "ipython",
    "version": 3
   },
   "file_extension": ".py",
   "mimetype": "text/x-python",
   "name": "python",
   "nbconvert_exporter": "python",
   "pygments_lexer": "ipython3",
   "version": "3.9.12"
  }
 },
 "nbformat": 4,
 "nbformat_minor": 5
}
